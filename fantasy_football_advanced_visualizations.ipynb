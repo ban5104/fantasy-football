{
 "cells": [
  {
   "cell_type": "markdown",
   "metadata": {},
   "source": [
    "# Fantasy Football Advanced Visualizations\n",
    "\n",
    "This notebook implements 4 core advanced visualizations for fantasy football draft decision-making:\n",
    "\n",
    "1. **VBD Bar Chart with Delta Overlays** - Horizontal bars showing VBD with red overlay showing value loss if you wait\n",
    "2. **Availability Sparkline Grid** - Grid of mini probability charts for quick scanning (4x5 grid)\n",
    "3. **Decision Score Gauges** - Plotly gauge charts showing 0-100 decision scores for top players\n",
    "4. **Position Scarcity Thermometers** - Vertical bars for each position showing remaining elite players\n",
    "\n",
    "Each visualization is designed to provide immediate actionable insights for draft decisions."
   ]
  },
  {
   "cell_type": "code",
   "execution_count": 1,
   "metadata": {},
   "outputs": [
    {
     "name": "stdout",
     "output_type": "stream",
     "text": [
      "✅ All libraries imported successfully\n"
     ]
    }
   ],
   "source": [
    "# Import required libraries\n",
    "import pandas as pd\n",
    "import numpy as np\n",
    "import plotly.express as px\n",
    "import plotly.graph_objects as go\n",
    "from plotly.subplots import make_subplots\n",
    "import matplotlib.pyplot as plt\n",
    "import matplotlib.patches as patches\n",
    "import seaborn as sns\n",
    "from scipy import stats\n",
    "import ipywidgets as widgets\n",
    "from IPython.display import display, clear_output, HTML\n",
    "import warnings\n",
    "warnings.filterwarnings('ignore')\n",
    "\n",
    "# Set plotting styles\n",
    "plt.style.use('default')\n",
    "sns.set_palette(\"husl\")\n",
    "print(\"✅ All libraries imported successfully\")"
   ]
  },
  {
   "cell_type": "markdown",
   "metadata": {},
   "source": [
    "## Data Loading and Processing\n",
    "\n",
    "Load data from existing CSV files and integrate with the 80% ESPN + 20% ADP probability system."
   ]
  },
  {
   "cell_type": "code",
   "execution_count": 2,
   "metadata": {},
   "outputs": [
    {
     "name": "stdout",
     "output_type": "stream",
     "text": [
      "Loading data...\n",
      "ESPN data: 300 players\n",
      "ADP data: 347 players\n",
      "Merged dataset: 300 players\n",
      "Players with ADP data: 252 players\n",
      "\n",
      "✅ Data loaded successfully\n"
     ]
    }
   ],
   "source": [
    "def load_and_merge_ranking_data():\n",
    "    \"\"\"Load ESPN rankings and external ADP data, merge them for probability calculations\"\"\"\n",
    "    \n",
    "    # Load ESPN data (80% weight)\n",
    "    espn_df = pd.read_csv('data/espn_projections_20250814.csv')\n",
    "    \n",
    "    # Load FantasyPros ADP data (20% weight)  \n",
    "    adp_df = pd.read_csv('data/fantasypros_adp_20250815.csv')\n",
    "    \n",
    "    print(f\"ESPN data: {len(espn_df)} players\")\n",
    "    print(f\"ADP data: {len(adp_df)} players\")\n",
    "    \n",
    "    # Standardize player names for matching\n",
    "    def clean_name(name):\n",
    "        return str(name).strip().lower().replace(\"'\", \"\").replace(\".\", \"\")\n",
    "    \n",
    "    espn_df['clean_name'] = espn_df['player_name'].apply(clean_name)\n",
    "    adp_df['clean_name'] = adp_df['PLAYER'].apply(clean_name)\n",
    "    \n",
    "    # Merge ESPN with ADP data\n",
    "    merged_df = espn_df.merge(\n",
    "        adp_df[['clean_name', 'RANK', 'ADP']], \n",
    "        on='clean_name', \n",
    "        how='left'\n",
    "    )\n",
    "    \n",
    "    # Fill missing ADP ranks with ESPN rank + some penalty\n",
    "    merged_df['adp_rank'] = merged_df['RANK'].fillna(merged_df['overall_rank'] + 50)\n",
    "    merged_df['espn_rank'] = merged_df['overall_rank']\n",
    "    \n",
    "    print(f\"Merged dataset: {len(merged_df)} players\")\n",
    "    print(f\"Players with ADP data: {len(merged_df[merged_df['RANK'].notna()])} players\")\n",
    "    \n",
    "    return merged_df[['overall_rank', 'position', 'position_rank', 'player_name', 'team', 'salary_value', 'bye_week', 'espn_rank', 'adp_rank']]\n",
    "\n",
    "def load_vbd_data():\n",
    "    \"\"\"Load custom VBD rankings\"\"\"\n",
    "    return pd.read_csv('draft_cheat_sheet.csv')\n",
    "\n",
    "def compute_softmax_scores(rank_series, tau=5.0):\n",
    "    \"\"\"Convert ranks to softmax scores with temperature tau (lower rank = higher score)\"\"\"\n",
    "    scores = np.exp(-rank_series / tau)\n",
    "    return scores\n",
    "\n",
    "def compute_pick_probabilities(available_df, espn_weight=0.8, adp_weight=0.2, tau_espn=5.0, tau_adp=5.0):\n",
    "    \"\"\"\n",
    "    Compute per-player probability of being picked next using weighted softmax over ESPN and ADP ranks\n",
    "    \"\"\"\n",
    "    if len(available_df) == 0:\n",
    "        return pd.Series(dtype=float)\n",
    "    \n",
    "    # Softmax scores for ESPN and ADP ranks\n",
    "    espn_scores = compute_softmax_scores(available_df['espn_rank'], tau_espn)\n",
    "    adp_scores = compute_softmax_scores(available_df['adp_rank'], tau_adp)\n",
    "    \n",
    "    # Weighted combination (80% ESPN, 20% ADP)\n",
    "    combined_scores = espn_weight * espn_scores + adp_weight * adp_scores\n",
    "    \n",
    "    # Normalize to sum to 1 across available players\n",
    "    probs = combined_scores / combined_scores.sum()\n",
    "    return probs\n",
    "\n",
    "def probability_gone_before_next_pick(available_df, player_name, picks_until_next_turn):\n",
    "    \"\"\"\n",
    "    Compute probability a player is gone before your next turn using discrete survival calculation\n",
    "    \"\"\"\n",
    "    if picks_until_next_turn <= 0:\n",
    "        return 0.0\n",
    "    \n",
    "    survival_prob = 1.0\n",
    "    current_available = available_df.copy()\n",
    "    \n",
    "    # Simulate each pick until our next turn\n",
    "    for pick_step in range(picks_until_next_turn):\n",
    "        if len(current_available) == 0:\n",
    "            break\n",
    "            \n",
    "        # Get probabilities for current available players\n",
    "        pick_probs = compute_pick_probabilities(current_available)\n",
    "        \n",
    "        # Find probability our target player gets picked this round\n",
    "        player_mask = current_available['player_name'] == player_name\n",
    "        if not player_mask.any():\n",
    "            # Player already gone\n",
    "            break\n",
    "            \n",
    "        p_pick_now = pick_probs[player_mask].iloc[0] if player_mask.any() else 0.0\n",
    "        \n",
    "        # Update survival probability\n",
    "        survival_prob *= (1 - p_pick_now)\n",
    "        \n",
    "        # For simulation: remove the most likely pick (simplified approach)\n",
    "        most_likely_idx = pick_probs.idxmax()\n",
    "        current_available = current_available.drop(most_likely_idx)\n",
    "    \n",
    "    prob_gone = 1 - survival_prob\n",
    "    return min(1.0, max(0.0, prob_gone))\n",
    "\n",
    "# Load and prepare data\n",
    "print(\"Loading data...\")\n",
    "ranking_df = load_and_merge_ranking_data()\n",
    "vbd_data = load_vbd_data()\n",
    "\n",
    "print(\"\\n✅ Data loaded successfully\")"
   ]
  },
  {
   "cell_type": "code",
   "execution_count": 3,
   "metadata": {},
   "outputs": [
    {
     "name": "stdout",
     "output_type": "stream",
     "text": [
      "Enhanced data calculated for 300 available players\n",
      "Current pick: 1 | Next pick: 8 (in 7 picks)\n",
      "\n",
      "✅ Enhanced metrics calculated\n",
      "Position scarcity: {'QB': 5, 'RB': 16, 'WR': 9, 'TE': 3}\n"
     ]
    }
   ],
   "source": [
    "def calculate_enhanced_metrics(ranking_df, vbd_df, my_picks=None, drafted_players=None, current_pick=1):\n",
    "    \"\"\"Calculate enhanced metrics using new 80% ESPN + 20% ADP probability system\"\"\"\n",
    "    if my_picks is None:\n",
    "        my_picks = [8, 17, 32, 41, 56, 65, 80, 89]  # Default pick positions\n",
    "    if drafted_players is None:\n",
    "        drafted_players = set()\n",
    "    \n",
    "    # Get next pick logic\n",
    "    next_pick = None\n",
    "    picks_to_next = None\n",
    "    pick_after_next = None\n",
    "    \n",
    "    for pick in my_picks:\n",
    "        if pick >= current_pick:\n",
    "            next_pick = pick\n",
    "            picks_to_next = pick - current_pick\n",
    "            remaining_picks = [p for p in my_picks if p > next_pick]\n",
    "            pick_after_next = remaining_picks[0] if remaining_picks else None\n",
    "            break\n",
    "    \n",
    "    # Filter out drafted players from ranking data\n",
    "    available_ranking_df = ranking_df[~ranking_df['player_name'].isin(drafted_players)].copy()\n",
    "    \n",
    "    # Merge with VBD data for VBD scores\n",
    "    vbd_lookup = dict(zip(vbd_df['Player'], vbd_df['Custom_VBD']))\n",
    "    available_ranking_df['vbd_score'] = available_ranking_df['player_name'].map(vbd_lookup)\n",
    "    available_ranking_df['vbd_score'] = available_ranking_df['vbd_score'].fillna(0)\n",
    "    \n",
    "    enhanced_data = []\n",
    "    \n",
    "    # Position scarcity data\n",
    "    position_scarcity = {}\n",
    "    for pos in ['QB', 'RB', 'WR', 'TE']:\n",
    "        pos_players = available_ranking_df[available_ranking_df['position'] == pos]\n",
    "        elite_count = len(pos_players[pos_players['vbd_score'] >= 40])\n",
    "        position_scarcity[pos] = elite_count\n",
    "    \n",
    "    for _, player in available_ranking_df.iterrows():\n",
    "        player_name = player['player_name']\n",
    "        espn_rank = player['espn_rank']\n",
    "        adp_rank = player['adp_rank']\n",
    "        vbd_score = player['vbd_score']\n",
    "        \n",
    "        # Calculate probabilities using discrete survival method\n",
    "        prob_gone_by_next = probability_gone_before_next_pick(\n",
    "            available_ranking_df, player_name, picks_to_next\n",
    "        ) if picks_to_next > 0 else 0.0\n",
    "        \n",
    "        prob_available_at_next = 1 - prob_gone_by_next\n",
    "        \n",
    "        # Calculate probability gone by pick after next\n",
    "        picks_to_after = (pick_after_next - current_pick) if pick_after_next else 0\n",
    "        prob_gone_by_after = probability_gone_before_next_pick(\n",
    "            available_ranking_df, player_name, picks_to_after\n",
    "        ) if picks_to_after > 0 else 0.0\n",
    "        \n",
    "        prob_available_at_after = 1 - prob_gone_by_after\n",
    "        \n",
    "        # Decision score using VBD × availability probability\n",
    "        decision_score = vbd_score * prob_available_at_next\n",
    "        \n",
    "        # Value loss if wait (for delta overlay)\n",
    "        value_loss_if_wait = vbd_score * prob_gone_by_next\n",
    "        \n",
    "        # Opportunity cost (difference from next best at position)\n",
    "        pos_players = available_ranking_df[available_ranking_df['position'] == player['position']]\n",
    "        better_players = pos_players[pos_players['vbd_score'] > vbd_score].sort_values('vbd_score', ascending=False)\n",
    "        if len(better_players) > 0:\n",
    "            next_best_vbd = better_players.iloc[0]['vbd_score']\n",
    "            opportunity_cost = max(0, next_best_vbd - vbd_score)\n",
    "        else:\n",
    "            opportunity_cost = 0\n",
    "        \n",
    "        # Decision logic\n",
    "        if prob_available_at_next > 0.8:\n",
    "            decision_notes = f\"SAFE - {prob_available_at_next:.0%} chance available at pick {next_pick}\"\n",
    "        elif prob_available_at_after and prob_available_at_after > 0.7:\n",
    "            decision_notes = f\"WAIT - Target at pick {pick_after_next}\"\n",
    "        elif prob_available_at_next > 0.3:\n",
    "            decision_notes = f\"DRAFT NOW - Only {prob_available_at_next:.0%} chance available later\"\n",
    "        else:\n",
    "            decision_notes = f\"REACH - Must draft at pick {next_pick} to secure\"\n",
    "        \n",
    "        # Add VBD tier\n",
    "        if vbd_score >= 100:\n",
    "            decision_notes = \"ELITE - \" + decision_notes\n",
    "        elif vbd_score >= 70:\n",
    "            decision_notes = \"STRONG - \" + decision_notes\n",
    "        elif vbd_score >= 40:\n",
    "            decision_notes = \"SOLID - \" + decision_notes\n",
    "        else:\n",
    "            decision_notes = \"DEPTH - \" + decision_notes\n",
    "        \n",
    "        enhanced_data.append({\n",
    "            'player_name': player_name,\n",
    "            'position': player['position'],\n",
    "            'position_rank': player['position_rank'],\n",
    "            'espn_rank': int(espn_rank),\n",
    "            'adp_rank': int(adp_rank),\n",
    "            'vbd_score': vbd_score,\n",
    "            'team': player['team'],\n",
    "            'bye_week': player['bye_week'],\n",
    "            'current_pick': current_pick,\n",
    "            'next_pick': next_pick,\n",
    "            'picks_to_next': picks_to_next,\n",
    "            'pick_after_next': pick_after_next,\n",
    "            'prob_available_at_next': prob_available_at_next,\n",
    "            'prob_available_at_after': prob_available_at_after,\n",
    "            'decision_score': decision_score,\n",
    "            'value_loss_if_wait': value_loss_if_wait,\n",
    "            'opportunity_cost': opportunity_cost,\n",
    "            'decision_notes': decision_notes,\n",
    "            'position_scarcity': position_scarcity.get(player['position'], 0)\n",
    "        })\n",
    "    \n",
    "    enhanced_df = pd.DataFrame(enhanced_data)\n",
    "    \n",
    "    print(f\"Enhanced data calculated for {len(enhanced_df)} available players\")\n",
    "    print(f\"Current pick: {current_pick} | Next pick: {next_pick} (in {picks_to_next} picks)\")\n",
    "    \n",
    "    return enhanced_df, position_scarcity\n",
    "\n",
    "# Calculate enhanced metrics\n",
    "my_draft_picks = [8, 17, 32, 41, 56, 65, 80, 89]\n",
    "current_draft_pick = 1\n",
    "drafted_players_list = set()  # Empty for now\n",
    "\n",
    "enhanced_df, position_scarcity = calculate_enhanced_metrics(\n",
    "    ranking_df, vbd_data, \n",
    "    my_picks=my_draft_picks, \n",
    "    current_pick=current_draft_pick,\n",
    "    drafted_players=drafted_players_list\n",
    ")\n",
    "\n",
    "print(f\"\\n✅ Enhanced metrics calculated\")\n",
    "print(f\"Position scarcity: {position_scarcity}\")"
   ]
  },
  {
   "cell_type": "markdown",
   "metadata": {},
   "source": [
    "## Visualization 1: VBD Bar Chart with Delta Overlays\n",
    "\n",
    "Horizontal bars showing VBD scores with red overlay indicating value loss if you wait until next pick."
   ]
  },
  {
   "cell_type": "code",
   "execution_count": 4,
   "metadata": {},
   "outputs": [
    {
     "data": {
      "application/vnd.plotly.v1+json": {
       "config": {
        "plotlyServerURL": "https://plot.ly"
       },
       "data": [
        {
         "marker": {
          "color": "rgba(26, 118, 255, 0.8)"
         },
         "name": "VBD Score",
         "orientation": "h",
         "text": [
          "131.3",
          "127.3",
          "125.0",
          "120.6",
          "96.9",
          "95.8",
          "92.7",
          "91.7",
          "88.3",
          "88.2",
          "85.4",
          "79.8",
          "76.1",
          "74.4",
          "71.9"
         ],
         "textfont": {
          "color": "white",
          "size": 10
         },
         "textposition": "inside",
         "type": "bar",
         "x": {
          "bdata": "mZmZmZlpYEAyMzMzM9NfQP3/////P19AaGZmZmYmXkCamZmZmTlYQDIzMzMz81dAzczMzMwsV0DQzMzMzOxWQDQzMzMzE1ZA0MzMzMwMVkCamZmZmVlVQDIzMzMz81NAZmZmZmYGU0CamZmZmZlSQJqZmZmZ+VFA",
          "dtype": "f8"
         },
         "y": [
          "Saquon Barkley",
          "Bijan Robinson",
          "Jahmyr Gibbs",
          "Ja'Marr Chase",
          "Christian McCaffrey",
          "Derrick Henry",
          "De'Von Achane",
          "Lamar Jackson",
          "Justin Jefferson",
          "Josh Allen",
          "Brock Bowers",
          "Josh Jacobs",
          "Ashton Jeanty",
          "CeeDee Lamb",
          "Trey McBride"
         ]
        },
        {
         "marker": {
          "color": "rgba(255, 65, 54, 0.9)"
         },
         "name": "Value Loss If Wait",
         "orientation": "h",
         "text": [
          "-60.7",
          "-38.5",
          "-63.4",
          "-21.9",
          "-49.2",
          "-27.2",
          "-8.6",
          "-1.1",
          "-32.3",
          "-1.3",
          "-5.8",
          "-5.5",
          "-20.4",
          "-39.1",
          "-2.8"
         ],
         "textfont": {
          "color": "white",
          "family": "Arial Black",
          "size": 9
         },
         "textposition": "inside",
         "type": "bar",
         "x": {
          "bdata": "1nB2DhRYTkDiX8E+n0VDQN/Df0lHtk9A/KCnA3vcNUBuz8rfV5hIQGoyAaNIOTtAEfdc4vpAIUDWGFI8axXyP12hSYcbJUBA4jsX8Vg49T+PJ0tZSAwXQD6pMuvpCxZAQcXnWEZcNED2F19M5oxDQJYvD0O6kQZA",
          "dtype": "f8"
         },
         "y": [
          "Saquon Barkley",
          "Bijan Robinson",
          "Jahmyr Gibbs",
          "Ja'Marr Chase",
          "Christian McCaffrey",
          "Derrick Henry",
          "De'Von Achane",
          "Lamar Jackson",
          "Justin Jefferson",
          "Josh Allen",
          "Brock Bowers",
          "Josh Jacobs",
          "Ashton Jeanty",
          "CeeDee Lamb",
          "Trey McBride"
         ]
        }
       ],
       "layout": {
        "annotations": [
         {
          "font": {
           "color": "gray",
           "size": 12
          },
          "showarrow": false,
          "text": "Red overlay shows expected value loss if player is drafted by others before your next pick",
          "x": 0.5,
          "xanchor": "center",
          "xref": "paper",
          "y": -0.1,
          "yref": "paper"
         }
        ],
        "barmode": "overlay",
        "height": 400,
        "legend": {
         "orientation": "h",
         "x": 1,
         "xanchor": "right",
         "y": 1.02,
         "yanchor": "bottom"
        },
        "margin": {
         "b": 50,
         "l": 150,
         "r": 50,
         "t": 80
        },
        "template": {
         "data": {
          "bar": [
           {
            "error_x": {
             "color": "#2a3f5f"
            },
            "error_y": {
             "color": "#2a3f5f"
            },
            "marker": {
             "line": {
              "color": "white",
              "width": 0.5
             },
             "pattern": {
              "fillmode": "overlay",
              "size": 10,
              "solidity": 0.2
             }
            },
            "type": "bar"
           }
          ],
          "barpolar": [
           {
            "marker": {
             "line": {
              "color": "white",
              "width": 0.5
             },
             "pattern": {
              "fillmode": "overlay",
              "size": 10,
              "solidity": 0.2
             }
            },
            "type": "barpolar"
           }
          ],
          "carpet": [
           {
            "aaxis": {
             "endlinecolor": "#2a3f5f",
             "gridcolor": "#C8D4E3",
             "linecolor": "#C8D4E3",
             "minorgridcolor": "#C8D4E3",
             "startlinecolor": "#2a3f5f"
            },
            "baxis": {
             "endlinecolor": "#2a3f5f",
             "gridcolor": "#C8D4E3",
             "linecolor": "#C8D4E3",
             "minorgridcolor": "#C8D4E3",
             "startlinecolor": "#2a3f5f"
            },
            "type": "carpet"
           }
          ],
          "choropleth": [
           {
            "colorbar": {
             "outlinewidth": 0,
             "ticks": ""
            },
            "type": "choropleth"
           }
          ],
          "contour": [
           {
            "colorbar": {
             "outlinewidth": 0,
             "ticks": ""
            },
            "colorscale": [
             [
              0,
              "#0d0887"
             ],
             [
              0.1111111111111111,
              "#46039f"
             ],
             [
              0.2222222222222222,
              "#7201a8"
             ],
             [
              0.3333333333333333,
              "#9c179e"
             ],
             [
              0.4444444444444444,
              "#bd3786"
             ],
             [
              0.5555555555555556,
              "#d8576b"
             ],
             [
              0.6666666666666666,
              "#ed7953"
             ],
             [
              0.7777777777777778,
              "#fb9f3a"
             ],
             [
              0.8888888888888888,
              "#fdca26"
             ],
             [
              1,
              "#f0f921"
             ]
            ],
            "type": "contour"
           }
          ],
          "contourcarpet": [
           {
            "colorbar": {
             "outlinewidth": 0,
             "ticks": ""
            },
            "type": "contourcarpet"
           }
          ],
          "heatmap": [
           {
            "colorbar": {
             "outlinewidth": 0,
             "ticks": ""
            },
            "colorscale": [
             [
              0,
              "#0d0887"
             ],
             [
              0.1111111111111111,
              "#46039f"
             ],
             [
              0.2222222222222222,
              "#7201a8"
             ],
             [
              0.3333333333333333,
              "#9c179e"
             ],
             [
              0.4444444444444444,
              "#bd3786"
             ],
             [
              0.5555555555555556,
              "#d8576b"
             ],
             [
              0.6666666666666666,
              "#ed7953"
             ],
             [
              0.7777777777777778,
              "#fb9f3a"
             ],
             [
              0.8888888888888888,
              "#fdca26"
             ],
             [
              1,
              "#f0f921"
             ]
            ],
            "type": "heatmap"
           }
          ],
          "histogram": [
           {
            "marker": {
             "pattern": {
              "fillmode": "overlay",
              "size": 10,
              "solidity": 0.2
             }
            },
            "type": "histogram"
           }
          ],
          "histogram2d": [
           {
            "colorbar": {
             "outlinewidth": 0,
             "ticks": ""
            },
            "colorscale": [
             [
              0,
              "#0d0887"
             ],
             [
              0.1111111111111111,
              "#46039f"
             ],
             [
              0.2222222222222222,
              "#7201a8"
             ],
             [
              0.3333333333333333,
              "#9c179e"
             ],
             [
              0.4444444444444444,
              "#bd3786"
             ],
             [
              0.5555555555555556,
              "#d8576b"
             ],
             [
              0.6666666666666666,
              "#ed7953"
             ],
             [
              0.7777777777777778,
              "#fb9f3a"
             ],
             [
              0.8888888888888888,
              "#fdca26"
             ],
             [
              1,
              "#f0f921"
             ]
            ],
            "type": "histogram2d"
           }
          ],
          "histogram2dcontour": [
           {
            "colorbar": {
             "outlinewidth": 0,
             "ticks": ""
            },
            "colorscale": [
             [
              0,
              "#0d0887"
             ],
             [
              0.1111111111111111,
              "#46039f"
             ],
             [
              0.2222222222222222,
              "#7201a8"
             ],
             [
              0.3333333333333333,
              "#9c179e"
             ],
             [
              0.4444444444444444,
              "#bd3786"
             ],
             [
              0.5555555555555556,
              "#d8576b"
             ],
             [
              0.6666666666666666,
              "#ed7953"
             ],
             [
              0.7777777777777778,
              "#fb9f3a"
             ],
             [
              0.8888888888888888,
              "#fdca26"
             ],
             [
              1,
              "#f0f921"
             ]
            ],
            "type": "histogram2dcontour"
           }
          ],
          "mesh3d": [
           {
            "colorbar": {
             "outlinewidth": 0,
             "ticks": ""
            },
            "type": "mesh3d"
           }
          ],
          "parcoords": [
           {
            "line": {
             "colorbar": {
              "outlinewidth": 0,
              "ticks": ""
             }
            },
            "type": "parcoords"
           }
          ],
          "pie": [
           {
            "automargin": true,
            "type": "pie"
           }
          ],
          "scatter": [
           {
            "fillpattern": {
             "fillmode": "overlay",
             "size": 10,
             "solidity": 0.2
            },
            "type": "scatter"
           }
          ],
          "scatter3d": [
           {
            "line": {
             "colorbar": {
              "outlinewidth": 0,
              "ticks": ""
             }
            },
            "marker": {
             "colorbar": {
              "outlinewidth": 0,
              "ticks": ""
             }
            },
            "type": "scatter3d"
           }
          ],
          "scattercarpet": [
           {
            "marker": {
             "colorbar": {
              "outlinewidth": 0,
              "ticks": ""
             }
            },
            "type": "scattercarpet"
           }
          ],
          "scattergeo": [
           {
            "marker": {
             "colorbar": {
              "outlinewidth": 0,
              "ticks": ""
             }
            },
            "type": "scattergeo"
           }
          ],
          "scattergl": [
           {
            "marker": {
             "colorbar": {
              "outlinewidth": 0,
              "ticks": ""
             }
            },
            "type": "scattergl"
           }
          ],
          "scattermap": [
           {
            "marker": {
             "colorbar": {
              "outlinewidth": 0,
              "ticks": ""
             }
            },
            "type": "scattermap"
           }
          ],
          "scattermapbox": [
           {
            "marker": {
             "colorbar": {
              "outlinewidth": 0,
              "ticks": ""
             }
            },
            "type": "scattermapbox"
           }
          ],
          "scatterpolar": [
           {
            "marker": {
             "colorbar": {
              "outlinewidth": 0,
              "ticks": ""
             }
            },
            "type": "scatterpolar"
           }
          ],
          "scatterpolargl": [
           {
            "marker": {
             "colorbar": {
              "outlinewidth": 0,
              "ticks": ""
             }
            },
            "type": "scatterpolargl"
           }
          ],
          "scatterternary": [
           {
            "marker": {
             "colorbar": {
              "outlinewidth": 0,
              "ticks": ""
             }
            },
            "type": "scatterternary"
           }
          ],
          "surface": [
           {
            "colorbar": {
             "outlinewidth": 0,
             "ticks": ""
            },
            "colorscale": [
             [
              0,
              "#0d0887"
             ],
             [
              0.1111111111111111,
              "#46039f"
             ],
             [
              0.2222222222222222,
              "#7201a8"
             ],
             [
              0.3333333333333333,
              "#9c179e"
             ],
             [
              0.4444444444444444,
              "#bd3786"
             ],
             [
              0.5555555555555556,
              "#d8576b"
             ],
             [
              0.6666666666666666,
              "#ed7953"
             ],
             [
              0.7777777777777778,
              "#fb9f3a"
             ],
             [
              0.8888888888888888,
              "#fdca26"
             ],
             [
              1,
              "#f0f921"
             ]
            ],
            "type": "surface"
           }
          ],
          "table": [
           {
            "cells": {
             "fill": {
              "color": "#EBF0F8"
             },
             "line": {
              "color": "white"
             }
            },
            "header": {
             "fill": {
              "color": "#C8D4E3"
             },
             "line": {
              "color": "white"
             }
            },
            "type": "table"
           }
          ]
         },
         "layout": {
          "annotationdefaults": {
           "arrowcolor": "#2a3f5f",
           "arrowhead": 0,
           "arrowwidth": 1
          },
          "autotypenumbers": "strict",
          "coloraxis": {
           "colorbar": {
            "outlinewidth": 0,
            "ticks": ""
           }
          },
          "colorscale": {
           "diverging": [
            [
             0,
             "#8e0152"
            ],
            [
             0.1,
             "#c51b7d"
            ],
            [
             0.2,
             "#de77ae"
            ],
            [
             0.3,
             "#f1b6da"
            ],
            [
             0.4,
             "#fde0ef"
            ],
            [
             0.5,
             "#f7f7f7"
            ],
            [
             0.6,
             "#e6f5d0"
            ],
            [
             0.7,
             "#b8e186"
            ],
            [
             0.8,
             "#7fbc41"
            ],
            [
             0.9,
             "#4d9221"
            ],
            [
             1,
             "#276419"
            ]
           ],
           "sequential": [
            [
             0,
             "#0d0887"
            ],
            [
             0.1111111111111111,
             "#46039f"
            ],
            [
             0.2222222222222222,
             "#7201a8"
            ],
            [
             0.3333333333333333,
             "#9c179e"
            ],
            [
             0.4444444444444444,
             "#bd3786"
            ],
            [
             0.5555555555555556,
             "#d8576b"
            ],
            [
             0.6666666666666666,
             "#ed7953"
            ],
            [
             0.7777777777777778,
             "#fb9f3a"
            ],
            [
             0.8888888888888888,
             "#fdca26"
            ],
            [
             1,
             "#f0f921"
            ]
           ],
           "sequentialminus": [
            [
             0,
             "#0d0887"
            ],
            [
             0.1111111111111111,
             "#46039f"
            ],
            [
             0.2222222222222222,
             "#7201a8"
            ],
            [
             0.3333333333333333,
             "#9c179e"
            ],
            [
             0.4444444444444444,
             "#bd3786"
            ],
            [
             0.5555555555555556,
             "#d8576b"
            ],
            [
             0.6666666666666666,
             "#ed7953"
            ],
            [
             0.7777777777777778,
             "#fb9f3a"
            ],
            [
             0.8888888888888888,
             "#fdca26"
            ],
            [
             1,
             "#f0f921"
            ]
           ]
          },
          "colorway": [
           "#636efa",
           "#EF553B",
           "#00cc96",
           "#ab63fa",
           "#FFA15A",
           "#19d3f3",
           "#FF6692",
           "#B6E880",
           "#FF97FF",
           "#FECB52"
          ],
          "font": {
           "color": "#2a3f5f"
          },
          "geo": {
           "bgcolor": "white",
           "lakecolor": "white",
           "landcolor": "white",
           "showlakes": true,
           "showland": true,
           "subunitcolor": "#C8D4E3"
          },
          "hoverlabel": {
           "align": "left"
          },
          "hovermode": "closest",
          "mapbox": {
           "style": "light"
          },
          "paper_bgcolor": "white",
          "plot_bgcolor": "white",
          "polar": {
           "angularaxis": {
            "gridcolor": "#EBF0F8",
            "linecolor": "#EBF0F8",
            "ticks": ""
           },
           "bgcolor": "white",
           "radialaxis": {
            "gridcolor": "#EBF0F8",
            "linecolor": "#EBF0F8",
            "ticks": ""
           }
          },
          "scene": {
           "xaxis": {
            "backgroundcolor": "white",
            "gridcolor": "#DFE8F3",
            "gridwidth": 2,
            "linecolor": "#EBF0F8",
            "showbackground": true,
            "ticks": "",
            "zerolinecolor": "#EBF0F8"
           },
           "yaxis": {
            "backgroundcolor": "white",
            "gridcolor": "#DFE8F3",
            "gridwidth": 2,
            "linecolor": "#EBF0F8",
            "showbackground": true,
            "ticks": "",
            "zerolinecolor": "#EBF0F8"
           },
           "zaxis": {
            "backgroundcolor": "white",
            "gridcolor": "#DFE8F3",
            "gridwidth": 2,
            "linecolor": "#EBF0F8",
            "showbackground": true,
            "ticks": "",
            "zerolinecolor": "#EBF0F8"
           }
          },
          "shapedefaults": {
           "line": {
            "color": "#2a3f5f"
           }
          },
          "ternary": {
           "aaxis": {
            "gridcolor": "#DFE8F3",
            "linecolor": "#A2B1C6",
            "ticks": ""
           },
           "baxis": {
            "gridcolor": "#DFE8F3",
            "linecolor": "#A2B1C6",
            "ticks": ""
           },
           "bgcolor": "white",
           "caxis": {
            "gridcolor": "#DFE8F3",
            "linecolor": "#A2B1C6",
            "ticks": ""
           }
          },
          "title": {
           "x": 0.05
          },
          "xaxis": {
           "automargin": true,
           "gridcolor": "#EBF0F8",
           "linecolor": "#EBF0F8",
           "ticks": "",
           "title": {
            "standoff": 15
           },
           "zerolinecolor": "#EBF0F8",
           "zerolinewidth": 2
          },
          "yaxis": {
           "automargin": true,
           "gridcolor": "#EBF0F8",
           "linecolor": "#EBF0F8",
           "ticks": "",
           "title": {
            "standoff": 15
           },
           "zerolinecolor": "#EBF0F8",
           "zerolinewidth": 2
          }
         }
        },
        "title": {
         "font": {
          "family": "Arial Black",
          "size": 16
         },
         "text": "VBD Scores with Value Loss Risk (Top 15 Players)",
         "x": 0.5,
         "xanchor": "center"
        },
        "xaxis": {
         "title": {
          "text": "VBD Score / Value Loss"
         }
        },
        "yaxis": {
         "title": {
          "text": "Player"
         }
        }
       }
      }
     },
     "metadata": {},
     "output_type": "display_data"
    },
    {
     "name": "stdout",
     "output_type": "stream",
     "text": [
      "📊 VBD Bar Chart with Delta Overlays created\n",
      "Blue bars = Total VBD value | Red overlay = Value at risk if you wait\n"
     ]
    }
   ],
   "source": [
    "def create_vbd_bar_chart_with_deltas(enhanced_df, top_n=15):\n",
    "    \"\"\"\n",
    "    Create horizontal bar chart showing VBD scores with red overlay showing value loss if you wait\n",
    "    \"\"\"\n",
    "    # Get top players by VBD score\n",
    "    df_viz = enhanced_df.nlargest(top_n, 'vbd_score').copy()\n",
    "    \n",
    "    # Create figure with plotly\n",
    "    fig = go.Figure()\n",
    "    \n",
    "    # Add VBD score bars (main bars)\n",
    "    fig.add_trace(go.Bar(\n",
    "        y=df_viz['player_name'],\n",
    "        x=df_viz['vbd_score'],\n",
    "        name='VBD Score',\n",
    "        orientation='h',\n",
    "        marker_color='rgba(26, 118, 255, 0.8)',\n",
    "        text=[f\"{score:.1f}\" for score in df_viz['vbd_score']],\n",
    "        textposition='inside',\n",
    "        textfont=dict(color='white', size=10)\n",
    "    ))\n",
    "    \n",
    "    # Add value loss overlay (red bars showing potential loss)\n",
    "    fig.add_trace(go.Bar(\n",
    "        y=df_viz['player_name'],\n",
    "        x=df_viz['value_loss_if_wait'],\n",
    "        name='Value Loss If Wait',\n",
    "        orientation='h',\n",
    "        marker_color='rgba(255, 65, 54, 0.9)',\n",
    "        text=[f\"-{loss:.1f}\" for loss in df_viz['value_loss_if_wait']],\n",
    "        textposition='inside',\n",
    "        textfont=dict(color='white', size=9, family='Arial Black')\n",
    "    ))\n",
    "    \n",
    "    # Update layout\n",
    "    fig.update_layout(\n",
    "        title={\n",
    "            'text': f\"VBD Scores with Value Loss Risk (Top {top_n} Players)\",\n",
    "            'x': 0.5,\n",
    "            'xanchor': 'center',\n",
    "            'font': {'size': 16, 'family': 'Arial Black'}\n",
    "        },\n",
    "        xaxis_title=\"VBD Score / Value Loss\",\n",
    "        yaxis_title=\"Player\",\n",
    "        height=max(400, top_n * 25),\n",
    "        barmode='overlay',\n",
    "        legend=dict(\n",
    "            orientation=\"h\",\n",
    "            yanchor=\"bottom\",\n",
    "            y=1.02,\n",
    "            xanchor=\"right\",\n",
    "            x=1\n",
    "        ),\n",
    "        template='plotly_white',\n",
    "        margin=dict(l=150, r=50, t=80, b=50)\n",
    "    )\n",
    "    \n",
    "    # Add annotations explaining the overlay\n",
    "    fig.add_annotation(\n",
    "        text=\"Red overlay shows expected value loss if player is drafted by others before your next pick\",\n",
    "        xref=\"paper\", yref=\"paper\",\n",
    "        x=0.5, y=-0.1,\n",
    "        showarrow=False,\n",
    "        font=dict(size=12, color=\"gray\"),\n",
    "        xanchor='center'\n",
    "    )\n",
    "    \n",
    "    return fig\n",
    "\n",
    "# Create and display the VBD bar chart with deltas\n",
    "vbd_delta_chart = create_vbd_bar_chart_with_deltas(enhanced_df, top_n=15)\n",
    "vbd_delta_chart.show()\n",
    "\n",
    "print(\"📊 VBD Bar Chart with Delta Overlays created\")\n",
    "print(\"Blue bars = Total VBD value | Red overlay = Value at risk if you wait\")"
   ]
  },
  {
   "cell_type": "markdown",
   "metadata": {},
   "source": [
    "## Visualization 2: Availability Sparkline Grid\n",
    "\n",
    "Grid of mini probability charts (4x5 grid) showing availability probability across draft picks for quick scanning."
   ]
  },
  {
   "cell_type": "code",
   "execution_count": 5,
   "metadata": {},
   "outputs": [
    {
     "data": {
      "application/vnd.plotly.v1+json": {
       "config": {
        "plotlyServerURL": "https://plot.ly"
       },
       "data": [
        {
         "line": {
          "color": "#1f77b4",
          "width": 2
         },
         "marker": {
          "size": 3
         },
         "mode": "lines+markers",
         "name": "Saquon Barkley",
         "showlegend": false,
         "type": "scatter",
         "x": [
          1,
          2,
          3,
          4,
          5,
          6,
          7,
          8,
          9,
          10,
          11,
          12,
          13,
          14,
          15,
          16,
          17,
          18,
          19,
          20,
          21,
          22,
          23,
          24
         ],
         "xaxis": "x",
         "y": [
          0.8413447460685429,
          0.7475074624530771,
          0.6305586598182363,
          0.5,
          0.36944134018176367,
          0.2524925375469229,
          0.15865525393145707,
          0.09121121972586788,
          0.047790352272814696,
          0.02275013194817921,
          0.009815328628645315,
          0.003830380567589775,
          0.0013498980316301035,
          0.0004290603331967846,
          0.00012286638996517052,
          0.00003167124183311998,
          0.000007343423836903007,
          0.0000015306267365788884,
          2.866515719235352e-7,
          4.8213033676525185e-8,
          7.280110070340129e-9,
          9.865877004244794e-10,
          1.1996026394456294e-10,
          1.308397834520747e-11
         ],
         "yaxis": "y"
        },
        {
         "marker": {
          "color": "red",
          "size": 8,
          "symbol": "diamond"
         },
         "mode": "markers",
         "name": "Your Next Pick",
         "showlegend": true,
         "type": "scatter",
         "x": [
          8
         ],
         "xaxis": "x",
         "y": [
          0.09121121972586788
         ],
         "yaxis": "y"
        },
        {
         "line": {
          "color": "#1f77b4",
          "width": 2
         },
         "marker": {
          "size": 3
         },
         "mode": "lines+markers",
         "name": "Bijan Robinson",
         "showlegend": false,
         "type": "scatter",
         "x": [
          1,
          2,
          3,
          4,
          5,
          6,
          7,
          8,
          9,
          10,
          11,
          12,
          13,
          14,
          15,
          16,
          17,
          18,
          19,
          20,
          21,
          22,
          23,
          24
         ],
         "xaxis": "x2",
         "y": [
          0.6305586598182363,
          0.5,
          0.36944134018176367,
          0.2524925375469229,
          0.15865525393145707,
          0.09121121972586788,
          0.047790352272814696,
          0.02275013194817921,
          0.009815328628645315,
          0.003830380567589775,
          0.0013498980316301035,
          0.0004290603331967846,
          0.00012286638996517052,
          0.00003167124183311998,
          0.000007343423836903007,
          0.0000015306267365788884,
          2.866515719235352e-7,
          4.8213033676525185e-8,
          7.280110070340129e-9,
          9.865877004244794e-10,
          1.1996026394456294e-10,
          1.308397834520747e-11,
          1.2798651027878805e-12,
          1.1224354778960333e-13
         ],
         "yaxis": "y2"
        },
        {
         "marker": {
          "color": "red",
          "size": 8,
          "symbol": "diamond"
         },
         "mode": "markers",
         "name": "Your Next Pick",
         "showlegend": false,
         "type": "scatter",
         "x": [
          8
         ],
         "xaxis": "x2",
         "y": [
          0.02275013194817921
         ],
         "yaxis": "y2"
        },
        {
         "line": {
          "color": "#1f77b4",
          "width": 2
         },
         "marker": {
          "size": 3
         },
         "mode": "lines+markers",
         "name": "Jahmyr Gibbs",
         "showlegend": false,
         "type": "scatter",
         "x": [
          1,
          2,
          3,
          4,
          5,
          6,
          7,
          8,
          9,
          10,
          11,
          12,
          13,
          14,
          15,
          16,
          17,
          18,
          19,
          20,
          21,
          22,
          23,
          24
         ],
         "xaxis": "x3",
         "y": [
          0.9087887802741321,
          0.8413447460685429,
          0.7475074624530771,
          0.6305586598182363,
          0.5,
          0.36944134018176367,
          0.2524925375469229,
          0.15865525393145707,
          0.09121121972586788,
          0.047790352272814696,
          0.02275013194817921,
          0.009815328628645315,
          0.003830380567589775,
          0.0013498980316301035,
          0.0004290603331967846,
          0.00012286638996517052,
          0.00003167124183311998,
          0.000007343423836903007,
          0.0000015306267365788884,
          2.866515719235352e-7,
          4.8213033676525185e-8,
          7.280110070340129e-9,
          9.865877004244794e-10,
          1.1996026394456294e-10
         ],
         "yaxis": "y3"
        },
        {
         "marker": {
          "color": "red",
          "size": 8,
          "symbol": "diamond"
         },
         "mode": "markers",
         "name": "Your Next Pick",
         "showlegend": false,
         "type": "scatter",
         "x": [
          8
         ],
         "xaxis": "x3",
         "y": [
          0.15865525393145707
         ],
         "yaxis": "y3"
        },
        {
         "line": {
          "color": "#1f77b4",
          "width": 2
         },
         "marker": {
          "size": 3
         },
         "mode": "lines+markers",
         "name": "Ja'Marr Chase",
         "showlegend": false,
         "type": "scatter",
         "x": [
          1,
          2,
          3,
          4,
          5,
          6,
          7,
          8,
          9,
          10,
          11,
          12,
          13,
          14,
          15,
          16,
          17,
          18,
          19,
          20,
          21,
          22,
          23,
          24
         ],
         "xaxis": "x4",
         "y": [
          0.5,
          0.36944134018176367,
          0.2524925375469229,
          0.15865525393145707,
          0.09121121972586788,
          0.047790352272814696,
          0.02275013194817921,
          0.009815328628645315,
          0.003830380567589775,
          0.0013498980316301035,
          0.0004290603331967846,
          0.00012286638996517052,
          0.00003167124183311998,
          0.000007343423836903007,
          0.0000015306267365788884,
          2.866515719235352e-7,
          4.8213033676525185e-8,
          7.280110070340129e-9,
          9.865877004244794e-10,
          1.1996026394456294e-10,
          1.308397834520747e-11,
          1.2798651027878805e-12,
          1.1224354778960333e-13,
          8.770761894538737e-15
         ],
         "yaxis": "y4"
        },
        {
         "marker": {
          "color": "red",
          "size": 8,
          "symbol": "diamond"
         },
         "mode": "markers",
         "name": "Your Next Pick",
         "showlegend": false,
         "type": "scatter",
         "x": [
          8
         ],
         "xaxis": "x4",
         "y": [
          0.009815328628645315
         ],
         "yaxis": "y4"
        },
        {
         "line": {
          "color": "#1f77b4",
          "width": 2
         },
         "marker": {
          "size": 3
         },
         "mode": "lines+markers",
         "name": "Christian McCaffrey",
         "showlegend": false,
         "type": "scatter",
         "x": [
          1,
          2,
          3,
          4,
          5,
          6,
          7,
          8,
          9,
          10,
          11,
          12,
          13,
          14,
          15,
          16,
          17,
          18,
          19,
          20,
          21,
          22,
          23,
          24
         ],
         "xaxis": "x5",
         "y": [
          0.9772498680518208,
          0.9522096477271853,
          0.9087887802741321,
          0.8413447460685429,
          0.7475074624530771,
          0.6305586598182363,
          0.5,
          0.36944134018176367,
          0.2524925375469229,
          0.15865525393145707,
          0.09121121972586788,
          0.047790352272814696,
          0.02275013194817921,
          0.009815328628645315,
          0.003830380567589775,
          0.0013498980316301035,
          0.0004290603331967846,
          0.00012286638996517052,
          0.00003167124183311998,
          0.000007343423836903007,
          0.0000015306267365788884,
          2.866515719235352e-7,
          4.8213033676525185e-8,
          7.280110070340129e-9
         ],
         "yaxis": "y5"
        },
        {
         "marker": {
          "color": "red",
          "size": 8,
          "symbol": "diamond"
         },
         "mode": "markers",
         "name": "Your Next Pick",
         "showlegend": false,
         "type": "scatter",
         "x": [
          8
         ],
         "xaxis": "x5",
         "y": [
          0.36944134018176367
         ],
         "yaxis": "y5"
        },
        {
         "line": {
          "color": "#1f77b4",
          "width": 2
         },
         "marker": {
          "size": 3
         },
         "mode": "lines+markers",
         "name": "Derrick Henry",
         "showlegend": false,
         "type": "scatter",
         "x": [
          1,
          2,
          3,
          4,
          5,
          6,
          7,
          8,
          9,
          10,
          11,
          12,
          13,
          14,
          15,
          16,
          17,
          18,
          19,
          20,
          21,
          22,
          23,
          24
         ],
         "xaxis": "x6",
         "y": [
          0.9995709396668032,
          0.9986501019683699,
          0.9961696194324102,
          0.9901846713713547,
          0.9772498680518208,
          0.9522096477271853,
          0.9087887802741321,
          0.8413447460685429,
          0.7475074624530771,
          0.6305586598182363,
          0.5,
          0.36944134018176367,
          0.2524925375469229,
          0.15865525393145707,
          0.09121121972586788,
          0.047790352272814696,
          0.02275013194817921,
          0.009815328628645315,
          0.003830380567589775,
          0.0013498980316301035,
          0.0004290603331967846,
          0.00012286638996517052,
          0.00003167124183311998,
          0.000007343423836903007
         ],
         "yaxis": "y6"
        },
        {
         "marker": {
          "color": "red",
          "size": 8,
          "symbol": "diamond"
         },
         "mode": "markers",
         "name": "Your Next Pick",
         "showlegend": false,
         "type": "scatter",
         "x": [
          8
         ],
         "xaxis": "x6",
         "y": [
          0.8413447460685429
         ],
         "yaxis": "y6"
        },
        {
         "line": {
          "color": "#1f77b4",
          "width": 2
         },
         "marker": {
          "size": 3
         },
         "mode": "lines+markers",
         "name": "De'Von Achane",
         "showlegend": false,
         "type": "scatter",
         "x": [
          1,
          2,
          3,
          4,
          5,
          6,
          7,
          8,
          9,
          10,
          11,
          12,
          13,
          14,
          15,
          16,
          17,
          18,
          19,
          20,
          21,
          22,
          23,
          24
         ],
         "xaxis": "x7",
         "y": [
          0.9999999927198899,
          0.9999999517869663,
          0.9999997133484281,
          0.9999984693732634,
          0.9999926565761631,
          0.9999683287581669,
          0.9998771336100348,
          0.9995709396668032,
          0.9986501019683699,
          0.9961696194324102,
          0.9901846713713547,
          0.9772498680518208,
          0.9522096477271853,
          0.9087887802741321,
          0.8413447460685429,
          0.7475074624530771,
          0.6305586598182363,
          0.5,
          0.36944134018176367,
          0.2524925375469229,
          0.15865525393145707,
          0.09121121972586788,
          0.047790352272814696,
          0.02275013194817921
         ],
         "yaxis": "y7"
        },
        {
         "marker": {
          "color": "red",
          "size": 8,
          "symbol": "diamond"
         },
         "mode": "markers",
         "name": "Your Next Pick",
         "showlegend": false,
         "type": "scatter",
         "x": [
          8
         ],
         "xaxis": "x7",
         "y": [
          0.9995709396668032
         ],
         "yaxis": "y7"
        },
        {
         "line": {
          "color": "#1f77b4",
          "width": 2
         },
         "marker": {
          "size": 3
         },
         "mode": "lines+markers",
         "name": "Lamar Jackson",
         "showlegend": false,
         "type": "scatter",
         "x": [
          1,
          2,
          3,
          4,
          5,
          6,
          7,
          8,
          9,
          10,
          11,
          12,
          13,
          14,
          15,
          16,
          17,
          18,
          19,
          20,
          21,
          22,
          23,
          24
         ],
         "xaxis": "x8",
         "y": [
          1,
          1,
          1,
          1,
          0.9999999999999993,
          0.9999999999999912,
          0.9999999999998878,
          0.9999999999987201,
          0.999999999986916,
          0.9999999998800397,
          0.9999999990134123,
          0.9999999927198899,
          0.9999999517869663,
          0.9999997133484281,
          0.9999984693732634,
          0.9999926565761631,
          0.9999683287581669,
          0.9998771336100348,
          0.9995709396668032,
          0.9986501019683699,
          0.9961696194324102,
          0.9901846713713547,
          0.9772498680518208,
          0.9522096477271853
         ],
         "yaxis": "y8"
        },
        {
         "marker": {
          "color": "red",
          "size": 8,
          "symbol": "diamond"
         },
         "mode": "markers",
         "name": "Your Next Pick",
         "showlegend": false,
         "type": "scatter",
         "x": [
          8
         ],
         "xaxis": "x8",
         "y": [
          0.9999999999987201
         ],
         "yaxis": "y8"
        },
        {
         "line": {
          "color": "#1f77b4",
          "width": 2
         },
         "marker": {
          "size": 3
         },
         "mode": "lines+markers",
         "name": "Justin Jefferson",
         "showlegend": false,
         "type": "scatter",
         "x": [
          1,
          2,
          3,
          4,
          5,
          6,
          7,
          8,
          9,
          10,
          11,
          12,
          13,
          14,
          15,
          16,
          17,
          18,
          19,
          20,
          21,
          22,
          23,
          24
         ],
         "xaxis": "x9",
         "y": [
          0.7475074624530771,
          0.6305586598182363,
          0.5,
          0.36944134018176367,
          0.2524925375469229,
          0.15865525393145707,
          0.09121121972586788,
          0.047790352272814696,
          0.02275013194817921,
          0.009815328628645315,
          0.003830380567589775,
          0.0013498980316301035,
          0.0004290603331967846,
          0.00012286638996517052,
          0.00003167124183311998,
          0.000007343423836903007,
          0.0000015306267365788884,
          2.866515719235352e-7,
          4.8213033676525185e-8,
          7.280110070340129e-9,
          9.865877004244794e-10,
          1.1996026394456294e-10,
          1.308397834520747e-11,
          1.2798651027878805e-12
         ],
         "yaxis": "y9"
        },
        {
         "marker": {
          "color": "red",
          "size": 8,
          "symbol": "diamond"
         },
         "mode": "markers",
         "name": "Your Next Pick",
         "showlegend": false,
         "type": "scatter",
         "x": [
          8
         ],
         "xaxis": "x9",
         "y": [
          0.047790352272814696
         ],
         "yaxis": "y9"
        },
        {
         "line": {
          "color": "#1f77b4",
          "width": 2
         },
         "marker": {
          "size": 3
         },
         "mode": "lines+markers",
         "name": "Josh Allen",
         "showlegend": false,
         "type": "scatter",
         "x": [
          1,
          2,
          3,
          4,
          5,
          6,
          7,
          8,
          9,
          10,
          11,
          12,
          13,
          14,
          15,
          16,
          17,
          18,
          19,
          20,
          21,
          22,
          23,
          24
         ],
         "xaxis": "x10",
         "y": [
          1,
          1,
          1,
          0.9999999999999993,
          0.9999999999999912,
          0.9999999999998878,
          0.9999999999987201,
          0.999999999986916,
          0.9999999998800397,
          0.9999999990134123,
          0.9999999927198899,
          0.9999999517869663,
          0.9999997133484281,
          0.9999984693732634,
          0.9999926565761631,
          0.9999683287581669,
          0.9998771336100348,
          0.9995709396668032,
          0.9986501019683699,
          0.9961696194324102,
          0.9901846713713547,
          0.9772498680518208,
          0.9522096477271853,
          0.9087887802741321
         ],
         "yaxis": "y10"
        },
        {
         "marker": {
          "color": "red",
          "size": 8,
          "symbol": "diamond"
         },
         "mode": "markers",
         "name": "Your Next Pick",
         "showlegend": false,
         "type": "scatter",
         "x": [
          8
         ],
         "xaxis": "x10",
         "y": [
          0.999999999986916
         ],
         "yaxis": "y10"
        },
        {
         "line": {
          "color": "#1f77b4",
          "width": 2
         },
         "marker": {
          "size": 3
         },
         "mode": "lines+markers",
         "name": "Brock Bowers",
         "showlegend": false,
         "type": "scatter",
         "x": [
          1,
          2,
          3,
          4,
          5,
          6,
          7,
          8,
          9,
          10,
          11,
          12,
          13,
          14,
          15,
          16,
          17,
          18,
          19,
          20,
          21,
          22,
          23,
          24
         ],
         "xaxis": "x11",
         "y": [
          0.9999999998800397,
          0.9999999990134123,
          0.9999999927198899,
          0.9999999517869663,
          0.9999997133484281,
          0.9999984693732634,
          0.9999926565761631,
          0.9999683287581669,
          0.9998771336100348,
          0.9995709396668032,
          0.9986501019683699,
          0.9961696194324102,
          0.9901846713713547,
          0.9772498680518208,
          0.9522096477271853,
          0.9087887802741321,
          0.8413447460685429,
          0.7475074624530771,
          0.6305586598182363,
          0.5,
          0.36944134018176367,
          0.2524925375469229,
          0.15865525393145707,
          0.09121121972586788
         ],
         "yaxis": "y11"
        },
        {
         "marker": {
          "color": "red",
          "size": 8,
          "symbol": "diamond"
         },
         "mode": "markers",
         "name": "Your Next Pick",
         "showlegend": false,
         "type": "scatter",
         "x": [
          8
         ],
         "xaxis": "x11",
         "y": [
          0.9999683287581669
         ],
         "yaxis": "y11"
        },
        {
         "line": {
          "color": "#1f77b4",
          "width": 2
         },
         "marker": {
          "size": 3
         },
         "mode": "lines+markers",
         "name": "Josh Jacobs",
         "showlegend": false,
         "type": "scatter",
         "x": [
          1,
          2,
          3,
          4,
          5,
          6,
          7,
          8,
          9,
          10,
          11,
          12,
          13,
          14,
          15,
          16,
          17,
          18,
          19,
          20,
          21,
          22,
          23,
          24
         ],
         "xaxis": "x12",
         "y": [
          0.9999999990134123,
          0.9999999927198899,
          0.9999999517869663,
          0.9999997133484281,
          0.9999984693732634,
          0.9999926565761631,
          0.9999683287581669,
          0.9998771336100348,
          0.9995709396668032,
          0.9986501019683699,
          0.9961696194324102,
          0.9901846713713547,
          0.9772498680518208,
          0.9522096477271853,
          0.9087887802741321,
          0.8413447460685429,
          0.7475074624530771,
          0.6305586598182363,
          0.5,
          0.36944134018176367,
          0.2524925375469229,
          0.15865525393145707,
          0.09121121972586788,
          0.047790352272814696
         ],
         "yaxis": "y12"
        },
        {
         "marker": {
          "color": "red",
          "size": 8,
          "symbol": "diamond"
         },
         "mode": "markers",
         "name": "Your Next Pick",
         "showlegend": false,
         "type": "scatter",
         "x": [
          8
         ],
         "xaxis": "x12",
         "y": [
          0.9998771336100348
         ],
         "yaxis": "y12"
        },
        {
         "line": {
          "color": "#1f77b4",
          "width": 2
         },
         "marker": {
          "size": 3
         },
         "mode": "lines+markers",
         "name": "Ashton Jeanty",
         "showlegend": false,
         "type": "scatter",
         "x": [
          1,
          2,
          3,
          4,
          5,
          6,
          7,
          8,
          9,
          10,
          11,
          12,
          13,
          14,
          15,
          16,
          17,
          18,
          19,
          20,
          21,
          22,
          23,
          24
         ],
         "xaxis": "x13",
         "y": [
          0.9998771336100348,
          0.9995709396668032,
          0.9986501019683699,
          0.9961696194324102,
          0.9901846713713547,
          0.9772498680518208,
          0.9522096477271853,
          0.9087887802741321,
          0.8413447460685429,
          0.7475074624530771,
          0.6305586598182363,
          0.5,
          0.36944134018176367,
          0.2524925375469229,
          0.15865525393145707,
          0.09121121972586788,
          0.047790352272814696,
          0.02275013194817921,
          0.009815328628645315,
          0.003830380567589775,
          0.0013498980316301035,
          0.0004290603331967846,
          0.00012286638996517052,
          0.00003167124183311998
         ],
         "yaxis": "y13"
        },
        {
         "marker": {
          "color": "red",
          "size": 8,
          "symbol": "diamond"
         },
         "mode": "markers",
         "name": "Your Next Pick",
         "showlegend": false,
         "type": "scatter",
         "x": [
          8
         ],
         "xaxis": "x13",
         "y": [
          0.9087887802741321
         ],
         "yaxis": "y13"
        },
        {
         "line": {
          "color": "#1f77b4",
          "width": 2
         },
         "marker": {
          "size": 3
         },
         "mode": "lines+markers",
         "name": "CeeDee Lamb",
         "showlegend": false,
         "type": "scatter",
         "x": [
          1,
          2,
          3,
          4,
          5,
          6,
          7,
          8,
          9,
          10,
          11,
          12,
          13,
          14,
          15,
          16,
          17,
          18,
          19,
          20,
          21,
          22,
          23,
          24
         ],
         "xaxis": "x14",
         "y": [
          0.9522096477271853,
          0.9087887802741321,
          0.8413447460685429,
          0.7475074624530771,
          0.6305586598182363,
          0.5,
          0.36944134018176367,
          0.2524925375469229,
          0.15865525393145707,
          0.09121121972586788,
          0.047790352272814696,
          0.02275013194817921,
          0.009815328628645315,
          0.003830380567589775,
          0.0013498980316301035,
          0.0004290603331967846,
          0.00012286638996517052,
          0.00003167124183311998,
          0.000007343423836903007,
          0.0000015306267365788884,
          2.866515719235352e-7,
          4.8213033676525185e-8,
          7.280110070340129e-9,
          9.865877004244794e-10
         ],
         "yaxis": "y14"
        },
        {
         "marker": {
          "color": "red",
          "size": 8,
          "symbol": "diamond"
         },
         "mode": "markers",
         "name": "Your Next Pick",
         "showlegend": false,
         "type": "scatter",
         "x": [
          8
         ],
         "xaxis": "x14",
         "y": [
          0.2524925375469229
         ],
         "yaxis": "y14"
        },
        {
         "line": {
          "color": "#1f77b4",
          "width": 2
         },
         "marker": {
          "size": 3
         },
         "mode": "lines+markers",
         "name": "Trey McBride",
         "showlegend": false,
         "type": "scatter",
         "x": [
          1,
          2,
          3,
          4,
          5,
          6,
          7,
          8,
          9,
          10,
          11,
          12,
          13,
          14,
          15,
          16,
          17,
          18,
          19,
          20,
          21,
          22,
          23,
          24
         ],
         "xaxis": "x15",
         "y": [
          0.999999999986916,
          0.9999999998800397,
          0.9999999990134123,
          0.9999999927198899,
          0.9999999517869663,
          0.9999997133484281,
          0.9999984693732634,
          0.9999926565761631,
          0.9999683287581669,
          0.9998771336100348,
          0.9995709396668032,
          0.9986501019683699,
          0.9961696194324102,
          0.9901846713713547,
          0.9772498680518208,
          0.9522096477271853,
          0.9087887802741321,
          0.8413447460685429,
          0.7475074624530771,
          0.6305586598182363,
          0.5,
          0.36944134018176367,
          0.2524925375469229,
          0.15865525393145707
         ],
         "yaxis": "y15"
        },
        {
         "marker": {
          "color": "red",
          "size": 8,
          "symbol": "diamond"
         },
         "mode": "markers",
         "name": "Your Next Pick",
         "showlegend": false,
         "type": "scatter",
         "x": [
          8
         ],
         "xaxis": "x15",
         "y": [
          0.9999926565761631
         ],
         "yaxis": "y15"
        },
        {
         "line": {
          "color": "#1f77b4",
          "width": 2
         },
         "marker": {
          "size": 3
         },
         "mode": "lines+markers",
         "name": "Jalen Hurts",
         "showlegend": false,
         "type": "scatter",
         "x": [
          1,
          2,
          3,
          4,
          5,
          6,
          7,
          8,
          9,
          10,
          11,
          12,
          13,
          14,
          15,
          16,
          17,
          18,
          19,
          20,
          21,
          22,
          23,
          24
         ],
         "xaxis": "x16",
         "y": [
          1,
          1,
          1,
          1,
          1,
          1,
          0.9999999999999993,
          0.9999999999999912,
          0.9999999999998878,
          0.9999999999987201,
          0.999999999986916,
          0.9999999998800397,
          0.9999999990134123,
          0.9999999927198899,
          0.9999999517869663,
          0.9999997133484281,
          0.9999984693732634,
          0.9999926565761631,
          0.9999683287581669,
          0.9998771336100348,
          0.9995709396668032,
          0.9986501019683699,
          0.9961696194324102,
          0.9901846713713547
         ],
         "yaxis": "y16"
        },
        {
         "marker": {
          "color": "red",
          "size": 8,
          "symbol": "diamond"
         },
         "mode": "markers",
         "name": "Your Next Pick",
         "showlegend": false,
         "type": "scatter",
         "x": [
          8
         ],
         "xaxis": "x16",
         "y": [
          0.9999999999999912
         ],
         "yaxis": "y16"
        },
        {
         "line": {
          "color": "#1f77b4",
          "width": 2
         },
         "marker": {
          "size": 3
         },
         "mode": "lines+markers",
         "name": "Kyren Williams",
         "showlegend": false,
         "type": "scatter",
         "x": [
          1,
          2,
          3,
          4,
          5,
          6,
          7,
          8,
          9,
          10,
          11,
          12,
          13,
          14,
          15,
          16,
          17,
          18,
          19,
          20,
          21,
          22,
          23,
          24
         ],
         "xaxis": "x17",
         "y": [
          0.9999999999987201,
          0.999999999986916,
          0.9999999998800397,
          0.9999999990134123,
          0.9999999927198899,
          0.9999999517869663,
          0.9999997133484281,
          0.9999984693732634,
          0.9999926565761631,
          0.9999683287581669,
          0.9998771336100348,
          0.9995709396668032,
          0.9986501019683699,
          0.9961696194324102,
          0.9901846713713547,
          0.9772498680518208,
          0.9522096477271853,
          0.9087887802741321,
          0.8413447460685429,
          0.7475074624530771,
          0.6305586598182363,
          0.5,
          0.36944134018176367,
          0.2524925375469229
         ],
         "yaxis": "y17"
        },
        {
         "marker": {
          "color": "red",
          "size": 8,
          "symbol": "diamond"
         },
         "mode": "markers",
         "name": "Your Next Pick",
         "showlegend": false,
         "type": "scatter",
         "x": [
          8
         ],
         "xaxis": "x17",
         "y": [
          0.9999984693732634
         ],
         "yaxis": "y17"
        },
        {
         "line": {
          "color": "#1f77b4",
          "width": 2
         },
         "marker": {
          "size": 3
         },
         "mode": "lines+markers",
         "name": "George Kittle",
         "showlegend": false,
         "type": "scatter",
         "x": [
          1,
          2,
          3,
          4,
          5,
          6,
          7,
          8,
          9,
          10,
          11,
          12,
          13,
          14,
          15,
          16,
          17,
          18,
          19,
          20,
          21,
          22,
          23,
          24
         ],
         "xaxis": "x18",
         "y": [
          1,
          1,
          1,
          1,
          1,
          1,
          1,
          1,
          1,
          1,
          1,
          1,
          1,
          1,
          1,
          0.9999999999999993,
          0.9999999999999912,
          0.9999999999998878,
          0.9999999999987201,
          0.999999999986916,
          0.9999999998800397,
          0.9999999990134123,
          0.9999999927198899,
          0.9999999517869663
         ],
         "yaxis": "y18"
        },
        {
         "marker": {
          "color": "red",
          "size": 8,
          "symbol": "diamond"
         },
         "mode": "markers",
         "name": "Your Next Pick",
         "showlegend": false,
         "type": "scatter",
         "x": [
          8
         ],
         "xaxis": "x18",
         "y": [
          1
         ],
         "yaxis": "y18"
        },
        {
         "line": {
          "color": "#1f77b4",
          "width": 2
         },
         "marker": {
          "size": 3
         },
         "mode": "lines+markers",
         "name": "Puka Nacua",
         "showlegend": false,
         "type": "scatter",
         "x": [
          1,
          2,
          3,
          4,
          5,
          6,
          7,
          8,
          9,
          10,
          11,
          12,
          13,
          14,
          15,
          16,
          17,
          18,
          19,
          20,
          21,
          22,
          23,
          24
         ],
         "xaxis": "x19",
         "y": [
          0.9901846713713547,
          0.9772498680518208,
          0.9522096477271853,
          0.9087887802741321,
          0.8413447460685429,
          0.7475074624530771,
          0.6305586598182363,
          0.5,
          0.36944134018176367,
          0.2524925375469229,
          0.15865525393145707,
          0.09121121972586788,
          0.047790352272814696,
          0.02275013194817921,
          0.009815328628645315,
          0.003830380567589775,
          0.0013498980316301035,
          0.0004290603331967846,
          0.00012286638996517052,
          0.00003167124183311998,
          0.000007343423836903007,
          0.0000015306267365788884,
          2.866515719235352e-7,
          4.8213033676525185e-8
         ],
         "yaxis": "y19"
        },
        {
         "marker": {
          "color": "red",
          "size": 8,
          "symbol": "diamond"
         },
         "mode": "markers",
         "name": "Your Next Pick",
         "showlegend": false,
         "type": "scatter",
         "x": [
          8
         ],
         "xaxis": "x19",
         "y": [
          0.5
         ],
         "yaxis": "y19"
        },
        {
         "line": {
          "color": "#1f77b4",
          "width": 2
         },
         "marker": {
          "size": 3
         },
         "mode": "lines+markers",
         "name": "Jayden Daniels",
         "showlegend": false,
         "type": "scatter",
         "x": [
          1,
          2,
          3,
          4,
          5,
          6,
          7,
          8,
          9,
          10,
          11,
          12,
          13,
          14,
          15,
          16,
          17,
          18,
          19,
          20,
          21,
          22,
          23,
          24
         ],
         "xaxis": "x20",
         "y": [
          1,
          1,
          1,
          1,
          1,
          0.9999999999999993,
          0.9999999999999912,
          0.9999999999998878,
          0.9999999999987201,
          0.999999999986916,
          0.9999999998800397,
          0.9999999990134123,
          0.9999999927198899,
          0.9999999517869663,
          0.9999997133484281,
          0.9999984693732634,
          0.9999926565761631,
          0.9999683287581669,
          0.9998771336100348,
          0.9995709396668032,
          0.9986501019683699,
          0.9961696194324102,
          0.9901846713713547,
          0.9772498680518208
         ],
         "yaxis": "y20"
        },
        {
         "marker": {
          "color": "red",
          "size": 8,
          "symbol": "diamond"
         },
         "mode": "markers",
         "name": "Your Next Pick",
         "showlegend": false,
         "type": "scatter",
         "x": [
          8
         ],
         "xaxis": "x20",
         "y": [
          0.9999999999998878
         ],
         "yaxis": "y20"
        }
       ],
       "layout": {
        "annotations": [
         {
          "font": {
           "size": 16
          },
          "showarrow": false,
          "text": "Saquon Barkley (RB)",
          "x": 0.08,
          "xanchor": "center",
          "xref": "paper",
          "y": 1,
          "yanchor": "bottom",
          "yref": "paper"
         },
         {
          "font": {
           "size": 16
          },
          "showarrow": false,
          "text": "Bijan Robinson (RB)",
          "x": 0.29000000000000004,
          "xanchor": "center",
          "xref": "paper",
          "y": 1,
          "yanchor": "bottom",
          "yref": "paper"
         },
         {
          "font": {
           "size": 16
          },
          "showarrow": false,
          "text": "Jahmyr Gibbs (RB)",
          "x": 0.5,
          "xanchor": "center",
          "xref": "paper",
          "y": 1,
          "yanchor": "bottom",
          "yref": "paper"
         },
         {
          "font": {
           "size": 16
          },
          "showarrow": false,
          "text": "Ja'Marr Chase (WR)",
          "x": 0.71,
          "xanchor": "center",
          "xref": "paper",
          "y": 1,
          "yanchor": "bottom",
          "yref": "paper"
         },
         {
          "font": {
           "size": 16
          },
          "showarrow": false,
          "text": "Christian McCaffrey (RB)",
          "x": 0.92,
          "xanchor": "center",
          "xref": "paper",
          "y": 1,
          "yanchor": "bottom",
          "yref": "paper"
         },
         {
          "font": {
           "size": 16
          },
          "showarrow": false,
          "text": "Derrick Henry (RB)",
          "x": 0.08,
          "xanchor": "center",
          "xref": "paper",
          "y": 0.73,
          "yanchor": "bottom",
          "yref": "paper"
         },
         {
          "font": {
           "size": 16
          },
          "showarrow": false,
          "text": "De'Von Achane (RB)",
          "x": 0.29000000000000004,
          "xanchor": "center",
          "xref": "paper",
          "y": 0.73,
          "yanchor": "bottom",
          "yref": "paper"
         },
         {
          "font": {
           "size": 16
          },
          "showarrow": false,
          "text": "Lamar Jackson (QB)",
          "x": 0.5,
          "xanchor": "center",
          "xref": "paper",
          "y": 0.73,
          "yanchor": "bottom",
          "yref": "paper"
         },
         {
          "font": {
           "size": 16
          },
          "showarrow": false,
          "text": "Justin Jefferson (WR)",
          "x": 0.71,
          "xanchor": "center",
          "xref": "paper",
          "y": 0.73,
          "yanchor": "bottom",
          "yref": "paper"
         },
         {
          "font": {
           "size": 16
          },
          "showarrow": false,
          "text": "Josh Allen (QB)",
          "x": 0.92,
          "xanchor": "center",
          "xref": "paper",
          "y": 0.73,
          "yanchor": "bottom",
          "yref": "paper"
         },
         {
          "font": {
           "size": 16
          },
          "showarrow": false,
          "text": "Brock Bowers (TE)",
          "x": 0.08,
          "xanchor": "center",
          "xref": "paper",
          "y": 0.46,
          "yanchor": "bottom",
          "yref": "paper"
         },
         {
          "font": {
           "size": 16
          },
          "showarrow": false,
          "text": "Josh Jacobs (RB)",
          "x": 0.29000000000000004,
          "xanchor": "center",
          "xref": "paper",
          "y": 0.46,
          "yanchor": "bottom",
          "yref": "paper"
         },
         {
          "font": {
           "size": 16
          },
          "showarrow": false,
          "text": "Ashton Jeanty (RB)",
          "x": 0.5,
          "xanchor": "center",
          "xref": "paper",
          "y": 0.46,
          "yanchor": "bottom",
          "yref": "paper"
         },
         {
          "font": {
           "size": 16
          },
          "showarrow": false,
          "text": "CeeDee Lamb (WR)",
          "x": 0.71,
          "xanchor": "center",
          "xref": "paper",
          "y": 0.46,
          "yanchor": "bottom",
          "yref": "paper"
         },
         {
          "font": {
           "size": 16
          },
          "showarrow": false,
          "text": "Trey McBride (TE)",
          "x": 0.92,
          "xanchor": "center",
          "xref": "paper",
          "y": 0.46,
          "yanchor": "bottom",
          "yref": "paper"
         },
         {
          "font": {
           "size": 16
          },
          "showarrow": false,
          "text": "Jalen Hurts (QB)",
          "x": 0.08,
          "xanchor": "center",
          "xref": "paper",
          "y": 0.19,
          "yanchor": "bottom",
          "yref": "paper"
         },
         {
          "font": {
           "size": 16
          },
          "showarrow": false,
          "text": "Kyren Williams (RB)",
          "x": 0.29000000000000004,
          "xanchor": "center",
          "xref": "paper",
          "y": 0.19,
          "yanchor": "bottom",
          "yref": "paper"
         },
         {
          "font": {
           "size": 16
          },
          "showarrow": false,
          "text": "George Kittle (TE)",
          "x": 0.5,
          "xanchor": "center",
          "xref": "paper",
          "y": 0.19,
          "yanchor": "bottom",
          "yref": "paper"
         },
         {
          "font": {
           "size": 16
          },
          "showarrow": false,
          "text": "Puka Nacua (WR)",
          "x": 0.71,
          "xanchor": "center",
          "xref": "paper",
          "y": 0.19,
          "yanchor": "bottom",
          "yref": "paper"
         },
         {
          "font": {
           "size": 16
          },
          "showarrow": false,
          "text": "Jayden Daniels (QB)",
          "x": 0.92,
          "xanchor": "center",
          "xref": "paper",
          "y": 0.19,
          "yanchor": "bottom",
          "yref": "paper"
         }
        ],
        "height": 800,
        "shapes": [
         {
          "fillcolor": "rgba(241, 196, 15, 0.1)",
          "layer": "below",
          "line": {
           "width": 0
          },
          "type": "rect",
          "x0": 1,
          "x1": 24,
          "xref": "x",
          "y0": 0,
          "y1": 1,
          "yref": "y"
         },
         {
          "fillcolor": "rgba(241, 196, 15, 0.1)",
          "layer": "below",
          "line": {
           "width": 0
          },
          "type": "rect",
          "x0": 1,
          "x1": 24,
          "xref": "x2",
          "y0": 0,
          "y1": 1,
          "yref": "y2"
         },
         {
          "fillcolor": "rgba(231, 76, 60, 0.1)",
          "layer": "below",
          "line": {
           "width": 0
          },
          "type": "rect",
          "x0": 1,
          "x1": 24,
          "xref": "x3",
          "y0": 0,
          "y1": 1,
          "yref": "y3"
         },
         {
          "fillcolor": "rgba(46, 204, 113, 0.1)",
          "layer": "below",
          "line": {
           "width": 0
          },
          "type": "rect",
          "x0": 1,
          "x1": 24,
          "xref": "x4",
          "y0": 0,
          "y1": 1,
          "yref": "y4"
         },
         {
          "fillcolor": "rgba(231, 76, 60, 0.1)",
          "layer": "below",
          "line": {
           "width": 0
          },
          "type": "rect",
          "x0": 1,
          "x1": 24,
          "xref": "x5",
          "y0": 0,
          "y1": 1,
          "yref": "y5"
         },
         {
          "fillcolor": "rgba(241, 196, 15, 0.1)",
          "layer": "below",
          "line": {
           "width": 0
          },
          "type": "rect",
          "x0": 1,
          "x1": 24,
          "xref": "x6",
          "y0": 0,
          "y1": 1,
          "yref": "y6"
         },
         {
          "fillcolor": "rgba(46, 204, 113, 0.1)",
          "layer": "below",
          "line": {
           "width": 0
          },
          "type": "rect",
          "x0": 1,
          "x1": 24,
          "xref": "x7",
          "y0": 0,
          "y1": 1,
          "yref": "y7"
         },
         {
          "fillcolor": "rgba(46, 204, 113, 0.1)",
          "layer": "below",
          "line": {
           "width": 0
          },
          "type": "rect",
          "x0": 1,
          "x1": 24,
          "xref": "x8",
          "y0": 0,
          "y1": 1,
          "yref": "y8"
         },
         {
          "fillcolor": "rgba(241, 196, 15, 0.1)",
          "layer": "below",
          "line": {
           "width": 0
          },
          "type": "rect",
          "x0": 1,
          "x1": 24,
          "xref": "x9",
          "y0": 0,
          "y1": 1,
          "yref": "y9"
         },
         {
          "fillcolor": "rgba(46, 204, 113, 0.1)",
          "layer": "below",
          "line": {
           "width": 0
          },
          "type": "rect",
          "x0": 1,
          "x1": 24,
          "xref": "x10",
          "y0": 0,
          "y1": 1,
          "yref": "y10"
         },
         {
          "fillcolor": "rgba(46, 204, 113, 0.1)",
          "layer": "below",
          "line": {
           "width": 0
          },
          "type": "rect",
          "x0": 1,
          "x1": 24,
          "xref": "x11",
          "y0": 0,
          "y1": 1,
          "yref": "y11"
         },
         {
          "fillcolor": "rgba(46, 204, 113, 0.1)",
          "layer": "below",
          "line": {
           "width": 0
          },
          "type": "rect",
          "x0": 1,
          "x1": 24,
          "xref": "x12",
          "y0": 0,
          "y1": 1,
          "yref": "y12"
         },
         {
          "fillcolor": "rgba(241, 196, 15, 0.1)",
          "layer": "below",
          "line": {
           "width": 0
          },
          "type": "rect",
          "x0": 1,
          "x1": 24,
          "xref": "x13",
          "y0": 0,
          "y1": 1,
          "yref": "y13"
         },
         {
          "fillcolor": "rgba(231, 76, 60, 0.1)",
          "layer": "below",
          "line": {
           "width": 0
          },
          "type": "rect",
          "x0": 1,
          "x1": 24,
          "xref": "x14",
          "y0": 0,
          "y1": 1,
          "yref": "y14"
         },
         {
          "fillcolor": "rgba(46, 204, 113, 0.1)",
          "layer": "below",
          "line": {
           "width": 0
          },
          "type": "rect",
          "x0": 1,
          "x1": 24,
          "xref": "x15",
          "y0": 0,
          "y1": 1,
          "yref": "y15"
         },
         {
          "fillcolor": "rgba(46, 204, 113, 0.1)",
          "layer": "below",
          "line": {
           "width": 0
          },
          "type": "rect",
          "x0": 1,
          "x1": 24,
          "xref": "x16",
          "y0": 0,
          "y1": 1,
          "yref": "y16"
         },
         {
          "fillcolor": "rgba(46, 204, 113, 0.1)",
          "layer": "below",
          "line": {
           "width": 0
          },
          "type": "rect",
          "x0": 1,
          "x1": 24,
          "xref": "x17",
          "y0": 0,
          "y1": 1,
          "yref": "y17"
         },
         {
          "fillcolor": "rgba(46, 204, 113, 0.1)",
          "layer": "below",
          "line": {
           "width": 0
          },
          "type": "rect",
          "x0": 1,
          "x1": 24,
          "xref": "x18",
          "y0": 0,
          "y1": 1,
          "yref": "y18"
         },
         {
          "fillcolor": "rgba(241, 196, 15, 0.1)",
          "layer": "below",
          "line": {
           "width": 0
          },
          "type": "rect",
          "x0": 1,
          "x1": 24,
          "xref": "x19",
          "y0": 0,
          "y1": 1,
          "yref": "y19"
         },
         {
          "fillcolor": "rgba(46, 204, 113, 0.1)",
          "layer": "below",
          "line": {
           "width": 0
          },
          "type": "rect",
          "x0": 1,
          "x1": 24,
          "xref": "x20",
          "y0": 0,
          "y1": 1,
          "yref": "y20"
         }
        ],
        "showlegend": true,
        "template": {
         "data": {
          "bar": [
           {
            "error_x": {
             "color": "#2a3f5f"
            },
            "error_y": {
             "color": "#2a3f5f"
            },
            "marker": {
             "line": {
              "color": "white",
              "width": 0.5
             },
             "pattern": {
              "fillmode": "overlay",
              "size": 10,
              "solidity": 0.2
             }
            },
            "type": "bar"
           }
          ],
          "barpolar": [
           {
            "marker": {
             "line": {
              "color": "white",
              "width": 0.5
             },
             "pattern": {
              "fillmode": "overlay",
              "size": 10,
              "solidity": 0.2
             }
            },
            "type": "barpolar"
           }
          ],
          "carpet": [
           {
            "aaxis": {
             "endlinecolor": "#2a3f5f",
             "gridcolor": "#C8D4E3",
             "linecolor": "#C8D4E3",
             "minorgridcolor": "#C8D4E3",
             "startlinecolor": "#2a3f5f"
            },
            "baxis": {
             "endlinecolor": "#2a3f5f",
             "gridcolor": "#C8D4E3",
             "linecolor": "#C8D4E3",
             "minorgridcolor": "#C8D4E3",
             "startlinecolor": "#2a3f5f"
            },
            "type": "carpet"
           }
          ],
          "choropleth": [
           {
            "colorbar": {
             "outlinewidth": 0,
             "ticks": ""
            },
            "type": "choropleth"
           }
          ],
          "contour": [
           {
            "colorbar": {
             "outlinewidth": 0,
             "ticks": ""
            },
            "colorscale": [
             [
              0,
              "#0d0887"
             ],
             [
              0.1111111111111111,
              "#46039f"
             ],
             [
              0.2222222222222222,
              "#7201a8"
             ],
             [
              0.3333333333333333,
              "#9c179e"
             ],
             [
              0.4444444444444444,
              "#bd3786"
             ],
             [
              0.5555555555555556,
              "#d8576b"
             ],
             [
              0.6666666666666666,
              "#ed7953"
             ],
             [
              0.7777777777777778,
              "#fb9f3a"
             ],
             [
              0.8888888888888888,
              "#fdca26"
             ],
             [
              1,
              "#f0f921"
             ]
            ],
            "type": "contour"
           }
          ],
          "contourcarpet": [
           {
            "colorbar": {
             "outlinewidth": 0,
             "ticks": ""
            },
            "type": "contourcarpet"
           }
          ],
          "heatmap": [
           {
            "colorbar": {
             "outlinewidth": 0,
             "ticks": ""
            },
            "colorscale": [
             [
              0,
              "#0d0887"
             ],
             [
              0.1111111111111111,
              "#46039f"
             ],
             [
              0.2222222222222222,
              "#7201a8"
             ],
             [
              0.3333333333333333,
              "#9c179e"
             ],
             [
              0.4444444444444444,
              "#bd3786"
             ],
             [
              0.5555555555555556,
              "#d8576b"
             ],
             [
              0.6666666666666666,
              "#ed7953"
             ],
             [
              0.7777777777777778,
              "#fb9f3a"
             ],
             [
              0.8888888888888888,
              "#fdca26"
             ],
             [
              1,
              "#f0f921"
             ]
            ],
            "type": "heatmap"
           }
          ],
          "histogram": [
           {
            "marker": {
             "pattern": {
              "fillmode": "overlay",
              "size": 10,
              "solidity": 0.2
             }
            },
            "type": "histogram"
           }
          ],
          "histogram2d": [
           {
            "colorbar": {
             "outlinewidth": 0,
             "ticks": ""
            },
            "colorscale": [
             [
              0,
              "#0d0887"
             ],
             [
              0.1111111111111111,
              "#46039f"
             ],
             [
              0.2222222222222222,
              "#7201a8"
             ],
             [
              0.3333333333333333,
              "#9c179e"
             ],
             [
              0.4444444444444444,
              "#bd3786"
             ],
             [
              0.5555555555555556,
              "#d8576b"
             ],
             [
              0.6666666666666666,
              "#ed7953"
             ],
             [
              0.7777777777777778,
              "#fb9f3a"
             ],
             [
              0.8888888888888888,
              "#fdca26"
             ],
             [
              1,
              "#f0f921"
             ]
            ],
            "type": "histogram2d"
           }
          ],
          "histogram2dcontour": [
           {
            "colorbar": {
             "outlinewidth": 0,
             "ticks": ""
            },
            "colorscale": [
             [
              0,
              "#0d0887"
             ],
             [
              0.1111111111111111,
              "#46039f"
             ],
             [
              0.2222222222222222,
              "#7201a8"
             ],
             [
              0.3333333333333333,
              "#9c179e"
             ],
             [
              0.4444444444444444,
              "#bd3786"
             ],
             [
              0.5555555555555556,
              "#d8576b"
             ],
             [
              0.6666666666666666,
              "#ed7953"
             ],
             [
              0.7777777777777778,
              "#fb9f3a"
             ],
             [
              0.8888888888888888,
              "#fdca26"
             ],
             [
              1,
              "#f0f921"
             ]
            ],
            "type": "histogram2dcontour"
           }
          ],
          "mesh3d": [
           {
            "colorbar": {
             "outlinewidth": 0,
             "ticks": ""
            },
            "type": "mesh3d"
           }
          ],
          "parcoords": [
           {
            "line": {
             "colorbar": {
              "outlinewidth": 0,
              "ticks": ""
             }
            },
            "type": "parcoords"
           }
          ],
          "pie": [
           {
            "automargin": true,
            "type": "pie"
           }
          ],
          "scatter": [
           {
            "fillpattern": {
             "fillmode": "overlay",
             "size": 10,
             "solidity": 0.2
            },
            "type": "scatter"
           }
          ],
          "scatter3d": [
           {
            "line": {
             "colorbar": {
              "outlinewidth": 0,
              "ticks": ""
             }
            },
            "marker": {
             "colorbar": {
              "outlinewidth": 0,
              "ticks": ""
             }
            },
            "type": "scatter3d"
           }
          ],
          "scattercarpet": [
           {
            "marker": {
             "colorbar": {
              "outlinewidth": 0,
              "ticks": ""
             }
            },
            "type": "scattercarpet"
           }
          ],
          "scattergeo": [
           {
            "marker": {
             "colorbar": {
              "outlinewidth": 0,
              "ticks": ""
             }
            },
            "type": "scattergeo"
           }
          ],
          "scattergl": [
           {
            "marker": {
             "colorbar": {
              "outlinewidth": 0,
              "ticks": ""
             }
            },
            "type": "scattergl"
           }
          ],
          "scattermap": [
           {
            "marker": {
             "colorbar": {
              "outlinewidth": 0,
              "ticks": ""
             }
            },
            "type": "scattermap"
           }
          ],
          "scattermapbox": [
           {
            "marker": {
             "colorbar": {
              "outlinewidth": 0,
              "ticks": ""
             }
            },
            "type": "scattermapbox"
           }
          ],
          "scatterpolar": [
           {
            "marker": {
             "colorbar": {
              "outlinewidth": 0,
              "ticks": ""
             }
            },
            "type": "scatterpolar"
           }
          ],
          "scatterpolargl": [
           {
            "marker": {
             "colorbar": {
              "outlinewidth": 0,
              "ticks": ""
             }
            },
            "type": "scatterpolargl"
           }
          ],
          "scatterternary": [
           {
            "marker": {
             "colorbar": {
              "outlinewidth": 0,
              "ticks": ""
             }
            },
            "type": "scatterternary"
           }
          ],
          "surface": [
           {
            "colorbar": {
             "outlinewidth": 0,
             "ticks": ""
            },
            "colorscale": [
             [
              0,
              "#0d0887"
             ],
             [
              0.1111111111111111,
              "#46039f"
             ],
             [
              0.2222222222222222,
              "#7201a8"
             ],
             [
              0.3333333333333333,
              "#9c179e"
             ],
             [
              0.4444444444444444,
              "#bd3786"
             ],
             [
              0.5555555555555556,
              "#d8576b"
             ],
             [
              0.6666666666666666,
              "#ed7953"
             ],
             [
              0.7777777777777778,
              "#fb9f3a"
             ],
             [
              0.8888888888888888,
              "#fdca26"
             ],
             [
              1,
              "#f0f921"
             ]
            ],
            "type": "surface"
           }
          ],
          "table": [
           {
            "cells": {
             "fill": {
              "color": "#EBF0F8"
             },
             "line": {
              "color": "white"
             }
            },
            "header": {
             "fill": {
              "color": "#C8D4E3"
             },
             "line": {
              "color": "white"
             }
            },
            "type": "table"
           }
          ]
         },
         "layout": {
          "annotationdefaults": {
           "arrowcolor": "#2a3f5f",
           "arrowhead": 0,
           "arrowwidth": 1
          },
          "autotypenumbers": "strict",
          "coloraxis": {
           "colorbar": {
            "outlinewidth": 0,
            "ticks": ""
           }
          },
          "colorscale": {
           "diverging": [
            [
             0,
             "#8e0152"
            ],
            [
             0.1,
             "#c51b7d"
            ],
            [
             0.2,
             "#de77ae"
            ],
            [
             0.3,
             "#f1b6da"
            ],
            [
             0.4,
             "#fde0ef"
            ],
            [
             0.5,
             "#f7f7f7"
            ],
            [
             0.6,
             "#e6f5d0"
            ],
            [
             0.7,
             "#b8e186"
            ],
            [
             0.8,
             "#7fbc41"
            ],
            [
             0.9,
             "#4d9221"
            ],
            [
             1,
             "#276419"
            ]
           ],
           "sequential": [
            [
             0,
             "#0d0887"
            ],
            [
             0.1111111111111111,
             "#46039f"
            ],
            [
             0.2222222222222222,
             "#7201a8"
            ],
            [
             0.3333333333333333,
             "#9c179e"
            ],
            [
             0.4444444444444444,
             "#bd3786"
            ],
            [
             0.5555555555555556,
             "#d8576b"
            ],
            [
             0.6666666666666666,
             "#ed7953"
            ],
            [
             0.7777777777777778,
             "#fb9f3a"
            ],
            [
             0.8888888888888888,
             "#fdca26"
            ],
            [
             1,
             "#f0f921"
            ]
           ],
           "sequentialminus": [
            [
             0,
             "#0d0887"
            ],
            [
             0.1111111111111111,
             "#46039f"
            ],
            [
             0.2222222222222222,
             "#7201a8"
            ],
            [
             0.3333333333333333,
             "#9c179e"
            ],
            [
             0.4444444444444444,
             "#bd3786"
            ],
            [
             0.5555555555555556,
             "#d8576b"
            ],
            [
             0.6666666666666666,
             "#ed7953"
            ],
            [
             0.7777777777777778,
             "#fb9f3a"
            ],
            [
             0.8888888888888888,
             "#fdca26"
            ],
            [
             1,
             "#f0f921"
            ]
           ]
          },
          "colorway": [
           "#636efa",
           "#EF553B",
           "#00cc96",
           "#ab63fa",
           "#FFA15A",
           "#19d3f3",
           "#FF6692",
           "#B6E880",
           "#FF97FF",
           "#FECB52"
          ],
          "font": {
           "color": "#2a3f5f"
          },
          "geo": {
           "bgcolor": "white",
           "lakecolor": "white",
           "landcolor": "white",
           "showlakes": true,
           "showland": true,
           "subunitcolor": "#C8D4E3"
          },
          "hoverlabel": {
           "align": "left"
          },
          "hovermode": "closest",
          "mapbox": {
           "style": "light"
          },
          "paper_bgcolor": "white",
          "plot_bgcolor": "white",
          "polar": {
           "angularaxis": {
            "gridcolor": "#EBF0F8",
            "linecolor": "#EBF0F8",
            "ticks": ""
           },
           "bgcolor": "white",
           "radialaxis": {
            "gridcolor": "#EBF0F8",
            "linecolor": "#EBF0F8",
            "ticks": ""
           }
          },
          "scene": {
           "xaxis": {
            "backgroundcolor": "white",
            "gridcolor": "#DFE8F3",
            "gridwidth": 2,
            "linecolor": "#EBF0F8",
            "showbackground": true,
            "ticks": "",
            "zerolinecolor": "#EBF0F8"
           },
           "yaxis": {
            "backgroundcolor": "white",
            "gridcolor": "#DFE8F3",
            "gridwidth": 2,
            "linecolor": "#EBF0F8",
            "showbackground": true,
            "ticks": "",
            "zerolinecolor": "#EBF0F8"
           },
           "zaxis": {
            "backgroundcolor": "white",
            "gridcolor": "#DFE8F3",
            "gridwidth": 2,
            "linecolor": "#EBF0F8",
            "showbackground": true,
            "ticks": "",
            "zerolinecolor": "#EBF0F8"
           }
          },
          "shapedefaults": {
           "line": {
            "color": "#2a3f5f"
           }
          },
          "ternary": {
           "aaxis": {
            "gridcolor": "#DFE8F3",
            "linecolor": "#A2B1C6",
            "ticks": ""
           },
           "baxis": {
            "gridcolor": "#DFE8F3",
            "linecolor": "#A2B1C6",
            "ticks": ""
           },
           "bgcolor": "white",
           "caxis": {
            "gridcolor": "#DFE8F3",
            "linecolor": "#A2B1C6",
            "ticks": ""
           }
          },
          "title": {
           "x": 0.05
          },
          "xaxis": {
           "automargin": true,
           "gridcolor": "#EBF0F8",
           "linecolor": "#EBF0F8",
           "ticks": "",
           "title": {
            "standoff": 15
           },
           "zerolinecolor": "#EBF0F8",
           "zerolinewidth": 2
          },
          "yaxis": {
           "automargin": true,
           "gridcolor": "#EBF0F8",
           "linecolor": "#EBF0F8",
           "ticks": "",
           "title": {
            "standoff": 15
           },
           "zerolinecolor": "#EBF0F8",
           "zerolinewidth": 2
          }
         }
        },
        "title": {
         "font": {
          "family": "Arial Black",
          "size": 16
         },
         "text": "Availability Sparkline Grid - Top 20 Players",
         "x": 0.5,
         "xanchor": "center"
        },
        "xaxis": {
         "anchor": "y",
         "domain": [
          0,
          0.16
         ],
         "gridwidth": 0.5,
         "range": [
          1,
          24
         ],
         "showgrid": true,
         "title": {
          "text": ""
         }
        },
        "xaxis10": {
         "anchor": "y10",
         "domain": [
          0.8400000000000001,
          1
         ],
         "gridwidth": 0.5,
         "range": [
          1,
          24
         ],
         "showgrid": true,
         "title": {
          "text": ""
         }
        },
        "xaxis11": {
         "anchor": "y11",
         "domain": [
          0,
          0.16
         ],
         "gridwidth": 0.5,
         "range": [
          1,
          24
         ],
         "showgrid": true,
         "title": {
          "text": ""
         }
        },
        "xaxis12": {
         "anchor": "y12",
         "domain": [
          0.21000000000000002,
          0.37
         ],
         "gridwidth": 0.5,
         "range": [
          1,
          24
         ],
         "showgrid": true,
         "title": {
          "text": ""
         }
        },
        "xaxis13": {
         "anchor": "y13",
         "domain": [
          0.42000000000000004,
          0.5800000000000001
         ],
         "gridwidth": 0.5,
         "range": [
          1,
          24
         ],
         "showgrid": true,
         "title": {
          "text": ""
         }
        },
        "xaxis14": {
         "anchor": "y14",
         "domain": [
          0.63,
          0.79
         ],
         "gridwidth": 0.5,
         "range": [
          1,
          24
         ],
         "showgrid": true,
         "title": {
          "text": ""
         }
        },
        "xaxis15": {
         "anchor": "y15",
         "domain": [
          0.8400000000000001,
          1
         ],
         "gridwidth": 0.5,
         "range": [
          1,
          24
         ],
         "showgrid": true,
         "title": {
          "text": ""
         }
        },
        "xaxis16": {
         "anchor": "y16",
         "domain": [
          0,
          0.16
         ],
         "gridwidth": 0.5,
         "range": [
          1,
          24
         ],
         "showgrid": true,
         "title": {
          "text": "Pick #"
         }
        },
        "xaxis17": {
         "anchor": "y17",
         "domain": [
          0.21000000000000002,
          0.37
         ],
         "gridwidth": 0.5,
         "range": [
          1,
          24
         ],
         "showgrid": true,
         "title": {
          "text": "Pick #"
         }
        },
        "xaxis18": {
         "anchor": "y18",
         "domain": [
          0.42000000000000004,
          0.5800000000000001
         ],
         "gridwidth": 0.5,
         "range": [
          1,
          24
         ],
         "showgrid": true,
         "title": {
          "text": "Pick #"
         }
        },
        "xaxis19": {
         "anchor": "y19",
         "domain": [
          0.63,
          0.79
         ],
         "gridwidth": 0.5,
         "range": [
          1,
          24
         ],
         "showgrid": true,
         "title": {
          "text": "Pick #"
         }
        },
        "xaxis2": {
         "anchor": "y2",
         "domain": [
          0.21000000000000002,
          0.37
         ],
         "gridwidth": 0.5,
         "range": [
          1,
          24
         ],
         "showgrid": true,
         "title": {
          "text": ""
         }
        },
        "xaxis20": {
         "anchor": "y20",
         "domain": [
          0.8400000000000001,
          1
         ],
         "gridwidth": 0.5,
         "range": [
          1,
          24
         ],
         "showgrid": true,
         "title": {
          "text": "Pick #"
         }
        },
        "xaxis3": {
         "anchor": "y3",
         "domain": [
          0.42000000000000004,
          0.5800000000000001
         ],
         "gridwidth": 0.5,
         "range": [
          1,
          24
         ],
         "showgrid": true,
         "title": {
          "text": ""
         }
        },
        "xaxis4": {
         "anchor": "y4",
         "domain": [
          0.63,
          0.79
         ],
         "gridwidth": 0.5,
         "range": [
          1,
          24
         ],
         "showgrid": true,
         "title": {
          "text": ""
         }
        },
        "xaxis5": {
         "anchor": "y5",
         "domain": [
          0.8400000000000001,
          1
         ],
         "gridwidth": 0.5,
         "range": [
          1,
          24
         ],
         "showgrid": true,
         "title": {
          "text": ""
         }
        },
        "xaxis6": {
         "anchor": "y6",
         "domain": [
          0,
          0.16
         ],
         "gridwidth": 0.5,
         "range": [
          1,
          24
         ],
         "showgrid": true,
         "title": {
          "text": ""
         }
        },
        "xaxis7": {
         "anchor": "y7",
         "domain": [
          0.21000000000000002,
          0.37
         ],
         "gridwidth": 0.5,
         "range": [
          1,
          24
         ],
         "showgrid": true,
         "title": {
          "text": ""
         }
        },
        "xaxis8": {
         "anchor": "y8",
         "domain": [
          0.42000000000000004,
          0.5800000000000001
         ],
         "gridwidth": 0.5,
         "range": [
          1,
          24
         ],
         "showgrid": true,
         "title": {
          "text": ""
         }
        },
        "xaxis9": {
         "anchor": "y9",
         "domain": [
          0.63,
          0.79
         ],
         "gridwidth": 0.5,
         "range": [
          1,
          24
         ],
         "showgrid": true,
         "title": {
          "text": ""
         }
        },
        "yaxis": {
         "anchor": "x",
         "domain": [
          0.81,
          1
         ],
         "gridwidth": 0.5,
         "range": [
          0,
          1
         ],
         "showgrid": true,
         "tickformat": ".0%",
         "title": {
          "text": "Avail %"
         }
        },
        "yaxis10": {
         "anchor": "x10",
         "domain": [
          0.54,
          0.73
         ],
         "gridwidth": 0.5,
         "range": [
          0,
          1
         ],
         "showgrid": true,
         "tickformat": ".0%",
         "title": {
          "text": ""
         }
        },
        "yaxis11": {
         "anchor": "x11",
         "domain": [
          0.27,
          0.46
         ],
         "gridwidth": 0.5,
         "range": [
          0,
          1
         ],
         "showgrid": true,
         "tickformat": ".0%",
         "title": {
          "text": "Avail %"
         }
        },
        "yaxis12": {
         "anchor": "x12",
         "domain": [
          0.27,
          0.46
         ],
         "gridwidth": 0.5,
         "range": [
          0,
          1
         ],
         "showgrid": true,
         "tickformat": ".0%",
         "title": {
          "text": ""
         }
        },
        "yaxis13": {
         "anchor": "x13",
         "domain": [
          0.27,
          0.46
         ],
         "gridwidth": 0.5,
         "range": [
          0,
          1
         ],
         "showgrid": true,
         "tickformat": ".0%",
         "title": {
          "text": ""
         }
        },
        "yaxis14": {
         "anchor": "x14",
         "domain": [
          0.27,
          0.46
         ],
         "gridwidth": 0.5,
         "range": [
          0,
          1
         ],
         "showgrid": true,
         "tickformat": ".0%",
         "title": {
          "text": ""
         }
        },
        "yaxis15": {
         "anchor": "x15",
         "domain": [
          0.27,
          0.46
         ],
         "gridwidth": 0.5,
         "range": [
          0,
          1
         ],
         "showgrid": true,
         "tickformat": ".0%",
         "title": {
          "text": ""
         }
        },
        "yaxis16": {
         "anchor": "x16",
         "domain": [
          0,
          0.19
         ],
         "gridwidth": 0.5,
         "range": [
          0,
          1
         ],
         "showgrid": true,
         "tickformat": ".0%",
         "title": {
          "text": "Avail %"
         }
        },
        "yaxis17": {
         "anchor": "x17",
         "domain": [
          0,
          0.19
         ],
         "gridwidth": 0.5,
         "range": [
          0,
          1
         ],
         "showgrid": true,
         "tickformat": ".0%",
         "title": {
          "text": ""
         }
        },
        "yaxis18": {
         "anchor": "x18",
         "domain": [
          0,
          0.19
         ],
         "gridwidth": 0.5,
         "range": [
          0,
          1
         ],
         "showgrid": true,
         "tickformat": ".0%",
         "title": {
          "text": ""
         }
        },
        "yaxis19": {
         "anchor": "x19",
         "domain": [
          0,
          0.19
         ],
         "gridwidth": 0.5,
         "range": [
          0,
          1
         ],
         "showgrid": true,
         "tickformat": ".0%",
         "title": {
          "text": ""
         }
        },
        "yaxis2": {
         "anchor": "x2",
         "domain": [
          0.81,
          1
         ],
         "gridwidth": 0.5,
         "range": [
          0,
          1
         ],
         "showgrid": true,
         "tickformat": ".0%",
         "title": {
          "text": ""
         }
        },
        "yaxis20": {
         "anchor": "x20",
         "domain": [
          0,
          0.19
         ],
         "gridwidth": 0.5,
         "range": [
          0,
          1
         ],
         "showgrid": true,
         "tickformat": ".0%",
         "title": {
          "text": ""
         }
        },
        "yaxis3": {
         "anchor": "x3",
         "domain": [
          0.81,
          1
         ],
         "gridwidth": 0.5,
         "range": [
          0,
          1
         ],
         "showgrid": true,
         "tickformat": ".0%",
         "title": {
          "text": ""
         }
        },
        "yaxis4": {
         "anchor": "x4",
         "domain": [
          0.81,
          1
         ],
         "gridwidth": 0.5,
         "range": [
          0,
          1
         ],
         "showgrid": true,
         "tickformat": ".0%",
         "title": {
          "text": ""
         }
        },
        "yaxis5": {
         "anchor": "x5",
         "domain": [
          0.81,
          1
         ],
         "gridwidth": 0.5,
         "range": [
          0,
          1
         ],
         "showgrid": true,
         "tickformat": ".0%",
         "title": {
          "text": ""
         }
        },
        "yaxis6": {
         "anchor": "x6",
         "domain": [
          0.54,
          0.73
         ],
         "gridwidth": 0.5,
         "range": [
          0,
          1
         ],
         "showgrid": true,
         "tickformat": ".0%",
         "title": {
          "text": "Avail %"
         }
        },
        "yaxis7": {
         "anchor": "x7",
         "domain": [
          0.54,
          0.73
         ],
         "gridwidth": 0.5,
         "range": [
          0,
          1
         ],
         "showgrid": true,
         "tickformat": ".0%",
         "title": {
          "text": ""
         }
        },
        "yaxis8": {
         "anchor": "x8",
         "domain": [
          0.54,
          0.73
         ],
         "gridwidth": 0.5,
         "range": [
          0,
          1
         ],
         "showgrid": true,
         "tickformat": ".0%",
         "title": {
          "text": ""
         }
        },
        "yaxis9": {
         "anchor": "x9",
         "domain": [
          0.54,
          0.73
         ],
         "gridwidth": 0.5,
         "range": [
          0,
          1
         ],
         "showgrid": true,
         "tickformat": ".0%",
         "title": {
          "text": ""
         }
        }
       }
      }
     },
     "metadata": {},
     "output_type": "display_data"
    },
    {
     "name": "stdout",
     "output_type": "stream",
     "text": [
      "📊 Availability Sparkline Grid created\n",
      "Red diamonds = Your next pick | Background color = Risk level (Green=Safe, Yellow=Risky, Red=Danger)\n"
     ]
    }
   ],
   "source": [
    "def create_availability_sparkline_grid(enhanced_df, grid_size=(4, 5)):\n",
    "    \"\"\"\n",
    "    Create a grid of sparklines showing availability probability for top players\n",
    "    \"\"\"\n",
    "    rows, cols = grid_size\n",
    "    total_players = rows * cols\n",
    "    \n",
    "    # Get top players by VBD score\n",
    "    df_viz = enhanced_df.nlargest(total_players, 'vbd_score').copy()\n",
    "    \n",
    "    # Create subplots\n",
    "    fig = make_subplots(\n",
    "        rows=rows, cols=cols,\n",
    "        subplot_titles=[f\"{row['player_name']} ({row['position']})\" for _, row in df_viz.iterrows()],\n",
    "        vertical_spacing=0.08,\n",
    "        horizontal_spacing=0.05\n",
    "    )\n",
    "    \n",
    "    # Generate sparkline data for each player\n",
    "    for idx, (_, player) in enumerate(df_viz.iterrows()):\n",
    "        row = (idx // cols) + 1\n",
    "        col = (idx % cols) + 1\n",
    "        \n",
    "        # Generate availability probability across picks\n",
    "        pick_range = list(range(1, 25))  # First 24 picks\n",
    "        availability_probs = []\n",
    "        \n",
    "        for pick in pick_range:\n",
    "            prob = 1 - stats.norm.cdf(pick, loc=player['espn_rank'], scale=3)\n",
    "            availability_probs.append(max(0, min(1, prob)))\n",
    "        \n",
    "        # Add sparkline\n",
    "        fig.add_trace(\n",
    "            go.Scatter(\n",
    "                x=pick_range,\n",
    "                y=availability_probs,\n",
    "                mode='lines+markers',\n",
    "                line=dict(color='#1f77b4', width=2),\n",
    "                marker=dict(size=3),\n",
    "                name=player['player_name'],\n",
    "                showlegend=False\n",
    "            ),\n",
    "            row=row, col=col\n",
    "        )\n",
    "        \n",
    "        # Highlight your next pick positions\n",
    "        next_pick = player['next_pick']\n",
    "        if next_pick and next_pick <= 24:\n",
    "            next_pick_prob = 1 - stats.norm.cdf(next_pick, loc=player['espn_rank'], scale=3)\n",
    "            fig.add_trace(\n",
    "                go.Scatter(\n",
    "                    x=[next_pick],\n",
    "                    y=[next_pick_prob],\n",
    "                    mode='markers',\n",
    "                    marker=dict(color='red', size=8, symbol='diamond'),\n",
    "                    name='Your Next Pick',\n",
    "                    showlegend=(idx == 0)  # Only show legend for first trace\n",
    "                ),\n",
    "                row=row, col=col\n",
    "            )\n",
    "        \n",
    "        # Color code background based on availability at next pick\n",
    "        if next_pick:\n",
    "            prob_at_next = player['prob_available_at_next']\n",
    "            if prob_at_next > 0.8:\n",
    "                bg_color = 'rgba(46, 204, 113, 0.1)'  # Green\n",
    "            elif prob_at_next > 0.5:\n",
    "                bg_color = 'rgba(241, 196, 15, 0.1)'  # Yellow\n",
    "            else:\n",
    "                bg_color = 'rgba(231, 76, 60, 0.1)'   # Red\n",
    "            \n",
    "            fig.add_shape(\n",
    "                type=\"rect\",\n",
    "                xref=f\"x{idx+1}\", yref=f\"y{idx+1}\",\n",
    "                x0=1, y0=0, x1=24, y1=1,\n",
    "                fillcolor=bg_color,\n",
    "                layer=\"below\",\n",
    "                line_width=0,\n",
    "                row=row, col=col\n",
    "            )\n",
    "    \n",
    "    # Update layout\n",
    "    fig.update_layout(\n",
    "        title={\n",
    "            'text': \"Availability Sparkline Grid - Top 20 Players\",\n",
    "            'x': 0.5,\n",
    "            'xanchor': 'center',\n",
    "            'font': {'size': 16, 'family': 'Arial Black'}\n",
    "        },\n",
    "        height=800,\n",
    "        template='plotly_white',\n",
    "        showlegend=True\n",
    "    )\n",
    "    \n",
    "    # Update axes for all subplots\n",
    "    for i in range(1, total_players + 1):\n",
    "        fig.update_xaxes(\n",
    "            title=\"Pick #\" if i > (rows-1)*cols else \"\",\n",
    "            range=[1, 24],\n",
    "            showgrid=True,\n",
    "            gridwidth=0.5,\n",
    "            row=(i-1)//cols + 1, \n",
    "            col=(i-1)%cols + 1\n",
    "        )\n",
    "        fig.update_yaxes(\n",
    "            title=\"Avail %\" if (i-1) % cols == 0 else \"\",\n",
    "            range=[0, 1],\n",
    "            tickformat=\".0%\",\n",
    "            showgrid=True,\n",
    "            gridwidth=0.5,\n",
    "            row=(i-1)//cols + 1, \n",
    "            col=(i-1)%cols + 1\n",
    "        )\n",
    "    \n",
    "    return fig\n",
    "\n",
    "# Create and display sparkline grid\n",
    "sparkline_grid = create_availability_sparkline_grid(enhanced_df, grid_size=(4, 5))\n",
    "sparkline_grid.show()\n",
    "\n",
    "print(\"📊 Availability Sparkline Grid created\")\n",
    "print(\"Red diamonds = Your next pick | Background color = Risk level (Green=Safe, Yellow=Risky, Red=Danger)\")"
   ]
  },
  {
   "cell_type": "markdown",
   "metadata": {},
   "source": [
    "## Visualization 3: Decision Score Gauges\n",
    "\n",
    "Plotly gauge charts showing 0-100 decision scores for top players, combining VBD value and availability probability."
   ]
  },
  {
   "cell_type": "code",
   "execution_count": 6,
   "metadata": {},
   "outputs": [
    {
     "data": {
      "application/vnd.plotly.v1+json": {
       "config": {
        "plotlyServerURL": "https://plot.ly"
       },
       "data": [
        {
         "delta": {
          "reference": 50,
          "valueformat": ".1f"
         },
         "domain": {
          "x": [
           0,
           0.175
          ],
          "y": [
           0.625,
           1
          ]
         },
         "gauge": {
          "axis": {
           "range": [
            null,
            100
           ]
          },
          "bar": {
           "color": "#2ecc71"
          },
          "steps": [
           {
            "color": "#ecf0f1",
            "range": [
             0,
             40
            ]
           },
           {
            "color": "#bdc3c7",
            "range": [
             40,
             60
            ]
           },
           {
            "color": "#95a5a6",
            "range": [
             60,
             80
            ]
           }
          ],
          "threshold": {
           "line": {
            "color": "#27ae60",
            "width": 4
           },
           "thickness": 0.75,
           "value": 100
          }
         },
         "mode": "gauge+number+delta",
         "number": {
          "font": {
           "family": "Arial Black",
           "size": 16
          }
         },
         "title": {
          "text": "VBD: 120.6<br>Avail: 82%"
         },
         "type": "indicator",
         "value": 100
        },
        {
         "delta": {
          "reference": 50,
          "valueformat": ".1f"
         },
         "domain": {
          "x": [
           0.275,
           0.45
          ],
          "y": [
           0.625,
           1
          ]
         },
         "gauge": {
          "axis": {
           "range": [
            null,
            100
           ]
          },
          "bar": {
           "color": "#2ecc71"
          },
          "steps": [
           {
            "color": "#ecf0f1",
            "range": [
             0,
             40
            ]
           },
           {
            "color": "#bdc3c7",
            "range": [
             40,
             60
            ]
           },
           {
            "color": "#95a5a6",
            "range": [
             60,
             80
            ]
           }
          ],
          "threshold": {
           "line": {
            "color": "#27ae60",
            "width": 4
           },
           "thickness": 0.75,
           "value": 91.7
          }
         },
         "mode": "gauge+number+delta",
         "number": {
          "font": {
           "family": "Arial Black",
           "size": 16
          }
         },
         "title": {
          "text": "VBD: 91.7<br>Avail: 99%"
         },
         "type": "indicator",
         "value": 91.7
        },
        {
         "delta": {
          "reference": 50,
          "valueformat": ".1f"
         },
         "domain": {
          "x": [
           0.55,
           0.7250000000000001
          ],
          "y": [
           0.625,
           1
          ]
         },
         "gauge": {
          "axis": {
           "range": [
            null,
            100
           ]
          },
          "bar": {
           "color": "#2ecc71"
          },
          "steps": [
           {
            "color": "#ecf0f1",
            "range": [
             0,
             40
            ]
           },
           {
            "color": "#bdc3c7",
            "range": [
             40,
             60
            ]
           },
           {
            "color": "#95a5a6",
            "range": [
             60,
             80
            ]
           }
          ],
          "threshold": {
           "line": {
            "color": "#27ae60",
            "width": 4
           },
           "thickness": 0.75,
           "value": 89.9
          }
         },
         "mode": "gauge+number+delta",
         "number": {
          "font": {
           "family": "Arial Black",
           "size": 16
          }
         },
         "title": {
          "text": "VBD: 127.3<br>Avail: 70%"
         },
         "type": "indicator",
         "value": 89.9
        },
        {
         "delta": {
          "reference": 50,
          "valueformat": ".1f"
         },
         "domain": {
          "x": [
           0.825,
           1
          ],
          "y": [
           0.625,
           1
          ]
         },
         "gauge": {
          "axis": {
           "range": [
            null,
            100
           ]
          },
          "bar": {
           "color": "#2ecc71"
          },
          "steps": [
           {
            "color": "#ecf0f1",
            "range": [
             0,
             40
            ]
           },
           {
            "color": "#bdc3c7",
            "range": [
             40,
             60
            ]
           },
           {
            "color": "#95a5a6",
            "range": [
             60,
             80
            ]
           }
          ],
          "threshold": {
           "line": {
            "color": "#27ae60",
            "width": 4
           },
           "thickness": 0.75,
           "value": 88
          }
         },
         "mode": "gauge+number+delta",
         "number": {
          "font": {
           "family": "Arial Black",
           "size": 16
          }
         },
         "title": {
          "text": "VBD: 88.2<br>Avail: 98%"
         },
         "type": "indicator",
         "value": 88
        },
        {
         "delta": {
          "reference": 50,
          "valueformat": ".1f"
         },
         "domain": {
          "x": [
           0,
           0.175
          ],
          "y": [
           0,
           0.375
          ]
         },
         "gauge": {
          "axis": {
           "range": [
            null,
            100
           ]
          },
          "bar": {
           "color": "#2ecc71"
          },
          "steps": [
           {
            "color": "#ecf0f1",
            "range": [
             0,
             40
            ]
           },
           {
            "color": "#bdc3c7",
            "range": [
             40,
             60
            ]
           },
           {
            "color": "#95a5a6",
            "range": [
             60,
             80
            ]
           }
          ],
          "threshold": {
           "line": {
            "color": "#27ae60",
            "width": 4
           },
           "thickness": 0.75,
           "value": 85.1
          }
         },
         "mode": "gauge+number+delta",
         "number": {
          "font": {
           "family": "Arial Black",
           "size": 16
          }
         },
         "title": {
          "text": "VBD: 92.7<br>Avail: 91%"
         },
         "type": "indicator",
         "value": 85.1
        },
        {
         "delta": {
          "reference": 50,
          "valueformat": ".1f"
         },
         "domain": {
          "x": [
           0.275,
           0.45
          ],
          "y": [
           0,
           0.375
          ]
         },
         "gauge": {
          "axis": {
           "range": [
            null,
            100
           ]
          },
          "bar": {
           "color": "#2ecc71"
          },
          "steps": [
           {
            "color": "#ecf0f1",
            "range": [
             0,
             40
            ]
           },
           {
            "color": "#bdc3c7",
            "range": [
             40,
             60
            ]
           },
           {
            "color": "#95a5a6",
            "range": [
             60,
             80
            ]
           }
          ],
          "threshold": {
           "line": {
            "color": "#27ae60",
            "width": 4
           },
           "thickness": 0.75,
           "value": 80.7
          }
         },
         "mode": "gauge+number+delta",
         "number": {
          "font": {
           "family": "Arial Black",
           "size": 16
          }
         },
         "title": {
          "text": "VBD: 85.4<br>Avail: 93%"
         },
         "type": "indicator",
         "value": 80.7
        },
        {
         "delta": {
          "reference": 50,
          "valueformat": ".1f"
         },
         "domain": {
          "x": [
           0.55,
           0.7250000000000001
          ],
          "y": [
           0,
           0.375
          ]
         },
         "gauge": {
          "axis": {
           "range": [
            null,
            100
           ]
          },
          "bar": {
           "color": "#f39c12"
          },
          "steps": [
           {
            "color": "#ecf0f1",
            "range": [
             0,
             40
            ]
           },
           {
            "color": "#bdc3c7",
            "range": [
             40,
             60
            ]
           },
           {
            "color": "#95a5a6",
            "range": [
             60,
             80
            ]
           }
          ],
          "threshold": {
           "line": {
            "color": "#e67e22",
            "width": 4
           },
           "thickness": 0.75,
           "value": 75.2
          }
         },
         "mode": "gauge+number+delta",
         "number": {
          "font": {
           "family": "Arial Black",
           "size": 16
          }
         },
         "title": {
          "text": "VBD: 79.8<br>Avail: 93%"
         },
         "type": "indicator",
         "value": 75.2
        },
        {
         "delta": {
          "reference": 50,
          "valueformat": ".1f"
         },
         "domain": {
          "x": [
           0.825,
           1
          ],
          "y": [
           0,
           0.375
          ]
         },
         "gauge": {
          "axis": {
           "range": [
            null,
            100
           ]
          },
          "bar": {
           "color": "#f39c12"
          },
          "steps": [
           {
            "color": "#ecf0f1",
            "range": [
             0,
             40
            ]
           },
           {
            "color": "#bdc3c7",
            "range": [
             40,
             60
            ]
           },
           {
            "color": "#95a5a6",
            "range": [
             60,
             80
            ]
           }
          ],
          "threshold": {
           "line": {
            "color": "#e67e22",
            "width": 4
           },
           "thickness": 0.75,
           "value": 71.5
          }
         },
         "mode": "gauge+number+delta",
         "number": {
          "font": {
           "family": "Arial Black",
           "size": 16
          }
         },
         "title": {
          "text": "VBD: 131.3<br>Avail: 54%"
         },
         "type": "indicator",
         "value": 71.5
        }
       ],
       "layout": {
        "annotations": [
         {
          "font": {
           "size": 16
          },
          "showarrow": false,
          "text": "Ja'Marr Chase (WR)",
          "x": 0.0875,
          "xanchor": "center",
          "xref": "paper",
          "y": 1,
          "yanchor": "bottom",
          "yref": "paper"
         },
         {
          "font": {
           "size": 16
          },
          "showarrow": false,
          "text": "Lamar Jackson (QB)",
          "x": 0.36250000000000004,
          "xanchor": "center",
          "xref": "paper",
          "y": 1,
          "yanchor": "bottom",
          "yref": "paper"
         },
         {
          "font": {
           "size": 16
          },
          "showarrow": false,
          "text": "Bijan Robinson (RB)",
          "x": 0.6375000000000001,
          "xanchor": "center",
          "xref": "paper",
          "y": 1,
          "yanchor": "bottom",
          "yref": "paper"
         },
         {
          "font": {
           "size": 16
          },
          "showarrow": false,
          "text": "Josh Allen (QB)",
          "x": 0.9125,
          "xanchor": "center",
          "xref": "paper",
          "y": 1,
          "yanchor": "bottom",
          "yref": "paper"
         },
         {
          "font": {
           "size": 16
          },
          "showarrow": false,
          "text": "De'Von Achane (RB)",
          "x": 0.0875,
          "xanchor": "center",
          "xref": "paper",
          "y": 0.375,
          "yanchor": "bottom",
          "yref": "paper"
         },
         {
          "font": {
           "size": 16
          },
          "showarrow": false,
          "text": "Brock Bowers (TE)",
          "x": 0.36250000000000004,
          "xanchor": "center",
          "xref": "paper",
          "y": 0.375,
          "yanchor": "bottom",
          "yref": "paper"
         },
         {
          "font": {
           "size": 16
          },
          "showarrow": false,
          "text": "Josh Jacobs (RB)",
          "x": 0.6375000000000001,
          "xanchor": "center",
          "xref": "paper",
          "y": 0.375,
          "yanchor": "bottom",
          "yref": "paper"
         },
         {
          "font": {
           "size": 16
          },
          "showarrow": false,
          "text": "Saquon Barkley (RB)",
          "x": 0.9125,
          "xanchor": "center",
          "xref": "paper",
          "y": 0.375,
          "yanchor": "bottom",
          "yref": "paper"
         },
         {
          "font": {
           "color": "gray",
           "size": 12
          },
          "showarrow": false,
          "text": "Decision Score = VBD Value × Availability Probability (normalized to 0-100)<br>Green=Draft Now, Orange=Consider, Blue=Monitor, Gray=Low Priority",
          "x": 0.5,
          "xanchor": "center",
          "xref": "paper",
          "y": -0.1,
          "yref": "paper"
         }
        ],
        "font": {
         "family": "Arial",
         "size": 12
        },
        "height": 600,
        "template": {
         "data": {
          "bar": [
           {
            "error_x": {
             "color": "#2a3f5f"
            },
            "error_y": {
             "color": "#2a3f5f"
            },
            "marker": {
             "line": {
              "color": "white",
              "width": 0.5
             },
             "pattern": {
              "fillmode": "overlay",
              "size": 10,
              "solidity": 0.2
             }
            },
            "type": "bar"
           }
          ],
          "barpolar": [
           {
            "marker": {
             "line": {
              "color": "white",
              "width": 0.5
             },
             "pattern": {
              "fillmode": "overlay",
              "size": 10,
              "solidity": 0.2
             }
            },
            "type": "barpolar"
           }
          ],
          "carpet": [
           {
            "aaxis": {
             "endlinecolor": "#2a3f5f",
             "gridcolor": "#C8D4E3",
             "linecolor": "#C8D4E3",
             "minorgridcolor": "#C8D4E3",
             "startlinecolor": "#2a3f5f"
            },
            "baxis": {
             "endlinecolor": "#2a3f5f",
             "gridcolor": "#C8D4E3",
             "linecolor": "#C8D4E3",
             "minorgridcolor": "#C8D4E3",
             "startlinecolor": "#2a3f5f"
            },
            "type": "carpet"
           }
          ],
          "choropleth": [
           {
            "colorbar": {
             "outlinewidth": 0,
             "ticks": ""
            },
            "type": "choropleth"
           }
          ],
          "contour": [
           {
            "colorbar": {
             "outlinewidth": 0,
             "ticks": ""
            },
            "colorscale": [
             [
              0,
              "#0d0887"
             ],
             [
              0.1111111111111111,
              "#46039f"
             ],
             [
              0.2222222222222222,
              "#7201a8"
             ],
             [
              0.3333333333333333,
              "#9c179e"
             ],
             [
              0.4444444444444444,
              "#bd3786"
             ],
             [
              0.5555555555555556,
              "#d8576b"
             ],
             [
              0.6666666666666666,
              "#ed7953"
             ],
             [
              0.7777777777777778,
              "#fb9f3a"
             ],
             [
              0.8888888888888888,
              "#fdca26"
             ],
             [
              1,
              "#f0f921"
             ]
            ],
            "type": "contour"
           }
          ],
          "contourcarpet": [
           {
            "colorbar": {
             "outlinewidth": 0,
             "ticks": ""
            },
            "type": "contourcarpet"
           }
          ],
          "heatmap": [
           {
            "colorbar": {
             "outlinewidth": 0,
             "ticks": ""
            },
            "colorscale": [
             [
              0,
              "#0d0887"
             ],
             [
              0.1111111111111111,
              "#46039f"
             ],
             [
              0.2222222222222222,
              "#7201a8"
             ],
             [
              0.3333333333333333,
              "#9c179e"
             ],
             [
              0.4444444444444444,
              "#bd3786"
             ],
             [
              0.5555555555555556,
              "#d8576b"
             ],
             [
              0.6666666666666666,
              "#ed7953"
             ],
             [
              0.7777777777777778,
              "#fb9f3a"
             ],
             [
              0.8888888888888888,
              "#fdca26"
             ],
             [
              1,
              "#f0f921"
             ]
            ],
            "type": "heatmap"
           }
          ],
          "histogram": [
           {
            "marker": {
             "pattern": {
              "fillmode": "overlay",
              "size": 10,
              "solidity": 0.2
             }
            },
            "type": "histogram"
           }
          ],
          "histogram2d": [
           {
            "colorbar": {
             "outlinewidth": 0,
             "ticks": ""
            },
            "colorscale": [
             [
              0,
              "#0d0887"
             ],
             [
              0.1111111111111111,
              "#46039f"
             ],
             [
              0.2222222222222222,
              "#7201a8"
             ],
             [
              0.3333333333333333,
              "#9c179e"
             ],
             [
              0.4444444444444444,
              "#bd3786"
             ],
             [
              0.5555555555555556,
              "#d8576b"
             ],
             [
              0.6666666666666666,
              "#ed7953"
             ],
             [
              0.7777777777777778,
              "#fb9f3a"
             ],
             [
              0.8888888888888888,
              "#fdca26"
             ],
             [
              1,
              "#f0f921"
             ]
            ],
            "type": "histogram2d"
           }
          ],
          "histogram2dcontour": [
           {
            "colorbar": {
             "outlinewidth": 0,
             "ticks": ""
            },
            "colorscale": [
             [
              0,
              "#0d0887"
             ],
             [
              0.1111111111111111,
              "#46039f"
             ],
             [
              0.2222222222222222,
              "#7201a8"
             ],
             [
              0.3333333333333333,
              "#9c179e"
             ],
             [
              0.4444444444444444,
              "#bd3786"
             ],
             [
              0.5555555555555556,
              "#d8576b"
             ],
             [
              0.6666666666666666,
              "#ed7953"
             ],
             [
              0.7777777777777778,
              "#fb9f3a"
             ],
             [
              0.8888888888888888,
              "#fdca26"
             ],
             [
              1,
              "#f0f921"
             ]
            ],
            "type": "histogram2dcontour"
           }
          ],
          "mesh3d": [
           {
            "colorbar": {
             "outlinewidth": 0,
             "ticks": ""
            },
            "type": "mesh3d"
           }
          ],
          "parcoords": [
           {
            "line": {
             "colorbar": {
              "outlinewidth": 0,
              "ticks": ""
             }
            },
            "type": "parcoords"
           }
          ],
          "pie": [
           {
            "automargin": true,
            "type": "pie"
           }
          ],
          "scatter": [
           {
            "fillpattern": {
             "fillmode": "overlay",
             "size": 10,
             "solidity": 0.2
            },
            "type": "scatter"
           }
          ],
          "scatter3d": [
           {
            "line": {
             "colorbar": {
              "outlinewidth": 0,
              "ticks": ""
             }
            },
            "marker": {
             "colorbar": {
              "outlinewidth": 0,
              "ticks": ""
             }
            },
            "type": "scatter3d"
           }
          ],
          "scattercarpet": [
           {
            "marker": {
             "colorbar": {
              "outlinewidth": 0,
              "ticks": ""
             }
            },
            "type": "scattercarpet"
           }
          ],
          "scattergeo": [
           {
            "marker": {
             "colorbar": {
              "outlinewidth": 0,
              "ticks": ""
             }
            },
            "type": "scattergeo"
           }
          ],
          "scattergl": [
           {
            "marker": {
             "colorbar": {
              "outlinewidth": 0,
              "ticks": ""
             }
            },
            "type": "scattergl"
           }
          ],
          "scattermap": [
           {
            "marker": {
             "colorbar": {
              "outlinewidth": 0,
              "ticks": ""
             }
            },
            "type": "scattermap"
           }
          ],
          "scattermapbox": [
           {
            "marker": {
             "colorbar": {
              "outlinewidth": 0,
              "ticks": ""
             }
            },
            "type": "scattermapbox"
           }
          ],
          "scatterpolar": [
           {
            "marker": {
             "colorbar": {
              "outlinewidth": 0,
              "ticks": ""
             }
            },
            "type": "scatterpolar"
           }
          ],
          "scatterpolargl": [
           {
            "marker": {
             "colorbar": {
              "outlinewidth": 0,
              "ticks": ""
             }
            },
            "type": "scatterpolargl"
           }
          ],
          "scatterternary": [
           {
            "marker": {
             "colorbar": {
              "outlinewidth": 0,
              "ticks": ""
             }
            },
            "type": "scatterternary"
           }
          ],
          "surface": [
           {
            "colorbar": {
             "outlinewidth": 0,
             "ticks": ""
            },
            "colorscale": [
             [
              0,
              "#0d0887"
             ],
             [
              0.1111111111111111,
              "#46039f"
             ],
             [
              0.2222222222222222,
              "#7201a8"
             ],
             [
              0.3333333333333333,
              "#9c179e"
             ],
             [
              0.4444444444444444,
              "#bd3786"
             ],
             [
              0.5555555555555556,
              "#d8576b"
             ],
             [
              0.6666666666666666,
              "#ed7953"
             ],
             [
              0.7777777777777778,
              "#fb9f3a"
             ],
             [
              0.8888888888888888,
              "#fdca26"
             ],
             [
              1,
              "#f0f921"
             ]
            ],
            "type": "surface"
           }
          ],
          "table": [
           {
            "cells": {
             "fill": {
              "color": "#EBF0F8"
             },
             "line": {
              "color": "white"
             }
            },
            "header": {
             "fill": {
              "color": "#C8D4E3"
             },
             "line": {
              "color": "white"
             }
            },
            "type": "table"
           }
          ]
         },
         "layout": {
          "annotationdefaults": {
           "arrowcolor": "#2a3f5f",
           "arrowhead": 0,
           "arrowwidth": 1
          },
          "autotypenumbers": "strict",
          "coloraxis": {
           "colorbar": {
            "outlinewidth": 0,
            "ticks": ""
           }
          },
          "colorscale": {
           "diverging": [
            [
             0,
             "#8e0152"
            ],
            [
             0.1,
             "#c51b7d"
            ],
            [
             0.2,
             "#de77ae"
            ],
            [
             0.3,
             "#f1b6da"
            ],
            [
             0.4,
             "#fde0ef"
            ],
            [
             0.5,
             "#f7f7f7"
            ],
            [
             0.6,
             "#e6f5d0"
            ],
            [
             0.7,
             "#b8e186"
            ],
            [
             0.8,
             "#7fbc41"
            ],
            [
             0.9,
             "#4d9221"
            ],
            [
             1,
             "#276419"
            ]
           ],
           "sequential": [
            [
             0,
             "#0d0887"
            ],
            [
             0.1111111111111111,
             "#46039f"
            ],
            [
             0.2222222222222222,
             "#7201a8"
            ],
            [
             0.3333333333333333,
             "#9c179e"
            ],
            [
             0.4444444444444444,
             "#bd3786"
            ],
            [
             0.5555555555555556,
             "#d8576b"
            ],
            [
             0.6666666666666666,
             "#ed7953"
            ],
            [
             0.7777777777777778,
             "#fb9f3a"
            ],
            [
             0.8888888888888888,
             "#fdca26"
            ],
            [
             1,
             "#f0f921"
            ]
           ],
           "sequentialminus": [
            [
             0,
             "#0d0887"
            ],
            [
             0.1111111111111111,
             "#46039f"
            ],
            [
             0.2222222222222222,
             "#7201a8"
            ],
            [
             0.3333333333333333,
             "#9c179e"
            ],
            [
             0.4444444444444444,
             "#bd3786"
            ],
            [
             0.5555555555555556,
             "#d8576b"
            ],
            [
             0.6666666666666666,
             "#ed7953"
            ],
            [
             0.7777777777777778,
             "#fb9f3a"
            ],
            [
             0.8888888888888888,
             "#fdca26"
            ],
            [
             1,
             "#f0f921"
            ]
           ]
          },
          "colorway": [
           "#636efa",
           "#EF553B",
           "#00cc96",
           "#ab63fa",
           "#FFA15A",
           "#19d3f3",
           "#FF6692",
           "#B6E880",
           "#FF97FF",
           "#FECB52"
          ],
          "font": {
           "color": "#2a3f5f"
          },
          "geo": {
           "bgcolor": "white",
           "lakecolor": "white",
           "landcolor": "white",
           "showlakes": true,
           "showland": true,
           "subunitcolor": "#C8D4E3"
          },
          "hoverlabel": {
           "align": "left"
          },
          "hovermode": "closest",
          "mapbox": {
           "style": "light"
          },
          "paper_bgcolor": "white",
          "plot_bgcolor": "white",
          "polar": {
           "angularaxis": {
            "gridcolor": "#EBF0F8",
            "linecolor": "#EBF0F8",
            "ticks": ""
           },
           "bgcolor": "white",
           "radialaxis": {
            "gridcolor": "#EBF0F8",
            "linecolor": "#EBF0F8",
            "ticks": ""
           }
          },
          "scene": {
           "xaxis": {
            "backgroundcolor": "white",
            "gridcolor": "#DFE8F3",
            "gridwidth": 2,
            "linecolor": "#EBF0F8",
            "showbackground": true,
            "ticks": "",
            "zerolinecolor": "#EBF0F8"
           },
           "yaxis": {
            "backgroundcolor": "white",
            "gridcolor": "#DFE8F3",
            "gridwidth": 2,
            "linecolor": "#EBF0F8",
            "showbackground": true,
            "ticks": "",
            "zerolinecolor": "#EBF0F8"
           },
           "zaxis": {
            "backgroundcolor": "white",
            "gridcolor": "#DFE8F3",
            "gridwidth": 2,
            "linecolor": "#EBF0F8",
            "showbackground": true,
            "ticks": "",
            "zerolinecolor": "#EBF0F8"
           }
          },
          "shapedefaults": {
           "line": {
            "color": "#2a3f5f"
           }
          },
          "ternary": {
           "aaxis": {
            "gridcolor": "#DFE8F3",
            "linecolor": "#A2B1C6",
            "ticks": ""
           },
           "baxis": {
            "gridcolor": "#DFE8F3",
            "linecolor": "#A2B1C6",
            "ticks": ""
           },
           "bgcolor": "white",
           "caxis": {
            "gridcolor": "#DFE8F3",
            "linecolor": "#A2B1C6",
            "ticks": ""
           }
          },
          "title": {
           "x": 0.05
          },
          "xaxis": {
           "automargin": true,
           "gridcolor": "#EBF0F8",
           "linecolor": "#EBF0F8",
           "ticks": "",
           "title": {
            "standoff": 15
           },
           "zerolinecolor": "#EBF0F8",
           "zerolinewidth": 2
          },
          "yaxis": {
           "automargin": true,
           "gridcolor": "#EBF0F8",
           "linecolor": "#EBF0F8",
           "ticks": "",
           "title": {
            "standoff": 15
           },
           "zerolinecolor": "#EBF0F8",
           "zerolinewidth": 2
          }
         }
        },
        "title": {
         "font": {
          "family": "Arial Black",
          "size": 16
         },
         "text": "Decision Score Gauges - Top 8 Players by Decision Score",
         "x": 0.5,
         "xanchor": "center"
        }
       }
      }
     },
     "metadata": {},
     "output_type": "display_data"
    },
    {
     "name": "stdout",
     "output_type": "stream",
     "text": [
      "📊 Decision Score Gauges created\n",
      "Decision Score = VBD Value × Availability Probability\n",
      "Green=Draft Now (80+), Orange=Consider (60-79), Blue=Monitor (40-59), Gray=Low Priority (<40)\n"
     ]
    }
   ],
   "source": [
    "def create_decision_score_gauges(enhanced_df, top_n=8):\n",
    "    \"\"\"\n",
    "    Create gauge charts showing decision scores (0-100) for top players\n",
    "    \"\"\"\n",
    "    # Get top players by decision score\n",
    "    df_viz = enhanced_df.nlargest(top_n, 'decision_score').copy()\n",
    "    \n",
    "    # Normalize decision scores to 0-100 scale\n",
    "    max_decision_score = df_viz['decision_score'].max()\n",
    "    df_viz['normalized_score'] = (df_viz['decision_score'] / max_decision_score * 100).round(1)\n",
    "    \n",
    "    # Create subplots for gauges\n",
    "    rows = 2\n",
    "    cols = 4\n",
    "    fig = make_subplots(\n",
    "        rows=rows, cols=cols,\n",
    "        specs=[[{'type': 'indicator'}] * cols for _ in range(rows)],\n",
    "        subplot_titles=[f\"{row['player_name']} ({row['position']})\" for _, row in df_viz.iterrows()],\n",
    "        vertical_spacing=0.25,\n",
    "        horizontal_spacing=0.1\n",
    "    )\n",
    "    \n",
    "    # Add gauge for each player\n",
    "    for idx, (_, player) in enumerate(df_viz.iterrows()):\n",
    "        row = (idx // cols) + 1\n",
    "        col = (idx % cols) + 1\n",
    "        \n",
    "        normalized_score = player['normalized_score']\n",
    "        \n",
    "        # Determine color based on score ranges\n",
    "        if normalized_score >= 80:\n",
    "            gauge_color = \"#2ecc71\"  # Green\n",
    "            threshold_color = \"#27ae60\"\n",
    "        elif normalized_score >= 60:\n",
    "            gauge_color = \"#f39c12\"  # Orange\n",
    "            threshold_color = \"#e67e22\"\n",
    "        elif normalized_score >= 40:\n",
    "            gauge_color = \"#3498db\"  # Blue\n",
    "            threshold_color = \"#2980b9\"\n",
    "        else:\n",
    "            gauge_color = \"#95a5a6\"  # Gray\n",
    "            threshold_color = \"#7f8c8d\"\n",
    "        \n",
    "        fig.add_trace(\n",
    "            go.Indicator(\n",
    "                mode=\"gauge+number+delta\",\n",
    "                value=normalized_score,\n",
    "                domain={'x': [0, 1], 'y': [0, 1]},\n",
    "                title={'text': f\"VBD: {player['vbd_score']:.1f}<br>Avail: {player['prob_available_at_next']:.0%}\"},\n",
    "                delta={'reference': 50, 'valueformat': '.1f'},\n",
    "                gauge={\n",
    "                    'axis': {'range': [None, 100]},\n",
    "                    'bar': {'color': gauge_color},\n",
    "                    'steps': [\n",
    "                        {'range': [0, 40], 'color': \"#ecf0f1\"},\n",
    "                        {'range': [40, 60], 'color': \"#bdc3c7\"},\n",
    "                        {'range': [60, 80], 'color': \"#95a5a6\"}\n",
    "                    ],\n",
    "                    'threshold': {\n",
    "                        'line': {'color': threshold_color, 'width': 4},\n",
    "                        'thickness': 0.75,\n",
    "                        'value': normalized_score\n",
    "                    }\n",
    "                },\n",
    "                number={'font': {'size': 16, 'family': 'Arial Black'}}\n",
    "            ),\n",
    "            row=row, col=col\n",
    "        )\n",
    "    \n",
    "    # Update layout\n",
    "    fig.update_layout(\n",
    "        title={\n",
    "            'text': f\"Decision Score Gauges - Top {top_n} Players by Decision Score\",\n",
    "            'x': 0.5,\n",
    "            'xanchor': 'center',\n",
    "            'font': {'size': 16, 'family': 'Arial Black'}\n",
    "        },\n",
    "        height=600,\n",
    "        template='plotly_white',\n",
    "        font={'family': 'Arial', 'size': 12}\n",
    "    )\n",
    "    \n",
    "    # Add explanation annotation\n",
    "    fig.add_annotation(\n",
    "        text=\"Decision Score = VBD Value × Availability Probability (normalized to 0-100)<br>Green=Draft Now, Orange=Consider, Blue=Monitor, Gray=Low Priority\",\n",
    "        xref=\"paper\", yref=\"paper\",\n",
    "        x=0.5, y=-0.1,\n",
    "        showarrow=False,\n",
    "        font=dict(size=12, color=\"gray\"),\n",
    "        xanchor='center'\n",
    "    )\n",
    "    \n",
    "    return fig\n",
    "\n",
    "# Create and display decision score gauges\n",
    "decision_gauges = create_decision_score_gauges(enhanced_df, top_n=8)\n",
    "decision_gauges.show()\n",
    "\n",
    "print(\"📊 Decision Score Gauges created\")\n",
    "print(\"Decision Score = VBD Value × Availability Probability\")\n",
    "print(\"Green=Draft Now (80+), Orange=Consider (60-79), Blue=Monitor (40-59), Gray=Low Priority (<40)\")"
   ]
  },
  {
   "cell_type": "markdown",
   "metadata": {},
   "source": [
    "## Visualization 4: Position Scarcity Thermometers\n",
    "\n",
    "Vertical thermometer-style bars for each position showing remaining elite players and scarcity levels."
   ]
  },
  {
   "cell_type": "code",
   "execution_count": 7,
   "metadata": {},
   "outputs": [
    {
     "data": {
      "application/vnd.plotly.v1+json": {
       "config": {
        "plotlyServerURL": "https://plot.ly"
       },
       "data": [
        {
         "marker": {
          "color": "#ecf0f1"
         },
         "name": "QB Base",
         "showlegend": false,
         "type": "bar",
         "width": 0.4,
         "x": [
          "QB"
         ],
         "y": [
          100
         ]
        },
        {
         "marker": {
          "color": "#f39c12"
         },
         "name": "QB Scarcity",
         "showlegend": false,
         "text": "60°<br>Elite: 2<br>Strong: 4<br>Total: 32",
         "textfont": {
          "color": "white",
          "family": "Arial Black",
          "size": 10
         },
         "textposition": "inside",
         "type": "bar",
         "width": 0.35,
         "x": [
          "QB"
         ],
         "y": [
          60
         ]
        },
        {
         "marker": {
          "color": "#ecf0f1"
         },
         "name": "RB Base",
         "showlegend": false,
         "type": "bar",
         "width": 0.4,
         "x": [
          "RB"
         ],
         "y": [
          100
         ]
        },
        {
         "marker": {
          "color": "#27ae60"
         },
         "name": "RB Scarcity",
         "showlegend": false,
         "text": "0°<br>Elite: 6<br>Strong: 12<br>Total: 90",
         "textfont": {
          "color": "white",
          "family": "Arial Black",
          "size": 10
         },
         "textposition": "inside",
         "type": "bar",
         "width": 0.35,
         "x": [
          "RB"
         ],
         "y": [
          0
         ]
        },
        {
         "marker": {
          "color": "#ecf0f1"
         },
         "name": "WR Base",
         "showlegend": false,
         "type": "bar",
         "width": 0.4,
         "x": [
          "WR"
         ],
         "y": [
          100
         ]
        },
        {
         "marker": {
          "color": "#f39c12"
         },
         "name": "WR Scarcity",
         "showlegend": false,
         "text": "60°<br>Elite: 2<br>Strong: 5<br>Total: 104",
         "textfont": {
          "color": "white",
          "family": "Arial Black",
          "size": 10
         },
         "textposition": "inside",
         "type": "bar",
         "width": 0.35,
         "x": [
          "WR"
         ],
         "y": [
          60
         ]
        },
        {
         "marker": {
          "color": "#ecf0f1"
         },
         "name": "TE Base",
         "showlegend": false,
         "type": "bar",
         "width": 0.4,
         "x": [
          "TE"
         ],
         "y": [
          100
         ]
        },
        {
         "marker": {
          "color": "#e74c3c"
         },
         "name": "TE Scarcity",
         "showlegend": false,
         "text": "80°<br>Elite: 1<br>Strong: 3<br>Total: 34",
         "textfont": {
          "color": "white",
          "family": "Arial Black",
          "size": 10
         },
         "textposition": "inside",
         "type": "bar",
         "width": 0.35,
         "x": [
          "TE"
         ],
         "y": [
          80
         ]
        }
       ],
       "layout": {
        "annotations": [
         {
          "font": {
           "color": "#e74c3c",
           "family": "Arial Black",
           "size": 10
          },
          "showarrow": false,
          "text": "CRITICAL",
          "x": -0.5,
          "xanchor": "center",
          "y": 90
         },
         {
          "font": {
           "color": "#f39c12",
           "family": "Arial Black",
           "size": 10
          },
          "showarrow": false,
          "text": "HIGH",
          "x": -0.5,
          "xanchor": "center",
          "y": 70
         },
         {
          "font": {
           "color": "#f1c40f",
           "family": "Arial Black",
           "size": 10
          },
          "showarrow": false,
          "text": "MODERATE",
          "x": -0.5,
          "xanchor": "center",
          "y": 50
         },
         {
          "font": {
           "color": "#27ae60",
           "family": "Arial Black",
           "size": 10
          },
          "showarrow": false,
          "text": "LOW",
          "x": -0.5,
          "xanchor": "center",
          "y": 20
         },
         {
          "font": {
           "color": "gray",
           "size": 12
          },
          "showarrow": false,
          "text": "Higher temperature = More scarce position. Numbers show Elite/Strong/Total players remaining.",
          "x": 0.5,
          "xanchor": "center",
          "xref": "paper",
          "y": -0.15,
          "yref": "paper"
         }
        ],
        "barmode": "overlay",
        "height": 500,
        "template": {
         "data": {
          "bar": [
           {
            "error_x": {
             "color": "#2a3f5f"
            },
            "error_y": {
             "color": "#2a3f5f"
            },
            "marker": {
             "line": {
              "color": "white",
              "width": 0.5
             },
             "pattern": {
              "fillmode": "overlay",
              "size": 10,
              "solidity": 0.2
             }
            },
            "type": "bar"
           }
          ],
          "barpolar": [
           {
            "marker": {
             "line": {
              "color": "white",
              "width": 0.5
             },
             "pattern": {
              "fillmode": "overlay",
              "size": 10,
              "solidity": 0.2
             }
            },
            "type": "barpolar"
           }
          ],
          "carpet": [
           {
            "aaxis": {
             "endlinecolor": "#2a3f5f",
             "gridcolor": "#C8D4E3",
             "linecolor": "#C8D4E3",
             "minorgridcolor": "#C8D4E3",
             "startlinecolor": "#2a3f5f"
            },
            "baxis": {
             "endlinecolor": "#2a3f5f",
             "gridcolor": "#C8D4E3",
             "linecolor": "#C8D4E3",
             "minorgridcolor": "#C8D4E3",
             "startlinecolor": "#2a3f5f"
            },
            "type": "carpet"
           }
          ],
          "choropleth": [
           {
            "colorbar": {
             "outlinewidth": 0,
             "ticks": ""
            },
            "type": "choropleth"
           }
          ],
          "contour": [
           {
            "colorbar": {
             "outlinewidth": 0,
             "ticks": ""
            },
            "colorscale": [
             [
              0,
              "#0d0887"
             ],
             [
              0.1111111111111111,
              "#46039f"
             ],
             [
              0.2222222222222222,
              "#7201a8"
             ],
             [
              0.3333333333333333,
              "#9c179e"
             ],
             [
              0.4444444444444444,
              "#bd3786"
             ],
             [
              0.5555555555555556,
              "#d8576b"
             ],
             [
              0.6666666666666666,
              "#ed7953"
             ],
             [
              0.7777777777777778,
              "#fb9f3a"
             ],
             [
              0.8888888888888888,
              "#fdca26"
             ],
             [
              1,
              "#f0f921"
             ]
            ],
            "type": "contour"
           }
          ],
          "contourcarpet": [
           {
            "colorbar": {
             "outlinewidth": 0,
             "ticks": ""
            },
            "type": "contourcarpet"
           }
          ],
          "heatmap": [
           {
            "colorbar": {
             "outlinewidth": 0,
             "ticks": ""
            },
            "colorscale": [
             [
              0,
              "#0d0887"
             ],
             [
              0.1111111111111111,
              "#46039f"
             ],
             [
              0.2222222222222222,
              "#7201a8"
             ],
             [
              0.3333333333333333,
              "#9c179e"
             ],
             [
              0.4444444444444444,
              "#bd3786"
             ],
             [
              0.5555555555555556,
              "#d8576b"
             ],
             [
              0.6666666666666666,
              "#ed7953"
             ],
             [
              0.7777777777777778,
              "#fb9f3a"
             ],
             [
              0.8888888888888888,
              "#fdca26"
             ],
             [
              1,
              "#f0f921"
             ]
            ],
            "type": "heatmap"
           }
          ],
          "histogram": [
           {
            "marker": {
             "pattern": {
              "fillmode": "overlay",
              "size": 10,
              "solidity": 0.2
             }
            },
            "type": "histogram"
           }
          ],
          "histogram2d": [
           {
            "colorbar": {
             "outlinewidth": 0,
             "ticks": ""
            },
            "colorscale": [
             [
              0,
              "#0d0887"
             ],
             [
              0.1111111111111111,
              "#46039f"
             ],
             [
              0.2222222222222222,
              "#7201a8"
             ],
             [
              0.3333333333333333,
              "#9c179e"
             ],
             [
              0.4444444444444444,
              "#bd3786"
             ],
             [
              0.5555555555555556,
              "#d8576b"
             ],
             [
              0.6666666666666666,
              "#ed7953"
             ],
             [
              0.7777777777777778,
              "#fb9f3a"
             ],
             [
              0.8888888888888888,
              "#fdca26"
             ],
             [
              1,
              "#f0f921"
             ]
            ],
            "type": "histogram2d"
           }
          ],
          "histogram2dcontour": [
           {
            "colorbar": {
             "outlinewidth": 0,
             "ticks": ""
            },
            "colorscale": [
             [
              0,
              "#0d0887"
             ],
             [
              0.1111111111111111,
              "#46039f"
             ],
             [
              0.2222222222222222,
              "#7201a8"
             ],
             [
              0.3333333333333333,
              "#9c179e"
             ],
             [
              0.4444444444444444,
              "#bd3786"
             ],
             [
              0.5555555555555556,
              "#d8576b"
             ],
             [
              0.6666666666666666,
              "#ed7953"
             ],
             [
              0.7777777777777778,
              "#fb9f3a"
             ],
             [
              0.8888888888888888,
              "#fdca26"
             ],
             [
              1,
              "#f0f921"
             ]
            ],
            "type": "histogram2dcontour"
           }
          ],
          "mesh3d": [
           {
            "colorbar": {
             "outlinewidth": 0,
             "ticks": ""
            },
            "type": "mesh3d"
           }
          ],
          "parcoords": [
           {
            "line": {
             "colorbar": {
              "outlinewidth": 0,
              "ticks": ""
             }
            },
            "type": "parcoords"
           }
          ],
          "pie": [
           {
            "automargin": true,
            "type": "pie"
           }
          ],
          "scatter": [
           {
            "fillpattern": {
             "fillmode": "overlay",
             "size": 10,
             "solidity": 0.2
            },
            "type": "scatter"
           }
          ],
          "scatter3d": [
           {
            "line": {
             "colorbar": {
              "outlinewidth": 0,
              "ticks": ""
             }
            },
            "marker": {
             "colorbar": {
              "outlinewidth": 0,
              "ticks": ""
             }
            },
            "type": "scatter3d"
           }
          ],
          "scattercarpet": [
           {
            "marker": {
             "colorbar": {
              "outlinewidth": 0,
              "ticks": ""
             }
            },
            "type": "scattercarpet"
           }
          ],
          "scattergeo": [
           {
            "marker": {
             "colorbar": {
              "outlinewidth": 0,
              "ticks": ""
             }
            },
            "type": "scattergeo"
           }
          ],
          "scattergl": [
           {
            "marker": {
             "colorbar": {
              "outlinewidth": 0,
              "ticks": ""
             }
            },
            "type": "scattergl"
           }
          ],
          "scattermap": [
           {
            "marker": {
             "colorbar": {
              "outlinewidth": 0,
              "ticks": ""
             }
            },
            "type": "scattermap"
           }
          ],
          "scattermapbox": [
           {
            "marker": {
             "colorbar": {
              "outlinewidth": 0,
              "ticks": ""
             }
            },
            "type": "scattermapbox"
           }
          ],
          "scatterpolar": [
           {
            "marker": {
             "colorbar": {
              "outlinewidth": 0,
              "ticks": ""
             }
            },
            "type": "scatterpolar"
           }
          ],
          "scatterpolargl": [
           {
            "marker": {
             "colorbar": {
              "outlinewidth": 0,
              "ticks": ""
             }
            },
            "type": "scatterpolargl"
           }
          ],
          "scatterternary": [
           {
            "marker": {
             "colorbar": {
              "outlinewidth": 0,
              "ticks": ""
             }
            },
            "type": "scatterternary"
           }
          ],
          "surface": [
           {
            "colorbar": {
             "outlinewidth": 0,
             "ticks": ""
            },
            "colorscale": [
             [
              0,
              "#0d0887"
             ],
             [
              0.1111111111111111,
              "#46039f"
             ],
             [
              0.2222222222222222,
              "#7201a8"
             ],
             [
              0.3333333333333333,
              "#9c179e"
             ],
             [
              0.4444444444444444,
              "#bd3786"
             ],
             [
              0.5555555555555556,
              "#d8576b"
             ],
             [
              0.6666666666666666,
              "#ed7953"
             ],
             [
              0.7777777777777778,
              "#fb9f3a"
             ],
             [
              0.8888888888888888,
              "#fdca26"
             ],
             [
              1,
              "#f0f921"
             ]
            ],
            "type": "surface"
           }
          ],
          "table": [
           {
            "cells": {
             "fill": {
              "color": "#EBF0F8"
             },
             "line": {
              "color": "white"
             }
            },
            "header": {
             "fill": {
              "color": "#C8D4E3"
             },
             "line": {
              "color": "white"
             }
            },
            "type": "table"
           }
          ]
         },
         "layout": {
          "annotationdefaults": {
           "arrowcolor": "#2a3f5f",
           "arrowhead": 0,
           "arrowwidth": 1
          },
          "autotypenumbers": "strict",
          "coloraxis": {
           "colorbar": {
            "outlinewidth": 0,
            "ticks": ""
           }
          },
          "colorscale": {
           "diverging": [
            [
             0,
             "#8e0152"
            ],
            [
             0.1,
             "#c51b7d"
            ],
            [
             0.2,
             "#de77ae"
            ],
            [
             0.3,
             "#f1b6da"
            ],
            [
             0.4,
             "#fde0ef"
            ],
            [
             0.5,
             "#f7f7f7"
            ],
            [
             0.6,
             "#e6f5d0"
            ],
            [
             0.7,
             "#b8e186"
            ],
            [
             0.8,
             "#7fbc41"
            ],
            [
             0.9,
             "#4d9221"
            ],
            [
             1,
             "#276419"
            ]
           ],
           "sequential": [
            [
             0,
             "#0d0887"
            ],
            [
             0.1111111111111111,
             "#46039f"
            ],
            [
             0.2222222222222222,
             "#7201a8"
            ],
            [
             0.3333333333333333,
             "#9c179e"
            ],
            [
             0.4444444444444444,
             "#bd3786"
            ],
            [
             0.5555555555555556,
             "#d8576b"
            ],
            [
             0.6666666666666666,
             "#ed7953"
            ],
            [
             0.7777777777777778,
             "#fb9f3a"
            ],
            [
             0.8888888888888888,
             "#fdca26"
            ],
            [
             1,
             "#f0f921"
            ]
           ],
           "sequentialminus": [
            [
             0,
             "#0d0887"
            ],
            [
             0.1111111111111111,
             "#46039f"
            ],
            [
             0.2222222222222222,
             "#7201a8"
            ],
            [
             0.3333333333333333,
             "#9c179e"
            ],
            [
             0.4444444444444444,
             "#bd3786"
            ],
            [
             0.5555555555555556,
             "#d8576b"
            ],
            [
             0.6666666666666666,
             "#ed7953"
            ],
            [
             0.7777777777777778,
             "#fb9f3a"
            ],
            [
             0.8888888888888888,
             "#fdca26"
            ],
            [
             1,
             "#f0f921"
            ]
           ]
          },
          "colorway": [
           "#636efa",
           "#EF553B",
           "#00cc96",
           "#ab63fa",
           "#FFA15A",
           "#19d3f3",
           "#FF6692",
           "#B6E880",
           "#FF97FF",
           "#FECB52"
          ],
          "font": {
           "color": "#2a3f5f"
          },
          "geo": {
           "bgcolor": "white",
           "lakecolor": "white",
           "landcolor": "white",
           "showlakes": true,
           "showland": true,
           "subunitcolor": "#C8D4E3"
          },
          "hoverlabel": {
           "align": "left"
          },
          "hovermode": "closest",
          "mapbox": {
           "style": "light"
          },
          "paper_bgcolor": "white",
          "plot_bgcolor": "white",
          "polar": {
           "angularaxis": {
            "gridcolor": "#EBF0F8",
            "linecolor": "#EBF0F8",
            "ticks": ""
           },
           "bgcolor": "white",
           "radialaxis": {
            "gridcolor": "#EBF0F8",
            "linecolor": "#EBF0F8",
            "ticks": ""
           }
          },
          "scene": {
           "xaxis": {
            "backgroundcolor": "white",
            "gridcolor": "#DFE8F3",
            "gridwidth": 2,
            "linecolor": "#EBF0F8",
            "showbackground": true,
            "ticks": "",
            "zerolinecolor": "#EBF0F8"
           },
           "yaxis": {
            "backgroundcolor": "white",
            "gridcolor": "#DFE8F3",
            "gridwidth": 2,
            "linecolor": "#EBF0F8",
            "showbackground": true,
            "ticks": "",
            "zerolinecolor": "#EBF0F8"
           },
           "zaxis": {
            "backgroundcolor": "white",
            "gridcolor": "#DFE8F3",
            "gridwidth": 2,
            "linecolor": "#EBF0F8",
            "showbackground": true,
            "ticks": "",
            "zerolinecolor": "#EBF0F8"
           }
          },
          "shapedefaults": {
           "line": {
            "color": "#2a3f5f"
           }
          },
          "ternary": {
           "aaxis": {
            "gridcolor": "#DFE8F3",
            "linecolor": "#A2B1C6",
            "ticks": ""
           },
           "baxis": {
            "gridcolor": "#DFE8F3",
            "linecolor": "#A2B1C6",
            "ticks": ""
           },
           "bgcolor": "white",
           "caxis": {
            "gridcolor": "#DFE8F3",
            "linecolor": "#A2B1C6",
            "ticks": ""
           }
          },
          "title": {
           "x": 0.05
          },
          "xaxis": {
           "automargin": true,
           "gridcolor": "#EBF0F8",
           "linecolor": "#EBF0F8",
           "ticks": "",
           "title": {
            "standoff": 15
           },
           "zerolinecolor": "#EBF0F8",
           "zerolinewidth": 2
          },
          "yaxis": {
           "automargin": true,
           "gridcolor": "#EBF0F8",
           "linecolor": "#EBF0F8",
           "ticks": "",
           "title": {
            "standoff": 15
           },
           "zerolinecolor": "#EBF0F8",
           "zerolinewidth": 2
          }
         }
        },
        "title": {
         "font": {
          "family": "Arial Black",
          "size": 16
         },
         "text": "Position Scarcity Thermometers - Elite Player Availability",
         "x": 0.5,
         "xanchor": "center"
        },
        "xaxis": {
         "title": {
          "text": "Position"
         }
        },
        "yaxis": {
         "dtick": 20,
         "range": [
          0,
          100
         ],
         "tick0": 0,
         "tickmode": "linear",
         "title": {
          "text": "Scarcity Temperature (°)"
         }
        }
       }
      }
     },
     "metadata": {},
     "output_type": "display_data"
    },
    {
     "name": "stdout",
     "output_type": "stream",
     "text": [
      "📊 Position Scarcity Thermometers created\n",
      "\n",
      "Scarcity Summary:\n",
      "QB: 60° - Elite: 2, Strong: 4, Total: 32\n",
      "RB: 0° - Elite: 6, Strong: 12, Total: 90\n",
      "WR: 60° - Elite: 2, Strong: 5, Total: 104\n",
      "TE: 80° - Elite: 1, Strong: 3, Total: 34\n"
     ]
    }
   ],
   "source": [
    "def create_position_scarcity_thermometers(enhanced_df, position_scarcity):\n",
    "    \"\"\"\n",
    "    Create thermometer-style visualization showing position scarcity\n",
    "    \"\"\"\n",
    "    positions = ['QB', 'RB', 'WR', 'TE']\n",
    "    \n",
    "    # Calculate detailed scarcity metrics for each position\n",
    "    scarcity_data = []\n",
    "    \n",
    "    for pos in positions:\n",
    "        pos_players = enhanced_df[enhanced_df['position'] == pos].copy()\n",
    "        \n",
    "        # Count players by VBD tiers\n",
    "        elite_count = len(pos_players[pos_players['vbd_score'] >= 80])  # Elite tier\n",
    "        strong_count = len(pos_players[pos_players['vbd_score'] >= 60])  # Strong tier\n",
    "        solid_count = len(pos_players[pos_players['vbd_score'] >= 40])  # Solid tier\n",
    "        total_count = len(pos_players)\n",
    "        \n",
    "        # Calculate scarcity temperature (higher = more scarce)\n",
    "        if elite_count == 0:\n",
    "            scarcity_temp = 100\n",
    "        else:\n",
    "            scarcity_temp = max(0, 100 - (elite_count * 20))  # Each elite player reduces scarcity by 20\n",
    "        \n",
    "        scarcity_data.append({\n",
    "            'position': pos,\n",
    "            'elite_count': elite_count,\n",
    "            'strong_count': strong_count,\n",
    "            'solid_count': solid_count,\n",
    "            'total_count': total_count,\n",
    "            'scarcity_temp': scarcity_temp\n",
    "        })\n",
    "    \n",
    "    # Create thermometer visualization using plotly\n",
    "    fig = go.Figure()\n",
    "    \n",
    "    # Define position colors\n",
    "    position_colors = {\n",
    "        'QB': '#9b59b6',  # Purple\n",
    "        'RB': '#e74c3c',  # Red\n",
    "        'WR': '#3498db',  # Blue\n",
    "        'TE': '#f39c12'   # Orange\n",
    "    }\n",
    "    \n",
    "    # Create thermometer bars\n",
    "    for i, data in enumerate(scarcity_data):\n",
    "        pos = data['position']\n",
    "        temp = data['scarcity_temp']\n",
    "        \n",
    "        # Thermometer base (gray background)\n",
    "        fig.add_trace(go.Bar(\n",
    "            x=[pos],\n",
    "            y=[100],\n",
    "            name=f'{pos} Base',\n",
    "            marker_color='#ecf0f1',\n",
    "            showlegend=False,\n",
    "            width=0.4\n",
    "        ))\n",
    "        \n",
    "        # Thermometer fill (colored by scarcity level)\n",
    "        if temp >= 80:\n",
    "            fill_color = '#e74c3c'  # Red - Very Scarce\n",
    "        elif temp >= 60:\n",
    "            fill_color = '#f39c12'  # Orange - Scarce\n",
    "        elif temp >= 40:\n",
    "            fill_color = '#f1c40f'  # Yellow - Moderate\n",
    "        else:\n",
    "            fill_color = '#27ae60'  # Green - Abundant\n",
    "        \n",
    "        fig.add_trace(go.Bar(\n",
    "            x=[pos],\n",
    "            y=[temp],\n",
    "            name=f'{pos} Scarcity',\n",
    "            marker_color=fill_color,\n",
    "            showlegend=False,\n",
    "            width=0.35,\n",
    "            text=f\"{temp:.0f}°<br>Elite: {data['elite_count']}<br>Strong: {data['strong_count']}<br>Total: {data['total_count']}\",\n",
    "            textposition='inside',\n",
    "            textfont=dict(color='white', size=10, family='Arial Black')\n",
    "        ))\n",
    "    \n",
    "    # Add scarcity level indicators\n",
    "    scarcity_levels = [\n",
    "        {'level': 'CRITICAL', 'range': [80, 100], 'color': '#e74c3c'},\n",
    "        {'level': 'HIGH', 'range': [60, 80], 'color': '#f39c12'},\n",
    "        {'level': 'MODERATE', 'range': [40, 60], 'color': '#f1c40f'},\n",
    "        {'level': 'LOW', 'range': [0, 40], 'color': '#27ae60'}\n",
    "    ]\n",
    "    \n",
    "    # Update layout\n",
    "    fig.update_layout(\n",
    "        title={\n",
    "            'text': \"Position Scarcity Thermometers - Elite Player Availability\",\n",
    "            'x': 0.5,\n",
    "            'xanchor': 'center',\n",
    "            'font': {'size': 16, 'family': 'Arial Black'}\n",
    "        },\n",
    "        xaxis_title=\"Position\",\n",
    "        yaxis_title=\"Scarcity Temperature (°)\",\n",
    "        yaxis=dict(\n",
    "            range=[0, 100],\n",
    "            tickmode='linear',\n",
    "            tick0=0,\n",
    "            dtick=20\n",
    "        ),\n",
    "        height=500,\n",
    "        template='plotly_white',\n",
    "        barmode='overlay'\n",
    "    )\n",
    "    \n",
    "    # Add temperature zone annotations\n",
    "    zone_annotations = [\n",
    "        {'y': 90, 'text': 'CRITICAL', 'color': '#e74c3c'},\n",
    "        {'y': 70, 'text': 'HIGH', 'color': '#f39c12'},\n",
    "        {'y': 50, 'text': 'MODERATE', 'color': '#f1c40f'},\n",
    "        {'y': 20, 'text': 'LOW', 'color': '#27ae60'}\n",
    "    ]\n",
    "    \n",
    "    for zone in zone_annotations:\n",
    "        fig.add_annotation(\n",
    "            x=-0.5,\n",
    "            y=zone['y'],\n",
    "            text=zone['text'],\n",
    "            showarrow=False,\n",
    "            font=dict(color=zone['color'], size=10, family='Arial Black'),\n",
    "            xanchor='center'\n",
    "        )\n",
    "    \n",
    "    # Add explanation\n",
    "    fig.add_annotation(\n",
    "        text=\"Higher temperature = More scarce position. Numbers show Elite/Strong/Total players remaining.\",\n",
    "        xref=\"paper\", yref=\"paper\",\n",
    "        x=0.5, y=-0.15,\n",
    "        showarrow=False,\n",
    "        font=dict(size=12, color=\"gray\"),\n",
    "        xanchor='center'\n",
    "    )\n",
    "    \n",
    "    return fig, scarcity_data\n",
    "\n",
    "# Create and display position scarcity thermometers\n",
    "scarcity_thermometers, scarcity_summary = create_position_scarcity_thermometers(enhanced_df, position_scarcity)\n",
    "scarcity_thermometers.show()\n",
    "\n",
    "print(\"📊 Position Scarcity Thermometers created\")\n",
    "print(\"\\nScarcity Summary:\")\n",
    "for data in scarcity_summary:\n",
    "    print(f\"{data['position']}: {data['scarcity_temp']:.0f}° - Elite: {data['elite_count']}, Strong: {data['strong_count']}, Total: {data['total_count']}\")"
   ]
  },
  {
   "cell_type": "markdown",
   "metadata": {},
   "source": [
    "## Interactive Dashboard Controls\n",
    "\n",
    "Widget controls to update draft position and see how visualizations change in real-time."
   ]
  },
  {
   "cell_type": "code",
   "execution_count": 8,
   "metadata": {},
   "outputs": [
    {
     "name": "stdout",
     "output_type": "stream",
     "text": [
      "🎮 Interactive Dashboard Controls\n",
      "Update current pick and drafted players, then click refresh to update all visualizations\n",
      "================================================================================\n"
     ]
    },
    {
     "data": {
      "application/vnd.jupyter.widget-view+json": {
       "model_id": "014b155693f74111939509d367a6c741",
       "version_major": 2,
       "version_minor": 0
      },
      "text/plain": [
       "VBox(children=(HTML(value='<h3>🎮 Interactive Dashboard Controls</h3>'), IntSlider(value=1, description='Curren…"
      ]
     },
     "metadata": {},
     "output_type": "display_data"
    },
    {
     "data": {
      "application/vnd.jupyter.widget-view+json": {
       "model_id": "fa9c43a803d244bcbb3b37aa8c0ac169",
       "version_major": 2,
       "version_minor": 0
      },
      "text/plain": [
       "Output()"
      ]
     },
     "metadata": {},
     "output_type": "display_data"
    }
   ],
   "source": [
    "def create_interactive_dashboard_controls():\n",
    "    \"\"\"\n",
    "    Create interactive controls to update draft scenario and refresh visualizations\n",
    "    \"\"\"\n",
    "    # Create widgets\n",
    "    current_pick_slider = widgets.IntSlider(\n",
    "        value=1,\n",
    "        min=1,\n",
    "        max=50,\n",
    "        step=1,\n",
    "        description='Current Pick:',\n",
    "        style={'description_width': 'initial'}\n",
    "    )\n",
    "    \n",
    "    drafted_players_text = widgets.Textarea(\n",
    "        value='',\n",
    "        placeholder='Enter drafted player names, one per line',\n",
    "        description='Drafted Players:',\n",
    "        rows=3,\n",
    "        style={'description_width': 'initial'}\n",
    "    )\n",
    "    \n",
    "    refresh_button = widgets.Button(\n",
    "        description='🔄 Refresh Visualizations',\n",
    "        button_style='primary',\n",
    "        tooltip='Click to update all visualizations with current settings'\n",
    "    )\n",
    "    \n",
    "    output = widgets.Output()\n",
    "    \n",
    "    def refresh_visualizations(b):\n",
    "        \"\"\"Refresh all visualizations with current settings\"\"\"\n",
    "        with output:\n",
    "            clear_output(wait=True)\n",
    "            \n",
    "            try:\n",
    "                # Parse drafted players\n",
    "                drafted_text = drafted_players_text.value.strip()\n",
    "                drafted_set = set(line.strip() for line in drafted_text.split('\\n') if line.strip())\n",
    "                \n",
    "                print(f\"🔄 Refreshing visualizations...\")\n",
    "                print(f\"Current pick: {current_pick_slider.value}\")\n",
    "                print(f\"Drafted players: {len(drafted_set)} players\")\n",
    "                print(\"=\" * 50)\n",
    "                \n",
    "                # Recalculate enhanced metrics\n",
    "                enhanced_df_new, position_scarcity_new = calculate_enhanced_metrics(\n",
    "                    ranking_df, vbd_data,\n",
    "                    my_picks=my_draft_picks,\n",
    "                    current_pick=current_pick_slider.value,\n",
    "                    drafted_players=drafted_set\n",
    "                )\n",
    "                \n",
    "                # Create updated visualizations\n",
    "                print(\"\\n📊 Creating updated VBD Bar Chart...\")\n",
    "                vbd_chart = create_vbd_bar_chart_with_deltas(enhanced_df_new, top_n=12)\n",
    "                vbd_chart.show()\n",
    "                \n",
    "                print(\"\\n📊 Creating updated Decision Score Gauges...\")\n",
    "                gauge_chart = create_decision_score_gauges(enhanced_df_new, top_n=8)\n",
    "                gauge_chart.show()\n",
    "                \n",
    "                print(\"\\n📊 Creating updated Position Scarcity Thermometers...\")\n",
    "                thermo_chart, _ = create_position_scarcity_thermometers(enhanced_df_new, position_scarcity_new)\n",
    "                thermo_chart.show()\n",
    "                \n",
    "                print(\"\\n✅ All visualizations updated successfully!\")\n",
    "                \n",
    "            except Exception as e:\n",
    "                print(f\"❌ Error refreshing visualizations: {e}\")\n",
    "    \n",
    "    # Connect button to refresh function\n",
    "    refresh_button.on_click(refresh_visualizations)\n",
    "    \n",
    "    # Create layout\n",
    "    controls = widgets.VBox([\n",
    "        widgets.HTML(\"<h3>🎮 Interactive Dashboard Controls</h3>\"),\n",
    "        current_pick_slider,\n",
    "        drafted_players_text,\n",
    "        refresh_button\n",
    "    ])\n",
    "    \n",
    "    return controls, output\n",
    "\n",
    "# Create and display interactive controls\n",
    "dashboard_controls, dashboard_output = create_interactive_dashboard_controls()\n",
    "\n",
    "print(\"🎮 Interactive Dashboard Controls\")\n",
    "print(\"Update current pick and drafted players, then click refresh to update all visualizations\")\n",
    "print(\"=\" * 80)\n",
    "\n",
    "display(dashboard_controls)\n",
    "display(dashboard_output)"
   ]
  },
  {
   "cell_type": "markdown",
   "metadata": {},
   "source": [
    "## Summary\n",
    "\n",
    "This notebook provides 4 core advanced visualizations for fantasy football draft decision-making:\n",
    "\n",
    "### ✅ Implemented Visualizations:\n",
    "\n",
    "1. **VBD Bar Chart with Delta Overlays**\n",
    "   - Horizontal bars showing VBD scores\n",
    "   - Red overlay indicating value loss if you wait\n",
    "   - Helps identify high-value players at risk\n",
    "\n",
    "2. **Availability Sparkline Grid** \n",
    "   - 4x5 grid of mini probability charts\n",
    "   - Shows availability trends across draft picks\n",
    "   - Background colors indicate risk levels\n",
    "   - Red diamonds mark your next pick\n",
    "\n",
    "3. **Decision Score Gauges**\n",
    "   - Gauge charts showing 0-100 decision scores\n",
    "   - Combines VBD value × availability probability\n",
    "   - Color coded by priority (Green=Draft Now, Orange=Consider, etc.)\n",
    "\n",
    "4. **Position Scarcity Thermometers**\n",
    "   - Vertical thermometer bars for QB/RB/WR/TE\n",
    "   - Shows remaining elite players by position\n",
    "   - Temperature indicates scarcity level\n",
    "\n",
    "### 🎮 Interactive Features:\n",
    "- Real-time updates based on current pick\n",
    "- Drafted player tracking\n",
    "- Refresh button to update all visualizations\n",
    "\n",
    "### 🔧 Technical Implementation:\n",
    "- Integrates with existing 80% ESPN + 20% ADP probability system\n",
    "- Uses plotly for interactive charts\n",
    "- Handles data from existing CSV files\n",
    "- Includes error handling and user feedback\n",
    "\n",
    "All visualizations are designed to provide immediate, actionable insights for fantasy football draft decisions."
   ]
  }
 ],
 "metadata": {
  "kernelspec": {
   "display_name": "venv",
   "language": "python",
   "name": "python3"
  },
  "language_info": {
   "codemirror_mode": {
    "name": "ipython",
    "version": 3
   },
   "file_extension": ".py",
   "mimetype": "text/x-python",
   "name": "python",
   "nbconvert_exporter": "python",
   "pygments_lexer": "ipython3",
   "version": "3.13.6"
  }
 },
 "nbformat": 4,
 "nbformat_minor": 4
}
