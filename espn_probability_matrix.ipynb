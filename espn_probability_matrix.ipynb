{
 "cells": [
  {
   "cell_type": "markdown",
   "metadata": {},
   "source": [
    "# Fantasy Football Draft Decision Dashboard\n",
    "\n",
    "A focused, decision-support dashboard that shows only what matters for your next draft pick. Replaces overwhelming matrix visualization with compact, actionable insights."
   ]
  },
  {
   "cell_type": "code",
   "execution_count": 10,
   "metadata": {},
   "outputs": [],
   "source": [
    "import pandas as pd\n",
    "import numpy as np\n",
    "import plotly.express as px\n",
    "import plotly.graph_objects as go\n",
    "from plotly.subplots import make_subplots\n",
    "from scipy import stats\n",
    "import ipywidgets as widgets\n",
    "from IPython.display import display, clear_output, HTML\n",
    "from IPython.core.display import display_html\n",
    "import warnings\n",
    "warnings.filterwarnings('ignore')"
   ]
  },
  {
   "cell_type": "markdown",
   "metadata": {},
   "source": [
    "## 1. Core Calculation Engine (Preserved from Original)"
   ]
  },
  {
   "cell_type": "code",
   "execution_count": 11,
   "metadata": {},
   "outputs": [
    {
     "name": "stdout",
     "output_type": "stream",
     "text": [
      "Loaded 300 players\n",
      "   overall_rank position position_rank       player_name team  salary_value  \\\n",
      "0             1       WR           WR1     Ja'Marr Chase  CIN            57   \n",
      "1             2       RB           RB1    Bijan Robinson  ATL            56   \n",
      "2             3       WR           WR2  Justin Jefferson  MIN            55   \n",
      "3             4       RB           RB2    Saquon Barkley  PHI            55   \n",
      "4             5       RB           RB3      Jahmyr Gibbs  DET            54   \n",
      "\n",
      "   bye_week  \n",
      "0        10  \n",
      "1         5  \n",
      "2         6  \n",
      "3         9  \n",
      "4         8  \n"
     ]
    }
   ],
   "source": [
    "def load_espn_data():\n",
    "    \"\"\"Load ESPN projections CSV data\"\"\"\n",
    "    df = pd.read_csv('data/espn_projections_20250814.csv')\n",
    "    return df\n",
    "\n",
    "def calculate_availability(player_rank, draft_position, std_dev=3):\n",
    "    \"\"\"Calculate probability that a player is available at a given draft position\"\"\"\n",
    "    if draft_position <= 0:\n",
    "        return 1.0\n",
    "    # Probability = 1 - CDF(draft_position, mean=player_rank, std=std_dev)\n",
    "    prob = 1 - stats.norm.cdf(draft_position, loc=player_rank, scale=std_dev)\n",
    "    return max(0, min(1, prob))\n",
    "\n",
    "# Load the data\n",
    "df = load_espn_data()\n",
    "print(f\"Loaded {len(df)} players\")\n",
    "print(df.head())"
   ]
  },
  {
   "cell_type": "markdown",
   "metadata": {},
   "source": [
    "## 2. Enhanced Data Processing for Dashboard"
   ]
  },
  {
   "cell_type": "code",
   "execution_count": 12,
   "metadata": {},
   "outputs": [
    {
     "name": "stdout",
     "output_type": "stream",
     "text": [
      "Enhanced data for 300 available players\n",
      "        player_name position position_rank  overall_rank team  salary_value  \\\n",
      "0     Ja'Marr Chase       WR           WR1             1  CIN            57   \n",
      "1    Bijan Robinson       RB           RB1             2  ATL            56   \n",
      "2  Justin Jefferson       WR           WR2             3  MIN            55   \n",
      "3    Saquon Barkley       RB           RB2             4  PHI            55   \n",
      "4      Jahmyr Gibbs       RB           RB3             5  DET            54   \n",
      "\n",
      "   bye_week  next_pick_prob  median_pick  p10_pick  p90_pick pick_range  \n",
      "0        10        0.009815            1         4         1        1-4  \n",
      "1         5        0.022750            2         5         1        1-5  \n",
      "2         6        0.047790            3         6         1        1-6  \n",
      "3         9        0.091211            4         7         1        1-7  \n",
      "4         8        0.158655            5         8         1        1-8  \n"
     ]
    }
   ],
   "source": [
    "def calculate_player_metrics(df, my_picks=None, drafted_players=None):\n",
    "    \"\"\"Calculate enhanced metrics for each player including availability at my picks\"\"\"\n",
    "    if my_picks is None:\n",
    "        my_picks = []\n",
    "    if drafted_players is None:\n",
    "        drafted_players = set()\n",
    "    \n",
    "    enhanced_data = []\n",
    "    \n",
    "    for _, player in df.iterrows():\n",
    "        if player['player_name'] in drafted_players:\n",
    "            continue  # Skip drafted players\n",
    "            \n",
    "        player_rank = player['overall_rank']\n",
    "        \n",
    "        # Calculate probability at next available pick\n",
    "        next_pick_prob = 0.0\n",
    "        if my_picks:\n",
    "            next_pick = min([p for p in my_picks if p > 0])  # Next upcoming pick\n",
    "            next_pick_prob = calculate_availability(player_rank, next_pick)\n",
    "        \n",
    "        # Calculate median pick (50% probability point)\n",
    "        median_pick = player_rank\n",
    "        \n",
    "        # Calculate 10th and 90th percentile picks for range\n",
    "        p10_pick = max(1, stats.norm.ppf(0.9, loc=player_rank, scale=3))\n",
    "        p90_pick = stats.norm.ppf(0.1, loc=player_rank, scale=3)\n",
    "        \n",
    "        enhanced_data.append({\n",
    "            'player_name': player['player_name'],\n",
    "            'position': player['position'],\n",
    "            'position_rank': player['position_rank'],\n",
    "            'overall_rank': player['overall_rank'],\n",
    "            'team': player['team'],\n",
    "            'salary_value': player['salary_value'],\n",
    "            'bye_week': player['bye_week'],\n",
    "            'next_pick_prob': next_pick_prob,\n",
    "            'median_pick': median_pick,\n",
    "            'p10_pick': int(p10_pick),\n",
    "            'p90_pick': int(max(1, p90_pick)),\n",
    "            'pick_range': f\"{int(max(1, p90_pick))}-{int(p10_pick)}\"\n",
    "        })\n",
    "    \n",
    "    return pd.DataFrame(enhanced_data)\n",
    "\n",
    "# Example: Calculate metrics with sample \"my picks\"\n",
    "my_draft_picks = [8, 17, 32, 41, 56, 65, 80, 89]  # 8-team league, pick 8\n",
    "enhanced_df = calculate_player_metrics(df, my_picks=my_draft_picks)\n",
    "print(f\"Enhanced data for {len(enhanced_df)} available players\")\n",
    "print(enhanced_df.head())"
   ]
  },
  {
   "cell_type": "markdown",
   "metadata": {},
   "source": [
    "## 3. Compact Summary Table (Primary View)"
   ]
  },
  {
   "cell_type": "code",
   "execution_count": 13,
   "metadata": {},
   "outputs": [
    {
     "name": "stdout",
     "output_type": "stream",
     "text": [
      "TOP AVAILABLE PLAYERS - Decision Support Summary\n",
      "============================================================\n"
     ]
    },
    {
     "data": {
      "text/html": [
       "<style type=\"text/css\">\n",
       "#T_838fa_row0_col2, #T_838fa_row1_col2, #T_838fa_row2_col2, #T_838fa_row3_col2, #T_838fa_row4_col2, #T_838fa_row5_col2 {\n",
       "  background-color: #f8d7da;\n",
       "  color: #721c24;\n",
       "}\n",
       "#T_838fa_row6_col2, #T_838fa_row7_col2, #T_838fa_row8_col2 {\n",
       "  background-color: #fff3cd;\n",
       "  color: #856404;\n",
       "}\n",
       "#T_838fa_row9_col2, #T_838fa_row10_col2, #T_838fa_row11_col2, #T_838fa_row12_col2, #T_838fa_row13_col2, #T_838fa_row14_col2 {\n",
       "  background-color: #d4edda;\n",
       "  color: #155724;\n",
       "}\n",
       "</style>\n",
       "<table id=\"T_838fa\">\n",
       "  <thead>\n",
       "    <tr>\n",
       "      <th class=\"blank level0\" >&nbsp;</th>\n",
       "      <th id=\"T_838fa_level0_col0\" class=\"col_heading level0 col0\" >Player</th>\n",
       "      <th id=\"T_838fa_level0_col1\" class=\"col_heading level0 col1\" >ESPN Rank</th>\n",
       "      <th id=\"T_838fa_level0_col2\" class=\"col_heading level0 col2\" >P(at my pick)</th>\n",
       "      <th id=\"T_838fa_level0_col3\" class=\"col_heading level0 col3\" >Median Pick</th>\n",
       "      <th id=\"T_838fa_level0_col4\" class=\"col_heading level0 col4\" >Range (10-90%)</th>\n",
       "    </tr>\n",
       "  </thead>\n",
       "  <tbody>\n",
       "    <tr>\n",
       "      <th id=\"T_838fa_level0_row0\" class=\"row_heading level0 row0\" >0</th>\n",
       "      <td id=\"T_838fa_row0_col0\" class=\"data row0 col0\" >Ja'Marr Chase (WR)</td>\n",
       "      <td id=\"T_838fa_row0_col1\" class=\"data row0 col1\" >1</td>\n",
       "      <td id=\"T_838fa_row0_col2\" class=\"data row0 col2\" >1.0%</td>\n",
       "      <td id=\"T_838fa_row0_col3\" class=\"data row0 col3\" >1</td>\n",
       "      <td id=\"T_838fa_row0_col4\" class=\"data row0 col4\" >1-4</td>\n",
       "    </tr>\n",
       "    <tr>\n",
       "      <th id=\"T_838fa_level0_row1\" class=\"row_heading level0 row1\" >1</th>\n",
       "      <td id=\"T_838fa_row1_col0\" class=\"data row1 col0\" >Bijan Robinson (RB)</td>\n",
       "      <td id=\"T_838fa_row1_col1\" class=\"data row1 col1\" >2</td>\n",
       "      <td id=\"T_838fa_row1_col2\" class=\"data row1 col2\" >2.3%</td>\n",
       "      <td id=\"T_838fa_row1_col3\" class=\"data row1 col3\" >2</td>\n",
       "      <td id=\"T_838fa_row1_col4\" class=\"data row1 col4\" >1-5</td>\n",
       "    </tr>\n",
       "    <tr>\n",
       "      <th id=\"T_838fa_level0_row2\" class=\"row_heading level0 row2\" >2</th>\n",
       "      <td id=\"T_838fa_row2_col0\" class=\"data row2 col0\" >Justin Jefferson (WR)</td>\n",
       "      <td id=\"T_838fa_row2_col1\" class=\"data row2 col1\" >3</td>\n",
       "      <td id=\"T_838fa_row2_col2\" class=\"data row2 col2\" >4.8%</td>\n",
       "      <td id=\"T_838fa_row2_col3\" class=\"data row2 col3\" >3</td>\n",
       "      <td id=\"T_838fa_row2_col4\" class=\"data row2 col4\" >1-6</td>\n",
       "    </tr>\n",
       "    <tr>\n",
       "      <th id=\"T_838fa_level0_row3\" class=\"row_heading level0 row3\" >3</th>\n",
       "      <td id=\"T_838fa_row3_col0\" class=\"data row3 col0\" >Saquon Barkley (RB)</td>\n",
       "      <td id=\"T_838fa_row3_col1\" class=\"data row3 col1\" >4</td>\n",
       "      <td id=\"T_838fa_row3_col2\" class=\"data row3 col2\" >9.1%</td>\n",
       "      <td id=\"T_838fa_row3_col3\" class=\"data row3 col3\" >4</td>\n",
       "      <td id=\"T_838fa_row3_col4\" class=\"data row3 col4\" >1-7</td>\n",
       "    </tr>\n",
       "    <tr>\n",
       "      <th id=\"T_838fa_level0_row4\" class=\"row_heading level0 row4\" >4</th>\n",
       "      <td id=\"T_838fa_row4_col0\" class=\"data row4 col0\" >Jahmyr Gibbs (RB)</td>\n",
       "      <td id=\"T_838fa_row4_col1\" class=\"data row4 col1\" >5</td>\n",
       "      <td id=\"T_838fa_row4_col2\" class=\"data row4 col2\" >15.9%</td>\n",
       "      <td id=\"T_838fa_row4_col3\" class=\"data row4 col3\" >5</td>\n",
       "      <td id=\"T_838fa_row4_col4\" class=\"data row4 col4\" >1-8</td>\n",
       "    </tr>\n",
       "    <tr>\n",
       "      <th id=\"T_838fa_level0_row5\" class=\"row_heading level0 row5\" >5</th>\n",
       "      <td id=\"T_838fa_row5_col0\" class=\"data row5 col0\" >CeeDee Lamb (WR)</td>\n",
       "      <td id=\"T_838fa_row5_col1\" class=\"data row5 col1\" >6</td>\n",
       "      <td id=\"T_838fa_row5_col2\" class=\"data row5 col2\" >25.2%</td>\n",
       "      <td id=\"T_838fa_row5_col3\" class=\"data row5 col3\" >6</td>\n",
       "      <td id=\"T_838fa_row5_col4\" class=\"data row5 col4\" >2-9</td>\n",
       "    </tr>\n",
       "    <tr>\n",
       "      <th id=\"T_838fa_level0_row6\" class=\"row_heading level0 row6\" >6</th>\n",
       "      <td id=\"T_838fa_row6_col0\" class=\"data row6 col0\" >Christian McCaffrey (RB)</td>\n",
       "      <td id=\"T_838fa_row6_col1\" class=\"data row6 col1\" >7</td>\n",
       "      <td id=\"T_838fa_row6_col2\" class=\"data row6 col2\" >36.9%</td>\n",
       "      <td id=\"T_838fa_row6_col3\" class=\"data row6 col3\" >7</td>\n",
       "      <td id=\"T_838fa_row6_col4\" class=\"data row6 col4\" >3-10</td>\n",
       "    </tr>\n",
       "    <tr>\n",
       "      <th id=\"T_838fa_level0_row7\" class=\"row_heading level0 row7\" >7</th>\n",
       "      <td id=\"T_838fa_row7_col0\" class=\"data row7 col0\" >Puka Nacua (WR)</td>\n",
       "      <td id=\"T_838fa_row7_col1\" class=\"data row7 col1\" >8</td>\n",
       "      <td id=\"T_838fa_row7_col2\" class=\"data row7 col2\" >50.0%</td>\n",
       "      <td id=\"T_838fa_row7_col3\" class=\"data row7 col3\" >8</td>\n",
       "      <td id=\"T_838fa_row7_col4\" class=\"data row7 col4\" >4-11</td>\n",
       "    </tr>\n",
       "    <tr>\n",
       "      <th id=\"T_838fa_level0_row8\" class=\"row_heading level0 row8\" >8</th>\n",
       "      <td id=\"T_838fa_row8_col0\" class=\"data row8 col0\" >Malik Nabers (WR)</td>\n",
       "      <td id=\"T_838fa_row8_col1\" class=\"data row8 col1\" >9</td>\n",
       "      <td id=\"T_838fa_row8_col2\" class=\"data row8 col2\" >63.1%</td>\n",
       "      <td id=\"T_838fa_row8_col3\" class=\"data row8 col3\" >9</td>\n",
       "      <td id=\"T_838fa_row8_col4\" class=\"data row8 col4\" >5-12</td>\n",
       "    </tr>\n",
       "    <tr>\n",
       "      <th id=\"T_838fa_level0_row9\" class=\"row_heading level0 row9\" >9</th>\n",
       "      <td id=\"T_838fa_row9_col0\" class=\"data row9 col0\" >Amon-Ra St. Brown (WR)</td>\n",
       "      <td id=\"T_838fa_row9_col1\" class=\"data row9 col1\" >10</td>\n",
       "      <td id=\"T_838fa_row9_col2\" class=\"data row9 col2\" >74.8%</td>\n",
       "      <td id=\"T_838fa_row9_col3\" class=\"data row9 col3\" >10</td>\n",
       "      <td id=\"T_838fa_row9_col4\" class=\"data row9 col4\" >6-13</td>\n",
       "    </tr>\n",
       "    <tr>\n",
       "      <th id=\"T_838fa_level0_row10\" class=\"row_heading level0 row10\" >10</th>\n",
       "      <td id=\"T_838fa_row10_col0\" class=\"data row10 col0\" >Derrick Henry (RB)</td>\n",
       "      <td id=\"T_838fa_row10_col1\" class=\"data row10 col1\" >11</td>\n",
       "      <td id=\"T_838fa_row10_col2\" class=\"data row10 col2\" >84.1%</td>\n",
       "      <td id=\"T_838fa_row10_col3\" class=\"data row10 col3\" >11</td>\n",
       "      <td id=\"T_838fa_row10_col4\" class=\"data row10 col4\" >7-14</td>\n",
       "    </tr>\n",
       "    <tr>\n",
       "      <th id=\"T_838fa_level0_row11\" class=\"row_heading level0 row11\" >11</th>\n",
       "      <td id=\"T_838fa_row11_col0\" class=\"data row11 col0\" >Ashton Jeanty (RB)</td>\n",
       "      <td id=\"T_838fa_row11_col1\" class=\"data row11 col1\" >12</td>\n",
       "      <td id=\"T_838fa_row11_col2\" class=\"data row11 col2\" >90.9%</td>\n",
       "      <td id=\"T_838fa_row11_col3\" class=\"data row11 col3\" >12</td>\n",
       "      <td id=\"T_838fa_row11_col4\" class=\"data row11 col4\" >8-15</td>\n",
       "    </tr>\n",
       "    <tr>\n",
       "      <th id=\"T_838fa_level0_row12\" class=\"row_heading level0 row12\" >12</th>\n",
       "      <td id=\"T_838fa_row12_col0\" class=\"data row12 col0\" >Nico Collins (WR)</td>\n",
       "      <td id=\"T_838fa_row12_col1\" class=\"data row12 col1\" >13</td>\n",
       "      <td id=\"T_838fa_row12_col2\" class=\"data row12 col2\" >95.2%</td>\n",
       "      <td id=\"T_838fa_row12_col3\" class=\"data row12 col3\" >13</td>\n",
       "      <td id=\"T_838fa_row12_col4\" class=\"data row12 col4\" >9-16</td>\n",
       "    </tr>\n",
       "    <tr>\n",
       "      <th id=\"T_838fa_level0_row13\" class=\"row_heading level0 row13\" >13</th>\n",
       "      <td id=\"T_838fa_row13_col0\" class=\"data row13 col0\" >Brian Thomas Jr. (WR)</td>\n",
       "      <td id=\"T_838fa_row13_col1\" class=\"data row13 col1\" >14</td>\n",
       "      <td id=\"T_838fa_row13_col2\" class=\"data row13 col2\" >97.7%</td>\n",
       "      <td id=\"T_838fa_row13_col3\" class=\"data row13 col3\" >14</td>\n",
       "      <td id=\"T_838fa_row13_col4\" class=\"data row13 col4\" >10-17</td>\n",
       "    </tr>\n",
       "    <tr>\n",
       "      <th id=\"T_838fa_level0_row14\" class=\"row_heading level0 row14\" >14</th>\n",
       "      <td id=\"T_838fa_row14_col0\" class=\"data row14 col0\" >A.J. Brown (WR)</td>\n",
       "      <td id=\"T_838fa_row14_col1\" class=\"data row14 col1\" >15</td>\n",
       "      <td id=\"T_838fa_row14_col2\" class=\"data row14 col2\" >99.0%</td>\n",
       "      <td id=\"T_838fa_row14_col3\" class=\"data row14 col3\" >15</td>\n",
       "      <td id=\"T_838fa_row14_col4\" class=\"data row14 col4\" >11-18</td>\n",
       "    </tr>\n",
       "  </tbody>\n",
       "</table>\n"
      ],
      "text/plain": [
       "<pandas.io.formats.style.Styler at 0x139135940>"
      ]
     },
     "metadata": {},
     "output_type": "display_data"
    }
   ],
   "source": [
    "def create_summary_table(enhanced_df, position_filter=None, limit=20):\n",
    "    \"\"\"Create compact, sortable summary table\"\"\"\n",
    "    \n",
    "    # Filter by position if specified\n",
    "    if position_filter and position_filter != 'ALL':\n",
    "        filtered_df = enhanced_df[enhanced_df['position'] == position_filter].copy()\n",
    "    else:\n",
    "        filtered_df = enhanced_df.copy()\n",
    "    \n",
    "    # Sort by overall rank (best players first)\n",
    "    filtered_df = filtered_df.sort_values('overall_rank').head(limit)\n",
    "    \n",
    "    # Create display DataFrame\n",
    "    display_df = filtered_df[['player_name', 'position', 'overall_rank', 'next_pick_prob', 'median_pick', 'pick_range']].copy()\n",
    "    \n",
    "    # Format columns\n",
    "    display_df['Player'] = display_df['player_name'] + ' (' + display_df['position'] + ')'\n",
    "    display_df['ESPN Rank'] = display_df['overall_rank']\n",
    "    display_df['P(at my pick)'] = (display_df['next_pick_prob'] * 100).round(1).astype(str) + '%'\n",
    "    display_df['Median Pick'] = display_df['median_pick'].round(0).astype(int)\n",
    "    display_df['Range (10-90%)'] = display_df['pick_range']\n",
    "    \n",
    "    # Select final columns\n",
    "    final_df = display_df[['Player', 'ESPN Rank', 'P(at my pick)', 'Median Pick', 'Range (10-90%)']].copy()\n",
    "    \n",
    "    # Apply color coding based on probability\n",
    "    def color_probability(val):\n",
    "        if '%' in str(val):\n",
    "            prob = float(val.replace('%', ''))\n",
    "            if prob >= 70:\n",
    "                return 'background-color: #d4edda; color: #155724'  # Green\n",
    "            elif prob >= 30:\n",
    "                return 'background-color: #fff3cd; color: #856404'  # Yellow\n",
    "            else:\n",
    "                return 'background-color: #f8d7da; color: #721c24'  # Red\n",
    "        return ''\n",
    "    \n",
    "    styled_df = final_df.style.applymap(color_probability, subset=['P(at my pick)'])\n",
    "    \n",
    "    return styled_df\n",
    "\n",
    "# Create and display summary table\n",
    "summary_table = create_summary_table(enhanced_df, limit=15)\n",
    "print(\"TOP AVAILABLE PLAYERS - Decision Support Summary\")\n",
    "print(\"=\" * 60)\n",
    "display(summary_table)"
   ]
  },
  {
   "cell_type": "markdown",
   "metadata": {},
   "source": [
    "## 4. Player Cards Layout (Mobile-Friendly)"
   ]
  },
  {
   "cell_type": "code",
   "execution_count": 14,
   "metadata": {},
   "outputs": [
    {
     "name": "stdout",
     "output_type": "stream",
     "text": [
      "TOP AVAILABLE PLAYERS - Card View\n",
      "==================================================\n"
     ]
    },
    {
     "data": {
      "text/html": [
       "\n",
       "    <div style=\"display: flex; flex-wrap: wrap; justify-content: flex-start; align-items: stretch;\">\n",
       "        \n",
       "        <div style=\"\n",
       "            background-color: #f8d7da;\n",
       "            border: 2px solid #f5c6cb;\n",
       "            border-radius: 8px;\n",
       "            padding: 12px;\n",
       "            margin: 8px;\n",
       "            min-width: 200px;\n",
       "            max-width: 300px;\n",
       "            box-shadow: 0 2px 4px rgba(0,0,0,0.1);\n",
       "        \">\n",
       "            <div style=\"font-weight: bold; font-size: 16px; color: #721c24; margin-bottom: 6px;\">\n",
       "                Ja'Marr Chase\n",
       "            </div>\n",
       "            <div style=\"color: #666; font-size: 12px; margin-bottom: 8px;\">\n",
       "                WRWR1 • CIN • Bye: 10\n",
       "            </div>\n",
       "            <div style=\"font-size: 14px; margin-bottom: 4px;\">\n",
       "                <strong>ESPN Rank:</strong> #1\n",
       "            </div>\n",
       "            <div style=\"font-size: 14px; margin-bottom: 4px;\">\n",
       "                <strong>P(at my pick):</strong> <span style=\"color: #721c24; font-weight: bold;\">1.0%</span>\n",
       "            </div>\n",
       "            <div style=\"font-size: 14px; margin-bottom: 4px;\">\n",
       "                <strong>Expected Pick:</strong> 1\n",
       "            </div>\n",
       "            <div style=\"font-size: 12px; color: #666;\">\n",
       "                <strong>Range:</strong> 1-4\n",
       "            </div>\n",
       "        </div>\n",
       "        \n",
       "        <div style=\"\n",
       "            background-color: #f8d7da;\n",
       "            border: 2px solid #f5c6cb;\n",
       "            border-radius: 8px;\n",
       "            padding: 12px;\n",
       "            margin: 8px;\n",
       "            min-width: 200px;\n",
       "            max-width: 300px;\n",
       "            box-shadow: 0 2px 4px rgba(0,0,0,0.1);\n",
       "        \">\n",
       "            <div style=\"font-weight: bold; font-size: 16px; color: #721c24; margin-bottom: 6px;\">\n",
       "                Bijan Robinson\n",
       "            </div>\n",
       "            <div style=\"color: #666; font-size: 12px; margin-bottom: 8px;\">\n",
       "                RBRB1 • ATL • Bye: 5\n",
       "            </div>\n",
       "            <div style=\"font-size: 14px; margin-bottom: 4px;\">\n",
       "                <strong>ESPN Rank:</strong> #2\n",
       "            </div>\n",
       "            <div style=\"font-size: 14px; margin-bottom: 4px;\">\n",
       "                <strong>P(at my pick):</strong> <span style=\"color: #721c24; font-weight: bold;\">2.3%</span>\n",
       "            </div>\n",
       "            <div style=\"font-size: 14px; margin-bottom: 4px;\">\n",
       "                <strong>Expected Pick:</strong> 2\n",
       "            </div>\n",
       "            <div style=\"font-size: 12px; color: #666;\">\n",
       "                <strong>Range:</strong> 1-5\n",
       "            </div>\n",
       "        </div>\n",
       "        \n",
       "        <div style=\"\n",
       "            background-color: #f8d7da;\n",
       "            border: 2px solid #f5c6cb;\n",
       "            border-radius: 8px;\n",
       "            padding: 12px;\n",
       "            margin: 8px;\n",
       "            min-width: 200px;\n",
       "            max-width: 300px;\n",
       "            box-shadow: 0 2px 4px rgba(0,0,0,0.1);\n",
       "        \">\n",
       "            <div style=\"font-weight: bold; font-size: 16px; color: #721c24; margin-bottom: 6px;\">\n",
       "                Justin Jefferson\n",
       "            </div>\n",
       "            <div style=\"color: #666; font-size: 12px; margin-bottom: 8px;\">\n",
       "                WRWR2 • MIN • Bye: 6\n",
       "            </div>\n",
       "            <div style=\"font-size: 14px; margin-bottom: 4px;\">\n",
       "                <strong>ESPN Rank:</strong> #3\n",
       "            </div>\n",
       "            <div style=\"font-size: 14px; margin-bottom: 4px;\">\n",
       "                <strong>P(at my pick):</strong> <span style=\"color: #721c24; font-weight: bold;\">4.8%</span>\n",
       "            </div>\n",
       "            <div style=\"font-size: 14px; margin-bottom: 4px;\">\n",
       "                <strong>Expected Pick:</strong> 3\n",
       "            </div>\n",
       "            <div style=\"font-size: 12px; color: #666;\">\n",
       "                <strong>Range:</strong> 1-6\n",
       "            </div>\n",
       "        </div>\n",
       "        \n",
       "        <div style=\"\n",
       "            background-color: #f8d7da;\n",
       "            border: 2px solid #f5c6cb;\n",
       "            border-radius: 8px;\n",
       "            padding: 12px;\n",
       "            margin: 8px;\n",
       "            min-width: 200px;\n",
       "            max-width: 300px;\n",
       "            box-shadow: 0 2px 4px rgba(0,0,0,0.1);\n",
       "        \">\n",
       "            <div style=\"font-weight: bold; font-size: 16px; color: #721c24; margin-bottom: 6px;\">\n",
       "                Saquon Barkley\n",
       "            </div>\n",
       "            <div style=\"color: #666; font-size: 12px; margin-bottom: 8px;\">\n",
       "                RBRB2 • PHI • Bye: 9\n",
       "            </div>\n",
       "            <div style=\"font-size: 14px; margin-bottom: 4px;\">\n",
       "                <strong>ESPN Rank:</strong> #4\n",
       "            </div>\n",
       "            <div style=\"font-size: 14px; margin-bottom: 4px;\">\n",
       "                <strong>P(at my pick):</strong> <span style=\"color: #721c24; font-weight: bold;\">9.1%</span>\n",
       "            </div>\n",
       "            <div style=\"font-size: 14px; margin-bottom: 4px;\">\n",
       "                <strong>Expected Pick:</strong> 4\n",
       "            </div>\n",
       "            <div style=\"font-size: 12px; color: #666;\">\n",
       "                <strong>Range:</strong> 1-7\n",
       "            </div>\n",
       "        </div>\n",
       "        \n",
       "        <div style=\"\n",
       "            background-color: #f8d7da;\n",
       "            border: 2px solid #f5c6cb;\n",
       "            border-radius: 8px;\n",
       "            padding: 12px;\n",
       "            margin: 8px;\n",
       "            min-width: 200px;\n",
       "            max-width: 300px;\n",
       "            box-shadow: 0 2px 4px rgba(0,0,0,0.1);\n",
       "        \">\n",
       "            <div style=\"font-weight: bold; font-size: 16px; color: #721c24; margin-bottom: 6px;\">\n",
       "                Jahmyr Gibbs\n",
       "            </div>\n",
       "            <div style=\"color: #666; font-size: 12px; margin-bottom: 8px;\">\n",
       "                RBRB3 • DET • Bye: 8\n",
       "            </div>\n",
       "            <div style=\"font-size: 14px; margin-bottom: 4px;\">\n",
       "                <strong>ESPN Rank:</strong> #5\n",
       "            </div>\n",
       "            <div style=\"font-size: 14px; margin-bottom: 4px;\">\n",
       "                <strong>P(at my pick):</strong> <span style=\"color: #721c24; font-weight: bold;\">15.9%</span>\n",
       "            </div>\n",
       "            <div style=\"font-size: 14px; margin-bottom: 4px;\">\n",
       "                <strong>Expected Pick:</strong> 5\n",
       "            </div>\n",
       "            <div style=\"font-size: 12px; color: #666;\">\n",
       "                <strong>Range:</strong> 1-8\n",
       "            </div>\n",
       "        </div>\n",
       "        \n",
       "        <div style=\"\n",
       "            background-color: #f8d7da;\n",
       "            border: 2px solid #f5c6cb;\n",
       "            border-radius: 8px;\n",
       "            padding: 12px;\n",
       "            margin: 8px;\n",
       "            min-width: 200px;\n",
       "            max-width: 300px;\n",
       "            box-shadow: 0 2px 4px rgba(0,0,0,0.1);\n",
       "        \">\n",
       "            <div style=\"font-weight: bold; font-size: 16px; color: #721c24; margin-bottom: 6px;\">\n",
       "                CeeDee Lamb\n",
       "            </div>\n",
       "            <div style=\"color: #666; font-size: 12px; margin-bottom: 8px;\">\n",
       "                WRWR3 • DAL • Bye: 10\n",
       "            </div>\n",
       "            <div style=\"font-size: 14px; margin-bottom: 4px;\">\n",
       "                <strong>ESPN Rank:</strong> #6\n",
       "            </div>\n",
       "            <div style=\"font-size: 14px; margin-bottom: 4px;\">\n",
       "                <strong>P(at my pick):</strong> <span style=\"color: #721c24; font-weight: bold;\">25.2%</span>\n",
       "            </div>\n",
       "            <div style=\"font-size: 14px; margin-bottom: 4px;\">\n",
       "                <strong>Expected Pick:</strong> 6\n",
       "            </div>\n",
       "            <div style=\"font-size: 12px; color: #666;\">\n",
       "                <strong>Range:</strong> 2-9\n",
       "            </div>\n",
       "        </div>\n",
       "        \n",
       "        <div style=\"\n",
       "            background-color: #fff3cd;\n",
       "            border: 2px solid #ffeeba;\n",
       "            border-radius: 8px;\n",
       "            padding: 12px;\n",
       "            margin: 8px;\n",
       "            min-width: 200px;\n",
       "            max-width: 300px;\n",
       "            box-shadow: 0 2px 4px rgba(0,0,0,0.1);\n",
       "        \">\n",
       "            <div style=\"font-weight: bold; font-size: 16px; color: #856404; margin-bottom: 6px;\">\n",
       "                Christian McCaffrey\n",
       "            </div>\n",
       "            <div style=\"color: #666; font-size: 12px; margin-bottom: 8px;\">\n",
       "                RBRB4 • SF • Bye: 14\n",
       "            </div>\n",
       "            <div style=\"font-size: 14px; margin-bottom: 4px;\">\n",
       "                <strong>ESPN Rank:</strong> #7\n",
       "            </div>\n",
       "            <div style=\"font-size: 14px; margin-bottom: 4px;\">\n",
       "                <strong>P(at my pick):</strong> <span style=\"color: #856404; font-weight: bold;\">36.9%</span>\n",
       "            </div>\n",
       "            <div style=\"font-size: 14px; margin-bottom: 4px;\">\n",
       "                <strong>Expected Pick:</strong> 7\n",
       "            </div>\n",
       "            <div style=\"font-size: 12px; color: #666;\">\n",
       "                <strong>Range:</strong> 3-10\n",
       "            </div>\n",
       "        </div>\n",
       "        \n",
       "        <div style=\"\n",
       "            background-color: #fff3cd;\n",
       "            border: 2px solid #ffeeba;\n",
       "            border-radius: 8px;\n",
       "            padding: 12px;\n",
       "            margin: 8px;\n",
       "            min-width: 200px;\n",
       "            max-width: 300px;\n",
       "            box-shadow: 0 2px 4px rgba(0,0,0,0.1);\n",
       "        \">\n",
       "            <div style=\"font-weight: bold; font-size: 16px; color: #856404; margin-bottom: 6px;\">\n",
       "                Puka Nacua\n",
       "            </div>\n",
       "            <div style=\"color: #666; font-size: 12px; margin-bottom: 8px;\">\n",
       "                WRWR4 • LAR • Bye: 8\n",
       "            </div>\n",
       "            <div style=\"font-size: 14px; margin-bottom: 4px;\">\n",
       "                <strong>ESPN Rank:</strong> #8\n",
       "            </div>\n",
       "            <div style=\"font-size: 14px; margin-bottom: 4px;\">\n",
       "                <strong>P(at my pick):</strong> <span style=\"color: #856404; font-weight: bold;\">50.0%</span>\n",
       "            </div>\n",
       "            <div style=\"font-size: 14px; margin-bottom: 4px;\">\n",
       "                <strong>Expected Pick:</strong> 8\n",
       "            </div>\n",
       "            <div style=\"font-size: 12px; color: #666;\">\n",
       "                <strong>Range:</strong> 4-11\n",
       "            </div>\n",
       "        </div>\n",
       "        \n",
       "        <div style=\"\n",
       "            background-color: #fff3cd;\n",
       "            border: 2px solid #ffeeba;\n",
       "            border-radius: 8px;\n",
       "            padding: 12px;\n",
       "            margin: 8px;\n",
       "            min-width: 200px;\n",
       "            max-width: 300px;\n",
       "            box-shadow: 0 2px 4px rgba(0,0,0,0.1);\n",
       "        \">\n",
       "            <div style=\"font-weight: bold; font-size: 16px; color: #856404; margin-bottom: 6px;\">\n",
       "                Malik Nabers\n",
       "            </div>\n",
       "            <div style=\"color: #666; font-size: 12px; margin-bottom: 8px;\">\n",
       "                WRWR5 • NYG • Bye: 14\n",
       "            </div>\n",
       "            <div style=\"font-size: 14px; margin-bottom: 4px;\">\n",
       "                <strong>ESPN Rank:</strong> #9\n",
       "            </div>\n",
       "            <div style=\"font-size: 14px; margin-bottom: 4px;\">\n",
       "                <strong>P(at my pick):</strong> <span style=\"color: #856404; font-weight: bold;\">63.1%</span>\n",
       "            </div>\n",
       "            <div style=\"font-size: 14px; margin-bottom: 4px;\">\n",
       "                <strong>Expected Pick:</strong> 9\n",
       "            </div>\n",
       "            <div style=\"font-size: 12px; color: #666;\">\n",
       "                <strong>Range:</strong> 5-12\n",
       "            </div>\n",
       "        </div>\n",
       "        \n",
       "        <div style=\"\n",
       "            background-color: #d4edda;\n",
       "            border: 2px solid #c3e6cb;\n",
       "            border-radius: 8px;\n",
       "            padding: 12px;\n",
       "            margin: 8px;\n",
       "            min-width: 200px;\n",
       "            max-width: 300px;\n",
       "            box-shadow: 0 2px 4px rgba(0,0,0,0.1);\n",
       "        \">\n",
       "            <div style=\"font-weight: bold; font-size: 16px; color: #155724; margin-bottom: 6px;\">\n",
       "                Amon-Ra St. Brown\n",
       "            </div>\n",
       "            <div style=\"color: #666; font-size: 12px; margin-bottom: 8px;\">\n",
       "                WRWR6 • DET • Bye: 8\n",
       "            </div>\n",
       "            <div style=\"font-size: 14px; margin-bottom: 4px;\">\n",
       "                <strong>ESPN Rank:</strong> #10\n",
       "            </div>\n",
       "            <div style=\"font-size: 14px; margin-bottom: 4px;\">\n",
       "                <strong>P(at my pick):</strong> <span style=\"color: #155724; font-weight: bold;\">74.8%</span>\n",
       "            </div>\n",
       "            <div style=\"font-size: 14px; margin-bottom: 4px;\">\n",
       "                <strong>Expected Pick:</strong> 10\n",
       "            </div>\n",
       "            <div style=\"font-size: 12px; color: #666;\">\n",
       "                <strong>Range:</strong> 6-13\n",
       "            </div>\n",
       "        </div>\n",
       "        \n",
       "        <div style=\"\n",
       "            background-color: #d4edda;\n",
       "            border: 2px solid #c3e6cb;\n",
       "            border-radius: 8px;\n",
       "            padding: 12px;\n",
       "            margin: 8px;\n",
       "            min-width: 200px;\n",
       "            max-width: 300px;\n",
       "            box-shadow: 0 2px 4px rgba(0,0,0,0.1);\n",
       "        \">\n",
       "            <div style=\"font-weight: bold; font-size: 16px; color: #155724; margin-bottom: 6px;\">\n",
       "                Derrick Henry\n",
       "            </div>\n",
       "            <div style=\"color: #666; font-size: 12px; margin-bottom: 8px;\">\n",
       "                RBRB5 • BAL • Bye: 7\n",
       "            </div>\n",
       "            <div style=\"font-size: 14px; margin-bottom: 4px;\">\n",
       "                <strong>ESPN Rank:</strong> #11\n",
       "            </div>\n",
       "            <div style=\"font-size: 14px; margin-bottom: 4px;\">\n",
       "                <strong>P(at my pick):</strong> <span style=\"color: #155724; font-weight: bold;\">84.1%</span>\n",
       "            </div>\n",
       "            <div style=\"font-size: 14px; margin-bottom: 4px;\">\n",
       "                <strong>Expected Pick:</strong> 11\n",
       "            </div>\n",
       "            <div style=\"font-size: 12px; color: #666;\">\n",
       "                <strong>Range:</strong> 7-14\n",
       "            </div>\n",
       "        </div>\n",
       "        \n",
       "        <div style=\"\n",
       "            background-color: #d4edda;\n",
       "            border: 2px solid #c3e6cb;\n",
       "            border-radius: 8px;\n",
       "            padding: 12px;\n",
       "            margin: 8px;\n",
       "            min-width: 200px;\n",
       "            max-width: 300px;\n",
       "            box-shadow: 0 2px 4px rgba(0,0,0,0.1);\n",
       "        \">\n",
       "            <div style=\"font-weight: bold; font-size: 16px; color: #155724; margin-bottom: 6px;\">\n",
       "                Ashton Jeanty\n",
       "            </div>\n",
       "            <div style=\"color: #666; font-size: 12px; margin-bottom: 8px;\">\n",
       "                RBRB6 • LV • Bye: 8\n",
       "            </div>\n",
       "            <div style=\"font-size: 14px; margin-bottom: 4px;\">\n",
       "                <strong>ESPN Rank:</strong> #12\n",
       "            </div>\n",
       "            <div style=\"font-size: 14px; margin-bottom: 4px;\">\n",
       "                <strong>P(at my pick):</strong> <span style=\"color: #155724; font-weight: bold;\">90.9%</span>\n",
       "            </div>\n",
       "            <div style=\"font-size: 14px; margin-bottom: 4px;\">\n",
       "                <strong>Expected Pick:</strong> 12\n",
       "            </div>\n",
       "            <div style=\"font-size: 12px; color: #666;\">\n",
       "                <strong>Range:</strong> 8-15\n",
       "            </div>\n",
       "        </div>\n",
       "        \n",
       "    </div>\n",
       "    "
      ],
      "text/plain": [
       "<IPython.core.display.HTML object>"
      ]
     },
     "metadata": {},
     "output_type": "display_data"
    }
   ],
   "source": [
    "def create_player_cards(enhanced_df, position_filter=None, limit=12):\n",
    "    \"\"\"Create mobile-friendly player cards with key metrics\"\"\"\n",
    "    \n",
    "    # Filter and sort data\n",
    "    if position_filter and position_filter != 'ALL':\n",
    "        filtered_df = enhanced_df[enhanced_df['position'] == position_filter].copy()\n",
    "    else:\n",
    "        filtered_df = enhanced_df.copy()\n",
    "    \n",
    "    filtered_df = filtered_df.sort_values('overall_rank').head(limit)\n",
    "    \n",
    "    cards_html = []\n",
    "    \n",
    "    for _, player in filtered_df.iterrows():\n",
    "        prob = player['next_pick_prob'] * 100\n",
    "        \n",
    "        # Color coding based on probability\n",
    "        if prob >= 70:\n",
    "            card_color = \"#d4edda\"\n",
    "            border_color = \"#c3e6cb\" \n",
    "            text_color = \"#155724\"\n",
    "        elif prob >= 30:\n",
    "            card_color = \"#fff3cd\"\n",
    "            border_color = \"#ffeeba\"\n",
    "            text_color = \"#856404\"\n",
    "        else:\n",
    "            card_color = \"#f8d7da\"\n",
    "            border_color = \"#f5c6cb\"\n",
    "            text_color = \"#721c24\"\n",
    "        \n",
    "        card_html = f\"\"\"\n",
    "        <div style=\"\n",
    "            background-color: {card_color};\n",
    "            border: 2px solid {border_color};\n",
    "            border-radius: 8px;\n",
    "            padding: 12px;\n",
    "            margin: 8px;\n",
    "            min-width: 200px;\n",
    "            max-width: 300px;\n",
    "            box-shadow: 0 2px 4px rgba(0,0,0,0.1);\n",
    "        \">\n",
    "            <div style=\"font-weight: bold; font-size: 16px; color: {text_color}; margin-bottom: 6px;\">\n",
    "                {player['player_name']}\n",
    "            </div>\n",
    "            <div style=\"color: #666; font-size: 12px; margin-bottom: 8px;\">\n",
    "                {player['position']}{player['position_rank']} • {player['team']} • Bye: {player['bye_week']}\n",
    "            </div>\n",
    "            <div style=\"font-size: 14px; margin-bottom: 4px;\">\n",
    "                <strong>ESPN Rank:</strong> #{player['overall_rank']}\n",
    "            </div>\n",
    "            <div style=\"font-size: 14px; margin-bottom: 4px;\">\n",
    "                <strong>P(at my pick):</strong> <span style=\"color: {text_color}; font-weight: bold;\">{prob:.1f}%</span>\n",
    "            </div>\n",
    "            <div style=\"font-size: 14px; margin-bottom: 4px;\">\n",
    "                <strong>Expected Pick:</strong> {player['median_pick']:.0f}\n",
    "            </div>\n",
    "            <div style=\"font-size: 12px; color: #666;\">\n",
    "                <strong>Range:</strong> {player['pick_range']}\n",
    "            </div>\n",
    "        </div>\n",
    "        \"\"\"\n",
    "        cards_html.append(card_html)\n",
    "    \n",
    "    # Create grid layout\n",
    "    grid_html = f\"\"\"\n",
    "    <div style=\"display: flex; flex-wrap: wrap; justify-content: flex-start; align-items: stretch;\">\n",
    "        {''.join(cards_html)}\n",
    "    </div>\n",
    "    \"\"\"\n",
    "    \n",
    "    return HTML(grid_html)\n",
    "\n",
    "# Create and display player cards\n",
    "print(\"TOP AVAILABLE PLAYERS - Card View\")\n",
    "print(\"=\" * 50)\n",
    "cards_display = create_player_cards(enhanced_df, limit=12)\n",
    "display(cards_display)"
   ]
  },
  {
   "cell_type": "markdown",
   "metadata": {},
   "source": [
    "## 5. Availability Curves (Secondary View)"
   ]
  },
  {
   "cell_type": "code",
   "execution_count": 15,
   "metadata": {},
   "outputs": [
    {
     "data": {
      "application/vnd.plotly.v1+json": {
       "config": {
        "plotlyServerURL": "https://plot.ly"
       },
       "data": [
        {
         "hovertemplate": "%{fullData.name}<br>Pick %{x}: %{y:.1%}<extra></extra>",
         "line": {
          "width": 3
         },
         "mode": "lines",
         "name": "Ja'Marr Chase (#1)",
         "type": "scatter",
         "x": [
          1,
          2,
          3,
          4,
          5,
          6,
          7,
          8,
          9,
          10,
          11,
          12,
          13,
          14,
          15,
          16,
          17,
          18,
          19,
          20,
          21,
          22,
          23,
          24,
          25,
          26,
          27,
          28,
          29,
          30,
          31,
          32,
          33,
          34,
          35,
          36,
          37,
          38,
          39,
          40,
          41,
          42,
          43,
          44,
          45,
          46,
          47,
          48,
          49,
          50
         ],
         "y": [
          0.5,
          0.36944134018176367,
          0.2524925375469229,
          0.15865525393145707,
          0.09121121972586788,
          0.047790352272814696,
          0.02275013194817921,
          0.009815328628645315,
          0.003830380567589775,
          0.0013498980316301035,
          0.0004290603331967846,
          0.00012286638996517052,
          0.00003167124183311998,
          0.000007343423836903007,
          0.0000015306267365788884,
          2.866515719235352e-7,
          4.8213033676525185e-8,
          7.280110070340129e-9,
          9.865877004244794e-10,
          1.1996026394456294e-10,
          1.308397834520747e-11,
          1.2798651027878805e-12,
          1.1224354778960333e-13,
          8.770761894538737e-15,
          6.661338147750939e-16,
          0,
          0,
          0,
          0,
          0,
          0,
          0,
          0,
          0,
          0,
          0,
          0,
          0,
          0,
          0,
          0,
          0,
          0,
          0,
          0,
          0,
          0,
          0,
          0,
          0
         ]
        },
        {
         "hovertemplate": "%{fullData.name}<br>Pick %{x}: %{y:.1%}<extra></extra>",
         "line": {
          "width": 3
         },
         "mode": "lines",
         "name": "Bijan Robinson (#2)",
         "type": "scatter",
         "x": [
          1,
          2,
          3,
          4,
          5,
          6,
          7,
          8,
          9,
          10,
          11,
          12,
          13,
          14,
          15,
          16,
          17,
          18,
          19,
          20,
          21,
          22,
          23,
          24,
          25,
          26,
          27,
          28,
          29,
          30,
          31,
          32,
          33,
          34,
          35,
          36,
          37,
          38,
          39,
          40,
          41,
          42,
          43,
          44,
          45,
          46,
          47,
          48,
          49,
          50
         ],
         "y": [
          0.6305586598182363,
          0.5,
          0.36944134018176367,
          0.2524925375469229,
          0.15865525393145707,
          0.09121121972586788,
          0.047790352272814696,
          0.02275013194817921,
          0.009815328628645315,
          0.003830380567589775,
          0.0013498980316301035,
          0.0004290603331967846,
          0.00012286638996517052,
          0.00003167124183311998,
          0.000007343423836903007,
          0.0000015306267365788884,
          2.866515719235352e-7,
          4.8213033676525185e-8,
          7.280110070340129e-9,
          9.865877004244794e-10,
          1.1996026394456294e-10,
          1.308397834520747e-11,
          1.2798651027878805e-12,
          1.1224354778960333e-13,
          8.770761894538737e-15,
          6.661338147750939e-16,
          0,
          0,
          0,
          0,
          0,
          0,
          0,
          0,
          0,
          0,
          0,
          0,
          0,
          0,
          0,
          0,
          0,
          0,
          0,
          0,
          0,
          0,
          0,
          0
         ]
        },
        {
         "hovertemplate": "%{fullData.name}<br>Pick %{x}: %{y:.1%}<extra></extra>",
         "line": {
          "width": 3
         },
         "mode": "lines",
         "name": "Justin Jefferson (#3)",
         "type": "scatter",
         "x": [
          1,
          2,
          3,
          4,
          5,
          6,
          7,
          8,
          9,
          10,
          11,
          12,
          13,
          14,
          15,
          16,
          17,
          18,
          19,
          20,
          21,
          22,
          23,
          24,
          25,
          26,
          27,
          28,
          29,
          30,
          31,
          32,
          33,
          34,
          35,
          36,
          37,
          38,
          39,
          40,
          41,
          42,
          43,
          44,
          45,
          46,
          47,
          48,
          49,
          50
         ],
         "y": [
          0.7475074624530771,
          0.6305586598182363,
          0.5,
          0.36944134018176367,
          0.2524925375469229,
          0.15865525393145707,
          0.09121121972586788,
          0.047790352272814696,
          0.02275013194817921,
          0.009815328628645315,
          0.003830380567589775,
          0.0013498980316301035,
          0.0004290603331967846,
          0.00012286638996517052,
          0.00003167124183311998,
          0.000007343423836903007,
          0.0000015306267365788884,
          2.866515719235352e-7,
          4.8213033676525185e-8,
          7.280110070340129e-9,
          9.865877004244794e-10,
          1.1996026394456294e-10,
          1.308397834520747e-11,
          1.2798651027878805e-12,
          1.1224354778960333e-13,
          8.770761894538737e-15,
          6.661338147750939e-16,
          0,
          0,
          0,
          0,
          0,
          0,
          0,
          0,
          0,
          0,
          0,
          0,
          0,
          0,
          0,
          0,
          0,
          0,
          0,
          0,
          0,
          0,
          0
         ]
        },
        {
         "hovertemplate": "%{fullData.name}<br>Pick %{x}: %{y:.1%}<extra></extra>",
         "line": {
          "width": 3
         },
         "mode": "lines",
         "name": "Saquon Barkley (#4)",
         "type": "scatter",
         "x": [
          1,
          2,
          3,
          4,
          5,
          6,
          7,
          8,
          9,
          10,
          11,
          12,
          13,
          14,
          15,
          16,
          17,
          18,
          19,
          20,
          21,
          22,
          23,
          24,
          25,
          26,
          27,
          28,
          29,
          30,
          31,
          32,
          33,
          34,
          35,
          36,
          37,
          38,
          39,
          40,
          41,
          42,
          43,
          44,
          45,
          46,
          47,
          48,
          49,
          50
         ],
         "y": [
          0.8413447460685429,
          0.7475074624530771,
          0.6305586598182363,
          0.5,
          0.36944134018176367,
          0.2524925375469229,
          0.15865525393145707,
          0.09121121972586788,
          0.047790352272814696,
          0.02275013194817921,
          0.009815328628645315,
          0.003830380567589775,
          0.0013498980316301035,
          0.0004290603331967846,
          0.00012286638996517052,
          0.00003167124183311998,
          0.000007343423836903007,
          0.0000015306267365788884,
          2.866515719235352e-7,
          4.8213033676525185e-8,
          7.280110070340129e-9,
          9.865877004244794e-10,
          1.1996026394456294e-10,
          1.308397834520747e-11,
          1.2798651027878805e-12,
          1.1224354778960333e-13,
          8.770761894538737e-15,
          6.661338147750939e-16,
          0,
          0,
          0,
          0,
          0,
          0,
          0,
          0,
          0,
          0,
          0,
          0,
          0,
          0,
          0,
          0,
          0,
          0,
          0,
          0,
          0,
          0
         ]
        },
        {
         "hovertemplate": "%{fullData.name}<br>Pick %{x}: %{y:.1%}<extra></extra>",
         "line": {
          "width": 3
         },
         "mode": "lines",
         "name": "Jahmyr Gibbs (#5)",
         "type": "scatter",
         "x": [
          1,
          2,
          3,
          4,
          5,
          6,
          7,
          8,
          9,
          10,
          11,
          12,
          13,
          14,
          15,
          16,
          17,
          18,
          19,
          20,
          21,
          22,
          23,
          24,
          25,
          26,
          27,
          28,
          29,
          30,
          31,
          32,
          33,
          34,
          35,
          36,
          37,
          38,
          39,
          40,
          41,
          42,
          43,
          44,
          45,
          46,
          47,
          48,
          49,
          50
         ],
         "y": [
          0.9087887802741321,
          0.8413447460685429,
          0.7475074624530771,
          0.6305586598182363,
          0.5,
          0.36944134018176367,
          0.2524925375469229,
          0.15865525393145707,
          0.09121121972586788,
          0.047790352272814696,
          0.02275013194817921,
          0.009815328628645315,
          0.003830380567589775,
          0.0013498980316301035,
          0.0004290603331967846,
          0.00012286638996517052,
          0.00003167124183311998,
          0.000007343423836903007,
          0.0000015306267365788884,
          2.866515719235352e-7,
          4.8213033676525185e-8,
          7.280110070340129e-9,
          9.865877004244794e-10,
          1.1996026394456294e-10,
          1.308397834520747e-11,
          1.2798651027878805e-12,
          1.1224354778960333e-13,
          8.770761894538737e-15,
          6.661338147750939e-16,
          0,
          0,
          0,
          0,
          0,
          0,
          0,
          0,
          0,
          0,
          0,
          0,
          0,
          0,
          0,
          0,
          0,
          0,
          0,
          0,
          0
         ]
        },
        {
         "hovertemplate": "%{fullData.name}<br>Pick %{x}: %{y:.1%}<extra></extra>",
         "line": {
          "width": 3
         },
         "mode": "lines",
         "name": "CeeDee Lamb (#6)",
         "type": "scatter",
         "x": [
          1,
          2,
          3,
          4,
          5,
          6,
          7,
          8,
          9,
          10,
          11,
          12,
          13,
          14,
          15,
          16,
          17,
          18,
          19,
          20,
          21,
          22,
          23,
          24,
          25,
          26,
          27,
          28,
          29,
          30,
          31,
          32,
          33,
          34,
          35,
          36,
          37,
          38,
          39,
          40,
          41,
          42,
          43,
          44,
          45,
          46,
          47,
          48,
          49,
          50
         ],
         "y": [
          0.9522096477271853,
          0.9087887802741321,
          0.8413447460685429,
          0.7475074624530771,
          0.6305586598182363,
          0.5,
          0.36944134018176367,
          0.2524925375469229,
          0.15865525393145707,
          0.09121121972586788,
          0.047790352272814696,
          0.02275013194817921,
          0.009815328628645315,
          0.003830380567589775,
          0.0013498980316301035,
          0.0004290603331967846,
          0.00012286638996517052,
          0.00003167124183311998,
          0.000007343423836903007,
          0.0000015306267365788884,
          2.866515719235352e-7,
          4.8213033676525185e-8,
          7.280110070340129e-9,
          9.865877004244794e-10,
          1.1996026394456294e-10,
          1.308397834520747e-11,
          1.2798651027878805e-12,
          1.1224354778960333e-13,
          8.770761894538737e-15,
          6.661338147750939e-16,
          0,
          0,
          0,
          0,
          0,
          0,
          0,
          0,
          0,
          0,
          0,
          0,
          0,
          0,
          0,
          0,
          0,
          0,
          0,
          0
         ]
        },
        {
         "hovertemplate": "%{fullData.name}<br>Pick %{x}: %{y:.1%}<extra></extra>",
         "line": {
          "width": 3
         },
         "mode": "lines",
         "name": "Christian McCaffrey (#7)",
         "type": "scatter",
         "x": [
          1,
          2,
          3,
          4,
          5,
          6,
          7,
          8,
          9,
          10,
          11,
          12,
          13,
          14,
          15,
          16,
          17,
          18,
          19,
          20,
          21,
          22,
          23,
          24,
          25,
          26,
          27,
          28,
          29,
          30,
          31,
          32,
          33,
          34,
          35,
          36,
          37,
          38,
          39,
          40,
          41,
          42,
          43,
          44,
          45,
          46,
          47,
          48,
          49,
          50
         ],
         "y": [
          0.9772498680518208,
          0.9522096477271853,
          0.9087887802741321,
          0.8413447460685429,
          0.7475074624530771,
          0.6305586598182363,
          0.5,
          0.36944134018176367,
          0.2524925375469229,
          0.15865525393145707,
          0.09121121972586788,
          0.047790352272814696,
          0.02275013194817921,
          0.009815328628645315,
          0.003830380567589775,
          0.0013498980316301035,
          0.0004290603331967846,
          0.00012286638996517052,
          0.00003167124183311998,
          0.000007343423836903007,
          0.0000015306267365788884,
          2.866515719235352e-7,
          4.8213033676525185e-8,
          7.280110070340129e-9,
          9.865877004244794e-10,
          1.1996026394456294e-10,
          1.308397834520747e-11,
          1.2798651027878805e-12,
          1.1224354778960333e-13,
          8.770761894538737e-15,
          6.661338147750939e-16,
          0,
          0,
          0,
          0,
          0,
          0,
          0,
          0,
          0,
          0,
          0,
          0,
          0,
          0,
          0,
          0,
          0,
          0,
          0
         ]
        },
        {
         "hovertemplate": "%{fullData.name}<br>Pick %{x}: %{y:.1%}<extra></extra>",
         "line": {
          "width": 3
         },
         "mode": "lines",
         "name": "Puka Nacua (#8)",
         "type": "scatter",
         "x": [
          1,
          2,
          3,
          4,
          5,
          6,
          7,
          8,
          9,
          10,
          11,
          12,
          13,
          14,
          15,
          16,
          17,
          18,
          19,
          20,
          21,
          22,
          23,
          24,
          25,
          26,
          27,
          28,
          29,
          30,
          31,
          32,
          33,
          34,
          35,
          36,
          37,
          38,
          39,
          40,
          41,
          42,
          43,
          44,
          45,
          46,
          47,
          48,
          49,
          50
         ],
         "y": [
          0.9901846713713547,
          0.9772498680518208,
          0.9522096477271853,
          0.9087887802741321,
          0.8413447460685429,
          0.7475074624530771,
          0.6305586598182363,
          0.5,
          0.36944134018176367,
          0.2524925375469229,
          0.15865525393145707,
          0.09121121972586788,
          0.047790352272814696,
          0.02275013194817921,
          0.009815328628645315,
          0.003830380567589775,
          0.0013498980316301035,
          0.0004290603331967846,
          0.00012286638996517052,
          0.00003167124183311998,
          0.000007343423836903007,
          0.0000015306267365788884,
          2.866515719235352e-7,
          4.8213033676525185e-8,
          7.280110070340129e-9,
          9.865877004244794e-10,
          1.1996026394456294e-10,
          1.308397834520747e-11,
          1.2798651027878805e-12,
          1.1224354778960333e-13,
          8.770761894538737e-15,
          6.661338147750939e-16,
          0,
          0,
          0,
          0,
          0,
          0,
          0,
          0,
          0,
          0,
          0,
          0,
          0,
          0,
          0,
          0,
          0,
          0
         ]
        }
       ],
       "layout": {
        "annotations": [
         {
          "showarrow": false,
          "text": "My Pick 1",
          "x": 8,
          "xanchor": "center",
          "xref": "x",
          "y": 1,
          "yanchor": "bottom",
          "yref": "y domain"
         },
         {
          "showarrow": false,
          "text": "My Pick 2",
          "x": 17,
          "xanchor": "center",
          "xref": "x",
          "y": 1,
          "yanchor": "bottom",
          "yref": "y domain"
         },
         {
          "showarrow": false,
          "text": "My Pick 3",
          "x": 32,
          "xanchor": "center",
          "xref": "x",
          "y": 1,
          "yanchor": "bottom",
          "yref": "y domain"
         },
         {
          "showarrow": false,
          "text": "My Pick 4",
          "x": 41,
          "xanchor": "center",
          "xref": "x",
          "y": 1,
          "yanchor": "bottom",
          "yref": "y domain"
         },
         {
          "showarrow": false,
          "text": "My Pick 5",
          "x": 56,
          "xanchor": "center",
          "xref": "x",
          "y": 1,
          "yanchor": "bottom",
          "yref": "y domain"
         },
         {
          "showarrow": false,
          "text": "My Pick 6",
          "x": 65,
          "xanchor": "center",
          "xref": "x",
          "y": 1,
          "yanchor": "bottom",
          "yref": "y domain"
         }
        ],
        "height": 500,
        "hovermode": "x unified",
        "legend": {
         "orientation": "v",
         "x": 1.02,
         "xanchor": "left",
         "y": 1,
         "yanchor": "top"
        },
        "shapes": [
         {
          "line": {
           "color": "red",
           "dash": "dash",
           "width": 2
          },
          "type": "line",
          "x0": 8,
          "x1": 8,
          "xref": "x",
          "y0": 0,
          "y1": 1,
          "yref": "y domain"
         },
         {
          "line": {
           "color": "red",
           "dash": "dash",
           "width": 2
          },
          "type": "line",
          "x0": 17,
          "x1": 17,
          "xref": "x",
          "y0": 0,
          "y1": 1,
          "yref": "y domain"
         },
         {
          "line": {
           "color": "red",
           "dash": "dash",
           "width": 2
          },
          "type": "line",
          "x0": 32,
          "x1": 32,
          "xref": "x",
          "y0": 0,
          "y1": 1,
          "yref": "y domain"
         },
         {
          "line": {
           "color": "red",
           "dash": "dash",
           "width": 2
          },
          "type": "line",
          "x0": 41,
          "x1": 41,
          "xref": "x",
          "y0": 0,
          "y1": 1,
          "yref": "y domain"
         },
         {
          "line": {
           "color": "red",
           "dash": "dash",
           "width": 2
          },
          "type": "line",
          "x0": 56,
          "x1": 56,
          "xref": "x",
          "y0": 0,
          "y1": 1,
          "yref": "y domain"
         },
         {
          "line": {
           "color": "red",
           "dash": "dash",
           "width": 2
          },
          "type": "line",
          "x0": 65,
          "x1": 65,
          "xref": "x",
          "y0": 0,
          "y1": 1,
          "yref": "y domain"
         }
        ],
        "template": {
         "data": {
          "bar": [
           {
            "error_x": {
             "color": "#2a3f5f"
            },
            "error_y": {
             "color": "#2a3f5f"
            },
            "marker": {
             "line": {
              "color": "#E5ECF6",
              "width": 0.5
             },
             "pattern": {
              "fillmode": "overlay",
              "size": 10,
              "solidity": 0.2
             }
            },
            "type": "bar"
           }
          ],
          "barpolar": [
           {
            "marker": {
             "line": {
              "color": "#E5ECF6",
              "width": 0.5
             },
             "pattern": {
              "fillmode": "overlay",
              "size": 10,
              "solidity": 0.2
             }
            },
            "type": "barpolar"
           }
          ],
          "carpet": [
           {
            "aaxis": {
             "endlinecolor": "#2a3f5f",
             "gridcolor": "white",
             "linecolor": "white",
             "minorgridcolor": "white",
             "startlinecolor": "#2a3f5f"
            },
            "baxis": {
             "endlinecolor": "#2a3f5f",
             "gridcolor": "white",
             "linecolor": "white",
             "minorgridcolor": "white",
             "startlinecolor": "#2a3f5f"
            },
            "type": "carpet"
           }
          ],
          "choropleth": [
           {
            "colorbar": {
             "outlinewidth": 0,
             "ticks": ""
            },
            "type": "choropleth"
           }
          ],
          "contour": [
           {
            "colorbar": {
             "outlinewidth": 0,
             "ticks": ""
            },
            "colorscale": [
             [
              0,
              "#0d0887"
             ],
             [
              0.1111111111111111,
              "#46039f"
             ],
             [
              0.2222222222222222,
              "#7201a8"
             ],
             [
              0.3333333333333333,
              "#9c179e"
             ],
             [
              0.4444444444444444,
              "#bd3786"
             ],
             [
              0.5555555555555556,
              "#d8576b"
             ],
             [
              0.6666666666666666,
              "#ed7953"
             ],
             [
              0.7777777777777778,
              "#fb9f3a"
             ],
             [
              0.8888888888888888,
              "#fdca26"
             ],
             [
              1,
              "#f0f921"
             ]
            ],
            "type": "contour"
           }
          ],
          "contourcarpet": [
           {
            "colorbar": {
             "outlinewidth": 0,
             "ticks": ""
            },
            "type": "contourcarpet"
           }
          ],
          "heatmap": [
           {
            "colorbar": {
             "outlinewidth": 0,
             "ticks": ""
            },
            "colorscale": [
             [
              0,
              "#0d0887"
             ],
             [
              0.1111111111111111,
              "#46039f"
             ],
             [
              0.2222222222222222,
              "#7201a8"
             ],
             [
              0.3333333333333333,
              "#9c179e"
             ],
             [
              0.4444444444444444,
              "#bd3786"
             ],
             [
              0.5555555555555556,
              "#d8576b"
             ],
             [
              0.6666666666666666,
              "#ed7953"
             ],
             [
              0.7777777777777778,
              "#fb9f3a"
             ],
             [
              0.8888888888888888,
              "#fdca26"
             ],
             [
              1,
              "#f0f921"
             ]
            ],
            "type": "heatmap"
           }
          ],
          "histogram": [
           {
            "marker": {
             "pattern": {
              "fillmode": "overlay",
              "size": 10,
              "solidity": 0.2
             }
            },
            "type": "histogram"
           }
          ],
          "histogram2d": [
           {
            "colorbar": {
             "outlinewidth": 0,
             "ticks": ""
            },
            "colorscale": [
             [
              0,
              "#0d0887"
             ],
             [
              0.1111111111111111,
              "#46039f"
             ],
             [
              0.2222222222222222,
              "#7201a8"
             ],
             [
              0.3333333333333333,
              "#9c179e"
             ],
             [
              0.4444444444444444,
              "#bd3786"
             ],
             [
              0.5555555555555556,
              "#d8576b"
             ],
             [
              0.6666666666666666,
              "#ed7953"
             ],
             [
              0.7777777777777778,
              "#fb9f3a"
             ],
             [
              0.8888888888888888,
              "#fdca26"
             ],
             [
              1,
              "#f0f921"
             ]
            ],
            "type": "histogram2d"
           }
          ],
          "histogram2dcontour": [
           {
            "colorbar": {
             "outlinewidth": 0,
             "ticks": ""
            },
            "colorscale": [
             [
              0,
              "#0d0887"
             ],
             [
              0.1111111111111111,
              "#46039f"
             ],
             [
              0.2222222222222222,
              "#7201a8"
             ],
             [
              0.3333333333333333,
              "#9c179e"
             ],
             [
              0.4444444444444444,
              "#bd3786"
             ],
             [
              0.5555555555555556,
              "#d8576b"
             ],
             [
              0.6666666666666666,
              "#ed7953"
             ],
             [
              0.7777777777777778,
              "#fb9f3a"
             ],
             [
              0.8888888888888888,
              "#fdca26"
             ],
             [
              1,
              "#f0f921"
             ]
            ],
            "type": "histogram2dcontour"
           }
          ],
          "mesh3d": [
           {
            "colorbar": {
             "outlinewidth": 0,
             "ticks": ""
            },
            "type": "mesh3d"
           }
          ],
          "parcoords": [
           {
            "line": {
             "colorbar": {
              "outlinewidth": 0,
              "ticks": ""
             }
            },
            "type": "parcoords"
           }
          ],
          "pie": [
           {
            "automargin": true,
            "type": "pie"
           }
          ],
          "scatter": [
           {
            "fillpattern": {
             "fillmode": "overlay",
             "size": 10,
             "solidity": 0.2
            },
            "type": "scatter"
           }
          ],
          "scatter3d": [
           {
            "line": {
             "colorbar": {
              "outlinewidth": 0,
              "ticks": ""
             }
            },
            "marker": {
             "colorbar": {
              "outlinewidth": 0,
              "ticks": ""
             }
            },
            "type": "scatter3d"
           }
          ],
          "scattercarpet": [
           {
            "marker": {
             "colorbar": {
              "outlinewidth": 0,
              "ticks": ""
             }
            },
            "type": "scattercarpet"
           }
          ],
          "scattergeo": [
           {
            "marker": {
             "colorbar": {
              "outlinewidth": 0,
              "ticks": ""
             }
            },
            "type": "scattergeo"
           }
          ],
          "scattergl": [
           {
            "marker": {
             "colorbar": {
              "outlinewidth": 0,
              "ticks": ""
             }
            },
            "type": "scattergl"
           }
          ],
          "scattermap": [
           {
            "marker": {
             "colorbar": {
              "outlinewidth": 0,
              "ticks": ""
             }
            },
            "type": "scattermap"
           }
          ],
          "scattermapbox": [
           {
            "marker": {
             "colorbar": {
              "outlinewidth": 0,
              "ticks": ""
             }
            },
            "type": "scattermapbox"
           }
          ],
          "scatterpolar": [
           {
            "marker": {
             "colorbar": {
              "outlinewidth": 0,
              "ticks": ""
             }
            },
            "type": "scatterpolar"
           }
          ],
          "scatterpolargl": [
           {
            "marker": {
             "colorbar": {
              "outlinewidth": 0,
              "ticks": ""
             }
            },
            "type": "scatterpolargl"
           }
          ],
          "scatterternary": [
           {
            "marker": {
             "colorbar": {
              "outlinewidth": 0,
              "ticks": ""
             }
            },
            "type": "scatterternary"
           }
          ],
          "surface": [
           {
            "colorbar": {
             "outlinewidth": 0,
             "ticks": ""
            },
            "colorscale": [
             [
              0,
              "#0d0887"
             ],
             [
              0.1111111111111111,
              "#46039f"
             ],
             [
              0.2222222222222222,
              "#7201a8"
             ],
             [
              0.3333333333333333,
              "#9c179e"
             ],
             [
              0.4444444444444444,
              "#bd3786"
             ],
             [
              0.5555555555555556,
              "#d8576b"
             ],
             [
              0.6666666666666666,
              "#ed7953"
             ],
             [
              0.7777777777777778,
              "#fb9f3a"
             ],
             [
              0.8888888888888888,
              "#fdca26"
             ],
             [
              1,
              "#f0f921"
             ]
            ],
            "type": "surface"
           }
          ],
          "table": [
           {
            "cells": {
             "fill": {
              "color": "#EBF0F8"
             },
             "line": {
              "color": "white"
             }
            },
            "header": {
             "fill": {
              "color": "#C8D4E3"
             },
             "line": {
              "color": "white"
             }
            },
            "type": "table"
           }
          ]
         },
         "layout": {
          "annotationdefaults": {
           "arrowcolor": "#2a3f5f",
           "arrowhead": 0,
           "arrowwidth": 1
          },
          "autotypenumbers": "strict",
          "coloraxis": {
           "colorbar": {
            "outlinewidth": 0,
            "ticks": ""
           }
          },
          "colorscale": {
           "diverging": [
            [
             0,
             "#8e0152"
            ],
            [
             0.1,
             "#c51b7d"
            ],
            [
             0.2,
             "#de77ae"
            ],
            [
             0.3,
             "#f1b6da"
            ],
            [
             0.4,
             "#fde0ef"
            ],
            [
             0.5,
             "#f7f7f7"
            ],
            [
             0.6,
             "#e6f5d0"
            ],
            [
             0.7,
             "#b8e186"
            ],
            [
             0.8,
             "#7fbc41"
            ],
            [
             0.9,
             "#4d9221"
            ],
            [
             1,
             "#276419"
            ]
           ],
           "sequential": [
            [
             0,
             "#0d0887"
            ],
            [
             0.1111111111111111,
             "#46039f"
            ],
            [
             0.2222222222222222,
             "#7201a8"
            ],
            [
             0.3333333333333333,
             "#9c179e"
            ],
            [
             0.4444444444444444,
             "#bd3786"
            ],
            [
             0.5555555555555556,
             "#d8576b"
            ],
            [
             0.6666666666666666,
             "#ed7953"
            ],
            [
             0.7777777777777778,
             "#fb9f3a"
            ],
            [
             0.8888888888888888,
             "#fdca26"
            ],
            [
             1,
             "#f0f921"
            ]
           ],
           "sequentialminus": [
            [
             0,
             "#0d0887"
            ],
            [
             0.1111111111111111,
             "#46039f"
            ],
            [
             0.2222222222222222,
             "#7201a8"
            ],
            [
             0.3333333333333333,
             "#9c179e"
            ],
            [
             0.4444444444444444,
             "#bd3786"
            ],
            [
             0.5555555555555556,
             "#d8576b"
            ],
            [
             0.6666666666666666,
             "#ed7953"
            ],
            [
             0.7777777777777778,
             "#fb9f3a"
            ],
            [
             0.8888888888888888,
             "#fdca26"
            ],
            [
             1,
             "#f0f921"
            ]
           ]
          },
          "colorway": [
           "#636efa",
           "#EF553B",
           "#00cc96",
           "#ab63fa",
           "#FFA15A",
           "#19d3f3",
           "#FF6692",
           "#B6E880",
           "#FF97FF",
           "#FECB52"
          ],
          "font": {
           "color": "#2a3f5f"
          },
          "geo": {
           "bgcolor": "white",
           "lakecolor": "white",
           "landcolor": "#E5ECF6",
           "showlakes": true,
           "showland": true,
           "subunitcolor": "white"
          },
          "hoverlabel": {
           "align": "left"
          },
          "hovermode": "closest",
          "mapbox": {
           "style": "light"
          },
          "paper_bgcolor": "white",
          "plot_bgcolor": "#E5ECF6",
          "polar": {
           "angularaxis": {
            "gridcolor": "white",
            "linecolor": "white",
            "ticks": ""
           },
           "bgcolor": "#E5ECF6",
           "radialaxis": {
            "gridcolor": "white",
            "linecolor": "white",
            "ticks": ""
           }
          },
          "scene": {
           "xaxis": {
            "backgroundcolor": "#E5ECF6",
            "gridcolor": "white",
            "gridwidth": 2,
            "linecolor": "white",
            "showbackground": true,
            "ticks": "",
            "zerolinecolor": "white"
           },
           "yaxis": {
            "backgroundcolor": "#E5ECF6",
            "gridcolor": "white",
            "gridwidth": 2,
            "linecolor": "white",
            "showbackground": true,
            "ticks": "",
            "zerolinecolor": "white"
           },
           "zaxis": {
            "backgroundcolor": "#E5ECF6",
            "gridcolor": "white",
            "gridwidth": 2,
            "linecolor": "white",
            "showbackground": true,
            "ticks": "",
            "zerolinecolor": "white"
           }
          },
          "shapedefaults": {
           "line": {
            "color": "#2a3f5f"
           }
          },
          "ternary": {
           "aaxis": {
            "gridcolor": "white",
            "linecolor": "white",
            "ticks": ""
           },
           "baxis": {
            "gridcolor": "white",
            "linecolor": "white",
            "ticks": ""
           },
           "bgcolor": "#E5ECF6",
           "caxis": {
            "gridcolor": "white",
            "linecolor": "white",
            "ticks": ""
           }
          },
          "title": {
           "x": 0.05
          },
          "xaxis": {
           "automargin": true,
           "gridcolor": "white",
           "linecolor": "white",
           "ticks": "",
           "title": {
            "standoff": 15
           },
           "zerolinecolor": "white",
           "zerolinewidth": 2
          },
          "yaxis": {
           "automargin": true,
           "gridcolor": "white",
           "linecolor": "white",
           "ticks": "",
           "title": {
            "standoff": 15
           },
           "zerolinecolor": "white",
           "zerolinewidth": 2
          }
         }
        },
        "title": {
         "text": "Player Availability Curves - Probability vs Draft Position"
        },
        "width": 900,
        "xaxis": {
         "title": {
          "text": "Draft Position"
         }
        },
        "yaxis": {
         "tickformat": ".0%",
         "title": {
          "text": "Probability Available"
         }
        }
       }
      }
     },
     "metadata": {},
     "output_type": "display_data"
    }
   ],
   "source": [
    "def create_availability_curves(enhanced_df, selected_players=None, my_picks=None):\n",
    "    \"\"\"Create line plot showing availability curves for selected players\"\"\"\n",
    "    \n",
    "    if selected_players is None:\n",
    "        # Default to top 8 players\n",
    "        selected_players = enhanced_df.sort_values('overall_rank').head(8)['player_name'].tolist()\n",
    "    \n",
    "    if my_picks is None:\n",
    "        my_picks = []\n",
    "    \n",
    "    # Create figure\n",
    "    fig = go.Figure()\n",
    "    \n",
    "    # Generate draft positions for curves\n",
    "    positions = list(range(1, 51))\n",
    "    \n",
    "    # Add curve for each selected player\n",
    "    for player_name in selected_players:\n",
    "        player_data = enhanced_df[enhanced_df['player_name'] == player_name]\n",
    "        if player_data.empty:\n",
    "            continue\n",
    "            \n",
    "        player_rank = player_data.iloc[0]['overall_rank']\n",
    "        probabilities = [calculate_availability(player_rank, pos) for pos in positions]\n",
    "        \n",
    "        fig.add_trace(go.Scatter(\n",
    "            x=positions,\n",
    "            y=probabilities,\n",
    "            mode='lines',\n",
    "            name=f\"{player_name} (#{player_rank})\",\n",
    "            line=dict(width=3),\n",
    "            hovertemplate='%{fullData.name}<br>Pick %{x}: %{y:.1%}<extra></extra>'\n",
    "        ))\n",
    "    \n",
    "    # Add vertical lines for \"my picks\"\n",
    "    for i, pick in enumerate(my_picks[:6]):  # Show first 6 picks\n",
    "        fig.add_vline(\n",
    "            x=pick,\n",
    "            line_dash=\"dash\",\n",
    "            line_color=\"red\",\n",
    "            line_width=2,\n",
    "            annotation_text=f\"My Pick {i+1}\",\n",
    "            annotation_position=\"top\"\n",
    "        )\n",
    "    \n",
    "    # Update layout\n",
    "    fig.update_layout(\n",
    "        title=\"Player Availability Curves - Probability vs Draft Position\",\n",
    "        xaxis_title=\"Draft Position\",\n",
    "        yaxis_title=\"Probability Available\",\n",
    "        yaxis=dict(tickformat='.0%'),\n",
    "        hovermode='x unified',\n",
    "        width=900,\n",
    "        height=500,\n",
    "        legend=dict(\n",
    "            orientation=\"v\",\n",
    "            yanchor=\"top\",\n",
    "            y=1,\n",
    "            xanchor=\"left\",\n",
    "            x=1.02\n",
    "        )\n",
    "    )\n",
    "    \n",
    "    return fig\n",
    "\n",
    "# Create availability curves for top players\n",
    "top_players = enhanced_df.sort_values('overall_rank').head(8)['player_name'].tolist()\n",
    "curves_fig = create_availability_curves(enhanced_df, selected_players=top_players, my_picks=my_draft_picks)\n",
    "curves_fig.show()"
   ]
  },
  {
   "cell_type": "markdown",
   "metadata": {},
   "source": [
    "## 6. Interactive Dashboard Controls"
   ]
  },
  {
   "cell_type": "code",
   "execution_count": 16,
   "metadata": {},
   "outputs": [
    {
     "name": "stdout",
     "output_type": "stream",
     "text": [
      "🏈 Draft Dashboard initialized!\n",
      "Default league: 8-team, pick 8\n",
      "My draft picks: [8, 17, 32, 41, 56, 65, 80, 89]\n",
      "📊 FANTASY FOOTBALL DRAFT DASHBOARD\n",
      "Drafted: 0 players | Available: 300 players\n",
      "My picks: [8, 17, 32, 41]...\n",
      "======================================================================\n",
      "\n",
      "TOP AVAILABLE PLAYERS - ALL Cards\n",
      "==================================================\n"
     ]
    },
    {
     "data": {
      "text/html": [
       "\n",
       "    <div style=\"display: flex; flex-wrap: wrap; justify-content: flex-start; align-items: stretch;\">\n",
       "        \n",
       "        <div style=\"\n",
       "            background-color: #f8d7da;\n",
       "            border: 2px solid #f5c6cb;\n",
       "            border-radius: 8px;\n",
       "            padding: 12px;\n",
       "            margin: 8px;\n",
       "            min-width: 200px;\n",
       "            max-width: 300px;\n",
       "            box-shadow: 0 2px 4px rgba(0,0,0,0.1);\n",
       "        \">\n",
       "            <div style=\"font-weight: bold; font-size: 16px; color: #721c24; margin-bottom: 6px;\">\n",
       "                Ja'Marr Chase\n",
       "            </div>\n",
       "            <div style=\"color: #666; font-size: 12px; margin-bottom: 8px;\">\n",
       "                WRWR1 • CIN • Bye: 10\n",
       "            </div>\n",
       "            <div style=\"font-size: 14px; margin-bottom: 4px;\">\n",
       "                <strong>ESPN Rank:</strong> #1\n",
       "            </div>\n",
       "            <div style=\"font-size: 14px; margin-bottom: 4px;\">\n",
       "                <strong>P(at my pick):</strong> <span style=\"color: #721c24; font-weight: bold;\">1.0%</span>\n",
       "            </div>\n",
       "            <div style=\"font-size: 14px; margin-bottom: 4px;\">\n",
       "                <strong>Expected Pick:</strong> 1\n",
       "            </div>\n",
       "            <div style=\"font-size: 12px; color: #666;\">\n",
       "                <strong>Range:</strong> 1-4\n",
       "            </div>\n",
       "        </div>\n",
       "        \n",
       "        <div style=\"\n",
       "            background-color: #f8d7da;\n",
       "            border: 2px solid #f5c6cb;\n",
       "            border-radius: 8px;\n",
       "            padding: 12px;\n",
       "            margin: 8px;\n",
       "            min-width: 200px;\n",
       "            max-width: 300px;\n",
       "            box-shadow: 0 2px 4px rgba(0,0,0,0.1);\n",
       "        \">\n",
       "            <div style=\"font-weight: bold; font-size: 16px; color: #721c24; margin-bottom: 6px;\">\n",
       "                Bijan Robinson\n",
       "            </div>\n",
       "            <div style=\"color: #666; font-size: 12px; margin-bottom: 8px;\">\n",
       "                RBRB1 • ATL • Bye: 5\n",
       "            </div>\n",
       "            <div style=\"font-size: 14px; margin-bottom: 4px;\">\n",
       "                <strong>ESPN Rank:</strong> #2\n",
       "            </div>\n",
       "            <div style=\"font-size: 14px; margin-bottom: 4px;\">\n",
       "                <strong>P(at my pick):</strong> <span style=\"color: #721c24; font-weight: bold;\">2.3%</span>\n",
       "            </div>\n",
       "            <div style=\"font-size: 14px; margin-bottom: 4px;\">\n",
       "                <strong>Expected Pick:</strong> 2\n",
       "            </div>\n",
       "            <div style=\"font-size: 12px; color: #666;\">\n",
       "                <strong>Range:</strong> 1-5\n",
       "            </div>\n",
       "        </div>\n",
       "        \n",
       "        <div style=\"\n",
       "            background-color: #f8d7da;\n",
       "            border: 2px solid #f5c6cb;\n",
       "            border-radius: 8px;\n",
       "            padding: 12px;\n",
       "            margin: 8px;\n",
       "            min-width: 200px;\n",
       "            max-width: 300px;\n",
       "            box-shadow: 0 2px 4px rgba(0,0,0,0.1);\n",
       "        \">\n",
       "            <div style=\"font-weight: bold; font-size: 16px; color: #721c24; margin-bottom: 6px;\">\n",
       "                Justin Jefferson\n",
       "            </div>\n",
       "            <div style=\"color: #666; font-size: 12px; margin-bottom: 8px;\">\n",
       "                WRWR2 • MIN • Bye: 6\n",
       "            </div>\n",
       "            <div style=\"font-size: 14px; margin-bottom: 4px;\">\n",
       "                <strong>ESPN Rank:</strong> #3\n",
       "            </div>\n",
       "            <div style=\"font-size: 14px; margin-bottom: 4px;\">\n",
       "                <strong>P(at my pick):</strong> <span style=\"color: #721c24; font-weight: bold;\">4.8%</span>\n",
       "            </div>\n",
       "            <div style=\"font-size: 14px; margin-bottom: 4px;\">\n",
       "                <strong>Expected Pick:</strong> 3\n",
       "            </div>\n",
       "            <div style=\"font-size: 12px; color: #666;\">\n",
       "                <strong>Range:</strong> 1-6\n",
       "            </div>\n",
       "        </div>\n",
       "        \n",
       "        <div style=\"\n",
       "            background-color: #f8d7da;\n",
       "            border: 2px solid #f5c6cb;\n",
       "            border-radius: 8px;\n",
       "            padding: 12px;\n",
       "            margin: 8px;\n",
       "            min-width: 200px;\n",
       "            max-width: 300px;\n",
       "            box-shadow: 0 2px 4px rgba(0,0,0,0.1);\n",
       "        \">\n",
       "            <div style=\"font-weight: bold; font-size: 16px; color: #721c24; margin-bottom: 6px;\">\n",
       "                Saquon Barkley\n",
       "            </div>\n",
       "            <div style=\"color: #666; font-size: 12px; margin-bottom: 8px;\">\n",
       "                RBRB2 • PHI • Bye: 9\n",
       "            </div>\n",
       "            <div style=\"font-size: 14px; margin-bottom: 4px;\">\n",
       "                <strong>ESPN Rank:</strong> #4\n",
       "            </div>\n",
       "            <div style=\"font-size: 14px; margin-bottom: 4px;\">\n",
       "                <strong>P(at my pick):</strong> <span style=\"color: #721c24; font-weight: bold;\">9.1%</span>\n",
       "            </div>\n",
       "            <div style=\"font-size: 14px; margin-bottom: 4px;\">\n",
       "                <strong>Expected Pick:</strong> 4\n",
       "            </div>\n",
       "            <div style=\"font-size: 12px; color: #666;\">\n",
       "                <strong>Range:</strong> 1-7\n",
       "            </div>\n",
       "        </div>\n",
       "        \n",
       "        <div style=\"\n",
       "            background-color: #f8d7da;\n",
       "            border: 2px solid #f5c6cb;\n",
       "            border-radius: 8px;\n",
       "            padding: 12px;\n",
       "            margin: 8px;\n",
       "            min-width: 200px;\n",
       "            max-width: 300px;\n",
       "            box-shadow: 0 2px 4px rgba(0,0,0,0.1);\n",
       "        \">\n",
       "            <div style=\"font-weight: bold; font-size: 16px; color: #721c24; margin-bottom: 6px;\">\n",
       "                Jahmyr Gibbs\n",
       "            </div>\n",
       "            <div style=\"color: #666; font-size: 12px; margin-bottom: 8px;\">\n",
       "                RBRB3 • DET • Bye: 8\n",
       "            </div>\n",
       "            <div style=\"font-size: 14px; margin-bottom: 4px;\">\n",
       "                <strong>ESPN Rank:</strong> #5\n",
       "            </div>\n",
       "            <div style=\"font-size: 14px; margin-bottom: 4px;\">\n",
       "                <strong>P(at my pick):</strong> <span style=\"color: #721c24; font-weight: bold;\">15.9%</span>\n",
       "            </div>\n",
       "            <div style=\"font-size: 14px; margin-bottom: 4px;\">\n",
       "                <strong>Expected Pick:</strong> 5\n",
       "            </div>\n",
       "            <div style=\"font-size: 12px; color: #666;\">\n",
       "                <strong>Range:</strong> 1-8\n",
       "            </div>\n",
       "        </div>\n",
       "        \n",
       "        <div style=\"\n",
       "            background-color: #f8d7da;\n",
       "            border: 2px solid #f5c6cb;\n",
       "            border-radius: 8px;\n",
       "            padding: 12px;\n",
       "            margin: 8px;\n",
       "            min-width: 200px;\n",
       "            max-width: 300px;\n",
       "            box-shadow: 0 2px 4px rgba(0,0,0,0.1);\n",
       "        \">\n",
       "            <div style=\"font-weight: bold; font-size: 16px; color: #721c24; margin-bottom: 6px;\">\n",
       "                CeeDee Lamb\n",
       "            </div>\n",
       "            <div style=\"color: #666; font-size: 12px; margin-bottom: 8px;\">\n",
       "                WRWR3 • DAL • Bye: 10\n",
       "            </div>\n",
       "            <div style=\"font-size: 14px; margin-bottom: 4px;\">\n",
       "                <strong>ESPN Rank:</strong> #6\n",
       "            </div>\n",
       "            <div style=\"font-size: 14px; margin-bottom: 4px;\">\n",
       "                <strong>P(at my pick):</strong> <span style=\"color: #721c24; font-weight: bold;\">25.2%</span>\n",
       "            </div>\n",
       "            <div style=\"font-size: 14px; margin-bottom: 4px;\">\n",
       "                <strong>Expected Pick:</strong> 6\n",
       "            </div>\n",
       "            <div style=\"font-size: 12px; color: #666;\">\n",
       "                <strong>Range:</strong> 2-9\n",
       "            </div>\n",
       "        </div>\n",
       "        \n",
       "        <div style=\"\n",
       "            background-color: #fff3cd;\n",
       "            border: 2px solid #ffeeba;\n",
       "            border-radius: 8px;\n",
       "            padding: 12px;\n",
       "            margin: 8px;\n",
       "            min-width: 200px;\n",
       "            max-width: 300px;\n",
       "            box-shadow: 0 2px 4px rgba(0,0,0,0.1);\n",
       "        \">\n",
       "            <div style=\"font-weight: bold; font-size: 16px; color: #856404; margin-bottom: 6px;\">\n",
       "                Christian McCaffrey\n",
       "            </div>\n",
       "            <div style=\"color: #666; font-size: 12px; margin-bottom: 8px;\">\n",
       "                RBRB4 • SF • Bye: 14\n",
       "            </div>\n",
       "            <div style=\"font-size: 14px; margin-bottom: 4px;\">\n",
       "                <strong>ESPN Rank:</strong> #7\n",
       "            </div>\n",
       "            <div style=\"font-size: 14px; margin-bottom: 4px;\">\n",
       "                <strong>P(at my pick):</strong> <span style=\"color: #856404; font-weight: bold;\">36.9%</span>\n",
       "            </div>\n",
       "            <div style=\"font-size: 14px; margin-bottom: 4px;\">\n",
       "                <strong>Expected Pick:</strong> 7\n",
       "            </div>\n",
       "            <div style=\"font-size: 12px; color: #666;\">\n",
       "                <strong>Range:</strong> 3-10\n",
       "            </div>\n",
       "        </div>\n",
       "        \n",
       "        <div style=\"\n",
       "            background-color: #fff3cd;\n",
       "            border: 2px solid #ffeeba;\n",
       "            border-radius: 8px;\n",
       "            padding: 12px;\n",
       "            margin: 8px;\n",
       "            min-width: 200px;\n",
       "            max-width: 300px;\n",
       "            box-shadow: 0 2px 4px rgba(0,0,0,0.1);\n",
       "        \">\n",
       "            <div style=\"font-weight: bold; font-size: 16px; color: #856404; margin-bottom: 6px;\">\n",
       "                Puka Nacua\n",
       "            </div>\n",
       "            <div style=\"color: #666; font-size: 12px; margin-bottom: 8px;\">\n",
       "                WRWR4 • LAR • Bye: 8\n",
       "            </div>\n",
       "            <div style=\"font-size: 14px; margin-bottom: 4px;\">\n",
       "                <strong>ESPN Rank:</strong> #8\n",
       "            </div>\n",
       "            <div style=\"font-size: 14px; margin-bottom: 4px;\">\n",
       "                <strong>P(at my pick):</strong> <span style=\"color: #856404; font-weight: bold;\">50.0%</span>\n",
       "            </div>\n",
       "            <div style=\"font-size: 14px; margin-bottom: 4px;\">\n",
       "                <strong>Expected Pick:</strong> 8\n",
       "            </div>\n",
       "            <div style=\"font-size: 12px; color: #666;\">\n",
       "                <strong>Range:</strong> 4-11\n",
       "            </div>\n",
       "        </div>\n",
       "        \n",
       "        <div style=\"\n",
       "            background-color: #fff3cd;\n",
       "            border: 2px solid #ffeeba;\n",
       "            border-radius: 8px;\n",
       "            padding: 12px;\n",
       "            margin: 8px;\n",
       "            min-width: 200px;\n",
       "            max-width: 300px;\n",
       "            box-shadow: 0 2px 4px rgba(0,0,0,0.1);\n",
       "        \">\n",
       "            <div style=\"font-weight: bold; font-size: 16px; color: #856404; margin-bottom: 6px;\">\n",
       "                Malik Nabers\n",
       "            </div>\n",
       "            <div style=\"color: #666; font-size: 12px; margin-bottom: 8px;\">\n",
       "                WRWR5 • NYG • Bye: 14\n",
       "            </div>\n",
       "            <div style=\"font-size: 14px; margin-bottom: 4px;\">\n",
       "                <strong>ESPN Rank:</strong> #9\n",
       "            </div>\n",
       "            <div style=\"font-size: 14px; margin-bottom: 4px;\">\n",
       "                <strong>P(at my pick):</strong> <span style=\"color: #856404; font-weight: bold;\">63.1%</span>\n",
       "            </div>\n",
       "            <div style=\"font-size: 14px; margin-bottom: 4px;\">\n",
       "                <strong>Expected Pick:</strong> 9\n",
       "            </div>\n",
       "            <div style=\"font-size: 12px; color: #666;\">\n",
       "                <strong>Range:</strong> 5-12\n",
       "            </div>\n",
       "        </div>\n",
       "        \n",
       "        <div style=\"\n",
       "            background-color: #d4edda;\n",
       "            border: 2px solid #c3e6cb;\n",
       "            border-radius: 8px;\n",
       "            padding: 12px;\n",
       "            margin: 8px;\n",
       "            min-width: 200px;\n",
       "            max-width: 300px;\n",
       "            box-shadow: 0 2px 4px rgba(0,0,0,0.1);\n",
       "        \">\n",
       "            <div style=\"font-weight: bold; font-size: 16px; color: #155724; margin-bottom: 6px;\">\n",
       "                Amon-Ra St. Brown\n",
       "            </div>\n",
       "            <div style=\"color: #666; font-size: 12px; margin-bottom: 8px;\">\n",
       "                WRWR6 • DET • Bye: 8\n",
       "            </div>\n",
       "            <div style=\"font-size: 14px; margin-bottom: 4px;\">\n",
       "                <strong>ESPN Rank:</strong> #10\n",
       "            </div>\n",
       "            <div style=\"font-size: 14px; margin-bottom: 4px;\">\n",
       "                <strong>P(at my pick):</strong> <span style=\"color: #155724; font-weight: bold;\">74.8%</span>\n",
       "            </div>\n",
       "            <div style=\"font-size: 14px; margin-bottom: 4px;\">\n",
       "                <strong>Expected Pick:</strong> 10\n",
       "            </div>\n",
       "            <div style=\"font-size: 12px; color: #666;\">\n",
       "                <strong>Range:</strong> 6-13\n",
       "            </div>\n",
       "        </div>\n",
       "        \n",
       "        <div style=\"\n",
       "            background-color: #d4edda;\n",
       "            border: 2px solid #c3e6cb;\n",
       "            border-radius: 8px;\n",
       "            padding: 12px;\n",
       "            margin: 8px;\n",
       "            min-width: 200px;\n",
       "            max-width: 300px;\n",
       "            box-shadow: 0 2px 4px rgba(0,0,0,0.1);\n",
       "        \">\n",
       "            <div style=\"font-weight: bold; font-size: 16px; color: #155724; margin-bottom: 6px;\">\n",
       "                Derrick Henry\n",
       "            </div>\n",
       "            <div style=\"color: #666; font-size: 12px; margin-bottom: 8px;\">\n",
       "                RBRB5 • BAL • Bye: 7\n",
       "            </div>\n",
       "            <div style=\"font-size: 14px; margin-bottom: 4px;\">\n",
       "                <strong>ESPN Rank:</strong> #11\n",
       "            </div>\n",
       "            <div style=\"font-size: 14px; margin-bottom: 4px;\">\n",
       "                <strong>P(at my pick):</strong> <span style=\"color: #155724; font-weight: bold;\">84.1%</span>\n",
       "            </div>\n",
       "            <div style=\"font-size: 14px; margin-bottom: 4px;\">\n",
       "                <strong>Expected Pick:</strong> 11\n",
       "            </div>\n",
       "            <div style=\"font-size: 12px; color: #666;\">\n",
       "                <strong>Range:</strong> 7-14\n",
       "            </div>\n",
       "        </div>\n",
       "        \n",
       "        <div style=\"\n",
       "            background-color: #d4edda;\n",
       "            border: 2px solid #c3e6cb;\n",
       "            border-radius: 8px;\n",
       "            padding: 12px;\n",
       "            margin: 8px;\n",
       "            min-width: 200px;\n",
       "            max-width: 300px;\n",
       "            box-shadow: 0 2px 4px rgba(0,0,0,0.1);\n",
       "        \">\n",
       "            <div style=\"font-weight: bold; font-size: 16px; color: #155724; margin-bottom: 6px;\">\n",
       "                Ashton Jeanty\n",
       "            </div>\n",
       "            <div style=\"color: #666; font-size: 12px; margin-bottom: 8px;\">\n",
       "                RBRB6 • LV • Bye: 8\n",
       "            </div>\n",
       "            <div style=\"font-size: 14px; margin-bottom: 4px;\">\n",
       "                <strong>ESPN Rank:</strong> #12\n",
       "            </div>\n",
       "            <div style=\"font-size: 14px; margin-bottom: 4px;\">\n",
       "                <strong>P(at my pick):</strong> <span style=\"color: #155724; font-weight: bold;\">90.9%</span>\n",
       "            </div>\n",
       "            <div style=\"font-size: 14px; margin-bottom: 4px;\">\n",
       "                <strong>Expected Pick:</strong> 12\n",
       "            </div>\n",
       "            <div style=\"font-size: 12px; color: #666;\">\n",
       "                <strong>Range:</strong> 8-15\n",
       "            </div>\n",
       "        </div>\n",
       "        \n",
       "    </div>\n",
       "    "
      ],
      "text/plain": [
       "<IPython.core.display.HTML object>"
      ]
     },
     "metadata": {},
     "output_type": "display_data"
    }
   ],
   "source": [
    "class DraftDashboard:\n",
    "    def __init__(self, df):\n",
    "        self.df = df\n",
    "        self.drafted_players = set()\n",
    "        self.my_picks = [8, 17, 32, 41, 56, 65, 80, 89]  # Default 8-team league, pick 8\n",
    "        self.enhanced_df = None\n",
    "        self.update_data()\n",
    "    \n",
    "    def update_data(self):\n",
    "        \"\"\"Update enhanced data based on current state\"\"\"\n",
    "        self.enhanced_df = calculate_player_metrics(self.df, self.my_picks, self.drafted_players)\n",
    "    \n",
    "    def set_my_picks(self, picks):\n",
    "        \"\"\"Set my draft pick positions\"\"\"\n",
    "        self.my_picks = picks\n",
    "        self.update_data()\n",
    "        print(f\"Updated my picks: {picks}\")\n",
    "    \n",
    "    def mark_drafted(self, player_name):\n",
    "        \"\"\"Mark a player as drafted\"\"\"\n",
    "        if player_name in self.df['player_name'].values:\n",
    "            self.drafted_players.add(player_name)\n",
    "            self.update_data()\n",
    "            print(f\"Marked {player_name} as drafted\")\n",
    "        else:\n",
    "            print(f\"Player {player_name} not found\")\n",
    "    \n",
    "    def unmark_drafted(self, player_name):\n",
    "        \"\"\"Unmark a player as drafted\"\"\"\n",
    "        if player_name in self.drafted_players:\n",
    "            self.drafted_players.remove(player_name)\n",
    "            self.update_data()\n",
    "            print(f\"Unmarked {player_name} as drafted\")\n",
    "        else:\n",
    "            print(f\"Player {player_name} was not marked as drafted\")\n",
    "    \n",
    "    def show_summary_table(self, position_filter='ALL', limit=15):\n",
    "        \"\"\"Display compact summary table\"\"\"\n",
    "        table = create_summary_table(self.enhanced_df, position_filter, limit)\n",
    "        print(f\"\\nTOP AVAILABLE PLAYERS - {position_filter}\")\n",
    "        print(\"=\" * 60)\n",
    "        display(table)\n",
    "    \n",
    "    def show_player_cards(self, position_filter='ALL', limit=12):\n",
    "        \"\"\"Display player cards\"\"\"\n",
    "        cards = create_player_cards(self.enhanced_df, position_filter, limit)\n",
    "        print(f\"\\nTOP AVAILABLE PLAYERS - {position_filter} Cards\")\n",
    "        print(\"=\" * 50)\n",
    "        display(cards)\n",
    "    \n",
    "    def show_availability_curves(self, selected_players=None):\n",
    "        \"\"\"Display availability curves\"\"\"\n",
    "        if selected_players is None:\n",
    "            selected_players = self.enhanced_df.sort_values('overall_rank').head(8)['player_name'].tolist()\n",
    "        \n",
    "        fig = create_availability_curves(self.enhanced_df, selected_players, self.my_picks)\n",
    "        fig.show()\n",
    "    \n",
    "    def show_dashboard(self, view='cards'):\n",
    "        \"\"\"Show complete dashboard\"\"\"\n",
    "        print(f\"📊 FANTASY FOOTBALL DRAFT DASHBOARD\")\n",
    "        print(f\"Drafted: {len(self.drafted_players)} players | Available: {len(self.enhanced_df)} players\")\n",
    "        print(f\"My picks: {self.my_picks[:4]}...\" if len(self.my_picks) > 4 else f\"My picks: {self.my_picks}\")\n",
    "        print(\"=\" * 70)\n",
    "        \n",
    "        if view == 'cards':\n",
    "            self.show_player_cards()\n",
    "        elif view == 'table':\n",
    "            self.show_summary_table()\n",
    "        elif view == 'curves':\n",
    "            self.show_availability_curves()\n",
    "    \n",
    "    def get_player_list(self):\n",
    "        \"\"\"Get list of all available players\"\"\"\n",
    "        return sorted(self.enhanced_df['player_name'].tolist())\n",
    "\n",
    "# Initialize dashboard\n",
    "dashboard = DraftDashboard(df)\n",
    "print(\"🏈 Draft Dashboard initialized!\")\n",
    "print(f\"Default league: 8-team, pick 8\")\n",
    "print(f\"My draft picks: {dashboard.my_picks}\")\n",
    "\n",
    "# Show default dashboard\n",
    "dashboard.show_dashboard(view='cards')"
   ]
  },
  {
   "cell_type": "markdown",
   "metadata": {},
   "source": [
    "## 7. Interactive Widgets"
   ]
  },
  {
   "cell_type": "code",
   "execution_count": 17,
   "metadata": {},
   "outputs": [
    {
     "data": {
      "application/vnd.jupyter.widget-view+json": {
       "model_id": "94ae9341b6874861b3f37f451de9a8a4",
       "version_major": 2,
       "version_minor": 0
      },
      "text/plain": [
       "VBox(children=(HTML(value='<h3>🏈 Fantasy Football Draft Dashboard Controls</h3>'), HBox(children=(Dropdown(des…"
      ]
     },
     "metadata": {},
     "output_type": "display_data"
    }
   ],
   "source": [
    "# Create interactive widgets for the dashboard\n",
    "player_dropdown = widgets.Dropdown(\n",
    "    options=dashboard.get_player_list(),\n",
    "    description='Player:',\n",
    "    style={'description_width': 'initial'},\n",
    "    layout={'width': '300px'}\n",
    ")\n",
    "\n",
    "position_filter = widgets.Dropdown(\n",
    "    options=['ALL', 'QB', 'RB', 'WR', 'TE', 'K', 'D/ST'],\n",
    "    value='ALL',\n",
    "    description='Position:',\n",
    "    style={'description_width': 'initial'},\n",
    "    layout={'width': '150px'}\n",
    ")\n",
    "\n",
    "view_selector = widgets.Dropdown(\n",
    "    options=[('Player Cards', 'cards'), ('Summary Table', 'table'), ('Availability Curves', 'curves')],\n",
    "    value='cards',\n",
    "    description='View:',\n",
    "    style={'description_width': 'initial'},\n",
    "    layout={'width': '200px'}\n",
    ")\n",
    "\n",
    "# Buttons\n",
    "draft_button = widgets.Button(\n",
    "    description='Mark as Drafted',\n",
    "    button_style='danger',\n",
    "    layout={'width': '140px'}\n",
    ")\n",
    "\n",
    "undraft_button = widgets.Button(\n",
    "    description='Unmark Drafted',\n",
    "    button_style='warning',\n",
    "    layout={'width': '140px'}\n",
    ")\n",
    "\n",
    "refresh_button = widgets.Button(\n",
    "    description='Refresh Dashboard',\n",
    "    button_style='success',\n",
    "    layout={'width': '140px'}\n",
    ")\n",
    "\n",
    "# Output widget\n",
    "output = widgets.Output()\n",
    "\n",
    "# Event handlers\n",
    "def on_draft_clicked(b):\n",
    "    with output:\n",
    "        clear_output(wait=True)\n",
    "        if player_dropdown.value:\n",
    "            dashboard.mark_drafted(player_dropdown.value)\n",
    "            # Update dropdown options\n",
    "            player_dropdown.options = dashboard.get_player_list()\n",
    "\n",
    "def on_undraft_clicked(b):\n",
    "    with output:\n",
    "        clear_output(wait=True)\n",
    "        if player_dropdown.value:\n",
    "            dashboard.unmark_drafted(player_dropdown.value)\n",
    "            # Update dropdown options\n",
    "            player_dropdown.options = dashboard.get_player_list()\n",
    "\n",
    "def on_refresh_clicked(b):\n",
    "    with output:\n",
    "        clear_output(wait=True)\n",
    "        dashboard.show_dashboard(view=view_selector.value)\n",
    "\n",
    "def on_filter_change(change):\n",
    "    with output:\n",
    "        clear_output(wait=True)\n",
    "        if view_selector.value == 'cards':\n",
    "            dashboard.show_player_cards(position_filter=position_filter.value)\n",
    "        elif view_selector.value == 'table':\n",
    "            dashboard.show_summary_table(position_filter=position_filter.value)\n",
    "        else:\n",
    "            dashboard.show_availability_curves()\n",
    "\n",
    "# Wire up event handlers\n",
    "draft_button.on_click(on_draft_clicked)\n",
    "undraft_button.on_click(on_undraft_clicked)\n",
    "refresh_button.on_click(on_refresh_clicked)\n",
    "position_filter.observe(on_filter_change, names='value')\n",
    "view_selector.observe(on_filter_change, names='value')\n",
    "\n",
    "# Create control panel\n",
    "controls = widgets.VBox([\n",
    "    widgets.HTML(\"<h3>🏈 Fantasy Football Draft Dashboard Controls</h3>\"),\n",
    "    widgets.HBox([position_filter, view_selector]),\n",
    "    widgets.HTML(\"<h4>Draft Management</h4>\"),\n",
    "    widgets.HBox([player_dropdown]),\n",
    "    widgets.HBox([draft_button, undraft_button, refresh_button]),\n",
    "    widgets.HTML(\"<hr>\"),\n",
    "    output\n",
    "])\n",
    "\n",
    "display(controls)"
   ]
  },
  {
   "cell_type": "markdown",
   "metadata": {},
   "source": [
    "## 8. Quick Usage Examples\n",
    "\n",
    "### Key Features Implemented:\n",
    "\n",
    "✅ **80% Reduction in Visual Complexity** - From 15,000 matrix cells to ~150 focused data points  \n",
    "✅ **Instant Decision Support** - \"Who should I draft now?\" answered at a glance  \n",
    "✅ **Mobile-Friendly** - Cards and tables work on small screens  \n",
    "✅ **Familiar Patterns** - Similar to fantasy sports apps  \n",
    "\n",
    "### Quick Start Guide:\n",
    "\n",
    "1. **Set Your Draft Position**: \n",
    "   ```python\n",
    "   dashboard.set_my_picks([8, 17, 32, 41, 56, 65, 80, 89])  # 8-team league, pick 8\n",
    "   ```\n",
    "\n",
    "2. **View Top Available Players**:\n",
    "   ```python\n",
    "   dashboard.show_dashboard(view='cards')  # Player cards (default)\n",
    "   dashboard.show_dashboard(view='table')  # Compact table\n",
    "   ```\n",
    "\n",
    "3. **Mark Players as Drafted**:\n",
    "   ```python\n",
    "   dashboard.mark_drafted(\"Ja'Marr Chase\")\n",
    "   dashboard.mark_drafted(\"Bijan Robinson\")\n",
    "   ```\n",
    "\n",
    "4. **Filter by Position**:\n",
    "   ```python\n",
    "   dashboard.show_player_cards(position_filter='RB')\n",
    "   dashboard.show_summary_table(position_filter='WR')\n",
    "   ```\n",
    "\n",
    "5. **View Availability Trends**:\n",
    "   ```python\n",
    "   dashboard.show_availability_curves()  # Shows curves for top 8 players\n",
    "   ```\n",
    "\n",
    "### Color Coding:\n",
    "- 🟢 **Green (70%+)**: Very likely available at your pick\n",
    "- 🟡 **Yellow (30-70%)**: Moderate risk - consider drafting now\n",
    "- 🔴 **Red (<30%)**: High risk - likely gone before your pick\n",
    "\n",
    "### Dashboard Views:\n",
    "- **Player Cards**: Mobile-friendly cards with key metrics\n",
    "- **Summary Table**: Sortable, color-coded table\n",
    "- **Availability Curves**: Line charts showing probability trends\n",
    "\n",
    "Use the interactive controls above to customize your view and track your draft!"
   ]
  }
 ],
 "metadata": {
  "kernelspec": {
   "display_name": "venv",
   "language": "python",
   "name": "python3"
  },
  "language_info": {
   "codemirror_mode": {
    "name": "ipython",
    "version": 3
   },
   "file_extension": ".py",
   "mimetype": "text/x-python",
   "name": "python",
   "nbconvert_exporter": "python",
   "pygments_lexer": "ipython3",
   "version": "3.13.6"
  }
 },
 "nbformat": 4,
 "nbformat_minor": 4
}
