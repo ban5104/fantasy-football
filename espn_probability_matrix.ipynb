{
 "cells": [
  {
   "cell_type": "code",
   "execution_count": 1,
   "metadata": {},
   "outputs": [],
   "source": [
    "# REMOVED - NEW SYSTEM MOVED TO CORRECT POSITION AFTER CELL 7\n",
    "# This cell was causing dependency issues by running before required functions were defined"
   ]
  },
  {
   "cell_type": "code",
   "execution_count": 2,
   "metadata": {},
   "outputs": [],
   "source": [
    "def load_and_merge_ranking_data():\n",
    "    \"\"\"Load ESPN rankings and external ADP data, merge them for probability calculations\"\"\"\n",
    "    \n",
    "    # Load ESPN data (80% weight)\n",
    "    espn_df = pd.read_csv('data/espn_projections_20250814.csv')\n",
    "    \n",
    "    # Load FantasyPros ADP data (20% weight)  \n",
    "    adp_df = pd.read_csv('data/fantasypros_adp_20250815.csv')\n",
    "    \n",
    "    print(f\"ESPN data: {len(espn_df)} players\")\n",
    "    print(f\"ADP data: {len(adp_df)} players\")\n",
    "    \n",
    "    # Standardize player names for matching\n",
    "    def clean_name(name):\n",
    "        return str(name).strip().lower().replace(\"'\", \"\").replace(\".\", \"\")\n",
    "    \n",
    "    espn_df['clean_name'] = espn_df['player_name'].apply(clean_name)\n",
    "    adp_df['clean_name'] = adp_df['PLAYER'].apply(clean_name)\n",
    "    \n",
    "    # Merge ESPN with ADP data\n",
    "    merged_df = espn_df.merge(\n",
    "        adp_df[['clean_name', 'RANK', 'ADP']], \n",
    "        on='clean_name', \n",
    "        how='left'\n",
    "    )\n",
    "    \n",
    "    # Fill missing ADP ranks with ESPN rank + some penalty\n",
    "    merged_df['adp_rank'] = merged_df['RANK'].fillna(merged_df['overall_rank'] + 50)\n",
    "    merged_df['espn_rank'] = merged_df['overall_rank']\n",
    "    \n",
    "    print(f\"Merged dataset: {len(merged_df)} players\")\n",
    "    print(f\"Players with ADP data: {len(merged_df[merged_df['RANK'].notna()])} players\")\n",
    "    \n",
    "    return merged_df[['overall_rank', 'position', 'position_rank', 'player_name', 'team', 'salary_value', 'bye_week', 'espn_rank', 'adp_rank']]\n",
    "\n",
    "def compute_softmax_scores(rank_series, tau=5.0):\n",
    "    \"\"\"Convert ranks to softmax scores with temperature tau (lower rank = higher score)\"\"\"\n",
    "    scores = np.exp(-rank_series / tau)\n",
    "    return scores\n",
    "\n",
    "def compute_pick_probabilities(available_df, espn_weight=0.8, adp_weight=0.2, tau_espn=5.0, tau_adp=5.0):\n",
    "    \"\"\"\n",
    "    Compute per-player probability of being picked next using weighted softmax over ESPN and ADP ranks\n",
    "    \"\"\"\n",
    "    if len(available_df) == 0:\n",
    "        return pd.Series(dtype=float)\n",
    "    \n",
    "    # Softmax scores for ESPN and ADP ranks\n",
    "    espn_scores = compute_softmax_scores(available_df['espn_rank'], tau_espn)\n",
    "    adp_scores = compute_softmax_scores(available_df['adp_rank'], tau_adp)\n",
    "    \n",
    "    # Weighted combination (80% ESPN, 20% ADP)\n",
    "    combined_scores = espn_weight * espn_scores + adp_weight * adp_scores\n",
    "    \n",
    "    # Normalize to sum to 1 across available players\n",
    "    probs = combined_scores / combined_scores.sum()\n",
    "    return probs\n",
    "\n",
    "def probability_gone_before_next_pick(available_df, player_name, picks_until_next_turn):\n",
    "    \"\"\"\n",
    "    Compute probability a player is gone before your next turn using discrete survival calculation\n",
    "    \"\"\"\n",
    "    if picks_until_next_turn <= 0:\n",
    "        return 0.0\n",
    "    \n",
    "    survival_prob = 1.0\n",
    "    current_available = available_df.copy()\n",
    "    \n",
    "    # Simulate each pick until our next turn\n",
    "    for pick_step in range(picks_until_next_turn):\n",
    "        if len(current_available) == 0:\n",
    "            break\n",
    "            \n",
    "        # Get probabilities for current available players\n",
    "        pick_probs = compute_pick_probabilities(current_available)\n",
    "        \n",
    "        # Find probability our target player gets picked this round\n",
    "        player_mask = current_available['player_name'] == player_name\n",
    "        if not player_mask.any():\n",
    "            # Player already gone\n",
    "            break\n",
    "            \n",
    "        p_pick_now = pick_probs[player_mask].iloc[0] if player_mask.any() else 0.0\n",
    "        \n",
    "        # Update survival probability\n",
    "        survival_prob *= (1 - p_pick_now)\n",
    "        \n",
    "        # For simulation: remove the most likely pick (simplified approach)\n",
    "        most_likely_idx = pick_probs.idxmax()\n",
    "        current_available = current_available.drop(most_likely_idx)\n",
    "    \n",
    "    prob_gone = 1 - survival_prob\n",
    "    return min(1.0, max(0.0, prob_gone))\n",
    "\n",
    "# NOTE: ranking_df will be created after this cell is run by calling the function above"
   ]
  },
  {
   "cell_type": "markdown",
   "metadata": {},
   "source": [
    "# Fantasy Football VBD Ranking Dashboard\n",
    "\n",
    "Clean, minimal, interactive sortable table showing VBD rankings with probability intelligence."
   ]
  },
  {
   "cell_type": "code",
   "execution_count": 3,
   "metadata": {},
   "outputs": [
    {
     "name": "stdout",
     "output_type": "stream",
     "text": [
      "✅ Widget support loaded successfully\n"
     ]
    }
   ],
   "source": [
    "import pandas as pd\n",
    "import numpy as np\n",
    "import plotly.express as px\n",
    "import plotly.graph_objects as go\n",
    "from plotly.subplots import make_subplots\n",
    "from scipy import stats\n",
    "import ipywidgets as widgets\n",
    "from IPython.display import display, clear_output, HTML\n",
    "from IPython.core.display import display_html\n",
    "import base64\n",
    "from io import BytesIO\n",
    "import matplotlib.pyplot as plt\n",
    "import matplotlib\n",
    "matplotlib.use('Agg')\n",
    "import warnings\n",
    "warnings.filterwarnings('ignore')\n",
    "\n",
    "# Enable widget support for proper rendering\n",
    "try:\n",
    "    from ipywidgets import interact, interactive, fixed\n",
    "    import IPython.display as display_module\n",
    "    print(\"✅ Widget support loaded successfully\")\n",
    "except ImportError:\n",
    "    print(\"Warning: ipywidgets not fully available\")"
   ]
  },
  {
   "cell_type": "markdown",
   "metadata": {},
   "source": [
    "## 1. Core Calculation Engine (Preserved from Original)"
   ]
  },
  {
   "cell_type": "code",
   "execution_count": 4,
   "metadata": {},
   "outputs": [
    {
     "name": "stdout",
     "output_type": "stream",
     "text": [
      "VBD data loaded: 50 players\n",
      "ESPN data loaded: 300 players\n",
      "Successfully merged 50 players from VBD data\n",
      "Top 5 by VBD score:\n",
      "           player_name position  overall_rank  salary_value\n",
      "0       Saquon Barkley       RB             1         131.3\n",
      "1       Bijan Robinson       RB             2         127.3\n",
      "2         Jahmyr Gibbs       RB             3         125.0\n",
      "3        Ja'Marr Chase       WR             4         120.6\n",
      "4  Christian McCaffrey       RB             5          96.9\n",
      "\n",
      "Verification - All players using VBD values:\n",
      "           player_name  overall_rank  salary_value\n",
      "0       Saquon Barkley             1         131.3\n",
      "1       Bijan Robinson             2         127.3\n",
      "2         Jahmyr Gibbs             3         125.0\n",
      "3        Ja'Marr Chase             4         120.6\n",
      "4  Christian McCaffrey             5          96.9\n",
      "5        Derrick Henry             6          95.8\n",
      "6        De'Von Achane             7          92.7\n",
      "7        Lamar Jackson             8          91.7\n",
      "8     Justin Jefferson             9          88.3\n",
      "9           Josh Allen            10          88.2\n",
      "\n",
      "Loaded 50 players with VBD integration\n",
      "Sample of enhanced data:\n",
      "   overall_rank position position_rank          player_name team  \\\n",
      "0             1       RB           RB1       Saquon Barkley  PHI   \n",
      "1             2       RB           RB2       Bijan Robinson  ATL   \n",
      "2             3       RB           RB3         Jahmyr Gibbs  DET   \n",
      "3             4       WR           WR1        Ja'Marr Chase  CIN   \n",
      "4             5       RB           RB4  Christian McCaffrey   SF   \n",
      "\n",
      "   salary_value  bye_week  \n",
      "0         131.3       9.0  \n",
      "1         127.3       5.0  \n",
      "2         125.0       8.0  \n",
      "3         120.6      10.0  \n",
      "4          96.9      14.0  \n"
     ]
    }
   ],
   "source": [
    "def load_espn_data():\n",
    "    \"\"\"Load ESPN projections CSV data\"\"\"\n",
    "    df = pd.read_csv('data/espn_projections_20250814.csv')\n",
    "    return df\n",
    "\n",
    "def load_vbd_data():\n",
    "    \"\"\"Load custom VBD rankings\"\"\"\n",
    "    return pd.read_csv('draft_cheat_sheet.csv')\n",
    "\n",
    "def merge_vbd_with_espn():\n",
    "    \"\"\"Merge VBD data with ESPN projections, using VBD rankings as primary\"\"\"\n",
    "    vbd_df = load_vbd_data()\n",
    "    espn_df = load_espn_data()\n",
    "    \n",
    "    print(f\"VBD data loaded: {len(vbd_df)} players\")\n",
    "    print(f\"ESPN data loaded: {len(espn_df)} players\")\n",
    "    \n",
    "    # Start with VBD data as the foundation\n",
    "    final_df = vbd_df.copy()\n",
    "    \n",
    "    # Standardize column names to match ESPN format\n",
    "    final_df['player_name'] = final_df['Player']\n",
    "    final_df['position'] = final_df['Position'] \n",
    "    final_df['overall_rank'] = final_df['Draft_Rank']\n",
    "    final_df['salary_value'] = final_df['Custom_VBD']  # VBD values replace ESPN salary\n",
    "    final_df['team'] = final_df['Team']\n",
    "    final_df['bye_week'] = final_df['Bye']\n",
    "    \n",
    "    # Create position_rank from VBD data  \n",
    "    position_ranks = []\n",
    "    for _, row in final_df.iterrows():\n",
    "        pos = row['position']\n",
    "        # Count how many of this position come before this player in VBD ranking\n",
    "        pos_rank = len(vbd_df[(vbd_df['Position'] == pos) & (vbd_df['Draft_Rank'] < row['overall_rank'])]) + 1\n",
    "        position_ranks.append(f\"{pos}{pos_rank}\")\n",
    "    \n",
    "    final_df['position_rank'] = position_ranks\n",
    "    \n",
    "    # Keep only the ESPN-format columns\n",
    "    final_df = final_df[['overall_rank', 'position', 'position_rank', 'player_name', 'team', 'salary_value', 'bye_week']].copy()\n",
    "    \n",
    "    # Fill any remaining NaN values\n",
    "    final_df = final_df.fillna(0)\n",
    "    \n",
    "    print(f\"Successfully merged {len(final_df)} players from VBD data\")\n",
    "    print(f\"Top 5 by VBD score:\")\n",
    "    print(final_df.head()[['player_name', 'position', 'overall_rank', 'salary_value']])\n",
    "    \n",
    "    # Debug: Show a few more to verify the merge worked\n",
    "    print(f\"\\nVerification - All players using VBD values:\")\n",
    "    print(final_df[['player_name', 'overall_rank', 'salary_value']].head(10))\n",
    "    \n",
    "    return final_df\n",
    "\n",
    "def calculate_availability(player_rank, draft_position, std_dev=3):\n",
    "    \"\"\"Calculate probability that a player is available at a given draft position\"\"\"\n",
    "    if draft_position <= 0:\n",
    "        return 1.0\n",
    "    # Probability = 1 - CDF(draft_position, mean=player_rank, std=std_dev)\n",
    "    prob = 1 - stats.norm.cdf(draft_position, loc=player_rank, scale=std_dev)\n",
    "    return max(0, min(1, prob))\n",
    "\n",
    "# Load the merged VBD + ESPN data\n",
    "df = merge_vbd_with_espn()\n",
    "print(f\"\\nLoaded {len(df)} players with VBD integration\")\n",
    "print(\"Sample of enhanced data:\")\n",
    "print(df.head())"
   ]
  },
  {
   "cell_type": "code",
   "execution_count": 5,
   "metadata": {},
   "outputs": [
    {
     "name": "stdout",
     "output_type": "stream",
     "text": [
      "ESPN data: 300 players\n",
      "ADP data: 347 players\n",
      "Merged dataset: 300 players\n",
      "Players with ADP data: 252 players\n",
      "\n",
      "Sample of merged ranking data:\n",
      "           player_name  espn_rank  adp_rank\n",
      "0        Ja'Marr Chase          1       1.0\n",
      "1       Bijan Robinson          2       2.0\n",
      "2     Justin Jefferson          3       5.0\n",
      "3       Saquon Barkley          4       3.0\n",
      "4         Jahmyr Gibbs          5       4.0\n",
      "5          CeeDee Lamb          6       6.0\n",
      "6  Christian McCaffrey          7      11.0\n",
      "7           Puka Nacua          8       7.0\n",
      "8         Malik Nabers          9       8.0\n",
      "9    Amon-Ra St. Brown         10       9.0\n"
     ]
    }
   ],
   "source": [
    "# Load the new merged ranking data (requires imports from Cell 3)\n",
    "ranking_df = load_and_merge_ranking_data()\n",
    "print(f\"\\nSample of merged ranking data:\")\n",
    "print(ranking_df[['player_name', 'espn_rank', 'adp_rank']].head(10))"
   ]
  },
  {
   "cell_type": "markdown",
   "metadata": {},
   "source": [
    "## 2. Enhanced Data Processing for Dashboard"
   ]
  },
  {
   "cell_type": "code",
   "execution_count": 6,
   "metadata": {},
   "outputs": [
    {
     "name": "stdout",
     "output_type": "stream",
     "text": [
      "DRAFT POSITION LOGIC:\n",
      "Current pick: 1\n",
      "Your next pick: 8 (in 7 picks)\n",
      "Your pick after that: 17\n",
      "==================================================\n",
      "SUCCESS: All 50 players now use dynamic draft position logic\n",
      "Probabilities calculated for next pick (8) and pick after (17)\n",
      "\n",
      "Enhanced data for 50 available players with dynamic draft logic\n",
      "\n",
      "Top 10 players by VBD Rank:\n",
      "           player_name position  overall_rank  salary_value  \\\n",
      "0       Saquon Barkley       RB             1         131.3   \n",
      "1       Bijan Robinson       RB             2         127.3   \n",
      "2         Jahmyr Gibbs       RB             3         125.0   \n",
      "3        Ja'Marr Chase       WR             4         120.6   \n",
      "4  Christian McCaffrey       RB             5          96.9   \n",
      "5        Derrick Henry       RB             6          95.8   \n",
      "6        De'Von Achane       RB             7          92.7   \n",
      "7        Lamar Jackson       QB             8          91.7   \n",
      "8     Justin Jefferson       WR             9          88.3   \n",
      "9           Josh Allen       QB            10          88.2   \n",
      "\n",
      "   prob_at_next_pick  prob_at_pick_after  \\\n",
      "0               0.01                0.00   \n",
      "1               0.02                0.00   \n",
      "2               0.05                0.00   \n",
      "3               0.09                0.00   \n",
      "4               0.16                0.00   \n",
      "5               0.25                0.00   \n",
      "6               0.37                0.00   \n",
      "7               0.50                0.00   \n",
      "8               0.63                0.00   \n",
      "9               0.75                0.01   \n",
      "\n",
      "                                    decision_notes  \n",
      "0   ELITE - REACH - Must draft at pick 8 to secure  \n",
      "1   ELITE - REACH - Must draft at pick 8 to secure  \n",
      "2   ELITE - REACH - Must draft at pick 8 to secure  \n",
      "3   ELITE - REACH - Must draft at pick 8 to secure  \n",
      "4  STRONG - REACH - Must draft at pick 8 to secure  \n",
      "5  STRONG - REACH - Must draft at pick 8 to secure  \n",
      "6               STRONG - DRAFT NOW - Risky to wait  \n",
      "7               STRONG - DRAFT NOW - Risky to wait  \n",
      "8               STRONG - DRAFT NOW - Risky to wait  \n",
      "9               STRONG - DRAFT NOW - Risky to wait  \n"
     ]
    }
   ],
   "source": [
    "def calculate_player_metrics(df, my_picks=None, drafted_players=None, current_pick=1):\n",
    "    \"\"\"Calculate enhanced metrics for each player with dynamic draft position logic\"\"\"\n",
    "    if my_picks is None:\n",
    "        my_picks = [8, 17, 32, 41, 56, 65, 80, 89]  # Default pick positions\n",
    "    if drafted_players is None:\n",
    "        drafted_players = set()\n",
    "    \n",
    "    # Calculate dynamic draft positions\n",
    "    next_pick = None\n",
    "    picks_to_next = None\n",
    "    pick_after_next = None\n",
    "    \n",
    "    for pick in my_picks:\n",
    "        if pick >= current_pick:\n",
    "            next_pick = pick\n",
    "            picks_to_next = pick - current_pick\n",
    "            # Find pick after next\n",
    "            remaining_picks = [p for p in my_picks if p > next_pick]\n",
    "            pick_after_next = remaining_picks[0] if remaining_picks else None\n",
    "            break\n",
    "    \n",
    "    print(f\"DRAFT POSITION LOGIC:\")\n",
    "    print(f\"Current pick: {current_pick}\")\n",
    "    print(f\"Your next pick: {next_pick} (in {picks_to_next} picks)\")\n",
    "    print(f\"Your pick after that: {pick_after_next}\")\n",
    "    print(\"=\" * 50)\n",
    "    \n",
    "    enhanced_data = []\n",
    "    \n",
    "    # Calculate position scarcity data using VBD values\n",
    "    position_counts = {}\n",
    "    for pos in ['QB', 'RB', 'WR', 'TE']:\n",
    "        pos_players = df[df['position'] == pos]\n",
    "        # Count players above median VBD threshold (Custom_VBD >= 40)\n",
    "        elite_count = len(pos_players[pos_players['salary_value'] >= 40])\n",
    "        position_counts[pos] = elite_count\n",
    "    \n",
    "    for _, player in df.iterrows():\n",
    "        if player['player_name'] in drafted_players:\n",
    "            continue  # Skip drafted players\n",
    "            \n",
    "        # Use Draft_Rank instead of ESPN overall_rank for availability calculations\n",
    "        player_rank = player['overall_rank']  # This is now Draft_Rank from VBD data\n",
    "        custom_vbd = player['salary_value']   # This is now Custom_VBD from VBD data\n",
    "        position = player['position']\n",
    "        \n",
    "        # Calculate probabilities at dynamic picks\n",
    "        prob_at_next_pick = calculate_availability(player_rank, next_pick) if next_pick else 0.0\n",
    "        prob_at_pick_after = calculate_availability(player_rank, pick_after_next) if pick_after_next else 0.0\n",
    "        \n",
    "        # Calculate Decision Score using Custom_VBD × Probability at next pick\n",
    "        decision_score = custom_vbd * prob_at_next_pick\n",
    "        \n",
    "        # Calculate median pick using VBD Draft_Rank (50% probability point)\n",
    "        median_pick = player_rank\n",
    "        \n",
    "        # Calculate 10th and 90th percentile picks for range using VBD ranking\n",
    "        p10_pick = max(1, stats.norm.ppf(0.9, loc=player_rank, scale=3))\n",
    "        p90_pick = stats.norm.ppf(0.1, loc=player_rank, scale=3)\n",
    "        \n",
    "        # Calculate opportunity cost (next best VBD value at position if wait)\n",
    "        pos_players = df[df['position'] == position]\n",
    "        # Sort by VBD ranking (overall_rank which is now Draft_Rank)\n",
    "        better_players = pos_players[pos_players['overall_rank'] > player_rank].sort_values('overall_rank')\n",
    "        if len(better_players) > 0:\n",
    "            next_best_vbd = better_players.iloc[0]['salary_value'] if len(better_players) > 0 else 0\n",
    "            opportunity_cost = max(0, custom_vbd - next_best_vbd)  # Cost of waiting vs drafting now\n",
    "        else:\n",
    "            opportunity_cost = 0\n",
    "        \n",
    "        # Positional scarcity calculation using VBD position ranking\n",
    "        pos_rank_num = int(player['position_rank'].replace(position, '')) if player['position_rank'] else 999\n",
    "        if position in position_counts:\n",
    "            remaining_elite = max(0, position_counts[position] - pos_rank_num + 1)\n",
    "            scarcity_text = f\"{position}{pos_rank_num} ({remaining_elite} of {position_counts[position]} left)\"\n",
    "        else:\n",
    "            scarcity_text = f\"{position}{pos_rank_num}\"\n",
    "        \n",
    "        # Generate decision notes with strategic guidance\n",
    "        decision_notes = \"\"\n",
    "        if prob_at_next_pick > 0.8:\n",
    "            decision_notes = f\"SAFE - Available at pick {next_pick}\"\n",
    "        elif prob_at_pick_after and prob_at_pick_after > 0.7:\n",
    "            decision_notes = f\"WAIT - Target at pick {pick_after_next}\"\n",
    "        elif prob_at_next_pick > 0.3:\n",
    "            decision_notes = f\"DRAFT NOW - Risky to wait\"\n",
    "        else:\n",
    "            decision_notes = f\"REACH - Must draft at pick {next_pick} to secure\"\n",
    "        \n",
    "        # Add value consideration\n",
    "        if custom_vbd >= 100:\n",
    "            decision_notes = \"ELITE - \" + decision_notes\n",
    "        elif custom_vbd >= 70:\n",
    "            decision_notes = \"STRONG - \" + decision_notes\n",
    "        elif custom_vbd >= 40:\n",
    "            decision_notes = \"SOLID - \" + decision_notes\n",
    "        else:\n",
    "            decision_notes = \"DEPTH - \" + decision_notes\n",
    "        \n",
    "        # Generate sparkline data using VBD Draft_Rank (availability across next 16 picks)\n",
    "        sparkline_picks = list(range(max(1, player_rank - 5), player_rank + 12))\n",
    "        sparkline_probs = [calculate_availability(player_rank, pick) for pick in sparkline_picks]\n",
    "        \n",
    "        enhanced_data.append({\n",
    "            'player_name': player['player_name'],\n",
    "            'position': player['position'],\n",
    "            'position_rank': player['position_rank'],\n",
    "            'overall_rank': player['overall_rank'],  # This is now VBD Draft_Rank\n",
    "            'team': player['team'],\n",
    "            'salary_value': player['salary_value'],  # This is now Custom_VBD\n",
    "            'bye_week': player['bye_week'],\n",
    "            'current_pick': current_pick,\n",
    "            'next_pick': next_pick,\n",
    "            'picks_to_next': picks_to_next,\n",
    "            'pick_after_next': pick_after_next,\n",
    "            'prob_at_next_pick': prob_at_next_pick,\n",
    "            'prob_at_pick_after': prob_at_pick_after,\n",
    "            'decision_score': decision_score,  # Now uses Custom_VBD × Probability at next pick\n",
    "            'opportunity_cost': opportunity_cost,\n",
    "            'scarcity_badge': scarcity_text,\n",
    "            'decision_notes': decision_notes,\n",
    "            'median_pick': median_pick,\n",
    "            'p10_pick': int(p10_pick),\n",
    "            'p90_pick': int(max(1, p90_pick)),\n",
    "            'pick_range': f\"{int(max(1, p90_pick))}-{int(p10_pick)}\",\n",
    "            'sparkline_picks': sparkline_picks,\n",
    "            'sparkline_probs': sparkline_probs\n",
    "        })\n",
    "    \n",
    "    enhanced_df = pd.DataFrame(enhanced_data)\n",
    "    \n",
    "    print(f\"SUCCESS: All {len(enhanced_df)} players now use dynamic draft position logic\")\n",
    "    print(f\"Probabilities calculated for next pick ({next_pick}) and pick after ({pick_after_next})\")\n",
    "    \n",
    "    return enhanced_df\n",
    "\n",
    "# Calculate metrics with dynamic draft position logic\n",
    "my_draft_picks = [8, 17, 32, 41, 56, 65, 80, 89]  # 8-team league, pick 8\n",
    "current_draft_pick = 1  # Current pick in the draft\n",
    "\n",
    "enhanced_df = calculate_player_metrics(df, my_picks=my_draft_picks, current_pick=current_draft_pick)\n",
    "print(f\"\\nEnhanced data for {len(enhanced_df)} available players with dynamic draft logic\")\n",
    "print(\"\\nTop 10 players by VBD Rank:\")\n",
    "top_vbd = enhanced_df.sort_values('overall_rank').head(10)\n",
    "print(top_vbd[['player_name', 'position', 'overall_rank', 'salary_value', 'prob_at_next_pick', 'prob_at_pick_after', 'decision_notes']].round(2))"
   ]
  },
  {
   "cell_type": "code",
   "execution_count": 7,
   "metadata": {},
   "outputs": [
    {
     "name": "stdout",
     "output_type": "stream",
     "text": [
      "NEW SYSTEM - DRAFT POSITION LOGIC:\n",
      "Current pick: 1\n",
      "Your next pick: 8 (in 7 picks)\n",
      "Your pick after that: 17\n",
      "==================================================\n",
      "SUCCESS: Enhanced data calculated for 300 available players\n",
      "Using new 80% ESPN + 20% ADP discrete survival probability system\n",
      "\n",
      "Top 10 players by ESPN rank using NEW probability system:\n",
      "           player_name  espn_rank  adp_rank  vbd_score  \\\n",
      "0        Ja'Marr Chase          1         1      120.6   \n",
      "1       Bijan Robinson          2         2      127.3   \n",
      "2     Justin Jefferson          3         5       88.3   \n",
      "3       Saquon Barkley          4         3      131.3   \n",
      "4         Jahmyr Gibbs          5         4      125.0   \n",
      "5          CeeDee Lamb          6         6       74.4   \n",
      "6  Christian McCaffrey          7        11       96.9   \n",
      "7           Puka Nacua          8         7       67.7   \n",
      "8         Malik Nabers          9         8       57.5   \n",
      "9    Amon-Ra St. Brown         10         9       62.1   \n",
      "\n",
      "   prob_available_at_next                                     decision_notes  \n",
      "0                   0.819      ELITE - SAFE - 82% chance available at pick 8  \n",
      "1                   0.697  ELITE - DRAFT NOW - Only 70% chance available ...  \n",
      "2                   0.634  STRONG - DRAFT NOW - Only 63% chance available...  \n",
      "3                   0.538  ELITE - DRAFT NOW - Only 54% chance available ...  \n",
      "4                   0.493  ELITE - DRAFT NOW - Only 49% chance available ...  \n",
      "5                   0.474  STRONG - DRAFT NOW - Only 47% chance available...  \n",
      "6                   0.492  STRONG - DRAFT NOW - Only 49% chance available...  \n",
      "7                   0.507  SOLID - DRAFT NOW - Only 51% chance available ...  \n",
      "8                   0.577  SOLID - DRAFT NOW - Only 58% chance available ...  \n",
      "9                   0.640  SOLID - DRAFT NOW - Only 64% chance available ...  \n"
     ]
    }
   ],
   "source": [
    "def calculate_player_metrics_new_system(ranking_df, vbd_df, my_picks=None, drafted_players=None, current_pick=1):\n",
    "    \"\"\"Calculate enhanced metrics using new 80% ESPN + 20% ADP probability system\"\"\"\n",
    "    if my_picks is None:\n",
    "        my_picks = [8, 17, 32, 41, 56, 65, 80, 89]  # Default pick positions\n",
    "    if drafted_players is None:\n",
    "        drafted_players = set()\n",
    "    \n",
    "    # Get next pick logic\n",
    "    next_pick = None\n",
    "    picks_to_next = None\n",
    "    pick_after_next = None\n",
    "    \n",
    "    for pick in my_picks:\n",
    "        if pick >= current_pick:\n",
    "            next_pick = pick\n",
    "            picks_to_next = pick - current_pick\n",
    "            remaining_picks = [p for p in my_picks if p > next_pick]\n",
    "            pick_after_next = remaining_picks[0] if remaining_picks else None\n",
    "            break\n",
    "    \n",
    "    print(f\"NEW SYSTEM - DRAFT POSITION LOGIC:\")\n",
    "    print(f\"Current pick: {current_pick}\")\n",
    "    print(f\"Your next pick: {next_pick} (in {picks_to_next} picks)\")\n",
    "    print(f\"Your pick after that: {pick_after_next}\")\n",
    "    print(\"=\" * 50)\n",
    "    \n",
    "    # Filter out drafted players from ranking data\n",
    "    available_ranking_df = ranking_df[~ranking_df['player_name'].isin(drafted_players)].copy()\n",
    "    \n",
    "    # Merge with VBD data for VBD scores\n",
    "    vbd_lookup = dict(zip(vbd_df['Player'], vbd_df['Custom_VBD']))\n",
    "    available_ranking_df['vbd_score'] = available_ranking_df['player_name'].map(vbd_lookup)\n",
    "    available_ranking_df['vbd_score'] = available_ranking_df['vbd_score'].fillna(0)\n",
    "    \n",
    "    enhanced_data = []\n",
    "    \n",
    "    for _, player in available_ranking_df.iterrows():\n",
    "        player_name = player['player_name']\n",
    "        espn_rank = player['espn_rank']\n",
    "        adp_rank = player['adp_rank']\n",
    "        vbd_score = player['vbd_score']\n",
    "        \n",
    "        # Calculate NEW probabilities using discrete survival method\n",
    "        prob_gone_by_next = probability_gone_before_next_pick(\n",
    "            available_ranking_df, player_name, picks_to_next\n",
    "        ) if picks_to_next > 0 else 0.0\n",
    "        \n",
    "        prob_available_at_next = 1 - prob_gone_by_next\n",
    "        \n",
    "        # Calculate probability gone by pick after next\n",
    "        picks_to_after = (pick_after_next - current_pick) if pick_after_next else 0\n",
    "        prob_gone_by_after = probability_gone_before_next_pick(\n",
    "            available_ranking_df, player_name, picks_to_after\n",
    "        ) if picks_to_after > 0 else 0.0\n",
    "        \n",
    "        prob_available_at_after = 1 - prob_gone_by_after\n",
    "        \n",
    "        # Decision score using VBD × availability probability\n",
    "        decision_score = vbd_score * prob_available_at_next\n",
    "        \n",
    "        # Get immediate next-pick probability for this player\n",
    "        immediate_pick_probs = compute_pick_probabilities(available_ranking_df)\n",
    "        player_idx = available_ranking_df.index[available_ranking_df['player_name'] == player_name][0]\n",
    "        immediate_prob = immediate_pick_probs.loc[player_idx]\n",
    "        \n",
    "        # Decision logic\n",
    "        if prob_available_at_next > 0.8:\n",
    "            decision_notes = f\"SAFE - {prob_available_at_next:.0%} chance available at pick {next_pick}\"\n",
    "        elif prob_available_at_after and prob_available_at_after > 0.7:\n",
    "            decision_notes = f\"WAIT - Target at pick {pick_after_next}\"\n",
    "        elif prob_available_at_next > 0.3:\n",
    "            decision_notes = f\"DRAFT NOW - Only {prob_available_at_next:.0%} chance available later\"\n",
    "        else:\n",
    "            decision_notes = f\"REACH - Must draft at pick {next_pick} to secure\"\n",
    "        \n",
    "        # Add VBD tier\n",
    "        if vbd_score >= 100:\n",
    "            decision_notes = \"ELITE - \" + decision_notes\n",
    "        elif vbd_score >= 70:\n",
    "            decision_notes = \"STRONG - \" + decision_notes\n",
    "        elif vbd_score >= 40:\n",
    "            decision_notes = \"SOLID - \" + decision_notes\n",
    "        else:\n",
    "            decision_notes = \"DEPTH - \" + decision_notes\n",
    "        \n",
    "        enhanced_data.append({\n",
    "            'player_name': player_name,\n",
    "            'position': player['position'],\n",
    "            'position_rank': player['position_rank'],\n",
    "            'espn_rank': int(espn_rank),\n",
    "            'adp_rank': int(adp_rank),\n",
    "            'vbd_score': vbd_score,\n",
    "            'team': player['team'],\n",
    "            'bye_week': player['bye_week'],\n",
    "            'current_pick': current_pick,\n",
    "            'next_pick': next_pick,\n",
    "            'picks_to_next': picks_to_next,\n",
    "            'pick_after_next': pick_after_next,\n",
    "            'prob_available_at_next': prob_available_at_next,\n",
    "            'prob_available_at_after': prob_available_at_after,\n",
    "            'immediate_pick_prob': immediate_prob,\n",
    "            'decision_score': decision_score,\n",
    "            'decision_notes': decision_notes\n",
    "        })\n",
    "    \n",
    "    enhanced_df = pd.DataFrame(enhanced_data)\n",
    "    \n",
    "    print(f\"SUCCESS: Enhanced data calculated for {len(enhanced_df)} available players\")\n",
    "    print(f\"Using new 80% ESPN + 20% ADP discrete survival probability system\")\n",
    "    \n",
    "    return enhanced_df\n",
    "\n",
    "# Test the new system\n",
    "my_draft_picks = [8, 17, 32, 41, 56, 65, 80, 89]\n",
    "current_draft_pick = 1\n",
    "drafted_players_list = set()  # Empty for now\n",
    "\n",
    "# Load VBD data for scoring\n",
    "vbd_data = load_vbd_data()\n",
    "\n",
    "# Calculate using new system\n",
    "new_enhanced_df = calculate_player_metrics_new_system(\n",
    "    ranking_df, vbd_data, \n",
    "    my_picks=my_draft_picks, \n",
    "    current_pick=current_draft_pick,\n",
    "    drafted_players=drafted_players_list\n",
    ")\n",
    "\n",
    "print(f\"\\nTop 10 players by ESPN rank using NEW probability system:\")\n",
    "top_new = new_enhanced_df.sort_values('espn_rank').head(10)\n",
    "print(top_new[['player_name', 'espn_rank', 'adp_rank', 'vbd_score', 'prob_available_at_next', 'decision_notes']].round(3))"
   ]
  },
  {
   "cell_type": "code",
   "execution_count": 8,
   "metadata": {},
   "outputs": [
    {
     "name": "stdout",
     "output_type": "stream",
     "text": [
      "✅ Using new_enhanced_df (80% ESPN + 20% ADP system) for visualizations\n",
      "📊 Visualization data ready: 300 players\n",
      "Available columns: ['player_name', 'position', 'position_rank', 'espn_rank', 'adp_rank', 'vbd_score', 'team', 'bye_week', 'current_pick', 'next_pick', 'picks_to_next', 'pick_after_next', 'prob_available_at_next', 'prob_available_at_after', 'immediate_pick_prob', 'decision_score', 'decision_notes']\n"
     ]
    }
   ],
   "source": [
    "# Create unified viz_df for visualizations\n",
    "# This creates a single data source that all visualization cells can use\n",
    "\n",
    "# Use globals() instead of locals() to access variables from other cells\n",
    "try:\n",
    "    # Try new system first (if available)\n",
    "    if 'new_enhanced_df' in globals() and new_enhanced_df is not None and len(new_enhanced_df) > 0:\n",
    "        viz_df = new_enhanced_df.copy()\n",
    "        print(\"✅ Using new_enhanced_df (80% ESPN + 20% ADP system) for visualizations\")\n",
    "    # Fall back to enhanced_df \n",
    "    elif 'enhanced_df' in globals() and enhanced_df is not None and len(enhanced_df) > 0:\n",
    "        viz_df = enhanced_df.copy()\n",
    "        print(\"✅ Using enhanced_df (original system) for visualizations\")\n",
    "    else:\n",
    "        viz_df = None\n",
    "        print(\"⚠️ No enhanced data available. Please run cells 1-7 to load and calculate player metrics.\")\n",
    "        print(f\"Available variables: {[var for var in globals().keys() if 'df' in var.lower()]}\")\n",
    "        \n",
    "    if viz_df is not None:\n",
    "        print(f\"📊 Visualization data ready: {len(viz_df)} players\")\n",
    "        print(f\"Available columns: {list(viz_df.columns)}\")\n",
    "        \n",
    "except Exception as e:\n",
    "    viz_df = None\n",
    "    print(f\"❌ Error creating viz_df: {e}\")\n",
    "    print(\"Please run the data preparation cells first\")"
   ]
  },
  {
   "cell_type": "code",
   "execution_count": 9,
   "metadata": {},
   "outputs": [
    {
     "name": "stdout",
     "output_type": "stream",
     "text": [
      "✅ Creating position filter widget\n",
      "INTERACTIVE POSITION FILTER\n",
      "Use dropdowns to filter by position and change sort order\n",
      "================================================================================\n"
     ]
    },
    {
     "data": {
      "application/vnd.jupyter.widget-view+json": {
       "model_id": "1a79302d618b472287d904328325a2a1",
       "version_major": 2,
       "version_minor": 0
      },
      "text/plain": [
       "VBox(children=(HBox(children=(Dropdown(description='Position:', layout=Layout(width='150px'), options=('All', …"
      ]
     },
     "metadata": {},
     "output_type": "display_data"
    }
   ],
   "source": [
    "def create_position_filter_widget(enhanced_df):\n",
    "    \"\"\"Create interactive position filter widget for the enhanced data\"\"\"\n",
    "    import ipywidgets as widgets\n",
    "    from IPython.display import display, clear_output\n",
    "    \n",
    "    # Validate input data\n",
    "    if enhanced_df is None or len(enhanced_df) == 0:\n",
    "        raise ValueError(\"DataFrame is empty or None\")\n",
    "    \n",
    "    # Get available positions\n",
    "    positions = ['All'] + sorted(enhanced_df['position'].unique().tolist())\n",
    "    \n",
    "    # Create widgets with explicit layouts\n",
    "    position_dropdown = widgets.Dropdown(\n",
    "        options=positions,\n",
    "        value='All',\n",
    "        description='Position:',\n",
    "        style={'description_width': 'initial'},\n",
    "        layout=widgets.Layout(width='150px')\n",
    "    )\n",
    "    \n",
    "    # Get available sort columns\n",
    "    sort_columns = ['overall_rank', 'espn_rank', 'vbd_score', 'salary_value', 'prob_available_at_next', 'prob_at_next_pick', 'decision_score']\n",
    "    available_sort_cols = [col for col in sort_columns if col in enhanced_df.columns]\n",
    "    \n",
    "    sort_dropdown = widgets.Dropdown(\n",
    "        options=available_sort_cols,\n",
    "        value=available_sort_cols[0] if available_sort_cols else 'player_name',\n",
    "        description='Sort by:',\n",
    "        style={'description_width': 'initial'},\n",
    "        layout=widgets.Layout(width='200px')\n",
    "    )\n",
    "    \n",
    "    # Output widget for the table\n",
    "    output = widgets.Output()\n",
    "    \n",
    "    def update_table(*args):\n",
    "        with output:\n",
    "            clear_output(wait=True)\n",
    "            try:\n",
    "                # Filter data\n",
    "                if position_dropdown.value == 'All':\n",
    "                    filtered_df = enhanced_df.copy()\n",
    "                else:\n",
    "                    filtered_df = enhanced_df[enhanced_df['position'] == position_dropdown.value]\n",
    "                \n",
    "                # Sort data\n",
    "                sort_ascending = sort_dropdown.value in ['player_name', 'position']\n",
    "                filtered_df = filtered_df.sort_values(sort_dropdown.value, ascending=sort_ascending)\n",
    "                \n",
    "                # Display table\n",
    "                display_cols = ['player_name', 'position', 'team']\n",
    "                \n",
    "                # Add available columns based on what's in the dataframe\n",
    "                if 'vbd_score' in filtered_df.columns:\n",
    "                    display_cols.append('vbd_score')\n",
    "                elif 'salary_value' in filtered_df.columns:\n",
    "                    display_cols.append('salary_value')\n",
    "                \n",
    "                if 'prob_available_at_next' in filtered_df.columns:\n",
    "                    display_cols.append('prob_available_at_next')\n",
    "                elif 'prob_at_next_pick' in filtered_df.columns:\n",
    "                    display_cols.append('prob_at_next_pick')\n",
    "                \n",
    "                if 'decision_notes' in filtered_df.columns:\n",
    "                    display_cols.append('decision_notes')\n",
    "                \n",
    "                display_df = filtered_df[display_cols].head(15)\n",
    "                print(f\"Showing top 15 {position_dropdown.value if position_dropdown.value != 'All' else 'players'} sorted by {sort_dropdown.value}\")\n",
    "                print(\"=\" * 80)\n",
    "                print(display_df.to_string(index=False))\n",
    "                \n",
    "            except Exception as e:\n",
    "                print(f\"Error updating table: {e}\")\n",
    "                import traceback\n",
    "                traceback.print_exc()\n",
    "    \n",
    "    # Set up event handlers BEFORE displaying\n",
    "    position_dropdown.observe(update_table, names='value')\n",
    "    sort_dropdown.observe(update_table, names='value')\n",
    "    \n",
    "    # Create layout\n",
    "    controls = widgets.HBox([position_dropdown, sort_dropdown])\n",
    "    \n",
    "    # Display everything at once to prevent display issues\n",
    "    print(\"INTERACTIVE POSITION FILTER\")\n",
    "    print(\"Use dropdowns to filter by position and change sort order\")\n",
    "    print(\"=\"*80)\n",
    "    \n",
    "    # Use VBox to ensure proper vertical layout\n",
    "    widget_container = widgets.VBox([controls, output])\n",
    "    display(widget_container)\n",
    "    \n",
    "    # Trigger initial display\n",
    "    update_table()\n",
    "    \n",
    "    return position_dropdown, sort_dropdown\n",
    "\n",
    "# Create the widget with proper error handling\n",
    "print(\"✅ Creating position filter widget\")\n",
    "try:\n",
    "    # Check for data availability using globals()\n",
    "    if 'new_enhanced_df' in globals() and new_enhanced_df is not None and len(new_enhanced_df) > 0:\n",
    "        position_widget, sort_widget = create_position_filter_widget(new_enhanced_df)\n",
    "    elif 'enhanced_df' in globals() and enhanced_df is not None and len(enhanced_df) > 0:\n",
    "        position_widget, sort_widget = create_position_filter_widget(enhanced_df)\n",
    "    elif 'viz_df' in globals() and viz_df is not None and len(viz_df) > 0:\n",
    "        position_widget, sort_widget = create_position_filter_widget(viz_df)\n",
    "    else:\n",
    "        print(\"⚠️ No enhanced data available. Please run the data preparation cells first.\")\n",
    "        print(\"Available DataFrames:\")\n",
    "        for var_name in ['new_enhanced_df', 'enhanced_df', 'viz_df']:\n",
    "            if var_name in globals():\n",
    "                df = globals()[var_name]\n",
    "                print(f\"  {var_name}: {len(df) if df is not None else 'None'} rows\")\n",
    "        \n",
    "except Exception as e:\n",
    "    print(f\"❌ Error creating position filter: {e}\")\n",
    "    import traceback\n",
    "    traceback.print_exc()"
   ]
  },
  {
   "cell_type": "code",
   "execution_count": 10,
   "metadata": {},
   "outputs": [
    {
     "name": "stdout",
     "output_type": "stream",
     "text": [
      "🎨 CREATING VBD-RANKED TABLE\n",
      "TOP PLAYERS BY VBD SCORE\n",
      "Green=High VBD | Blue=High Availability | Orange=Act Now | Red=Reach\n",
      "================================================================================\n"
     ]
    },
    {
     "data": {
      "text/html": [
       "<style type=\"text/css\">\n",
       "#T_d32d3 th {\n",
       "  background-color: #34495e;\n",
       "  color: white;\n",
       "  font-weight: bold;\n",
       "  text-align: center;\n",
       "}\n",
       "#T_d32d3 td {\n",
       "  padding: 8px;\n",
       "}\n",
       "#T_d32d3_row0_col0, #T_d32d3_row0_col1, #T_d32d3_row0_col2, #T_d32d3_row0_col5, #T_d32d3_row1_col0, #T_d32d3_row1_col1, #T_d32d3_row1_col2, #T_d32d3_row1_col5, #T_d32d3_row2_col0, #T_d32d3_row2_col1, #T_d32d3_row2_col2, #T_d32d3_row2_col5, #T_d32d3_row3_col0, #T_d32d3_row3_col1, #T_d32d3_row3_col2, #T_d32d3_row3_col5, #T_d32d3_row4_col0, #T_d32d3_row4_col1, #T_d32d3_row4_col2, #T_d32d3_row4_col5, #T_d32d3_row5_col0, #T_d32d3_row5_col1, #T_d32d3_row5_col2, #T_d32d3_row5_col5, #T_d32d3_row6_col0, #T_d32d3_row6_col1, #T_d32d3_row6_col2, #T_d32d3_row6_col5, #T_d32d3_row7_col0, #T_d32d3_row7_col1, #T_d32d3_row7_col2, #T_d32d3_row7_col5, #T_d32d3_row8_col0, #T_d32d3_row8_col1, #T_d32d3_row8_col2, #T_d32d3_row8_col5, #T_d32d3_row9_col0, #T_d32d3_row9_col1, #T_d32d3_row9_col2, #T_d32d3_row9_col5, #T_d32d3_row10_col0, #T_d32d3_row10_col1, #T_d32d3_row10_col2, #T_d32d3_row10_col5, #T_d32d3_row11_col0, #T_d32d3_row11_col1, #T_d32d3_row11_col2, #T_d32d3_row11_col5, #T_d32d3_row12_col0, #T_d32d3_row12_col1, #T_d32d3_row12_col2, #T_d32d3_row12_col5, #T_d32d3_row13_col0, #T_d32d3_row13_col1, #T_d32d3_row13_col2, #T_d32d3_row13_col5, #T_d32d3_row14_col0, #T_d32d3_row14_col1, #T_d32d3_row14_col2, #T_d32d3_row14_col5 {\n",
       "  text-align: center;\n",
       "}\n",
       "#T_d32d3_row0_col3, #T_d32d3_row1_col3, #T_d32d3_row2_col3, #T_d32d3_row3_col3 {\n",
       "  background-color: #2ecc71;\n",
       "  color: white;\n",
       "  font-weight: bold;\n",
       "  text-align: center;\n",
       "}\n",
       "#T_d32d3_row0_col4, #T_d32d3_row1_col4, #T_d32d3_row5_col4, #T_d32d3_row8_col4, #T_d32d3_row12_col4 {\n",
       "  background-color: #5dade2;\n",
       "  color: white;\n",
       "  text-align: center;\n",
       "}\n",
       "#T_d32d3_row2_col4, #T_d32d3_row4_col4, #T_d32d3_row13_col4 {\n",
       "  background-color: #aed6f1;\n",
       "  text-align: center;\n",
       "}\n",
       "#T_d32d3_row3_col4, #T_d32d3_row6_col4, #T_d32d3_row7_col4, #T_d32d3_row9_col4, #T_d32d3_row10_col4, #T_d32d3_row11_col4, #T_d32d3_row14_col4 {\n",
       "  background-color: #3498db;\n",
       "  color: white;\n",
       "  text-align: center;\n",
       "}\n",
       "#T_d32d3_row4_col3, #T_d32d3_row5_col3, #T_d32d3_row6_col3, #T_d32d3_row7_col3, #T_d32d3_row8_col3, #T_d32d3_row9_col3, #T_d32d3_row10_col3, #T_d32d3_row11_col3, #T_d32d3_row12_col3, #T_d32d3_row13_col3, #T_d32d3_row14_col3 {\n",
       "  background-color: #27ae60;\n",
       "  color: white;\n",
       "  text-align: center;\n",
       "}\n",
       "</style>\n",
       "<table id=\"T_d32d3\">\n",
       "  <thead>\n",
       "    <tr>\n",
       "      <th class=\"blank level0\" >&nbsp;</th>\n",
       "      <th id=\"T_d32d3_level0_col0\" class=\"col_heading level0 col0\" >Player</th>\n",
       "      <th id=\"T_d32d3_level0_col1\" class=\"col_heading level0 col1\" >Pos</th>\n",
       "      <th id=\"T_d32d3_level0_col2\" class=\"col_heading level0 col2\" >Team</th>\n",
       "      <th id=\"T_d32d3_level0_col3\" class=\"col_heading level0 col3\" >VBD</th>\n",
       "      <th id=\"T_d32d3_level0_col4\" class=\"col_heading level0 col4\" >Next %</th>\n",
       "      <th id=\"T_d32d3_level0_col5\" class=\"col_heading level0 col5\" >Decision</th>\n",
       "    </tr>\n",
       "  </thead>\n",
       "  <tbody>\n",
       "    <tr>\n",
       "      <th id=\"T_d32d3_level0_row0\" class=\"row_heading level0 row0\" >3</th>\n",
       "      <td id=\"T_d32d3_row0_col0\" class=\"data row0 col0\" >Saquon Barkley</td>\n",
       "      <td id=\"T_d32d3_row0_col1\" class=\"data row0 col1\" >RB</td>\n",
       "      <td id=\"T_d32d3_row0_col2\" class=\"data row0 col2\" >PHI</td>\n",
       "      <td id=\"T_d32d3_row0_col3\" class=\"data row0 col3\" >131.3</td>\n",
       "      <td id=\"T_d32d3_row0_col4\" class=\"data row0 col4\" >54</td>\n",
       "      <td id=\"T_d32d3_row0_col5\" class=\"data row0 col5\" >Only 54% chance available later</td>\n",
       "    </tr>\n",
       "    <tr>\n",
       "      <th id=\"T_d32d3_level0_row1\" class=\"row_heading level0 row1\" >1</th>\n",
       "      <td id=\"T_d32d3_row1_col0\" class=\"data row1 col0\" >Bijan Robinson</td>\n",
       "      <td id=\"T_d32d3_row1_col1\" class=\"data row1 col1\" >RB</td>\n",
       "      <td id=\"T_d32d3_row1_col2\" class=\"data row1 col2\" >ATL</td>\n",
       "      <td id=\"T_d32d3_row1_col3\" class=\"data row1 col3\" >127.3</td>\n",
       "      <td id=\"T_d32d3_row1_col4\" class=\"data row1 col4\" >70</td>\n",
       "      <td id=\"T_d32d3_row1_col5\" class=\"data row1 col5\" >Only 70% chance available later</td>\n",
       "    </tr>\n",
       "    <tr>\n",
       "      <th id=\"T_d32d3_level0_row2\" class=\"row_heading level0 row2\" >4</th>\n",
       "      <td id=\"T_d32d3_row2_col0\" class=\"data row2 col0\" >Jahmyr Gibbs</td>\n",
       "      <td id=\"T_d32d3_row2_col1\" class=\"data row2 col1\" >RB</td>\n",
       "      <td id=\"T_d32d3_row2_col2\" class=\"data row2 col2\" >DET</td>\n",
       "      <td id=\"T_d32d3_row2_col3\" class=\"data row2 col3\" >125.0</td>\n",
       "      <td id=\"T_d32d3_row2_col4\" class=\"data row2 col4\" >49</td>\n",
       "      <td id=\"T_d32d3_row2_col5\" class=\"data row2 col5\" >Only 49% chance available later</td>\n",
       "    </tr>\n",
       "    <tr>\n",
       "      <th id=\"T_d32d3_level0_row3\" class=\"row_heading level0 row3\" >0</th>\n",
       "      <td id=\"T_d32d3_row3_col0\" class=\"data row3 col0\" >Ja'Marr Chase</td>\n",
       "      <td id=\"T_d32d3_row3_col1\" class=\"data row3 col1\" >WR</td>\n",
       "      <td id=\"T_d32d3_row3_col2\" class=\"data row3 col2\" >CIN</td>\n",
       "      <td id=\"T_d32d3_row3_col3\" class=\"data row3 col3\" >120.6</td>\n",
       "      <td id=\"T_d32d3_row3_col4\" class=\"data row3 col4\" >82</td>\n",
       "      <td id=\"T_d32d3_row3_col5\" class=\"data row3 col5\" >82% chance available at pick 8</td>\n",
       "    </tr>\n",
       "    <tr>\n",
       "      <th id=\"T_d32d3_level0_row4\" class=\"row_heading level0 row4\" >6</th>\n",
       "      <td id=\"T_d32d3_row4_col0\" class=\"data row4 col0\" >Christian McCaffrey</td>\n",
       "      <td id=\"T_d32d3_row4_col1\" class=\"data row4 col1\" >RB</td>\n",
       "      <td id=\"T_d32d3_row4_col2\" class=\"data row4 col2\" >SF</td>\n",
       "      <td id=\"T_d32d3_row4_col3\" class=\"data row4 col3\" >96.9</td>\n",
       "      <td id=\"T_d32d3_row4_col4\" class=\"data row4 col4\" >49</td>\n",
       "      <td id=\"T_d32d3_row4_col5\" class=\"data row4 col5\" >Only 49% chance available later</td>\n",
       "    </tr>\n",
       "    <tr>\n",
       "      <th id=\"T_d32d3_level0_row5\" class=\"row_heading level0 row5\" >10</th>\n",
       "      <td id=\"T_d32d3_row5_col0\" class=\"data row5 col0\" >Derrick Henry</td>\n",
       "      <td id=\"T_d32d3_row5_col1\" class=\"data row5 col1\" >RB</td>\n",
       "      <td id=\"T_d32d3_row5_col2\" class=\"data row5 col2\" >BAL</td>\n",
       "      <td id=\"T_d32d3_row5_col3\" class=\"data row5 col3\" >95.8</td>\n",
       "      <td id=\"T_d32d3_row5_col4\" class=\"data row5 col4\" >72</td>\n",
       "      <td id=\"T_d32d3_row5_col5\" class=\"data row5 col5\" >Only 72% chance available later</td>\n",
       "    </tr>\n",
       "    <tr>\n",
       "      <th id=\"T_d32d3_level0_row6\" class=\"row_heading level0 row6\" >17</th>\n",
       "      <td id=\"T_d32d3_row6_col0\" class=\"data row6 col0\" >De'Von Achane</td>\n",
       "      <td id=\"T_d32d3_row6_col1\" class=\"data row6 col1\" >RB</td>\n",
       "      <td id=\"T_d32d3_row6_col2\" class=\"data row6 col2\" >MIA</td>\n",
       "      <td id=\"T_d32d3_row6_col3\" class=\"data row6 col3\" >92.7</td>\n",
       "      <td id=\"T_d32d3_row6_col4\" class=\"data row6 col4\" >91</td>\n",
       "      <td id=\"T_d32d3_row6_col5\" class=\"data row6 col5\" >91% chance available at pick 8</td>\n",
       "    </tr>\n",
       "    <tr>\n",
       "      <th id=\"T_d32d3_level0_row7\" class=\"row_heading level0 row7\" >28</th>\n",
       "      <td id=\"T_d32d3_row7_col0\" class=\"data row7 col0\" >Lamar Jackson</td>\n",
       "      <td id=\"T_d32d3_row7_col1\" class=\"data row7 col1\" >QB</td>\n",
       "      <td id=\"T_d32d3_row7_col2\" class=\"data row7 col2\" >BAL</td>\n",
       "      <td id=\"T_d32d3_row7_col3\" class=\"data row7 col3\" >91.7</td>\n",
       "      <td id=\"T_d32d3_row7_col4\" class=\"data row7 col4\" >99</td>\n",
       "      <td id=\"T_d32d3_row7_col5\" class=\"data row7 col5\" >99% chance available at pick 8</td>\n",
       "    </tr>\n",
       "    <tr>\n",
       "      <th id=\"T_d32d3_level0_row8\" class=\"row_heading level0 row8\" >2</th>\n",
       "      <td id=\"T_d32d3_row8_col0\" class=\"data row8 col0\" >Justin Jefferson</td>\n",
       "      <td id=\"T_d32d3_row8_col1\" class=\"data row8 col1\" >WR</td>\n",
       "      <td id=\"T_d32d3_row8_col2\" class=\"data row8 col2\" >MIN</td>\n",
       "      <td id=\"T_d32d3_row8_col3\" class=\"data row8 col3\" >88.3</td>\n",
       "      <td id=\"T_d32d3_row8_col4\" class=\"data row8 col4\" >63</td>\n",
       "      <td id=\"T_d32d3_row8_col5\" class=\"data row8 col5\" >Only 63% chance available later</td>\n",
       "    </tr>\n",
       "    <tr>\n",
       "      <th id=\"T_d32d3_level0_row9\" class=\"row_heading level0 row9\" >27</th>\n",
       "      <td id=\"T_d32d3_row9_col0\" class=\"data row9 col0\" >Josh Allen</td>\n",
       "      <td id=\"T_d32d3_row9_col1\" class=\"data row9 col1\" >QB</td>\n",
       "      <td id=\"T_d32d3_row9_col2\" class=\"data row9 col2\" >BUF</td>\n",
       "      <td id=\"T_d32d3_row9_col3\" class=\"data row9 col3\" >88.2</td>\n",
       "      <td id=\"T_d32d3_row9_col4\" class=\"data row9 col4\" >98</td>\n",
       "      <td id=\"T_d32d3_row9_col5\" class=\"data row9 col5\" >98% chance available at pick 8</td>\n",
       "    </tr>\n",
       "    <tr>\n",
       "      <th id=\"T_d32d3_level0_row10\" class=\"row_heading level0 row10\" >19</th>\n",
       "      <td id=\"T_d32d3_row10_col0\" class=\"data row10 col0\" >Brock Bowers</td>\n",
       "      <td id=\"T_d32d3_row10_col1\" class=\"data row10 col1\" >TE</td>\n",
       "      <td id=\"T_d32d3_row10_col2\" class=\"data row10 col2\" >LV</td>\n",
       "      <td id=\"T_d32d3_row10_col3\" class=\"data row10 col3\" >85.4</td>\n",
       "      <td id=\"T_d32d3_row10_col4\" class=\"data row10 col4\" >93</td>\n",
       "      <td id=\"T_d32d3_row10_col5\" class=\"data row10 col5\" >93% chance available at pick 8</td>\n",
       "    </tr>\n",
       "    <tr>\n",
       "      <th id=\"T_d32d3_level0_row11\" class=\"row_heading level0 row11\" >18</th>\n",
       "      <td id=\"T_d32d3_row11_col0\" class=\"data row11 col0\" >Josh Jacobs</td>\n",
       "      <td id=\"T_d32d3_row11_col1\" class=\"data row11 col1\" >RB</td>\n",
       "      <td id=\"T_d32d3_row11_col2\" class=\"data row11 col2\" >GB</td>\n",
       "      <td id=\"T_d32d3_row11_col3\" class=\"data row11 col3\" >79.8</td>\n",
       "      <td id=\"T_d32d3_row11_col4\" class=\"data row11 col4\" >93</td>\n",
       "      <td id=\"T_d32d3_row11_col5\" class=\"data row11 col5\" >93% chance available at pick 8</td>\n",
       "    </tr>\n",
       "    <tr>\n",
       "      <th id=\"T_d32d3_level0_row12\" class=\"row_heading level0 row12\" >11</th>\n",
       "      <td id=\"T_d32d3_row12_col0\" class=\"data row12 col0\" >Ashton Jeanty</td>\n",
       "      <td id=\"T_d32d3_row12_col1\" class=\"data row12 col1\" >RB</td>\n",
       "      <td id=\"T_d32d3_row12_col2\" class=\"data row12 col2\" >LV</td>\n",
       "      <td id=\"T_d32d3_row12_col3\" class=\"data row12 col3\" >76.1</td>\n",
       "      <td id=\"T_d32d3_row12_col4\" class=\"data row12 col4\" >73</td>\n",
       "      <td id=\"T_d32d3_row12_col5\" class=\"data row12 col5\" >Only 73% chance available later</td>\n",
       "    </tr>\n",
       "    <tr>\n",
       "      <th id=\"T_d32d3_level0_row13\" class=\"row_heading level0 row13\" >5</th>\n",
       "      <td id=\"T_d32d3_row13_col0\" class=\"data row13 col0\" >CeeDee Lamb</td>\n",
       "      <td id=\"T_d32d3_row13_col1\" class=\"data row13 col1\" >WR</td>\n",
       "      <td id=\"T_d32d3_row13_col2\" class=\"data row13 col2\" >DAL</td>\n",
       "      <td id=\"T_d32d3_row13_col3\" class=\"data row13 col3\" >74.4</td>\n",
       "      <td id=\"T_d32d3_row13_col4\" class=\"data row13 col4\" >47</td>\n",
       "      <td id=\"T_d32d3_row13_col5\" class=\"data row13 col5\" >Only 47% chance available later</td>\n",
       "    </tr>\n",
       "    <tr>\n",
       "      <th id=\"T_d32d3_level0_row14\" class=\"row_heading level0 row14\" >20</th>\n",
       "      <td id=\"T_d32d3_row14_col0\" class=\"data row14 col0\" >Trey McBride</td>\n",
       "      <td id=\"T_d32d3_row14_col1\" class=\"data row14 col1\" >TE</td>\n",
       "      <td id=\"T_d32d3_row14_col2\" class=\"data row14 col2\" >ARI</td>\n",
       "      <td id=\"T_d32d3_row14_col3\" class=\"data row14 col3\" >71.9</td>\n",
       "      <td id=\"T_d32d3_row14_col4\" class=\"data row14 col4\" >96</td>\n",
       "      <td id=\"T_d32d3_row14_col5\" class=\"data row14 col5\" >96% chance available at pick 8</td>\n",
       "    </tr>\n",
       "  </tbody>\n",
       "</table>\n"
      ],
      "text/plain": [
       "<pandas.io.formats.style.Styler at 0x130459e80>"
      ]
     },
     "metadata": {},
     "output_type": "display_data"
    }
   ],
   "source": [
    "def create_styled_table(enhanced_df, limit=15):\n",
    "    \"\"\"Create a styled pandas table with color gradients for better visual clarity\"\"\"\n",
    "    # Sort by VBD score (highest first)\n",
    "    vbd_col = 'vbd_score' if 'vbd_score' in enhanced_df.columns else 'salary_value'\n",
    "    df_display = enhanced_df.sort_values(vbd_col, ascending=False).head(limit).copy()\n",
    "    \n",
    "    # Create simplified table for styling - just VBD ranking\n",
    "    try:\n",
    "        styled_df = pd.DataFrame({\n",
    "            'Player': df_display['player_name'],\n",
    "            'Pos': df_display['position'],\n",
    "            'Team': df_display['team'],\n",
    "            'VBD': df_display[vbd_col].round(1),\n",
    "            'Next %': ((df_display['prob_available_at_next'] if 'prob_available_at_next' in df_display.columns else df_display['prob_at_next_pick']) * 100).round(0),\n",
    "            'Decision': df_display['decision_notes'].str.split(' - ').str[-1]\n",
    "        })\n",
    "    except Exception as e:\n",
    "        print(f\"Error creating styled table: {e}\")\n",
    "        return None\n",
    "    \n",
    "    # Apply styling functions\n",
    "    def color_vbd(val):\n",
    "        if val >= 100:\n",
    "            return 'background-color: #2ecc71; color: white; font-weight: bold'\n",
    "        elif val >= 70:\n",
    "            return 'background-color: #27ae60; color: white'\n",
    "        elif val >= 40:\n",
    "            return 'background-color: #f39c12; color: white'\n",
    "        else:\n",
    "            return 'background-color: #95a5a6; color: white'\n",
    "    \n",
    "    def color_probability(val):\n",
    "        if val >= 80:\n",
    "            return 'background-color: #3498db; color: white'\n",
    "        elif val >= 50:\n",
    "            return 'background-color: #5dade2; color: white'\n",
    "        elif val >= 30:\n",
    "            return 'background-color: #aed6f1'\n",
    "        else:\n",
    "            return 'background-color: #e74c3c; color: white'\n",
    "    \n",
    "    def color_decision(val):\n",
    "        if 'SAFE' in val or 'WAIT' in val:\n",
    "            return 'background-color: #2ecc71; color: white'\n",
    "        elif 'DRAFT NOW' in val:\n",
    "            return 'background-color: #f39c12; color: white; font-weight: bold'\n",
    "        elif 'REACH' in val:\n",
    "            return 'background-color: #e74c3c; color: white; font-weight: bold'\n",
    "        else:\n",
    "            return ''\n",
    "    \n",
    "    # Apply styles\n",
    "    styled = styled_df.style \\\n",
    "        .applymap(color_vbd, subset=['VBD']) \\\n",
    "        .applymap(color_probability, subset=['Next %']) \\\n",
    "        .applymap(color_decision, subset=['Decision']) \\\n",
    "        .format({'VBD': '{:.1f}', 'Next %': '{:.0f}'}) \\\n",
    "        .set_properties(**{'text-align': 'center'}) \\\n",
    "        .set_table_styles([\n",
    "            {'selector': 'th', 'props': [('background-color', '#34495e'), \n",
    "                                         ('color', 'white'),\n",
    "                                         ('font-weight', 'bold'),\n",
    "                                         ('text-align', 'center')]},\n",
    "            {'selector': 'td', 'props': [('padding', '8px')]}\n",
    "        ])\n",
    "    \n",
    "    print(\"TOP PLAYERS BY VBD SCORE\")\n",
    "    print(\"Green=High VBD | Blue=High Availability | Orange=Act Now | Red=Reach\")\n",
    "    print(\"=\"*80)\n",
    "    \n",
    "    return styled\n",
    "\n",
    "# Execute styled table creation\n",
    "try:\n",
    "    if 'viz_df' in globals() and viz_df is not None:\n",
    "        print(\"🎨 CREATING VBD-RANKED TABLE\")\n",
    "        styled_table = create_styled_table(viz_df, limit=15)\n",
    "        if styled_table is not None:\n",
    "            display(styled_table)\n",
    "    else:\n",
    "        print(\"❌ ERROR: No visualization data available\")\n",
    "        print(\"Please run the data setup cells first\")\n",
    "        \n",
    "except Exception as e:\n",
    "    print(f\"❌ Error creating styled table: {e}\")\n",
    "    print(\"Please ensure the data preparation cells have been run successfully\")"
   ]
  },
  {
   "cell_type": "code",
   "execution_count": 11,
   "metadata": {},
   "outputs": [
    {
     "name": "stdout",
     "output_type": "stream",
     "text": [
      "🎨 CREATING ENHANCED HEATMAP WITH ALL IMPROVEMENTS\n"
     ]
    },
    {
     "data": {
      "application/vnd.plotly.v1+json": {
       "config": {
        "plotlyServerURL": "https://plot.ly"
       },
       "data": [
        {
         "colorbar": {
          "dtick": 20,
          "tick0": 0,
          "tickmode": "linear",
          "ticksuffix": "%",
          "title": {
           "side": "right",
           "text": "Availability %"
          }
         },
         "colorscale": [
          [
           0,
           "#e74c3c"
          ],
          [
           0.3,
           "#f39c12"
          ],
          [
           0.7,
           "#2ecc71"
          ],
          [
           1,
           "#27ae60"
          ]
         ],
         "hovertemplate": "%{text}",
         "text": [
          [
           "<b>Saquon Barkley</b><br>Pick 1: 84.1% available<br>SAFE<extra></extra>",
           "<b>Saquon Barkley</b><br>Pick 2: 74.8% available<br>SAFE<extra></extra>",
           "<b>Saquon Barkley</b><br>Pick 3: 63.1% available<br>RISKY<extra></extra>",
           "<b>Saquon Barkley</b><br>Pick 4: 50.0% available<br>RISKY<extra></extra>",
           "<b>Saquon Barkley</b><br>Pick 5: 36.9% available<br>RISKY<extra></extra>",
           "<b>Saquon Barkley</b><br>Pick 6: 25.2% available<br>DRAFT NOW<extra></extra>",
           "<b>Saquon Barkley</b><br>Pick 7: 15.9% available<br>DRAFT NOW<extra></extra>",
           "<b>Saquon Barkley</b><br>Pick 8: 9.1% available<br>DRAFT NOW<extra></extra>",
           "<b>Saquon Barkley</b><br>Pick 9: 4.8% available<br>DRAFT NOW<extra></extra>",
           "<b>Saquon Barkley</b><br>Pick 10: 2.3% available<br>DRAFT NOW<extra></extra>",
           "<b>Saquon Barkley</b><br>Pick 11: 1.0% available<br>DRAFT NOW<extra></extra>",
           "<b>Saquon Barkley</b><br>Pick 12: 0.4% available<br>DRAFT NOW<extra></extra>",
           "<b>Saquon Barkley</b><br>Pick 13: 0.1% available<br>DRAFT NOW<extra></extra>",
           "<b>Saquon Barkley</b><br>Pick 14: 0.0% available<br>DRAFT NOW<extra></extra>",
           "<b>Saquon Barkley</b><br>Pick 15: 0.0% available<br>DRAFT NOW<extra></extra>",
           "<b>Saquon Barkley</b><br>Pick 16: 0.0% available<br>DRAFT NOW<extra></extra>",
           "<b>Saquon Barkley</b><br>Pick 17: 0.0% available<br>DRAFT NOW<extra></extra>",
           "<b>Saquon Barkley</b><br>Pick 18: 0.0% available<br>DRAFT NOW<extra></extra>",
           "<b>Saquon Barkley</b><br>Pick 19: 0.0% available<br>DRAFT NOW<extra></extra>",
           "<b>Saquon Barkley</b><br>Pick 20: 0.0% available<br>DRAFT NOW<extra></extra>",
           "<b>Saquon Barkley</b><br>Pick 21: 0.0% available<br>DRAFT NOW<extra></extra>",
           "<b>Saquon Barkley</b><br>Pick 22: 0.0% available<br>DRAFT NOW<extra></extra>",
           "<b>Saquon Barkley</b><br>Pick 23: 0.0% available<br>DRAFT NOW<extra></extra>",
           "<b>Saquon Barkley</b><br>Pick 24: 0.0% available<br>DRAFT NOW<extra></extra>",
           "<b>Saquon Barkley</b><br>Pick 25: 0.0% available<br>DRAFT NOW<extra></extra>",
           "<b>Saquon Barkley</b><br>Pick 26: 0.0% available<br>DRAFT NOW<extra></extra>",
           "<b>Saquon Barkley</b><br>Pick 27: 0.0% available<br>DRAFT NOW<extra></extra>",
           "<b>Saquon Barkley</b><br>Pick 28: 0.0% available<br>DRAFT NOW<extra></extra>",
           "<b>Saquon Barkley</b><br>Pick 29: 0.0% available<br>DRAFT NOW<extra></extra>",
           "<b>Saquon Barkley</b><br>Pick 30: 0.0% available<br>DRAFT NOW<extra></extra>"
          ],
          [
           "<b>Bijan Robinson</b><br>Pick 1: 63.1% available<br>RISKY<extra></extra>",
           "<b>Bijan Robinson</b><br>Pick 2: 50.0% available<br>RISKY<extra></extra>",
           "<b>Bijan Robinson</b><br>Pick 3: 36.9% available<br>RISKY<extra></extra>",
           "<b>Bijan Robinson</b><br>Pick 4: 25.2% available<br>DRAFT NOW<extra></extra>",
           "<b>Bijan Robinson</b><br>Pick 5: 15.9% available<br>DRAFT NOW<extra></extra>",
           "<b>Bijan Robinson</b><br>Pick 6: 9.1% available<br>DRAFT NOW<extra></extra>",
           "<b>Bijan Robinson</b><br>Pick 7: 4.8% available<br>DRAFT NOW<extra></extra>",
           "<b>Bijan Robinson</b><br>Pick 8: 2.3% available<br>DRAFT NOW<extra></extra>",
           "<b>Bijan Robinson</b><br>Pick 9: 1.0% available<br>DRAFT NOW<extra></extra>",
           "<b>Bijan Robinson</b><br>Pick 10: 0.4% available<br>DRAFT NOW<extra></extra>",
           "<b>Bijan Robinson</b><br>Pick 11: 0.1% available<br>DRAFT NOW<extra></extra>",
           "<b>Bijan Robinson</b><br>Pick 12: 0.0% available<br>DRAFT NOW<extra></extra>",
           "<b>Bijan Robinson</b><br>Pick 13: 0.0% available<br>DRAFT NOW<extra></extra>",
           "<b>Bijan Robinson</b><br>Pick 14: 0.0% available<br>DRAFT NOW<extra></extra>",
           "<b>Bijan Robinson</b><br>Pick 15: 0.0% available<br>DRAFT NOW<extra></extra>",
           "<b>Bijan Robinson</b><br>Pick 16: 0.0% available<br>DRAFT NOW<extra></extra>",
           "<b>Bijan Robinson</b><br>Pick 17: 0.0% available<br>DRAFT NOW<extra></extra>",
           "<b>Bijan Robinson</b><br>Pick 18: 0.0% available<br>DRAFT NOW<extra></extra>",
           "<b>Bijan Robinson</b><br>Pick 19: 0.0% available<br>DRAFT NOW<extra></extra>",
           "<b>Bijan Robinson</b><br>Pick 20: 0.0% available<br>DRAFT NOW<extra></extra>",
           "<b>Bijan Robinson</b><br>Pick 21: 0.0% available<br>DRAFT NOW<extra></extra>",
           "<b>Bijan Robinson</b><br>Pick 22: 0.0% available<br>DRAFT NOW<extra></extra>",
           "<b>Bijan Robinson</b><br>Pick 23: 0.0% available<br>DRAFT NOW<extra></extra>",
           "<b>Bijan Robinson</b><br>Pick 24: 0.0% available<br>DRAFT NOW<extra></extra>",
           "<b>Bijan Robinson</b><br>Pick 25: 0.0% available<br>DRAFT NOW<extra></extra>",
           "<b>Bijan Robinson</b><br>Pick 26: 0.0% available<br>DRAFT NOW<extra></extra>",
           "<b>Bijan Robinson</b><br>Pick 27: 0.0% available<br>DRAFT NOW<extra></extra>",
           "<b>Bijan Robinson</b><br>Pick 28: 0.0% available<br>DRAFT NOW<extra></extra>",
           "<b>Bijan Robinson</b><br>Pick 29: 0.0% available<br>DRAFT NOW<extra></extra>",
           "<b>Bijan Robinson</b><br>Pick 30: 0.0% available<br>DRAFT NOW<extra></extra>"
          ],
          [
           "<b>Jahmyr Gibbs</b><br>Pick 1: 90.9% available<br>SAFE<extra></extra>",
           "<b>Jahmyr Gibbs</b><br>Pick 2: 84.1% available<br>SAFE<extra></extra>",
           "<b>Jahmyr Gibbs</b><br>Pick 3: 74.8% available<br>SAFE<extra></extra>",
           "<b>Jahmyr Gibbs</b><br>Pick 4: 63.1% available<br>RISKY<extra></extra>",
           "<b>Jahmyr Gibbs</b><br>Pick 5: 50.0% available<br>RISKY<extra></extra>",
           "<b>Jahmyr Gibbs</b><br>Pick 6: 36.9% available<br>RISKY<extra></extra>",
           "<b>Jahmyr Gibbs</b><br>Pick 7: 25.2% available<br>DRAFT NOW<extra></extra>",
           "<b>Jahmyr Gibbs</b><br>Pick 8: 15.9% available<br>DRAFT NOW<extra></extra>",
           "<b>Jahmyr Gibbs</b><br>Pick 9: 9.1% available<br>DRAFT NOW<extra></extra>",
           "<b>Jahmyr Gibbs</b><br>Pick 10: 4.8% available<br>DRAFT NOW<extra></extra>",
           "<b>Jahmyr Gibbs</b><br>Pick 11: 2.3% available<br>DRAFT NOW<extra></extra>",
           "<b>Jahmyr Gibbs</b><br>Pick 12: 1.0% available<br>DRAFT NOW<extra></extra>",
           "<b>Jahmyr Gibbs</b><br>Pick 13: 0.4% available<br>DRAFT NOW<extra></extra>",
           "<b>Jahmyr Gibbs</b><br>Pick 14: 0.1% available<br>DRAFT NOW<extra></extra>",
           "<b>Jahmyr Gibbs</b><br>Pick 15: 0.0% available<br>DRAFT NOW<extra></extra>",
           "<b>Jahmyr Gibbs</b><br>Pick 16: 0.0% available<br>DRAFT NOW<extra></extra>",
           "<b>Jahmyr Gibbs</b><br>Pick 17: 0.0% available<br>DRAFT NOW<extra></extra>",
           "<b>Jahmyr Gibbs</b><br>Pick 18: 0.0% available<br>DRAFT NOW<extra></extra>",
           "<b>Jahmyr Gibbs</b><br>Pick 19: 0.0% available<br>DRAFT NOW<extra></extra>",
           "<b>Jahmyr Gibbs</b><br>Pick 20: 0.0% available<br>DRAFT NOW<extra></extra>",
           "<b>Jahmyr Gibbs</b><br>Pick 21: 0.0% available<br>DRAFT NOW<extra></extra>",
           "<b>Jahmyr Gibbs</b><br>Pick 22: 0.0% available<br>DRAFT NOW<extra></extra>",
           "<b>Jahmyr Gibbs</b><br>Pick 23: 0.0% available<br>DRAFT NOW<extra></extra>",
           "<b>Jahmyr Gibbs</b><br>Pick 24: 0.0% available<br>DRAFT NOW<extra></extra>",
           "<b>Jahmyr Gibbs</b><br>Pick 25: 0.0% available<br>DRAFT NOW<extra></extra>",
           "<b>Jahmyr Gibbs</b><br>Pick 26: 0.0% available<br>DRAFT NOW<extra></extra>",
           "<b>Jahmyr Gibbs</b><br>Pick 27: 0.0% available<br>DRAFT NOW<extra></extra>",
           "<b>Jahmyr Gibbs</b><br>Pick 28: 0.0% available<br>DRAFT NOW<extra></extra>",
           "<b>Jahmyr Gibbs</b><br>Pick 29: 0.0% available<br>DRAFT NOW<extra></extra>",
           "<b>Jahmyr Gibbs</b><br>Pick 30: 0.0% available<br>DRAFT NOW<extra></extra>"
          ],
          [
           "<b>Ja'Marr Chase</b><br>Pick 1: 50.0% available<br>RISKY<extra></extra>",
           "<b>Ja'Marr Chase</b><br>Pick 2: 36.9% available<br>RISKY<extra></extra>",
           "<b>Ja'Marr Chase</b><br>Pick 3: 25.2% available<br>DRAFT NOW<extra></extra>",
           "<b>Ja'Marr Chase</b><br>Pick 4: 15.9% available<br>DRAFT NOW<extra></extra>",
           "<b>Ja'Marr Chase</b><br>Pick 5: 9.1% available<br>DRAFT NOW<extra></extra>",
           "<b>Ja'Marr Chase</b><br>Pick 6: 4.8% available<br>DRAFT NOW<extra></extra>",
           "<b>Ja'Marr Chase</b><br>Pick 7: 2.3% available<br>DRAFT NOW<extra></extra>",
           "<b>Ja'Marr Chase</b><br>Pick 8: 1.0% available<br>DRAFT NOW<extra></extra>",
           "<b>Ja'Marr Chase</b><br>Pick 9: 0.4% available<br>DRAFT NOW<extra></extra>",
           "<b>Ja'Marr Chase</b><br>Pick 10: 0.1% available<br>DRAFT NOW<extra></extra>",
           "<b>Ja'Marr Chase</b><br>Pick 11: 0.0% available<br>DRAFT NOW<extra></extra>",
           "<b>Ja'Marr Chase</b><br>Pick 12: 0.0% available<br>DRAFT NOW<extra></extra>",
           "<b>Ja'Marr Chase</b><br>Pick 13: 0.0% available<br>DRAFT NOW<extra></extra>",
           "<b>Ja'Marr Chase</b><br>Pick 14: 0.0% available<br>DRAFT NOW<extra></extra>",
           "<b>Ja'Marr Chase</b><br>Pick 15: 0.0% available<br>DRAFT NOW<extra></extra>",
           "<b>Ja'Marr Chase</b><br>Pick 16: 0.0% available<br>DRAFT NOW<extra></extra>",
           "<b>Ja'Marr Chase</b><br>Pick 17: 0.0% available<br>DRAFT NOW<extra></extra>",
           "<b>Ja'Marr Chase</b><br>Pick 18: 0.0% available<br>DRAFT NOW<extra></extra>",
           "<b>Ja'Marr Chase</b><br>Pick 19: 0.0% available<br>DRAFT NOW<extra></extra>",
           "<b>Ja'Marr Chase</b><br>Pick 20: 0.0% available<br>DRAFT NOW<extra></extra>",
           "<b>Ja'Marr Chase</b><br>Pick 21: 0.0% available<br>DRAFT NOW<extra></extra>",
           "<b>Ja'Marr Chase</b><br>Pick 22: 0.0% available<br>DRAFT NOW<extra></extra>",
           "<b>Ja'Marr Chase</b><br>Pick 23: 0.0% available<br>DRAFT NOW<extra></extra>",
           "<b>Ja'Marr Chase</b><br>Pick 24: 0.0% available<br>DRAFT NOW<extra></extra>",
           "<b>Ja'Marr Chase</b><br>Pick 25: 0.0% available<br>DRAFT NOW<extra></extra>",
           "<b>Ja'Marr Chase</b><br>Pick 26: 0.0% available<br>DRAFT NOW<extra></extra>",
           "<b>Ja'Marr Chase</b><br>Pick 27: 0.0% available<br>DRAFT NOW<extra></extra>",
           "<b>Ja'Marr Chase</b><br>Pick 28: 0.0% available<br>DRAFT NOW<extra></extra>",
           "<b>Ja'Marr Chase</b><br>Pick 29: 0.0% available<br>DRAFT NOW<extra></extra>",
           "<b>Ja'Marr Chase</b><br>Pick 30: 0.0% available<br>DRAFT NOW<extra></extra>"
          ],
          [
           "<b>Christian McCaffrey</b><br>Pick 1: 97.7% available<br>SAFE<extra></extra>",
           "<b>Christian McCaffrey</b><br>Pick 2: 95.2% available<br>SAFE<extra></extra>",
           "<b>Christian McCaffrey</b><br>Pick 3: 90.9% available<br>SAFE<extra></extra>",
           "<b>Christian McCaffrey</b><br>Pick 4: 84.1% available<br>SAFE<extra></extra>",
           "<b>Christian McCaffrey</b><br>Pick 5: 74.8% available<br>SAFE<extra></extra>",
           "<b>Christian McCaffrey</b><br>Pick 6: 63.1% available<br>RISKY<extra></extra>",
           "<b>Christian McCaffrey</b><br>Pick 7: 50.0% available<br>RISKY<extra></extra>",
           "<b>Christian McCaffrey</b><br>Pick 8: 36.9% available<br>RISKY<extra></extra>",
           "<b>Christian McCaffrey</b><br>Pick 9: 25.2% available<br>DRAFT NOW<extra></extra>",
           "<b>Christian McCaffrey</b><br>Pick 10: 15.9% available<br>DRAFT NOW<extra></extra>",
           "<b>Christian McCaffrey</b><br>Pick 11: 9.1% available<br>DRAFT NOW<extra></extra>",
           "<b>Christian McCaffrey</b><br>Pick 12: 4.8% available<br>DRAFT NOW<extra></extra>",
           "<b>Christian McCaffrey</b><br>Pick 13: 2.3% available<br>DRAFT NOW<extra></extra>",
           "<b>Christian McCaffrey</b><br>Pick 14: 1.0% available<br>DRAFT NOW<extra></extra>",
           "<b>Christian McCaffrey</b><br>Pick 15: 0.4% available<br>DRAFT NOW<extra></extra>",
           "<b>Christian McCaffrey</b><br>Pick 16: 0.1% available<br>DRAFT NOW<extra></extra>",
           "<b>Christian McCaffrey</b><br>Pick 17: 0.0% available<br>DRAFT NOW<extra></extra>",
           "<b>Christian McCaffrey</b><br>Pick 18: 0.0% available<br>DRAFT NOW<extra></extra>",
           "<b>Christian McCaffrey</b><br>Pick 19: 0.0% available<br>DRAFT NOW<extra></extra>",
           "<b>Christian McCaffrey</b><br>Pick 20: 0.0% available<br>DRAFT NOW<extra></extra>",
           "<b>Christian McCaffrey</b><br>Pick 21: 0.0% available<br>DRAFT NOW<extra></extra>",
           "<b>Christian McCaffrey</b><br>Pick 22: 0.0% available<br>DRAFT NOW<extra></extra>",
           "<b>Christian McCaffrey</b><br>Pick 23: 0.0% available<br>DRAFT NOW<extra></extra>",
           "<b>Christian McCaffrey</b><br>Pick 24: 0.0% available<br>DRAFT NOW<extra></extra>",
           "<b>Christian McCaffrey</b><br>Pick 25: 0.0% available<br>DRAFT NOW<extra></extra>",
           "<b>Christian McCaffrey</b><br>Pick 26: 0.0% available<br>DRAFT NOW<extra></extra>",
           "<b>Christian McCaffrey</b><br>Pick 27: 0.0% available<br>DRAFT NOW<extra></extra>",
           "<b>Christian McCaffrey</b><br>Pick 28: 0.0% available<br>DRAFT NOW<extra></extra>",
           "<b>Christian McCaffrey</b><br>Pick 29: 0.0% available<br>DRAFT NOW<extra></extra>",
           "<b>Christian McCaffrey</b><br>Pick 30: 0.0% available<br>DRAFT NOW<extra></extra>"
          ],
          [
           "<b>Derrick Henry</b><br>Pick 1: 100.0% available<br>SAFE<extra></extra>",
           "<b>Derrick Henry</b><br>Pick 2: 99.9% available<br>SAFE<extra></extra>",
           "<b>Derrick Henry</b><br>Pick 3: 99.6% available<br>SAFE<extra></extra>",
           "<b>Derrick Henry</b><br>Pick 4: 99.0% available<br>SAFE<extra></extra>",
           "<b>Derrick Henry</b><br>Pick 5: 97.7% available<br>SAFE<extra></extra>",
           "<b>Derrick Henry</b><br>Pick 6: 95.2% available<br>SAFE<extra></extra>",
           "<b>Derrick Henry</b><br>Pick 7: 90.9% available<br>SAFE<extra></extra>",
           "<b>Derrick Henry</b><br>Pick 8: 84.1% available<br>SAFE<extra></extra>",
           "<b>Derrick Henry</b><br>Pick 9: 74.8% available<br>SAFE<extra></extra>",
           "<b>Derrick Henry</b><br>Pick 10: 63.1% available<br>RISKY<extra></extra>",
           "<b>Derrick Henry</b><br>Pick 11: 50.0% available<br>RISKY<extra></extra>",
           "<b>Derrick Henry</b><br>Pick 12: 36.9% available<br>RISKY<extra></extra>",
           "<b>Derrick Henry</b><br>Pick 13: 25.2% available<br>DRAFT NOW<extra></extra>",
           "<b>Derrick Henry</b><br>Pick 14: 15.9% available<br>DRAFT NOW<extra></extra>",
           "<b>Derrick Henry</b><br>Pick 15: 9.1% available<br>DRAFT NOW<extra></extra>",
           "<b>Derrick Henry</b><br>Pick 16: 4.8% available<br>DRAFT NOW<extra></extra>",
           "<b>Derrick Henry</b><br>Pick 17: 2.3% available<br>DRAFT NOW<extra></extra>",
           "<b>Derrick Henry</b><br>Pick 18: 1.0% available<br>DRAFT NOW<extra></extra>",
           "<b>Derrick Henry</b><br>Pick 19: 0.4% available<br>DRAFT NOW<extra></extra>",
           "<b>Derrick Henry</b><br>Pick 20: 0.1% available<br>DRAFT NOW<extra></extra>",
           "<b>Derrick Henry</b><br>Pick 21: 0.0% available<br>DRAFT NOW<extra></extra>",
           "<b>Derrick Henry</b><br>Pick 22: 0.0% available<br>DRAFT NOW<extra></extra>",
           "<b>Derrick Henry</b><br>Pick 23: 0.0% available<br>DRAFT NOW<extra></extra>",
           "<b>Derrick Henry</b><br>Pick 24: 0.0% available<br>DRAFT NOW<extra></extra>",
           "<b>Derrick Henry</b><br>Pick 25: 0.0% available<br>DRAFT NOW<extra></extra>",
           "<b>Derrick Henry</b><br>Pick 26: 0.0% available<br>DRAFT NOW<extra></extra>",
           "<b>Derrick Henry</b><br>Pick 27: 0.0% available<br>DRAFT NOW<extra></extra>",
           "<b>Derrick Henry</b><br>Pick 28: 0.0% available<br>DRAFT NOW<extra></extra>",
           "<b>Derrick Henry</b><br>Pick 29: 0.0% available<br>DRAFT NOW<extra></extra>",
           "<b>Derrick Henry</b><br>Pick 30: 0.0% available<br>DRAFT NOW<extra></extra>"
          ],
          [
           "<b>De'Von Achane</b><br>Pick 1: 100.0% available<br>SAFE<extra></extra>",
           "<b>De'Von Achane</b><br>Pick 2: 100.0% available<br>SAFE<extra></extra>",
           "<b>De'Von Achane</b><br>Pick 3: 100.0% available<br>SAFE<extra></extra>",
           "<b>De'Von Achane</b><br>Pick 4: 100.0% available<br>SAFE<extra></extra>",
           "<b>De'Von Achane</b><br>Pick 5: 100.0% available<br>SAFE<extra></extra>",
           "<b>De'Von Achane</b><br>Pick 6: 100.0% available<br>SAFE<extra></extra>",
           "<b>De'Von Achane</b><br>Pick 7: 100.0% available<br>SAFE<extra></extra>",
           "<b>De'Von Achane</b><br>Pick 8: 100.0% available<br>SAFE<extra></extra>",
           "<b>De'Von Achane</b><br>Pick 9: 99.9% available<br>SAFE<extra></extra>",
           "<b>De'Von Achane</b><br>Pick 10: 99.6% available<br>SAFE<extra></extra>",
           "<b>De'Von Achane</b><br>Pick 11: 99.0% available<br>SAFE<extra></extra>",
           "<b>De'Von Achane</b><br>Pick 12: 97.7% available<br>SAFE<extra></extra>",
           "<b>De'Von Achane</b><br>Pick 13: 95.2% available<br>SAFE<extra></extra>",
           "<b>De'Von Achane</b><br>Pick 14: 90.9% available<br>SAFE<extra></extra>",
           "<b>De'Von Achane</b><br>Pick 15: 84.1% available<br>SAFE<extra></extra>",
           "<b>De'Von Achane</b><br>Pick 16: 74.8% available<br>SAFE<extra></extra>",
           "<b>De'Von Achane</b><br>Pick 17: 63.1% available<br>RISKY<extra></extra>",
           "<b>De'Von Achane</b><br>Pick 18: 50.0% available<br>RISKY<extra></extra>",
           "<b>De'Von Achane</b><br>Pick 19: 36.9% available<br>RISKY<extra></extra>",
           "<b>De'Von Achane</b><br>Pick 20: 25.2% available<br>DRAFT NOW<extra></extra>",
           "<b>De'Von Achane</b><br>Pick 21: 15.9% available<br>DRAFT NOW<extra></extra>",
           "<b>De'Von Achane</b><br>Pick 22: 9.1% available<br>DRAFT NOW<extra></extra>",
           "<b>De'Von Achane</b><br>Pick 23: 4.8% available<br>DRAFT NOW<extra></extra>",
           "<b>De'Von Achane</b><br>Pick 24: 2.3% available<br>DRAFT NOW<extra></extra>",
           "<b>De'Von Achane</b><br>Pick 25: 1.0% available<br>DRAFT NOW<extra></extra>",
           "<b>De'Von Achane</b><br>Pick 26: 0.4% available<br>DRAFT NOW<extra></extra>",
           "<b>De'Von Achane</b><br>Pick 27: 0.1% available<br>DRAFT NOW<extra></extra>",
           "<b>De'Von Achane</b><br>Pick 28: 0.0% available<br>DRAFT NOW<extra></extra>",
           "<b>De'Von Achane</b><br>Pick 29: 0.0% available<br>DRAFT NOW<extra></extra>",
           "<b>De'Von Achane</b><br>Pick 30: 0.0% available<br>DRAFT NOW<extra></extra>"
          ],
          [
           "<b>Lamar Jackson</b><br>Pick 1: 100.0% available<br>SAFE<extra></extra>",
           "<b>Lamar Jackson</b><br>Pick 2: 100.0% available<br>SAFE<extra></extra>",
           "<b>Lamar Jackson</b><br>Pick 3: 100.0% available<br>SAFE<extra></extra>",
           "<b>Lamar Jackson</b><br>Pick 4: 100.0% available<br>SAFE<extra></extra>",
           "<b>Lamar Jackson</b><br>Pick 5: 100.0% available<br>SAFE<extra></extra>",
           "<b>Lamar Jackson</b><br>Pick 6: 100.0% available<br>SAFE<extra></extra>",
           "<b>Lamar Jackson</b><br>Pick 7: 100.0% available<br>SAFE<extra></extra>",
           "<b>Lamar Jackson</b><br>Pick 8: 100.0% available<br>SAFE<extra></extra>",
           "<b>Lamar Jackson</b><br>Pick 9: 100.0% available<br>SAFE<extra></extra>",
           "<b>Lamar Jackson</b><br>Pick 10: 100.0% available<br>SAFE<extra></extra>",
           "<b>Lamar Jackson</b><br>Pick 11: 100.0% available<br>SAFE<extra></extra>",
           "<b>Lamar Jackson</b><br>Pick 12: 100.0% available<br>SAFE<extra></extra>",
           "<b>Lamar Jackson</b><br>Pick 13: 100.0% available<br>SAFE<extra></extra>",
           "<b>Lamar Jackson</b><br>Pick 14: 100.0% available<br>SAFE<extra></extra>",
           "<b>Lamar Jackson</b><br>Pick 15: 100.0% available<br>SAFE<extra></extra>",
           "<b>Lamar Jackson</b><br>Pick 16: 100.0% available<br>SAFE<extra></extra>",
           "<b>Lamar Jackson</b><br>Pick 17: 100.0% available<br>SAFE<extra></extra>",
           "<b>Lamar Jackson</b><br>Pick 18: 100.0% available<br>SAFE<extra></extra>",
           "<b>Lamar Jackson</b><br>Pick 19: 100.0% available<br>SAFE<extra></extra>",
           "<b>Lamar Jackson</b><br>Pick 20: 99.9% available<br>SAFE<extra></extra>",
           "<b>Lamar Jackson</b><br>Pick 21: 99.6% available<br>SAFE<extra></extra>",
           "<b>Lamar Jackson</b><br>Pick 22: 99.0% available<br>SAFE<extra></extra>",
           "<b>Lamar Jackson</b><br>Pick 23: 97.7% available<br>SAFE<extra></extra>",
           "<b>Lamar Jackson</b><br>Pick 24: 95.2% available<br>SAFE<extra></extra>",
           "<b>Lamar Jackson</b><br>Pick 25: 90.9% available<br>SAFE<extra></extra>",
           "<b>Lamar Jackson</b><br>Pick 26: 84.1% available<br>SAFE<extra></extra>",
           "<b>Lamar Jackson</b><br>Pick 27: 74.8% available<br>SAFE<extra></extra>",
           "<b>Lamar Jackson</b><br>Pick 28: 63.1% available<br>RISKY<extra></extra>",
           "<b>Lamar Jackson</b><br>Pick 29: 50.0% available<br>RISKY<extra></extra>",
           "<b>Lamar Jackson</b><br>Pick 30: 36.9% available<br>RISKY<extra></extra>"
          ],
          [
           "<b>Justin Jefferson</b><br>Pick 1: 74.8% available<br>SAFE<extra></extra>",
           "<b>Justin Jefferson</b><br>Pick 2: 63.1% available<br>RISKY<extra></extra>",
           "<b>Justin Jefferson</b><br>Pick 3: 50.0% available<br>RISKY<extra></extra>",
           "<b>Justin Jefferson</b><br>Pick 4: 36.9% available<br>RISKY<extra></extra>",
           "<b>Justin Jefferson</b><br>Pick 5: 25.2% available<br>DRAFT NOW<extra></extra>",
           "<b>Justin Jefferson</b><br>Pick 6: 15.9% available<br>DRAFT NOW<extra></extra>",
           "<b>Justin Jefferson</b><br>Pick 7: 9.1% available<br>DRAFT NOW<extra></extra>",
           "<b>Justin Jefferson</b><br>Pick 8: 4.8% available<br>DRAFT NOW<extra></extra>",
           "<b>Justin Jefferson</b><br>Pick 9: 2.3% available<br>DRAFT NOW<extra></extra>",
           "<b>Justin Jefferson</b><br>Pick 10: 1.0% available<br>DRAFT NOW<extra></extra>",
           "<b>Justin Jefferson</b><br>Pick 11: 0.4% available<br>DRAFT NOW<extra></extra>",
           "<b>Justin Jefferson</b><br>Pick 12: 0.1% available<br>DRAFT NOW<extra></extra>",
           "<b>Justin Jefferson</b><br>Pick 13: 0.0% available<br>DRAFT NOW<extra></extra>",
           "<b>Justin Jefferson</b><br>Pick 14: 0.0% available<br>DRAFT NOW<extra></extra>",
           "<b>Justin Jefferson</b><br>Pick 15: 0.0% available<br>DRAFT NOW<extra></extra>",
           "<b>Justin Jefferson</b><br>Pick 16: 0.0% available<br>DRAFT NOW<extra></extra>",
           "<b>Justin Jefferson</b><br>Pick 17: 0.0% available<br>DRAFT NOW<extra></extra>",
           "<b>Justin Jefferson</b><br>Pick 18: 0.0% available<br>DRAFT NOW<extra></extra>",
           "<b>Justin Jefferson</b><br>Pick 19: 0.0% available<br>DRAFT NOW<extra></extra>",
           "<b>Justin Jefferson</b><br>Pick 20: 0.0% available<br>DRAFT NOW<extra></extra>",
           "<b>Justin Jefferson</b><br>Pick 21: 0.0% available<br>DRAFT NOW<extra></extra>",
           "<b>Justin Jefferson</b><br>Pick 22: 0.0% available<br>DRAFT NOW<extra></extra>",
           "<b>Justin Jefferson</b><br>Pick 23: 0.0% available<br>DRAFT NOW<extra></extra>",
           "<b>Justin Jefferson</b><br>Pick 24: 0.0% available<br>DRAFT NOW<extra></extra>",
           "<b>Justin Jefferson</b><br>Pick 25: 0.0% available<br>DRAFT NOW<extra></extra>",
           "<b>Justin Jefferson</b><br>Pick 26: 0.0% available<br>DRAFT NOW<extra></extra>",
           "<b>Justin Jefferson</b><br>Pick 27: 0.0% available<br>DRAFT NOW<extra></extra>",
           "<b>Justin Jefferson</b><br>Pick 28: 0.0% available<br>DRAFT NOW<extra></extra>",
           "<b>Justin Jefferson</b><br>Pick 29: 0.0% available<br>DRAFT NOW<extra></extra>",
           "<b>Justin Jefferson</b><br>Pick 30: 0.0% available<br>DRAFT NOW<extra></extra>"
          ],
          [
           "<b>Josh Allen</b><br>Pick 1: 100.0% available<br>SAFE<extra></extra>",
           "<b>Josh Allen</b><br>Pick 2: 100.0% available<br>SAFE<extra></extra>",
           "<b>Josh Allen</b><br>Pick 3: 100.0% available<br>SAFE<extra></extra>",
           "<b>Josh Allen</b><br>Pick 4: 100.0% available<br>SAFE<extra></extra>",
           "<b>Josh Allen</b><br>Pick 5: 100.0% available<br>SAFE<extra></extra>",
           "<b>Josh Allen</b><br>Pick 6: 100.0% available<br>SAFE<extra></extra>",
           "<b>Josh Allen</b><br>Pick 7: 100.0% available<br>SAFE<extra></extra>",
           "<b>Josh Allen</b><br>Pick 8: 100.0% available<br>SAFE<extra></extra>",
           "<b>Josh Allen</b><br>Pick 9: 100.0% available<br>SAFE<extra></extra>",
           "<b>Josh Allen</b><br>Pick 10: 100.0% available<br>SAFE<extra></extra>",
           "<b>Josh Allen</b><br>Pick 11: 100.0% available<br>SAFE<extra></extra>",
           "<b>Josh Allen</b><br>Pick 12: 100.0% available<br>SAFE<extra></extra>",
           "<b>Josh Allen</b><br>Pick 13: 100.0% available<br>SAFE<extra></extra>",
           "<b>Josh Allen</b><br>Pick 14: 100.0% available<br>SAFE<extra></extra>",
           "<b>Josh Allen</b><br>Pick 15: 100.0% available<br>SAFE<extra></extra>",
           "<b>Josh Allen</b><br>Pick 16: 100.0% available<br>SAFE<extra></extra>",
           "<b>Josh Allen</b><br>Pick 17: 100.0% available<br>SAFE<extra></extra>",
           "<b>Josh Allen</b><br>Pick 18: 100.0% available<br>SAFE<extra></extra>",
           "<b>Josh Allen</b><br>Pick 19: 99.9% available<br>SAFE<extra></extra>",
           "<b>Josh Allen</b><br>Pick 20: 99.6% available<br>SAFE<extra></extra>",
           "<b>Josh Allen</b><br>Pick 21: 99.0% available<br>SAFE<extra></extra>",
           "<b>Josh Allen</b><br>Pick 22: 97.7% available<br>SAFE<extra></extra>",
           "<b>Josh Allen</b><br>Pick 23: 95.2% available<br>SAFE<extra></extra>",
           "<b>Josh Allen</b><br>Pick 24: 90.9% available<br>SAFE<extra></extra>",
           "<b>Josh Allen</b><br>Pick 25: 84.1% available<br>SAFE<extra></extra>",
           "<b>Josh Allen</b><br>Pick 26: 74.8% available<br>SAFE<extra></extra>",
           "<b>Josh Allen</b><br>Pick 27: 63.1% available<br>RISKY<extra></extra>",
           "<b>Josh Allen</b><br>Pick 28: 50.0% available<br>RISKY<extra></extra>",
           "<b>Josh Allen</b><br>Pick 29: 36.9% available<br>RISKY<extra></extra>",
           "<b>Josh Allen</b><br>Pick 30: 25.2% available<br>DRAFT NOW<extra></extra>"
          ],
          [
           "<b>Brock Bowers</b><br>Pick 1: 100.0% available<br>SAFE<extra></extra>",
           "<b>Brock Bowers</b><br>Pick 2: 100.0% available<br>SAFE<extra></extra>",
           "<b>Brock Bowers</b><br>Pick 3: 100.0% available<br>SAFE<extra></extra>",
           "<b>Brock Bowers</b><br>Pick 4: 100.0% available<br>SAFE<extra></extra>",
           "<b>Brock Bowers</b><br>Pick 5: 100.0% available<br>SAFE<extra></extra>",
           "<b>Brock Bowers</b><br>Pick 6: 100.0% available<br>SAFE<extra></extra>",
           "<b>Brock Bowers</b><br>Pick 7: 100.0% available<br>SAFE<extra></extra>",
           "<b>Brock Bowers</b><br>Pick 8: 100.0% available<br>SAFE<extra></extra>",
           "<b>Brock Bowers</b><br>Pick 9: 100.0% available<br>SAFE<extra></extra>",
           "<b>Brock Bowers</b><br>Pick 10: 100.0% available<br>SAFE<extra></extra>",
           "<b>Brock Bowers</b><br>Pick 11: 99.9% available<br>SAFE<extra></extra>",
           "<b>Brock Bowers</b><br>Pick 12: 99.6% available<br>SAFE<extra></extra>",
           "<b>Brock Bowers</b><br>Pick 13: 99.0% available<br>SAFE<extra></extra>",
           "<b>Brock Bowers</b><br>Pick 14: 97.7% available<br>SAFE<extra></extra>",
           "<b>Brock Bowers</b><br>Pick 15: 95.2% available<br>SAFE<extra></extra>",
           "<b>Brock Bowers</b><br>Pick 16: 90.9% available<br>SAFE<extra></extra>",
           "<b>Brock Bowers</b><br>Pick 17: 84.1% available<br>SAFE<extra></extra>",
           "<b>Brock Bowers</b><br>Pick 18: 74.8% available<br>SAFE<extra></extra>",
           "<b>Brock Bowers</b><br>Pick 19: 63.1% available<br>RISKY<extra></extra>",
           "<b>Brock Bowers</b><br>Pick 20: 50.0% available<br>RISKY<extra></extra>",
           "<b>Brock Bowers</b><br>Pick 21: 36.9% available<br>RISKY<extra></extra>",
           "<b>Brock Bowers</b><br>Pick 22: 25.2% available<br>DRAFT NOW<extra></extra>",
           "<b>Brock Bowers</b><br>Pick 23: 15.9% available<br>DRAFT NOW<extra></extra>",
           "<b>Brock Bowers</b><br>Pick 24: 9.1% available<br>DRAFT NOW<extra></extra>",
           "<b>Brock Bowers</b><br>Pick 25: 4.8% available<br>DRAFT NOW<extra></extra>",
           "<b>Brock Bowers</b><br>Pick 26: 2.3% available<br>DRAFT NOW<extra></extra>",
           "<b>Brock Bowers</b><br>Pick 27: 1.0% available<br>DRAFT NOW<extra></extra>",
           "<b>Brock Bowers</b><br>Pick 28: 0.4% available<br>DRAFT NOW<extra></extra>",
           "<b>Brock Bowers</b><br>Pick 29: 0.1% available<br>DRAFT NOW<extra></extra>",
           "<b>Brock Bowers</b><br>Pick 30: 0.0% available<br>DRAFT NOW<extra></extra>"
          ],
          [
           "<b>Josh Jacobs</b><br>Pick 1: 100.0% available<br>SAFE<extra></extra>",
           "<b>Josh Jacobs</b><br>Pick 2: 100.0% available<br>SAFE<extra></extra>",
           "<b>Josh Jacobs</b><br>Pick 3: 100.0% available<br>SAFE<extra></extra>",
           "<b>Josh Jacobs</b><br>Pick 4: 100.0% available<br>SAFE<extra></extra>",
           "<b>Josh Jacobs</b><br>Pick 5: 100.0% available<br>SAFE<extra></extra>",
           "<b>Josh Jacobs</b><br>Pick 6: 100.0% available<br>SAFE<extra></extra>",
           "<b>Josh Jacobs</b><br>Pick 7: 100.0% available<br>SAFE<extra></extra>",
           "<b>Josh Jacobs</b><br>Pick 8: 100.0% available<br>SAFE<extra></extra>",
           "<b>Josh Jacobs</b><br>Pick 9: 100.0% available<br>SAFE<extra></extra>",
           "<b>Josh Jacobs</b><br>Pick 10: 99.9% available<br>SAFE<extra></extra>",
           "<b>Josh Jacobs</b><br>Pick 11: 99.6% available<br>SAFE<extra></extra>",
           "<b>Josh Jacobs</b><br>Pick 12: 99.0% available<br>SAFE<extra></extra>",
           "<b>Josh Jacobs</b><br>Pick 13: 97.7% available<br>SAFE<extra></extra>",
           "<b>Josh Jacobs</b><br>Pick 14: 95.2% available<br>SAFE<extra></extra>",
           "<b>Josh Jacobs</b><br>Pick 15: 90.9% available<br>SAFE<extra></extra>",
           "<b>Josh Jacobs</b><br>Pick 16: 84.1% available<br>SAFE<extra></extra>",
           "<b>Josh Jacobs</b><br>Pick 17: 74.8% available<br>SAFE<extra></extra>",
           "<b>Josh Jacobs</b><br>Pick 18: 63.1% available<br>RISKY<extra></extra>",
           "<b>Josh Jacobs</b><br>Pick 19: 50.0% available<br>RISKY<extra></extra>",
           "<b>Josh Jacobs</b><br>Pick 20: 36.9% available<br>RISKY<extra></extra>",
           "<b>Josh Jacobs</b><br>Pick 21: 25.2% available<br>DRAFT NOW<extra></extra>",
           "<b>Josh Jacobs</b><br>Pick 22: 15.9% available<br>DRAFT NOW<extra></extra>",
           "<b>Josh Jacobs</b><br>Pick 23: 9.1% available<br>DRAFT NOW<extra></extra>",
           "<b>Josh Jacobs</b><br>Pick 24: 4.8% available<br>DRAFT NOW<extra></extra>",
           "<b>Josh Jacobs</b><br>Pick 25: 2.3% available<br>DRAFT NOW<extra></extra>",
           "<b>Josh Jacobs</b><br>Pick 26: 1.0% available<br>DRAFT NOW<extra></extra>",
           "<b>Josh Jacobs</b><br>Pick 27: 0.4% available<br>DRAFT NOW<extra></extra>",
           "<b>Josh Jacobs</b><br>Pick 28: 0.1% available<br>DRAFT NOW<extra></extra>",
           "<b>Josh Jacobs</b><br>Pick 29: 0.0% available<br>DRAFT NOW<extra></extra>",
           "<b>Josh Jacobs</b><br>Pick 30: 0.0% available<br>DRAFT NOW<extra></extra>"
          ],
          [
           "<b>Ashton Jeanty</b><br>Pick 1: 100.0% available<br>SAFE<extra></extra>",
           "<b>Ashton Jeanty</b><br>Pick 2: 100.0% available<br>SAFE<extra></extra>",
           "<b>Ashton Jeanty</b><br>Pick 3: 99.9% available<br>SAFE<extra></extra>",
           "<b>Ashton Jeanty</b><br>Pick 4: 99.6% available<br>SAFE<extra></extra>",
           "<b>Ashton Jeanty</b><br>Pick 5: 99.0% available<br>SAFE<extra></extra>",
           "<b>Ashton Jeanty</b><br>Pick 6: 97.7% available<br>SAFE<extra></extra>",
           "<b>Ashton Jeanty</b><br>Pick 7: 95.2% available<br>SAFE<extra></extra>",
           "<b>Ashton Jeanty</b><br>Pick 8: 90.9% available<br>SAFE<extra></extra>",
           "<b>Ashton Jeanty</b><br>Pick 9: 84.1% available<br>SAFE<extra></extra>",
           "<b>Ashton Jeanty</b><br>Pick 10: 74.8% available<br>SAFE<extra></extra>",
           "<b>Ashton Jeanty</b><br>Pick 11: 63.1% available<br>RISKY<extra></extra>",
           "<b>Ashton Jeanty</b><br>Pick 12: 50.0% available<br>RISKY<extra></extra>",
           "<b>Ashton Jeanty</b><br>Pick 13: 36.9% available<br>RISKY<extra></extra>",
           "<b>Ashton Jeanty</b><br>Pick 14: 25.2% available<br>DRAFT NOW<extra></extra>",
           "<b>Ashton Jeanty</b><br>Pick 15: 15.9% available<br>DRAFT NOW<extra></extra>",
           "<b>Ashton Jeanty</b><br>Pick 16: 9.1% available<br>DRAFT NOW<extra></extra>",
           "<b>Ashton Jeanty</b><br>Pick 17: 4.8% available<br>DRAFT NOW<extra></extra>",
           "<b>Ashton Jeanty</b><br>Pick 18: 2.3% available<br>DRAFT NOW<extra></extra>",
           "<b>Ashton Jeanty</b><br>Pick 19: 1.0% available<br>DRAFT NOW<extra></extra>",
           "<b>Ashton Jeanty</b><br>Pick 20: 0.4% available<br>DRAFT NOW<extra></extra>",
           "<b>Ashton Jeanty</b><br>Pick 21: 0.1% available<br>DRAFT NOW<extra></extra>",
           "<b>Ashton Jeanty</b><br>Pick 22: 0.0% available<br>DRAFT NOW<extra></extra>",
           "<b>Ashton Jeanty</b><br>Pick 23: 0.0% available<br>DRAFT NOW<extra></extra>",
           "<b>Ashton Jeanty</b><br>Pick 24: 0.0% available<br>DRAFT NOW<extra></extra>",
           "<b>Ashton Jeanty</b><br>Pick 25: 0.0% available<br>DRAFT NOW<extra></extra>",
           "<b>Ashton Jeanty</b><br>Pick 26: 0.0% available<br>DRAFT NOW<extra></extra>",
           "<b>Ashton Jeanty</b><br>Pick 27: 0.0% available<br>DRAFT NOW<extra></extra>",
           "<b>Ashton Jeanty</b><br>Pick 28: 0.0% available<br>DRAFT NOW<extra></extra>",
           "<b>Ashton Jeanty</b><br>Pick 29: 0.0% available<br>DRAFT NOW<extra></extra>",
           "<b>Ashton Jeanty</b><br>Pick 30: 0.0% available<br>DRAFT NOW<extra></extra>"
          ],
          [
           "<b>CeeDee Lamb</b><br>Pick 1: 95.2% available<br>SAFE<extra></extra>",
           "<b>CeeDee Lamb</b><br>Pick 2: 90.9% available<br>SAFE<extra></extra>",
           "<b>CeeDee Lamb</b><br>Pick 3: 84.1% available<br>SAFE<extra></extra>",
           "<b>CeeDee Lamb</b><br>Pick 4: 74.8% available<br>SAFE<extra></extra>",
           "<b>CeeDee Lamb</b><br>Pick 5: 63.1% available<br>RISKY<extra></extra>",
           "<b>CeeDee Lamb</b><br>Pick 6: 50.0% available<br>RISKY<extra></extra>",
           "<b>CeeDee Lamb</b><br>Pick 7: 36.9% available<br>RISKY<extra></extra>",
           "<b>CeeDee Lamb</b><br>Pick 8: 25.2% available<br>DRAFT NOW<extra></extra>",
           "<b>CeeDee Lamb</b><br>Pick 9: 15.9% available<br>DRAFT NOW<extra></extra>",
           "<b>CeeDee Lamb</b><br>Pick 10: 9.1% available<br>DRAFT NOW<extra></extra>",
           "<b>CeeDee Lamb</b><br>Pick 11: 4.8% available<br>DRAFT NOW<extra></extra>",
           "<b>CeeDee Lamb</b><br>Pick 12: 2.3% available<br>DRAFT NOW<extra></extra>",
           "<b>CeeDee Lamb</b><br>Pick 13: 1.0% available<br>DRAFT NOW<extra></extra>",
           "<b>CeeDee Lamb</b><br>Pick 14: 0.4% available<br>DRAFT NOW<extra></extra>",
           "<b>CeeDee Lamb</b><br>Pick 15: 0.1% available<br>DRAFT NOW<extra></extra>",
           "<b>CeeDee Lamb</b><br>Pick 16: 0.0% available<br>DRAFT NOW<extra></extra>",
           "<b>CeeDee Lamb</b><br>Pick 17: 0.0% available<br>DRAFT NOW<extra></extra>",
           "<b>CeeDee Lamb</b><br>Pick 18: 0.0% available<br>DRAFT NOW<extra></extra>",
           "<b>CeeDee Lamb</b><br>Pick 19: 0.0% available<br>DRAFT NOW<extra></extra>",
           "<b>CeeDee Lamb</b><br>Pick 20: 0.0% available<br>DRAFT NOW<extra></extra>",
           "<b>CeeDee Lamb</b><br>Pick 21: 0.0% available<br>DRAFT NOW<extra></extra>",
           "<b>CeeDee Lamb</b><br>Pick 22: 0.0% available<br>DRAFT NOW<extra></extra>",
           "<b>CeeDee Lamb</b><br>Pick 23: 0.0% available<br>DRAFT NOW<extra></extra>",
           "<b>CeeDee Lamb</b><br>Pick 24: 0.0% available<br>DRAFT NOW<extra></extra>",
           "<b>CeeDee Lamb</b><br>Pick 25: 0.0% available<br>DRAFT NOW<extra></extra>",
           "<b>CeeDee Lamb</b><br>Pick 26: 0.0% available<br>DRAFT NOW<extra></extra>",
           "<b>CeeDee Lamb</b><br>Pick 27: 0.0% available<br>DRAFT NOW<extra></extra>",
           "<b>CeeDee Lamb</b><br>Pick 28: 0.0% available<br>DRAFT NOW<extra></extra>",
           "<b>CeeDee Lamb</b><br>Pick 29: 0.0% available<br>DRAFT NOW<extra></extra>",
           "<b>CeeDee Lamb</b><br>Pick 30: 0.0% available<br>DRAFT NOW<extra></extra>"
          ],
          [
           "<b>Trey McBride</b><br>Pick 1: 100.0% available<br>SAFE<extra></extra>",
           "<b>Trey McBride</b><br>Pick 2: 100.0% available<br>SAFE<extra></extra>",
           "<b>Trey McBride</b><br>Pick 3: 100.0% available<br>SAFE<extra></extra>",
           "<b>Trey McBride</b><br>Pick 4: 100.0% available<br>SAFE<extra></extra>",
           "<b>Trey McBride</b><br>Pick 5: 100.0% available<br>SAFE<extra></extra>",
           "<b>Trey McBride</b><br>Pick 6: 100.0% available<br>SAFE<extra></extra>",
           "<b>Trey McBride</b><br>Pick 7: 100.0% available<br>SAFE<extra></extra>",
           "<b>Trey McBride</b><br>Pick 8: 100.0% available<br>SAFE<extra></extra>",
           "<b>Trey McBride</b><br>Pick 9: 100.0% available<br>SAFE<extra></extra>",
           "<b>Trey McBride</b><br>Pick 10: 100.0% available<br>SAFE<extra></extra>",
           "<b>Trey McBride</b><br>Pick 11: 100.0% available<br>SAFE<extra></extra>",
           "<b>Trey McBride</b><br>Pick 12: 99.9% available<br>SAFE<extra></extra>",
           "<b>Trey McBride</b><br>Pick 13: 99.6% available<br>SAFE<extra></extra>",
           "<b>Trey McBride</b><br>Pick 14: 99.0% available<br>SAFE<extra></extra>",
           "<b>Trey McBride</b><br>Pick 15: 97.7% available<br>SAFE<extra></extra>",
           "<b>Trey McBride</b><br>Pick 16: 95.2% available<br>SAFE<extra></extra>",
           "<b>Trey McBride</b><br>Pick 17: 90.9% available<br>SAFE<extra></extra>",
           "<b>Trey McBride</b><br>Pick 18: 84.1% available<br>SAFE<extra></extra>",
           "<b>Trey McBride</b><br>Pick 19: 74.8% available<br>SAFE<extra></extra>",
           "<b>Trey McBride</b><br>Pick 20: 63.1% available<br>RISKY<extra></extra>",
           "<b>Trey McBride</b><br>Pick 21: 50.0% available<br>RISKY<extra></extra>",
           "<b>Trey McBride</b><br>Pick 22: 36.9% available<br>RISKY<extra></extra>",
           "<b>Trey McBride</b><br>Pick 23: 25.2% available<br>DRAFT NOW<extra></extra>",
           "<b>Trey McBride</b><br>Pick 24: 15.9% available<br>DRAFT NOW<extra></extra>",
           "<b>Trey McBride</b><br>Pick 25: 9.1% available<br>DRAFT NOW<extra></extra>",
           "<b>Trey McBride</b><br>Pick 26: 4.8% available<br>DRAFT NOW<extra></extra>",
           "<b>Trey McBride</b><br>Pick 27: 2.3% available<br>DRAFT NOW<extra></extra>",
           "<b>Trey McBride</b><br>Pick 28: 1.0% available<br>DRAFT NOW<extra></extra>",
           "<b>Trey McBride</b><br>Pick 29: 0.4% available<br>DRAFT NOW<extra></extra>",
           "<b>Trey McBride</b><br>Pick 30: 0.1% available<br>DRAFT NOW<extra></extra>"
          ]
         ],
         "type": "heatmap",
         "x": [
          1,
          2,
          3,
          4,
          5,
          6,
          7,
          8,
          9,
          10,
          11,
          12,
          13,
          14,
          15,
          16,
          17,
          18,
          19,
          20,
          21,
          22,
          23,
          24,
          25,
          26,
          27,
          28,
          29,
          30
         ],
         "y": [
          "Saquon Barkley (RB) - VBD: 131.3",
          "Bijan Robinson (RB) - VBD: 127.3",
          "Jahmyr Gibbs (RB) - VBD: 125.0",
          "Ja'Marr Chase (WR) - VBD: 120.6",
          "Christian McCaffrey (RB) - VBD: 96.9",
          "Derrick Henry (RB) - VBD: 95.8",
          "De'Von Achane (RB) - VBD: 92.7",
          "Lamar Jackson (QB) - VBD: 91.7",
          "Justin Jefferson (WR) - VBD: 88.3",
          "Josh Allen (QB) - VBD: 88.2",
          "Brock Bowers (TE) - VBD: 85.4",
          "Josh Jacobs (RB) - VBD: 79.8",
          "Ashton Jeanty (RB) - VBD: 76.1",
          "CeeDee Lamb (WR) - VBD: 74.4",
          "Trey McBride (TE) - VBD: 71.9"
         ],
         "z": [
          [
           84.1344746068543,
           74.75074624530771,
           63.055865981823636,
           50,
           36.944134018176364,
           25.24925375469229,
           15.865525393145708,
           9.121121972586788,
           4.77903522728147,
           2.275013194817921,
           0.9815328628645315,
           0.3830380567589775,
           0.13498980316301035,
           0.04290603331967846,
           0.012286638996517052,
           0.003167124183311998,
           0.0007343423836903007,
           0.00015306267365788884,
           0.00002866515719235352,
           0.0000048213033676525185,
           7.280110070340129e-7,
           9.865877004244794e-8,
           1.1996026394456294e-8,
           1.308397834520747e-9,
           1.2798651027878805e-10,
           1.1224354778960333e-11,
           8.770761894538737e-13,
           6.661338147750939e-14,
           0,
           0
          ],
          [
           63.055865981823636,
           50,
           36.944134018176364,
           25.24925375469229,
           15.865525393145708,
           9.121121972586788,
           4.77903522728147,
           2.275013194817921,
           0.9815328628645315,
           0.3830380567589775,
           0.13498980316301035,
           0.04290603331967846,
           0.012286638996517052,
           0.003167124183311998,
           0.0007343423836903007,
           0.00015306267365788884,
           0.00002866515719235352,
           0.0000048213033676525185,
           7.280110070340129e-7,
           9.865877004244794e-8,
           1.1996026394456294e-8,
           1.308397834520747e-9,
           1.2798651027878805e-10,
           1.1224354778960333e-11,
           8.770761894538737e-13,
           6.661338147750939e-14,
           0,
           0,
           0,
           0
          ],
          [
           90.87887802741321,
           84.1344746068543,
           74.75074624530771,
           63.055865981823636,
           50,
           36.944134018176364,
           25.24925375469229,
           15.865525393145708,
           9.121121972586788,
           4.77903522728147,
           2.275013194817921,
           0.9815328628645315,
           0.3830380567589775,
           0.13498980316301035,
           0.04290603331967846,
           0.012286638996517052,
           0.003167124183311998,
           0.0007343423836903007,
           0.00015306267365788884,
           0.00002866515719235352,
           0.0000048213033676525185,
           7.280110070340129e-7,
           9.865877004244794e-8,
           1.1996026394456294e-8,
           1.308397834520747e-9,
           1.2798651027878805e-10,
           1.1224354778960333e-11,
           8.770761894538737e-13,
           6.661338147750939e-14,
           0
          ],
          [
           50,
           36.944134018176364,
           25.24925375469229,
           15.865525393145708,
           9.121121972586788,
           4.77903522728147,
           2.275013194817921,
           0.9815328628645315,
           0.3830380567589775,
           0.13498980316301035,
           0.04290603331967846,
           0.012286638996517052,
           0.003167124183311998,
           0.0007343423836903007,
           0.00015306267365788884,
           0.00002866515719235352,
           0.0000048213033676525185,
           7.280110070340129e-7,
           9.865877004244794e-8,
           1.1996026394456294e-8,
           1.308397834520747e-9,
           1.2798651027878805e-10,
           1.1224354778960333e-11,
           8.770761894538737e-13,
           6.661338147750939e-14,
           0,
           0,
           0,
           0,
           0
          ],
          [
           97.72498680518208,
           95.22096477271853,
           90.87887802741321,
           84.1344746068543,
           74.75074624530771,
           63.055865981823636,
           50,
           36.944134018176364,
           25.24925375469229,
           15.865525393145708,
           9.121121972586788,
           4.77903522728147,
           2.275013194817921,
           0.9815328628645315,
           0.3830380567589775,
           0.13498980316301035,
           0.04290603331967846,
           0.012286638996517052,
           0.003167124183311998,
           0.0007343423836903007,
           0.00015306267365788884,
           0.00002866515719235352,
           0.0000048213033676525185,
           7.280110070340129e-7,
           9.865877004244794e-8,
           1.1996026394456294e-8,
           1.308397834520747e-9,
           1.2798651027878805e-10,
           1.1224354778960333e-11,
           8.770761894538737e-13
          ],
          [
           99.95709396668032,
           99.86501019683699,
           99.61696194324102,
           99.01846713713547,
           97.72498680518208,
           95.22096477271853,
           90.87887802741321,
           84.1344746068543,
           74.75074624530771,
           63.055865981823636,
           50,
           36.944134018176364,
           25.24925375469229,
           15.865525393145708,
           9.121121972586788,
           4.77903522728147,
           2.275013194817921,
           0.9815328628645315,
           0.3830380567589775,
           0.13498980316301035,
           0.04290603331967846,
           0.012286638996517052,
           0.003167124183311998,
           0.0007343423836903007,
           0.00015306267365788884,
           0.00002866515719235352,
           0.0000048213033676525185,
           7.280110070340129e-7,
           9.865877004244794e-8,
           1.1996026394456294e-8
          ],
          [
           99.999999271989,
           99.99999517869664,
           99.99997133484281,
           99.99984693732634,
           99.9992656576163,
           99.9968328758167,
           99.98771336100349,
           99.95709396668032,
           99.86501019683699,
           99.61696194324102,
           99.01846713713547,
           97.72498680518208,
           95.22096477271853,
           90.87887802741321,
           84.1344746068543,
           74.75074624530771,
           63.055865981823636,
           50,
           36.944134018176364,
           25.24925375469229,
           15.865525393145708,
           9.121121972586788,
           4.77903522728147,
           2.275013194817921,
           0.9815328628645315,
           0.3830380567589775,
           0.13498980316301035,
           0.04290603331967846,
           0.012286638996517052,
           0.003167124183311998
          ],
          [
           100,
           100,
           100,
           100,
           99.99999999999993,
           99.99999999999912,
           99.99999999998877,
           99.99999999987202,
           99.9999999986916,
           99.99999998800398,
           99.99999990134123,
           99.999999271989,
           99.99999517869664,
           99.99997133484281,
           99.99984693732634,
           99.9992656576163,
           99.9968328758167,
           99.98771336100349,
           99.95709396668032,
           99.86501019683699,
           99.61696194324102,
           99.01846713713547,
           97.72498680518208,
           95.22096477271853,
           90.87887802741321,
           84.1344746068543,
           74.75074624530771,
           63.055865981823636,
           50,
           36.944134018176364
          ],
          [
           74.75074624530771,
           63.055865981823636,
           50,
           36.944134018176364,
           25.24925375469229,
           15.865525393145708,
           9.121121972586788,
           4.77903522728147,
           2.275013194817921,
           0.9815328628645315,
           0.3830380567589775,
           0.13498980316301035,
           0.04290603331967846,
           0.012286638996517052,
           0.003167124183311998,
           0.0007343423836903007,
           0.00015306267365788884,
           0.00002866515719235352,
           0.0000048213033676525185,
           7.280110070340129e-7,
           9.865877004244794e-8,
           1.1996026394456294e-8,
           1.308397834520747e-9,
           1.2798651027878805e-10,
           1.1224354778960333e-11,
           8.770761894538737e-13,
           6.661338147750939e-14,
           0,
           0,
           0
          ],
          [
           100,
           100,
           100,
           99.99999999999993,
           99.99999999999912,
           99.99999999998877,
           99.99999999987202,
           99.9999999986916,
           99.99999998800398,
           99.99999990134123,
           99.999999271989,
           99.99999517869664,
           99.99997133484281,
           99.99984693732634,
           99.9992656576163,
           99.9968328758167,
           99.98771336100349,
           99.95709396668032,
           99.86501019683699,
           99.61696194324102,
           99.01846713713547,
           97.72498680518208,
           95.22096477271853,
           90.87887802741321,
           84.1344746068543,
           74.75074624530771,
           63.055865981823636,
           50,
           36.944134018176364,
           25.24925375469229
          ],
          [
           99.99999998800398,
           99.99999990134123,
           99.999999271989,
           99.99999517869664,
           99.99997133484281,
           99.99984693732634,
           99.9992656576163,
           99.9968328758167,
           99.98771336100349,
           99.95709396668032,
           99.86501019683699,
           99.61696194324102,
           99.01846713713547,
           97.72498680518208,
           95.22096477271853,
           90.87887802741321,
           84.1344746068543,
           74.75074624530771,
           63.055865981823636,
           50,
           36.944134018176364,
           25.24925375469229,
           15.865525393145708,
           9.121121972586788,
           4.77903522728147,
           2.275013194817921,
           0.9815328628645315,
           0.3830380567589775,
           0.13498980316301035,
           0.04290603331967846
          ],
          [
           99.99999990134123,
           99.999999271989,
           99.99999517869664,
           99.99997133484281,
           99.99984693732634,
           99.9992656576163,
           99.9968328758167,
           99.98771336100349,
           99.95709396668032,
           99.86501019683699,
           99.61696194324102,
           99.01846713713547,
           97.72498680518208,
           95.22096477271853,
           90.87887802741321,
           84.1344746068543,
           74.75074624530771,
           63.055865981823636,
           50,
           36.944134018176364,
           25.24925375469229,
           15.865525393145708,
           9.121121972586788,
           4.77903522728147,
           2.275013194817921,
           0.9815328628645315,
           0.3830380567589775,
           0.13498980316301035,
           0.04290603331967846,
           0.012286638996517052
          ],
          [
           99.98771336100349,
           99.95709396668032,
           99.86501019683699,
           99.61696194324102,
           99.01846713713547,
           97.72498680518208,
           95.22096477271853,
           90.87887802741321,
           84.1344746068543,
           74.75074624530771,
           63.055865981823636,
           50,
           36.944134018176364,
           25.24925375469229,
           15.865525393145708,
           9.121121972586788,
           4.77903522728147,
           2.275013194817921,
           0.9815328628645315,
           0.3830380567589775,
           0.13498980316301035,
           0.04290603331967846,
           0.012286638996517052,
           0.003167124183311998,
           0.0007343423836903007,
           0.00015306267365788884,
           0.00002866515719235352,
           0.0000048213033676525185,
           7.280110070340129e-7,
           9.865877004244794e-8
          ],
          [
           95.22096477271853,
           90.87887802741321,
           84.1344746068543,
           74.75074624530771,
           63.055865981823636,
           50,
           36.944134018176364,
           25.24925375469229,
           15.865525393145708,
           9.121121972586788,
           4.77903522728147,
           2.275013194817921,
           0.9815328628645315,
           0.3830380567589775,
           0.13498980316301035,
           0.04290603331967846,
           0.012286638996517052,
           0.003167124183311998,
           0.0007343423836903007,
           0.00015306267365788884,
           0.00002866515719235352,
           0.0000048213033676525185,
           7.280110070340129e-7,
           9.865877004244794e-8,
           1.1996026394456294e-8,
           1.308397834520747e-9,
           1.2798651027878805e-10,
           1.1224354778960333e-11,
           8.770761894538737e-13,
           6.661338147750939e-14
          ],
          [
           99.9999999986916,
           99.99999998800398,
           99.99999990134123,
           99.999999271989,
           99.99999517869664,
           99.99997133484281,
           99.99984693732634,
           99.9992656576163,
           99.9968328758167,
           99.98771336100349,
           99.95709396668032,
           99.86501019683699,
           99.61696194324102,
           99.01846713713547,
           97.72498680518208,
           95.22096477271853,
           90.87887802741321,
           84.1344746068543,
           74.75074624530771,
           63.055865981823636,
           50,
           36.944134018176364,
           25.24925375469229,
           15.865525393145708,
           9.121121972586788,
           4.77903522728147,
           2.275013194817921,
           0.9815328628645315,
           0.3830380567589775,
           0.13498980316301035
          ]
         ]
        }
       ],
       "layout": {
        "annotations": [
         {
          "showarrow": false,
          "text": "Your Pick 8",
          "x": 8,
          "xanchor": "center",
          "xref": "x",
          "y": 1,
          "yanchor": "bottom",
          "yref": "y domain"
         },
         {
          "showarrow": false,
          "text": "Your Pick 17",
          "x": 17,
          "xanchor": "center",
          "xref": "x",
          "y": 1,
          "yanchor": "bottom",
          "yref": "y domain"
         }
        ],
        "font": {
         "size": 11
        },
        "height": 700,
        "shapes": [
         {
          "line": {
           "color": "white",
           "dash": "dash",
           "width": 2
          },
          "type": "line",
          "x0": 8,
          "x1": 8,
          "xref": "x",
          "y0": 0,
          "y1": 1,
          "yref": "y domain"
         },
         {
          "line": {
           "color": "white",
           "dash": "dash",
           "width": 2
          },
          "type": "line",
          "x0": 17,
          "x1": 17,
          "xref": "x",
          "y0": 0,
          "y1": 1,
          "yref": "y domain"
         }
        ],
        "template": {
         "data": {
          "bar": [
           {
            "error_x": {
             "color": "#2a3f5f"
            },
            "error_y": {
             "color": "#2a3f5f"
            },
            "marker": {
             "line": {
              "color": "#E5ECF6",
              "width": 0.5
             },
             "pattern": {
              "fillmode": "overlay",
              "size": 10,
              "solidity": 0.2
             }
            },
            "type": "bar"
           }
          ],
          "barpolar": [
           {
            "marker": {
             "line": {
              "color": "#E5ECF6",
              "width": 0.5
             },
             "pattern": {
              "fillmode": "overlay",
              "size": 10,
              "solidity": 0.2
             }
            },
            "type": "barpolar"
           }
          ],
          "carpet": [
           {
            "aaxis": {
             "endlinecolor": "#2a3f5f",
             "gridcolor": "white",
             "linecolor": "white",
             "minorgridcolor": "white",
             "startlinecolor": "#2a3f5f"
            },
            "baxis": {
             "endlinecolor": "#2a3f5f",
             "gridcolor": "white",
             "linecolor": "white",
             "minorgridcolor": "white",
             "startlinecolor": "#2a3f5f"
            },
            "type": "carpet"
           }
          ],
          "choropleth": [
           {
            "colorbar": {
             "outlinewidth": 0,
             "ticks": ""
            },
            "type": "choropleth"
           }
          ],
          "contour": [
           {
            "colorbar": {
             "outlinewidth": 0,
             "ticks": ""
            },
            "colorscale": [
             [
              0,
              "#0d0887"
             ],
             [
              0.1111111111111111,
              "#46039f"
             ],
             [
              0.2222222222222222,
              "#7201a8"
             ],
             [
              0.3333333333333333,
              "#9c179e"
             ],
             [
              0.4444444444444444,
              "#bd3786"
             ],
             [
              0.5555555555555556,
              "#d8576b"
             ],
             [
              0.6666666666666666,
              "#ed7953"
             ],
             [
              0.7777777777777778,
              "#fb9f3a"
             ],
             [
              0.8888888888888888,
              "#fdca26"
             ],
             [
              1,
              "#f0f921"
             ]
            ],
            "type": "contour"
           }
          ],
          "contourcarpet": [
           {
            "colorbar": {
             "outlinewidth": 0,
             "ticks": ""
            },
            "type": "contourcarpet"
           }
          ],
          "heatmap": [
           {
            "colorbar": {
             "outlinewidth": 0,
             "ticks": ""
            },
            "colorscale": [
             [
              0,
              "#0d0887"
             ],
             [
              0.1111111111111111,
              "#46039f"
             ],
             [
              0.2222222222222222,
              "#7201a8"
             ],
             [
              0.3333333333333333,
              "#9c179e"
             ],
             [
              0.4444444444444444,
              "#bd3786"
             ],
             [
              0.5555555555555556,
              "#d8576b"
             ],
             [
              0.6666666666666666,
              "#ed7953"
             ],
             [
              0.7777777777777778,
              "#fb9f3a"
             ],
             [
              0.8888888888888888,
              "#fdca26"
             ],
             [
              1,
              "#f0f921"
             ]
            ],
            "type": "heatmap"
           }
          ],
          "histogram": [
           {
            "marker": {
             "pattern": {
              "fillmode": "overlay",
              "size": 10,
              "solidity": 0.2
             }
            },
            "type": "histogram"
           }
          ],
          "histogram2d": [
           {
            "colorbar": {
             "outlinewidth": 0,
             "ticks": ""
            },
            "colorscale": [
             [
              0,
              "#0d0887"
             ],
             [
              0.1111111111111111,
              "#46039f"
             ],
             [
              0.2222222222222222,
              "#7201a8"
             ],
             [
              0.3333333333333333,
              "#9c179e"
             ],
             [
              0.4444444444444444,
              "#bd3786"
             ],
             [
              0.5555555555555556,
              "#d8576b"
             ],
             [
              0.6666666666666666,
              "#ed7953"
             ],
             [
              0.7777777777777778,
              "#fb9f3a"
             ],
             [
              0.8888888888888888,
              "#fdca26"
             ],
             [
              1,
              "#f0f921"
             ]
            ],
            "type": "histogram2d"
           }
          ],
          "histogram2dcontour": [
           {
            "colorbar": {
             "outlinewidth": 0,
             "ticks": ""
            },
            "colorscale": [
             [
              0,
              "#0d0887"
             ],
             [
              0.1111111111111111,
              "#46039f"
             ],
             [
              0.2222222222222222,
              "#7201a8"
             ],
             [
              0.3333333333333333,
              "#9c179e"
             ],
             [
              0.4444444444444444,
              "#bd3786"
             ],
             [
              0.5555555555555556,
              "#d8576b"
             ],
             [
              0.6666666666666666,
              "#ed7953"
             ],
             [
              0.7777777777777778,
              "#fb9f3a"
             ],
             [
              0.8888888888888888,
              "#fdca26"
             ],
             [
              1,
              "#f0f921"
             ]
            ],
            "type": "histogram2dcontour"
           }
          ],
          "mesh3d": [
           {
            "colorbar": {
             "outlinewidth": 0,
             "ticks": ""
            },
            "type": "mesh3d"
           }
          ],
          "parcoords": [
           {
            "line": {
             "colorbar": {
              "outlinewidth": 0,
              "ticks": ""
             }
            },
            "type": "parcoords"
           }
          ],
          "pie": [
           {
            "automargin": true,
            "type": "pie"
           }
          ],
          "scatter": [
           {
            "fillpattern": {
             "fillmode": "overlay",
             "size": 10,
             "solidity": 0.2
            },
            "type": "scatter"
           }
          ],
          "scatter3d": [
           {
            "line": {
             "colorbar": {
              "outlinewidth": 0,
              "ticks": ""
             }
            },
            "marker": {
             "colorbar": {
              "outlinewidth": 0,
              "ticks": ""
             }
            },
            "type": "scatter3d"
           }
          ],
          "scattercarpet": [
           {
            "marker": {
             "colorbar": {
              "outlinewidth": 0,
              "ticks": ""
             }
            },
            "type": "scattercarpet"
           }
          ],
          "scattergeo": [
           {
            "marker": {
             "colorbar": {
              "outlinewidth": 0,
              "ticks": ""
             }
            },
            "type": "scattergeo"
           }
          ],
          "scattergl": [
           {
            "marker": {
             "colorbar": {
              "outlinewidth": 0,
              "ticks": ""
             }
            },
            "type": "scattergl"
           }
          ],
          "scattermap": [
           {
            "marker": {
             "colorbar": {
              "outlinewidth": 0,
              "ticks": ""
             }
            },
            "type": "scattermap"
           }
          ],
          "scattermapbox": [
           {
            "marker": {
             "colorbar": {
              "outlinewidth": 0,
              "ticks": ""
             }
            },
            "type": "scattermapbox"
           }
          ],
          "scatterpolar": [
           {
            "marker": {
             "colorbar": {
              "outlinewidth": 0,
              "ticks": ""
             }
            },
            "type": "scatterpolar"
           }
          ],
          "scatterpolargl": [
           {
            "marker": {
             "colorbar": {
              "outlinewidth": 0,
              "ticks": ""
             }
            },
            "type": "scatterpolargl"
           }
          ],
          "scatterternary": [
           {
            "marker": {
             "colorbar": {
              "outlinewidth": 0,
              "ticks": ""
             }
            },
            "type": "scatterternary"
           }
          ],
          "surface": [
           {
            "colorbar": {
             "outlinewidth": 0,
             "ticks": ""
            },
            "colorscale": [
             [
              0,
              "#0d0887"
             ],
             [
              0.1111111111111111,
              "#46039f"
             ],
             [
              0.2222222222222222,
              "#7201a8"
             ],
             [
              0.3333333333333333,
              "#9c179e"
             ],
             [
              0.4444444444444444,
              "#bd3786"
             ],
             [
              0.5555555555555556,
              "#d8576b"
             ],
             [
              0.6666666666666666,
              "#ed7953"
             ],
             [
              0.7777777777777778,
              "#fb9f3a"
             ],
             [
              0.8888888888888888,
              "#fdca26"
             ],
             [
              1,
              "#f0f921"
             ]
            ],
            "type": "surface"
           }
          ],
          "table": [
           {
            "cells": {
             "fill": {
              "color": "#EBF0F8"
             },
             "line": {
              "color": "white"
             }
            },
            "header": {
             "fill": {
              "color": "#C8D4E3"
             },
             "line": {
              "color": "white"
             }
            },
            "type": "table"
           }
          ]
         },
         "layout": {
          "annotationdefaults": {
           "arrowcolor": "#2a3f5f",
           "arrowhead": 0,
           "arrowwidth": 1
          },
          "autotypenumbers": "strict",
          "coloraxis": {
           "colorbar": {
            "outlinewidth": 0,
            "ticks": ""
           }
          },
          "colorscale": {
           "diverging": [
            [
             0,
             "#8e0152"
            ],
            [
             0.1,
             "#c51b7d"
            ],
            [
             0.2,
             "#de77ae"
            ],
            [
             0.3,
             "#f1b6da"
            ],
            [
             0.4,
             "#fde0ef"
            ],
            [
             0.5,
             "#f7f7f7"
            ],
            [
             0.6,
             "#e6f5d0"
            ],
            [
             0.7,
             "#b8e186"
            ],
            [
             0.8,
             "#7fbc41"
            ],
            [
             0.9,
             "#4d9221"
            ],
            [
             1,
             "#276419"
            ]
           ],
           "sequential": [
            [
             0,
             "#0d0887"
            ],
            [
             0.1111111111111111,
             "#46039f"
            ],
            [
             0.2222222222222222,
             "#7201a8"
            ],
            [
             0.3333333333333333,
             "#9c179e"
            ],
            [
             0.4444444444444444,
             "#bd3786"
            ],
            [
             0.5555555555555556,
             "#d8576b"
            ],
            [
             0.6666666666666666,
             "#ed7953"
            ],
            [
             0.7777777777777778,
             "#fb9f3a"
            ],
            [
             0.8888888888888888,
             "#fdca26"
            ],
            [
             1,
             "#f0f921"
            ]
           ],
           "sequentialminus": [
            [
             0,
             "#0d0887"
            ],
            [
             0.1111111111111111,
             "#46039f"
            ],
            [
             0.2222222222222222,
             "#7201a8"
            ],
            [
             0.3333333333333333,
             "#9c179e"
            ],
            [
             0.4444444444444444,
             "#bd3786"
            ],
            [
             0.5555555555555556,
             "#d8576b"
            ],
            [
             0.6666666666666666,
             "#ed7953"
            ],
            [
             0.7777777777777778,
             "#fb9f3a"
            ],
            [
             0.8888888888888888,
             "#fdca26"
            ],
            [
             1,
             "#f0f921"
            ]
           ]
          },
          "colorway": [
           "#636efa",
           "#EF553B",
           "#00cc96",
           "#ab63fa",
           "#FFA15A",
           "#19d3f3",
           "#FF6692",
           "#B6E880",
           "#FF97FF",
           "#FECB52"
          ],
          "font": {
           "color": "#2a3f5f"
          },
          "geo": {
           "bgcolor": "white",
           "lakecolor": "white",
           "landcolor": "#E5ECF6",
           "showlakes": true,
           "showland": true,
           "subunitcolor": "white"
          },
          "hoverlabel": {
           "align": "left"
          },
          "hovermode": "closest",
          "mapbox": {
           "style": "light"
          },
          "paper_bgcolor": "white",
          "plot_bgcolor": "#E5ECF6",
          "polar": {
           "angularaxis": {
            "gridcolor": "white",
            "linecolor": "white",
            "ticks": ""
           },
           "bgcolor": "#E5ECF6",
           "radialaxis": {
            "gridcolor": "white",
            "linecolor": "white",
            "ticks": ""
           }
          },
          "scene": {
           "xaxis": {
            "backgroundcolor": "#E5ECF6",
            "gridcolor": "white",
            "gridwidth": 2,
            "linecolor": "white",
            "showbackground": true,
            "ticks": "",
            "zerolinecolor": "white"
           },
           "yaxis": {
            "backgroundcolor": "#E5ECF6",
            "gridcolor": "white",
            "gridwidth": 2,
            "linecolor": "white",
            "showbackground": true,
            "ticks": "",
            "zerolinecolor": "white"
           },
           "zaxis": {
            "backgroundcolor": "#E5ECF6",
            "gridcolor": "white",
            "gridwidth": 2,
            "linecolor": "white",
            "showbackground": true,
            "ticks": "",
            "zerolinecolor": "white"
           }
          },
          "shapedefaults": {
           "line": {
            "color": "#2a3f5f"
           }
          },
          "ternary": {
           "aaxis": {
            "gridcolor": "white",
            "linecolor": "white",
            "ticks": ""
           },
           "baxis": {
            "gridcolor": "white",
            "linecolor": "white",
            "ticks": ""
           },
           "bgcolor": "#E5ECF6",
           "caxis": {
            "gridcolor": "white",
            "linecolor": "white",
            "ticks": ""
           }
          },
          "title": {
           "x": 0.05
          },
          "xaxis": {
           "automargin": true,
           "gridcolor": "white",
           "linecolor": "white",
           "ticks": "",
           "title": {
            "standoff": 15
           },
           "zerolinecolor": "white",
           "zerolinewidth": 2
          },
          "yaxis": {
           "automargin": true,
           "gridcolor": "white",
           "linecolor": "white",
           "ticks": "",
           "title": {
            "standoff": 15
           },
           "zerolinecolor": "white",
           "zerolinewidth": 2
          }
         }
        },
        "title": {
         "text": "Enhanced Player Availability Heatmap - Top Players by VBD Score<br><sub>Green=Safe to Wait | Yellow=Risky | Red=Draft Now | White lines=Your picks</sub>"
        },
        "width": 1200,
        "xaxis": {
         "dtick": 2,
         "range": [
          0.5,
          30.5
         ],
         "tick0": 1,
         "tickmode": "linear",
         "title": {
          "text": "Draft Pick"
         }
        },
        "yaxis": {
         "title": {
          "text": "Player (Position) - VBD Score"
         }
        }
       }
      }
     },
     "metadata": {},
     "output_type": "display_data"
    },
    {
     "name": "stdout",
     "output_type": "stream",
     "text": [
      "\n",
      "📊 CREATING DECISION MATRIX\n"
     ]
    },
    {
     "data": {
      "application/vnd.plotly.v1+json": {
       "config": {
        "plotlyServerURL": "https://plot.ly"
       },
       "data": [
        {
         "customdata": [
          [
           "Ja'Marr Chase",
           "CIN"
          ],
          [
           "Justin Jefferson",
           "MIN"
          ],
          [
           "CeeDee Lamb",
           "DAL"
          ],
          [
           "Puka Nacua",
           "LAR"
          ],
          [
           "Malik Nabers",
           "NYG"
          ],
          [
           "Amon-Ra St. Brown",
           "DET"
          ],
          [
           "Nico Collins",
           "HOU"
          ],
          [
           "Brian Thomas Jr.",
           "JAC"
          ],
          [
           "A.J. Brown",
           "PHI"
          ],
          [
           "Drake London",
           "ATL"
          ],
          [
           "Tee Higgins",
           "CIN"
          ],
          [
           "Tyreek Hill",
           "MIA"
          ],
          [
           "Davante Adams",
           "LAR"
          ],
          [
           "Ladd McConkey",
           "LAC"
          ],
          [
           "Terry McLaurin",
           "WAS"
          ],
          [
           "Mike Evans",
           "TB"
          ]
         ],
         "hovertemplate": "position=WR<br>Probability Available at Next Pick=%{x}<br>VBD Score=%{marker.size}<br>player_name=%{customdata[0]}<br>team=%{customdata[1]}<extra></extra>",
         "legendgroup": "WR",
         "marker": {
          "color": "#636efa",
          "size": {
           "bdata": "aGZmZmYmXkA0MzMzMxNWQJqZmZmZmVJAzszMzMzsUEAAAAAAAMBMQNDMzMzMDE9AaGZmZmYmSkCcmZmZmZlKQNDMzMzMDEJAAAAAAACAQ0AAAAAAAMBAQNDMzMzMTEJAODMzMzMzPUA0MzMzM/NFQKCZmZmZmT1ANDMzMzPzQEA=",
           "dtype": "f8"
          },
          "sizemode": "area",
          "sizeref": 0.32824999999999993,
          "symbol": "circle"
         },
         "mode": "markers",
         "name": "WR",
         "orientation": "v",
         "showlegend": true,
         "type": "scatter",
         "x": {
          "bdata": "rwXqsAcz6j8bGZLwUEzkP3B2nodrXd4/dXfbut454D8nyannxHXiP3vv2ZRfeeQ/3CNf2EJp6T9vjYeSXIPqP0uT8KEj/es/k2pMI1KN7D+IZw3U9VTvP7FApV9AaO8/GL8mgWaR7z+N646AAoXvP0/2eoht6O8/mjA11RDt7z8=",
          "dtype": "f8"
         },
         "xaxis": "x",
         "y": {
          "bdata": "aGZmZmYmXkA0MzMzMxNWQJqZmZmZmVJAzszMzMzsUEAAAAAAAMBMQNDMzMzMDE9AaGZmZmYmSkCcmZmZmZlKQNDMzMzMDEJAAAAAAACAQ0AAAAAAAMBAQNDMzMzMTEJAODMzMzMzPUA0MzMzM/NFQKCZmZmZmT1ANDMzMzPzQEA=",
          "dtype": "f8"
         },
         "yaxis": "y"
        },
        {
         "customdata": [
          [
           "Bijan Robinson",
           "ATL"
          ],
          [
           "Saquon Barkley",
           "PHI"
          ],
          [
           "Jahmyr Gibbs",
           "DET"
          ],
          [
           "Christian McCaffrey",
           "SF"
          ],
          [
           "Derrick Henry",
           "BAL"
          ],
          [
           "Ashton Jeanty",
           "LV"
          ],
          [
           "Jonathan Taylor",
           "IND"
          ],
          [
           "De'Von Achane",
           "MIA"
          ],
          [
           "Josh Jacobs",
           "GB"
          ],
          [
           "Kyren Williams",
           "LAR"
          ],
          [
           "Bucky Irving",
           "TB"
          ],
          [
           "Chase Brown",
           "CIN"
          ],
          [
           "James Cook",
           "BUF"
          ],
          [
           "Omarion Hampton",
           "LAC"
          ],
          [
           "Kenneth Walker III",
           "SEA"
          ],
          [
           "Chuba Hubbard",
           "CAR"
          ],
          [
           "Alvin Kamara",
           "NO"
          ],
          [
           "James Conner",
           "ARI"
          ],
          [
           "Breece Hall",
           "NYJ"
          ]
         ],
         "hovertemplate": "position=RB<br>Probability Available at Next Pick=%{x}<br>VBD Score=%{marker.size}<br>player_name=%{customdata[0]}<br>team=%{customdata[1]}<extra></extra>",
         "legendgroup": "RB",
         "marker": {
          "color": "#EF553B",
          "size": {
           "bdata": "MjMzMzPTX0CZmZmZmWlgQP3/////P19AmpmZmZk5WEAyMzMzM/NXQGZmZmZmBlNAAAAAAABAUEDNzMzMzCxXQDIzMzMz81NAmpmZmZlZUUDMzMzMzExPQAAAAAAAgE5AZGZmZmYmSUDMzMzMzExDQAAAAAAAgENAZGZmZmZmQECYmZmZmVlGQGRmZmZm5kVANDMzMzNzSEA=",
           "dtype": "f8"
          },
          "sizemode": "area",
          "sizeref": 0.32824999999999993,
          "symbol": "circle"
         },
         "mode": "markers",
         "name": "RB",
         "orientation": "v",
         "showlegend": true,
         "type": "scatter",
         "x": {
          "bdata": "r7sD2p9P5j/kluBYlDXhP7iZjwLiht8/WBCNVNmC3z8p0KU3DujmP9lxb+s9cOc/9Rz1zns27T+f6uxUoQXtPyRKPrExyu0/cSPoIgr47j8ynG/3pZfuPzB6gkkHou8/Ej/UWljf7z9/oQubQ+/vP/Ai1jAE9u8/eJqcfOf57z9g2br2dvjvP/alGP/8++8/rOsZIWvz7z8=",
          "dtype": "f8"
         },
         "xaxis": "x",
         "y": {
          "bdata": "MjMzMzPTX0CZmZmZmWlgQP3/////P19AmpmZmZk5WEAyMzMzM/NXQGZmZmZmBlNAAAAAAABAUEDNzMzMzCxXQDIzMzMz81NAmpmZmZlZUUDMzMzMzExPQAAAAAAAgE5AZGZmZmYmSUDMzMzMzExDQAAAAAAAgENAZGZmZmZmQECYmZmZmVlGQGRmZmZm5kVANDMzMzNzSEA=",
          "dtype": "f8"
         },
         "yaxis": "y"
        },
        {
         "customdata": [
          [
           "Brock Bowers",
           "LV"
          ],
          [
           "Trey McBride",
           "ARI"
          ],
          [
           "George Kittle",
           "SF"
          ],
          [
           "Sam LaPorta",
           "DET"
          ],
          [
           "T.J. Hockenson",
           "MIN"
          ],
          [
           "Mark Andrews",
           "BAL"
          ],
          [
           "Travis Kelce",
           "KC"
          ]
         ],
         "hovertemplate": "position=TE<br>Probability Available at Next Pick=%{x}<br>VBD Score=%{marker.size}<br>player_name=%{customdata[0]}<br>team=%{customdata[1]}<extra></extra>",
         "legendgroup": "TE",
         "marker": {
          "color": "#00cc96",
          "size": {
           "bdata": "mpmZmZlZVUCamZmZmflRQAAAAAAAQFFANDMzMzMzQ0AAAAAAAMBAQMzMzMzMTEFAAAAAAADAQUA=",
           "dtype": "f8"
          },
          "sizemode": "area",
          "sizeref": 0.32824999999999993,
          "symbol": "circle"
         },
         "mode": "markers",
         "name": "TE",
         "orientation": "v",
         "showlegend": true,
         "type": "scatter",
         "x": {
          "bdata": "BGHgwkfX7T8MYXCWkb7uPzbdAotD9+8/bK81Pcz/7z/pHVhy+P/vP+jOrZ7//+8/VuGVB///7z8=",
          "dtype": "f8"
         },
         "xaxis": "x",
         "y": {
          "bdata": "mpmZmZlZVUCamZmZmflRQAAAAAAAQFFANDMzMzMzQ0AAAAAAAMBAQMzMzMzMTEFAAAAAAADAQUA=",
          "dtype": "f8"
         },
         "yaxis": "y"
        },
        {
         "customdata": [
          [
           "Josh Allen",
           "BUF"
          ],
          [
           "Lamar Jackson",
           "BAL"
          ],
          [
           "Jayden Daniels",
           "WAS"
          ],
          [
           "Jalen Hurts",
           "PHI"
          ],
          [
           "Joe Burrow",
           "CIN"
          ],
          [
           "Patrick Mahomes",
           "KC"
          ],
          [
           "Baker Mayfield",
           "TB"
          ],
          [
           "Kyler Murray",
           "ARI"
          ]
         ],
         "hovertemplate": "position=QB<br>Probability Available at Next Pick=%{x}<br>VBD Score=%{marker.size}<br>player_name=%{customdata[0]}<br>team=%{customdata[1]}<extra></extra>",
         "legendgroup": "QB",
         "marker": {
          "color": "#ab63fa",
          "size": {
           "bdata": "0MzMzMwMVkDQzMzMzOxWQAAAAAAAoFBAAAAAAABgUUCgmZmZmZlLQGhmZmZmpkFA0MzMzMxMPUAAAAAAAAA+QA==",
           "dtype": "f8"
          },
          "sizemode": "area",
          "sizeref": 0.32824999999999993,
          "symbol": "circle"
         },
         "mode": "markers",
         "name": "QB",
         "orientation": "v",
         "showlegend": true,
         "type": "scatter",
         "x": {
          "bdata": "/4LmSNGE7z8qVZH9B5vvP18PXaWhv+8/9kjiMOnV7z9p7nSbGvTvP2DXVz/f/+8/R3UJMO7/7z9D+jPe///vPw==",
          "dtype": "f8"
         },
         "xaxis": "x",
         "y": {
          "bdata": "0MzMzMwMVkDQzMzMzOxWQAAAAAAAoFBAAAAAAABgUUCgmZmZmZlLQGhmZmZmpkFA0MzMzMxMPUAAAAAAAAA+QA==",
          "dtype": "f8"
         },
         "yaxis": "y"
        }
       ],
       "layout": {
        "annotations": [
         {
          "showarrow": false,
          "text": "High Value Threshold",
          "x": 1,
          "xanchor": "right",
          "xref": "x domain",
          "y": 70,
          "yanchor": "bottom",
          "yref": "y"
         },
         {
          "showarrow": false,
          "text": "50% Availability",
          "x": 0.5,
          "xanchor": "left",
          "xref": "x",
          "y": 1,
          "yanchor": "top",
          "yref": "y domain"
         }
        ],
        "height": 600,
        "legend": {
         "itemsizing": "constant",
         "title": {
          "text": "position"
         },
         "tracegroupgap": 0
        },
        "shapes": [
         {
          "line": {
           "color": "gray",
           "dash": "dash"
          },
          "type": "line",
          "x0": 0,
          "x1": 1,
          "xref": "x domain",
          "y0": 70,
          "y1": 70,
          "yref": "y"
         },
         {
          "line": {
           "color": "gray",
           "dash": "dash"
          },
          "type": "line",
          "x0": 0.5,
          "x1": 0.5,
          "xref": "x",
          "y0": 0,
          "y1": 1,
          "yref": "y domain"
         }
        ],
        "template": {
         "data": {
          "bar": [
           {
            "error_x": {
             "color": "#2a3f5f"
            },
            "error_y": {
             "color": "#2a3f5f"
            },
            "marker": {
             "line": {
              "color": "#E5ECF6",
              "width": 0.5
             },
             "pattern": {
              "fillmode": "overlay",
              "size": 10,
              "solidity": 0.2
             }
            },
            "type": "bar"
           }
          ],
          "barpolar": [
           {
            "marker": {
             "line": {
              "color": "#E5ECF6",
              "width": 0.5
             },
             "pattern": {
              "fillmode": "overlay",
              "size": 10,
              "solidity": 0.2
             }
            },
            "type": "barpolar"
           }
          ],
          "carpet": [
           {
            "aaxis": {
             "endlinecolor": "#2a3f5f",
             "gridcolor": "white",
             "linecolor": "white",
             "minorgridcolor": "white",
             "startlinecolor": "#2a3f5f"
            },
            "baxis": {
             "endlinecolor": "#2a3f5f",
             "gridcolor": "white",
             "linecolor": "white",
             "minorgridcolor": "white",
             "startlinecolor": "#2a3f5f"
            },
            "type": "carpet"
           }
          ],
          "choropleth": [
           {
            "colorbar": {
             "outlinewidth": 0,
             "ticks": ""
            },
            "type": "choropleth"
           }
          ],
          "contour": [
           {
            "colorbar": {
             "outlinewidth": 0,
             "ticks": ""
            },
            "colorscale": [
             [
              0,
              "#0d0887"
             ],
             [
              0.1111111111111111,
              "#46039f"
             ],
             [
              0.2222222222222222,
              "#7201a8"
             ],
             [
              0.3333333333333333,
              "#9c179e"
             ],
             [
              0.4444444444444444,
              "#bd3786"
             ],
             [
              0.5555555555555556,
              "#d8576b"
             ],
             [
              0.6666666666666666,
              "#ed7953"
             ],
             [
              0.7777777777777778,
              "#fb9f3a"
             ],
             [
              0.8888888888888888,
              "#fdca26"
             ],
             [
              1,
              "#f0f921"
             ]
            ],
            "type": "contour"
           }
          ],
          "contourcarpet": [
           {
            "colorbar": {
             "outlinewidth": 0,
             "ticks": ""
            },
            "type": "contourcarpet"
           }
          ],
          "heatmap": [
           {
            "colorbar": {
             "outlinewidth": 0,
             "ticks": ""
            },
            "colorscale": [
             [
              0,
              "#0d0887"
             ],
             [
              0.1111111111111111,
              "#46039f"
             ],
             [
              0.2222222222222222,
              "#7201a8"
             ],
             [
              0.3333333333333333,
              "#9c179e"
             ],
             [
              0.4444444444444444,
              "#bd3786"
             ],
             [
              0.5555555555555556,
              "#d8576b"
             ],
             [
              0.6666666666666666,
              "#ed7953"
             ],
             [
              0.7777777777777778,
              "#fb9f3a"
             ],
             [
              0.8888888888888888,
              "#fdca26"
             ],
             [
              1,
              "#f0f921"
             ]
            ],
            "type": "heatmap"
           }
          ],
          "histogram": [
           {
            "marker": {
             "pattern": {
              "fillmode": "overlay",
              "size": 10,
              "solidity": 0.2
             }
            },
            "type": "histogram"
           }
          ],
          "histogram2d": [
           {
            "colorbar": {
             "outlinewidth": 0,
             "ticks": ""
            },
            "colorscale": [
             [
              0,
              "#0d0887"
             ],
             [
              0.1111111111111111,
              "#46039f"
             ],
             [
              0.2222222222222222,
              "#7201a8"
             ],
             [
              0.3333333333333333,
              "#9c179e"
             ],
             [
              0.4444444444444444,
              "#bd3786"
             ],
             [
              0.5555555555555556,
              "#d8576b"
             ],
             [
              0.6666666666666666,
              "#ed7953"
             ],
             [
              0.7777777777777778,
              "#fb9f3a"
             ],
             [
              0.8888888888888888,
              "#fdca26"
             ],
             [
              1,
              "#f0f921"
             ]
            ],
            "type": "histogram2d"
           }
          ],
          "histogram2dcontour": [
           {
            "colorbar": {
             "outlinewidth": 0,
             "ticks": ""
            },
            "colorscale": [
             [
              0,
              "#0d0887"
             ],
             [
              0.1111111111111111,
              "#46039f"
             ],
             [
              0.2222222222222222,
              "#7201a8"
             ],
             [
              0.3333333333333333,
              "#9c179e"
             ],
             [
              0.4444444444444444,
              "#bd3786"
             ],
             [
              0.5555555555555556,
              "#d8576b"
             ],
             [
              0.6666666666666666,
              "#ed7953"
             ],
             [
              0.7777777777777778,
              "#fb9f3a"
             ],
             [
              0.8888888888888888,
              "#fdca26"
             ],
             [
              1,
              "#f0f921"
             ]
            ],
            "type": "histogram2dcontour"
           }
          ],
          "mesh3d": [
           {
            "colorbar": {
             "outlinewidth": 0,
             "ticks": ""
            },
            "type": "mesh3d"
           }
          ],
          "parcoords": [
           {
            "line": {
             "colorbar": {
              "outlinewidth": 0,
              "ticks": ""
             }
            },
            "type": "parcoords"
           }
          ],
          "pie": [
           {
            "automargin": true,
            "type": "pie"
           }
          ],
          "scatter": [
           {
            "fillpattern": {
             "fillmode": "overlay",
             "size": 10,
             "solidity": 0.2
            },
            "type": "scatter"
           }
          ],
          "scatter3d": [
           {
            "line": {
             "colorbar": {
              "outlinewidth": 0,
              "ticks": ""
             }
            },
            "marker": {
             "colorbar": {
              "outlinewidth": 0,
              "ticks": ""
             }
            },
            "type": "scatter3d"
           }
          ],
          "scattercarpet": [
           {
            "marker": {
             "colorbar": {
              "outlinewidth": 0,
              "ticks": ""
             }
            },
            "type": "scattercarpet"
           }
          ],
          "scattergeo": [
           {
            "marker": {
             "colorbar": {
              "outlinewidth": 0,
              "ticks": ""
             }
            },
            "type": "scattergeo"
           }
          ],
          "scattergl": [
           {
            "marker": {
             "colorbar": {
              "outlinewidth": 0,
              "ticks": ""
             }
            },
            "type": "scattergl"
           }
          ],
          "scattermap": [
           {
            "marker": {
             "colorbar": {
              "outlinewidth": 0,
              "ticks": ""
             }
            },
            "type": "scattermap"
           }
          ],
          "scattermapbox": [
           {
            "marker": {
             "colorbar": {
              "outlinewidth": 0,
              "ticks": ""
             }
            },
            "type": "scattermapbox"
           }
          ],
          "scatterpolar": [
           {
            "marker": {
             "colorbar": {
              "outlinewidth": 0,
              "ticks": ""
             }
            },
            "type": "scatterpolar"
           }
          ],
          "scatterpolargl": [
           {
            "marker": {
             "colorbar": {
              "outlinewidth": 0,
              "ticks": ""
             }
            },
            "type": "scatterpolargl"
           }
          ],
          "scatterternary": [
           {
            "marker": {
             "colorbar": {
              "outlinewidth": 0,
              "ticks": ""
             }
            },
            "type": "scatterternary"
           }
          ],
          "surface": [
           {
            "colorbar": {
             "outlinewidth": 0,
             "ticks": ""
            },
            "colorscale": [
             [
              0,
              "#0d0887"
             ],
             [
              0.1111111111111111,
              "#46039f"
             ],
             [
              0.2222222222222222,
              "#7201a8"
             ],
             [
              0.3333333333333333,
              "#9c179e"
             ],
             [
              0.4444444444444444,
              "#bd3786"
             ],
             [
              0.5555555555555556,
              "#d8576b"
             ],
             [
              0.6666666666666666,
              "#ed7953"
             ],
             [
              0.7777777777777778,
              "#fb9f3a"
             ],
             [
              0.8888888888888888,
              "#fdca26"
             ],
             [
              1,
              "#f0f921"
             ]
            ],
            "type": "surface"
           }
          ],
          "table": [
           {
            "cells": {
             "fill": {
              "color": "#EBF0F8"
             },
             "line": {
              "color": "white"
             }
            },
            "header": {
             "fill": {
              "color": "#C8D4E3"
             },
             "line": {
              "color": "white"
             }
            },
            "type": "table"
           }
          ]
         },
         "layout": {
          "annotationdefaults": {
           "arrowcolor": "#2a3f5f",
           "arrowhead": 0,
           "arrowwidth": 1
          },
          "autotypenumbers": "strict",
          "coloraxis": {
           "colorbar": {
            "outlinewidth": 0,
            "ticks": ""
           }
          },
          "colorscale": {
           "diverging": [
            [
             0,
             "#8e0152"
            ],
            [
             0.1,
             "#c51b7d"
            ],
            [
             0.2,
             "#de77ae"
            ],
            [
             0.3,
             "#f1b6da"
            ],
            [
             0.4,
             "#fde0ef"
            ],
            [
             0.5,
             "#f7f7f7"
            ],
            [
             0.6,
             "#e6f5d0"
            ],
            [
             0.7,
             "#b8e186"
            ],
            [
             0.8,
             "#7fbc41"
            ],
            [
             0.9,
             "#4d9221"
            ],
            [
             1,
             "#276419"
            ]
           ],
           "sequential": [
            [
             0,
             "#0d0887"
            ],
            [
             0.1111111111111111,
             "#46039f"
            ],
            [
             0.2222222222222222,
             "#7201a8"
            ],
            [
             0.3333333333333333,
             "#9c179e"
            ],
            [
             0.4444444444444444,
             "#bd3786"
            ],
            [
             0.5555555555555556,
             "#d8576b"
            ],
            [
             0.6666666666666666,
             "#ed7953"
            ],
            [
             0.7777777777777778,
             "#fb9f3a"
            ],
            [
             0.8888888888888888,
             "#fdca26"
            ],
            [
             1,
             "#f0f921"
            ]
           ],
           "sequentialminus": [
            [
             0,
             "#0d0887"
            ],
            [
             0.1111111111111111,
             "#46039f"
            ],
            [
             0.2222222222222222,
             "#7201a8"
            ],
            [
             0.3333333333333333,
             "#9c179e"
            ],
            [
             0.4444444444444444,
             "#bd3786"
            ],
            [
             0.5555555555555556,
             "#d8576b"
            ],
            [
             0.6666666666666666,
             "#ed7953"
            ],
            [
             0.7777777777777778,
             "#fb9f3a"
            ],
            [
             0.8888888888888888,
             "#fdca26"
            ],
            [
             1,
             "#f0f921"
            ]
           ]
          },
          "colorway": [
           "#636efa",
           "#EF553B",
           "#00cc96",
           "#ab63fa",
           "#FFA15A",
           "#19d3f3",
           "#FF6692",
           "#B6E880",
           "#FF97FF",
           "#FECB52"
          ],
          "font": {
           "color": "#2a3f5f"
          },
          "geo": {
           "bgcolor": "white",
           "lakecolor": "white",
           "landcolor": "#E5ECF6",
           "showlakes": true,
           "showland": true,
           "subunitcolor": "white"
          },
          "hoverlabel": {
           "align": "left"
          },
          "hovermode": "closest",
          "mapbox": {
           "style": "light"
          },
          "paper_bgcolor": "white",
          "plot_bgcolor": "#E5ECF6",
          "polar": {
           "angularaxis": {
            "gridcolor": "white",
            "linecolor": "white",
            "ticks": ""
           },
           "bgcolor": "#E5ECF6",
           "radialaxis": {
            "gridcolor": "white",
            "linecolor": "white",
            "ticks": ""
           }
          },
          "scene": {
           "xaxis": {
            "backgroundcolor": "#E5ECF6",
            "gridcolor": "white",
            "gridwidth": 2,
            "linecolor": "white",
            "showbackground": true,
            "ticks": "",
            "zerolinecolor": "white"
           },
           "yaxis": {
            "backgroundcolor": "#E5ECF6",
            "gridcolor": "white",
            "gridwidth": 2,
            "linecolor": "white",
            "showbackground": true,
            "ticks": "",
            "zerolinecolor": "white"
           },
           "zaxis": {
            "backgroundcolor": "#E5ECF6",
            "gridcolor": "white",
            "gridwidth": 2,
            "linecolor": "white",
            "showbackground": true,
            "ticks": "",
            "zerolinecolor": "white"
           }
          },
          "shapedefaults": {
           "line": {
            "color": "#2a3f5f"
           }
          },
          "ternary": {
           "aaxis": {
            "gridcolor": "white",
            "linecolor": "white",
            "ticks": ""
           },
           "baxis": {
            "gridcolor": "white",
            "linecolor": "white",
            "ticks": ""
           },
           "bgcolor": "#E5ECF6",
           "caxis": {
            "gridcolor": "white",
            "linecolor": "white",
            "ticks": ""
           }
          },
          "title": {
           "x": 0.05
          },
          "xaxis": {
           "automargin": true,
           "gridcolor": "white",
           "linecolor": "white",
           "ticks": "",
           "title": {
            "standoff": 15
           },
           "zerolinecolor": "white",
           "zerolinewidth": 2
          },
          "yaxis": {
           "automargin": true,
           "gridcolor": "white",
           "linecolor": "white",
           "ticks": "",
           "title": {
            "standoff": 15
           },
           "zerolinecolor": "white",
           "zerolinewidth": 2
          }
         }
        },
        "title": {
         "text": "Decision Matrix - Value vs Availability at Pick 8"
        },
        "width": 1000,
        "xaxis": {
         "anchor": "y",
         "domain": [
          0,
          1
         ],
         "title": {
          "text": "Probability Available at Next Pick"
         }
        },
        "yaxis": {
         "anchor": "x",
         "domain": [
          0,
          1
         ],
         "title": {
          "text": "VBD Score"
         }
        }
       }
      }
     },
     "metadata": {},
     "output_type": "display_data"
    }
   ],
   "source": [
    "def create_clean_probability_heatmap(enhanced_df, top_n=15, max_pick=30):\n",
    "    \"\"\"Create an enhanced heatmap showing availability probabilities across draft picks with user draft positions highlighted\"\"\"\n",
    "    import plotly.graph_objects as go\n",
    "    import plotly.express as px\n",
    "    \n",
    "    # User's draft picks\n",
    "    user_picks = [8, 17, 32, 41, 56, 65, 80, 89]\n",
    "    \n",
    "    # Get top players by VBD score or ranking\n",
    "    sort_col = 'vbd_score' if 'vbd_score' in enhanced_df.columns else 'salary_value'\n",
    "    top_players = enhanced_df.nlargest(top_n, sort_col)\n",
    "    \n",
    "    # Create probability matrix for picks 1 through max_pick\n",
    "    picks = list(range(1, max_pick + 1))\n",
    "    \n",
    "    # Enhanced player labels with position and VBD score\n",
    "    player_labels = []\n",
    "    for _, player in top_players.iterrows():\n",
    "        position = player.get('position', 'N/A')\n",
    "        vbd_score = player.get('vbd_score', player.get('salary_value', 0))\n",
    "        player_name = player['player_name']\n",
    "        label = f\"{player_name} ({position}) - VBD: {vbd_score:.1f}\"\n",
    "        player_labels.append(label)\n",
    "    \n",
    "    # Calculate availability probability for each player at each pick\n",
    "    prob_matrix = []\n",
    "    hover_text = []\n",
    "    for i, (_, player) in enumerate(top_players.iterrows()):\n",
    "        player_rank = player.get('espn_rank', player.get('overall_rank', 1))\n",
    "        row_probs = []\n",
    "        row_hover = []\n",
    "        for pick in picks:\n",
    "            # Use normal distribution for availability probability\n",
    "            prob = 1 - stats.norm.cdf(pick, loc=player_rank, scale=3)\n",
    "            prob = max(0, min(1, prob))\n",
    "            prob_pct = prob * 100\n",
    "            row_probs.append(prob_pct)\n",
    "            \n",
    "            # Create decision guidance for hover\n",
    "            if prob > 0.7:\n",
    "                guidance = \"SAFE\"\n",
    "            elif prob > 0.3:\n",
    "                guidance = \"RISKY\" \n",
    "            else:\n",
    "                guidance = \"DRAFT NOW\"\n",
    "            \n",
    "            hover_info = f\"<b>{player['player_name']}</b><br>Pick {pick}: {prob_pct:.1f}% available<br>{guidance}<extra></extra>\"\n",
    "            row_hover.append(hover_info)\n",
    "        \n",
    "        prob_matrix.append(row_probs)\n",
    "        hover_text.append(row_hover)\n",
    "    \n",
    "    # Create heatmap with improved color scheme\n",
    "    fig = go.Figure(data=go.Heatmap(\n",
    "        z=prob_matrix,\n",
    "        x=picks,\n",
    "        y=player_labels,\n",
    "        colorscale=[\n",
    "            [0.0, '#e74c3c'],    # Red for low availability (<30%)\n",
    "            [0.3, '#f39c12'],    # Yellow for risky (30-70%)\n",
    "            [0.7, '#2ecc71'],    # Green for safe (>70%)\n",
    "            [1.0, '#27ae60']     # Dark green for very safe\n",
    "        ],\n",
    "        colorbar=dict(\n",
    "            title=dict(text=\"Availability %\", side=\"right\"),\n",
    "            tickmode=\"linear\",\n",
    "            tick0=0,\n",
    "            dtick=20,\n",
    "            ticksuffix='%'\n",
    "        ),\n",
    "        hovertemplate='%{text}',\n",
    "        text=hover_text\n",
    "    ))\n",
    "    \n",
    "    # Add vertical lines for user's draft picks\n",
    "    for pick in user_picks:\n",
    "        if pick <= max_pick:\n",
    "            fig.add_vline(\n",
    "                x=pick,\n",
    "                line_dash=\"dash\",\n",
    "                line_color=\"white\",\n",
    "                line_width=2,\n",
    "                annotation_text=f\"Your Pick {pick}\",\n",
    "                annotation_position=\"top\"\n",
    "            )\n",
    "    \n",
    "    fig.update_layout(\n",
    "        title=\"Enhanced Player Availability Heatmap - Top Players by VBD Score<br><sub>Green=Safe to Wait | Yellow=Risky | Red=Draft Now | White lines=Your picks</sub>\",\n",
    "        xaxis_title=\"Draft Pick\",\n",
    "        yaxis_title=\"Player (Position) - VBD Score\",\n",
    "        height=700,\n",
    "        width=1200,\n",
    "        font=dict(size=11),\n",
    "        xaxis=dict(\n",
    "            tickmode='linear',\n",
    "            tick0=1,\n",
    "            dtick=2,\n",
    "            range=[0.5, max_pick + 0.5]\n",
    "        )\n",
    "    )\n",
    "    \n",
    "    fig.show()\n",
    "    return fig\n",
    "\n",
    "def create_decision_matrix(enhanced_df, my_next_pick=8):\n",
    "    \"\"\"Create a decision matrix visualization\"\"\"\n",
    "    import plotly.express as px\n",
    "    \n",
    "    # Filter to players with meaningful VBD scores\n",
    "    vbd_col = 'vbd_score' if 'vbd_score' in enhanced_df.columns else 'salary_value'\n",
    "    prob_col = 'prob_available_at_next' if 'prob_available_at_next' in enhanced_df.columns else 'prob_at_next_pick'\n",
    "    \n",
    "    decision_df = enhanced_df[enhanced_df[vbd_col] > 0].copy()\n",
    "    \n",
    "    # Create scatter plot\n",
    "    fig = px.scatter(\n",
    "        decision_df,\n",
    "        x=prob_col,\n",
    "        y=vbd_col,\n",
    "        color='position',\n",
    "        size=vbd_col,\n",
    "        hover_data=['player_name', 'team'],\n",
    "        title=f\"Decision Matrix - Value vs Availability at Pick {my_next_pick}\",\n",
    "        labels={\n",
    "            prob_col: \"Probability Available at Next Pick\",\n",
    "            vbd_col: \"VBD Score\"\n",
    "        }\n",
    "    )\n",
    "    \n",
    "    # Add quadrant lines\n",
    "    fig.add_hline(y=70, line_dash=\"dash\", line_color=\"gray\", annotation_text=\"High Value Threshold\")\n",
    "    fig.add_vline(x=0.5, line_dash=\"dash\", line_color=\"gray\", annotation_text=\"50% Availability\")\n",
    "    \n",
    "    fig.update_layout(height=600, width=1000)\n",
    "    fig.show()\n",
    "    return fig\n",
    "\n",
    "# Create the improved visualizations\n",
    "try:\n",
    "    if 'viz_df' in globals() and viz_df is not None:\n",
    "        print(\"🎨 CREATING ENHANCED HEATMAP WITH ALL IMPROVEMENTS\")\n",
    "        clean_heatmap = create_clean_probability_heatmap(viz_df, top_n=15, max_pick=30)\n",
    "        \n",
    "        print(\"\\n📊 CREATING DECISION MATRIX\")\n",
    "        decision_matrix = create_decision_matrix(viz_df, my_next_pick=8)\n",
    "        \n",
    "    else:\n",
    "        print(\"❌ ERROR: No visualization data available\")\n",
    "        print(\"Please run the data setup cells first\")\n",
    "        \n",
    "except Exception as e:\n",
    "    print(f\"❌ Error creating clean visualizations: {e}\")\n",
    "    print(\"Please ensure the data preparation cells have been run successfully\")"
   ]
  }
 ],
 "metadata": {
  "kernelspec": {
   "display_name": "venv",
   "language": "python",
   "name": "python3"
  },
  "language_info": {
   "codemirror_mode": {
    "name": "ipython",
    "version": 3
   },
   "file_extension": ".py",
   "mimetype": "text/x-python",
   "name": "python",
   "nbconvert_exporter": "python",
   "pygments_lexer": "ipython3",
   "version": "3.13.6"
  }
 },
 "nbformat": 4,
 "nbformat_minor": 4
}
