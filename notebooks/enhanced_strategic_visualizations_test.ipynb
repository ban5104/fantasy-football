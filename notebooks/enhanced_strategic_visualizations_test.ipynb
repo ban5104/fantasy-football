{
 "cells": [
  {
   "cell_type": "markdown",
   "metadata": {},
   "source": [
    "# Enhanced Strategic Visualizations - Interactive Draft Decision Tool\n",
    "\n",
    "Interactive linked visualizations that transform rank disagreement into actionable draft urgency.\n",
    "\n",
    "**Key Improvements:**\n",
    "- Value-Urgency encoding (size=VBD, color=availability)\n",
    "- Visual quadrant shading with instant decision guidance  \n",
    "- Position context and filtering\n",
    "- Interactive hover linking between charts\n",
    "- Urgency metric for one-click decisions"
   ]
  },
  {
   "cell_type": "code",
   "execution_count": 1,
   "metadata": {
    "execution": {
     "iopub.execute_input": "2025-08-16T05:22:15.497891Z",
     "iopub.status.busy": "2025-08-16T05:22:15.497710Z",
     "iopub.status.idle": "2025-08-16T05:22:16.582825Z",
     "shell.execute_reply": "2025-08-16T05:22:16.582536Z"
    }
   },
   "outputs": [
    {
     "name": "stdout",
     "output_type": "stream",
     "text": [
      "✅ Enhanced imports loaded successfully\n"
     ]
    }
   ],
   "source": [
    "# Enhanced imports for interactive visualizations\n",
    "import pandas as pd\n",
    "import numpy as np\n",
    "import plotly.graph_objects as go\n",
    "import plotly.express as px\n",
    "from plotly.subplots import make_subplots\n",
    "import plotly.colors as colors\n",
    "from scipy import stats\n",
    "import warnings\n",
    "warnings.filterwarnings('ignore')\n",
    "\n",
    "print(\"✅ Enhanced imports loaded successfully\")"
   ]
  },
  {
   "cell_type": "code",
   "execution_count": 2,
   "metadata": {
    "execution": {
     "iopub.execute_input": "2025-08-16T05:22:16.602715Z",
     "iopub.status.busy": "2025-08-16T05:22:16.602551Z",
     "iopub.status.idle": "2025-08-16T05:22:16.618519Z",
     "shell.execute_reply": "2025-08-16T05:22:16.618264Z"
    }
   },
   "outputs": [
    {
     "name": "stdout",
     "output_type": "stream",
     "text": [
      "ESPN data: 300 players\n",
      "ADP data: 347 players\n",
      "Merged dataset: 300 players\n",
      "Players with ADP data: 252 players\n",
      "Rank ranges - ESPN: 1-300, ADP: 1-350\n",
      "\n",
      "✅ Data loading functions defined\n"
     ]
    }
   ],
   "source": [
    "# Load and prepare data (same as before)\n",
    "def load_and_merge_ranking_data():\n",
    "    \"\"\"Load ESPN rankings and external ADP data, merge them for probability calculations\"\"\"\n",
    "    \n",
    "    # Load ESPN data (80% weight)\n",
    "    espn_df = pd.read_csv('../data/espn_projections_20250814.csv')\n",
    "    \n",
    "    # Load FantasyPros ADP data (20% weight)  \n",
    "    adp_df = pd.read_csv('../data/fantasypros_adp_20250815.csv')\n",
    "    \n",
    "    print(f\"ESPN data: {len(espn_df)} players\")\n",
    "    print(f\"ADP data: {len(adp_df)} players\")\n",
    "    \n",
    "    # Standardize player names for matching\n",
    "    def clean_name(name):\n",
    "        return str(name).strip().lower().replace(\"'\", \"\").replace(\".\", \"\")\n",
    "    \n",
    "    espn_df['clean_name'] = espn_df['player_name'].apply(clean_name)\n",
    "    adp_df['clean_name'] = adp_df['PLAYER'].apply(clean_name)\n",
    "    \n",
    "    # Merge ESPN with ADP data\n",
    "    merged_df = espn_df.merge(\n",
    "        adp_df[['clean_name', 'RANK', 'ADP']], \n",
    "        on='clean_name', \n",
    "        how='left'\n",
    "    )\n",
    "    \n",
    "    # Fill missing ADP ranks with ESPN rank + some penalty\n",
    "    merged_df['adp_rank'] = merged_df['RANK'].fillna(merged_df['overall_rank'] + 50)\n",
    "    merged_df['espn_rank'] = merged_df['overall_rank']\n",
    "    \n",
    "    # Validate rank data\n",
    "    assert merged_df['adp_rank'].min() > 0, \"ADP ranks must be positive\"\n",
    "    assert merged_df['espn_rank'].min() > 0, \"ESPN ranks must be positive\"\n",
    "    \n",
    "    print(f\"Merged dataset: {len(merged_df)} players\")\n",
    "    print(f\"Players with ADP data: {len(merged_df[merged_df['RANK'].notna()])} players\")\n",
    "    print(f\"Rank ranges - ESPN: {merged_df['espn_rank'].min()}-{merged_df['espn_rank'].max()}, ADP: {merged_df['adp_rank'].min():.0f}-{merged_df['adp_rank'].max():.0f}\")\n",
    "    \n",
    "    return merged_df[['overall_rank', 'position', 'position_rank', 'player_name', 'team', 'salary_value', 'bye_week', 'espn_rank', 'adp_rank']]\n",
    "\n",
    "# Core probability functions\n",
    "def compute_softmax_scores(rank_series, tau=5.0):\n",
    "    \"\"\"Convert ranks to softmax scores with temperature tau (lower rank = higher score)\"\"\"\n",
    "    scores = np.exp(-rank_series / tau)\n",
    "    return scores\n",
    "\n",
    "def compute_pick_probabilities(available_df, espn_weight=0.8, adp_weight=0.2, tau_espn=5.0, tau_adp=5.0):\n",
    "    \"\"\"\n",
    "    Compute per-player probability of being picked next using weighted softmax over ESPN and ADP ranks\n",
    "    \"\"\"\n",
    "    if len(available_df) == 0:\n",
    "        return pd.Series(dtype=float)\n",
    "    \n",
    "    # Softmax scores for ESPN and ADP ranks\n",
    "    espn_scores = compute_softmax_scores(available_df['espn_rank'], tau_espn)\n",
    "    adp_scores = compute_softmax_scores(available_df['adp_rank'], tau_adp)\n",
    "    \n",
    "    # Weighted combination (80% ESPN, 20% ADP)\n",
    "    combined_scores = espn_weight * espn_scores + adp_weight * adp_scores\n",
    "    \n",
    "    # Normalize to sum to 1 across available players\n",
    "    probs = combined_scores / combined_scores.sum()\n",
    "    return probs\n",
    "\n",
    "def probability_gone_before_next_pick(available_df, player_name, picks_until_next_turn):\n",
    "    \"\"\"\n",
    "    Compute probability a player is gone before your next turn using discrete survival calculation\n",
    "    \"\"\"\n",
    "    if picks_until_next_turn <= 0:\n",
    "        return 0.0\n",
    "    \n",
    "    survival_prob = 1.0\n",
    "    current_available = available_df.copy()\n",
    "    \n",
    "    # Simulate each pick until our next turn\n",
    "    for pick_step in range(picks_until_next_turn):\n",
    "        if len(current_available) == 0:\n",
    "            break\n",
    "            \n",
    "        # Get probabilities for current available players\n",
    "        pick_probs = compute_pick_probabilities(current_available)\n",
    "        \n",
    "        # Find probability our target player gets picked this round\n",
    "        player_mask = current_available['player_name'] == player_name\n",
    "        if not player_mask.any():\n",
    "            # Player already gone\n",
    "            break\n",
    "            \n",
    "        p_pick_now = pick_probs[player_mask].iloc[0] if player_mask.any() else 0.0\n",
    "        \n",
    "        # Update survival probability\n",
    "        survival_prob *= (1 - p_pick_now)\n",
    "        \n",
    "        # For simulation: remove the most likely pick (simplified approach)\n",
    "        most_likely_idx = pick_probs.idxmax()\n",
    "        current_available = current_available.drop(most_likely_idx)\n",
    "    \n",
    "    prob_gone = 1 - survival_prob\n",
    "    return min(1.0, max(0.0, prob_gone))\n",
    "\n",
    "# Load the data\n",
    "ranking_df = load_and_merge_ranking_data()\n",
    "print(\"\\n✅ Data loading functions defined\")"
   ]
  },
  {
   "cell_type": "code",
   "execution_count": 3,
   "metadata": {
    "execution": {
     "iopub.execute_input": "2025-08-16T05:22:16.619807Z",
     "iopub.status.busy": "2025-08-16T05:22:16.619724Z",
     "iopub.status.idle": "2025-08-16T05:22:17.507493Z",
     "shell.execute_reply": "2025-08-16T05:22:17.507231Z"
    }
   },
   "outputs": [
    {
     "name": "stdout",
     "output_type": "stream",
     "text": [
      "✅ Enhanced dataset prepared: 241 players\n",
      "Top 5 Urgency Players: CeeDee Lamb, Jahmyr Gibbs, Christian McCaffrey, Puka Nacua, Saquon Barkley\n",
      "Urgency range: 0.0 to 27.9\n"
     ]
    }
   ],
   "source": [
    "# Enhanced data preparation with urgency metrics\n",
    "def prepare_enhanced_data(df, my_picks=[8, 17, 32, 41, 56, 65, 80, 89], current_pick=1):\n",
    "    \"\"\"Prepare data with enhanced metrics for decision-making\"\"\"\n",
    "    \n",
    "    df = df.copy()\n",
    "    \n",
    "    # Basic divergence metrics\n",
    "    df['rank_divergence'] = df['espn_rank'] - df['adp_rank']\n",
    "    df['abs_divergence'] = abs(df['rank_divergence'])\n",
    "    \n",
    "    # Calculate availability probabilities\n",
    "    next_pick = min([p for p in my_picks if p > current_pick])\n",
    "    picks_until = next_pick - current_pick\n",
    "    \n",
    "    availability_probs = []\n",
    "    for _, player in df.iterrows():\n",
    "        prob_gone = probability_gone_before_next_pick(df, player['player_name'], picks_until)\n",
    "        availability_probs.append(1 - prob_gone)\n",
    "    \n",
    "    df['probability_available'] = availability_probs\n",
    "    df['vbd_score'] = df['salary_value']  # Use salary_value as VBD proxy\n",
    "    \n",
    "    # Calculate URGENCY METRIC: VBD * (1 - availability)\n",
    "    # This is the key insight - high value players who won't be available\n",
    "    df['urgency_score'] = df['vbd_score'] * (1 - df['probability_available'])\n",
    "    \n",
    "    # Position-specific metrics\n",
    "    position_shapes = {'RB': 'circle', 'WR': 'square', 'QB': 'triangle-up', 'TE': 'diamond'}\n",
    "    df['position_shape'] = df['position'].map(position_shapes).fillna('circle')\n",
    "    \n",
    "    # Fix position_rank data type issue - extract numeric portion from strings like \"RB1\" -> 1\n",
    "    df['position_rank_numeric'] = df['position_rank'].str.extract(r'(\\d+)').astype(int)\n",
    "    \n",
    "    # Calculate positional replacement levels (simplified) - now using numeric values\n",
    "    position_replacement = {'RB': 24, 'WR': 36, 'QB': 12, 'TE': 12}  # Typical starter + bench depth\n",
    "    df['is_replacement_level'] = df.apply(\n",
    "        lambda row: row['position_rank_numeric'] <= position_replacement.get(row['position'], 20), axis=1\n",
    "    )\n",
    "    \n",
    "    # Filter to top 225 players\n",
    "    df_filtered = df[(df['espn_rank'] <= 225) | (df['adp_rank'] <= 225)].copy()\n",
    "    \n",
    "    # Rank urgency for top-N identification\n",
    "    df_filtered['urgency_rank'] = df_filtered['urgency_score'].rank(ascending=False, method='min')\n",
    "    \n",
    "    print(f\"✅ Enhanced dataset prepared: {len(df_filtered)} players\")\n",
    "    print(f\"Top 5 Urgency Players: {', '.join(df_filtered.nsmallest(5, 'urgency_rank')['player_name'].tolist())}\")\n",
    "    \n",
    "    return df_filtered\n",
    "\n",
    "# Prepare enhanced dataset\n",
    "enhanced_df = prepare_enhanced_data(ranking_df)\n",
    "print(f\"Urgency range: {enhanced_df['urgency_score'].min():.1f} to {enhanced_df['urgency_score'].max():.1f}\")"
   ]
  },
  {
   "cell_type": "markdown",
   "metadata": {},
   "source": [
    "## Enhanced Value-Urgency ESPN vs ADP Plot\n",
    "\n",
    "**Key Enhancements:**\n",
    "- **Bubble Size** = VBD Score (bigger = more valuable)\n",
    "- **Color** = Availability Probability (red = urgent, green = safe)\n",
    "- **Shape** = Position (circle=RB, square=WR, triangle=QB, diamond=TE)\n",
    "- **Smart Labels** = Only top urgency players labeled\n",
    "\n",
    "This transforms \"rank disagreement\" into \"value urgency\" - focus on large red bubbles!"
   ]
  },
  {
   "cell_type": "code",
   "execution_count": 4,
   "metadata": {
    "execution": {
     "iopub.execute_input": "2025-08-16T05:22:17.509270Z",
     "iopub.status.busy": "2025-08-16T05:22:17.509106Z",
     "iopub.status.idle": "2025-08-16T05:22:18.279002Z",
     "shell.execute_reply": "2025-08-16T05:22:18.278733Z"
    }
   },
   "outputs": [
    {
     "data": {
      "application/vnd.plotly.v1+json": {
       "config": {
        "plotlyServerURL": "https://plot.ly"
       },
       "data": [
        {
         "hovertemplate": [
          "<b>%{text}</b><br>Position: RB<br>ESPN Rank: %{x}<br>ADP Rank: %{y}<br>VBD Score: 56<br>Availability: 69.7%<br>Urgency Score: 17.0<br>Divergence: 0.0<extra></extra>",
          "<b>%{text}</b><br>Position: RB<br>ESPN Rank: %{x}<br>ADP Rank: %{y}<br>VBD Score: 55<br>Availability: 53.8%<br>Urgency Score: 25.4<br>Divergence: 1.0<extra></extra>",
          "<b>%{text}</b><br>Position: RB<br>ESPN Rank: %{x}<br>ADP Rank: %{y}<br>VBD Score: 54<br>Availability: 49.3%<br>Urgency Score: 27.4<br>Divergence: 1.0<extra></extra>",
          "<b>%{text}</b><br>Position: RB<br>ESPN Rank: %{x}<br>ADP Rank: %{y}<br>VBD Score: 53<br>Availability: 49.2%<br>Urgency Score: 26.9<br>Divergence: -4.0<extra></extra>",
          "<b>%{text}</b><br>Position: RB<br>ESPN Rank: %{x}<br>ADP Rank: %{y}<br>VBD Score: 48<br>Availability: 71.6%<br>Urgency Score: 13.6<br>Divergence: -1.0<extra></extra>",
          "<b>%{text}</b><br>Position: RB<br>ESPN Rank: %{x}<br>ADP Rank: %{y}<br>VBD Score: 46<br>Availability: 73.2%<br>Urgency Score: 12.3<br>Divergence: 2.0<extra></extra>",
          "<b>%{text}</b><br>Position: RB<br>ESPN Rank: %{x}<br>ADP Rank: %{y}<br>VBD Score: 38<br>Availability: 91.3%<br>Urgency Score: 3.3<br>Divergence: -4.0<extra></extra>",
          "<b>%{text}</b><br>Position: RB<br>ESPN Rank: %{x}<br>ADP Rank: %{y}<br>VBD Score: 37<br>Availability: 90.7%<br>Urgency Score: 3.4<br>Divergence: 3.0<extra></extra>",
          "<b>%{text}</b><br>Position: RB<br>ESPN Rank: %{x}<br>ADP Rank: %{y}<br>VBD Score: 36<br>Availability: 93.1%<br>Urgency Score: 2.5<br>Divergence: 1.0<extra></extra>",
          "<b>%{text}</b><br>Position: RB<br>ESPN Rank: %{x}<br>ADP Rank: %{y}<br>VBD Score: 33<br>Availability: 96.8%<br>Urgency Score: 1.1<br>Divergence: -5.0<extra></extra>",
          "<b>%{text}</b><br>Position: RB<br>ESPN Rank: %{x}<br>ADP Rank: %{y}<br>VBD Score: 32<br>Availability: 95.6%<br>Urgency Score: 1.4<br>Divergence: 6.0<extra></extra>",
          "<b>%{text}</b><br>Position: RB<br>ESPN Rank: %{x}<br>ADP Rank: %{y}<br>VBD Score: 25<br>Availability: 98.9%<br>Urgency Score: 0.3<br>Divergence: 10.0<extra></extra>",
          "<b>%{text}</b><br>Position: RB<br>ESPN Rank: %{x}<br>ADP Rank: %{y}<br>VBD Score: 24<br>Availability: 99.6%<br>Urgency Score: 0.1<br>Divergence: -1.0<extra></extra>",
          "<b>%{text}</b><br>Position: RB<br>ESPN Rank: %{x}<br>ADP Rank: %{y}<br>VBD Score: 22<br>Availability: 99.8%<br>Urgency Score: 0.0<br>Divergence: 2.0<extra></extra>",
          "<b>%{text}</b><br>Position: RB<br>ESPN Rank: %{x}<br>ADP Rank: %{y}<br>VBD Score: 21<br>Availability: 99.9%<br>Urgency Score: 0.0<br>Divergence: -50.0<extra></extra>",
          "<b>%{text}</b><br>Position: RB<br>ESPN Rank: %{x}<br>ADP Rank: %{y}<br>VBD Score: 19<br>Availability: 99.9%<br>Urgency Score: 0.0<br>Divergence: -4.0<extra></extra>",
          "<b>%{text}</b><br>Position: RB<br>ESPN Rank: %{x}<br>ADP Rank: %{y}<br>VBD Score: 19<br>Availability: 99.9%<br>Urgency Score: 0.0<br>Divergence: 5.0<extra></extra>",
          "<b>%{text}</b><br>Position: RB<br>ESPN Rank: %{x}<br>ADP Rank: %{y}<br>VBD Score: 18<br>Availability: 100.0%<br>Urgency Score: 0.0<br>Divergence: -5.0<extra></extra>",
          "<b>%{text}</b><br>Position: RB<br>ESPN Rank: %{x}<br>ADP Rank: %{y}<br>VBD Score: 17<br>Availability: 100.0%<br>Urgency Score: 0.0<br>Divergence: -7.0<extra></extra>",
          "<b>%{text}</b><br>Position: RB<br>ESPN Rank: %{x}<br>ADP Rank: %{y}<br>VBD Score: 17<br>Availability: 99.8%<br>Urgency Score: 0.0<br>Divergence: 14.0<extra></extra>",
          "<b>%{text}</b><br>Position: RB<br>ESPN Rank: %{x}<br>ADP Rank: %{y}<br>VBD Score: 11<br>Availability: 100.0%<br>Urgency Score: 0.0<br>Divergence: -7.0<extra></extra>",
          "<b>%{text}</b><br>Position: RB<br>ESPN Rank: %{x}<br>ADP Rank: %{y}<br>VBD Score: 7<br>Availability: 100.0%<br>Urgency Score: 0.0<br>Divergence: 11.0<extra></extra>",
          "<b>%{text}</b><br>Position: RB<br>ESPN Rank: %{x}<br>ADP Rank: %{y}<br>VBD Score: 6<br>Availability: 100.0%<br>Urgency Score: 0.0<br>Divergence: -1.0<extra></extra>",
          "<b>%{text}</b><br>Position: RB<br>ESPN Rank: %{x}<br>ADP Rank: %{y}<br>VBD Score: 6<br>Availability: 100.0%<br>Urgency Score: 0.0<br>Divergence: 7.0<extra></extra>",
          "<b>%{text}</b><br>Position: RB<br>ESPN Rank: %{x}<br>ADP Rank: %{y}<br>VBD Score: 6<br>Availability: 100.0%<br>Urgency Score: 0.0<br>Divergence: -50.0<extra></extra>",
          "<b>%{text}</b><br>Position: RB<br>ESPN Rank: %{x}<br>ADP Rank: %{y}<br>VBD Score: 6<br>Availability: 100.0%<br>Urgency Score: 0.0<br>Divergence: 19.0<extra></extra>",
          "<b>%{text}</b><br>Position: RB<br>ESPN Rank: %{x}<br>ADP Rank: %{y}<br>VBD Score: 4<br>Availability: 100.0%<br>Urgency Score: 0.0<br>Divergence: 12.0<extra></extra>",
          "<b>%{text}</b><br>Position: RB<br>ESPN Rank: %{x}<br>ADP Rank: %{y}<br>VBD Score: 4<br>Availability: 100.0%<br>Urgency Score: 0.0<br>Divergence: 4.0<extra></extra>",
          "<b>%{text}</b><br>Position: RB<br>ESPN Rank: %{x}<br>ADP Rank: %{y}<br>VBD Score: 4<br>Availability: 100.0%<br>Urgency Score: 0.0<br>Divergence: 25.0<extra></extra>",
          "<b>%{text}</b><br>Position: RB<br>ESPN Rank: %{x}<br>ADP Rank: %{y}<br>VBD Score: 3<br>Availability: 100.0%<br>Urgency Score: 0.0<br>Divergence: 9.0<extra></extra>",
          "<b>%{text}</b><br>Position: RB<br>ESPN Rank: %{x}<br>ADP Rank: %{y}<br>VBD Score: 3<br>Availability: 100.0%<br>Urgency Score: 0.0<br>Divergence: 9.0<extra></extra>",
          "<b>%{text}</b><br>Position: RB<br>ESPN Rank: %{x}<br>ADP Rank: %{y}<br>VBD Score: 3<br>Availability: 100.0%<br>Urgency Score: 0.0<br>Divergence: 4.0<extra></extra>",
          "<b>%{text}</b><br>Position: RB<br>ESPN Rank: %{x}<br>ADP Rank: %{y}<br>VBD Score: 3<br>Availability: 100.0%<br>Urgency Score: 0.0<br>Divergence: -23.0<extra></extra>",
          "<b>%{text}</b><br>Position: RB<br>ESPN Rank: %{x}<br>ADP Rank: %{y}<br>VBD Score: 3<br>Availability: 100.0%<br>Urgency Score: 0.0<br>Divergence: -13.0<extra></extra>",
          "<b>%{text}</b><br>Position: RB<br>ESPN Rank: %{x}<br>ADP Rank: %{y}<br>VBD Score: 3<br>Availability: 100.0%<br>Urgency Score: 0.0<br>Divergence: -1.0<extra></extra>",
          "<b>%{text}</b><br>Position: RB<br>ESPN Rank: %{x}<br>ADP Rank: %{y}<br>VBD Score: 2<br>Availability: 100.0%<br>Urgency Score: 0.0<br>Divergence: 16.0<extra></extra>",
          "<b>%{text}</b><br>Position: RB<br>ESPN Rank: %{x}<br>ADP Rank: %{y}<br>VBD Score: 2<br>Availability: 100.0%<br>Urgency Score: 0.0<br>Divergence: -16.0<extra></extra>",
          "<b>%{text}</b><br>Position: RB<br>ESPN Rank: %{x}<br>ADP Rank: %{y}<br>VBD Score: 2<br>Availability: 100.0%<br>Urgency Score: 0.0<br>Divergence: -4.0<extra></extra>",
          "<b>%{text}</b><br>Position: RB<br>ESPN Rank: %{x}<br>ADP Rank: %{y}<br>VBD Score: 2<br>Availability: 100.0%<br>Urgency Score: 0.0<br>Divergence: 18.0<extra></extra>",
          "<b>%{text}</b><br>Position: RB<br>ESPN Rank: %{x}<br>ADP Rank: %{y}<br>VBD Score: 2<br>Availability: 100.0%<br>Urgency Score: 0.0<br>Divergence: 10.0<extra></extra>",
          "<b>%{text}</b><br>Position: RB<br>ESPN Rank: %{x}<br>ADP Rank: %{y}<br>VBD Score: 2<br>Availability: 100.0%<br>Urgency Score: 0.0<br>Divergence: 30.0<extra></extra>",
          "<b>%{text}</b><br>Position: RB<br>ESPN Rank: %{x}<br>ADP Rank: %{y}<br>VBD Score: 2<br>Availability: 100.0%<br>Urgency Score: 0.0<br>Divergence: -15.0<extra></extra>",
          "<b>%{text}</b><br>Position: RB<br>ESPN Rank: %{x}<br>ADP Rank: %{y}<br>VBD Score: 1<br>Availability: 100.0%<br>Urgency Score: 0.0<br>Divergence: 5.0<extra></extra>",
          "<b>%{text}</b><br>Position: RB<br>ESPN Rank: %{x}<br>ADP Rank: %{y}<br>VBD Score: 1<br>Availability: 100.0%<br>Urgency Score: 0.0<br>Divergence: 30.0<extra></extra>",
          "<b>%{text}</b><br>Position: RB<br>ESPN Rank: %{x}<br>ADP Rank: %{y}<br>VBD Score: 1<br>Availability: 100.0%<br>Urgency Score: 0.0<br>Divergence: -15.0<extra></extra>",
          "<b>%{text}</b><br>Position: RB<br>ESPN Rank: %{x}<br>ADP Rank: %{y}<br>VBD Score: 1<br>Availability: 100.0%<br>Urgency Score: 0.0<br>Divergence: 7.0<extra></extra>",
          "<b>%{text}</b><br>Position: RB<br>ESPN Rank: %{x}<br>ADP Rank: %{y}<br>VBD Score: 1<br>Availability: 100.0%<br>Urgency Score: 0.0<br>Divergence: -14.0<extra></extra>",
          "<b>%{text}</b><br>Position: RB<br>ESPN Rank: %{x}<br>ADP Rank: %{y}<br>VBD Score: 1<br>Availability: 100.0%<br>Urgency Score: 0.0<br>Divergence: -24.0<extra></extra>",
          "<b>%{text}</b><br>Position: RB<br>ESPN Rank: %{x}<br>ADP Rank: %{y}<br>VBD Score: 1<br>Availability: 100.0%<br>Urgency Score: 0.0<br>Divergence: 43.0<extra></extra>",
          "<b>%{text}</b><br>Position: RB<br>ESPN Rank: %{x}<br>ADP Rank: %{y}<br>VBD Score: 1<br>Availability: 100.0%<br>Urgency Score: 0.0<br>Divergence: 15.0<extra></extra>",
          "<b>%{text}</b><br>Position: RB<br>ESPN Rank: %{x}<br>ADP Rank: %{y}<br>VBD Score: 1<br>Availability: 100.0%<br>Urgency Score: 0.0<br>Divergence: 4.0<extra></extra>",
          "<b>%{text}</b><br>Position: RB<br>ESPN Rank: %{x}<br>ADP Rank: %{y}<br>VBD Score: 1<br>Availability: 100.0%<br>Urgency Score: 0.0<br>Divergence: 13.0<extra></extra>",
          "<b>%{text}</b><br>Position: RB<br>ESPN Rank: %{x}<br>ADP Rank: %{y}<br>VBD Score: 1<br>Availability: 100.0%<br>Urgency Score: 0.0<br>Divergence: 12.0<extra></extra>",
          "<b>%{text}</b><br>Position: RB<br>ESPN Rank: %{x}<br>ADP Rank: %{y}<br>VBD Score: 1<br>Availability: 100.0%<br>Urgency Score: 0.0<br>Divergence: -62.0<extra></extra>",
          "<b>%{text}</b><br>Position: RB<br>ESPN Rank: %{x}<br>ADP Rank: %{y}<br>VBD Score: 1<br>Availability: 100.0%<br>Urgency Score: 0.0<br>Divergence: 10.0<extra></extra>",
          "<b>%{text}</b><br>Position: RB<br>ESPN Rank: %{x}<br>ADP Rank: %{y}<br>VBD Score: 0<br>Availability: 100.0%<br>Urgency Score: 0.0<br>Divergence: -20.0<extra></extra>",
          "<b>%{text}</b><br>Position: RB<br>ESPN Rank: %{x}<br>ADP Rank: %{y}<br>VBD Score: 0<br>Availability: 100.0%<br>Urgency Score: 0.0<br>Divergence: -46.0<extra></extra>",
          "<b>%{text}</b><br>Position: RB<br>ESPN Rank: %{x}<br>ADP Rank: %{y}<br>VBD Score: 0<br>Availability: 100.0%<br>Urgency Score: 0.0<br>Divergence: 10.0<extra></extra>",
          "<b>%{text}</b><br>Position: RB<br>ESPN Rank: %{x}<br>ADP Rank: %{y}<br>VBD Score: 0<br>Availability: 100.0%<br>Urgency Score: 0.0<br>Divergence: 42.0<extra></extra>",
          "<b>%{text}</b><br>Position: RB<br>ESPN Rank: %{x}<br>ADP Rank: %{y}<br>VBD Score: 0<br>Availability: 100.0%<br>Urgency Score: 0.0<br>Divergence: 0.0<extra></extra>",
          "<b>%{text}</b><br>Position: RB<br>ESPN Rank: %{x}<br>ADP Rank: %{y}<br>VBD Score: 0<br>Availability: 100.0%<br>Urgency Score: 0.0<br>Divergence: 18.0<extra></extra>",
          "<b>%{text}</b><br>Position: RB<br>ESPN Rank: %{x}<br>ADP Rank: %{y}<br>VBD Score: 0<br>Availability: 100.0%<br>Urgency Score: 0.0<br>Divergence: 18.0<extra></extra>",
          "<b>%{text}</b><br>Position: RB<br>ESPN Rank: %{x}<br>ADP Rank: %{y}<br>VBD Score: 0<br>Availability: 100.0%<br>Urgency Score: 0.0<br>Divergence: -57.0<extra></extra>",
          "<b>%{text}</b><br>Position: RB<br>ESPN Rank: %{x}<br>ADP Rank: %{y}<br>VBD Score: 0<br>Availability: 100.0%<br>Urgency Score: 0.0<br>Divergence: 80.0<extra></extra>",
          "<b>%{text}</b><br>Position: RB<br>ESPN Rank: %{x}<br>ADP Rank: %{y}<br>VBD Score: 0<br>Availability: 100.0%<br>Urgency Score: 0.0<br>Divergence: -4.0<extra></extra>",
          "<b>%{text}</b><br>Position: RB<br>ESPN Rank: %{x}<br>ADP Rank: %{y}<br>VBD Score: 0<br>Availability: 100.0%<br>Urgency Score: 0.0<br>Divergence: 11.0<extra></extra>",
          "<b>%{text}</b><br>Position: RB<br>ESPN Rank: %{x}<br>ADP Rank: %{y}<br>VBD Score: 0<br>Availability: 100.0%<br>Urgency Score: 0.0<br>Divergence: 22.0<extra></extra>",
          "<b>%{text}</b><br>Position: RB<br>ESPN Rank: %{x}<br>ADP Rank: %{y}<br>VBD Score: 0<br>Availability: 100.0%<br>Urgency Score: 0.0<br>Divergence: 44.0<extra></extra>",
          "<b>%{text}</b><br>Position: RB<br>ESPN Rank: %{x}<br>ADP Rank: %{y}<br>VBD Score: 0<br>Availability: 100.0%<br>Urgency Score: 0.0<br>Divergence: 64.0<extra></extra>",
          "<b>%{text}</b><br>Position: RB<br>ESPN Rank: %{x}<br>ADP Rank: %{y}<br>VBD Score: 0<br>Availability: 100.0%<br>Urgency Score: 0.0<br>Divergence: 57.0<extra></extra>",
          "<b>%{text}</b><br>Position: RB<br>ESPN Rank: %{x}<br>ADP Rank: %{y}<br>VBD Score: 0<br>Availability: 100.0%<br>Urgency Score: 0.0<br>Divergence: 77.0<extra></extra>"
         ],
         "marker": {
          "color": [
           0.5,
           0.5,
           0.3,
           0.3,
           0.5,
           0.5,
           0.9,
           0.9,
           0.9,
           0.9,
           0.9,
           0.9,
           0.9,
           0.9,
           0.9,
           0.9,
           0.9,
           0.9,
           0.9,
           0.9,
           0.9,
           0.9,
           0.9,
           0.9,
           0.9,
           0.9,
           0.9,
           0.9,
           0.9,
           0.9,
           0.9,
           0.9,
           0.9,
           0.9,
           0.9,
           0.9,
           0.9,
           0.9,
           0.9,
           0.9,
           0.9,
           0.9,
           0.9,
           0.9,
           0.9,
           0.9,
           0.9,
           0.9,
           0.9,
           0.9,
           0.9,
           0.9,
           0.9,
           0.9,
           0.9,
           0.9,
           0.9,
           0.9,
           0.9,
           0.9,
           0.9,
           0.9,
           0.9,
           0.9,
           0.9,
           0.9,
           0.9,
           0.9,
           0.9,
           0.9,
           0.9
          ],
          "colorbar": {
           "ticktext": [
            "Urgent",
            "Critical",
            "Decision",
            "Safe"
           ],
           "tickvals": [
            0.1,
            0.3,
            0.5,
            0.9
           ],
           "title": {
            "text": "Urgency Level<br>(Low=Safe, High=Critical)"
           },
           "x": 1.02
          },
          "colorscale": [
           [
            0.0,
            "darkred"
           ],
           [
            0.3,
            "red"
           ],
           [
            0.5,
            "orange"
           ],
           [
            0.8,
            "yellow"
           ],
           [
            1.0,
            "lightgreen"
           ]
          ],
          "line": {
           "color": "gold",
           "width": {
            "bdata": "AQEBAQEBAQEBAQEBAQEDAQEBAQEBAQEBAwEBAQMBAQEDAQEBAQEBAQMBAQMBAQEDAwEBAQEDAQEDAQMBAQEDAwEBAwMDAwM=",
            "dtype": "i1"
           }
          },
          "opacity": 0.8,
          "showscale": true,
          "size": {
           "bdata": "twC0ALEArgCfAJkAgQB+AHsAcgBvAFoAVwBRAE4ASABIAEUAQgBCADAAJAAhACEAIQAhABsAGwAbABgAGAAYABgAGAAYABUAFQAVABUAFQAVABUAEgASABIAEgASABIAEgASABIAEgASABIAEgAPAA8ADwAPAA8ADwAPAA8ADwAPAA8ADwAPAA8ADwAPAA==",
           "dtype": "i2"
          },
          "symbol": "circle"
         },
         "mode": "markers+text",
         "name": "RB (71)",
         "text": [
          "Bijan Robinson",
          "Saquon Barkley",
          "Jahmyr Gibbs",
          "Christian McCaffrey",
          "Derrick Henry",
          "",
          "",
          "",
          "",
          "",
          "",
          "",
          "",
          "",
          "",
          "",
          "",
          "",
          "",
          "",
          "",
          "",
          "",
          "",
          "",
          "",
          "",
          "",
          "",
          "",
          "",
          "",
          "",
          "",
          "",
          "",
          "",
          "",
          "",
          "",
          "",
          "",
          "",
          "",
          "",
          "",
          "",
          "",
          "",
          "",
          "",
          "",
          "",
          "",
          "",
          "",
          "",
          "",
          "",
          "",
          "",
          "",
          "",
          "",
          "",
          "",
          "",
          "",
          "",
          "",
          ""
         ],
         "textfont": {
          "color": "black",
          "size": 9
         },
         "textposition": "top center",
         "type": "scatter",
         "x": {
          "bdata": "AgAEAAUABwALAAwAEQASABMAFgAXACAAIQAlACYAKQAqACsALAAtADQAQwBEAEYARwBIAFAAUQBSAFoAWwBcAF0AXgBfAHIAcwB0AHUAdgB3AHgAggCDAIQAhQCGAIcAkgCTAJQAlQCWAJcAoAChAKIAwwDEANQA1QDWAN0A3gDfAOEA4gDzAPcAGQEaAQ==",
          "dtype": "i2"
         },
         "y": {
          "bdata": "AAAAAAAAAEAAAAAAAAAIQAAAAAAAABBAAAAAAAAAJkAAAAAAAAAoQAAAAAAAACRAAAAAAAAANUAAAAAAAAAuQAAAAAAAADJAAAAAAAAAO0AAAAAAAAAxQAAAAAAAADZAAAAAAAAAQUAAAAAAAIBBQAAAAAAAAFZAAAAAAACARkAAAAAAAIBCQAAAAAAAAEhAAAAAAACASUAAAAAAAAA/QAAAAAAAgE1AAAAAAAAATEAAAAAAAEBRQAAAAAAAgE9AAAAAAABAXkAAAAAAAIBKQAAAAAAAAFFAAAAAAABAU0AAAAAAAIBMQAAAAAAAQFRAAAAAAACAVEAAAAAAAABWQAAAAAAAAF1AAAAAAADAWkAAAAAAAABYQAAAAAAAgFhAAAAAAABgYEAAAAAAAABeQAAAAAAAwFhAAAAAAAAAW0AAAAAAAEBWQAAAAAAA4GBAAAAAAABAX0AAAAAAAEBZQAAAAAAAYGJAAAAAAACAX0AAAAAAAIBiQAAAAAAA4GNAAAAAAADAWUAAAAAAAIBgQAAAAAAAAGJAAAAAAAAAYUAAAAAAAEBhQAAAAAAAoGpAAAAAAADAYkAAAAAAAKBmQAAAAAAAAGpAAAAAAAAgZ0AAAAAAAEBjQAAAAAAAgGpAAAAAAABgaEAAAAAAAIBoQAAAAAAAYHFAAAAAAADAYUAAAAAAAGBsQAAAAAAAwGpAAAAAAACAaUAAAAAAAOBoQAAAAAAA4GZAAAAAAAAAbEAAAAAAAKBpQA==",
          "dtype": "f8"
         }
        },
        {
         "hovertemplate": [
          "<b>%{text}</b><br>Position: WR<br>ESPN Rank: %{x}<br>ADP Rank: %{y}<br>VBD Score: 57<br>Availability: 81.9%<br>Urgency Score: 10.3<br>Divergence: 0.0<extra></extra>",
          "<b>%{text}</b><br>Position: WR<br>ESPN Rank: %{x}<br>ADP Rank: %{y}<br>VBD Score: 55<br>Availability: 63.4%<br>Urgency Score: 20.1<br>Divergence: -2.0<extra></extra>",
          "<b>%{text}</b><br>Position: WR<br>ESPN Rank: %{x}<br>ADP Rank: %{y}<br>VBD Score: 53<br>Availability: 47.4%<br>Urgency Score: 27.9<br>Divergence: 0.0<extra></extra>",
          "<b>%{text}</b><br>Position: WR<br>ESPN Rank: %{x}<br>ADP Rank: %{y}<br>VBD Score: 52<br>Availability: 50.7%<br>Urgency Score: 25.6<br>Divergence: 1.0<extra></extra>",
          "<b>%{text}</b><br>Position: WR<br>ESPN Rank: %{x}<br>ADP Rank: %{y}<br>VBD Score: 51<br>Availability: 57.7%<br>Urgency Score: 21.6<br>Divergence: 1.0<extra></extra>",
          "<b>%{text}</b><br>Position: WR<br>ESPN Rank: %{x}<br>ADP Rank: %{y}<br>VBD Score: 50<br>Availability: 64.0%<br>Urgency Score: 18.0<br>Divergence: 1.0<extra></extra>",
          "<b>%{text}</b><br>Position: WR<br>ESPN Rank: %{x}<br>ADP Rank: %{y}<br>VBD Score: 45<br>Availability: 79.4%<br>Urgency Score: 9.3<br>Divergence: 0.0<extra></extra>",
          "<b>%{text}</b><br>Position: WR<br>ESPN Rank: %{x}<br>ADP Rank: %{y}<br>VBD Score: 43<br>Availability: 82.9%<br>Urgency Score: 7.4<br>Divergence: 0.0<extra></extra>",
          "<b>%{text}</b><br>Position: WR<br>ESPN Rank: %{x}<br>ADP Rank: %{y}<br>VBD Score: 42<br>Availability: 87.5%<br>Urgency Score: 5.3<br>Divergence: -5.0<extra></extra>",
          "<b>%{text}</b><br>Position: WR<br>ESPN Rank: %{x}<br>ADP Rank: %{y}<br>VBD Score: 40<br>Availability: 89.2%<br>Urgency Score: 4.3<br>Divergence: -3.0<extra></extra>",
          "<b>%{text}</b><br>Position: WR<br>ESPN Rank: %{x}<br>ADP Rank: %{y}<br>VBD Score: 32<br>Availability: 97.9%<br>Urgency Score: 0.7<br>Divergence: -8.0<extra></extra>",
          "<b>%{text}</b><br>Position: WR<br>ESPN Rank: %{x}<br>ADP Rank: %{y}<br>VBD Score: 31<br>Availability: 98.1%<br>Urgency Score: 0.6<br>Divergence: -3.0<extra></extra>",
          "<b>%{text}</b><br>Position: WR<br>ESPN Rank: %{x}<br>ADP Rank: %{y}<br>VBD Score: 30<br>Availability: 98.6%<br>Urgency Score: 0.4<br>Divergence: -16.0<extra></extra>",
          "<b>%{text}</b><br>Position: WR<br>ESPN Rank: %{x}<br>ADP Rank: %{y}<br>VBD Score: 30<br>Availability: 98.5%<br>Urgency Score: 0.5<br>Divergence: 2.0<extra></extra>",
          "<b>%{text}</b><br>Position: WR<br>ESPN Rank: %{x}<br>ADP Rank: %{y}<br>VBD Score: 23<br>Availability: 99.7%<br>Urgency Score: 0.1<br>Divergence: -7.0<extra></extra>",
          "<b>%{text}</b><br>Position: WR<br>ESPN Rank: %{x}<br>ADP Rank: %{y}<br>VBD Score: 22<br>Availability: 99.8%<br>Urgency Score: 0.1<br>Divergence: -9.0<extra></extra>",
          "<b>%{text}</b><br>Position: WR<br>ESPN Rank: %{x}<br>ADP Rank: %{y}<br>VBD Score: 22<br>Availability: 99.7%<br>Urgency Score: 0.1<br>Divergence: 6.0<extra></extra>",
          "<b>%{text}</b><br>Position: WR<br>ESPN Rank: %{x}<br>ADP Rank: %{y}<br>VBD Score: 15<br>Availability: 100.0%<br>Urgency Score: 0.0<br>Divergence: -14.0<extra></extra>",
          "<b>%{text}</b><br>Position: WR<br>ESPN Rank: %{x}<br>ADP Rank: %{y}<br>VBD Score: 15<br>Availability: 99.9%<br>Urgency Score: 0.0<br>Divergence: 9.0<extra></extra>",
          "<b>%{text}</b><br>Position: WR<br>ESPN Rank: %{x}<br>ADP Rank: %{y}<br>VBD Score: 14<br>Availability: 99.9%<br>Urgency Score: 0.0<br>Divergence: 15.0<extra></extra>",
          "<b>%{text}</b><br>Position: WR<br>ESPN Rank: %{x}<br>ADP Rank: %{y}<br>VBD Score: 13<br>Availability: 100.0%<br>Urgency Score: 0.0<br>Divergence: 0.0<extra></extra>",
          "<b>%{text}</b><br>Position: WR<br>ESPN Rank: %{x}<br>ADP Rank: %{y}<br>VBD Score: 13<br>Availability: 100.0%<br>Urgency Score: 0.0<br>Divergence: -12.0<extra></extra>",
          "<b>%{text}</b><br>Position: WR<br>ESPN Rank: %{x}<br>ADP Rank: %{y}<br>VBD Score: 12<br>Availability: 100.0%<br>Urgency Score: 0.0<br>Divergence: -16.0<extra></extra>",
          "<b>%{text}</b><br>Position: WR<br>ESPN Rank: %{x}<br>ADP Rank: %{y}<br>VBD Score: 11<br>Availability: 100.0%<br>Urgency Score: 0.0<br>Divergence: 3.0<extra></extra>",
          "<b>%{text}</b><br>Position: WR<br>ESPN Rank: %{x}<br>ADP Rank: %{y}<br>VBD Score: 10<br>Availability: 100.0%<br>Urgency Score: 0.0<br>Divergence: 8.0<extra></extra>",
          "<b>%{text}</b><br>Position: WR<br>ESPN Rank: %{x}<br>ADP Rank: %{y}<br>VBD Score: 10<br>Availability: 100.0%<br>Urgency Score: 0.0<br>Divergence: 8.0<extra></extra>",
          "<b>%{text}</b><br>Position: WR<br>ESPN Rank: %{x}<br>ADP Rank: %{y}<br>VBD Score: 10<br>Availability: 100.0%<br>Urgency Score: 0.0<br>Divergence: -5.0<extra></extra>",
          "<b>%{text}</b><br>Position: WR<br>ESPN Rank: %{x}<br>ADP Rank: %{y}<br>VBD Score: 10<br>Availability: 100.0%<br>Urgency Score: 0.0<br>Divergence: 5.0<extra></extra>",
          "<b>%{text}</b><br>Position: WR<br>ESPN Rank: %{x}<br>ADP Rank: %{y}<br>VBD Score: 9<br>Availability: 100.0%<br>Urgency Score: 0.0<br>Divergence: -7.0<extra></extra>",
          "<b>%{text}</b><br>Position: WR<br>ESPN Rank: %{x}<br>ADP Rank: %{y}<br>VBD Score: 9<br>Availability: 100.0%<br>Urgency Score: 0.0<br>Divergence: -15.0<extra></extra>",
          "<b>%{text}</b><br>Position: WR<br>ESPN Rank: %{x}<br>ADP Rank: %{y}<br>VBD Score: 9<br>Availability: 100.0%<br>Urgency Score: 0.0<br>Divergence: -20.0<extra></extra>",
          "<b>%{text}</b><br>Position: WR<br>ESPN Rank: %{x}<br>ADP Rank: %{y}<br>VBD Score: 7<br>Availability: 100.0%<br>Urgency Score: 0.0<br>Divergence: 9.0<extra></extra>",
          "<b>%{text}</b><br>Position: WR<br>ESPN Rank: %{x}<br>ADP Rank: %{y}<br>VBD Score: 7<br>Availability: 100.0%<br>Urgency Score: 0.0<br>Divergence: -6.0<extra></extra>",
          "<b>%{text}</b><br>Position: WR<br>ESPN Rank: %{x}<br>ADP Rank: %{y}<br>VBD Score: 7<br>Availability: 100.0%<br>Urgency Score: 0.0<br>Divergence: -4.0<extra></extra>",
          "<b>%{text}</b><br>Position: WR<br>ESPN Rank: %{x}<br>ADP Rank: %{y}<br>VBD Score: 6<br>Availability: 100.0%<br>Urgency Score: 0.0<br>Divergence: -3.0<extra></extra>",
          "<b>%{text}</b><br>Position: WR<br>ESPN Rank: %{x}<br>ADP Rank: %{y}<br>VBD Score: 5<br>Availability: 100.0%<br>Urgency Score: 0.0<br>Divergence: -18.0<extra></extra>",
          "<b>%{text}</b><br>Position: WR<br>ESPN Rank: %{x}<br>ADP Rank: %{y}<br>VBD Score: 5<br>Availability: 100.0%<br>Urgency Score: 0.0<br>Divergence: -11.0<extra></extra>",
          "<b>%{text}</b><br>Position: WR<br>ESPN Rank: %{x}<br>ADP Rank: %{y}<br>VBD Score: 5<br>Availability: 100.0%<br>Urgency Score: 0.0<br>Divergence: -14.0<extra></extra>",
          "<b>%{text}</b><br>Position: WR<br>ESPN Rank: %{x}<br>ADP Rank: %{y}<br>VBD Score: 5<br>Availability: 100.0%<br>Urgency Score: 0.0<br>Divergence: 2.0<extra></extra>",
          "<b>%{text}</b><br>Position: WR<br>ESPN Rank: %{x}<br>ADP Rank: %{y}<br>VBD Score: 4<br>Availability: 100.0%<br>Urgency Score: 0.0<br>Divergence: 0.0<extra></extra>",
          "<b>%{text}</b><br>Position: WR<br>ESPN Rank: %{x}<br>ADP Rank: %{y}<br>VBD Score: 4<br>Availability: 100.0%<br>Urgency Score: 0.0<br>Divergence: -4.0<extra></extra>",
          "<b>%{text}</b><br>Position: WR<br>ESPN Rank: %{x}<br>ADP Rank: %{y}<br>VBD Score: 2<br>Availability: 100.0%<br>Urgency Score: 0.0<br>Divergence: 11.0<extra></extra>",
          "<b>%{text}</b><br>Position: WR<br>ESPN Rank: %{x}<br>ADP Rank: %{y}<br>VBD Score: 2<br>Availability: 100.0%<br>Urgency Score: 0.0<br>Divergence: -25.0<extra></extra>",
          "<b>%{text}</b><br>Position: WR<br>ESPN Rank: %{x}<br>ADP Rank: %{y}<br>VBD Score: 2<br>Availability: 100.0%<br>Urgency Score: 0.0<br>Divergence: 3.0<extra></extra>",
          "<b>%{text}</b><br>Position: WR<br>ESPN Rank: %{x}<br>ADP Rank: %{y}<br>VBD Score: 2<br>Availability: 100.0%<br>Urgency Score: 0.0<br>Divergence: 5.0<extra></extra>",
          "<b>%{text}</b><br>Position: WR<br>ESPN Rank: %{x}<br>ADP Rank: %{y}<br>VBD Score: 2<br>Availability: 100.0%<br>Urgency Score: 0.0<br>Divergence: 7.0<extra></extra>",
          "<b>%{text}</b><br>Position: WR<br>ESPN Rank: %{x}<br>ADP Rank: %{y}<br>VBD Score: 2<br>Availability: 100.0%<br>Urgency Score: 0.0<br>Divergence: -1.0<extra></extra>",
          "<b>%{text}</b><br>Position: WR<br>ESPN Rank: %{x}<br>ADP Rank: %{y}<br>VBD Score: 2<br>Availability: 100.0%<br>Urgency Score: 0.0<br>Divergence: -15.0<extra></extra>",
          "<b>%{text}</b><br>Position: WR<br>ESPN Rank: %{x}<br>ADP Rank: %{y}<br>VBD Score: 2<br>Availability: 100.0%<br>Urgency Score: 0.0<br>Divergence: -14.0<extra></extra>",
          "<b>%{text}</b><br>Position: WR<br>ESPN Rank: %{x}<br>ADP Rank: %{y}<br>VBD Score: 2<br>Availability: 100.0%<br>Urgency Score: 0.0<br>Divergence: -53.0<extra></extra>",
          "<b>%{text}</b><br>Position: WR<br>ESPN Rank: %{x}<br>ADP Rank: %{y}<br>VBD Score: 2<br>Availability: 100.0%<br>Urgency Score: 0.0<br>Divergence: -1.0<extra></extra>",
          "<b>%{text}</b><br>Position: WR<br>ESPN Rank: %{x}<br>ADP Rank: %{y}<br>VBD Score: 2<br>Availability: 100.0%<br>Urgency Score: 0.0<br>Divergence: -33.0<extra></extra>",
          "<b>%{text}</b><br>Position: WR<br>ESPN Rank: %{x}<br>ADP Rank: %{y}<br>VBD Score: 2<br>Availability: 100.0%<br>Urgency Score: 0.0<br>Divergence: -13.0<extra></extra>",
          "<b>%{text}</b><br>Position: WR<br>ESPN Rank: %{x}<br>ADP Rank: %{y}<br>VBD Score: 2<br>Availability: 100.0%<br>Urgency Score: 0.0<br>Divergence: 3.0<extra></extra>",
          "<b>%{text}</b><br>Position: WR<br>ESPN Rank: %{x}<br>ADP Rank: %{y}<br>VBD Score: 1<br>Availability: 100.0%<br>Urgency Score: 0.0<br>Divergence: -40.0<extra></extra>",
          "<b>%{text}</b><br>Position: WR<br>ESPN Rank: %{x}<br>ADP Rank: %{y}<br>VBD Score: 1<br>Availability: 100.0%<br>Urgency Score: 0.0<br>Divergence: -36.0<extra></extra>",
          "<b>%{text}</b><br>Position: WR<br>ESPN Rank: %{x}<br>ADP Rank: %{y}<br>VBD Score: 1<br>Availability: 100.0%<br>Urgency Score: 0.0<br>Divergence: -33.0<extra></extra>",
          "<b>%{text}</b><br>Position: WR<br>ESPN Rank: %{x}<br>ADP Rank: %{y}<br>VBD Score: 1<br>Availability: 100.0%<br>Urgency Score: 0.0<br>Divergence: -50.0<extra></extra>",
          "<b>%{text}</b><br>Position: WR<br>ESPN Rank: %{x}<br>ADP Rank: %{y}<br>VBD Score: 1<br>Availability: 100.0%<br>Urgency Score: 0.0<br>Divergence: 25.0<extra></extra>",
          "<b>%{text}</b><br>Position: WR<br>ESPN Rank: %{x}<br>ADP Rank: %{y}<br>VBD Score: 1<br>Availability: 100.0%<br>Urgency Score: 0.0<br>Divergence: -25.0<extra></extra>",
          "<b>%{text}</b><br>Position: WR<br>ESPN Rank: %{x}<br>ADP Rank: %{y}<br>VBD Score: 1<br>Availability: 100.0%<br>Urgency Score: 0.0<br>Divergence: 19.0<extra></extra>",
          "<b>%{text}</b><br>Position: WR<br>ESPN Rank: %{x}<br>ADP Rank: %{y}<br>VBD Score: 1<br>Availability: 100.0%<br>Urgency Score: 0.0<br>Divergence: 8.0<extra></extra>",
          "<b>%{text}</b><br>Position: WR<br>ESPN Rank: %{x}<br>ADP Rank: %{y}<br>VBD Score: 1<br>Availability: 100.0%<br>Urgency Score: 0.0<br>Divergence: -10.0<extra></extra>",
          "<b>%{text}</b><br>Position: WR<br>ESPN Rank: %{x}<br>ADP Rank: %{y}<br>VBD Score: 1<br>Availability: 100.0%<br>Urgency Score: 0.0<br>Divergence: -28.0<extra></extra>",
          "<b>%{text}</b><br>Position: WR<br>ESPN Rank: %{x}<br>ADP Rank: %{y}<br>VBD Score: 1<br>Availability: 100.0%<br>Urgency Score: 0.0<br>Divergence: -50.0<extra></extra>",
          "<b>%{text}</b><br>Position: WR<br>ESPN Rank: %{x}<br>ADP Rank: %{y}<br>VBD Score: 1<br>Availability: 100.0%<br>Urgency Score: 0.0<br>Divergence: -5.0<extra></extra>",
          "<b>%{text}</b><br>Position: WR<br>ESPN Rank: %{x}<br>ADP Rank: %{y}<br>VBD Score: 1<br>Availability: 100.0%<br>Urgency Score: 0.0<br>Divergence: 19.0<extra></extra>",
          "<b>%{text}</b><br>Position: WR<br>ESPN Rank: %{x}<br>ADP Rank: %{y}<br>VBD Score: 0<br>Availability: 100.0%<br>Urgency Score: 0.0<br>Divergence: -75.0<extra></extra>",
          "<b>%{text}</b><br>Position: WR<br>ESPN Rank: %{x}<br>ADP Rank: %{y}<br>VBD Score: 0<br>Availability: 100.0%<br>Urgency Score: 0.0<br>Divergence: 12.0<extra></extra>",
          "<b>%{text}</b><br>Position: WR<br>ESPN Rank: %{x}<br>ADP Rank: %{y}<br>VBD Score: 0<br>Availability: 100.0%<br>Urgency Score: 0.0<br>Divergence: 27.0<extra></extra>",
          "<b>%{text}</b><br>Position: WR<br>ESPN Rank: %{x}<br>ADP Rank: %{y}<br>VBD Score: 0<br>Availability: 100.0%<br>Urgency Score: 0.0<br>Divergence: 8.0<extra></extra>",
          "<b>%{text}</b><br>Position: WR<br>ESPN Rank: %{x}<br>ADP Rank: %{y}<br>VBD Score: 0<br>Availability: 100.0%<br>Urgency Score: 0.0<br>Divergence: -60.0<extra></extra>",
          "<b>%{text}</b><br>Position: WR<br>ESPN Rank: %{x}<br>ADP Rank: %{y}<br>VBD Score: 0<br>Availability: 100.0%<br>Urgency Score: 0.0<br>Divergence: -50.0<extra></extra>",
          "<b>%{text}</b><br>Position: WR<br>ESPN Rank: %{x}<br>ADP Rank: %{y}<br>VBD Score: 0<br>Availability: 100.0%<br>Urgency Score: 0.0<br>Divergence: 12.0<extra></extra>",
          "<b>%{text}</b><br>Position: WR<br>ESPN Rank: %{x}<br>ADP Rank: %{y}<br>VBD Score: 0<br>Availability: 100.0%<br>Urgency Score: 0.0<br>Divergence: -93.0<extra></extra>",
          "<b>%{text}</b><br>Position: WR<br>ESPN Rank: %{x}<br>ADP Rank: %{y}<br>VBD Score: 0<br>Availability: 100.0%<br>Urgency Score: 0.0<br>Divergence: -98.0<extra></extra>",
          "<b>%{text}</b><br>Position: WR<br>ESPN Rank: %{x}<br>ADP Rank: %{y}<br>VBD Score: 0<br>Availability: 100.0%<br>Urgency Score: 0.0<br>Divergence: -40.0<extra></extra>",
          "<b>%{text}</b><br>Position: WR<br>ESPN Rank: %{x}<br>ADP Rank: %{y}<br>VBD Score: 0<br>Availability: 100.0%<br>Urgency Score: 0.0<br>Divergence: 41.0<extra></extra>",
          "<b>%{text}</b><br>Position: WR<br>ESPN Rank: %{x}<br>ADP Rank: %{y}<br>VBD Score: 0<br>Availability: 100.0%<br>Urgency Score: 0.0<br>Divergence: -7.0<extra></extra>",
          "<b>%{text}</b><br>Position: WR<br>ESPN Rank: %{x}<br>ADP Rank: %{y}<br>VBD Score: 0<br>Availability: 100.0%<br>Urgency Score: 0.0<br>Divergence: 16.0<extra></extra>",
          "<b>%{text}</b><br>Position: WR<br>ESPN Rank: %{x}<br>ADP Rank: %{y}<br>VBD Score: 0<br>Availability: 100.0%<br>Urgency Score: 0.0<br>Divergence: -33.0<extra></extra>",
          "<b>%{text}</b><br>Position: WR<br>ESPN Rank: %{x}<br>ADP Rank: %{y}<br>VBD Score: 0<br>Availability: 100.0%<br>Urgency Score: 0.0<br>Divergence: -40.0<extra></extra>",
          "<b>%{text}</b><br>Position: WR<br>ESPN Rank: %{x}<br>ADP Rank: %{y}<br>VBD Score: 0<br>Availability: 100.0%<br>Urgency Score: 0.0<br>Divergence: 58.0<extra></extra>"
         ],
         "marker": {
          "color": [
           0.9,
           0.5,
           0.3,
           0.5,
           0.5,
           0.5,
           0.5,
           0.9,
           0.9,
           0.9,
           0.9,
           0.9,
           0.9,
           0.9,
           0.9,
           0.9,
           0.9,
           0.9,
           0.9,
           0.9,
           0.9,
           0.9,
           0.9,
           0.9,
           0.9,
           0.9,
           0.9,
           0.9,
           0.9,
           0.9,
           0.9,
           0.9,
           0.9,
           0.9,
           0.9,
           0.9,
           0.9,
           0.9,
           0.9,
           0.9,
           0.9,
           0.9,
           0.9,
           0.9,
           0.9,
           0.9,
           0.9,
           0.9,
           0.9,
           0.9,
           0.9,
           0.9,
           0.9,
           0.9,
           0.9,
           0.9,
           0.9,
           0.9,
           0.9,
           0.9,
           0.9,
           0.9,
           0.9,
           0.9,
           0.9,
           0.9,
           0.9,
           0.9,
           0.9,
           0.9,
           0.9,
           0.9,
           0.9,
           0.9,
           0.9,
           0.9,
           0.9,
           0.9,
           0.9,
           0.9,
           0.9,
           0.9,
           0.9
          ],
          "colorscale": [
           [
            0.0,
            "darkred"
           ],
           [
            0.3,
            "red"
           ],
           [
            0.5,
            "orange"
           ],
           [
            0.8,
            "yellow"
           ],
           [
            1.0,
            "lightgreen"
           ]
          ],
          "line": {
           "color": "gold",
           "width": {
            "bdata": "AQEBAQEBAQEBAQEBAQEBAQEBAQEBAQEBAQEBAQEBAQEBAQEBAQEBAQEBAwEBAQEBAQMBAwEBAwMDAwMDAQEBAwMBAQMBAwEDAwEDAwMDAQEDAwM=",
            "dtype": "i1"
           }
          },
          "opacity": 0.8,
          "showscale": false,
          "size": {
           "bdata": "ugC0AK4AqwCoAKUAlgCQAI0AhwBvAGwAaQBpAFQAUQBRADwAPAA5ADYANgAzADAALQAtAC0ALQAqACoAKgAkACQAJAAhAB4AHgAeAB4AGwAbABUAFQAVABUAFQAVABUAFQAVABUAFQAVABUAEgASABIAEgASABIAEgASABIAEgASABIAEgAPAA8ADwAPAA8ADwAPAA8ADwAPAA8ADwAPAA8ADwAPAA==",
           "dtype": "i2"
          },
          "symbol": "square"
         },
         "mode": "markers+text",
         "name": "WR (83)",
         "text": [
          "",
          "Justin Jefferson",
          "CeeDee Lamb",
          "Puka Nacua",
          "Malik Nabers",
          "Amon-Ra St. Brown",
          "",
          "",
          "",
          "",
          "",
          "",
          "",
          "",
          "",
          "",
          "",
          "",
          "",
          "",
          "",
          "",
          "",
          "",
          "",
          "",
          "",
          "",
          "",
          "",
          "",
          "",
          "",
          "",
          "",
          "",
          "",
          "",
          "",
          "",
          "",
          "",
          "",
          "",
          "",
          "",
          "",
          "",
          "",
          "",
          "",
          "",
          "",
          "",
          "",
          "",
          "",
          "",
          "",
          "",
          "",
          "",
          "",
          "",
          "",
          "",
          "",
          "",
          "",
          "",
          "",
          "",
          "",
          "",
          "",
          "",
          "",
          "",
          "",
          "",
          "",
          "",
          ""
         ],
         "textfont": {
          "color": "black",
          "size": 9
         },
         "textposition": "top center",
         "type": "scatter",
         "x": {
          "bdata": "AQADAAYACAAJAAoADQAOAA8AEAAYABkAGgAbACIAIwAkAC4ALwAwADEAMgAzADUANgA3ADgAOQA6ADsAPABAAEEAQgBJAEoASwBMAE0ATgBPAGAAYQBiAGMAZABlAGYAawBsAG0AbgBvAHAAiACJAIoAiwCMAJgAmQCaAJsAnACdAJ4AnwCjAKQAwQDCAMUAyQDKAMsAzADNANAA0QDSANMA4AAFAQ==",
          "dtype": "i2"
         },
         "y": {
          "bdata": "AAAAAAAA8D8AAAAAAAAUQAAAAAAAABhAAAAAAAAAHEAAAAAAAAAgQAAAAAAAACJAAAAAAAAAKkAAAAAAAAAsQAAAAAAAADRAAAAAAAAAM0AAAAAAAABAQAAAAAAAADxAAAAAAAAARUAAAAAAAAA5QAAAAAAAgERAAAAAAAAARkAAAAAAAAA+QAAAAAAAAE5AAAAAAAAAQ0AAAAAAAIBAQAAAAAAAgEhAAAAAAAAAT0AAAAAAAMBQQAAAAAAAAElAAAAAAAAAR0AAAAAAAIBHQAAAAAAAgE5AAAAAAAAASkAAAAAAAEBQQAAAAAAAgFJAAAAAAAAAVEAAAAAAAIBLQAAAAAAAwFFAAAAAAACAUUAAAAAAAABTQAAAAAAAAFdAAAAAAACAVUAAAAAAAIBWQAAAAAAAwFJAAAAAAACAU0AAAAAAAMBUQAAAAAAAQFVAAAAAAACAXkAAAAAAAMBXQAAAAAAAgFdAAAAAAABAV0AAAAAAAIBZQAAAAAAAQF1AAAAAAABAXkAAAAAAACBkQAAAAAAAgFtAAAAAAADgYUAAAAAAAABfQAAAAAAAQFtAAAAAAAAAZkAAAAAAAKBlQAAAAAAAYGVAAAAAAACgZ0AAAAAAAMBcQAAAAAAAIGZAAAAAAADAYEAAAAAAAEBiQAAAAAAAoGRAAAAAAAAAZ0AAAAAAAOBpQAAAAAAAYGRAAAAAAACAYUAAAAAAAMBtQAAAAAAAAGNAAAAAAADAZEAAAAAAAEBnQAAAAAAAEHBAAAAAAABgb0AAAAAAAMBnQAAAAAAAgHJAAAAAAADgckAAAAAAAKBuQAAAAAAA4GRAAAAAAAAAa0AAAAAAAEBoQAAAAAAAgG5AAAAAAACAcEAAAAAAAGBpQA==",
          "dtype": "f8"
         }
        },
        {
         "hovertemplate": [
          "<b>%{text}</b><br>Position: QB<br>ESPN Rank: %{x}<br>ADP Rank: %{y}<br>VBD Score: 29<br>Availability: 98.5%<br>Urgency Score: 0.4<br>Divergence: 5.0<extra></extra>",
          "<b>%{text}</b><br>Position: QB<br>ESPN Rank: %{x}<br>ADP Rank: %{y}<br>VBD Score: 28<br>Availability: 98.8%<br>Urgency Score: 0.3<br>Divergence: 5.0<extra></extra>",
          "<b>%{text}</b><br>Position: QB<br>ESPN Rank: %{x}<br>ADP Rank: %{y}<br>VBD Score: 27<br>Availability: 99.2%<br>Urgency Score: 0.2<br>Divergence: 1.0<extra></extra>",
          "<b>%{text}</b><br>Position: QB<br>ESPN Rank: %{x}<br>ADP Rank: %{y}<br>VBD Score: 26<br>Availability: 99.5%<br>Urgency Score: 0.1<br>Divergence: -9.0<extra></extra>",
          "<b>%{text}</b><br>Position: QB<br>ESPN Rank: %{x}<br>ADP Rank: %{y}<br>VBD Score: 21<br>Availability: 99.9%<br>Urgency Score: 0.0<br>Divergence: 3.0<extra></extra>",
          "<b>%{text}</b><br>Position: QB<br>ESPN Rank: %{x}<br>ADP Rank: %{y}<br>VBD Score: 8<br>Availability: 100.0%<br>Urgency Score: 0.0<br>Divergence: 4.0<extra></extra>",
          "<b>%{text}</b><br>Position: QB<br>ESPN Rank: %{x}<br>ADP Rank: %{y}<br>VBD Score: 8<br>Availability: 100.0%<br>Urgency Score: 0.0<br>Divergence: -10.0<extra></extra>",
          "<b>%{text}</b><br>Position: QB<br>ESPN Rank: %{x}<br>ADP Rank: %{y}<br>VBD Score: 3<br>Availability: 100.0%<br>Urgency Score: 0.0<br>Divergence: 8.0<extra></extra>",
          "<b>%{text}</b><br>Position: QB<br>ESPN Rank: %{x}<br>ADP Rank: %{y}<br>VBD Score: 3<br>Availability: 100.0%<br>Urgency Score: 0.0<br>Divergence: -3.0<extra></extra>",
          "<b>%{text}</b><br>Position: QB<br>ESPN Rank: %{x}<br>ADP Rank: %{y}<br>VBD Score: 3<br>Availability: 100.0%<br>Urgency Score: 0.0<br>Divergence: -24.0<extra></extra>",
          "<b>%{text}</b><br>Position: QB<br>ESPN Rank: %{x}<br>ADP Rank: %{y}<br>VBD Score: 2<br>Availability: 100.0%<br>Urgency Score: 0.0<br>Divergence: -8.0<extra></extra>",
          "<b>%{text}</b><br>Position: QB<br>ESPN Rank: %{x}<br>ADP Rank: %{y}<br>VBD Score: 2<br>Availability: 100.0%<br>Urgency Score: 0.0<br>Divergence: -2.0<extra></extra>",
          "<b>%{text}</b><br>Position: QB<br>ESPN Rank: %{x}<br>ADP Rank: %{y}<br>VBD Score: 2<br>Availability: 100.0%<br>Urgency Score: 0.0<br>Divergence: 0.0<extra></extra>",
          "<b>%{text}</b><br>Position: QB<br>ESPN Rank: %{x}<br>ADP Rank: %{y}<br>VBD Score: 2<br>Availability: 100.0%<br>Urgency Score: 0.0<br>Divergence: -12.0<extra></extra>",
          "<b>%{text}</b><br>Position: QB<br>ESPN Rank: %{x}<br>ADP Rank: %{y}<br>VBD Score: 1<br>Availability: 100.0%<br>Urgency Score: 0.0<br>Divergence: -6.0<extra></extra>",
          "<b>%{text}</b><br>Position: QB<br>ESPN Rank: %{x}<br>ADP Rank: %{y}<br>VBD Score: 1<br>Availability: 100.0%<br>Urgency Score: 0.0<br>Divergence: -7.0<extra></extra>",
          "<b>%{text}</b><br>Position: QB<br>ESPN Rank: %{x}<br>ADP Rank: %{y}<br>VBD Score: 1<br>Availability: 100.0%<br>Urgency Score: 0.0<br>Divergence: 26.0<extra></extra>",
          "<b>%{text}</b><br>Position: QB<br>ESPN Rank: %{x}<br>ADP Rank: %{y}<br>VBD Score: 1<br>Availability: 100.0%<br>Urgency Score: 0.0<br>Divergence: -9.0<extra></extra>",
          "<b>%{text}</b><br>Position: QB<br>ESPN Rank: %{x}<br>ADP Rank: %{y}<br>VBD Score: 1<br>Availability: 100.0%<br>Urgency Score: 0.0<br>Divergence: -6.0<extra></extra>",
          "<b>%{text}</b><br>Position: QB<br>ESPN Rank: %{x}<br>ADP Rank: %{y}<br>VBD Score: 1<br>Availability: 100.0%<br>Urgency Score: 0.0<br>Divergence: -20.0<extra></extra>",
          "<b>%{text}</b><br>Position: QB<br>ESPN Rank: %{x}<br>ADP Rank: %{y}<br>VBD Score: 1<br>Availability: 100.0%<br>Urgency Score: 0.0<br>Divergence: 15.0<extra></extra>",
          "<b>%{text}</b><br>Position: QB<br>ESPN Rank: %{x}<br>ADP Rank: %{y}<br>VBD Score: 0<br>Availability: 100.0%<br>Urgency Score: 0.0<br>Divergence: 53.0<extra></extra>",
          "<b>%{text}</b><br>Position: QB<br>ESPN Rank: %{x}<br>ADP Rank: %{y}<br>VBD Score: 0<br>Availability: 100.0%<br>Urgency Score: 0.0<br>Divergence: 37.0<extra></extra>",
          "<b>%{text}</b><br>Position: QB<br>ESPN Rank: %{x}<br>ADP Rank: %{y}<br>VBD Score: 0<br>Availability: 100.0%<br>Urgency Score: 0.0<br>Divergence: 42.0<extra></extra>",
          "<b>%{text}</b><br>Position: QB<br>ESPN Rank: %{x}<br>ADP Rank: %{y}<br>VBD Score: 0<br>Availability: 100.0%<br>Urgency Score: 0.0<br>Divergence: 58.0<extra></extra>",
          "<b>%{text}</b><br>Position: QB<br>ESPN Rank: %{x}<br>ADP Rank: %{y}<br>VBD Score: 0<br>Availability: 100.0%<br>Urgency Score: 0.0<br>Divergence: 47.0<extra></extra>",
          "<b>%{text}</b><br>Position: QB<br>ESPN Rank: %{x}<br>ADP Rank: %{y}<br>VBD Score: 0<br>Availability: 100.0%<br>Urgency Score: 0.0<br>Divergence: -50.0<extra></extra>",
          "<b>%{text}</b><br>Position: QB<br>ESPN Rank: %{x}<br>ADP Rank: %{y}<br>VBD Score: 0<br>Availability: 100.0%<br>Urgency Score: 0.0<br>Divergence: 92.0<extra></extra>",
          "<b>%{text}</b><br>Position: QB<br>ESPN Rank: %{x}<br>ADP Rank: %{y}<br>VBD Score: 0<br>Availability: 100.0%<br>Urgency Score: 0.0<br>Divergence: 86.0<extra></extra>",
          "<b>%{text}</b><br>Position: QB<br>ESPN Rank: %{x}<br>ADP Rank: %{y}<br>VBD Score: 0<br>Availability: 100.0%<br>Urgency Score: 0.0<br>Divergence: 67.0<extra></extra>",
          "<b>%{text}</b><br>Position: QB<br>ESPN Rank: %{x}<br>ADP Rank: %{y}<br>VBD Score: 0<br>Availability: 100.0%<br>Urgency Score: 0.0<br>Divergence: 53.0<extra></extra>",
          "<b>%{text}</b><br>Position: QB<br>ESPN Rank: %{x}<br>ADP Rank: %{y}<br>VBD Score: 0<br>Availability: 100.0%<br>Urgency Score: 0.0<br>Divergence: 74.0<extra></extra>"
         ],
         "marker": {
          "color": [
           0.9,
           0.9,
           0.9,
           0.9,
           0.9,
           0.9,
           0.9,
           0.9,
           0.9,
           0.9,
           0.9,
           0.9,
           0.9,
           0.9,
           0.9,
           0.9,
           0.9,
           0.9,
           0.9,
           0.9,
           0.9,
           0.9,
           0.9,
           0.9,
           0.9,
           0.9,
           0.9,
           0.9,
           0.9,
           0.9,
           0.9,
           0.9
          ],
          "colorscale": [
           [
            0.0,
            "darkred"
           ],
           [
            0.3,
            "red"
           ],
           [
            0.5,
            "orange"
           ],
           [
            0.8,
            "yellow"
           ],
           [
            1.0,
            "lightgreen"
           ]
          ],
          "line": {
           "color": "gold",
           "width": {
            "bdata": "AQEBAQEBAQEBAwEBAQEBAQMBAQEBAwMDAwMDAwMDAwM=",
            "dtype": "i1"
           }
          },
          "opacity": 0.8,
          "showscale": false,
          "size": {
           "bdata": "ZmNgXU4nJxgYGBUVFRUSEhISEhISDw8PDw8PDw8PDw8=",
           "dtype": "i1"
          },
          "symbol": "triangle-up"
         },
         "mode": "markers+text",
         "name": "QB (32)",
         "text": [
          "",
          "",
          "",
          "",
          "",
          "",
          "",
          "",
          "",
          "",
          "",
          "",
          "",
          "",
          "",
          "",
          "",
          "",
          "",
          "",
          "",
          "",
          "",
          "",
          "",
          "",
          "",
          "",
          "",
          "",
          "",
          ""
         ],
         "textfont": {
          "color": "black",
          "size": 9
         },
         "textposition": "top center",
         "type": "scatter",
         "x": {
          "bdata": "HAAdAB4AHwAnAD4APwBXAFgAWQBnAGgAaQBqAHkAegB7AHwAjwCQAJEAxgDHAMgA2gDbANwACwEMAQ0BDgEoAQ==",
          "dtype": "i2"
         },
         "y": {
          "bdata": "AAAAAAAAN0AAAAAAAAA4QAAAAAAAAD1AAAAAAAAAREAAAAAAAABCQAAAAAAAAE1AAAAAAABAUkAAAAAAAMBTQAAAAAAAwFZAAAAAAABAXEAAAAAAAMBbQAAAAAAAgFpAAAAAAABAWkAAAAAAAIBdQAAAAAAAwF9AAAAAAAAgYEAAAAAAAEBYQAAAAAAAoGBAAAAAAACgYkAAAAAAAIBkQAAAAAAAQGBAAAAAAAAgYkAAAAAAAEBkQAAAAAAAwGNAAAAAAAAAZEAAAAAAAIBlQAAAAAAA4HBAAAAAAADgZUAAAAAAAMBmQAAAAAAAQGlAAAAAAAAga0AAAAAAAMBrQA==",
          "dtype": "f8"
         }
        },
        {
         "hovertemplate": [
          "<b>%{text}</b><br>Position: TE<br>ESPN Rank: %{x}<br>ADP Rank: %{y}<br>VBD Score: 35<br>Availability: 93.3%<br>Urgency Score: 2.4<br>Divergence: 4.0<extra></extra>",
          "<b>%{text}</b><br>Position: TE<br>ESPN Rank: %{x}<br>ADP Rank: %{y}<br>VBD Score: 34<br>Availability: 96.1%<br>Urgency Score: 1.3<br>Divergence: -5.0<extra></extra>",
          "<b>%{text}</b><br>Position: TE<br>ESPN Rank: %{x}<br>ADP Rank: %{y}<br>VBD Score: 20<br>Availability: 99.9%<br>Urgency Score: 0.0<br>Divergence: 1.0<extra></extra>",
          "<b>%{text}</b><br>Position: TE<br>ESPN Rank: %{x}<br>ADP Rank: %{y}<br>VBD Score: 8<br>Availability: 100.0%<br>Urgency Score: 0.0<br>Divergence: 7.0<extra></extra>",
          "<b>%{text}</b><br>Position: TE<br>ESPN Rank: %{x}<br>ADP Rank: %{y}<br>VBD Score: 6<br>Availability: 100.0%<br>Urgency Score: 0.0<br>Divergence: 3.0<extra></extra>",
          "<b>%{text}</b><br>Position: TE<br>ESPN Rank: %{x}<br>ADP Rank: %{y}<br>VBD Score: 4<br>Availability: 100.0%<br>Urgency Score: 0.0<br>Divergence: -1.0<extra></extra>",
          "<b>%{text}</b><br>Position: TE<br>ESPN Rank: %{x}<br>ADP Rank: %{y}<br>VBD Score: 4<br>Availability: 100.0%<br>Urgency Score: 0.0<br>Divergence: 12.0<extra></extra>",
          "<b>%{text}</b><br>Position: TE<br>ESPN Rank: %{x}<br>ADP Rank: %{y}<br>VBD Score: 4<br>Availability: 100.0%<br>Urgency Score: 0.0<br>Divergence: -15.0<extra></extra>",
          "<b>%{text}</b><br>Position: TE<br>ESPN Rank: %{x}<br>ADP Rank: %{y}<br>VBD Score: 4<br>Availability: 100.0%<br>Urgency Score: 0.0<br>Divergence: -33.0<extra></extra>",
          "<b>%{text}</b><br>Position: TE<br>ESPN Rank: %{x}<br>ADP Rank: %{y}<br>VBD Score: 2<br>Availability: 100.0%<br>Urgency Score: 0.0<br>Divergence: 26.0<extra></extra>",
          "<b>%{text}</b><br>Position: TE<br>ESPN Rank: %{x}<br>ADP Rank: %{y}<br>VBD Score: 1<br>Availability: 100.0%<br>Urgency Score: 0.0<br>Divergence: 13.0<extra></extra>",
          "<b>%{text}</b><br>Position: TE<br>ESPN Rank: %{x}<br>ADP Rank: %{y}<br>VBD Score: 1<br>Availability: 100.0%<br>Urgency Score: 0.0<br>Divergence: 22.0<extra></extra>",
          "<b>%{text}</b><br>Position: TE<br>ESPN Rank: %{x}<br>ADP Rank: %{y}<br>VBD Score: 1<br>Availability: 100.0%<br>Urgency Score: 0.0<br>Divergence: -50.0<extra></extra>",
          "<b>%{text}</b><br>Position: TE<br>ESPN Rank: %{x}<br>ADP Rank: %{y}<br>VBD Score: 1<br>Availability: 100.0%<br>Urgency Score: 0.0<br>Divergence: -11.0<extra></extra>",
          "<b>%{text}</b><br>Position: TE<br>ESPN Rank: %{x}<br>ADP Rank: %{y}<br>VBD Score: 1<br>Availability: 100.0%<br>Urgency Score: 0.0<br>Divergence: 1.0<extra></extra>",
          "<b>%{text}</b><br>Position: TE<br>ESPN Rank: %{x}<br>ADP Rank: %{y}<br>VBD Score: 1<br>Availability: 100.0%<br>Urgency Score: 0.0<br>Divergence: -10.0<extra></extra>",
          "<b>%{text}</b><br>Position: TE<br>ESPN Rank: %{x}<br>ADP Rank: %{y}<br>VBD Score: 1<br>Availability: 100.0%<br>Urgency Score: 0.0<br>Divergence: 19.0<extra></extra>",
          "<b>%{text}</b><br>Position: TE<br>ESPN Rank: %{x}<br>ADP Rank: %{y}<br>VBD Score: 0<br>Availability: 100.0%<br>Urgency Score: 0.0<br>Divergence: -55.0<extra></extra>",
          "<b>%{text}</b><br>Position: TE<br>ESPN Rank: %{x}<br>ADP Rank: %{y}<br>VBD Score: 0<br>Availability: 100.0%<br>Urgency Score: 0.0<br>Divergence: -50.0<extra></extra>",
          "<b>%{text}</b><br>Position: TE<br>ESPN Rank: %{x}<br>ADP Rank: %{y}<br>VBD Score: 0<br>Availability: 100.0%<br>Urgency Score: 0.0<br>Divergence: 12.0<extra></extra>",
          "<b>%{text}</b><br>Position: TE<br>ESPN Rank: %{x}<br>ADP Rank: %{y}<br>VBD Score: 0<br>Availability: 100.0%<br>Urgency Score: 0.0<br>Divergence: -6.0<extra></extra>",
          "<b>%{text}</b><br>Position: TE<br>ESPN Rank: %{x}<br>ADP Rank: %{y}<br>VBD Score: 0<br>Availability: 100.0%<br>Urgency Score: 0.0<br>Divergence: 92.0<extra></extra>",
          "<b>%{text}</b><br>Position: TE<br>ESPN Rank: %{x}<br>ADP Rank: %{y}<br>VBD Score: 0<br>Availability: 100.0%<br>Urgency Score: 0.0<br>Divergence: 39.0<extra></extra>",
          "<b>%{text}</b><br>Position: TE<br>ESPN Rank: %{x}<br>ADP Rank: %{y}<br>VBD Score: 0<br>Availability: 100.0%<br>Urgency Score: 0.0<br>Divergence: 37.0<extra></extra>",
          "<b>%{text}</b><br>Position: TE<br>ESPN Rank: %{x}<br>ADP Rank: %{y}<br>VBD Score: 0<br>Availability: 100.0%<br>Urgency Score: 0.0<br>Divergence: 25.0<extra></extra>",
          "<b>%{text}</b><br>Position: TE<br>ESPN Rank: %{x}<br>ADP Rank: %{y}<br>VBD Score: 0<br>Availability: 100.0%<br>Urgency Score: 0.0<br>Divergence: 2.0<extra></extra>",
          "<b>%{text}</b><br>Position: TE<br>ESPN Rank: %{x}<br>ADP Rank: %{y}<br>VBD Score: 0<br>Availability: 100.0%<br>Urgency Score: 0.0<br>Divergence: 89.0<extra></extra>",
          "<b>%{text}</b><br>Position: TE<br>ESPN Rank: %{x}<br>ADP Rank: %{y}<br>VBD Score: 0<br>Availability: 100.0%<br>Urgency Score: 0.0<br>Divergence: 59.0<extra></extra>",
          "<b>%{text}</b><br>Position: TE<br>ESPN Rank: %{x}<br>ADP Rank: %{y}<br>VBD Score: 0<br>Availability: 100.0%<br>Urgency Score: 0.0<br>Divergence: 67.0<extra></extra>",
          "<b>%{text}</b><br>Position: TE<br>ESPN Rank: %{x}<br>ADP Rank: %{y}<br>VBD Score: 0<br>Availability: 100.0%<br>Urgency Score: 0.0<br>Divergence: 73.0<extra></extra>"
         ],
         "marker": {
          "color": [
           0.9,
           0.9,
           0.9,
           0.9,
           0.9,
           0.9,
           0.9,
           0.9,
           0.9,
           0.9,
           0.9,
           0.9,
           0.9,
           0.9,
           0.9,
           0.9,
           0.9,
           0.9,
           0.9,
           0.9,
           0.9,
           0.9,
           0.9,
           0.9,
           0.9,
           0.9,
           0.9,
           0.9,
           0.9,
           0.9
          ],
          "colorscale": [
           [
            0.0,
            "darkred"
           ],
           [
            0.3,
            "red"
           ],
           [
            0.5,
            "orange"
           ],
           [
            0.8,
            "yellow"
           ],
           [
            1.0,
            "lightgreen"
           ]
          ],
          "line": {
           "color": "gold",
           "width": {
            "bdata": "AQEBAQEBAQEDAwEDAwEBAQEDAwEBAwMDAwEDAwMD",
            "dtype": "i1"
           }
          },
          "opacity": 0.8,
          "showscale": false,
          "size": {
           "bdata": "eHVLJyEbGxsbFRISEhISEhIPDw8PDw8PDw8PDw8P",
           "dtype": "i1"
          },
          "symbol": "diamond"
         },
         "mode": "markers+text",
         "name": "TE (30)",
         "text": [
          "",
          "",
          "",
          "",
          "",
          "",
          "",
          "",
          "",
          "",
          "",
          "",
          "",
          "",
          "",
          "",
          "",
          "",
          "",
          "",
          "",
          "",
          "",
          "",
          "",
          "",
          "",
          "",
          "",
          ""
         ],
         "textfont": {
          "color": "black",
          "size": 9
         },
         "textposition": "top center",
         "type": "scatter",
         "x": {
          "bdata": "FAAVACgAPQBFAFMAVABVAFYAcQB9AH4AfwCAAIEAjQCOAKUApgCnAKgAzgDPANcA2ADZAAIBAwEEASQB",
          "dtype": "i2"
         },
         "y": {
          "bdata": "AAAAAAAAMEAAAAAAAAA6QAAAAAAAgENAAAAAAAAAS0AAAAAAAIBQQAAAAAAAAFVAAAAAAAAAUkAAAAAAAABZQAAAAAAAwF1AAAAAAADAVUAAAAAAAABcQAAAAAAAAFpAAAAAAAAgZkAAAAAAAGBhQAAAAAAAAGBAAAAAAADgYkAAAAAAAMBeQAAAAAAAgGtAAAAAAAAAa0AAAAAAAGBjQAAAAAAAwGVAAAAAAACAXEAAAAAAAABlQAAAAAAAQGZAAAAAAADgZ0AAAAAAAOBqQAAAAAAAIGVAAAAAAAAAaUAAAAAAACBoQAAAAAAAYGtA",
          "dtype": "f8"
         }
        },
        {
         "hoverinfo": "skip",
         "line": {
          "color": "gray",
          "dash": "dash",
          "width": 2
         },
         "mode": "lines",
         "name": "Perfect Agreement",
         "type": "scatter",
         "x": [
          1,
          225
         ],
         "y": [
          1,
          225
         ]
        }
       ],
       "layout": {
        "annotations": [
         {
          "bgcolor": "white",
          "bordercolor": "black",
          "borderwidth": 1,
          "font": {
           "size": 10
          },
          "showarrow": false,
          "text": "🔴 Large Dark Bubbles = High Value + Critical Urgency<br>🟡 Medium Orange Bubbles = Decision Zone<br>🟢 Small Light Bubbles = Safe to Wait<br>💰 Gold Border = Big Rank Disagreement",
          "x": 0.02,
          "xref": "paper",
          "y": 0.98,
          "yref": "paper"
         }
        ],
        "font": {
         "size": 11
        },
        "height": 700,
        "legend": {
         "x": 0.02,
         "y": 0.02
        },
        "template": {
         "data": {
          "bar": [
           {
            "error_x": {
             "color": "#2a3f5f"
            },
            "error_y": {
             "color": "#2a3f5f"
            },
            "marker": {
             "line": {
              "color": "#E5ECF6",
              "width": 0.5
             },
             "pattern": {
              "fillmode": "overlay",
              "size": 10,
              "solidity": 0.2
             }
            },
            "type": "bar"
           }
          ],
          "barpolar": [
           {
            "marker": {
             "line": {
              "color": "#E5ECF6",
              "width": 0.5
             },
             "pattern": {
              "fillmode": "overlay",
              "size": 10,
              "solidity": 0.2
             }
            },
            "type": "barpolar"
           }
          ],
          "carpet": [
           {
            "aaxis": {
             "endlinecolor": "#2a3f5f",
             "gridcolor": "white",
             "linecolor": "white",
             "minorgridcolor": "white",
             "startlinecolor": "#2a3f5f"
            },
            "baxis": {
             "endlinecolor": "#2a3f5f",
             "gridcolor": "white",
             "linecolor": "white",
             "minorgridcolor": "white",
             "startlinecolor": "#2a3f5f"
            },
            "type": "carpet"
           }
          ],
          "choropleth": [
           {
            "colorbar": {
             "outlinewidth": 0,
             "ticks": ""
            },
            "type": "choropleth"
           }
          ],
          "contour": [
           {
            "colorbar": {
             "outlinewidth": 0,
             "ticks": ""
            },
            "colorscale": [
             [
              0.0,
              "#0d0887"
             ],
             [
              0.1111111111111111,
              "#46039f"
             ],
             [
              0.2222222222222222,
              "#7201a8"
             ],
             [
              0.3333333333333333,
              "#9c179e"
             ],
             [
              0.4444444444444444,
              "#bd3786"
             ],
             [
              0.5555555555555556,
              "#d8576b"
             ],
             [
              0.6666666666666666,
              "#ed7953"
             ],
             [
              0.7777777777777778,
              "#fb9f3a"
             ],
             [
              0.8888888888888888,
              "#fdca26"
             ],
             [
              1.0,
              "#f0f921"
             ]
            ],
            "type": "contour"
           }
          ],
          "contourcarpet": [
           {
            "colorbar": {
             "outlinewidth": 0,
             "ticks": ""
            },
            "type": "contourcarpet"
           }
          ],
          "heatmap": [
           {
            "colorbar": {
             "outlinewidth": 0,
             "ticks": ""
            },
            "colorscale": [
             [
              0.0,
              "#0d0887"
             ],
             [
              0.1111111111111111,
              "#46039f"
             ],
             [
              0.2222222222222222,
              "#7201a8"
             ],
             [
              0.3333333333333333,
              "#9c179e"
             ],
             [
              0.4444444444444444,
              "#bd3786"
             ],
             [
              0.5555555555555556,
              "#d8576b"
             ],
             [
              0.6666666666666666,
              "#ed7953"
             ],
             [
              0.7777777777777778,
              "#fb9f3a"
             ],
             [
              0.8888888888888888,
              "#fdca26"
             ],
             [
              1.0,
              "#f0f921"
             ]
            ],
            "type": "heatmap"
           }
          ],
          "histogram": [
           {
            "marker": {
             "pattern": {
              "fillmode": "overlay",
              "size": 10,
              "solidity": 0.2
             }
            },
            "type": "histogram"
           }
          ],
          "histogram2d": [
           {
            "colorbar": {
             "outlinewidth": 0,
             "ticks": ""
            },
            "colorscale": [
             [
              0.0,
              "#0d0887"
             ],
             [
              0.1111111111111111,
              "#46039f"
             ],
             [
              0.2222222222222222,
              "#7201a8"
             ],
             [
              0.3333333333333333,
              "#9c179e"
             ],
             [
              0.4444444444444444,
              "#bd3786"
             ],
             [
              0.5555555555555556,
              "#d8576b"
             ],
             [
              0.6666666666666666,
              "#ed7953"
             ],
             [
              0.7777777777777778,
              "#fb9f3a"
             ],
             [
              0.8888888888888888,
              "#fdca26"
             ],
             [
              1.0,
              "#f0f921"
             ]
            ],
            "type": "histogram2d"
           }
          ],
          "histogram2dcontour": [
           {
            "colorbar": {
             "outlinewidth": 0,
             "ticks": ""
            },
            "colorscale": [
             [
              0.0,
              "#0d0887"
             ],
             [
              0.1111111111111111,
              "#46039f"
             ],
             [
              0.2222222222222222,
              "#7201a8"
             ],
             [
              0.3333333333333333,
              "#9c179e"
             ],
             [
              0.4444444444444444,
              "#bd3786"
             ],
             [
              0.5555555555555556,
              "#d8576b"
             ],
             [
              0.6666666666666666,
              "#ed7953"
             ],
             [
              0.7777777777777778,
              "#fb9f3a"
             ],
             [
              0.8888888888888888,
              "#fdca26"
             ],
             [
              1.0,
              "#f0f921"
             ]
            ],
            "type": "histogram2dcontour"
           }
          ],
          "mesh3d": [
           {
            "colorbar": {
             "outlinewidth": 0,
             "ticks": ""
            },
            "type": "mesh3d"
           }
          ],
          "parcoords": [
           {
            "line": {
             "colorbar": {
              "outlinewidth": 0,
              "ticks": ""
             }
            },
            "type": "parcoords"
           }
          ],
          "pie": [
           {
            "automargin": true,
            "type": "pie"
           }
          ],
          "scatter": [
           {
            "fillpattern": {
             "fillmode": "overlay",
             "size": 10,
             "solidity": 0.2
            },
            "type": "scatter"
           }
          ],
          "scatter3d": [
           {
            "line": {
             "colorbar": {
              "outlinewidth": 0,
              "ticks": ""
             }
            },
            "marker": {
             "colorbar": {
              "outlinewidth": 0,
              "ticks": ""
             }
            },
            "type": "scatter3d"
           }
          ],
          "scattercarpet": [
           {
            "marker": {
             "colorbar": {
              "outlinewidth": 0,
              "ticks": ""
             }
            },
            "type": "scattercarpet"
           }
          ],
          "scattergeo": [
           {
            "marker": {
             "colorbar": {
              "outlinewidth": 0,
              "ticks": ""
             }
            },
            "type": "scattergeo"
           }
          ],
          "scattergl": [
           {
            "marker": {
             "colorbar": {
              "outlinewidth": 0,
              "ticks": ""
             }
            },
            "type": "scattergl"
           }
          ],
          "scattermap": [
           {
            "marker": {
             "colorbar": {
              "outlinewidth": 0,
              "ticks": ""
             }
            },
            "type": "scattermap"
           }
          ],
          "scattermapbox": [
           {
            "marker": {
             "colorbar": {
              "outlinewidth": 0,
              "ticks": ""
             }
            },
            "type": "scattermapbox"
           }
          ],
          "scatterpolar": [
           {
            "marker": {
             "colorbar": {
              "outlinewidth": 0,
              "ticks": ""
             }
            },
            "type": "scatterpolar"
           }
          ],
          "scatterpolargl": [
           {
            "marker": {
             "colorbar": {
              "outlinewidth": 0,
              "ticks": ""
             }
            },
            "type": "scatterpolargl"
           }
          ],
          "scatterternary": [
           {
            "marker": {
             "colorbar": {
              "outlinewidth": 0,
              "ticks": ""
             }
            },
            "type": "scatterternary"
           }
          ],
          "surface": [
           {
            "colorbar": {
             "outlinewidth": 0,
             "ticks": ""
            },
            "colorscale": [
             [
              0.0,
              "#0d0887"
             ],
             [
              0.1111111111111111,
              "#46039f"
             ],
             [
              0.2222222222222222,
              "#7201a8"
             ],
             [
              0.3333333333333333,
              "#9c179e"
             ],
             [
              0.4444444444444444,
              "#bd3786"
             ],
             [
              0.5555555555555556,
              "#d8576b"
             ],
             [
              0.6666666666666666,
              "#ed7953"
             ],
             [
              0.7777777777777778,
              "#fb9f3a"
             ],
             [
              0.8888888888888888,
              "#fdca26"
             ],
             [
              1.0,
              "#f0f921"
             ]
            ],
            "type": "surface"
           }
          ],
          "table": [
           {
            "cells": {
             "fill": {
              "color": "#EBF0F8"
             },
             "line": {
              "color": "white"
             }
            },
            "header": {
             "fill": {
              "color": "#C8D4E3"
             },
             "line": {
              "color": "white"
             }
            },
            "type": "table"
           }
          ]
         },
         "layout": {
          "annotationdefaults": {
           "arrowcolor": "#2a3f5f",
           "arrowhead": 0,
           "arrowwidth": 1
          },
          "autotypenumbers": "strict",
          "coloraxis": {
           "colorbar": {
            "outlinewidth": 0,
            "ticks": ""
           }
          },
          "colorscale": {
           "diverging": [
            [
             0,
             "#8e0152"
            ],
            [
             0.1,
             "#c51b7d"
            ],
            [
             0.2,
             "#de77ae"
            ],
            [
             0.3,
             "#f1b6da"
            ],
            [
             0.4,
             "#fde0ef"
            ],
            [
             0.5,
             "#f7f7f7"
            ],
            [
             0.6,
             "#e6f5d0"
            ],
            [
             0.7,
             "#b8e186"
            ],
            [
             0.8,
             "#7fbc41"
            ],
            [
             0.9,
             "#4d9221"
            ],
            [
             1,
             "#276419"
            ]
           ],
           "sequential": [
            [
             0.0,
             "#0d0887"
            ],
            [
             0.1111111111111111,
             "#46039f"
            ],
            [
             0.2222222222222222,
             "#7201a8"
            ],
            [
             0.3333333333333333,
             "#9c179e"
            ],
            [
             0.4444444444444444,
             "#bd3786"
            ],
            [
             0.5555555555555556,
             "#d8576b"
            ],
            [
             0.6666666666666666,
             "#ed7953"
            ],
            [
             0.7777777777777778,
             "#fb9f3a"
            ],
            [
             0.8888888888888888,
             "#fdca26"
            ],
            [
             1.0,
             "#f0f921"
            ]
           ],
           "sequentialminus": [
            [
             0.0,
             "#0d0887"
            ],
            [
             0.1111111111111111,
             "#46039f"
            ],
            [
             0.2222222222222222,
             "#7201a8"
            ],
            [
             0.3333333333333333,
             "#9c179e"
            ],
            [
             0.4444444444444444,
             "#bd3786"
            ],
            [
             0.5555555555555556,
             "#d8576b"
            ],
            [
             0.6666666666666666,
             "#ed7953"
            ],
            [
             0.7777777777777778,
             "#fb9f3a"
            ],
            [
             0.8888888888888888,
             "#fdca26"
            ],
            [
             1.0,
             "#f0f921"
            ]
           ]
          },
          "colorway": [
           "#636efa",
           "#EF553B",
           "#00cc96",
           "#ab63fa",
           "#FFA15A",
           "#19d3f3",
           "#FF6692",
           "#B6E880",
           "#FF97FF",
           "#FECB52"
          ],
          "font": {
           "color": "#2a3f5f"
          },
          "geo": {
           "bgcolor": "white",
           "lakecolor": "white",
           "landcolor": "#E5ECF6",
           "showlakes": true,
           "showland": true,
           "subunitcolor": "white"
          },
          "hoverlabel": {
           "align": "left"
          },
          "hovermode": "closest",
          "mapbox": {
           "style": "light"
          },
          "paper_bgcolor": "white",
          "plot_bgcolor": "#E5ECF6",
          "polar": {
           "angularaxis": {
            "gridcolor": "white",
            "linecolor": "white",
            "ticks": ""
           },
           "bgcolor": "#E5ECF6",
           "radialaxis": {
            "gridcolor": "white",
            "linecolor": "white",
            "ticks": ""
           }
          },
          "scene": {
           "xaxis": {
            "backgroundcolor": "#E5ECF6",
            "gridcolor": "white",
            "gridwidth": 2,
            "linecolor": "white",
            "showbackground": true,
            "ticks": "",
            "zerolinecolor": "white"
           },
           "yaxis": {
            "backgroundcolor": "#E5ECF6",
            "gridcolor": "white",
            "gridwidth": 2,
            "linecolor": "white",
            "showbackground": true,
            "ticks": "",
            "zerolinecolor": "white"
           },
           "zaxis": {
            "backgroundcolor": "#E5ECF6",
            "gridcolor": "white",
            "gridwidth": 2,
            "linecolor": "white",
            "showbackground": true,
            "ticks": "",
            "zerolinecolor": "white"
           }
          },
          "shapedefaults": {
           "line": {
            "color": "#2a3f5f"
           }
          },
          "ternary": {
           "aaxis": {
            "gridcolor": "white",
            "linecolor": "white",
            "ticks": ""
           },
           "baxis": {
            "gridcolor": "white",
            "linecolor": "white",
            "ticks": ""
           },
           "bgcolor": "#E5ECF6",
           "caxis": {
            "gridcolor": "white",
            "linecolor": "white",
            "ticks": ""
           }
          },
          "title": {
           "x": 0.05
          },
          "xaxis": {
           "automargin": true,
           "gridcolor": "white",
           "linecolor": "white",
           "ticks": "",
           "title": {
            "standoff": 15
           },
           "zerolinecolor": "white",
           "zerolinewidth": 2
          },
          "yaxis": {
           "automargin": true,
           "gridcolor": "white",
           "linecolor": "white",
           "ticks": "",
           "title": {
            "standoff": 15
           },
           "zerolinecolor": "white",
           "zerolinewidth": 2
          }
         }
        },
        "title": {
         "text": "Value-Urgency Analysis: ESPN vs ADP Rankings (Top 10 Urgent Players Labeled)"
        },
        "width": 900,
        "xaxis": {
         "constrain": "domain",
         "range": [
          0,
          230
         ],
         "title": {
          "text": "ESPN Rank (Lower = Better)"
         }
        },
        "yaxis": {
         "constrain": "domain",
         "range": [
          0,
          230
         ],
         "title": {
          "text": "ADP Rank (Lower = Better)"
         }
        }
       }
      }
     },
     "metadata": {},
     "output_type": "display_data"
    },
    {
     "name": "stdout",
     "output_type": "stream",
     "text": [
      "\n",
      "📊 IMPROVED Value-Urgency Analysis:\n",
      "🔴 FOCUS: Large dark red bubbles = High value + CRITICAL urgency\n",
      "🟡 DECISION: Medium orange bubbles = Value players in decision zone (30-80% available)\n",
      "🟢 SAFE: Small light bubbles = Can wait until later rounds\n",
      "💰 GOLD BORDERS: Large rank disagreements (>20 spots)\n",
      "🔍 SHAPES: Circle=RB, Square=WR, Triangle=QB, Diamond=TE\n"
     ]
    }
   ],
   "source": [
    "def create_enhanced_espn_adp_plot(df, show_top_n_labels=8):\n",
    "    \"\"\"Enhanced ESPN vs ADP plot with value-urgency encoding\"\"\"\n",
    "    \n",
    "    fig = go.Figure()\n",
    "    \n",
    "    # Get top urgency players for labeling\n",
    "    top_urgent = df.nsmallest(show_top_n_labels, 'urgency_rank')\n",
    "    \n",
    "    # Create traces for each position (for shape differentiation)\n",
    "    positions = ['RB', 'WR', 'QB', 'TE']\n",
    "    position_symbols = {'RB': 'circle', 'WR': 'square', 'QB': 'triangle-up', 'TE': 'diamond'}\n",
    "    \n",
    "    for pos in positions:\n",
    "        pos_df = df[df['position'] == pos]\n",
    "        if len(pos_df) == 0:\n",
    "            continue\n",
    "            \n",
    "        # Determine which players get labels\n",
    "        show_labels = pos_df['player_name'].isin(top_urgent['player_name'])\n",
    "        \n",
    "        # FIXED: More aggressive bubble sizing and urgency-focused color mapping\n",
    "        bubble_sizes = np.maximum(pos_df['vbd_score'] * 3 + 15, 8)  # Larger scaling + minimum size\n",
    "        \n",
    "        # FIXED: Color mapping focused on urgency zones with clear boundaries\n",
    "        urgency_colors = []\n",
    "        for avail in pos_df['probability_available']:\n",
    "            if avail > 0.8:\n",
    "                urgency_colors.append(0.9)    # Safe - green  \n",
    "            elif avail > 0.5:\n",
    "                urgency_colors.append(0.5)    # Decision zone - yellow/orange\n",
    "            elif avail > 0.3:\n",
    "                urgency_colors.append(0.3)    # Critical zone - orange/red\n",
    "            else:\n",
    "                urgency_colors.append(0.1)    # Urgent - dark red\n",
    "        \n",
    "        fig.add_trace(go.Scatter(\n",
    "            x=pos_df['espn_rank'],\n",
    "            y=pos_df['adp_rank'],\n",
    "            mode='markers+text',\n",
    "            text=np.where(show_labels, pos_df['player_name'], ''),\n",
    "            textposition=\"top center\",\n",
    "            textfont=dict(size=9, color='black'),\n",
    "            marker=dict(\n",
    "                size=bubble_sizes,                             # FIXED: Much larger bubbles\n",
    "                color=urgency_colors,                          # FIXED: Urgency-focused coloring\n",
    "                colorscale=[\n",
    "                    [0.0, 'darkred'],     # Urgent\n",
    "                    [0.3, 'red'],         # Critical\n",
    "                    [0.5, 'orange'],      # Decision\n",
    "                    [0.8, 'yellow'],      # Caution\n",
    "                    [1.0, 'lightgreen']   # Safe\n",
    "                ],                        # FIXED: Custom scale with clear boundaries\n",
    "                symbol=position_symbols[pos],\n",
    "                showscale=True if pos == 'RB' else False,\n",
    "                colorbar=dict(\n",
    "                    title=\"Urgency Level<br>(Low=Safe, High=Critical)\",\n",
    "                    x=1.02,\n",
    "                    tickvals=[0.1, 0.3, 0.5, 0.9],\n",
    "                    ticktext=['Urgent', 'Critical', 'Decision', 'Safe']\n",
    "                ) if pos == 'RB' else None,\n",
    "                line=dict(\n",
    "                    width=np.where(pos_df['abs_divergence'] > 20, 3, 1),  # FIXED: Thick border for big divergences\n",
    "                    color='gold'\n",
    "                ),\n",
    "                opacity=0.8\n",
    "            ),\n",
    "            hovertemplate=(\n",
    "                '<b>%{text}</b><br>' +\n",
    "                'Position: ' + pos + '<br>' +\n",
    "                'ESPN Rank: %{x}<br>' +\n",
    "                'ADP Rank: %{y}<br>' +\n",
    "                'VBD Score: ' + pos_df['vbd_score'].round(1).astype(str) + '<br>' +\n",
    "                'Availability: ' + (pos_df['probability_available'] * 100).round(1).astype(str) + '%<br>' +\n",
    "                'Urgency Score: ' + pos_df['urgency_score'].round(1).astype(str) + '<br>' +\n",
    "                'Divergence: ' + pos_df['rank_divergence'].round(1).astype(str) +\n",
    "                '<extra></extra>'\n",
    "            ),\n",
    "            name=f'{pos} ({len(pos_df)})'\n",
    "        ))\n",
    "    \n",
    "    # Add perfect correlation line\n",
    "    max_rank = min(225, max(df['espn_rank'].max(), df['adp_rank'].max()))\n",
    "    fig.add_trace(go.Scatter(\n",
    "        x=[1, max_rank],\n",
    "        y=[1, max_rank],\n",
    "        mode='lines',\n",
    "        line=dict(dash='dash', color='gray', width=2),\n",
    "        name='Perfect Agreement',\n",
    "        hoverinfo='skip'\n",
    "    ))\n",
    "    \n",
    "    # FIXED: Updated urgency zone annotations\n",
    "    fig.add_annotation(\n",
    "        x=0.02, y=0.98,\n",
    "        xref=\"paper\", yref=\"paper\",\n",
    "        text=\"🔴 Large Dark Bubbles = High Value + Critical Urgency<br>🟡 Medium Orange Bubbles = Decision Zone<br>🟢 Small Light Bubbles = Safe to Wait<br>💰 Gold Border = Big Rank Disagreement\",\n",
    "        showarrow=False,\n",
    "        bgcolor=\"white\",\n",
    "        bordercolor=\"black\",\n",
    "        borderwidth=1,\n",
    "        font=dict(size=10)\n",
    "    )\n",
    "    \n",
    "    fig.update_layout(\n",
    "        title=f'Value-Urgency Analysis: ESPN vs ADP Rankings (Top {show_top_n_labels} Urgent Players Labeled)',\n",
    "        xaxis_title='ESPN Rank (Lower = Better)',\n",
    "        yaxis_title='ADP Rank (Lower = Better)',\n",
    "        height=700,\n",
    "        width=900,\n",
    "        legend=dict(x=0.02, y=0.02),\n",
    "        font=dict(size=11),\n",
    "        xaxis=dict(range=[0, 230], constrain=\"domain\"),\n",
    "        yaxis=dict(range=[0, 230], constrain=\"domain\")\n",
    "    )\n",
    "    \n",
    "    return fig\n",
    "\n",
    "# Create enhanced ESPN vs ADP plot\n",
    "enhanced_espn_adp = create_enhanced_espn_adp_plot(enhanced_df, show_top_n_labels=10)\n",
    "enhanced_espn_adp.show()\n",
    "\n",
    "print(\"\\n📊 IMPROVED Value-Urgency Analysis:\")\n",
    "print(\"🔴 FOCUS: Large dark red bubbles = High value + CRITICAL urgency\")\n",
    "print(\"🟡 DECISION: Medium orange bubbles = Value players in decision zone (30-80% available)\")\n",
    "print(\"🟢 SAFE: Small light bubbles = Can wait until later rounds\")\n",
    "print(\"💰 GOLD BORDERS: Large rank disagreements (>20 spots)\")\n",
    "print(\"🔍 SHAPES: Circle=RB, Square=WR, Triangle=QB, Diamond=TE\")"
   ]
  },
  {
   "cell_type": "markdown",
   "metadata": {},
   "source": [
    "## Enhanced Strategic Override Matrix with Visual Quadrants\n",
    "\n",
    "**Key Enhancements:**\n",
    "- **Transparent colored quadrants** for instant visual guidance\n",
    "- **Position shapes** and **replacement level lines**\n",
    "- **Top urgency badges** for one-click decisions\n",
    "- **Enhanced hover** with all decision-relevant data"
   ]
  },
  {
   "cell_type": "code",
   "execution_count": 5,
   "metadata": {
    "execution": {
     "iopub.execute_input": "2025-08-16T05:22:18.280862Z",
     "iopub.status.busy": "2025-08-16T05:22:18.280748Z",
     "iopub.status.idle": "2025-08-16T05:22:18.322924Z",
     "shell.execute_reply": "2025-08-16T05:22:18.322598Z"
    }
   },
   "outputs": [
    {
     "data": {
      "application/vnd.plotly.v1+json": {
       "config": {
        "plotlyServerURL": "https://plot.ly"
       },
       "data": [
        {
         "hovertemplate": [
          "<b>Bijan Robinson</b><br>Position: RB<br>Divergence: %{x}<br>Availability: %{y:.1%}<br>VBD Score: 56<br>Urgency Score: %{marker.color}<br>ESPN Rank: 2<br>ADP Rank: 2.0<br>Bye Week: 5<extra></extra>",
          "<b>Saquon Barkley</b><br>Position: RB<br>Divergence: %{x}<br>Availability: %{y:.1%}<br>VBD Score: 55<br>Urgency Score: %{marker.color}<br>ESPN Rank: 4<br>ADP Rank: 3.0<br>Bye Week: 9<extra></extra>",
          "<b>Jahmyr Gibbs</b><br>Position: RB<br>Divergence: %{x}<br>Availability: %{y:.1%}<br>VBD Score: 54<br>Urgency Score: %{marker.color}<br>ESPN Rank: 5<br>ADP Rank: 4.0<br>Bye Week: 8<extra></extra>",
          "<b>Christian McCaffrey</b><br>Position: RB<br>Divergence: %{x}<br>Availability: %{y:.1%}<br>VBD Score: 53<br>Urgency Score: %{marker.color}<br>ESPN Rank: 7<br>ADP Rank: 11.0<br>Bye Week: 14<extra></extra>",
          "<b>Derrick Henry</b><br>Position: RB<br>Divergence: %{x}<br>Availability: %{y:.1%}<br>VBD Score: 48<br>Urgency Score: %{marker.color}<br>ESPN Rank: 11<br>ADP Rank: 12.0<br>Bye Week: 7<extra></extra>",
          "<b>Ashton Jeanty</b><br>Position: RB<br>Divergence: %{x}<br>Availability: %{y:.1%}<br>VBD Score: 46<br>Urgency Score: %{marker.color}<br>ESPN Rank: 12<br>ADP Rank: 10.0<br>Bye Week: 8<extra></extra>",
          "<b>Jonathan Taylor</b><br>Position: RB<br>Divergence: %{x}<br>Availability: %{y:.1%}<br>VBD Score: 38<br>Urgency Score: %{marker.color}<br>ESPN Rank: 17<br>ADP Rank: 21.0<br>Bye Week: 11<extra></extra>",
          "<b>De'Von Achane</b><br>Position: RB<br>Divergence: %{x}<br>Availability: %{y:.1%}<br>VBD Score: 37<br>Urgency Score: %{marker.color}<br>ESPN Rank: 18<br>ADP Rank: 15.0<br>Bye Week: 12<extra></extra>",
          "<b>Josh Jacobs</b><br>Position: RB<br>Divergence: %{x}<br>Availability: %{y:.1%}<br>VBD Score: 36<br>Urgency Score: %{marker.color}<br>ESPN Rank: 19<br>ADP Rank: 18.0<br>Bye Week: 5<extra></extra>",
          "<b>Kyren Williams</b><br>Position: RB<br>Divergence: %{x}<br>Availability: %{y:.1%}<br>VBD Score: 33<br>Urgency Score: %{marker.color}<br>ESPN Rank: 22<br>ADP Rank: 27.0<br>Bye Week: 8<extra></extra>",
          "<b>Bucky Irving</b><br>Position: RB<br>Divergence: %{x}<br>Availability: %{y:.1%}<br>VBD Score: 32<br>Urgency Score: %{marker.color}<br>ESPN Rank: 23<br>ADP Rank: 17.0<br>Bye Week: 9<extra></extra>",
          "<b>Chase Brown</b><br>Position: RB<br>Divergence: %{x}<br>Availability: %{y:.1%}<br>VBD Score: 25<br>Urgency Score: %{marker.color}<br>ESPN Rank: 32<br>ADP Rank: 22.0<br>Bye Week: 10<extra></extra>",
          "<b>Breece Hall</b><br>Position: RB<br>Divergence: %{x}<br>Availability: %{y:.1%}<br>VBD Score: 17<br>Urgency Score: %{marker.color}<br>ESPN Rank: 45<br>ADP Rank: 31.0<br>Bye Week: 9<extra></extra>"
         ],
         "marker": {
          "color": {
           "bdata": "jnd5Qqj0MECo/D0H6Ws5QE3W1k0xZjtAdy77BaTnOkCFjw5Z1UcrQLCYH/tNnShA6Gzn0Wd6CkDBhXCu64sLQLxkz8RA5ANAOLcJwFgD8T/gPAaJoIX2P6AihKSTWtI/gDLrqFm8mj8=",
           "dtype": "f8"
          },
          "colorbar": {
           "title": {
            "text": "Urgency<br>Score"
           },
           "x": 1.02
          },
          "colorscale": [
           [
            0.0,
            "rgb(255,245,240)"
           ],
           [
            0.125,
            "rgb(254,224,210)"
           ],
           [
            0.25,
            "rgb(252,187,161)"
           ],
           [
            0.375,
            "rgb(252,146,114)"
           ],
           [
            0.5,
            "rgb(251,106,74)"
           ],
           [
            0.625,
            "rgb(239,59,44)"
           ],
           [
            0.75,
            "rgb(203,24,29)"
           ],
           [
            0.875,
            "rgb(165,15,21)"
           ],
           [
            1.0,
            "rgb(103,0,13)"
           ]
          ],
          "line": {
           "color": [
            "black",
            "gold",
            "gold",
            "gold",
            "black",
            "black",
            "black",
            "black",
            "black",
            "black",
            "black",
            "black",
            "black"
           ],
           "width": {
            "bdata": "AQMDAwEBAQEBAQEBAQ==",
            "dtype": "i1"
           }
          },
          "opacity": 0.8,
          "showscale": true,
          "size": {
           "bdata": "q6qqqqqqMkBVVVVVVVUyQAAAAAAAADJAq6qqqqqqMUAAAAAAAAAwQKuqqqqqqi5AVVVVVVVVKUCrqqqqqqooQAAAAAAAAChAAAAAAAAAJkBVVVVVVVUlQKuqqqqqqiBAAAAAAAAAIEA=",
           "dtype": "f8"
          },
          "symbol": "circle"
         },
         "mode": "markers+text",
         "name": "RB (13)",
         "text": [
          "",
          "Saquon Barkley",
          "Jahmyr Gibbs",
          "Christian McCaffrey",
          "",
          "",
          "",
          "",
          "",
          "",
          "",
          "",
          ""
         ],
         "textfont": {
          "color": "black",
          "size": 10
         },
         "textposition": "top center",
         "type": "scatter",
         "x": {
          "bdata": "AAAAAAAAAAAAAAAAAADwPwAAAAAAAPA/AAAAAAAAEMAAAAAAAADwvwAAAAAAAABAAAAAAAAAEMAAAAAAAAAIQAAAAAAAAPA/AAAAAAAAFMAAAAAAAAAYQAAAAAAAACRAAAAAAAAALEA=",
          "dtype": "f8"
         },
         "y": {
          "bdata": "r7sD2p9P5j/kluBYlDXhP7iZjwLiht8/WBCNVNmC3z8p0KU3DujmP9lxb+s9cOc/9Rz1zns27T+f6uxUoQXtPyRKPrExyu0/cSPoIgr47j8ynG/3pZfuPzB6gkkHou8/rOsZIWvz7z8=",
          "dtype": "f8"
         }
        },
        {
         "hovertemplate": [
          "<b>Ja'Marr Chase</b><br>Position: WR<br>Divergence: %{x}<br>Availability: %{y:.1%}<br>VBD Score: 57<br>Urgency Score: %{marker.color}<br>ESPN Rank: 1<br>ADP Rank: 1.0<br>Bye Week: 10<extra></extra>",
          "<b>Justin Jefferson</b><br>Position: WR<br>Divergence: %{x}<br>Availability: %{y:.1%}<br>VBD Score: 55<br>Urgency Score: %{marker.color}<br>ESPN Rank: 3<br>ADP Rank: 5.0<br>Bye Week: 6<extra></extra>",
          "<b>CeeDee Lamb</b><br>Position: WR<br>Divergence: %{x}<br>Availability: %{y:.1%}<br>VBD Score: 53<br>Urgency Score: %{marker.color}<br>ESPN Rank: 6<br>ADP Rank: 6.0<br>Bye Week: 10<extra></extra>",
          "<b>Puka Nacua</b><br>Position: WR<br>Divergence: %{x}<br>Availability: %{y:.1%}<br>VBD Score: 52<br>Urgency Score: %{marker.color}<br>ESPN Rank: 8<br>ADP Rank: 7.0<br>Bye Week: 8<extra></extra>",
          "<b>Malik Nabers</b><br>Position: WR<br>Divergence: %{x}<br>Availability: %{y:.1%}<br>VBD Score: 51<br>Urgency Score: %{marker.color}<br>ESPN Rank: 9<br>ADP Rank: 8.0<br>Bye Week: 14<extra></extra>",
          "<b>Amon-Ra St. Brown</b><br>Position: WR<br>Divergence: %{x}<br>Availability: %{y:.1%}<br>VBD Score: 50<br>Urgency Score: %{marker.color}<br>ESPN Rank: 10<br>ADP Rank: 9.0<br>Bye Week: 8<extra></extra>",
          "<b>Nico Collins</b><br>Position: WR<br>Divergence: %{x}<br>Availability: %{y:.1%}<br>VBD Score: 45<br>Urgency Score: %{marker.color}<br>ESPN Rank: 13<br>ADP Rank: 13.0<br>Bye Week: 6<extra></extra>",
          "<b>Brian Thomas Jr.</b><br>Position: WR<br>Divergence: %{x}<br>Availability: %{y:.1%}<br>VBD Score: 43<br>Urgency Score: %{marker.color}<br>ESPN Rank: 14<br>ADP Rank: 14.0<br>Bye Week: 8<extra></extra>",
          "<b>A.J. Brown</b><br>Position: WR<br>Divergence: %{x}<br>Availability: %{y:.1%}<br>VBD Score: 42<br>Urgency Score: %{marker.color}<br>ESPN Rank: 15<br>ADP Rank: 20.0<br>Bye Week: 9<extra></extra>",
          "<b>Drake London</b><br>Position: WR<br>Divergence: %{x}<br>Availability: %{y:.1%}<br>VBD Score: 40<br>Urgency Score: %{marker.color}<br>ESPN Rank: 16<br>ADP Rank: 19.0<br>Bye Week: 5<extra></extra>",
          "<b>Tee Higgins</b><br>Position: WR<br>Divergence: %{x}<br>Availability: %{y:.1%}<br>VBD Score: 32<br>Urgency Score: %{marker.color}<br>ESPN Rank: 24<br>ADP Rank: 32.0<br>Bye Week: 10<extra></extra>",
          "<b>Tyreek Hill</b><br>Position: WR<br>Divergence: %{x}<br>Availability: %{y:.1%}<br>VBD Score: 31<br>Urgency Score: %{marker.color}<br>ESPN Rank: 25<br>ADP Rank: 28.0<br>Bye Week: 12<extra></extra>",
          "<b>Ladd McConkey</b><br>Position: WR<br>Divergence: %{x}<br>Availability: %{y:.1%}<br>VBD Score: 30<br>Urgency Score: %{marker.color}<br>ESPN Rank: 27<br>ADP Rank: 25.0<br>Bye Week: 12<extra></extra>",
          "<b>Jaxon Smith-Njigba</b><br>Position: WR<br>Divergence: %{x}<br>Availability: %{y:.1%}<br>VBD Score: 22<br>Urgency Score: %{marker.color}<br>ESPN Rank: 36<br>ADP Rank: 30.0<br>Bye Week: 8<extra></extra>",
          "<b>Garrett Wilson</b><br>Position: WR<br>Divergence: %{x}<br>Availability: %{y:.1%}<br>VBD Score: 14<br>Urgency Score: %{marker.color}<br>ESPN Rank: 48<br>ADP Rank: 33.0<br>Bye Week: 9<extra></extra>"
         ],
         "marker": {
          "color": {
           "bdata": "wUu+mTSqJEDa5ITi1Bw0QOvFsPOi2jtA4l1bEPahOUBqZ8kuTpQ1QNB5a6daAjJAJWt0//OHIkDLZ2ds7n0dQLb60O0EDxVAIeuBT2U9EUAAD1N+RWHlP5Eq/Wo0YOI/9MqA3mnT3D8gdQibzbiyP4D8Fe80eow/",
           "dtype": "f8"
          },
          "colorscale": [
           [
            0.0,
            "rgb(255,245,240)"
           ],
           [
            0.125,
            "rgb(254,224,210)"
           ],
           [
            0.25,
            "rgb(252,187,161)"
           ],
           [
            0.375,
            "rgb(252,146,114)"
           ],
           [
            0.5,
            "rgb(251,106,74)"
           ],
           [
            0.625,
            "rgb(239,59,44)"
           ],
           [
            0.75,
            "rgb(203,24,29)"
           ],
           [
            0.875,
            "rgb(165,15,21)"
           ],
           [
            1.0,
            "rgb(103,0,13)"
           ]
          ],
          "line": {
           "color": [
            "black",
            "black",
            "gold",
            "gold",
            "black",
            "black",
            "black",
            "black",
            "black",
            "black",
            "black",
            "black",
            "black",
            "black",
            "black"
           ],
           "width": {
            "bdata": "AQEDAwEBAQEBAQEBAQEB",
            "dtype": "i1"
           }
          },
          "opacity": 0.8,
          "showscale": false,
          "size": {
           "bdata": "AAAAAAAAM0BVVVVVVVUyQKuqqqqqqjFAVVVVVVVVMUAAAAAAAAAxQKuqqqqqqjBAAAAAAAAALkCrqqqqqqosQAAAAAAAACxAq6qqqqqqKkBVVVVVVVUlQKuqqqqqqiRAAAAAAAAAJEAAAAAAAAAgQAAAAAAAACBA",
           "dtype": "f8"
          },
          "symbol": "square"
         },
         "mode": "markers+text",
         "name": "WR (15)",
         "text": [
          "",
          "",
          "CeeDee Lamb",
          "Puka Nacua",
          "",
          "",
          "",
          "",
          "",
          "",
          "",
          "",
          "",
          "",
          ""
         ],
         "textfont": {
          "color": "black",
          "size": 10
         },
         "textposition": "top center",
         "type": "scatter",
         "x": {
          "bdata": "AAAAAAAAAAAAAAAAAAAAwAAAAAAAAAAAAAAAAAAA8D8AAAAAAADwPwAAAAAAAPA/AAAAAAAAAAAAAAAAAAAAAAAAAAAAABTAAAAAAAAACMAAAAAAAAAgwAAAAAAAAAjAAAAAAAAAAEAAAAAAAAAYQAAAAAAAAC5A",
          "dtype": "f8"
         },
         "y": {
          "bdata": "rwXqsAcz6j8bGZLwUEzkP3B2nodrXd4/dXfbut454D8nyannxHXiP3vv2ZRfeeQ/3CNf2EJp6T9vjYeSXIPqP0uT8KEj/es/k2pMI1KN7D+IZw3U9VTvP7FApV9AaO8/jeuOgAKF7z/KUGSmxOTvPwGMchXd9+8/",
          "dtype": "f8"
         }
        },
        {
         "hovertemplate": [
          "<b>Josh Allen</b><br>Position: QB<br>Divergence: %{x}<br>Availability: %{y:.1%}<br>VBD Score: 29<br>Urgency Score: %{marker.color}<br>ESPN Rank: 28<br>ADP Rank: 23.0<br>Bye Week: 7<extra></extra>",
          "<b>Lamar Jackson</b><br>Position: QB<br>Divergence: %{x}<br>Availability: %{y:.1%}<br>VBD Score: 28<br>Urgency Score: %{marker.color}<br>ESPN Rank: 29<br>ADP Rank: 24.0<br>Bye Week: 7<extra></extra>",
          "<b>Jayden Daniels</b><br>Position: QB<br>Divergence: %{x}<br>Availability: %{y:.1%}<br>VBD Score: 27<br>Urgency Score: %{marker.color}<br>ESPN Rank: 30<br>ADP Rank: 29.0<br>Bye Week: 12<extra></extra>"
         ],
         "marker": {
          "color": {
           "bdata": "OlLGe5Xo2z/QXjWIQBbWP+yDvTzOJ8s/",
           "dtype": "f8"
          },
          "colorscale": [
           [
            0.0,
            "rgb(255,245,240)"
           ],
           [
            0.125,
            "rgb(254,224,210)"
           ],
           [
            0.25,
            "rgb(252,187,161)"
           ],
           [
            0.375,
            "rgb(252,146,114)"
           ],
           [
            0.5,
            "rgb(251,106,74)"
           ],
           [
            0.625,
            "rgb(239,59,44)"
           ],
           [
            0.75,
            "rgb(203,24,29)"
           ],
           [
            0.875,
            "rgb(165,15,21)"
           ],
           [
            1.0,
            "rgb(103,0,13)"
           ]
          ],
          "line": {
           "color": [
            "black",
            "black",
            "black"
           ],
           "width": {
            "bdata": "AQEB",
            "dtype": "i1"
           }
          },
          "opacity": 0.8,
          "showscale": false,
          "size": {
           "bdata": "VVVVVVVVI0CrqqqqqqoiQAAAAAAAACJA",
           "dtype": "f8"
          },
          "symbol": "triangle-up"
         },
         "mode": "markers+text",
         "name": "QB (3)",
         "text": [
          "",
          "",
          ""
         ],
         "textfont": {
          "color": "black",
          "size": 10
         },
         "textposition": "top center",
         "type": "scatter",
         "x": {
          "bdata": "AAAAAAAAFEAAAAAAAAAUQAAAAAAAAPA/",
          "dtype": "f8"
         },
         "y": {
          "bdata": "/4LmSNGE7z8qVZH9B5vvP18PXaWhv+8/",
          "dtype": "f8"
         }
        },
        {
         "hovertemplate": [
          "<b>Brock Bowers</b><br>Position: TE<br>Divergence: %{x}<br>Availability: %{y:.1%}<br>VBD Score: 35<br>Urgency Score: %{marker.color}<br>ESPN Rank: 20<br>ADP Rank: 16.0<br>Bye Week: 8<extra></extra>",
          "<b>Trey McBride</b><br>Position: TE<br>Divergence: %{x}<br>Availability: %{y:.1%}<br>VBD Score: 34<br>Urgency Score: %{marker.color}<br>ESPN Rank: 21<br>ADP Rank: 26.0<br>Bye Week: 8<extra></extra>"
         ],
         "marker": {
          "color": {
           "bdata": "Ha/UFkzkAkA0jokCVVj1Pw==",
           "dtype": "f8"
          },
          "colorscale": [
           [
            0.0,
            "rgb(255,245,240)"
           ],
           [
            0.125,
            "rgb(254,224,210)"
           ],
           [
            0.25,
            "rgb(252,187,161)"
           ],
           [
            0.375,
            "rgb(252,146,114)"
           ],
           [
            0.5,
            "rgb(251,106,74)"
           ],
           [
            0.625,
            "rgb(239,59,44)"
           ],
           [
            0.75,
            "rgb(203,24,29)"
           ],
           [
            0.875,
            "rgb(165,15,21)"
           ],
           [
            1.0,
            "rgb(103,0,13)"
           ]
          ],
          "line": {
           "color": [
            "black",
            "black"
           ],
           "width": {
            "bdata": "AQE=",
            "dtype": "i1"
           }
          },
          "opacity": 0.8,
          "showscale": false,
          "size": {
           "bdata": "VVVVVVVVJ0CrqqqqqqomQA==",
           "dtype": "f8"
          },
          "symbol": "diamond"
         },
         "mode": "markers+text",
         "name": "TE (2)",
         "text": [
          "",
          ""
         ],
         "textfont": {
          "color": "black",
          "size": 10
         },
         "textposition": "top center",
         "type": "scatter",
         "x": {
          "bdata": "AAAAAAAAEEAAAAAAAAAUwA==",
          "dtype": "f8"
         },
         "y": {
          "bdata": "BGHgwkfX7T8MYXCWkb7uPw==",
          "dtype": "f8"
         }
        }
       ],
       "layout": {
        "annotations": [
         {
          "bgcolor": "white",
          "bordercolor": "green",
          "borderwidth": 2,
          "font": {
           "color": "green",
           "family": "Arial Black",
           "size": 16
          },
          "opacity": 0.9,
          "showarrow": false,
          "text": "💚 WAIT<br>Target Later",
          "x": -25,
          "y": 0.75
         },
         {
          "bgcolor": "white",
          "bordercolor": "blue",
          "borderwidth": 2,
          "font": {
           "color": "blue",
           "family": "Arial Black",
           "size": 16
          },
          "opacity": 0.9,
          "showarrow": false,
          "text": "💎 GEMS<br>Hidden Value",
          "x": 25,
          "y": 0.75
         },
         {
          "bgcolor": "white",
          "bordercolor": "orange",
          "borderwidth": 2,
          "font": {
           "color": "orange",
           "family": "Arial Black",
           "size": 16
          },
          "opacity": 0.9,
          "showarrow": false,
          "text": "⚠️ AVOID<br>Others Overvalue",
          "x": -25,
          "y": 0.25
         },
         {
          "bgcolor": "white",
          "bordercolor": "red",
          "borderwidth": 2,
          "font": {
           "color": "red",
           "family": "Arial Black",
           "size": 16
          },
          "opacity": 0.9,
          "showarrow": false,
          "text": "🚨 URGENT<br>Draft Now!",
          "x": 25,
          "y": 0.25
         },
         {
          "arrowcolor": "red",
          "arrowhead": 2,
          "arrowsize": 1,
          "arrowwidth": 2,
          "ax": 20,
          "ay": -20,
          "bgcolor": "red",
          "bordercolor": "white",
          "borderwidth": 2,
          "font": {
           "color": "white",
           "family": "Arial Black",
           "size": 12
          },
          "showarrow": true,
          "text": "#1",
          "x": 0.0,
          "y": 0.4744519066242452
         },
         {
          "arrowcolor": "red",
          "arrowhead": 2,
          "arrowsize": 1,
          "arrowwidth": 2,
          "ax": 20,
          "ay": -20,
          "bgcolor": "red",
          "bordercolor": "white",
          "borderwidth": 2,
          "font": {
           "color": "white",
           "family": "Arial Black",
           "size": 12
          },
          "showarrow": true,
          "text": "#2",
          "x": 1.0,
          "y": 0.49260759592143755
         },
         {
          "arrowcolor": "red",
          "arrowhead": 2,
          "arrowsize": 1,
          "arrowwidth": 2,
          "ax": 20,
          "ay": -20,
          "bgcolor": "red",
          "bordercolor": "white",
          "borderwidth": 2,
          "font": {
           "color": "white",
           "family": "Arial Black",
           "size": 12
          },
          "showarrow": true,
          "text": "#3",
          "x": -4.0,
          "y": 0.4923613858884486
         },
         {
          "arrowcolor": "red",
          "arrowhead": 2,
          "arrowsize": 1,
          "arrowwidth": 2,
          "ax": 20,
          "ay": -20,
          "bgcolor": "red",
          "bordercolor": "white",
          "borderwidth": 2,
          "font": {
           "color": "white",
           "family": "Arial Black",
           "size": 12
          },
          "showarrow": true,
          "text": "#4",
          "x": 1.0,
          "y": 0.5070642137104487
         },
         {
          "arrowcolor": "red",
          "arrowhead": 2,
          "arrowsize": 1,
          "arrowwidth": 2,
          "ax": 20,
          "ay": -20,
          "bgcolor": "red",
          "bordercolor": "white",
          "borderwidth": 2,
          "font": {
           "color": "white",
           "family": "Arial Black",
           "size": 12
          },
          "showarrow": true,
          "text": "#5",
          "x": 1.0,
          "y": 0.5377904640087903
         }
        ],
        "font": {
         "size": 11
        },
        "height": 700,
        "legend": {
         "x": 0.02,
         "y": 0.02
        },
        "shapes": [
         {
          "fillcolor": "lightgreen",
          "line": {
           "width": 0
          },
          "opacity": 0.1,
          "type": "rect",
          "x0": -50,
          "x1": 0,
          "y0": 0.5,
          "y1": 1.0
         },
         {
          "fillcolor": "lightblue",
          "line": {
           "width": 0
          },
          "opacity": 0.1,
          "type": "rect",
          "x0": 0,
          "x1": 50,
          "y0": 0.5,
          "y1": 1.0
         },
         {
          "fillcolor": "lightyellow",
          "line": {
           "width": 0
          },
          "opacity": 0.1,
          "type": "rect",
          "x0": -50,
          "x1": 0,
          "y0": 0,
          "y1": 0.5
         },
         {
          "fillcolor": "lightcoral",
          "line": {
           "width": 0
          },
          "opacity": 0.15,
          "type": "rect",
          "x0": 0,
          "x1": 50,
          "y0": 0,
          "y1": 0.5
         },
         {
          "line": {
           "color": "gray",
           "dash": "dash",
           "width": 2
          },
          "opacity": 0.7,
          "type": "line",
          "x0": 0,
          "x1": 1,
          "xref": "x domain",
          "y0": 0.5,
          "y1": 0.5,
          "yref": "y"
         },
         {
          "line": {
           "color": "gray",
           "dash": "dash",
           "width": 2
          },
          "opacity": 0.7,
          "type": "line",
          "x0": 0,
          "x1": 0,
          "xref": "x",
          "y0": 0,
          "y1": 1,
          "yref": "y domain"
         }
        ],
        "showlegend": true,
        "template": {
         "data": {
          "bar": [
           {
            "error_x": {
             "color": "#2a3f5f"
            },
            "error_y": {
             "color": "#2a3f5f"
            },
            "marker": {
             "line": {
              "color": "#E5ECF6",
              "width": 0.5
             },
             "pattern": {
              "fillmode": "overlay",
              "size": 10,
              "solidity": 0.2
             }
            },
            "type": "bar"
           }
          ],
          "barpolar": [
           {
            "marker": {
             "line": {
              "color": "#E5ECF6",
              "width": 0.5
             },
             "pattern": {
              "fillmode": "overlay",
              "size": 10,
              "solidity": 0.2
             }
            },
            "type": "barpolar"
           }
          ],
          "carpet": [
           {
            "aaxis": {
             "endlinecolor": "#2a3f5f",
             "gridcolor": "white",
             "linecolor": "white",
             "minorgridcolor": "white",
             "startlinecolor": "#2a3f5f"
            },
            "baxis": {
             "endlinecolor": "#2a3f5f",
             "gridcolor": "white",
             "linecolor": "white",
             "minorgridcolor": "white",
             "startlinecolor": "#2a3f5f"
            },
            "type": "carpet"
           }
          ],
          "choropleth": [
           {
            "colorbar": {
             "outlinewidth": 0,
             "ticks": ""
            },
            "type": "choropleth"
           }
          ],
          "contour": [
           {
            "colorbar": {
             "outlinewidth": 0,
             "ticks": ""
            },
            "colorscale": [
             [
              0.0,
              "#0d0887"
             ],
             [
              0.1111111111111111,
              "#46039f"
             ],
             [
              0.2222222222222222,
              "#7201a8"
             ],
             [
              0.3333333333333333,
              "#9c179e"
             ],
             [
              0.4444444444444444,
              "#bd3786"
             ],
             [
              0.5555555555555556,
              "#d8576b"
             ],
             [
              0.6666666666666666,
              "#ed7953"
             ],
             [
              0.7777777777777778,
              "#fb9f3a"
             ],
             [
              0.8888888888888888,
              "#fdca26"
             ],
             [
              1.0,
              "#f0f921"
             ]
            ],
            "type": "contour"
           }
          ],
          "contourcarpet": [
           {
            "colorbar": {
             "outlinewidth": 0,
             "ticks": ""
            },
            "type": "contourcarpet"
           }
          ],
          "heatmap": [
           {
            "colorbar": {
             "outlinewidth": 0,
             "ticks": ""
            },
            "colorscale": [
             [
              0.0,
              "#0d0887"
             ],
             [
              0.1111111111111111,
              "#46039f"
             ],
             [
              0.2222222222222222,
              "#7201a8"
             ],
             [
              0.3333333333333333,
              "#9c179e"
             ],
             [
              0.4444444444444444,
              "#bd3786"
             ],
             [
              0.5555555555555556,
              "#d8576b"
             ],
             [
              0.6666666666666666,
              "#ed7953"
             ],
             [
              0.7777777777777778,
              "#fb9f3a"
             ],
             [
              0.8888888888888888,
              "#fdca26"
             ],
             [
              1.0,
              "#f0f921"
             ]
            ],
            "type": "heatmap"
           }
          ],
          "histogram": [
           {
            "marker": {
             "pattern": {
              "fillmode": "overlay",
              "size": 10,
              "solidity": 0.2
             }
            },
            "type": "histogram"
           }
          ],
          "histogram2d": [
           {
            "colorbar": {
             "outlinewidth": 0,
             "ticks": ""
            },
            "colorscale": [
             [
              0.0,
              "#0d0887"
             ],
             [
              0.1111111111111111,
              "#46039f"
             ],
             [
              0.2222222222222222,
              "#7201a8"
             ],
             [
              0.3333333333333333,
              "#9c179e"
             ],
             [
              0.4444444444444444,
              "#bd3786"
             ],
             [
              0.5555555555555556,
              "#d8576b"
             ],
             [
              0.6666666666666666,
              "#ed7953"
             ],
             [
              0.7777777777777778,
              "#fb9f3a"
             ],
             [
              0.8888888888888888,
              "#fdca26"
             ],
             [
              1.0,
              "#f0f921"
             ]
            ],
            "type": "histogram2d"
           }
          ],
          "histogram2dcontour": [
           {
            "colorbar": {
             "outlinewidth": 0,
             "ticks": ""
            },
            "colorscale": [
             [
              0.0,
              "#0d0887"
             ],
             [
              0.1111111111111111,
              "#46039f"
             ],
             [
              0.2222222222222222,
              "#7201a8"
             ],
             [
              0.3333333333333333,
              "#9c179e"
             ],
             [
              0.4444444444444444,
              "#bd3786"
             ],
             [
              0.5555555555555556,
              "#d8576b"
             ],
             [
              0.6666666666666666,
              "#ed7953"
             ],
             [
              0.7777777777777778,
              "#fb9f3a"
             ],
             [
              0.8888888888888888,
              "#fdca26"
             ],
             [
              1.0,
              "#f0f921"
             ]
            ],
            "type": "histogram2dcontour"
           }
          ],
          "mesh3d": [
           {
            "colorbar": {
             "outlinewidth": 0,
             "ticks": ""
            },
            "type": "mesh3d"
           }
          ],
          "parcoords": [
           {
            "line": {
             "colorbar": {
              "outlinewidth": 0,
              "ticks": ""
             }
            },
            "type": "parcoords"
           }
          ],
          "pie": [
           {
            "automargin": true,
            "type": "pie"
           }
          ],
          "scatter": [
           {
            "fillpattern": {
             "fillmode": "overlay",
             "size": 10,
             "solidity": 0.2
            },
            "type": "scatter"
           }
          ],
          "scatter3d": [
           {
            "line": {
             "colorbar": {
              "outlinewidth": 0,
              "ticks": ""
             }
            },
            "marker": {
             "colorbar": {
              "outlinewidth": 0,
              "ticks": ""
             }
            },
            "type": "scatter3d"
           }
          ],
          "scattercarpet": [
           {
            "marker": {
             "colorbar": {
              "outlinewidth": 0,
              "ticks": ""
             }
            },
            "type": "scattercarpet"
           }
          ],
          "scattergeo": [
           {
            "marker": {
             "colorbar": {
              "outlinewidth": 0,
              "ticks": ""
             }
            },
            "type": "scattergeo"
           }
          ],
          "scattergl": [
           {
            "marker": {
             "colorbar": {
              "outlinewidth": 0,
              "ticks": ""
             }
            },
            "type": "scattergl"
           }
          ],
          "scattermap": [
           {
            "marker": {
             "colorbar": {
              "outlinewidth": 0,
              "ticks": ""
             }
            },
            "type": "scattermap"
           }
          ],
          "scattermapbox": [
           {
            "marker": {
             "colorbar": {
              "outlinewidth": 0,
              "ticks": ""
             }
            },
            "type": "scattermapbox"
           }
          ],
          "scatterpolar": [
           {
            "marker": {
             "colorbar": {
              "outlinewidth": 0,
              "ticks": ""
             }
            },
            "type": "scatterpolar"
           }
          ],
          "scatterpolargl": [
           {
            "marker": {
             "colorbar": {
              "outlinewidth": 0,
              "ticks": ""
             }
            },
            "type": "scatterpolargl"
           }
          ],
          "scatterternary": [
           {
            "marker": {
             "colorbar": {
              "outlinewidth": 0,
              "ticks": ""
             }
            },
            "type": "scatterternary"
           }
          ],
          "surface": [
           {
            "colorbar": {
             "outlinewidth": 0,
             "ticks": ""
            },
            "colorscale": [
             [
              0.0,
              "#0d0887"
             ],
             [
              0.1111111111111111,
              "#46039f"
             ],
             [
              0.2222222222222222,
              "#7201a8"
             ],
             [
              0.3333333333333333,
              "#9c179e"
             ],
             [
              0.4444444444444444,
              "#bd3786"
             ],
             [
              0.5555555555555556,
              "#d8576b"
             ],
             [
              0.6666666666666666,
              "#ed7953"
             ],
             [
              0.7777777777777778,
              "#fb9f3a"
             ],
             [
              0.8888888888888888,
              "#fdca26"
             ],
             [
              1.0,
              "#f0f921"
             ]
            ],
            "type": "surface"
           }
          ],
          "table": [
           {
            "cells": {
             "fill": {
              "color": "#EBF0F8"
             },
             "line": {
              "color": "white"
             }
            },
            "header": {
             "fill": {
              "color": "#C8D4E3"
             },
             "line": {
              "color": "white"
             }
            },
            "type": "table"
           }
          ]
         },
         "layout": {
          "annotationdefaults": {
           "arrowcolor": "#2a3f5f",
           "arrowhead": 0,
           "arrowwidth": 1
          },
          "autotypenumbers": "strict",
          "coloraxis": {
           "colorbar": {
            "outlinewidth": 0,
            "ticks": ""
           }
          },
          "colorscale": {
           "diverging": [
            [
             0,
             "#8e0152"
            ],
            [
             0.1,
             "#c51b7d"
            ],
            [
             0.2,
             "#de77ae"
            ],
            [
             0.3,
             "#f1b6da"
            ],
            [
             0.4,
             "#fde0ef"
            ],
            [
             0.5,
             "#f7f7f7"
            ],
            [
             0.6,
             "#e6f5d0"
            ],
            [
             0.7,
             "#b8e186"
            ],
            [
             0.8,
             "#7fbc41"
            ],
            [
             0.9,
             "#4d9221"
            ],
            [
             1,
             "#276419"
            ]
           ],
           "sequential": [
            [
             0.0,
             "#0d0887"
            ],
            [
             0.1111111111111111,
             "#46039f"
            ],
            [
             0.2222222222222222,
             "#7201a8"
            ],
            [
             0.3333333333333333,
             "#9c179e"
            ],
            [
             0.4444444444444444,
             "#bd3786"
            ],
            [
             0.5555555555555556,
             "#d8576b"
            ],
            [
             0.6666666666666666,
             "#ed7953"
            ],
            [
             0.7777777777777778,
             "#fb9f3a"
            ],
            [
             0.8888888888888888,
             "#fdca26"
            ],
            [
             1.0,
             "#f0f921"
            ]
           ],
           "sequentialminus": [
            [
             0.0,
             "#0d0887"
            ],
            [
             0.1111111111111111,
             "#46039f"
            ],
            [
             0.2222222222222222,
             "#7201a8"
            ],
            [
             0.3333333333333333,
             "#9c179e"
            ],
            [
             0.4444444444444444,
             "#bd3786"
            ],
            [
             0.5555555555555556,
             "#d8576b"
            ],
            [
             0.6666666666666666,
             "#ed7953"
            ],
            [
             0.7777777777777778,
             "#fb9f3a"
            ],
            [
             0.8888888888888888,
             "#fdca26"
            ],
            [
             1.0,
             "#f0f921"
            ]
           ]
          },
          "colorway": [
           "#636efa",
           "#EF553B",
           "#00cc96",
           "#ab63fa",
           "#FFA15A",
           "#19d3f3",
           "#FF6692",
           "#B6E880",
           "#FF97FF",
           "#FECB52"
          ],
          "font": {
           "color": "#2a3f5f"
          },
          "geo": {
           "bgcolor": "white",
           "lakecolor": "white",
           "landcolor": "#E5ECF6",
           "showlakes": true,
           "showland": true,
           "subunitcolor": "white"
          },
          "hoverlabel": {
           "align": "left"
          },
          "hovermode": "closest",
          "mapbox": {
           "style": "light"
          },
          "paper_bgcolor": "white",
          "plot_bgcolor": "#E5ECF6",
          "polar": {
           "angularaxis": {
            "gridcolor": "white",
            "linecolor": "white",
            "ticks": ""
           },
           "bgcolor": "#E5ECF6",
           "radialaxis": {
            "gridcolor": "white",
            "linecolor": "white",
            "ticks": ""
           }
          },
          "scene": {
           "xaxis": {
            "backgroundcolor": "#E5ECF6",
            "gridcolor": "white",
            "gridwidth": 2,
            "linecolor": "white",
            "showbackground": true,
            "ticks": "",
            "zerolinecolor": "white"
           },
           "yaxis": {
            "backgroundcolor": "#E5ECF6",
            "gridcolor": "white",
            "gridwidth": 2,
            "linecolor": "white",
            "showbackground": true,
            "ticks": "",
            "zerolinecolor": "white"
           },
           "zaxis": {
            "backgroundcolor": "#E5ECF6",
            "gridcolor": "white",
            "gridwidth": 2,
            "linecolor": "white",
            "showbackground": true,
            "ticks": "",
            "zerolinecolor": "white"
           }
          },
          "shapedefaults": {
           "line": {
            "color": "#2a3f5f"
           }
          },
          "ternary": {
           "aaxis": {
            "gridcolor": "white",
            "linecolor": "white",
            "ticks": ""
           },
           "baxis": {
            "gridcolor": "white",
            "linecolor": "white",
            "ticks": ""
           },
           "bgcolor": "#E5ECF6",
           "caxis": {
            "gridcolor": "white",
            "linecolor": "white",
            "ticks": ""
           }
          },
          "title": {
           "x": 0.05
          },
          "xaxis": {
           "automargin": true,
           "gridcolor": "white",
           "linecolor": "white",
           "ticks": "",
           "title": {
            "standoff": 15
           },
           "zerolinecolor": "white",
           "zerolinewidth": 2
          },
          "yaxis": {
           "automargin": true,
           "gridcolor": "white",
           "linecolor": "white",
           "ticks": "",
           "title": {
            "standoff": 15
           },
           "zerolinecolor": "white",
           "zerolinewidth": 2
          }
         }
        },
        "title": {
         "text": "Strategic Decision Matrix - Top 5 Urgent Players Highlighted (Next Pick: 8)"
        },
        "width": 1000,
        "xaxis": {
         "range": [
          -50,
          50
         ],
         "title": {
          "text": "Rank Divergence (ESPN - ADP)"
         }
        },
        "yaxis": {
         "range": [
          0,
          1
         ],
         "title": {
          "text": "Probability Available at Your Next Pick"
         }
        }
       }
      }
     },
     "metadata": {},
     "output_type": "display_data"
    },
    {
     "name": "stdout",
     "output_type": "stream",
     "text": [
      "\n",
      "📊 Enhanced Strategic Matrix:\n",
      "🚨 RED BADGES = Top urgency players - consider drafting now\n",
      "💎 BLUE QUADRANT = Hidden gems - ESPN undervalues, still available\n",
      "💚 GREEN QUADRANT = Wait targets - ESPN overvalues, will be available\n",
      "🚨 RED QUADRANT = URGENT - ESPN undervalues, will be gone\n",
      "⚠️ YELLOW QUADRANT = Avoid - ESPN overvalues, others will take anyway\n"
     ]
    }
   ],
   "source": [
    "def create_enhanced_strategic_matrix(df, my_picks=[8, 17, 32, 41], show_top_urgent=5):\n",
    "    \"\"\"Enhanced strategic matrix with visual quadrants and urgency overlay\"\"\"\n",
    "    \n",
    "    # Focus on players relevant to next few picks\n",
    "    next_pick = my_picks[0]\n",
    "    relevant_players = df[df['adp_rank'] <= next_pick + 25].copy()\n",
    "    \n",
    "    fig = go.Figure()\n",
    "    \n",
    "    # Add transparent colored quadrant backgrounds with reduced opacity\n",
    "    # Top Left: ESPN Overvalued + Likely Available (Wait)\n",
    "    fig.add_shape(\n",
    "        type=\"rect\",\n",
    "        x0=-50, y0=0.5, x1=0, y1=1.0,\n",
    "        fillcolor=\"lightgreen\", opacity=0.1,\n",
    "        line=dict(width=0)\n",
    "    )\n",
    "    \n",
    "    # Top Right: ESPN Undervalued + Likely Available (Hidden Gems)\n",
    "    fig.add_shape(\n",
    "        type=\"rect\",\n",
    "        x0=0, y0=0.5, x1=50, y1=1.0,\n",
    "        fillcolor=\"lightblue\", opacity=0.1,\n",
    "        line=dict(width=0)\n",
    "    )\n",
    "    \n",
    "    # Bottom Left: ESPN Overvalued + Will Be Gone (Avoid)\n",
    "    fig.add_shape(\n",
    "        type=\"rect\",\n",
    "        x0=-50, y0=0, x1=0, y1=0.5,\n",
    "        fillcolor=\"lightyellow\", opacity=0.1,\n",
    "        line=dict(width=0)\n",
    "    )\n",
    "    \n",
    "    # Bottom Right: ESPN Undervalued + Will Be Gone (URGENT)\n",
    "    fig.add_shape(\n",
    "        type=\"rect\",\n",
    "        x0=0, y0=0, x1=50, y1=0.5,\n",
    "        fillcolor=\"lightcoral\", opacity=0.15,\n",
    "        line=dict(width=0)\n",
    "    )\n",
    "    \n",
    "    # Add quadrant center labels (large and prominent)\n",
    "    quadrant_labels = [\n",
    "        {\"x\": -25, \"y\": 0.75, \"text\": \"💚 WAIT<br>Target Later\", \"color\": \"green\"},\n",
    "        {\"x\": 25, \"y\": 0.75, \"text\": \"💎 GEMS<br>Hidden Value\", \"color\": \"blue\"},\n",
    "        {\"x\": -25, \"y\": 0.25, \"text\": \"⚠️ AVOID<br>Others Overvalue\", \"color\": \"orange\"},\n",
    "        {\"x\": 25, \"y\": 0.25, \"text\": \"🚨 URGENT<br>Draft Now!\", \"color\": \"red\"}\n",
    "    ]\n",
    "    \n",
    "    for label in quadrant_labels:\n",
    "        fig.add_annotation(\n",
    "            x=label[\"x\"], y=label[\"y\"],\n",
    "            text=label[\"text\"],\n",
    "            showarrow=False,\n",
    "            font=dict(size=16, color=label[\"color\"], family=\"Arial Black\"),\n",
    "            bgcolor=\"white\",\n",
    "            bordercolor=label[\"color\"],\n",
    "            borderwidth=2,\n",
    "            opacity=0.9\n",
    "        )\n",
    "    \n",
    "    # Get top urgent players for special highlighting\n",
    "    top_urgent = relevant_players.nsmallest(show_top_urgent, 'urgency_rank')\n",
    "    \n",
    "    # Create traces for each position\n",
    "    positions = ['RB', 'WR', 'QB', 'TE']\n",
    "    position_symbols = {'RB': 'circle', 'WR': 'square', 'QB': 'triangle-up', 'TE': 'diamond'}\n",
    "    \n",
    "    for pos in positions:\n",
    "        pos_df = relevant_players[relevant_players['position'] == pos]\n",
    "        if len(pos_df) == 0:\n",
    "            continue\n",
    "        \n",
    "        # Highlight top urgent players\n",
    "        is_urgent = pos_df['player_name'].isin(top_urgent['player_name'])\n",
    "        \n",
    "        fig.add_trace(go.Scatter(\n",
    "            x=pos_df['rank_divergence'],\n",
    "            y=pos_df['probability_available'],\n",
    "            mode='markers+text',\n",
    "            text=np.where(is_urgent, pos_df['player_name'], ''),\n",
    "            textposition=\"top center\",\n",
    "            textfont=dict(size=10, color='black'),\n",
    "            marker=dict(\n",
    "                size=np.maximum(pos_df['vbd_score']/3, 8),\n",
    "                color=pos_df['urgency_score'],\n",
    "                colorscale='Reds',\n",
    "                symbol=position_symbols[pos],\n",
    "                showscale=True if pos == 'RB' else False,\n",
    "                colorbar=dict(\n",
    "                    title=\"Urgency<br>Score\",\n",
    "                    x=1.02\n",
    "                ) if pos == 'RB' else None,\n",
    "                line=dict(\n",
    "                    width=np.where(is_urgent, 3, 1),  # Thicker border for urgent\n",
    "                    color=np.where(is_urgent, 'gold', 'black')  # Gold border for urgent\n",
    "                ),\n",
    "                opacity=0.8\n",
    "            ),\n",
    "            hovertemplate=(\n",
    "                '<b>' + pos_df['player_name'] + '</b><br>' +\n",
    "                'Position: ' + pos + '<br>' +\n",
    "                'Divergence: %{x}<br>' +\n",
    "                'Availability: %{y:.1%}<br>' +\n",
    "                'VBD Score: ' + pos_df['vbd_score'].round(1).astype(str) + '<br>' +\n",
    "                'Urgency Score: %{marker.color}<br>' +\n",
    "                'ESPN Rank: ' + pos_df['espn_rank'].astype(str) + '<br>' +\n",
    "                'ADP Rank: ' + pos_df['adp_rank'].astype(str) + '<br>' +\n",
    "                'Bye Week: ' + pos_df['bye_week'].astype(str) +\n",
    "                '<extra></extra>'\n",
    "            ),\n",
    "            name=f'{pos} ({len(pos_df)})'\n",
    "        ))\n",
    "    \n",
    "    # Add quadrant divider lines\n",
    "    fig.add_hline(y=0.5, line_dash=\"dash\", line_color=\"gray\", line_width=2, opacity=0.7)\n",
    "    fig.add_vline(x=0, line_dash=\"dash\", line_color=\"gray\", line_width=2, opacity=0.7)\n",
    "    \n",
    "    # Add urgency badges for top players\n",
    "    for i, (_, player) in enumerate(top_urgent.iterrows()):\n",
    "        fig.add_annotation(\n",
    "            x=player['rank_divergence'],\n",
    "            y=player['probability_available'],\n",
    "            text=f\"#{int(player['urgency_rank'])}\",\n",
    "            showarrow=True,\n",
    "            arrowhead=2,\n",
    "            arrowsize=1,\n",
    "            arrowwidth=2,\n",
    "            arrowcolor=\"red\",\n",
    "            ax=20, ay=-20,\n",
    "            bgcolor=\"red\",\n",
    "            bordercolor=\"white\",\n",
    "            borderwidth=2,\n",
    "            font=dict(color=\"white\", size=12, family=\"Arial Black\")\n",
    "        )\n",
    "    \n",
    "    fig.update_layout(\n",
    "        title=f'Strategic Decision Matrix - Top {show_top_urgent} Urgent Players Highlighted (Next Pick: {my_picks[0]})',\n",
    "        xaxis_title='Rank Divergence (ESPN - ADP)',\n",
    "        yaxis_title='Probability Available at Your Next Pick',\n",
    "        height=700,\n",
    "        width=1000,\n",
    "        showlegend=True,\n",
    "        legend=dict(x=0.02, y=0.02),\n",
    "        font=dict(size=11),\n",
    "        xaxis=dict(range=[-50, 50]),\n",
    "        yaxis=dict(range=[0, 1])\n",
    "    )\n",
    "    \n",
    "    return fig\n",
    "\n",
    "# Create enhanced strategic matrix\n",
    "enhanced_matrix = create_enhanced_strategic_matrix(enhanced_df, my_picks=[8, 17, 32, 41], show_top_urgent=5)\n",
    "enhanced_matrix.show()\n",
    "\n",
    "print(\"\\n📊 Enhanced Strategic Matrix:\")\n",
    "print(\"🚨 RED BADGES = Top urgency players - consider drafting now\")\n",
    "print(\"💎 BLUE QUADRANT = Hidden gems - ESPN undervalues, still available\")\n",
    "print(\"💚 GREEN QUADRANT = Wait targets - ESPN overvalues, will be available\")\n",
    "print(\"🚨 RED QUADRANT = URGENT - ESPN undervalues, will be gone\")\n",
    "print(\"⚠️ YELLOW QUADRANT = Avoid - ESPN overvalues, others will take anyway\")"
   ]
  },
  {
   "cell_type": "markdown",
   "metadata": {},
   "source": [
    "## Top Urgency Decision Table\n",
    "\n",
    "One-click decision making based on urgency score ranking."
   ]
  },
  {
   "cell_type": "code",
   "execution_count": 6,
   "metadata": {
    "execution": {
     "iopub.execute_input": "2025-08-16T05:22:18.324591Z",
     "iopub.status.busy": "2025-08-16T05:22:18.324485Z",
     "iopub.status.idle": "2025-08-16T05:22:18.330910Z",
     "shell.execute_reply": "2025-08-16T05:22:18.330537Z"
    }
   },
   "outputs": [
    {
     "name": "stdout",
     "output_type": "stream",
     "text": [
      "🏆 TOP URGENCY PLAYERS - DECISION PRIORITY ORDER\n",
      "====================================================================================================\n",
      "#  Advice          Player             Pos ESPN ADP  VBD  Avail  Urgency Div \n",
      "====================================================================================================\n",
      "1  ⚡ CONSIDER NOW  CeeDee Lamb        WR  6    6    53   47.4%  27.9    0   \n",
      "2  ⚡ CONSIDER NOW  Jahmyr Gibbs       RB  5    4    54   49.3%  27.4    1   \n",
      "3  ⚡ CONSIDER NOW  Christian McCaffr  RB  7    11   53   49.2%  26.9    -4  \n",
      "4  ⚡ CONSIDER NOW  Puka Nacua         WR  8    7    52   50.7%  25.6    1   \n",
      "5  ⚡ CONSIDER NOW  Saquon Barkley     RB  4    3    55   53.8%  25.4    1   \n",
      "6  ⚡ CONSIDER NOW  Malik Nabers       WR  9    8    51   57.7%  21.6    1   \n",
      "7  ⚡ CONSIDER NOW  Justin Jefferson   WR  3    5    55   63.4%  20.1    -2  \n",
      "8  ⚡ CONSIDER NOW  Amon-Ra St. Brown  WR  10   9    50   64.0%  18.0    1   \n",
      "9  ⚡ CONSIDER NOW  Bijan Robinson     RB  2    2    56   69.7%  17.0    0   \n",
      "10 ⏳ MONITOR       Derrick Henry      RB  11   12   48   71.6%  13.6    -1  \n",
      "11 ⏳ MONITOR       Ashton Jeanty      RB  12   10   46   73.2%  12.3    2   \n",
      "12 ⏳ MONITOR       Ja'Marr Chase      WR  1    1    57   81.9%  10.3    0   \n",
      "\n",
      "====================================================================================================\n",
      "🎯 DECISION FRAMEWORK:\n",
      "🚨 DRAFT NOW: <30% available - will definitely be gone\n",
      "⚡ CONSIDER NOW: 30-70% available + high VBD - risky to wait\n",
      "🎯 TARGET NEXT: >70% available + undervalued - good next round target\n",
      "⏳ MONITOR: Lower urgency - can wait and see\n"
     ]
    }
   ],
   "source": [
    "def create_urgency_decision_table(df, top_n=10):\n",
    "    \"\"\"Create a ranked urgency table for immediate decision making\"\"\"\n",
    "    \n",
    "    urgency_df = df.nsmallest(top_n, 'urgency_rank')[[\n",
    "        'urgency_rank', 'player_name', 'position', 'espn_rank', 'adp_rank', \n",
    "        'vbd_score', 'probability_available', 'urgency_score', 'rank_divergence'\n",
    "    ]].copy()\n",
    "    \n",
    "    # Add strategic advice\n",
    "    def get_advice(row):\n",
    "        if row['probability_available'] < 0.3:\n",
    "            return \"🚨 DRAFT NOW\"\n",
    "        elif row['probability_available'] < 0.7 and row['vbd_score'] > 40:\n",
    "            return \"⚡ CONSIDER NOW\"\n",
    "        elif row['rank_divergence'] > 15:\n",
    "            return \"🎯 TARGET NEXT\"\n",
    "        else:\n",
    "            return \"⏳ MONITOR\"\n",
    "    \n",
    "    urgency_df['advice'] = urgency_df.apply(get_advice, axis=1)\n",
    "    \n",
    "    print(\"🏆 TOP URGENCY PLAYERS - DECISION PRIORITY ORDER\")\n",
    "    print(\"=\" * 100)\n",
    "    print(f\"{'#':<2} {'Advice':<15} {'Player':<18} {'Pos':<3} {'ESPN':<4} {'ADP':<4} {'VBD':<4} {'Avail':<6} {'Urgency':<7} {'Div':<4}\")\n",
    "    print(\"=\" * 100)\n",
    "    \n",
    "    for _, row in urgency_df.iterrows():\n",
    "        print(\n",
    "            f\"{int(row['urgency_rank']):<2} \"\n",
    "            f\"{row['advice']:<15} \"\n",
    "            f\"{row['player_name'][:17]:<18} \"\n",
    "            f\"{row['position']:<3} \"\n",
    "            f\"{int(row['espn_rank']):<4} \"\n",
    "            f\"{int(row['adp_rank']):<4} \"\n",
    "            f\"{row['vbd_score']:<4.0f} \"\n",
    "            f\"{row['probability_available']:<6.1%} \"\n",
    "            f\"{row['urgency_score']:<7.1f} \"\n",
    "            f\"{row['rank_divergence']:<4.0f}\"\n",
    "        )\n",
    "    \n",
    "    print(\"\\n\" + \"=\" * 100)\n",
    "    print(\"🎯 DECISION FRAMEWORK:\")\n",
    "    print(\"🚨 DRAFT NOW: <30% available - will definitely be gone\")\n",
    "    print(\"⚡ CONSIDER NOW: 30-70% available + high VBD - risky to wait\")\n",
    "    print(\"🎯 TARGET NEXT: >70% available + undervalued - good next round target\")\n",
    "    print(\"⏳ MONITOR: Lower urgency - can wait and see\")\n",
    "    \n",
    "    return urgency_df\n",
    "\n",
    "# Create urgency decision table\n",
    "urgency_table = create_urgency_decision_table(enhanced_df, top_n=12)"
   ]
  },
  {
   "cell_type": "markdown",
   "metadata": {},
   "source": [
    "## Summary: Transform Rank Disagreement into Actionable Urgency\n",
    "\n",
    "### Key Improvements Implemented:\n",
    "\n",
    "1. **Value-Urgency Encoding**: ESPN vs ADP plot now shows:\n",
    "   - Bubble size = VBD (value magnitude)\n",
    "   - Color = Availability (urgency timing)\n",
    "   - Shape = Position (roster context)\n",
    "   - **Focus on large red bubbles** = high value + urgent timing\n",
    "\n",
    "2. **Visual Decision Quadrants**: Strategic Matrix with:\n",
    "   - Transparent colored backgrounds for instant recognition\n",
    "   - Large quadrant labels eliminate need to read legend\n",
    "   - Gold-bordered urgency badges for top priorities\n",
    "\n",
    "3. **Urgency Metric**: VBD × (1 - Availability) converts complex analysis into single actionable score\n",
    "\n",
    "4. **Enhanced Context**: Position shapes, replacement levels, comprehensive hover data\n",
    "\n",
    "### Decision Workflow:\n",
    "1. **Scan** Value-Urgency plot for large red bubbles\n",
    "2. **Confirm** strategic guidance in Matrix quadrants  \n",
    "3. **Execute** using Urgency Decision Table priority order\n",
    "\n",
    "### Next Enhancement Opportunities:\n",
    "- Interactive linking between plots (hover sync)\n",
    "- Pick slider for dynamic scenario modeling\n",
    "- Position filtering and replacement level customization\n",
    "- Real-time updates as players are drafted"
   ]
  }
 ],
 "metadata": {
  "kernelspec": {
   "display_name": "venv",
   "language": "python",
   "name": "python3"
  },
  "language_info": {
   "codemirror_mode": {
    "name": "ipython",
    "version": 3
   },
   "file_extension": ".py",
   "mimetype": "text/x-python",
   "name": "python",
   "nbconvert_exporter": "python",
   "pygments_lexer": "ipython3",
   "version": "3.13.6"
  }
 },
 "nbformat": 4,
 "nbformat_minor": 4
}
