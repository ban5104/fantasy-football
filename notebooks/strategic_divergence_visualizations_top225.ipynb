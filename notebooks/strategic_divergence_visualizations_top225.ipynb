{
 "cells": [
  {
   "cell_type": "markdown",
   "metadata": {},
   "source": [
    "# Strategic Divergence Visualizations - ESPN/ADP Blind Spot Detection\n",
    "\n",
    "This notebook identifies strategic blind spots where the 80% ESPN + 20% ADP weighting may mislead draft decisions by analyzing ranking divergences.\n",
    "\n",
    "**Filtered to Top 225 Players Only** - Removes late-round irrelevant players for draft relevance."
   ]
  },
  {
   "cell_type": "code",
   "execution_count": 9,
   "metadata": {},
   "outputs": [
    {
     "name": "stdout",
     "output_type": "stream",
     "text": [
      "✅ Imports loaded successfully\n"
     ]
    }
   ],
   "source": [
    "# Required imports\n",
    "import pandas as pd\n",
    "import numpy as np\n",
    "import plotly.graph_objects as go\n",
    "import plotly.express as px\n",
    "from scipy import stats\n",
    "import warnings\n",
    "warnings.filterwarnings('ignore')\n",
    "\n",
    "print(\"✅ Imports loaded successfully\")"
   ]
  },
  {
   "cell_type": "code",
   "execution_count": 10,
   "metadata": {},
   "outputs": [
    {
     "name": "stdout",
     "output_type": "stream",
     "text": [
      "ESPN data: 300 players\n",
      "ADP data: 347 players\n",
      "Merged dataset: 300 players\n",
      "Players with ADP data: 252 players\n",
      "\n",
      "✅ Ranking data loaded\n"
     ]
    }
   ],
   "source": [
    "# Load and merge ranking data\n",
    "def load_and_merge_ranking_data():\n",
    "    \"\"\"Load ESPN rankings and external ADP data, merge them for probability calculations\"\"\"\n",
    "    \n",
    "    # Load ESPN data (80% weight)\n",
    "    espn_df = pd.read_csv('../data/espn_projections_20250814.csv')\n",
    "    \n",
    "    # Load FantasyPros ADP data (20% weight)  \n",
    "    adp_df = pd.read_csv('../data/fantasypros_adp_20250815.csv')\n",
    "    \n",
    "    print(f\"ESPN data: {len(espn_df)} players\")\n",
    "    print(f\"ADP data: {len(adp_df)} players\")\n",
    "    \n",
    "    # Standardize player names for matching\n",
    "    def clean_name(name):\n",
    "        return str(name).strip().lower().replace(\"'\", \"\").replace(\".\", \"\")\n",
    "    \n",
    "    espn_df['clean_name'] = espn_df['player_name'].apply(clean_name)\n",
    "    adp_df['clean_name'] = adp_df['PLAYER'].apply(clean_name)\n",
    "    \n",
    "    # Merge ESPN with ADP data\n",
    "    merged_df = espn_df.merge(\n",
    "        adp_df[['clean_name', 'RANK', 'ADP']], \n",
    "        on='clean_name', \n",
    "        how='left'\n",
    "    )\n",
    "    \n",
    "    # Fill missing ADP ranks with ESPN rank + some penalty\n",
    "    merged_df['adp_rank'] = merged_df['RANK'].fillna(merged_df['overall_rank'] + 50)\n",
    "    merged_df['espn_rank'] = merged_df['overall_rank']\n",
    "    \n",
    "    print(f\"Merged dataset: {len(merged_df)} players\")\n",
    "    print(f\"Players with ADP data: {len(merged_df[merged_df['RANK'].notna()])} players\")\n",
    "    \n",
    "    return merged_df[['overall_rank', 'position', 'position_rank', 'player_name', 'team', 'salary_value', 'bye_week', 'espn_rank', 'adp_rank']]\n",
    "\n",
    "# Load the data\n",
    "ranking_df = load_and_merge_ranking_data()\n",
    "print(\"\\n✅ Ranking data loaded\")"
   ]
  },
  {
   "cell_type": "code",
   "execution_count": 11,
   "metadata": {},
   "outputs": [
    {
     "name": "stdout",
     "output_type": "stream",
     "text": [
      "✅ Core probability functions loaded\n"
     ]
    }
   ],
   "source": [
    "# Core probability functions\n",
    "def compute_softmax_scores(rank_series, tau=5.0):\n",
    "    \"\"\"Convert ranks to softmax scores with temperature tau (lower rank = higher score)\"\"\"\n",
    "    scores = np.exp(-rank_series / tau)\n",
    "    return scores\n",
    "\n",
    "def compute_pick_probabilities(available_df, espn_weight=0.8, adp_weight=0.2, tau_espn=5.0, tau_adp=5.0):\n",
    "    \"\"\"\n",
    "    Compute per-player probability of being picked next using weighted softmax over ESPN and ADP ranks\n",
    "    \"\"\"\n",
    "    if len(available_df) == 0:\n",
    "        return pd.Series(dtype=float)\n",
    "    \n",
    "    # Softmax scores for ESPN and ADP ranks\n",
    "    espn_scores = compute_softmax_scores(available_df['espn_rank'], tau_espn)\n",
    "    adp_scores = compute_softmax_scores(available_df['adp_rank'], tau_adp)\n",
    "    \n",
    "    # Weighted combination (80% ESPN, 20% ADP)\n",
    "    combined_scores = espn_weight * espn_scores + adp_weight * adp_scores\n",
    "    \n",
    "    # Normalize to sum to 1 across available players\n",
    "    probs = combined_scores / combined_scores.sum()\n",
    "    return probs\n",
    "\n",
    "def probability_gone_before_next_pick(available_df, player_name, picks_until_next_turn):\n",
    "    \"\"\"\n",
    "    Compute probability a player is gone before your next turn using discrete survival calculation\n",
    "    \"\"\"\n",
    "    if picks_until_next_turn <= 0:\n",
    "        return 0.0\n",
    "    \n",
    "    survival_prob = 1.0\n",
    "    current_available = available_df.copy()\n",
    "    \n",
    "    # Simulate each pick until our next turn\n",
    "    for pick_step in range(picks_until_next_turn):\n",
    "        if len(current_available) == 0:\n",
    "            break\n",
    "            \n",
    "        # Get probabilities for current available players\n",
    "        pick_probs = compute_pick_probabilities(current_available)\n",
    "        \n",
    "        # Find probability our target player gets picked this round\n",
    "        player_mask = current_available['player_name'] == player_name\n",
    "        if not player_mask.any():\n",
    "            # Player already gone\n",
    "            break\n",
    "            \n",
    "        p_pick_now = pick_probs[player_mask].iloc[0] if player_mask.any() else 0.0\n",
    "        \n",
    "        # Update survival probability\n",
    "        survival_prob *= (1 - p_pick_now)\n",
    "        \n",
    "        # For simulation: remove the most likely pick (simplified approach)\n",
    "        most_likely_idx = pick_probs.idxmax()\n",
    "        current_available = current_available.drop(most_likely_idx)\n",
    "    \n",
    "    prob_gone = 1 - survival_prob\n",
    "    return min(1.0, max(0.0, prob_gone))\n",
    "\n",
    "print(\"✅ Core probability functions loaded\")"
   ]
  },
  {
   "cell_type": "code",
   "execution_count": 12,
   "metadata": {},
   "outputs": [
    {
     "name": "stdout",
     "output_type": "stream",
     "text": [
      "✅ Enhanced dataframe with divergence metrics created\n",
      "Total players before filtering: 300\n",
      "Top 225 relevant players: 241\n",
      "Divergence range: -123.0 to 92.0\n",
      "Players with significant negative divergence (ESPN overvalued): 60\n",
      "Players with significant positive divergence (ESPN undervalued): 46\n"
     ]
    }
   ],
   "source": [
    "# Add divergence metrics to dataframe\n",
    "def add_divergence_metrics(df):\n",
    "    \"\"\"Add divergence calculations to existing dataframe\"\"\"\n",
    "    df = df.copy()\n",
    "    df['rank_divergence'] = df['espn_rank'] - df['adp_rank']\n",
    "    df['abs_divergence'] = abs(df['rank_divergence'])\n",
    "    \n",
    "    # Add availability probabilities for analysis\n",
    "    my_picks = [8, 17, 32, 41, 56, 65, 80, 89]\n",
    "    current_pick = 1\n",
    "    next_pick = min([p for p in my_picks if p > current_pick])\n",
    "    picks_until = next_pick - current_pick\n",
    "    \n",
    "    availability_probs = []\n",
    "    for _, player in df.iterrows():\n",
    "        prob_gone = probability_gone_before_next_pick(df, player['player_name'], picks_until)\n",
    "        availability_probs.append(1 - prob_gone)\n",
    "    \n",
    "    df['probability_available'] = availability_probs\n",
    "    df['vbd_score'] = df['salary_value']  # Use salary_value as VBD proxy\n",
    "    \n",
    "    return df\n",
    "\n",
    "# Apply divergence metrics to our data\n",
    "enhanced_df = add_divergence_metrics(ranking_df)\n",
    "\n",
    "# Filter to top 225 players in either ESPN or ADP rankings\n",
    "enhanced_df_filtered = enhanced_df[(enhanced_df['espn_rank'] <= 225) | (enhanced_df['adp_rank'] <= 225)].copy()\n",
    "\n",
    "print(\"✅ Enhanced dataframe with divergence metrics created\")\n",
    "print(f\"Total players before filtering: {len(enhanced_df)}\")\n",
    "print(f\"Top 225 relevant players: {len(enhanced_df_filtered)}\")\n",
    "print(f\"Divergence range: {enhanced_df_filtered['rank_divergence'].min():.1f} to {enhanced_df_filtered['rank_divergence'].max():.1f}\")\n",
    "print(f\"Players with significant negative divergence (ESPN overvalued): {len(enhanced_df_filtered[enhanced_df_filtered['rank_divergence'] < -15])}\")\n",
    "print(f\"Players with significant positive divergence (ESPN undervalued): {len(enhanced_df_filtered[enhanced_df_filtered['rank_divergence'] > 15])}\")"
   ]
  },
  {
   "cell_type": "markdown",
   "metadata": {},
   "source": [
    "## 2. Strategic Override Matrix\n",
    "\n",
    "Four-quadrant analysis for override decisions based on divergence and availability."
   ]
  },
  {
   "cell_type": "code",
   "execution_count": 13,
   "metadata": {},
   "outputs": [
    {
     "data": {
      "application/vnd.plotly.v1+json": {
       "config": {
        "plotlyServerURL": "https://plot.ly"
       },
       "data": [
        {
         "hovertemplate": "Player: %{text}<br>Divergence: %{x}<br>Availability: %{y:.1%}<br>VBD: %{marker.color}<extra></extra>",
         "marker": {
          "color": {
           "bdata": "OTg3NzY1NTQzMjAuLSsqKCYlJCMiISAfHh0cGQ==",
           "dtype": "i1"
          },
          "colorbar": {
           "title": {
            "text": "VBD Score"
           }
          },
          "colorscale": [
           [
            0,
            "#440154"
           ],
           [
            0.1111111111111111,
            "#482878"
           ],
           [
            0.2222222222222222,
            "#3e4989"
           ],
           [
            0.3333333333333333,
            "#31688e"
           ],
           [
            0.4444444444444444,
            "#26828e"
           ],
           [
            0.5555555555555556,
            "#1f9e89"
           ],
           [
            0.6666666666666666,
            "#35b779"
           ],
           [
            0.7777777777777778,
            "#6ece58"
           ],
           [
            0.8888888888888888,
            "#b5de2b"
           ],
           [
            1,
            "#fde725"
           ]
          ],
          "line": {
           "color": "black",
           "width": 1
          },
          "showscale": true,
          "size": {
           "bdata": "AAAAAACALEAAAAAAAAAsQAAAAAAAgCtAAAAAAACAK0AAAAAAAAArQAAAAAAAgCpAAAAAAACAKkAAAAAAAAAqQAAAAAAAgClAAAAAAAAAKUAAAAAAAAAoQAAAAAAAACdAAAAAAACAJkAAAAAAAIAlQAAAAAAAACVAAAAAAAAAJEAAAAAAAAAjQAAAAAAAgCJAAAAAAAAAIkAAAAAAAIAhQAAAAAAAACFAAAAAAACAIEAAAAAAAAAgQAAAAAAAAB9AAAAAAAAAHkAAAAAAAAAdQAAAAAAAABxAAAAAAAAAGUA=",
           "dtype": "f8"
          }
         },
         "mode": "markers+text",
         "text": [
          "Ja'Marr ...",
          "Bijan Ro...",
          "Justin J...",
          "Saquon B...",
          "Jahmyr G...",
          "CeeDee L...",
          "Christia...",
          "Puka Nac...",
          "Malik Na...",
          "Amon-Ra ...",
          "Derrick ...",
          "Ashton J...",
          "Nico Col...",
          "Brian Th...",
          "A.J. Bro...",
          "Drake Lo...",
          "Jonathan...",
          "De'Von A...",
          "Josh Jac...",
          "Brock Bo...",
          "Trey McB...",
          "Kyren Wi...",
          "Bucky Ir...",
          "Tyreek H...",
          "Ladd McC...",
          "Josh All...",
          "Lamar Ja...",
          "Chase Br..."
         ],
         "textposition": "top center",
         "type": "scatter",
         "x": {
          "bdata": "AAAAAAAAAAAAAAAAAAAAAAAAAAAAAADAAAAAAAAA8D8AAAAAAADwPwAAAAAAAAAAAAAAAAAAEMAAAAAAAADwPwAAAAAAAPA/AAAAAAAA8D8AAAAAAADwvwAAAAAAAABAAAAAAAAAAAAAAAAAAAAAAAAAAAAAABTAAAAAAAAACMAAAAAAAAAQwAAAAAAAAAhAAAAAAAAA8D8AAAAAAAAQQAAAAAAAABTAAAAAAAAAFMAAAAAAAAAYQAAAAAAAAAjAAAAAAAAAAEAAAAAAAAAUQAAAAAAAABRAAAAAAAAAJEA=",
          "dtype": "f8"
         },
         "y": {
          "bdata": "rwXqsAcz6j+vuwPan0/mPxsZkvBQTOQ/5JbgWJQ14T+4mY8C4obfP3B2nodrXd4/WBCNVNmC3z91d9u63jngPyfJqefEdeI/e+/ZlF955D8p0KU3DujmP9lxb+s9cOc/3CNf2EJp6T9vjYeSXIPqP0uT8KEj/es/k2pMI1KN7D/1HPXOezbtP5/q7FShBe0/JEo+sTHK7T8EYeDCR9ftPwxhcJaRvu4/cSPoIgr47j8ynG/3pZfuP7FApV9AaO8/jeuOgAKF7z//guZI0YTvPypVkf0Hm+8/MHqCSQei7z8=",
          "dtype": "f8"
         }
        }
       ],
       "layout": {
        "annotations": [
         {
          "bgcolor": "lightgreen",
          "bordercolor": "green",
          "borderwidth": 1,
          "font": {
           "size": 10
          },
          "showarrow": false,
          "text": "📈 ESPN OVERVALUED<br>🟢 LIKELY AVAILABLE<br>💡 Wait & Target Later",
          "x": -30,
          "y": 0.9
         },
         {
          "bgcolor": "lightblue",
          "bordercolor": "blue",
          "borderwidth": 1,
          "font": {
           "size": 10
          },
          "showarrow": false,
          "text": "📉 ESPN UNDERVALUED<br>🟢 LIKELY AVAILABLE<br>🎯 Hidden Gems",
          "x": 30,
          "y": 0.9
         },
         {
          "bgcolor": "lightyellow",
          "bordercolor": "orange",
          "borderwidth": 1,
          "font": {
           "size": 10
          },
          "showarrow": false,
          "text": "📈 ESPN OVERVALUED<br>🔴 WILL BE GONE<br>⚠️ Avoid - Others Overvaluing",
          "x": -30,
          "y": 0.1
         },
         {
          "bgcolor": "lightcoral",
          "bordercolor": "red",
          "borderwidth": 1,
          "font": {
           "size": 10
          },
          "showarrow": false,
          "text": "📉 ESPN UNDERVALUED<br>🔴 WILL BE GONE<br>🚨 Draft Now or Miss Out",
          "x": 30,
          "y": 0.1
         }
        ],
        "height": 700,
        "shapes": [
         {
          "line": {
           "color": "gray",
           "dash": "dash"
          },
          "opacity": 0.5,
          "type": "line",
          "x0": 0,
          "x1": 1,
          "xref": "x domain",
          "y0": 0.5,
          "y1": 0.5,
          "yref": "y"
         },
         {
          "line": {
           "color": "gray",
           "dash": "dash"
          },
          "opacity": 0.5,
          "type": "line",
          "x0": 0,
          "x1": 0,
          "xref": "x",
          "y0": 0,
          "y1": 1,
          "yref": "y domain"
         }
        ],
        "showlegend": false,
        "template": {
         "data": {
          "bar": [
           {
            "error_x": {
             "color": "#2a3f5f"
            },
            "error_y": {
             "color": "#2a3f5f"
            },
            "marker": {
             "line": {
              "color": "#E5ECF6",
              "width": 0.5
             },
             "pattern": {
              "fillmode": "overlay",
              "size": 10,
              "solidity": 0.2
             }
            },
            "type": "bar"
           }
          ],
          "barpolar": [
           {
            "marker": {
             "line": {
              "color": "#E5ECF6",
              "width": 0.5
             },
             "pattern": {
              "fillmode": "overlay",
              "size": 10,
              "solidity": 0.2
             }
            },
            "type": "barpolar"
           }
          ],
          "carpet": [
           {
            "aaxis": {
             "endlinecolor": "#2a3f5f",
             "gridcolor": "white",
             "linecolor": "white",
             "minorgridcolor": "white",
             "startlinecolor": "#2a3f5f"
            },
            "baxis": {
             "endlinecolor": "#2a3f5f",
             "gridcolor": "white",
             "linecolor": "white",
             "minorgridcolor": "white",
             "startlinecolor": "#2a3f5f"
            },
            "type": "carpet"
           }
          ],
          "choropleth": [
           {
            "colorbar": {
             "outlinewidth": 0,
             "ticks": ""
            },
            "type": "choropleth"
           }
          ],
          "contour": [
           {
            "colorbar": {
             "outlinewidth": 0,
             "ticks": ""
            },
            "colorscale": [
             [
              0,
              "#0d0887"
             ],
             [
              0.1111111111111111,
              "#46039f"
             ],
             [
              0.2222222222222222,
              "#7201a8"
             ],
             [
              0.3333333333333333,
              "#9c179e"
             ],
             [
              0.4444444444444444,
              "#bd3786"
             ],
             [
              0.5555555555555556,
              "#d8576b"
             ],
             [
              0.6666666666666666,
              "#ed7953"
             ],
             [
              0.7777777777777778,
              "#fb9f3a"
             ],
             [
              0.8888888888888888,
              "#fdca26"
             ],
             [
              1,
              "#f0f921"
             ]
            ],
            "type": "contour"
           }
          ],
          "contourcarpet": [
           {
            "colorbar": {
             "outlinewidth": 0,
             "ticks": ""
            },
            "type": "contourcarpet"
           }
          ],
          "heatmap": [
           {
            "colorbar": {
             "outlinewidth": 0,
             "ticks": ""
            },
            "colorscale": [
             [
              0,
              "#0d0887"
             ],
             [
              0.1111111111111111,
              "#46039f"
             ],
             [
              0.2222222222222222,
              "#7201a8"
             ],
             [
              0.3333333333333333,
              "#9c179e"
             ],
             [
              0.4444444444444444,
              "#bd3786"
             ],
             [
              0.5555555555555556,
              "#d8576b"
             ],
             [
              0.6666666666666666,
              "#ed7953"
             ],
             [
              0.7777777777777778,
              "#fb9f3a"
             ],
             [
              0.8888888888888888,
              "#fdca26"
             ],
             [
              1,
              "#f0f921"
             ]
            ],
            "type": "heatmap"
           }
          ],
          "histogram": [
           {
            "marker": {
             "pattern": {
              "fillmode": "overlay",
              "size": 10,
              "solidity": 0.2
             }
            },
            "type": "histogram"
           }
          ],
          "histogram2d": [
           {
            "colorbar": {
             "outlinewidth": 0,
             "ticks": ""
            },
            "colorscale": [
             [
              0,
              "#0d0887"
             ],
             [
              0.1111111111111111,
              "#46039f"
             ],
             [
              0.2222222222222222,
              "#7201a8"
             ],
             [
              0.3333333333333333,
              "#9c179e"
             ],
             [
              0.4444444444444444,
              "#bd3786"
             ],
             [
              0.5555555555555556,
              "#d8576b"
             ],
             [
              0.6666666666666666,
              "#ed7953"
             ],
             [
              0.7777777777777778,
              "#fb9f3a"
             ],
             [
              0.8888888888888888,
              "#fdca26"
             ],
             [
              1,
              "#f0f921"
             ]
            ],
            "type": "histogram2d"
           }
          ],
          "histogram2dcontour": [
           {
            "colorbar": {
             "outlinewidth": 0,
             "ticks": ""
            },
            "colorscale": [
             [
              0,
              "#0d0887"
             ],
             [
              0.1111111111111111,
              "#46039f"
             ],
             [
              0.2222222222222222,
              "#7201a8"
             ],
             [
              0.3333333333333333,
              "#9c179e"
             ],
             [
              0.4444444444444444,
              "#bd3786"
             ],
             [
              0.5555555555555556,
              "#d8576b"
             ],
             [
              0.6666666666666666,
              "#ed7953"
             ],
             [
              0.7777777777777778,
              "#fb9f3a"
             ],
             [
              0.8888888888888888,
              "#fdca26"
             ],
             [
              1,
              "#f0f921"
             ]
            ],
            "type": "histogram2dcontour"
           }
          ],
          "mesh3d": [
           {
            "colorbar": {
             "outlinewidth": 0,
             "ticks": ""
            },
            "type": "mesh3d"
           }
          ],
          "parcoords": [
           {
            "line": {
             "colorbar": {
              "outlinewidth": 0,
              "ticks": ""
             }
            },
            "type": "parcoords"
           }
          ],
          "pie": [
           {
            "automargin": true,
            "type": "pie"
           }
          ],
          "scatter": [
           {
            "fillpattern": {
             "fillmode": "overlay",
             "size": 10,
             "solidity": 0.2
            },
            "type": "scatter"
           }
          ],
          "scatter3d": [
           {
            "line": {
             "colorbar": {
              "outlinewidth": 0,
              "ticks": ""
             }
            },
            "marker": {
             "colorbar": {
              "outlinewidth": 0,
              "ticks": ""
             }
            },
            "type": "scatter3d"
           }
          ],
          "scattercarpet": [
           {
            "marker": {
             "colorbar": {
              "outlinewidth": 0,
              "ticks": ""
             }
            },
            "type": "scattercarpet"
           }
          ],
          "scattergeo": [
           {
            "marker": {
             "colorbar": {
              "outlinewidth": 0,
              "ticks": ""
             }
            },
            "type": "scattergeo"
           }
          ],
          "scattergl": [
           {
            "marker": {
             "colorbar": {
              "outlinewidth": 0,
              "ticks": ""
             }
            },
            "type": "scattergl"
           }
          ],
          "scattermap": [
           {
            "marker": {
             "colorbar": {
              "outlinewidth": 0,
              "ticks": ""
             }
            },
            "type": "scattermap"
           }
          ],
          "scattermapbox": [
           {
            "marker": {
             "colorbar": {
              "outlinewidth": 0,
              "ticks": ""
             }
            },
            "type": "scattermapbox"
           }
          ],
          "scatterpolar": [
           {
            "marker": {
             "colorbar": {
              "outlinewidth": 0,
              "ticks": ""
             }
            },
            "type": "scatterpolar"
           }
          ],
          "scatterpolargl": [
           {
            "marker": {
             "colorbar": {
              "outlinewidth": 0,
              "ticks": ""
             }
            },
            "type": "scatterpolargl"
           }
          ],
          "scatterternary": [
           {
            "marker": {
             "colorbar": {
              "outlinewidth": 0,
              "ticks": ""
             }
            },
            "type": "scatterternary"
           }
          ],
          "surface": [
           {
            "colorbar": {
             "outlinewidth": 0,
             "ticks": ""
            },
            "colorscale": [
             [
              0,
              "#0d0887"
             ],
             [
              0.1111111111111111,
              "#46039f"
             ],
             [
              0.2222222222222222,
              "#7201a8"
             ],
             [
              0.3333333333333333,
              "#9c179e"
             ],
             [
              0.4444444444444444,
              "#bd3786"
             ],
             [
              0.5555555555555556,
              "#d8576b"
             ],
             [
              0.6666666666666666,
              "#ed7953"
             ],
             [
              0.7777777777777778,
              "#fb9f3a"
             ],
             [
              0.8888888888888888,
              "#fdca26"
             ],
             [
              1,
              "#f0f921"
             ]
            ],
            "type": "surface"
           }
          ],
          "table": [
           {
            "cells": {
             "fill": {
              "color": "#EBF0F8"
             },
             "line": {
              "color": "white"
             }
            },
            "header": {
             "fill": {
              "color": "#C8D4E3"
             },
             "line": {
              "color": "white"
             }
            },
            "type": "table"
           }
          ]
         },
         "layout": {
          "annotationdefaults": {
           "arrowcolor": "#2a3f5f",
           "arrowhead": 0,
           "arrowwidth": 1
          },
          "autotypenumbers": "strict",
          "coloraxis": {
           "colorbar": {
            "outlinewidth": 0,
            "ticks": ""
           }
          },
          "colorscale": {
           "diverging": [
            [
             0,
             "#8e0152"
            ],
            [
             0.1,
             "#c51b7d"
            ],
            [
             0.2,
             "#de77ae"
            ],
            [
             0.3,
             "#f1b6da"
            ],
            [
             0.4,
             "#fde0ef"
            ],
            [
             0.5,
             "#f7f7f7"
            ],
            [
             0.6,
             "#e6f5d0"
            ],
            [
             0.7,
             "#b8e186"
            ],
            [
             0.8,
             "#7fbc41"
            ],
            [
             0.9,
             "#4d9221"
            ],
            [
             1,
             "#276419"
            ]
           ],
           "sequential": [
            [
             0,
             "#0d0887"
            ],
            [
             0.1111111111111111,
             "#46039f"
            ],
            [
             0.2222222222222222,
             "#7201a8"
            ],
            [
             0.3333333333333333,
             "#9c179e"
            ],
            [
             0.4444444444444444,
             "#bd3786"
            ],
            [
             0.5555555555555556,
             "#d8576b"
            ],
            [
             0.6666666666666666,
             "#ed7953"
            ],
            [
             0.7777777777777778,
             "#fb9f3a"
            ],
            [
             0.8888888888888888,
             "#fdca26"
            ],
            [
             1,
             "#f0f921"
            ]
           ],
           "sequentialminus": [
            [
             0,
             "#0d0887"
            ],
            [
             0.1111111111111111,
             "#46039f"
            ],
            [
             0.2222222222222222,
             "#7201a8"
            ],
            [
             0.3333333333333333,
             "#9c179e"
            ],
            [
             0.4444444444444444,
             "#bd3786"
            ],
            [
             0.5555555555555556,
             "#d8576b"
            ],
            [
             0.6666666666666666,
             "#ed7953"
            ],
            [
             0.7777777777777778,
             "#fb9f3a"
            ],
            [
             0.8888888888888888,
             "#fdca26"
            ],
            [
             1,
             "#f0f921"
            ]
           ]
          },
          "colorway": [
           "#636efa",
           "#EF553B",
           "#00cc96",
           "#ab63fa",
           "#FFA15A",
           "#19d3f3",
           "#FF6692",
           "#B6E880",
           "#FF97FF",
           "#FECB52"
          ],
          "font": {
           "color": "#2a3f5f"
          },
          "geo": {
           "bgcolor": "white",
           "lakecolor": "white",
           "landcolor": "#E5ECF6",
           "showlakes": true,
           "showland": true,
           "subunitcolor": "white"
          },
          "hoverlabel": {
           "align": "left"
          },
          "hovermode": "closest",
          "mapbox": {
           "style": "light"
          },
          "paper_bgcolor": "white",
          "plot_bgcolor": "#E5ECF6",
          "polar": {
           "angularaxis": {
            "gridcolor": "white",
            "linecolor": "white",
            "ticks": ""
           },
           "bgcolor": "#E5ECF6",
           "radialaxis": {
            "gridcolor": "white",
            "linecolor": "white",
            "ticks": ""
           }
          },
          "scene": {
           "xaxis": {
            "backgroundcolor": "#E5ECF6",
            "gridcolor": "white",
            "gridwidth": 2,
            "linecolor": "white",
            "showbackground": true,
            "ticks": "",
            "zerolinecolor": "white"
           },
           "yaxis": {
            "backgroundcolor": "#E5ECF6",
            "gridcolor": "white",
            "gridwidth": 2,
            "linecolor": "white",
            "showbackground": true,
            "ticks": "",
            "zerolinecolor": "white"
           },
           "zaxis": {
            "backgroundcolor": "#E5ECF6",
            "gridcolor": "white",
            "gridwidth": 2,
            "linecolor": "white",
            "showbackground": true,
            "ticks": "",
            "zerolinecolor": "white"
           }
          },
          "shapedefaults": {
           "line": {
            "color": "#2a3f5f"
           }
          },
          "ternary": {
           "aaxis": {
            "gridcolor": "white",
            "linecolor": "white",
            "ticks": ""
           },
           "baxis": {
            "gridcolor": "white",
            "linecolor": "white",
            "ticks": ""
           },
           "bgcolor": "#E5ECF6",
           "caxis": {
            "gridcolor": "white",
            "linecolor": "white",
            "ticks": ""
           }
          },
          "title": {
           "x": 0.05
          },
          "xaxis": {
           "automargin": true,
           "gridcolor": "white",
           "linecolor": "white",
           "ticks": "",
           "title": {
            "standoff": 15
           },
           "zerolinecolor": "white",
           "zerolinewidth": 2
          },
          "yaxis": {
           "automargin": true,
           "gridcolor": "white",
           "linecolor": "white",
           "ticks": "",
           "title": {
            "standoff": 15
           },
           "zerolinecolor": "white",
           "zerolinewidth": 2
          }
         }
        },
        "title": {
         "text": "Strategic Override Decision Matrix - Top 225 Players (Next Pick: 8)"
        },
        "width": 1000,
        "xaxis": {
         "title": {
          "text": "Rank Divergence (ESPN - ADP)"
         }
        },
        "yaxis": {
         "title": {
          "text": "Probability Available at Your Next Pick"
         }
        }
       }
      }
     },
     "metadata": {},
     "output_type": "display_data"
    },
    {
     "name": "stdout",
     "output_type": "stream",
     "text": [
      "\n",
      "📊 Strategic Override Matrix:\n",
      "🎯 Top Right (Blue): Hidden gems - ESPN undervalues, still available\n",
      "🚨 Bottom Right (Red): Urgent picks - ESPN undervalues, will be gone\n",
      "🟢 Top Left (Green): Wait targets - ESPN overvalues, will be available\n",
      "⚠️  Bottom Left (Yellow): Avoid - ESPN overvalues, others will take anyway\n"
     ]
    }
   ],
   "source": [
    "def plot_override_matrix(df, my_picks=[8, 17, 32, 41]):\n",
    "    \"\"\"Four quadrant plot for override decisions\"\"\"\n",
    "    \n",
    "    # Focus on players relevant to next few picks\n",
    "    next_pick = my_picks[0]\n",
    "    relevant_players = df[df['adp_rank'] <= next_pick + 20].copy()\n",
    "    \n",
    "    fig = go.Figure()\n",
    "    \n",
    "    # Add scatter plot\n",
    "    fig.add_trace(go.Scatter(\n",
    "        x=relevant_players['rank_divergence'],\n",
    "        y=relevant_players['probability_available'],\n",
    "        mode='markers+text',\n",
    "        text=[name[:8] + \"...\" if len(name) > 8 else name \n",
    "              for name in relevant_players['player_name']],\n",
    "        textposition=\"top center\",\n",
    "        marker=dict(\n",
    "            size=np.maximum(relevant_players['vbd_score']/4, 6),\n",
    "            color=relevant_players['vbd_score'],\n",
    "            colorscale='Viridis',\n",
    "            showscale=True,\n",
    "            colorbar=dict(title=\"VBD Score\"),\n",
    "            line=dict(width=1, color='black')\n",
    "        ),\n",
    "        hovertemplate='Player: %{text}<br>Divergence: %{x}<br>Availability: %{y:.1%}<br>VBD: %{marker.color}<extra></extra>'\n",
    "    ))\n",
    "    \n",
    "    # Add quadrant lines\n",
    "    fig.add_hline(y=0.5, line_dash=\"dash\", line_color=\"gray\", opacity=0.5)\n",
    "    fig.add_vline(x=0, line_dash=\"dash\", line_color=\"gray\", opacity=0.5)\n",
    "    \n",
    "    # Add quadrant labels with strategic advice\n",
    "    fig.add_annotation(\n",
    "        x=-30, y=0.9,\n",
    "        text=\"📈 ESPN OVERVALUED<br>🟢 LIKELY AVAILABLE<br>💡 Wait & Target Later\",\n",
    "        showarrow=False,\n",
    "        bgcolor=\"lightgreen\",\n",
    "        bordercolor=\"green\",\n",
    "        borderwidth=1,\n",
    "        font=dict(size=10)\n",
    "    )\n",
    "    \n",
    "    fig.add_annotation(\n",
    "        x=30, y=0.9,\n",
    "        text=\"📉 ESPN UNDERVALUED<br>🟢 LIKELY AVAILABLE<br>🎯 Hidden Gems\",\n",
    "        showarrow=False,\n",
    "        bgcolor=\"lightblue\",\n",
    "        bordercolor=\"blue\",\n",
    "        borderwidth=1,\n",
    "        font=dict(size=10)\n",
    "    )\n",
    "    \n",
    "    fig.add_annotation(\n",
    "        x=-30, y=0.1,\n",
    "        text=\"📈 ESPN OVERVALUED<br>🔴 WILL BE GONE<br>⚠️ Avoid - Others Overvaluing\",\n",
    "        showarrow=False,\n",
    "        bgcolor=\"lightyellow\",\n",
    "        bordercolor=\"orange\",\n",
    "        borderwidth=1,\n",
    "        font=dict(size=10)\n",
    "    )\n",
    "    \n",
    "    fig.add_annotation(\n",
    "        x=30, y=0.1,\n",
    "        text=\"📉 ESPN UNDERVALUED<br>🔴 WILL BE GONE<br>🚨 Draft Now or Miss Out\",\n",
    "        showarrow=False,\n",
    "        bgcolor=\"lightcoral\",\n",
    "        bordercolor=\"red\",\n",
    "        borderwidth=1,\n",
    "        font=dict(size=10)\n",
    "    )\n",
    "    \n",
    "    fig.update_layout(\n",
    "        title=f'Strategic Override Decision Matrix - Top 225 Players (Next Pick: {next_pick})',\n",
    "        xaxis_title='Rank Divergence (ESPN - ADP)',\n",
    "        yaxis_title='Probability Available at Your Next Pick',\n",
    "        height=700,\n",
    "        width=1000,\n",
    "        showlegend=False\n",
    "    )\n",
    "    \n",
    "    return fig\n",
    "\n",
    "# Create strategic override matrix\n",
    "override_fig = plot_override_matrix(enhanced_df_filtered, my_picks=[8, 17, 32, 41])\n",
    "override_fig.show()\n",
    "\n",
    "print(\"\\n📊 Strategic Override Matrix:\")\n",
    "print(\"🎯 Top Right (Blue): Hidden gems - ESPN undervalues, still available\")\n",
    "print(\"🚨 Bottom Right (Red): Urgent picks - ESPN undervalues, will be gone\")  \n",
    "print(\"🟢 Top Left (Green): Wait targets - ESPN overvalues, will be available\")\n",
    "print(\"⚠️  Bottom Left (Yellow): Avoid - ESPN overvalues, others will take anyway\")"
   ]
  },
  {
   "cell_type": "markdown",
   "metadata": {},
   "source": [
    "## 3. Divergence Timeline\n",
    "\n",
    "Bubble chart showing rank divergence across draft positions with VBD sizing."
   ]
  },
  {
   "cell_type": "code",
   "execution_count": 14,
   "metadata": {},
   "outputs": [
    {
     "data": {
      "application/vnd.plotly.v1+json": {
       "config": {
        "plotlyServerURL": "https://plot.ly"
       },
       "data": [
        {
         "hovertemplate": "%{text}<extra></extra>",
         "marker": {
          "cmid": 0,
          "color": {
           "bdata": "AAAAAAAAAAAAAAAAAAAAAAAAAAAAAPA/AAAAAAAA8D8AAAAAAAAAwAAAAAAAAAAAAAAAAAAA8D8AAAAAAADwPwAAAAAAAPA/AAAAAAAAAEAAAAAAAAAQwAAAAAAAAPC/AAAAAAAAAAAAAAAAAAAAAAAAAAAAAAhAAAAAAAAAEEAAAAAAAAAYQAAAAAAAAPA/AAAAAAAACMAAAAAAAAAUwAAAAAAAABDAAAAAAAAAJEAAAAAAAAAUQAAAAAAAABRAAAAAAAAAAEAAAAAAAAAUwAAAAAAAABTAAAAAAAAACMAAAAAAAADwPwAAAAAAABhAAAAAAAAALEAAAAAAAAAgwAAAAAAAAC5AAAAAAAAA8L8AAAAAAAAAQAAAAAAAAAhAAAAAAAAAFEAAAAAAAAAiQAAAAAAAAPA/AAAAAAAAIsAAAAAAAAAcwAAAAAAAADDAAAAAAAAAIsAAAAAAAAAQwAAAAAAAACBAAAAAAAAAIEAAAAAAAAAUwAAAAAAAAAAAAAAAAAAACEAAAAAAAAAcwAAAAAAAABRAAAAAAAAAM0AAAAAAAAAcQAAAAAAAACJAAAAAAAAAJkAAAAAAAAA5QAAAAAAAABBAAAAAAAAAHMAAAAAAAAAswAAAAAAAABTAAAAAAAAAKMAAAAAAAAAcQAAAAAAAABzAAAAAAAAACEAAAAAAAAAwwAAAAAAAAChAAAAAAAAA8L8AAAAAAAAQwAAAAAAAABjAAAAAAAAAKEAAAAAAAAAkwAAAAAAAAC7AAAAAAAAAAEAAAAAAAAAIwAAAAAAAABBAAAAAAAAAAAAAAAAAAAAgQAAAAAAAADTAAAAAAAAAIkAAAAAAAAAiQAAAAAAAABDAAAAAAAAA8L8AAAAAAAAmQAAAAAAAACbAAAAAAAAAOkAAAAAAAABJwAAAAAAAABBAAAAAAAAAPkAAAAAAAAAswAAAAAAAAAjAAAAAAAAAMsAAAAAAAAAcQAAAAAAAABRAAAAAAAAACEAAAAAAAADwvwAAAAAAADpAAAAAAAAAMEAAAAAAAAAyQAAAAAAAAC7A",
           "dtype": "f8"
          },
          "colorbar": {
           "title": {
            "text": "Rank Divergence<br>(ESPN - ADP)"
           }
          },
          "colorscale": [
           [
            0,
            "rgb(103,0,31)"
           ],
           [
            0.1,
            "rgb(178,24,43)"
           ],
           [
            0.2,
            "rgb(214,96,77)"
           ],
           [
            0.3,
            "rgb(244,165,130)"
           ],
           [
            0.4,
            "rgb(253,219,199)"
           ],
           [
            0.5,
            "rgb(247,247,247)"
           ],
           [
            0.6,
            "rgb(209,229,240)"
           ],
           [
            0.7,
            "rgb(146,197,222)"
           ],
           [
            0.8,
            "rgb(67,147,195)"
           ],
           [
            0.9,
            "rgb(33,102,172)"
           ],
           [
            1,
            "rgb(5,48,97)"
           ]
          ],
          "line": {
           "color": "black",
           "width": 1
          },
          "showscale": true,
          "size": {
           "bdata": "AAAAAAAAM0CrqqqqqqoyQFVVVVVVVTJAAAAAAAAAMkBVVVVVVVUyQKuqqqqqqjFAVVVVVVVVMUAAAAAAAAAxQKuqqqqqqjBAq6qqqqqqLkCrqqqqqqoxQAAAAAAAADBAAAAAAAAALkCrqqqqqqosQKuqqqqqqihAVVVVVVVVJ0BVVVVVVVUlQAAAAAAAAChAq6qqqqqqKkAAAAAAAAAsQFVVVVVVVSlAq6qqqqqqIEBVVVVVVVUjQKuqqqqqqiJAAAAAAAAAJECrqqqqqqomQAAAAAAAACZAq6qqqqqqJEAAAAAAAAAiQFVVVVVVVR1Aq6qqqqqqFkBVVVVVVVUlQAAAAAAAABRAAAAAAAAAIEBVVVVVVVUdQAAAAAAAABxAVVVVVVVVGUAAAAAAAAAUQKuqqqqqqhpAVVVVVVVVIUCrqqqqqqoeQAAAAAAAACRAVVVVVVVVHUBVVVVVVVUZQAAAAAAAABRAAAAAAAAAFEAAAAAAAAAYQAAAAAAAABRAAAAAAAAAFECrqqqqqqoWQAAAAAAAABRAAAAAAAAAFEAAAAAAAAAUQAAAAAAAABRAAAAAAAAAFEAAAAAAAAAUQAAAAAAAABRAAAAAAAAAFEAAAAAAAAAUQAAAAAAAABRAAAAAAAAAFEAAAAAAAAAUQAAAAAAAABRAAAAAAAAAFEAAAAAAAAAUQAAAAAAAABRAAAAAAAAAFEAAAAAAAAAUQAAAAAAAABRAAAAAAAAAFEAAAAAAAAAUQAAAAAAAABRAAAAAAAAAFEAAAAAAAAAUQAAAAAAAABRAAAAAAAAAFEAAAAAAAAAUQAAAAAAAABRAAAAAAAAAFEAAAAAAAAAUQAAAAAAAABRAAAAAAAAAFEAAAAAAAAAUQAAAAAAAABRAAAAAAAAAFEAAAAAAAAAcQAAAAAAAABRAAAAAAAAAFEAAAAAAAAAUQAAAAAAAABRAAAAAAAAAFEAAAAAAAAAUQAAAAAAAABRAAAAAAAAAFEAAAAAAAAAUQAAAAAAAABRAAAAAAAAAFEAAAAAAAAAUQAAAAAAAABRA",
           "dtype": "f8"
          }
         },
         "mode": "markers",
         "name": "Players",
         "text": [
          "Ja'Marr Chase<br>Position: WR<br>ESPN Rank: 1<br>ADP Rank: 1.0<br>VBD Score: 57<br>Availability: 81.9%",
          "Bijan Robinson<br>Position: RB<br>ESPN Rank: 2<br>ADP Rank: 2.0<br>VBD Score: 56<br>Availability: 69.7%",
          "Saquon Barkley<br>Position: RB<br>ESPN Rank: 4<br>ADP Rank: 3.0<br>VBD Score: 55<br>Availability: 53.8%",
          "Jahmyr Gibbs<br>Position: RB<br>ESPN Rank: 5<br>ADP Rank: 4.0<br>VBD Score: 54<br>Availability: 49.3%",
          "Justin Jefferson<br>Position: WR<br>ESPN Rank: 3<br>ADP Rank: 5.0<br>VBD Score: 55<br>Availability: 63.4%",
          "CeeDee Lamb<br>Position: WR<br>ESPN Rank: 6<br>ADP Rank: 6.0<br>VBD Score: 53<br>Availability: 47.4%",
          "Puka Nacua<br>Position: WR<br>ESPN Rank: 8<br>ADP Rank: 7.0<br>VBD Score: 52<br>Availability: 50.7%",
          "Malik Nabers<br>Position: WR<br>ESPN Rank: 9<br>ADP Rank: 8.0<br>VBD Score: 51<br>Availability: 57.7%",
          "Amon-Ra St. Brown<br>Position: WR<br>ESPN Rank: 10<br>ADP Rank: 9.0<br>VBD Score: 50<br>Availability: 64.0%",
          "Ashton Jeanty<br>Position: RB<br>ESPN Rank: 12<br>ADP Rank: 10.0<br>VBD Score: 46<br>Availability: 73.2%",
          "Christian McCaffrey<br>Position: RB<br>ESPN Rank: 7<br>ADP Rank: 11.0<br>VBD Score: 53<br>Availability: 49.2%",
          "Derrick Henry<br>Position: RB<br>ESPN Rank: 11<br>ADP Rank: 12.0<br>VBD Score: 48<br>Availability: 71.6%",
          "Nico Collins<br>Position: WR<br>ESPN Rank: 13<br>ADP Rank: 13.0<br>VBD Score: 45<br>Availability: 79.4%",
          "Brian Thomas Jr.<br>Position: WR<br>ESPN Rank: 14<br>ADP Rank: 14.0<br>VBD Score: 43<br>Availability: 82.9%",
          "De'Von Achane<br>Position: RB<br>ESPN Rank: 18<br>ADP Rank: 15.0<br>VBD Score: 37<br>Availability: 90.7%",
          "Brock Bowers<br>Position: TE<br>ESPN Rank: 20<br>ADP Rank: 16.0<br>VBD Score: 35<br>Availability: 93.3%",
          "Bucky Irving<br>Position: RB<br>ESPN Rank: 23<br>ADP Rank: 17.0<br>VBD Score: 32<br>Availability: 95.6%",
          "Josh Jacobs<br>Position: RB<br>ESPN Rank: 19<br>ADP Rank: 18.0<br>VBD Score: 36<br>Availability: 93.1%",
          "Drake London<br>Position: WR<br>ESPN Rank: 16<br>ADP Rank: 19.0<br>VBD Score: 40<br>Availability: 89.2%",
          "A.J. Brown<br>Position: WR<br>ESPN Rank: 15<br>ADP Rank: 20.0<br>VBD Score: 42<br>Availability: 87.5%",
          "Jonathan Taylor<br>Position: RB<br>ESPN Rank: 17<br>ADP Rank: 21.0<br>VBD Score: 38<br>Availability: 91.3%",
          "Chase Brown<br>Position: RB<br>ESPN Rank: 32<br>ADP Rank: 22.0<br>VBD Score: 25<br>Availability: 98.9%",
          "Josh Allen<br>Position: QB<br>ESPN Rank: 28<br>ADP Rank: 23.0<br>VBD Score: 29<br>Availability: 98.5%",
          "Lamar Jackson<br>Position: QB<br>ESPN Rank: 29<br>ADP Rank: 24.0<br>VBD Score: 28<br>Availability: 98.8%",
          "Ladd McConkey<br>Position: WR<br>ESPN Rank: 27<br>ADP Rank: 25.0<br>VBD Score: 30<br>Availability: 98.5%",
          "Trey McBride<br>Position: TE<br>ESPN Rank: 21<br>ADP Rank: 26.0<br>VBD Score: 34<br>Availability: 96.1%",
          "Kyren Williams<br>Position: RB<br>ESPN Rank: 22<br>ADP Rank: 27.0<br>VBD Score: 33<br>Availability: 96.8%",
          "Tyreek Hill<br>Position: WR<br>ESPN Rank: 25<br>ADP Rank: 28.0<br>VBD Score: 31<br>Availability: 98.1%",
          "Jayden Daniels<br>Position: QB<br>ESPN Rank: 30<br>ADP Rank: 29.0<br>VBD Score: 27<br>Availability: 99.2%",
          "Jaxon Smith-Njigba<br>Position: WR<br>ESPN Rank: 36<br>ADP Rank: 30.0<br>VBD Score: 22<br>Availability: 99.7%",
          "Breece Hall<br>Position: RB<br>ESPN Rank: 45<br>ADP Rank: 31.0<br>VBD Score: 17<br>Availability: 99.8%",
          "Tee Higgins<br>Position: WR<br>ESPN Rank: 24<br>ADP Rank: 32.0<br>VBD Score: 32<br>Availability: 97.9%",
          "Garrett Wilson<br>Position: WR<br>ESPN Rank: 48<br>ADP Rank: 33.0<br>VBD Score: 14<br>Availability: 99.9%",
          "James Cook<br>Position: RB<br>ESPN Rank: 33<br>ADP Rank: 34.0<br>VBD Score: 24<br>Availability: 99.6%",
          "Omarion Hampton<br>Position: RB<br>ESPN Rank: 37<br>ADP Rank: 35.0<br>VBD Score: 22<br>Availability: 99.8%",
          "Joe Burrow<br>Position: QB<br>ESPN Rank: 39<br>ADP Rank: 36.0<br>VBD Score: 21<br>Availability: 99.9%",
          "Alvin Kamara<br>Position: RB<br>ESPN Rank: 42<br>ADP Rank: 37.0<br>VBD Score: 19<br>Availability: 99.9%",
          "Marvin Harrison Jr.<br>Position: WR<br>ESPN Rank: 47<br>ADP Rank: 38.0<br>VBD Score: 15<br>Availability: 99.9%",
          "George Kittle<br>Position: TE<br>ESPN Rank: 40<br>ADP Rank: 39.0<br>VBD Score: 20<br>Availability: 99.9%",
          "Jalen Hurts<br>Position: QB<br>ESPN Rank: 31<br>ADP Rank: 40.0<br>VBD Score: 26<br>Availability: 99.5%",
          "Terry McLaurin<br>Position: WR<br>ESPN Rank: 34<br>ADP Rank: 41.0<br>VBD Score: 23<br>Availability: 99.7%",
          "Davante Adams<br>Position: WR<br>ESPN Rank: 26<br>ADP Rank: 42.0<br>VBD Score: 30<br>Availability: 98.6%",
          "Mike Evans<br>Position: WR<br>ESPN Rank: 35<br>ADP Rank: 44.0<br>VBD Score: 22<br>Availability: 99.8%",
          "Chuba Hubbard<br>Position: RB<br>ESPN Rank: 41<br>ADP Rank: 45.0<br>VBD Score: 19<br>Availability: 99.9%",
          "DJ Moore<br>Position: WR<br>ESPN Rank: 54<br>ADP Rank: 46.0<br>VBD Score: 10<br>Availability: 100.0%",
          "Rashee Rice<br>Position: WR<br>ESPN Rank: 55<br>ADP Rank: 47.0<br>VBD Score: 10<br>Availability: 100.0%",
          "James Conner<br>Position: RB<br>ESPN Rank: 43<br>ADP Rank: 48.0<br>VBD Score: 18<br>Availability: 100.0%",
          "DK Metcalf<br>Position: WR<br>ESPN Rank: 49<br>ADP Rank: 49.0<br>VBD Score: 13<br>Availability: 100.0%",
          "Courtland Sutton<br>Position: WR<br>ESPN Rank: 53<br>ADP Rank: 50.0<br>VBD Score: 11<br>Availability: 100.0%",
          "TreVeyon Henderson<br>Position: RB<br>ESPN Rank: 44<br>ADP Rank: 51.0<br>VBD Score: 17<br>Availability: 100.0%",
          "DeVonta Smith<br>Position: WR<br>ESPN Rank: 57<br>ADP Rank: 52.0<br>VBD Score: 10<br>Availability: 100.0%",
          "RJ Harvey<br>Position: RB<br>ESPN Rank: 72<br>ADP Rank: 53.0<br>VBD Score: 6<br>Availability: 100.0%",
          "Sam LaPorta<br>Position: TE<br>ESPN Rank: 61<br>ADP Rank: 54.0<br>VBD Score: 8<br>Availability: 100.0%",
          "Tetairoa McMillan<br>Position: WR<br>ESPN Rank: 64<br>ADP Rank: 55.0<br>VBD Score: 7<br>Availability: 100.0%",
          "David Montgomery<br>Position: RB<br>ESPN Rank: 67<br>ADP Rank: 56.0<br>VBD Score: 7<br>Availability: 100.0%",
          "Joe Mixon<br>Position: RB<br>ESPN Rank: 82<br>ADP Rank: 57.0<br>VBD Score: 4<br>Availability: 100.0%",
          "Patrick Mahomes<br>Position: QB<br>ESPN Rank: 62<br>ADP Rank: 58.0<br>VBD Score: 8<br>Availability: 100.0%",
          "D'Andre Swift<br>Position: RB<br>ESPN Rank: 52<br>ADP Rank: 59.0<br>VBD Score: 11<br>Availability: 100.0%",
          "Xavier Worthy<br>Position: WR<br>ESPN Rank: 46<br>ADP Rank: 60.0<br>VBD Score: 15<br>Availability: 100.0%",
          "Jameson Williams<br>Position: WR<br>ESPN Rank: 56<br>ADP Rank: 61.0<br>VBD Score: 10<br>Availability: 100.0%",
          "Zay Flowers<br>Position: WR<br>ESPN Rank: 50<br>ADP Rank: 62.0<br>VBD Score: 13<br>Availability: 100.0%",
          "Isiah Pacheco<br>Position: RB<br>ESPN Rank: 70<br>ADP Rank: 63.0<br>VBD Score: 6<br>Availability: 100.0%",
          "George Pickens<br>Position: WR<br>ESPN Rank: 58<br>ADP Rank: 65.0<br>VBD Score: 9<br>Availability: 100.0%",
          "T.J. Hockenson<br>Position: TE<br>ESPN Rank: 69<br>ADP Rank: 66.0<br>VBD Score: 6<br>Availability: 100.0%",
          "Calvin Ridley<br>Position: WR<br>ESPN Rank: 51<br>ADP Rank: 67.0<br>VBD Score: 12<br>Availability: 100.0%",
          "Kaleb Johnson<br>Position: RB<br>ESPN Rank: 80<br>ADP Rank: 68.0<br>VBD Score: 4<br>Availability: 100.0%",
          "Tony Pollard<br>Position: RB<br>ESPN Rank: 68<br>ADP Rank: 69.0<br>VBD Score: 6<br>Availability: 100.0%",
          "Travis Hunter<br>Position: WR<br>ESPN Rank: 66<br>ADP Rank: 70.0<br>VBD Score: 7<br>Availability: 100.0%",
          "Jerry Jeudy<br>Position: WR<br>ESPN Rank: 65<br>ADP Rank: 71.0<br>VBD Score: 7<br>Availability: 100.0%",
          "Travis Kelce<br>Position: TE<br>ESPN Rank: 84<br>ADP Rank: 72.0<br>VBD Score: 4<br>Availability: 100.0%",
          "Baker Mayfield<br>Position: QB<br>ESPN Rank: 63<br>ADP Rank: 73.0<br>VBD Score: 8<br>Availability: 100.0%",
          "Jaylen Waddle<br>Position: WR<br>ESPN Rank: 59<br>ADP Rank: 74.0<br>VBD Score: 9<br>Availability: 100.0%",
          "Chris Olave<br>Position: WR<br>ESPN Rank: 77<br>ADP Rank: 75.0<br>VBD Score: 5<br>Availability: 100.0%",
          "Chris Godwin<br>Position: WR<br>ESPN Rank: 73<br>ADP Rank: 76.0<br>VBD Score: 6<br>Availability: 100.0%",
          "Tyrone Tracy Jr.<br>Position: RB<br>ESPN Rank: 81<br>ADP Rank: 77.0<br>VBD Score: 4<br>Availability: 100.0%",
          "Jordan Addison<br>Position: WR<br>ESPN Rank: 78<br>ADP Rank: 78.0<br>VBD Score: 4<br>Availability: 100.0%",
          "Bo Nix<br>Position: QB<br>ESPN Rank: 87<br>ADP Rank: 79.0<br>VBD Score: 3<br>Availability: 100.0%",
          "Rome Odunze<br>Position: WR<br>ESPN Rank: 60<br>ADP Rank: 80.0<br>VBD Score: 9<br>Availability: 100.0%",
          "Brian Robinson Jr.<br>Position: RB<br>ESPN Rank: 90<br>ADP Rank: 81.0<br>VBD Score: 3<br>Availability: 100.0%",
          "Jaylen Warren<br>Position: RB<br>ESPN Rank: 91<br>ADP Rank: 82.0<br>VBD Score: 3<br>Availability: 100.0%",
          "Deebo Samuel Sr.<br>Position: WR<br>ESPN Rank: 79<br>ADP Rank: 83.0<br>VBD Score: 4<br>Availability: 100.0%",
          "Mark Andrews<br>Position: TE<br>ESPN Rank: 83<br>ADP Rank: 84.0<br>VBD Score: 4<br>Availability: 100.0%",
          "Stefon Diggs<br>Position: WR<br>ESPN Rank: 96<br>ADP Rank: 85.0<br>VBD Score: 2<br>Availability: 100.0%",
          "Cooper Kupp<br>Position: WR<br>ESPN Rank: 75<br>ADP Rank: 86.0<br>VBD Score: 5<br>Availability: 100.0%",
          "Evan Engram<br>Position: TE<br>ESPN Rank: 113<br>ADP Rank: 87.0<br>VBD Score: 2<br>Availability: 100.0%",
          "Kenneth Walker III<br>Position: RB<br>ESPN Rank: 38<br>ADP Rank: 88.0<br>VBD Score: 21<br>Availability: 99.9%",
          "Quinshon Judkins<br>Position: RB<br>ESPN Rank: 92<br>ADP Rank: 88.0<br>VBD Score: 3<br>Availability: 100.0%",
          "Travis Etienne Jr.<br>Position: RB<br>ESPN Rank: 119<br>ADP Rank: 89.0<br>VBD Score: 2<br>Availability: 100.0%",
          "Jakobi Meyers<br>Position: WR<br>ESPN Rank: 76<br>ADP Rank: 90.0<br>VBD Score: 5<br>Availability: 100.0%",
          "Kyler Murray<br>Position: QB<br>ESPN Rank: 88<br>ADP Rank: 91.0<br>VBD Score: 3<br>Availability: 100.0%",
          "Matthew Golden<br>Position: WR<br>ESPN Rank: 74<br>ADP Rank: 92.0<br>VBD Score: 5<br>Availability: 100.0%",
          "Khalil Shakir<br>Position: WR<br>ESPN Rank: 100<br>ADP Rank: 93.0<br>VBD Score: 2<br>Availability: 100.0%",
          "Ricky Pearsall<br>Position: WR<br>ESPN Rank: 99<br>ADP Rank: 94.0<br>VBD Score: 2<br>Availability: 100.0%",
          "Jauan Jennings<br>Position: WR<br>ESPN Rank: 98<br>ADP Rank: 95.0<br>VBD Score: 2<br>Availability: 100.0%",
          "Javonte Williams<br>Position: RB<br>ESPN Rank: 95<br>ADP Rank: 96.0<br>VBD Score: 3<br>Availability: 100.0%",
          "Jared Goff<br>Position: QB<br>ESPN Rank: 123<br>ADP Rank: 97.0<br>VBD Score: 1<br>Availability: 100.0%",
          "Cam Skattebo<br>Position: RB<br>ESPN Rank: 114<br>ADP Rank: 98.0<br>VBD Score: 2<br>Availability: 100.0%",
          "Jordan Mason<br>Position: RB<br>ESPN Rank: 117<br>ADP Rank: 99.0<br>VBD Score: 2<br>Availability: 100.0%",
          "David Njoku<br>Position: TE<br>ESPN Rank: 85<br>ADP Rank: 100.0<br>VBD Score: 4<br>Availability: 100.0%"
         ],
         "type": "scatter",
         "x": {
          "bdata": "AAAAAAAA8D8AAAAAAAAAQAAAAAAAAAhAAAAAAAAAEEAAAAAAAAAUQAAAAAAAABhAAAAAAAAAHEAAAAAAAAAgQAAAAAAAACJAAAAAAAAAJEAAAAAAAAAmQAAAAAAAAChAAAAAAAAAKkAAAAAAAAAsQAAAAAAAAC5AAAAAAAAAMEAAAAAAAAAxQAAAAAAAADJAAAAAAAAAM0AAAAAAAAA0QAAAAAAAADVAAAAAAAAANkAAAAAAAAA3QAAAAAAAADhAAAAAAAAAOUAAAAAAAAA6QAAAAAAAADtAAAAAAAAAPEAAAAAAAAA9QAAAAAAAAD5AAAAAAAAAP0AAAAAAAABAQAAAAAAAgEBAAAAAAAAAQUAAAAAAAIBBQAAAAAAAAEJAAAAAAACAQkAAAAAAAABDQAAAAAAAgENAAAAAAAAAREAAAAAAAIBEQAAAAAAAAEVAAAAAAAAARkAAAAAAAIBGQAAAAAAAAEdAAAAAAACAR0AAAAAAAABIQAAAAAAAgEhAAAAAAAAASUAAAAAAAIBJQAAAAAAAAEpAAAAAAACASkAAAAAAAABLQAAAAAAAgEtAAAAAAAAATEAAAAAAAIBMQAAAAAAAAE1AAAAAAACATUAAAAAAAABOQAAAAAAAgE5AAAAAAAAAT0AAAAAAAIBPQAAAAAAAQFBAAAAAAACAUEAAAAAAAMBQQAAAAAAAAFFAAAAAAABAUUAAAAAAAIBRQAAAAAAAwFFAAAAAAAAAUkAAAAAAAEBSQAAAAAAAgFJAAAAAAADAUkAAAAAAAABTQAAAAAAAQFNAAAAAAACAU0AAAAAAAMBTQAAAAAAAAFRAAAAAAABAVEAAAAAAAIBUQAAAAAAAwFRAAAAAAAAAVUAAAAAAAEBVQAAAAAAAgFVAAAAAAADAVUAAAAAAAABWQAAAAAAAAFZAAAAAAABAVkAAAAAAAIBWQAAAAAAAwFZAAAAAAAAAV0AAAAAAAEBXQAAAAAAAgFdAAAAAAADAV0AAAAAAAABYQAAAAAAAQFhAAAAAAACAWEAAAAAAAMBYQAAAAAAAAFlA",
          "dtype": "f8"
         },
         "y": {
          "bdata": "AAAAAAAAAAAAAAAAAAAAAAAAAAAAAPA/AAAAAAAA8D8AAAAAAAAAwAAAAAAAAAAAAAAAAAAA8D8AAAAAAADwPwAAAAAAAPA/AAAAAAAAAEAAAAAAAAAQwAAAAAAAAPC/AAAAAAAAAAAAAAAAAAAAAAAAAAAAAAhAAAAAAAAAEEAAAAAAAAAYQAAAAAAAAPA/AAAAAAAACMAAAAAAAAAUwAAAAAAAABDAAAAAAAAAJEAAAAAAAAAUQAAAAAAAABRAAAAAAAAAAEAAAAAAAAAUwAAAAAAAABTAAAAAAAAACMAAAAAAAADwPwAAAAAAABhAAAAAAAAALEAAAAAAAAAgwAAAAAAAAC5AAAAAAAAA8L8AAAAAAAAAQAAAAAAAAAhAAAAAAAAAFEAAAAAAAAAiQAAAAAAAAPA/AAAAAAAAIsAAAAAAAAAcwAAAAAAAADDAAAAAAAAAIsAAAAAAAAAQwAAAAAAAACBAAAAAAAAAIEAAAAAAAAAUwAAAAAAAAAAAAAAAAAAACEAAAAAAAAAcwAAAAAAAABRAAAAAAAAAM0AAAAAAAAAcQAAAAAAAACJAAAAAAAAAJkAAAAAAAAA5QAAAAAAAABBAAAAAAAAAHMAAAAAAAAAswAAAAAAAABTAAAAAAAAAKMAAAAAAAAAcQAAAAAAAABzAAAAAAAAACEAAAAAAAAAwwAAAAAAAAChAAAAAAAAA8L8AAAAAAAAQwAAAAAAAABjAAAAAAAAAKEAAAAAAAAAkwAAAAAAAAC7AAAAAAAAAAEAAAAAAAAAIwAAAAAAAABBAAAAAAAAAAAAAAAAAAAAgQAAAAAAAADTAAAAAAAAAIkAAAAAAAAAiQAAAAAAAABDAAAAAAAAA8L8AAAAAAAAmQAAAAAAAACbAAAAAAAAAOkAAAAAAAABJwAAAAAAAABBAAAAAAAAAPkAAAAAAAAAswAAAAAAAAAjAAAAAAAAAMsAAAAAAAAAcQAAAAAAAABRAAAAAAAAACEAAAAAAAADwvwAAAAAAADpAAAAAAAAAMEAAAAAAAAAyQAAAAAAAAC7A",
          "dtype": "f8"
         }
        }
       ],
       "layout": {
        "annotations": [
         {
          "showarrow": false,
          "text": "Significant Divergence",
          "x": 1,
          "xanchor": "right",
          "xref": "x domain",
          "y": 15,
          "yanchor": "bottom",
          "yref": "y"
         },
         {
          "showarrow": false,
          "text": "Significant Divergence",
          "x": 1,
          "xanchor": "right",
          "xref": "x domain",
          "y": -15,
          "yanchor": "bottom",
          "yref": "y"
         },
         {
          "showarrow": false,
          "text": "Pick 8",
          "x": 8,
          "xanchor": "left",
          "xref": "x",
          "y": 1,
          "yanchor": "top",
          "yref": "y domain"
         },
         {
          "showarrow": false,
          "text": "Pick 17",
          "x": 17,
          "xanchor": "left",
          "xref": "x",
          "y": 1,
          "yanchor": "top",
          "yref": "y domain"
         },
         {
          "showarrow": false,
          "text": "Pick 32",
          "x": 32,
          "xanchor": "left",
          "xref": "x",
          "y": 1,
          "yanchor": "top",
          "yref": "y domain"
         },
         {
          "showarrow": false,
          "text": "Pick 41",
          "x": 41,
          "xanchor": "left",
          "xref": "x",
          "y": 1,
          "yanchor": "top",
          "yref": "y domain"
         }
        ],
        "height": 600,
        "shapes": [
         {
          "line": {
           "color": "gray",
           "dash": "dash"
          },
          "opacity": 0.5,
          "type": "line",
          "x0": 0,
          "x1": 1,
          "xref": "x domain",
          "y0": 0,
          "y1": 0,
          "yref": "y"
         },
         {
          "line": {
           "color": "red",
           "dash": "dot"
          },
          "opacity": 0.7,
          "type": "line",
          "x0": 0,
          "x1": 1,
          "xref": "x domain",
          "y0": 15,
          "y1": 15,
          "yref": "y"
         },
         {
          "line": {
           "color": "blue",
           "dash": "dot"
          },
          "opacity": 0.7,
          "type": "line",
          "x0": 0,
          "x1": 1,
          "xref": "x domain",
          "y0": -15,
          "y1": -15,
          "yref": "y"
         },
         {
          "line": {
           "color": "green",
           "dash": "dash"
          },
          "opacity": 0.6,
          "type": "line",
          "x0": 8,
          "x1": 8,
          "xref": "x",
          "y0": 0,
          "y1": 1,
          "yref": "y domain"
         },
         {
          "line": {
           "color": "green",
           "dash": "dash"
          },
          "opacity": 0.6,
          "type": "line",
          "x0": 17,
          "x1": 17,
          "xref": "x",
          "y0": 0,
          "y1": 1,
          "yref": "y domain"
         },
         {
          "line": {
           "color": "green",
           "dash": "dash"
          },
          "opacity": 0.6,
          "type": "line",
          "x0": 32,
          "x1": 32,
          "xref": "x",
          "y0": 0,
          "y1": 1,
          "yref": "y domain"
         },
         {
          "line": {
           "color": "green",
           "dash": "dash"
          },
          "opacity": 0.6,
          "type": "line",
          "x0": 41,
          "x1": 41,
          "xref": "x",
          "y0": 0,
          "y1": 1,
          "yref": "y domain"
         }
        ],
        "showlegend": false,
        "template": {
         "data": {
          "bar": [
           {
            "error_x": {
             "color": "#2a3f5f"
            },
            "error_y": {
             "color": "#2a3f5f"
            },
            "marker": {
             "line": {
              "color": "#E5ECF6",
              "width": 0.5
             },
             "pattern": {
              "fillmode": "overlay",
              "size": 10,
              "solidity": 0.2
             }
            },
            "type": "bar"
           }
          ],
          "barpolar": [
           {
            "marker": {
             "line": {
              "color": "#E5ECF6",
              "width": 0.5
             },
             "pattern": {
              "fillmode": "overlay",
              "size": 10,
              "solidity": 0.2
             }
            },
            "type": "barpolar"
           }
          ],
          "carpet": [
           {
            "aaxis": {
             "endlinecolor": "#2a3f5f",
             "gridcolor": "white",
             "linecolor": "white",
             "minorgridcolor": "white",
             "startlinecolor": "#2a3f5f"
            },
            "baxis": {
             "endlinecolor": "#2a3f5f",
             "gridcolor": "white",
             "linecolor": "white",
             "minorgridcolor": "white",
             "startlinecolor": "#2a3f5f"
            },
            "type": "carpet"
           }
          ],
          "choropleth": [
           {
            "colorbar": {
             "outlinewidth": 0,
             "ticks": ""
            },
            "type": "choropleth"
           }
          ],
          "contour": [
           {
            "colorbar": {
             "outlinewidth": 0,
             "ticks": ""
            },
            "colorscale": [
             [
              0,
              "#0d0887"
             ],
             [
              0.1111111111111111,
              "#46039f"
             ],
             [
              0.2222222222222222,
              "#7201a8"
             ],
             [
              0.3333333333333333,
              "#9c179e"
             ],
             [
              0.4444444444444444,
              "#bd3786"
             ],
             [
              0.5555555555555556,
              "#d8576b"
             ],
             [
              0.6666666666666666,
              "#ed7953"
             ],
             [
              0.7777777777777778,
              "#fb9f3a"
             ],
             [
              0.8888888888888888,
              "#fdca26"
             ],
             [
              1,
              "#f0f921"
             ]
            ],
            "type": "contour"
           }
          ],
          "contourcarpet": [
           {
            "colorbar": {
             "outlinewidth": 0,
             "ticks": ""
            },
            "type": "contourcarpet"
           }
          ],
          "heatmap": [
           {
            "colorbar": {
             "outlinewidth": 0,
             "ticks": ""
            },
            "colorscale": [
             [
              0,
              "#0d0887"
             ],
             [
              0.1111111111111111,
              "#46039f"
             ],
             [
              0.2222222222222222,
              "#7201a8"
             ],
             [
              0.3333333333333333,
              "#9c179e"
             ],
             [
              0.4444444444444444,
              "#bd3786"
             ],
             [
              0.5555555555555556,
              "#d8576b"
             ],
             [
              0.6666666666666666,
              "#ed7953"
             ],
             [
              0.7777777777777778,
              "#fb9f3a"
             ],
             [
              0.8888888888888888,
              "#fdca26"
             ],
             [
              1,
              "#f0f921"
             ]
            ],
            "type": "heatmap"
           }
          ],
          "histogram": [
           {
            "marker": {
             "pattern": {
              "fillmode": "overlay",
              "size": 10,
              "solidity": 0.2
             }
            },
            "type": "histogram"
           }
          ],
          "histogram2d": [
           {
            "colorbar": {
             "outlinewidth": 0,
             "ticks": ""
            },
            "colorscale": [
             [
              0,
              "#0d0887"
             ],
             [
              0.1111111111111111,
              "#46039f"
             ],
             [
              0.2222222222222222,
              "#7201a8"
             ],
             [
              0.3333333333333333,
              "#9c179e"
             ],
             [
              0.4444444444444444,
              "#bd3786"
             ],
             [
              0.5555555555555556,
              "#d8576b"
             ],
             [
              0.6666666666666666,
              "#ed7953"
             ],
             [
              0.7777777777777778,
              "#fb9f3a"
             ],
             [
              0.8888888888888888,
              "#fdca26"
             ],
             [
              1,
              "#f0f921"
             ]
            ],
            "type": "histogram2d"
           }
          ],
          "histogram2dcontour": [
           {
            "colorbar": {
             "outlinewidth": 0,
             "ticks": ""
            },
            "colorscale": [
             [
              0,
              "#0d0887"
             ],
             [
              0.1111111111111111,
              "#46039f"
             ],
             [
              0.2222222222222222,
              "#7201a8"
             ],
             [
              0.3333333333333333,
              "#9c179e"
             ],
             [
              0.4444444444444444,
              "#bd3786"
             ],
             [
              0.5555555555555556,
              "#d8576b"
             ],
             [
              0.6666666666666666,
              "#ed7953"
             ],
             [
              0.7777777777777778,
              "#fb9f3a"
             ],
             [
              0.8888888888888888,
              "#fdca26"
             ],
             [
              1,
              "#f0f921"
             ]
            ],
            "type": "histogram2dcontour"
           }
          ],
          "mesh3d": [
           {
            "colorbar": {
             "outlinewidth": 0,
             "ticks": ""
            },
            "type": "mesh3d"
           }
          ],
          "parcoords": [
           {
            "line": {
             "colorbar": {
              "outlinewidth": 0,
              "ticks": ""
             }
            },
            "type": "parcoords"
           }
          ],
          "pie": [
           {
            "automargin": true,
            "type": "pie"
           }
          ],
          "scatter": [
           {
            "fillpattern": {
             "fillmode": "overlay",
             "size": 10,
             "solidity": 0.2
            },
            "type": "scatter"
           }
          ],
          "scatter3d": [
           {
            "line": {
             "colorbar": {
              "outlinewidth": 0,
              "ticks": ""
             }
            },
            "marker": {
             "colorbar": {
              "outlinewidth": 0,
              "ticks": ""
             }
            },
            "type": "scatter3d"
           }
          ],
          "scattercarpet": [
           {
            "marker": {
             "colorbar": {
              "outlinewidth": 0,
              "ticks": ""
             }
            },
            "type": "scattercarpet"
           }
          ],
          "scattergeo": [
           {
            "marker": {
             "colorbar": {
              "outlinewidth": 0,
              "ticks": ""
             }
            },
            "type": "scattergeo"
           }
          ],
          "scattergl": [
           {
            "marker": {
             "colorbar": {
              "outlinewidth": 0,
              "ticks": ""
             }
            },
            "type": "scattergl"
           }
          ],
          "scattermap": [
           {
            "marker": {
             "colorbar": {
              "outlinewidth": 0,
              "ticks": ""
             }
            },
            "type": "scattermap"
           }
          ],
          "scattermapbox": [
           {
            "marker": {
             "colorbar": {
              "outlinewidth": 0,
              "ticks": ""
             }
            },
            "type": "scattermapbox"
           }
          ],
          "scatterpolar": [
           {
            "marker": {
             "colorbar": {
              "outlinewidth": 0,
              "ticks": ""
             }
            },
            "type": "scatterpolar"
           }
          ],
          "scatterpolargl": [
           {
            "marker": {
             "colorbar": {
              "outlinewidth": 0,
              "ticks": ""
             }
            },
            "type": "scatterpolargl"
           }
          ],
          "scatterternary": [
           {
            "marker": {
             "colorbar": {
              "outlinewidth": 0,
              "ticks": ""
             }
            },
            "type": "scatterternary"
           }
          ],
          "surface": [
           {
            "colorbar": {
             "outlinewidth": 0,
             "ticks": ""
            },
            "colorscale": [
             [
              0,
              "#0d0887"
             ],
             [
              0.1111111111111111,
              "#46039f"
             ],
             [
              0.2222222222222222,
              "#7201a8"
             ],
             [
              0.3333333333333333,
              "#9c179e"
             ],
             [
              0.4444444444444444,
              "#bd3786"
             ],
             [
              0.5555555555555556,
              "#d8576b"
             ],
             [
              0.6666666666666666,
              "#ed7953"
             ],
             [
              0.7777777777777778,
              "#fb9f3a"
             ],
             [
              0.8888888888888888,
              "#fdca26"
             ],
             [
              1,
              "#f0f921"
             ]
            ],
            "type": "surface"
           }
          ],
          "table": [
           {
            "cells": {
             "fill": {
              "color": "#EBF0F8"
             },
             "line": {
              "color": "white"
             }
            },
            "header": {
             "fill": {
              "color": "#C8D4E3"
             },
             "line": {
              "color": "white"
             }
            },
            "type": "table"
           }
          ]
         },
         "layout": {
          "annotationdefaults": {
           "arrowcolor": "#2a3f5f",
           "arrowhead": 0,
           "arrowwidth": 1
          },
          "autotypenumbers": "strict",
          "coloraxis": {
           "colorbar": {
            "outlinewidth": 0,
            "ticks": ""
           }
          },
          "colorscale": {
           "diverging": [
            [
             0,
             "#8e0152"
            ],
            [
             0.1,
             "#c51b7d"
            ],
            [
             0.2,
             "#de77ae"
            ],
            [
             0.3,
             "#f1b6da"
            ],
            [
             0.4,
             "#fde0ef"
            ],
            [
             0.5,
             "#f7f7f7"
            ],
            [
             0.6,
             "#e6f5d0"
            ],
            [
             0.7,
             "#b8e186"
            ],
            [
             0.8,
             "#7fbc41"
            ],
            [
             0.9,
             "#4d9221"
            ],
            [
             1,
             "#276419"
            ]
           ],
           "sequential": [
            [
             0,
             "#0d0887"
            ],
            [
             0.1111111111111111,
             "#46039f"
            ],
            [
             0.2222222222222222,
             "#7201a8"
            ],
            [
             0.3333333333333333,
             "#9c179e"
            ],
            [
             0.4444444444444444,
             "#bd3786"
            ],
            [
             0.5555555555555556,
             "#d8576b"
            ],
            [
             0.6666666666666666,
             "#ed7953"
            ],
            [
             0.7777777777777778,
             "#fb9f3a"
            ],
            [
             0.8888888888888888,
             "#fdca26"
            ],
            [
             1,
             "#f0f921"
            ]
           ],
           "sequentialminus": [
            [
             0,
             "#0d0887"
            ],
            [
             0.1111111111111111,
             "#46039f"
            ],
            [
             0.2222222222222222,
             "#7201a8"
            ],
            [
             0.3333333333333333,
             "#9c179e"
            ],
            [
             0.4444444444444444,
             "#bd3786"
            ],
            [
             0.5555555555555556,
             "#d8576b"
            ],
            [
             0.6666666666666666,
             "#ed7953"
            ],
            [
             0.7777777777777778,
             "#fb9f3a"
            ],
            [
             0.8888888888888888,
             "#fdca26"
            ],
            [
             1,
             "#f0f921"
            ]
           ]
          },
          "colorway": [
           "#636efa",
           "#EF553B",
           "#00cc96",
           "#ab63fa",
           "#FFA15A",
           "#19d3f3",
           "#FF6692",
           "#B6E880",
           "#FF97FF",
           "#FECB52"
          ],
          "font": {
           "color": "#2a3f5f"
          },
          "geo": {
           "bgcolor": "white",
           "lakecolor": "white",
           "landcolor": "#E5ECF6",
           "showlakes": true,
           "showland": true,
           "subunitcolor": "white"
          },
          "hoverlabel": {
           "align": "left"
          },
          "hovermode": "closest",
          "mapbox": {
           "style": "light"
          },
          "paper_bgcolor": "white",
          "plot_bgcolor": "#E5ECF6",
          "polar": {
           "angularaxis": {
            "gridcolor": "white",
            "linecolor": "white",
            "ticks": ""
           },
           "bgcolor": "#E5ECF6",
           "radialaxis": {
            "gridcolor": "white",
            "linecolor": "white",
            "ticks": ""
           }
          },
          "scene": {
           "xaxis": {
            "backgroundcolor": "#E5ECF6",
            "gridcolor": "white",
            "gridwidth": 2,
            "linecolor": "white",
            "showbackground": true,
            "ticks": "",
            "zerolinecolor": "white"
           },
           "yaxis": {
            "backgroundcolor": "#E5ECF6",
            "gridcolor": "white",
            "gridwidth": 2,
            "linecolor": "white",
            "showbackground": true,
            "ticks": "",
            "zerolinecolor": "white"
           },
           "zaxis": {
            "backgroundcolor": "#E5ECF6",
            "gridcolor": "white",
            "gridwidth": 2,
            "linecolor": "white",
            "showbackground": true,
            "ticks": "",
            "zerolinecolor": "white"
           }
          },
          "shapedefaults": {
           "line": {
            "color": "#2a3f5f"
           }
          },
          "ternary": {
           "aaxis": {
            "gridcolor": "white",
            "linecolor": "white",
            "ticks": ""
           },
           "baxis": {
            "gridcolor": "white",
            "linecolor": "white",
            "ticks": ""
           },
           "bgcolor": "#E5ECF6",
           "caxis": {
            "gridcolor": "white",
            "linecolor": "white",
            "ticks": ""
           }
          },
          "title": {
           "x": 0.05
          },
          "xaxis": {
           "automargin": true,
           "gridcolor": "white",
           "linecolor": "white",
           "ticks": "",
           "title": {
            "standoff": 15
           },
           "zerolinecolor": "white",
           "zerolinewidth": 2
          },
          "yaxis": {
           "automargin": true,
           "gridcolor": "white",
           "linecolor": "white",
           "ticks": "",
           "title": {
            "standoff": 15
           },
           "zerolinecolor": "white",
           "zerolinewidth": 2
          }
         }
        },
        "title": {
         "text": "Divergence vs Draft Position - Top 225 Players (Current Pick: 1)"
        },
        "width": 1000,
        "xaxis": {
         "title": {
          "text": "ADP Rank (Draft Position)"
         }
        },
        "yaxis": {
         "title": {
          "text": "Rank Divergence (ESPN - ADP)"
         }
        }
       }
      }
     },
     "metadata": {},
     "output_type": "display_data"
    },
    {
     "name": "stdout",
     "output_type": "stream",
     "text": [
      "\n",
      "📊 Divergence Timeline:\n",
      "- X-axis: Where players are typically drafted (ADP)\n",
      "- Y-axis: How much ESPN disagrees with ADP\n",
      "- Bubble size: VBD value\n",
      "- Red bubbles above line: ESPN undervalues (potential steals)\n",
      "- Blue bubbles below line: ESPN overvalues (potential traps)\n",
      "- Green lines: Your draft picks\n"
     ]
    }
   ],
   "source": [
    "def plot_divergence_timeline(df, current_pick=1):\n",
    "    \"\"\"Bubble chart of divergence with VBD sizing\"\"\"\n",
    "    \n",
    "    # Focus on players likely to be available in first few rounds\n",
    "    df_plot = df[df['adp_rank'] <= 100].copy()\n",
    "    df_plot = df_plot.sort_values('adp_rank')\n",
    "    \n",
    "    fig = go.Figure()\n",
    "    \n",
    "    # Create hover text with player details\n",
    "    hover_text = [\n",
    "        f\"{row['player_name']}<br>\" +\n",
    "        f\"Position: {row['position']}<br>\" +\n",
    "        f\"ESPN Rank: {row['espn_rank']}<br>\" +\n",
    "        f\"ADP Rank: {row['adp_rank']}<br>\" +\n",
    "        f\"VBD Score: {row['vbd_score']}<br>\" +\n",
    "        f\"Availability: {row['probability_available']:.1%}\"\n",
    "        for _, row in df_plot.iterrows()\n",
    "    ]\n",
    "    \n",
    "    fig.add_trace(go.Scatter(\n",
    "        x=df_plot['adp_rank'],\n",
    "        y=df_plot['rank_divergence'],\n",
    "        mode='markers',\n",
    "        marker=dict(\n",
    "            size=np.maximum(df_plot['vbd_score']/3, 5),  # Minimum size 5\n",
    "            color=df_plot['rank_divergence'],\n",
    "            colorscale='RdBu',\n",
    "            cmid=0,\n",
    "            showscale=True,\n",
    "            colorbar=dict(title=\"Rank Divergence<br>(ESPN - ADP)\"),\n",
    "            line=dict(width=1, color='black')\n",
    "        ),\n",
    "        text=hover_text,\n",
    "        hovertemplate='%{text}<extra></extra>',\n",
    "        name='Players'\n",
    "    ))\n",
    "    \n",
    "    # Add reference lines\n",
    "    fig.add_hline(y=0, line_dash=\"dash\", line_color=\"gray\", opacity=0.5)\n",
    "    fig.add_hline(y=15, line_dash=\"dot\", line_color=\"red\", opacity=0.7, \n",
    "                  annotation_text=\"Significant Divergence\")\n",
    "    fig.add_hline(y=-15, line_dash=\"dot\", line_color=\"blue\", opacity=0.7,\n",
    "                  annotation_text=\"Significant Divergence\")\n",
    "    \n",
    "    # Add user's pick positions\n",
    "    my_picks = [8, 17, 32, 41, 56, 65, 80, 89]\n",
    "    for pick in my_picks[:4]:  # First 4 picks\n",
    "        fig.add_vline(x=pick, line_dash=\"dash\", line_color=\"green\", opacity=0.6,\n",
    "                      annotation_text=f\"Pick {pick}\")\n",
    "    \n",
    "    fig.update_layout(\n",
    "        title=f'Divergence vs Draft Position - Top 225 Players (Current Pick: {current_pick})',\n",
    "        xaxis_title='ADP Rank (Draft Position)',\n",
    "        yaxis_title='Rank Divergence (ESPN - ADP)',\n",
    "        height=600,\n",
    "        width=1000,\n",
    "        showlegend=False\n",
    "    )\n",
    "    \n",
    "    return fig\n",
    "\n",
    "# Create divergence timeline\n",
    "timeline_fig = plot_divergence_timeline(enhanced_df_filtered, current_pick=1)\n",
    "timeline_fig.show()\n",
    "\n",
    "print(\"\\n📊 Divergence Timeline:\")\n",
    "print(\"- X-axis: Where players are typically drafted (ADP)\")\n",
    "print(\"- Y-axis: How much ESPN disagrees with ADP\")\n",
    "print(\"- Bubble size: VBD value\")\n",
    "print(\"- Red bubbles above line: ESPN undervalues (potential steals)\")\n",
    "print(\"- Blue bubbles below line: ESPN overvalues (potential traps)\")\n",
    "print(\"- Green lines: Your draft picks\")"
   ]
  },
  {
   "cell_type": "markdown",
   "metadata": {},
   "source": [
    "## 4. Divergence Summary Table\n",
    "\n",
    "Concrete examples of the biggest blind spots for immediate actionable insights."
   ]
  },
  {
   "cell_type": "code",
   "execution_count": 15,
   "metadata": {},
   "outputs": [
    {
     "name": "stdout",
     "output_type": "stream",
     "text": [
      "🚨 BIGGEST BLIND SPOTS - ESPN SIGNIFICANTLY UNDERVALUES (Top 225 Players):\n",
      "================================================================================\n",
      "🎯 TARGET Jonnu Smith          | ESPN:206 ADP:114 | Divergence: +92 | Avail: 100.0%\n",
      "🎯 TARGET Sam Darnold          | ESPN:267 ADP:175 | Divergence: +92 | Avail: 100.0%\n",
      "🎯 TARGET Isaiah Likely        | ESPN:258 ADP:169 | Divergence: +89 | Avail: 100.0%\n",
      "🎯 TARGET Aaron Rodgers        | ESPN:268 ADP:182 | Divergence: +86 | Avail: 100.0%\n",
      "🎯 TARGET Rico Dowdle          | ESPN:222 ADP:142 | Divergence: +80 | Avail: 100.0%\n",
      "🎯 TARGET Brashard Smith       | ESPN:282 ADP:205 | Divergence: +77 | Avail: 100.0%\n",
      "🎯 TARGET Daniel Jones         | ESPN:296 ADP:222 | Divergence: +74 | Avail: 100.0%\n",
      "🎯 TARGET Ja'Tavion Sanders    | ESPN:292 ADP:219 | Divergence: +73 | Avail: 100.0%\n",
      "\n",
      "📈 BIGGEST OVERVALUES - ESPN SIGNIFICANTLY OVERVALUES (Top 225 Players):\n",
      "================================================================================\n",
      "⏳ WAIT Cairo Santos         | ESPN:190 ADP:313 | Divergence: -123 | Avail: 100.0%\n",
      "⏳ WAIT Matt Gay             | ESPN:192 ADP:293 | Divergence: -101 | Avail: 100.0%\n",
      "⏳ WAIT Brandin Cooks        | ESPN:204 ADP:302 | Divergence: -98 | Avail: 100.0%\n",
      "⏳ WAIT Diontae Johnson      | ESPN:203 ADP:296 | Divergence: -93 | Avail: 100.0%\n",
      "⏳ WAIT Tyler Loop           | ESPN:191 ADP:276 | Divergence: -85 | Avail: 100.0%\n",
      "⏳ WAIT Michael Wilson       | ESPN:163 ADP:238 | Divergence: -75 | Avail: 100.0%\n",
      "⏳ WAIT Jason Sanders        | ESPN:185 ADP:253 | Divergence: -68 | Avail: 100.0%\n",
      "⏳ WAIT Will Shipley         | ESPN:151 ADP:213 | Divergence: -62 | Avail: 100.0%\n",
      "\n",
      "📊 POSITION BREAKDOWN (Top 225 Players):\n",
      "==================================================\n",
      "RB: Avg Divergence: +4.9 | Undervalued: 16 | Overvalued: 9\n",
      "WR: Avg Divergence: -9.5 | Undervalued: 7 | Overvalued: 22\n",
      "QB: Avg Divergence: +15.9 | Undervalued: 11 | Overvalued: 3\n",
      "TE: Avg Divergence: +12.2 | Undervalued: 11 | Overvalued: 4\n",
      "\n",
      "================================================================================\n",
      "🎯 STRATEGIC TAKEAWAYS:\n",
      "- Focus on 🎯 TARGET and 🚨 URGENT players (positive divergence)\n",
      "- Consider waiting on ⏳ WAIT players (negative divergence, high availability)\n",
      "- Avoid reaching for ⚠️ AVOID players (negative divergence, low availability)\n",
      "- The 80% ESPN weight may cause you to miss significant value\n",
      "- Analysis filtered to top 225 players only for draft relevance\n"
     ]
    }
   ],
   "source": [
    "def create_divergence_summary_table(df, top_n=10):\n",
    "    \"\"\"Create summary table of biggest divergences with strategic advice - Top 225 players only\"\"\"\n",
    "    \n",
    "    # Get biggest positive and negative divergences from filtered data\n",
    "    positive_divergence = df[df['rank_divergence'] > 0].nlargest(top_n, 'rank_divergence')\n",
    "    negative_divergence = df[df['rank_divergence'] < 0].nsmallest(top_n, 'rank_divergence')\n",
    "    \n",
    "    print(\"🚨 BIGGEST BLIND SPOTS - ESPN SIGNIFICANTLY UNDERVALUES (Top 225 Players):\")\n",
    "    print(\"=\" * 80)\n",
    "    for _, player in positive_divergence.iterrows():\n",
    "        advice = \"🎯 TARGET\" if player['probability_available'] > 0.7 else \"🚨 URGENT\"\n",
    "        print(f\"{advice} {player['player_name']:<20} | ESPN:{player['espn_rank']:>3.0f} ADP:{player['adp_rank']:>3.0f} | \"\n",
    "              f\"Divergence: +{player['rank_divergence']:>2.0f} | Avail: {player['probability_available']:.1%}\")\n",
    "    \n",
    "    print(\"\\n📈 BIGGEST OVERVALUES - ESPN SIGNIFICANTLY OVERVALUES (Top 225 Players):\")\n",
    "    print(\"=\" * 80)\n",
    "    for _, player in negative_divergence.iterrows():\n",
    "        advice = \"⏳ WAIT\" if player['probability_available'] > 0.7 else \"⚠️ AVOID\"\n",
    "        print(f\"{advice} {player['player_name']:<20} | ESPN:{player['espn_rank']:>3.0f} ADP:{player['adp_rank']:>3.0f} | \"\n",
    "              f\"Divergence: {player['rank_divergence']:>3.0f} | Avail: {player['probability_available']:.1%}\")\n",
    "    \n",
    "    # Position-specific insights\n",
    "    print(f\"\\n📊 POSITION BREAKDOWN (Top 225 Players):\")\n",
    "    print(\"=\" * 50)\n",
    "    for pos in ['RB', 'WR', 'QB', 'TE']:\n",
    "        pos_df = df[df['position'] == pos]\n",
    "        if len(pos_df) > 0:\n",
    "            avg_divergence = pos_df['rank_divergence'].mean()\n",
    "            undervalued = len(pos_df[pos_df['rank_divergence'] > 15])\n",
    "            overvalued = len(pos_df[pos_df['rank_divergence'] < -15])\n",
    "            print(f\"{pos}: Avg Divergence: {avg_divergence:+.1f} | Undervalued: {undervalued} | Overvalued: {overvalued}\")\n",
    "\n",
    "# Create and display summary table\n",
    "create_divergence_summary_table(enhanced_df_filtered, top_n=8)\n",
    "\n",
    "print(\"\\n\" + \"=\" * 80)\n",
    "print(\"🎯 STRATEGIC TAKEAWAYS:\")\n",
    "print(\"- Focus on 🎯 TARGET and 🚨 URGENT players (positive divergence)\")\n",
    "print(\"- Consider waiting on ⏳ WAIT players (negative divergence, high availability)\")\n",
    "print(\"- Avoid reaching for ⚠️ AVOID players (negative divergence, low availability)\")\n",
    "print(\"- The 80% ESPN weight may cause you to miss significant value\")\n",
    "print(\"- Analysis filtered to top 225 players only for draft relevance\")"
   ]
  },
  {
   "cell_type": "markdown",
   "metadata": {},
   "source": [
    "## 7. ESPN vs ADP Ranking Comparison\n",
    "\n",
    "Direct comparison showing correlation and outliers between ranking sources."
   ]
  },
  {
   "cell_type": "code",
   "execution_count": 16,
   "metadata": {},
   "outputs": [
    {
     "data": {
      "application/vnd.plotly.v1+json": {
       "config": {
        "plotlyServerURL": "https://plot.ly"
       },
       "data": [
        {
         "marker": {
          "color": "blue",
          "size": 10
         },
         "mode": "markers+text",
         "name": "Players",
         "text": [
          "Ja'Marr Chase",
          "Bijan Robinson",
          "Saquon Barkley",
          "Jahmyr Gibbs",
          "Justin Jefferson",
          "CeeDee Lamb",
          "Puka Nacua",
          "Malik Nabers",
          "Amon-Ra St. Brown",
          "Ashton Jeanty",
          "Christian McCaffrey",
          "Derrick Henry",
          "Nico Collins",
          "Brian Thomas Jr.",
          "De'Von Achane",
          "Brock Bowers",
          "Bucky Irving",
          "Josh Jacobs",
          "Drake London",
          "A.J. Brown"
         ],
         "textposition": "top center",
         "type": "scatter",
         "x": {
          "bdata": "AQIEBQMGCAkKDAcLDQ4SFBcTEA8=",
          "dtype": "i1"
         },
         "y": {
          "bdata": "AAAAAAAA8D8AAAAAAAAAQAAAAAAAAAhAAAAAAAAAEEAAAAAAAAAUQAAAAAAAABhAAAAAAAAAHEAAAAAAAAAgQAAAAAAAACJAAAAAAAAAJEAAAAAAAAAmQAAAAAAAAChAAAAAAAAAKkAAAAAAAAAsQAAAAAAAAC5AAAAAAAAAMEAAAAAAAAAxQAAAAAAAADJAAAAAAAAAM0AAAAAAAAA0QA==",
          "dtype": "f8"
         }
        },
        {
         "line": {
          "color": "red",
          "dash": "dash"
         },
         "mode": "lines",
         "name": "Perfect Correlation",
         "type": "scatter",
         "x": [
          1,
          23
         ],
         "y": [
          1,
          23
         ]
        }
       ],
       "layout": {
        "height": 600,
        "template": {
         "data": {
          "bar": [
           {
            "error_x": {
             "color": "#2a3f5f"
            },
            "error_y": {
             "color": "#2a3f5f"
            },
            "marker": {
             "line": {
              "color": "#E5ECF6",
              "width": 0.5
             },
             "pattern": {
              "fillmode": "overlay",
              "size": 10,
              "solidity": 0.2
             }
            },
            "type": "bar"
           }
          ],
          "barpolar": [
           {
            "marker": {
             "line": {
              "color": "#E5ECF6",
              "width": 0.5
             },
             "pattern": {
              "fillmode": "overlay",
              "size": 10,
              "solidity": 0.2
             }
            },
            "type": "barpolar"
           }
          ],
          "carpet": [
           {
            "aaxis": {
             "endlinecolor": "#2a3f5f",
             "gridcolor": "white",
             "linecolor": "white",
             "minorgridcolor": "white",
             "startlinecolor": "#2a3f5f"
            },
            "baxis": {
             "endlinecolor": "#2a3f5f",
             "gridcolor": "white",
             "linecolor": "white",
             "minorgridcolor": "white",
             "startlinecolor": "#2a3f5f"
            },
            "type": "carpet"
           }
          ],
          "choropleth": [
           {
            "colorbar": {
             "outlinewidth": 0,
             "ticks": ""
            },
            "type": "choropleth"
           }
          ],
          "contour": [
           {
            "colorbar": {
             "outlinewidth": 0,
             "ticks": ""
            },
            "colorscale": [
             [
              0,
              "#0d0887"
             ],
             [
              0.1111111111111111,
              "#46039f"
             ],
             [
              0.2222222222222222,
              "#7201a8"
             ],
             [
              0.3333333333333333,
              "#9c179e"
             ],
             [
              0.4444444444444444,
              "#bd3786"
             ],
             [
              0.5555555555555556,
              "#d8576b"
             ],
             [
              0.6666666666666666,
              "#ed7953"
             ],
             [
              0.7777777777777778,
              "#fb9f3a"
             ],
             [
              0.8888888888888888,
              "#fdca26"
             ],
             [
              1,
              "#f0f921"
             ]
            ],
            "type": "contour"
           }
          ],
          "contourcarpet": [
           {
            "colorbar": {
             "outlinewidth": 0,
             "ticks": ""
            },
            "type": "contourcarpet"
           }
          ],
          "heatmap": [
           {
            "colorbar": {
             "outlinewidth": 0,
             "ticks": ""
            },
            "colorscale": [
             [
              0,
              "#0d0887"
             ],
             [
              0.1111111111111111,
              "#46039f"
             ],
             [
              0.2222222222222222,
              "#7201a8"
             ],
             [
              0.3333333333333333,
              "#9c179e"
             ],
             [
              0.4444444444444444,
              "#bd3786"
             ],
             [
              0.5555555555555556,
              "#d8576b"
             ],
             [
              0.6666666666666666,
              "#ed7953"
             ],
             [
              0.7777777777777778,
              "#fb9f3a"
             ],
             [
              0.8888888888888888,
              "#fdca26"
             ],
             [
              1,
              "#f0f921"
             ]
            ],
            "type": "heatmap"
           }
          ],
          "histogram": [
           {
            "marker": {
             "pattern": {
              "fillmode": "overlay",
              "size": 10,
              "solidity": 0.2
             }
            },
            "type": "histogram"
           }
          ],
          "histogram2d": [
           {
            "colorbar": {
             "outlinewidth": 0,
             "ticks": ""
            },
            "colorscale": [
             [
              0,
              "#0d0887"
             ],
             [
              0.1111111111111111,
              "#46039f"
             ],
             [
              0.2222222222222222,
              "#7201a8"
             ],
             [
              0.3333333333333333,
              "#9c179e"
             ],
             [
              0.4444444444444444,
              "#bd3786"
             ],
             [
              0.5555555555555556,
              "#d8576b"
             ],
             [
              0.6666666666666666,
              "#ed7953"
             ],
             [
              0.7777777777777778,
              "#fb9f3a"
             ],
             [
              0.8888888888888888,
              "#fdca26"
             ],
             [
              1,
              "#f0f921"
             ]
            ],
            "type": "histogram2d"
           }
          ],
          "histogram2dcontour": [
           {
            "colorbar": {
             "outlinewidth": 0,
             "ticks": ""
            },
            "colorscale": [
             [
              0,
              "#0d0887"
             ],
             [
              0.1111111111111111,
              "#46039f"
             ],
             [
              0.2222222222222222,
              "#7201a8"
             ],
             [
              0.3333333333333333,
              "#9c179e"
             ],
             [
              0.4444444444444444,
              "#bd3786"
             ],
             [
              0.5555555555555556,
              "#d8576b"
             ],
             [
              0.6666666666666666,
              "#ed7953"
             ],
             [
              0.7777777777777778,
              "#fb9f3a"
             ],
             [
              0.8888888888888888,
              "#fdca26"
             ],
             [
              1,
              "#f0f921"
             ]
            ],
            "type": "histogram2dcontour"
           }
          ],
          "mesh3d": [
           {
            "colorbar": {
             "outlinewidth": 0,
             "ticks": ""
            },
            "type": "mesh3d"
           }
          ],
          "parcoords": [
           {
            "line": {
             "colorbar": {
              "outlinewidth": 0,
              "ticks": ""
             }
            },
            "type": "parcoords"
           }
          ],
          "pie": [
           {
            "automargin": true,
            "type": "pie"
           }
          ],
          "scatter": [
           {
            "fillpattern": {
             "fillmode": "overlay",
             "size": 10,
             "solidity": 0.2
            },
            "type": "scatter"
           }
          ],
          "scatter3d": [
           {
            "line": {
             "colorbar": {
              "outlinewidth": 0,
              "ticks": ""
             }
            },
            "marker": {
             "colorbar": {
              "outlinewidth": 0,
              "ticks": ""
             }
            },
            "type": "scatter3d"
           }
          ],
          "scattercarpet": [
           {
            "marker": {
             "colorbar": {
              "outlinewidth": 0,
              "ticks": ""
             }
            },
            "type": "scattercarpet"
           }
          ],
          "scattergeo": [
           {
            "marker": {
             "colorbar": {
              "outlinewidth": 0,
              "ticks": ""
             }
            },
            "type": "scattergeo"
           }
          ],
          "scattergl": [
           {
            "marker": {
             "colorbar": {
              "outlinewidth": 0,
              "ticks": ""
             }
            },
            "type": "scattergl"
           }
          ],
          "scattermap": [
           {
            "marker": {
             "colorbar": {
              "outlinewidth": 0,
              "ticks": ""
             }
            },
            "type": "scattermap"
           }
          ],
          "scattermapbox": [
           {
            "marker": {
             "colorbar": {
              "outlinewidth": 0,
              "ticks": ""
             }
            },
            "type": "scattermapbox"
           }
          ],
          "scatterpolar": [
           {
            "marker": {
             "colorbar": {
              "outlinewidth": 0,
              "ticks": ""
             }
            },
            "type": "scatterpolar"
           }
          ],
          "scatterpolargl": [
           {
            "marker": {
             "colorbar": {
              "outlinewidth": 0,
              "ticks": ""
             }
            },
            "type": "scatterpolargl"
           }
          ],
          "scatterternary": [
           {
            "marker": {
             "colorbar": {
              "outlinewidth": 0,
              "ticks": ""
             }
            },
            "type": "scatterternary"
           }
          ],
          "surface": [
           {
            "colorbar": {
             "outlinewidth": 0,
             "ticks": ""
            },
            "colorscale": [
             [
              0,
              "#0d0887"
             ],
             [
              0.1111111111111111,
              "#46039f"
             ],
             [
              0.2222222222222222,
              "#7201a8"
             ],
             [
              0.3333333333333333,
              "#9c179e"
             ],
             [
              0.4444444444444444,
              "#bd3786"
             ],
             [
              0.5555555555555556,
              "#d8576b"
             ],
             [
              0.6666666666666666,
              "#ed7953"
             ],
             [
              0.7777777777777778,
              "#fb9f3a"
             ],
             [
              0.8888888888888888,
              "#fdca26"
             ],
             [
              1,
              "#f0f921"
             ]
            ],
            "type": "surface"
           }
          ],
          "table": [
           {
            "cells": {
             "fill": {
              "color": "#EBF0F8"
             },
             "line": {
              "color": "white"
             }
            },
            "header": {
             "fill": {
              "color": "#C8D4E3"
             },
             "line": {
              "color": "white"
             }
            },
            "type": "table"
           }
          ]
         },
         "layout": {
          "annotationdefaults": {
           "arrowcolor": "#2a3f5f",
           "arrowhead": 0,
           "arrowwidth": 1
          },
          "autotypenumbers": "strict",
          "coloraxis": {
           "colorbar": {
            "outlinewidth": 0,
            "ticks": ""
           }
          },
          "colorscale": {
           "diverging": [
            [
             0,
             "#8e0152"
            ],
            [
             0.1,
             "#c51b7d"
            ],
            [
             0.2,
             "#de77ae"
            ],
            [
             0.3,
             "#f1b6da"
            ],
            [
             0.4,
             "#fde0ef"
            ],
            [
             0.5,
             "#f7f7f7"
            ],
            [
             0.6,
             "#e6f5d0"
            ],
            [
             0.7,
             "#b8e186"
            ],
            [
             0.8,
             "#7fbc41"
            ],
            [
             0.9,
             "#4d9221"
            ],
            [
             1,
             "#276419"
            ]
           ],
           "sequential": [
            [
             0,
             "#0d0887"
            ],
            [
             0.1111111111111111,
             "#46039f"
            ],
            [
             0.2222222222222222,
             "#7201a8"
            ],
            [
             0.3333333333333333,
             "#9c179e"
            ],
            [
             0.4444444444444444,
             "#bd3786"
            ],
            [
             0.5555555555555556,
             "#d8576b"
            ],
            [
             0.6666666666666666,
             "#ed7953"
            ],
            [
             0.7777777777777778,
             "#fb9f3a"
            ],
            [
             0.8888888888888888,
             "#fdca26"
            ],
            [
             1,
             "#f0f921"
            ]
           ],
           "sequentialminus": [
            [
             0,
             "#0d0887"
            ],
            [
             0.1111111111111111,
             "#46039f"
            ],
            [
             0.2222222222222222,
             "#7201a8"
            ],
            [
             0.3333333333333333,
             "#9c179e"
            ],
            [
             0.4444444444444444,
             "#bd3786"
            ],
            [
             0.5555555555555556,
             "#d8576b"
            ],
            [
             0.6666666666666666,
             "#ed7953"
            ],
            [
             0.7777777777777778,
             "#fb9f3a"
            ],
            [
             0.8888888888888888,
             "#fdca26"
            ],
            [
             1,
             "#f0f921"
            ]
           ]
          },
          "colorway": [
           "#636efa",
           "#EF553B",
           "#00cc96",
           "#ab63fa",
           "#FFA15A",
           "#19d3f3",
           "#FF6692",
           "#B6E880",
           "#FF97FF",
           "#FECB52"
          ],
          "font": {
           "color": "#2a3f5f"
          },
          "geo": {
           "bgcolor": "white",
           "lakecolor": "white",
           "landcolor": "#E5ECF6",
           "showlakes": true,
           "showland": true,
           "subunitcolor": "white"
          },
          "hoverlabel": {
           "align": "left"
          },
          "hovermode": "closest",
          "mapbox": {
           "style": "light"
          },
          "paper_bgcolor": "white",
          "plot_bgcolor": "#E5ECF6",
          "polar": {
           "angularaxis": {
            "gridcolor": "white",
            "linecolor": "white",
            "ticks": ""
           },
           "bgcolor": "#E5ECF6",
           "radialaxis": {
            "gridcolor": "white",
            "linecolor": "white",
            "ticks": ""
           }
          },
          "scene": {
           "xaxis": {
            "backgroundcolor": "#E5ECF6",
            "gridcolor": "white",
            "gridwidth": 2,
            "linecolor": "white",
            "showbackground": true,
            "ticks": "",
            "zerolinecolor": "white"
           },
           "yaxis": {
            "backgroundcolor": "#E5ECF6",
            "gridcolor": "white",
            "gridwidth": 2,
            "linecolor": "white",
            "showbackground": true,
            "ticks": "",
            "zerolinecolor": "white"
           },
           "zaxis": {
            "backgroundcolor": "#E5ECF6",
            "gridcolor": "white",
            "gridwidth": 2,
            "linecolor": "white",
            "showbackground": true,
            "ticks": "",
            "zerolinecolor": "white"
           }
          },
          "shapedefaults": {
           "line": {
            "color": "#2a3f5f"
           }
          },
          "ternary": {
           "aaxis": {
            "gridcolor": "white",
            "linecolor": "white",
            "ticks": ""
           },
           "baxis": {
            "gridcolor": "white",
            "linecolor": "white",
            "ticks": ""
           },
           "bgcolor": "#E5ECF6",
           "caxis": {
            "gridcolor": "white",
            "linecolor": "white",
            "ticks": ""
           }
          },
          "title": {
           "x": 0.05
          },
          "xaxis": {
           "automargin": true,
           "gridcolor": "white",
           "linecolor": "white",
           "ticks": "",
           "title": {
            "standoff": 15
           },
           "zerolinecolor": "white",
           "zerolinewidth": 2
          },
          "yaxis": {
           "automargin": true,
           "gridcolor": "white",
           "linecolor": "white",
           "ticks": "",
           "title": {
            "standoff": 15
           },
           "zerolinecolor": "white",
           "zerolinewidth": 2
          }
         }
        },
        "title": {
         "text": "ESPN vs ADP Rankings Comparison (Top 225 Players)"
        },
        "width": 600,
        "xaxis": {
         "title": {
          "text": "ESPN Rank"
         }
        },
        "yaxis": {
         "title": {
          "text": "ADP Rank"
         }
        }
       }
      }
     },
     "metadata": {},
     "output_type": "display_data"
    },
    {
     "name": "stdout",
     "output_type": "stream",
     "text": [
      "\n",
      "📊 Ranking Comparison Analysis:\n",
      "- Points on diagonal = perfect agreement between ESPN and ADP\n",
      "- Points above line = ESPN ranks higher (player may be overvalued)\n",
      "- Points below line = ADP ranks higher (player may be undervalued)\n",
      "- Distance from line = magnitude of disagreement\n"
     ]
    }
   ],
   "source": [
    "def compare_ranking_sources(df, top_n=20):\n",
    "    \"\"\"Compare ESPN vs ADP rankings for top players - Top 225 only\"\"\"\n",
    "    \n",
    "    # Take top players by ADP\n",
    "    top_players = df.nsmallest(top_n, 'adp_rank')\n",
    "    \n",
    "    fig = go.Figure()\n",
    "    \n",
    "    fig.add_trace(go.Scatter(\n",
    "        x=top_players['espn_rank'],\n",
    "        y=top_players['adp_rank'],\n",
    "        mode='markers+text',\n",
    "        text=top_players['player_name'],\n",
    "        textposition=\"top center\",\n",
    "        marker=dict(size=10, color='blue'),\n",
    "        name='Players'\n",
    "    ))\n",
    "    \n",
    "    # Add diagonal line for perfect correlation\n",
    "    max_rank = min(225, max(top_players['espn_rank'].max(), top_players['adp_rank'].max()))\n",
    "    fig.add_trace(go.Scatter(\n",
    "        x=[1, max_rank],\n",
    "        y=[1, max_rank],\n",
    "        mode='lines',\n",
    "        line=dict(dash='dash', color='red'),\n",
    "        name='Perfect Correlation'\n",
    "    ))\n",
    "    \n",
    "    fig.update_layout(\n",
    "        title='ESPN vs ADP Rankings Comparison (Top 225 Players)',\n",
    "        xaxis_title='ESPN Rank',\n",
    "        yaxis_title='ADP Rank',\n",
    "        height=600,\n",
    "        width=600\n",
    "    )\n",
    "    \n",
    "    return fig\n",
    "\n",
    "# Create ranking comparison\n",
    "ranking_comparison = compare_ranking_sources(enhanced_df_filtered, top_n=20)\n",
    "ranking_comparison.show()\n",
    "\n",
    "print(\"\\n📊 Ranking Comparison Analysis:\")\n",
    "print(\"- Points on diagonal = perfect agreement between ESPN and ADP\")\n",
    "print(\"- Points above line = ESPN ranks higher (player may be overvalued)\")\n",
    "print(\"- Points below line = ADP ranks higher (player may be undervalued)\")\n",
    "print(\"- Distance from line = magnitude of disagreement\")"
   ]
  },
  {
   "cell_type": "markdown",
   "metadata": {},
   "source": [
    "## Summary\n",
    "\n",
    "These strategic divergence visualizations reveal critical blind spots in the 80% ESPN + 20% ADP system:\n",
    "\n",
    "### Key Insights:\n",
    "1. **Queue Jump Alerts** identify players likely to be drafted earlier than ESPN suggests\n",
    "2. **Override Matrix** provides clear strategic guidance on when to override the system\n",
    "3. **Divergence Timeline** shows where in the draft divergences are most significant\n",
    "4. **Summary Table** gives concrete targets and avoids\n",
    "5. **Blind Spot Radar** highlights ESPN's biggest undervaluations\n",
    "6. **Consensus Analysis** reveals where ranking sources disagree most\n",
    "7. **Direct Comparison** shows correlation patterns and outliers\n",
    "\n",
    "### Strategic Application:\n",
    "- Use these visualizations during draft preparation to identify value opportunities\n",
    "- Override the 80/20 system when divergence exceeds reasonable thresholds\n",
    "- Focus on players in the \"urgent\" quadrant of the Override Matrix\n",
    "- Be cautious with players showing high ranking variance\n",
    "\n",
    "### Analysis Scope:\n",
    "- All visualizations filtered to only show top 225 players in either ESPN or ADP rankings\n",
    "- This removes late-round irrelevant players from the analysis\n",
    "- Focus on draft-relevant players for actionable insights"
   ]
  }
 ],
 "metadata": {
  "kernelspec": {
   "display_name": "venv",
   "language": "python",
   "name": "python3"
  },
  "language_info": {
   "codemirror_mode": {
    "name": "ipython",
    "version": 3
   },
   "file_extension": ".py",
   "mimetype": "text/x-python",
   "name": "python",
   "nbconvert_exporter": "python",
   "pygments_lexer": "ipython3",
   "version": "3.13.6"
  }
 },
 "nbformat": 4,
 "nbformat_minor": 4
}
