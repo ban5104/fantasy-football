{
 "cells": [
  {
   "cell_type": "markdown",
   "metadata": {},
   "source": [
    "# 🧬 Championship DNA Analysis - Find What Actually Wins\n",
    "\n",
    "**Forget \"Zero-RB\" and \"Hero-RB\" labels. Let's find what WINNING teams actually look like!**\n",
    "\n",
    "This notebook analyzes thousands of simulated drafts to identify the common patterns in top-performing teams.\n",
    "Instead of following rigid strategies, we'll discover the \"DNA\" of championship rosters."
   ]
  },
  {
   "cell_type": "code",
   "execution_count": 1,
   "metadata": {},
   "outputs": [
    {
     "name": "stdout",
     "output_type": "stream",
     "text": [
      "✅ Setup complete\n"
     ]
    }
   ],
   "source": [
    "# Setup\n",
    "import sys\n",
    "import os\n",
    "sys.path.append('..')\n",
    "\n",
    "import numpy as np\n",
    "import pandas as pd\n",
    "import matplotlib.pyplot as plt\n",
    "import seaborn as sns\n",
    "from collections import Counter, defaultdict\n",
    "\n",
    "# Set style\n",
    "plt.style.use('seaborn-v0_8-darkgrid')\n",
    "sns.set_palette('husl')\n",
    "\n",
    "print(\"✅ Setup complete\")"
   ]
  },
  {
   "cell_type": "markdown",
   "metadata": {},
   "source": [
    "## 🎯 Step 1: Set Your Draft Position"
   ]
  },
  {
   "cell_type": "code",
   "execution_count": 2,
   "metadata": {},
   "outputs": [
    {
     "name": "stdout",
     "output_type": "stream",
     "text": [
      "📍 Your draft position: Pick #5\n",
      "🎲 Running 2000 simulations\n",
      "🏆 Analyzing top 10% as championship teams\n"
     ]
    }
   ],
   "source": [
    "# CHANGE THIS TO YOUR DRAFT POSITION!\n",
    "MY_DRAFT_POSITION = 5  # Your pick number (1-14)\n",
    "N_SIMULATIONS = 2000   # More = better patterns (but slower)\n",
    "TOP_PERCENT = 10       # Analyze top 10% as \"winners\"\n",
    "\n",
    "print(f\"📍 Your draft position: Pick #{MY_DRAFT_POSITION}\")\n",
    "print(f\"🎲 Running {N_SIMULATIONS} simulations\")\n",
    "print(f\"🏆 Analyzing top {TOP_PERCENT}% as championship teams\")"
   ]
  },
  {
   "cell_type": "markdown",
   "metadata": {},
   "source": [
    "## 🚀 Step 2: Run Simulations & Find Winners"
   ]
  },
  {
   "cell_type": "code",
   "execution_count": null,
   "metadata": {},
   "outputs": [
    {
     "name": "stdout",
     "output_type": "stream",
     "text": [
      "🎲 Running simulations...\n",
      "Created envelope data from projections (±20%)\n"
     ]
    }
   ],
   "source": [
    "from src.monte_carlo import DraftSimulator\n",
    "\n",
    "print(\"🎲 Running simulations...\")\n",
    "sim = DraftSimulator()\n",
    "\n",
    "# Run simulations\n",
    "result = sim.simulator.run_simulations(\n",
    "    my_team_idx=MY_DRAFT_POSITION - 1,\n",
    "    strategy_name='balanced',  # Use balanced to get variety\n",
    "    n_sims=N_SIMULATIONS,\n",
    "    base_seed=42\n",
    ")\n",
    "\n",
    "# Extract rosters\n",
    "all_rosters = result.get('all_results', [])\n",
    "print(f\"✅ Generated {len(all_rosters)} rosters\")\n",
    "\n",
    "# Find the winners (top X%)\n",
    "values = [r['roster_value'] for r in all_rosters]\n",
    "cutoff = np.percentile(values, 100 - TOP_PERCENT)\n",
    "winners = [r for r in all_rosters if r['roster_value'] >= cutoff]\n",
    "losers = [r for r in all_rosters if r['roster_value'] < np.percentile(values, 25)]\n",
    "\n",
    "print(f\"\\n🏆 Found {len(winners)} winning rosters (value >= {cutoff:.1f})\")\n",
    "print(f\"📊 Average winner: {np.mean([r['roster_value'] for r in winners]):.1f} points\")\n",
    "print(f\"📊 Average team: {np.mean(values):.1f} points\")"
   ]
  },
  {
   "cell_type": "markdown",
   "metadata": {},
   "source": [
    "## 🧬 Step 3: Discover Championship DNA"
   ]
  },
  {
   "cell_type": "code",
   "execution_count": null,
   "metadata": {},
   "outputs": [],
   "source": [
    "# Analyze position composition\n",
    "def analyze_roster_composition(rosters, label=\"Teams\"):\n",
    "    position_counts = defaultdict(list)\n",
    "    \n",
    "    for roster in rosters:\n",
    "        pos_count = defaultdict(int)\n",
    "        for player in roster['roster']:\n",
    "            pos_count[player['pos']] += 1\n",
    "        \n",
    "        for pos, count in pos_count.items():\n",
    "            position_counts[pos].append(count)\n",
    "    \n",
    "    # Create DataFrame for easy analysis\n",
    "    comp_data = {}\n",
    "    for pos in ['QB', 'RB', 'WR', 'TE', 'K', 'DST']:\n",
    "        if pos in position_counts:\n",
    "            counts = position_counts[pos]\n",
    "            comp_data[pos] = {\n",
    "                'avg': np.mean(counts),\n",
    "                'mode': max(set(counts), key=counts.count),\n",
    "                'min': min(counts),\n",
    "                'max': max(counts)\n",
    "            }\n",
    "    \n",
    "    return pd.DataFrame(comp_data).T\n",
    "\n",
    "# Compare winners vs average\n",
    "winner_comp = analyze_roster_composition(winners, \"Winners\")\n",
    "all_comp = analyze_roster_composition(all_rosters, \"All Teams\")\n",
    "\n",
    "print(\"🏆 WINNING ROSTER COMPOSITION:\")\n",
    "print(\"=\"*50)\n",
    "print(winner_comp[['avg', 'mode']].round(1))\n",
    "\n",
    "print(\"\\n📊 DIFFERENCE FROM AVERAGE:\")\n",
    "print(\"=\"*50)\n",
    "diff = winner_comp['avg'] - all_comp['avg']\n",
    "for pos in ['QB', 'RB', 'WR', 'TE']:\n",
    "    if pos in diff.index:\n",
    "        sign = \"+\" if diff[pos] > 0 else \"\"\n",
    "        print(f\"{pos}: {sign}{diff[pos]:.2f} vs average\")"
   ]
  },
  {
   "cell_type": "markdown",
   "metadata": {},
   "source": [
    "## 🎯 Step 4: Early Round Patterns"
   ]
  },
  {
   "cell_type": "code",
   "execution_count": null,
   "metadata": {},
   "outputs": [],
   "source": [
    "# Analyze draft start patterns\n",
    "def get_early_patterns(rosters, n_rounds=3):\n",
    "    patterns = []\n",
    "    for roster in rosters:\n",
    "        if 'position_sequence' in roster and len(roster['position_sequence']) >= n_rounds:\n",
    "            pattern = tuple(roster['position_sequence'][:n_rounds])\n",
    "            patterns.append(pattern)\n",
    "    return patterns\n",
    "\n",
    "# Get patterns for winners\n",
    "winner_patterns = get_early_patterns(winners, 3)\n",
    "all_patterns = get_early_patterns(all_rosters, 3)\n",
    "\n",
    "# Count and compare\n",
    "winner_counts = Counter(winner_patterns)\n",
    "all_counts = Counter(all_patterns)\n",
    "\n",
    "print(\"🔥 TOP 5 WINNING DRAFT STARTS (First 3 Rounds):\")\n",
    "print(\"=\"*60)\n",
    "\n",
    "for i, (pattern, count) in enumerate(winner_counts.most_common(5), 1):\n",
    "    win_rate = (count / len(winner_patterns)) * 100\n",
    "    overall_rate = (all_counts.get(pattern, 0) / len(all_patterns)) * 100\n",
    "    lift = win_rate / overall_rate if overall_rate > 0 else 0\n",
    "    \n",
    "    pattern_str = ' → '.join(pattern)\n",
    "    print(f\"{i}. {pattern_str:20} | {win_rate:5.1f}% of winners\")\n",
    "    print(f\"   {'':20} | {overall_rate:5.1f}% overall ({lift:.1f}x better)\")\n",
    "    print()"
   ]
  },
  {
   "cell_type": "markdown",
   "metadata": {},
   "source": [
    "## 📊 Step 5: Value Tier Analysis"
   ]
  },
  {
   "cell_type": "code",
   "execution_count": null,
   "metadata": {},
   "outputs": [],
   "source": [
    "# Analyze projection values by position\n",
    "def analyze_value_tiers(rosters, label=\"Teams\"):\n",
    "    position_values = defaultdict(list)\n",
    "    \n",
    "    for roster in rosters:\n",
    "        # Group players by position and sort by value\n",
    "        pos_players = defaultdict(list)\n",
    "        for player in roster['roster']:\n",
    "            pos_players[player['pos']].append(player['proj'])\n",
    "        \n",
    "        # Sort each position's players\n",
    "        for pos, values in pos_players.items():\n",
    "            values.sort(reverse=True)\n",
    "            position_values[pos].extend(values)\n",
    "    \n",
    "    # Calculate tier thresholds\n",
    "    tier_data = {}\n",
    "    for pos in ['QB', 'RB', 'WR', 'TE']:\n",
    "        if pos in position_values and position_values[pos]:\n",
    "            values = position_values[pos]\n",
    "            tier_data[pos] = {\n",
    "                'Best': np.percentile(values, 90),\n",
    "                'Good': np.percentile(values, 70),\n",
    "                'Avg': np.percentile(values, 50),\n",
    "                'Min': np.percentile(values, 25)\n",
    "            }\n",
    "    \n",
    "    return pd.DataFrame(tier_data).T\n",
    "\n",
    "winner_tiers = analyze_value_tiers(winners, \"Winners\")\n",
    "all_tiers = analyze_value_tiers(all_rosters, \"All\")\n",
    "\n",
    "print(\"💎 VALUE TIERS IN WINNING ROSTERS:\")\n",
    "print(\"=\"*60)\n",
    "print(winner_tiers.round(0))\n",
    "\n",
    "print(\"\\n📈 WINNER ADVANTAGE BY POSITION:\")\n",
    "print(\"=\"*40)\n",
    "for pos in ['QB', 'RB', 'WR', 'TE']:\n",
    "    if pos in winner_tiers.index and pos in all_tiers.index:\n",
    "        diff = winner_tiers.loc[pos, 'Best'] - all_tiers.loc[pos, 'Best']\n",
    "        print(f\"{pos}: +{diff:.0f} points at top end\")"
   ]
  },
  {
   "cell_type": "markdown",
   "metadata": {},
   "source": [
    "## 🎯 Step 6: Your Personal Draft Blueprint"
   ]
  },
  {
   "cell_type": "code",
   "execution_count": null,
   "metadata": {},
   "outputs": [],
   "source": [
    "print(\"=\"*70)\n",
    "print(\"🎯 YOUR CHAMPIONSHIP DRAFT BLUEPRINT\")\n",
    "print(f\"   For Pick #{MY_DRAFT_POSITION} in a 14-Team League\")\n",
    "print(\"=\"*70)\n",
    "\n",
    "# Generate specific recommendations\n",
    "print(\"\\n📋 ROSTER CONSTRUCTION TARGETS:\")\n",
    "print(\"-\"*40)\n",
    "for pos in ['QB', 'RB', 'WR', 'TE']:\n",
    "    if pos in winner_comp.index:\n",
    "        target = int(winner_comp.loc[pos, 'mode'])\n",
    "        avg = winner_comp.loc[pos, 'avg']\n",
    "        print(f\"{pos:3}: Draft {target} total (winners avg {avg:.1f})\")\n",
    "\n",
    "print(\"\\n🔥 RECOMMENDED DRAFT STARTS:\")\n",
    "print(\"-\"*40)\n",
    "for i, (pattern, count) in enumerate(winner_counts.most_common(3), 1):\n",
    "    pattern_str = ' → '.join(pattern)\n",
    "    win_rate = (count / len(winner_patterns)) * 100\n",
    "    print(f\"{i}. {pattern_str:20} ({win_rate:.0f}% win rate)\")\n",
    "\n",
    "print(\"\\n💰 VALUE TARGETS BY POSITION:\")\n",
    "print(\"-\"*40)\n",
    "for pos in ['QB', 'RB', 'WR', 'TE']:\n",
    "    if pos in winner_tiers.index:\n",
    "        best = winner_tiers.loc[pos, 'Best']\n",
    "        good = winner_tiers.loc[pos, 'Good']\n",
    "        print(f\"{pos}: Target {best:.0f}+ for elite, {good:.0f}+ for solid\")\n",
    "\n",
    "# Key insights\n",
    "print(\"\\n⚡ KEY INSIGHTS:\")\n",
    "print(\"-\"*40)\n",
    "\n",
    "insights = []\n",
    "\n",
    "# RB analysis\n",
    "rb_early = sum(1 for p in winner_patterns if p[0] == 'RB') / len(winner_patterns)\n",
    "if rb_early > 0.5:\n",
    "    insights.append(f\"• {rb_early*100:.0f}% of winners start with RB - strongly consider it\")\n",
    "\n",
    "# WR analysis  \n",
    "wr_count = winner_comp.loc['WR', 'avg'] if 'WR' in winner_comp.index else 0\n",
    "if wr_count >= 3.5:\n",
    "    insights.append(f\"• Load up on WRs - winners average {wr_count:.1f}\")\n",
    "\n",
    "# TE analysis\n",
    "te_early = sum(1 for p in winner_patterns if 'TE' in p[:3]) / len(winner_patterns)\n",
    "if te_early > 0.25:\n",
    "    insights.append(f\"• {te_early*100:.0f}% grab elite TE early (rounds 1-3)\")\n",
    "elif te_early < 0.1:\n",
    "    insights.append(f\"• Only {te_early*100:.0f}% take TE early - wait on TE\")\n",
    "\n",
    "# QB analysis\n",
    "qb_early = sum(1 for p in winner_patterns if 'QB' in p[:3]) / len(winner_patterns)\n",
    "if qb_early < 0.15:\n",
    "    insights.append(f\"• Only {qb_early*100:.0f}% take QB in rounds 1-3 - wait!\")\n",
    "\n",
    "for insight in insights:\n",
    "    print(insight)\n",
    "\n",
    "print(\"\\n\" + \"=\"*70)\n",
    "print(\"✅ Blueprint complete! Draft based on PATTERNS, not LABELS.\")\n",
    "print(\"=\"*70)"
   ]
  },
  {
   "cell_type": "markdown",
   "metadata": {},
   "source": [
    "## 📊 Bonus: Visualization"
   ]
  },
  {
   "cell_type": "code",
   "execution_count": null,
   "metadata": {},
   "outputs": [],
   "source": [
    "# Create comparison visualization\n",
    "fig, axes = plt.subplots(2, 2, figsize=(14, 10))\n",
    "fig.suptitle('Championship DNA Analysis', fontsize=16, fontweight='bold')\n",
    "\n",
    "# 1. Position composition comparison\n",
    "ax = axes[0, 0]\n",
    "positions = ['QB', 'RB', 'WR', 'TE']\n",
    "winner_avgs = [winner_comp.loc[p, 'avg'] if p in winner_comp.index else 0 for p in positions]\n",
    "all_avgs = [all_comp.loc[p, 'avg'] if p in all_comp.index else 0 for p in positions]\n",
    "\n",
    "x = np.arange(len(positions))\n",
    "width = 0.35\n",
    "ax.bar(x - width/2, winner_avgs, width, label='Winners', color='gold')\n",
    "ax.bar(x + width/2, all_avgs, width, label='Average', color='silver')\n",
    "ax.set_xlabel('Position')\n",
    "ax.set_ylabel('Average Count')\n",
    "ax.set_title('Roster Composition: Winners vs Average')\n",
    "ax.set_xticks(x)\n",
    "ax.set_xticklabels(positions)\n",
    "ax.legend()\n",
    "ax.grid(True, alpha=0.3)\n",
    "\n",
    "# 2. Value distribution\n",
    "ax = axes[0, 1]\n",
    "winner_values = [r['roster_value'] for r in winners]\n",
    "all_values = [r['roster_value'] for r in all_rosters]\n",
    "ax.hist(all_values, bins=30, alpha=0.5, label='All Teams', color='blue')\n",
    "ax.hist(winner_values, bins=20, alpha=0.7, label='Winners', color='gold')\n",
    "ax.axvline(cutoff, color='red', linestyle='--', label=f'Top {TOP_PERCENT}% cutoff')\n",
    "ax.set_xlabel('Roster Value')\n",
    "ax.set_ylabel('Frequency')\n",
    "ax.set_title('Roster Value Distribution')\n",
    "ax.legend()\n",
    "ax.grid(True, alpha=0.3)\n",
    "\n",
    "# 3. Top draft patterns\n",
    "ax = axes[1, 0]\n",
    "top_5_patterns = winner_counts.most_common(5)\n",
    "pattern_labels = [' → '.join(p[0]) for p in top_5_patterns]\n",
    "pattern_counts_list = [p[1] for p in top_5_patterns]\n",
    "pattern_pcts = [c/len(winner_patterns)*100 for c in pattern_counts_list]\n",
    "\n",
    "ax.barh(range(len(pattern_labels)), pattern_pcts, color='teal')\n",
    "ax.set_yticks(range(len(pattern_labels)))\n",
    "ax.set_yticklabels(pattern_labels)\n",
    "ax.set_xlabel('% of Winners')\n",
    "ax.set_title('Top 5 Winning Draft Starts (First 3 Rounds)')\n",
    "ax.grid(True, alpha=0.3, axis='x')\n",
    "\n",
    "# 4. Position value tiers\n",
    "ax = axes[1, 1]\n",
    "positions = ['QB', 'RB', 'WR', 'TE']\n",
    "colors = ['red', 'green', 'blue', 'orange']\n",
    "\n",
    "for i, pos in enumerate(positions):\n",
    "    if pos in winner_tiers.index:\n",
    "        values = [winner_tiers.loc[pos, col] for col in ['Min', 'Avg', 'Good', 'Best']]\n",
    "        ax.plot(values, label=pos, marker='o', linewidth=2, color=colors[i])\n",
    "\n",
    "ax.set_xticks(range(4))\n",
    "ax.set_xticklabels(['25th%', '50th%', '70th%', '90th%'])\n",
    "ax.set_ylabel('Projected Points')\n",
    "ax.set_title('Value Tiers in Winning Rosters')\n",
    "ax.legend()\n",
    "ax.grid(True, alpha=0.3)\n",
    "\n",
    "plt.tight_layout()\n",
    "plt.show()\n",
    "\n",
    "print(\"📊 Visualization complete!\")"
   ]
  },
  {
   "cell_type": "markdown",
   "metadata": {},
   "source": [
    "## 💾 Save Your Blueprint"
   ]
  },
  {
   "cell_type": "code",
   "execution_count": null,
   "metadata": {},
   "outputs": [],
   "source": [
    "# Save results to file\n",
    "import json\n",
    "from datetime import datetime\n",
    "\n",
    "blueprint = {\n",
    "    'generated': datetime.now().isoformat(),\n",
    "    'draft_position': MY_DRAFT_POSITION,\n",
    "    'simulations': N_SIMULATIONS,\n",
    "    'top_percent': TOP_PERCENT,\n",
    "    'roster_targets': winner_comp[['mode']].to_dict()['mode'],\n",
    "    'value_targets': winner_tiers[['Best', 'Good']].to_dict(),\n",
    "    'top_patterns': [{\n",
    "        'pattern': ' → '.join(p[0]),\n",
    "        'win_rate': p[1]/len(winner_patterns)\n",
    "    } for p in winner_counts.most_common(5)],\n",
    "    'insights': insights\n",
    "}\n",
    "\n",
    "filename = f'championship_blueprint_pick{MY_DRAFT_POSITION}.json'\n",
    "with open(filename, 'w') as f:\n",
    "    json.dump(blueprint, f, indent=2, default=str)\n",
    "\n",
    "print(f\"✅ Saved blueprint to {filename}\")\n",
    "print(\"\\n🏆 You're ready to draft like a champion!\")\n",
    "print(\"   Focus on the PATTERNS, not the LABELS.\")"
   ]
  }
 ],
 "metadata": {
  "kernelspec": {
   "display_name": "venv",
   "language": "python",
   "name": "python3"
  },
  "language_info": {
   "codemirror_mode": {
    "name": "ipython",
    "version": 3
   },
   "file_extension": ".py",
   "mimetype": "text/x-python",
   "name": "python",
   "nbconvert_exporter": "python",
   "pygments_lexer": "ipython3",
   "version": "3.13.6"
  }
 },
 "nbformat": 4,
 "nbformat_minor": 4
}
