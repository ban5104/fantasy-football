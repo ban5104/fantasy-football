{
 "cells": [
  {
   "cell_type": "markdown",
   "metadata": {},
   "source": [
    "## Strategic Divergence Analysis Summary\n",
    "\n",
    "The strategic divergence visualizations reveal critical blind spots in the 80% ESPN + 20% ADP probability system:\n",
    "\n",
    "### Key Findings:\n",
    "\n",
    "1. **Queue Jump Alerts**: Players like Rachaad White (ESPN 85, ADP 27) may be drafted much earlier than the 80/20 system predicts\n",
    "\n",
    "2. **Hidden Gems**: Players like Terry McLaurin and D'Andre Swift show massive positive divergence, suggesting significant value opportunities\n",
    "\n",
    "3. **Overvalued Traps**: Veterans like Stefon Diggs and Keenan Allen rank much higher in ESPN than ADP, indicating potential reaches\n",
    "\n",
    "4. **Position Patterns**: RBs show highest average positive divergence (+11.2), suggesting ESPN consistently undervalues RB depth\n",
    "\n",
    "### Strategic Recommendations:\n",
    "\n",
    "- **Immediate Targets**: Focus on high divergence players with good availability (Terry McLaurin, D'Andre Swift)\n",
    "- **Urgent Picks**: Don't let Rachaad White slip past early picks - major divergence with low availability  \n",
    "- **Avoid Reaches**: Be cautious about ESPN favorites like Stefon Diggs who ADP suggests are overvalued\n",
    "- **Position Strategy**: Look for RB value in middle rounds where ESPN divergence is highest\n",
    "\n",
    "These visualizations help identify when to override the 80/20 system and capitalize on ranking inefficiencies."
   ]
  },
  {
   "cell_type": "code",
   "execution_count": 1,
   "metadata": {},
   "outputs": [
    {
     "ename": "NameError",
     "evalue": "name 'enhanced_df' is not defined",
     "output_type": "error",
     "traceback": [
      "\u001b[31m---------------------------------------------------------------------------\u001b[39m",
      "\u001b[31mNameError\u001b[39m                                 Traceback (most recent call last)",
      "\u001b[36mCell\u001b[39m\u001b[36m \u001b[39m\u001b[32mIn[1]\u001b[39m\u001b[32m, line 94\u001b[39m\n\u001b[32m     91\u001b[39m     \u001b[38;5;28;01mreturn\u001b[39;00m fig\n\u001b[32m     93\u001b[39m \u001b[38;5;66;03m# Create additional visualizations\u001b[39;00m\n\u001b[32m---> \u001b[39m\u001b[32m94\u001b[39m radar_fig = plot_blind_spot_radar(\u001b[43menhanced_df\u001b[49m, min_divergence=\u001b[32m15\u001b[39m)\n\u001b[32m     95\u001b[39m \u001b[38;5;28;01mif\u001b[39;00m radar_fig:\n\u001b[32m     96\u001b[39m     radar_fig.show()\n",
      "\u001b[31mNameError\u001b[39m: name 'enhanced_df' is not defined"
     ]
    }
   ],
   "source": [
    "def plot_blind_spot_radar(df, min_divergence=15):\n",
    "    \"\"\"Radial plot of undervalued players (ADP much better than ESPN)\"\"\"\n",
    "    \n",
    "    # Find players where ADP ranks them much higher (ESPN rank - ADP rank > min_divergence)\n",
    "    blind_spots = df[df['rank_divergence'] > min_divergence].copy()\n",
    "    blind_spots = blind_spots.sort_values('abs_divergence', ascending=False).head(8)\n",
    "    \n",
    "    if len(blind_spots) == 0:\n",
    "        print(f\"No players found with divergence > {min_divergence}\")\n",
    "        return None\n",
    "    \n",
    "    fig = go.Figure()\n",
    "    \n",
    "    fig.add_trace(go.Scatterpolar(\n",
    "        r=blind_spots['abs_divergence'],\n",
    "        theta=blind_spots['player_name'],\n",
    "        mode='markers+lines',\n",
    "        marker=dict(\n",
    "            size=blind_spots['vbd_score']/3,  # Size by VBD score\n",
    "            color=blind_spots['probability_available'],\n",
    "            colorscale='RdYlGn',\n",
    "            showscale=True,\n",
    "            colorbar=dict(title=\"Availability<br>Probability\")\n",
    "        ),\n",
    "        text=blind_spots['player_name'],\n",
    "        hovertemplate='Player: %{text}<br>Divergence: %{r}<br>Availability: %{marker.color:.2f}<extra></extra>',\n",
    "        fill='toself',\n",
    "        opacity=0.6\n",
    "    ))\n",
    "    \n",
    "    fig.update_layout(\n",
    "        title=f'Blind Spots: ADP >{min_divergence} ranks better than ESPN',\n",
    "        polar=dict(\n",
    "            radialaxis=dict(visible=True, range=[0, blind_spots['abs_divergence'].max() * 1.1])\n",
    "        ),\n",
    "        height=600,\n",
    "        width=600\n",
    "    )\n",
    "    \n",
    "    return fig\n",
    "\n",
    "def plot_consensus_strength(df, position=None, top_n=15):\n",
    "    \"\"\"Standard deviation between ranking sources\"\"\"\n",
    "    \n",
    "    # Filter by position if specified\n",
    "    if position:\n",
    "        df_filtered = df[df['position'] == position].copy()\n",
    "        title_suffix = f\" - {position} Only\"\n",
    "    else:\n",
    "        df_filtered = df.copy()\n",
    "        title_suffix = \"\"\n",
    "    \n",
    "    # Calculate ranking standard deviation\n",
    "    df_filtered['rank_std'] = df_filtered[['espn_rank', 'adp_rank']].std(axis=1)\n",
    "    \n",
    "    # Get players with highest variance\n",
    "    df_plot = df_filtered.nlargest(top_n, 'rank_std')\n",
    "    \n",
    "    # Create color based on which system ranks higher\n",
    "    colors = ['#e74c3c' if divergence < 0 else '#3498db' \n",
    "              for divergence in df_plot['rank_divergence']]\n",
    "    \n",
    "    fig = go.Figure(data=go.Bar(\n",
    "        x=df_plot['player_name'],\n",
    "        y=df_plot['rank_std'],\n",
    "        marker_color=colors,\n",
    "        text=[f\"ESPN: {int(espn)}<br>ADP: {int(adp)}\" \n",
    "              for espn, adp in zip(df_plot['espn_rank'], df_plot['adp_rank'])],\n",
    "        hovertemplate='Player: %{x}<br>Rank Std: %{y:.1f}<br>%{text}<extra></extra>'\n",
    "    ))\n",
    "    \n",
    "    fig.update_layout(\n",
    "        title=f'Consensus Weakness: High Ranking Variance{title_suffix}',\n",
    "        xaxis_title='Player',\n",
    "        yaxis_title='Ranking Standard Deviation',\n",
    "        height=500,\n",
    "        xaxis_tickangle=-45\n",
    "    )\n",
    "    \n",
    "    # Add legend explanation\n",
    "    fig.add_annotation(\n",
    "        x=0.02, y=0.98,\n",
    "        xref=\"paper\", yref=\"paper\",\n",
    "        text=\"Red: ESPN ranks lower<br>Blue: ADP ranks lower\",\n",
    "        showarrow=False,\n",
    "        bgcolor=\"white\",\n",
    "        bordercolor=\"black\",\n",
    "        borderwidth=1\n",
    "    )\n",
    "    \n",
    "    return fig\n",
    "\n",
    "# Create additional visualizations\n",
    "radar_fig = plot_blind_spot_radar(enhanced_df, min_divergence=15)\n",
    "if radar_fig:\n",
    "    radar_fig.show()\n",
    "    print(\"\\n📊 Blind Spot Radar:\")\n",
    "    print(\"- Further from center = bigger divergence (more undervalued by ESPN)\")\n",
    "    print(\"- Larger markers = higher VBD value\")\n",
    "    print(\"- Green = high availability, Red = low availability\")\n",
    "\n",
    "consensus_fig = plot_consensus_strength(enhanced_df, top_n=12)\n",
    "consensus_fig.show()\n",
    "\n",
    "print(\"\\n📊 Consensus Strength Analysis:\")\n",
    "print(\"- Higher bars = more disagreement between ranking sources\")\n",
    "print(\"- Red bars: ESPN ranks player lower than ADP\")\n",
    "print(\"- Blue bars: ADP ranks player lower than ESPN\")\n",
    "print(\"- High variance players require more careful evaluation\")"
   ]
  },
  {
   "cell_type": "markdown",
   "metadata": {},
   "source": [
    "## 5. Additional Divergence Visualizations\n",
    "\n",
    "Supplementary analysis functions for deeper blind spot detection."
   ]
  },
  {
   "cell_type": "code",
   "execution_count": null,
   "metadata": {},
   "outputs": [],
   "source": [
    "def create_divergence_summary_table(df, top_n=10):\n",
    "    \"\"\"Create summary table of biggest divergences with strategic advice\"\"\"\n",
    "    \n",
    "    # Get biggest positive and negative divergences\n",
    "    positive_divergence = df[df['rank_divergence'] > 0].nlargest(top_n, 'rank_divergence')\n",
    "    negative_divergence = df[df['rank_divergence'] < 0].nsmallest(top_n, 'rank_divergence')\n",
    "    \n",
    "    print(\"🚨 BIGGEST BLIND SPOTS - ESPN SIGNIFICANTLY UNDERVALUES:\")\n",
    "    print(\"=\" * 80)\n",
    "    for _, player in positive_divergence.iterrows():\n",
    "        advice = \"🎯 TARGET\" if player['probability_available'] > 0.7 else \"🚨 URGENT\"\n",
    "        print(f\"{advice} {player['player_name']:<20} | ESPN:{player['espn_rank']:>3.0f} ADP:{player['adp_rank']:>3.0f} | \"\n",
    "              f\"Divergence: +{player['rank_divergence']:>2.0f} | Avail: {player['probability_available']:.1%}\")\n",
    "    \n",
    "    print(\"\\n📈 BIGGEST OVERVALUES - ESPN SIGNIFICANTLY OVERVALUES:\")\n",
    "    print(\"=\" * 80)\n",
    "    for _, player in negative_divergence.iterrows():\n",
    "        advice = \"⏳ WAIT\" if player['probability_available'] > 0.7 else \"⚠️ AVOID\"\n",
    "        print(f\"{advice} {player['player_name']:<20} | ESPN:{player['espn_rank']:>3.0f} ADP:{player['adp_rank']:>3.0f} | \"\n",
    "              f\"Divergence: {player['rank_divergence']:>3.0f} | Avail: {player['probability_available']:.1%}\")\n",
    "    \n",
    "    # Position-specific insights\n",
    "    print(f\"\\n📊 POSITION BREAKDOWN:\")\n",
    "    print(\"=\" * 50)\n",
    "    for pos in ['RB', 'WR', 'QB', 'TE']:\n",
    "        pos_df = df[df['position'] == pos]\n",
    "        if len(pos_df) > 0:\n",
    "            avg_divergence = pos_df['rank_divergence'].mean()\n",
    "            undervalued = len(pos_df[pos_df['rank_divergence'] > 15])\n",
    "            overvalued = len(pos_df[pos_df['rank_divergence'] < -15])\n",
    "            print(f\"{pos}: Avg Divergence: {avg_divergence:+.1f} | Undervalued: {undervalued} | Overvalued: {overvalued}\")\n",
    "\n",
    "# Create and display summary table\n",
    "create_divergence_summary_table(enhanced_df, top_n=8)\n",
    "\n",
    "print(\"\\n\" + \"=\" * 80)\n",
    "print(\"🎯 STRATEGIC TAKEAWAYS:\")\n",
    "print(\"- Focus on 🎯 TARGET and 🚨 URGENT players (positive divergence)\")\n",
    "print(\"- Consider waiting on ⏳ WAIT players (negative divergence, high availability)\")\n",
    "print(\"- Avoid reaching for ⚠️ AVOID players (negative divergence, low availability)\")\n",
    "print(\"- The 80% ESPN weight may cause you to miss significant value\")"
   ]
  },
  {
   "cell_type": "markdown",
   "metadata": {},
   "source": [
    "## 4. Divergence Summary Table\n",
    "\n",
    "Concrete examples of the biggest blind spots for immediate actionable insights."
   ]
  },
  {
   "cell_type": "code",
   "execution_count": null,
   "metadata": {},
   "outputs": [],
   "source": [
    "def plot_divergence_timeline(df, current_pick=1):\n",
    "    \"\"\"Bubble chart of divergence with VBD sizing\"\"\"\n",
    "    \n",
    "    # Focus on players likely to be available in first few rounds\n",
    "    df_plot = df[df['adp_rank'] <= 100].copy()\n",
    "    df_plot = df_plot.sort_values('adp_rank')\n",
    "    \n",
    "    fig = go.Figure()\n",
    "    \n",
    "    # Create hover text with player details\n",
    "    hover_text = [\n",
    "        f\"{row['player_name']}<br>\" +\n",
    "        f\"Position: {row['position']}<br>\" +\n",
    "        f\"ESPN Rank: {row['espn_rank']}<br>\" +\n",
    "        f\"ADP Rank: {row['adp_rank']}<br>\" +\n",
    "        f\"VBD Score: {row['vbd_score']}<br>\" +\n",
    "        f\"Availability: {row['probability_available']:.1%}\"\n",
    "        for _, row in df_plot.iterrows()\n",
    "    ]\n",
    "    \n",
    "    fig.add_trace(go.Scatter(\n",
    "        x=df_plot['adp_rank'],\n",
    "        y=df_plot['rank_divergence'],\n",
    "        mode='markers',\n",
    "        marker=dict(\n",
    "            size=np.maximum(df_plot['vbd_score']/3, 5),  # Minimum size 5\n",
    "            color=df_plot['rank_divergence'],\n",
    "            colorscale='RdBu',\n",
    "            cmid=0,\n",
    "            showscale=True,\n",
    "            colorbar=dict(title=\"Rank Divergence<br>(ESPN - ADP)\"),\n",
    "            line=dict(width=1, color='black')\n",
    "        ),\n",
    "        text=hover_text,\n",
    "        hovertemplate='%{text}<extra></extra>',\n",
    "        name='Players'\n",
    "    ))\n",
    "    \n",
    "    # Add reference lines\n",
    "    fig.add_hline(y=0, line_dash=\"dash\", line_color=\"gray\", opacity=0.5)\n",
    "    fig.add_hline(y=15, line_dash=\"dot\", line_color=\"red\", opacity=0.7, \n",
    "                  annotation_text=\"Significant Divergence\")\n",
    "    fig.add_hline(y=-15, line_dash=\"dot\", line_color=\"blue\", opacity=0.7,\n",
    "                  annotation_text=\"Significant Divergence\")\n",
    "    \n",
    "    # Add user's pick positions\n",
    "    my_picks = [8, 17, 32, 41, 56, 65, 80, 89]\n",
    "    for pick in my_picks[:4]:  # First 4 picks\n",
    "        fig.add_vline(x=pick, line_dash=\"dash\", line_color=\"green\", opacity=0.6,\n",
    "                      annotation_text=f\"Pick {pick}\")\n",
    "    \n",
    "    fig.update_layout(\n",
    "        title=f'Divergence vs Draft Position (Current Pick: {current_pick})',\n",
    "        xaxis_title='ADP Rank (Draft Position)',\n",
    "        yaxis_title='Rank Divergence (ESPN - ADP)',\n",
    "        height=600,\n",
    "        width=1000,\n",
    "        showlegend=False\n",
    "    )\n",
    "    \n",
    "    return fig\n",
    "\n",
    "# Create divergence timeline\n",
    "timeline_fig = plot_divergence_timeline(enhanced_df, current_pick=1)\n",
    "timeline_fig.show()\n",
    "\n",
    "print(\"\\n📊 Divergence Timeline:\")\n",
    "print(\"- X-axis: Where players are typically drafted (ADP)\")\n",
    "print(\"- Y-axis: How much ESPN disagrees with ADP\")\n",
    "print(\"- Bubble size: VBD value\")\n",
    "print(\"- Red bubbles above line: ESPN undervalues (potential steals)\")\n",
    "print(\"- Blue bubbles below line: ESPN overvalues (potential traps)\")\n",
    "print(\"- Green lines: Your draft picks\")"
   ]
  },
  {
   "cell_type": "markdown",
   "metadata": {},
   "source": [
    "## 3. Divergence Timeline\n",
    "\n",
    "Bubble chart showing rank divergence across draft positions, with VBD scores determining bubble size. Helps identify when in the draft divergences are most significant."
   ]
  },
  {
   "cell_type": "code",
   "execution_count": null,
   "metadata": {},
   "outputs": [],
   "source": [
    "def plot_override_matrix(df, my_picks=[8, 17, 32, 41]):\n",
    "    \"\"\"Four quadrant plot for override decisions\"\"\"\n",
    "    \n",
    "    # Focus on players relevant to next few picks\n",
    "    next_pick = my_picks[0]\n",
    "    relevant_players = df[df['adp_rank'] <= next_pick + 20].copy()\n",
    "    \n",
    "    fig = go.Figure()\n",
    "    \n",
    "    # Add scatter plot\n",
    "    fig.add_trace(go.Scatter(\n",
    "        x=relevant_players['rank_divergence'],\n",
    "        y=relevant_players['probability_available'],\n",
    "        mode='markers+text',\n",
    "        text=[name[:8] + \"...\" if len(name) > 8 else name \n",
    "              for name in relevant_players['player_name']],\n",
    "        textposition=\"top center\",\n",
    "        marker=dict(\n",
    "            size=np.maximum(relevant_players['vbd_score']/4, 6),\n",
    "            color=relevant_players['vbd_score'],\n",
    "            colorscale='Viridis',\n",
    "            showscale=True,\n",
    "            colorbar=dict(title=\"VBD Score\"),\n",
    "            line=dict(width=1, color='black')\n",
    "        ),\n",
    "        hovertemplate='Player: %{text}<br>Divergence: %{x}<br>Availability: %{y:.1%}<br>VBD: %{marker.color}<extra></extra>'\n",
    "    ))\n",
    "    \n",
    "    # Add quadrant lines\n",
    "    fig.add_hline(y=0.5, line_dash=\"dash\", line_color=\"gray\", opacity=0.5)\n",
    "    fig.add_vline(x=0, line_dash=\"dash\", line_color=\"gray\", opacity=0.5)\n",
    "    \n",
    "    # Add quadrant labels with strategic advice\n",
    "    fig.add_annotation(\n",
    "        x=-30, y=0.9,\n",
    "        text=\"📈 ESPN OVERVALUED<br>🟢 LIKELY AVAILABLE<br>💡 Wait & Target Later\",\n",
    "        showarrow=False,\n",
    "        bgcolor=\"lightgreen\",\n",
    "        bordercolor=\"green\",\n",
    "        borderwidth=1,\n",
    "        font=dict(size=10)\n",
    "    )\n",
    "    \n",
    "    fig.add_annotation(\n",
    "        x=30, y=0.9,\n",
    "        text=\"📉 ESPN UNDERVALUED<br>🟢 LIKELY AVAILABLE<br>🎯 Hidden Gems\",\n",
    "        showarrow=False,\n",
    "        bgcolor=\"lightblue\",\n",
    "        bordercolor=\"blue\",\n",
    "        borderwidth=1,\n",
    "        font=dict(size=10)\n",
    "    )\n",
    "    \n",
    "    fig.add_annotation(\n",
    "        x=-30, y=0.1,\n",
    "        text=\"📈 ESPN OVERVALUED<br>🔴 WILL BE GONE<br>⚠️ Avoid - Others Overvaluing\",\n",
    "        showarrow=False,\n",
    "        bgcolor=\"lightyellow\",\n",
    "        bordercolor=\"orange\",\n",
    "        borderwidth=1,\n",
    "        font=dict(size=10)\n",
    "    )\n",
    "    \n",
    "    fig.add_annotation(\n",
    "        x=30, y=0.1,\n",
    "        text=\"📉 ESPN UNDERVALUED<br>🔴 WILL BE GONE<br>🚨 Draft Now or Miss Out\",\n",
    "        showarrow=False,\n",
    "        bgcolor=\"lightcoral\",\n",
    "        bordercolor=\"red\",\n",
    "        borderwidth=1,\n",
    "        font=dict(size=10)\n",
    "    )\n",
    "    \n",
    "    fig.update_layout(\n",
    "        title=f'Strategic Override Decision Matrix (Next Pick: {next_pick})',\n",
    "        xaxis_title='Rank Divergence (ESPN - ADP)',\n",
    "        yaxis_title='Probability Available at Your Next Pick',\n",
    "        height=700,\n",
    "        width=1000,\n",
    "        showlegend=False\n",
    "    )\n",
    "    \n",
    "    return fig\n",
    "\n",
    "# Create strategic override matrix\n",
    "override_fig = plot_override_matrix(enhanced_df, my_picks=[8, 17, 32, 41])\n",
    "override_fig.show()\n",
    "\n",
    "print(\"\\n📊 Strategic Override Matrix:\")\n",
    "print(\"🎯 Top Right (Blue): Hidden gems - ESPN undervalues, still available\")\n",
    "print(\"🚨 Bottom Right (Red): Urgent picks - ESPN undervalues, will be gone\")  \n",
    "print(\"🟢 Top Left (Green): Wait targets - ESPN overvalues, will be available\")\n",
    "print(\"⚠️  Bottom Left (Yellow): Avoid - ESPN overvalues, others will take anyway\")"
   ]
  },
  {
   "cell_type": "markdown",
   "metadata": {},
   "source": [
    "## 2. Strategic Override Matrix\n",
    "\n",
    "Four-quadrant analysis for override decisions. Helps identify when to override the 80/20 system based on divergence and availability."
   ]
  },
  {
   "cell_type": "code",
   "execution_count": null,
   "metadata": {},
   "outputs": [],
   "source": [
    "def plot_queue_jump_heatmap(df, upcoming_picks=[8, 17, 32]):\n",
    "    \"\"\"Shows players likely to jump queue at your picks\"\"\"\n",
    "    \n",
    "    # Create pick windows around your upcoming picks\n",
    "    pick_windows = [(max(1, p-5), p+5) for p in upcoming_picks[:3]]\n",
    "    window_labels = [f\"Pick {p} Window\" for p in upcoming_picks[:3]]\n",
    "    \n",
    "    heatmap_data = []\n",
    "    player_names = []\n",
    "    \n",
    "    for start, end in pick_windows:\n",
    "        # Get players in this ADP range\n",
    "        window_df = df[(df['adp_rank'] >= start) & (df['adp_rank'] <= end)]\n",
    "        window_df = window_df.sort_values('adp_rank').head(10)  # Top 10 in window\n",
    "        \n",
    "        # Store divergence values and player names\n",
    "        divergences = window_df['rank_divergence'].values\n",
    "        # Pad with zeros if less than 10 players\n",
    "        if len(divergences) < 10:\n",
    "            divergences = np.concatenate([divergences, [0] * (10 - len(divergences))])\n",
    "        \n",
    "        heatmap_data.append(divergences)\n",
    "        \n",
    "        if len(player_names) == 0:  # Only get names once\n",
    "            names = window_df['player_name'].tolist()\n",
    "            names.extend([''] * (10 - len(names)))  # Pad with empty strings\n",
    "            player_names = names[:10]\n",
    "    \n",
    "    fig = go.Figure(data=go.Heatmap(\n",
    "        z=heatmap_data,\n",
    "        x=player_names,\n",
    "        y=window_labels,\n",
    "        colorscale='RdBu',\n",
    "        zmid=0,\n",
    "        colorbar=dict(title=\"Rank Divergence<br>(ESPN - ADP)\"),\n",
    "        hovetemplate='Window: %{y}<br>Player: %{x}<br>Divergence: %{z}<extra></extra>'\n",
    "    ))\n",
    "    \n",
    "    fig.update_layout(\n",
    "        title='Queue Jump Alert: Rank Divergence at Your Draft Picks',\n",
    "        xaxis_title='Players (sorted by ADP in first window)',\n",
    "        yaxis_title='Draft Pick Windows',\n",
    "        height=400,\n",
    "        width=1000\n",
    "    )\n",
    "    \n",
    "    return fig\n",
    "\n",
    "# Create queue jump heatmap\n",
    "jump_fig = plot_queue_jump_heatmap(enhanced_df, [8, 17, 32])\n",
    "jump_fig.show()\n",
    "\n",
    "print(\"\\n📊 Queue Jump Analysis:\")\n",
    "print(\"- Red (negative): ESPN ranks much lower than ADP - likely to be picked earlier\")\n",
    "print(\"- Blue (positive): ADP ranks much lower than ESPN - potential value\")\n",
    "print(\"- Focus on red players in your pick windows - they may jump the queue\")"
   ]
  },
  {
   "cell_type": "markdown",
   "metadata": {},
   "source": [
    "## 1. Queue Jump Alert Heatmap\n",
    "\n",
    "Shows players likely to jump ahead of their ADP position at your specific draft picks. Red areas indicate ESPN ranks players much higher than ADP suggests."
   ]
  },
  {
   "cell_type": "code",
   "execution_count": null,
   "metadata": {},
   "outputs": [],
   "source": [
    "# Strategic Divergence Functions\n",
    "\n",
    "def add_divergence_metrics(df):\n",
    "    \"\"\"Add divergence calculations to existing dataframe\"\"\"\n",
    "    df = df.copy()\n",
    "    df['rank_divergence'] = df['espn_rank'] - df['adp_rank']\n",
    "    df['abs_divergence'] = abs(df['rank_divergence'])\n",
    "    \n",
    "    # Add availability probabilities for analysis\n",
    "    my_picks = [8, 17, 32, 41, 56, 65, 80, 89]\n",
    "    current_pick = 1\n",
    "    next_pick = min([p for p in my_picks if p > current_pick])\n",
    "    picks_until = next_pick - current_pick\n",
    "    \n",
    "    availability_probs = []\n",
    "    for _, player in df.iterrows():\n",
    "        prob_gone = probability_gone_before_next_pick(df, player['player_name'], picks_until)\n",
    "        availability_probs.append(1 - prob_gone)\n",
    "    \n",
    "    df['probability_available'] = availability_probs\n",
    "    df['vbd_score'] = df['salary_value']  # Use salary_value as VBD proxy\n",
    "    \n",
    "    return df\n",
    "\n",
    "# Apply divergence metrics to our data\n",
    "enhanced_df = add_divergence_metrics(ranking_df)\n",
    "print(\"✅ Enhanced dataframe with divergence metrics\")\n",
    "print(f\"Divergence range: {enhanced_df['rank_divergence'].min():.1f} to {enhanced_df['rank_divergence'].max():.1f}\")\n",
    "print(f\"Players with significant negative divergence (ESPN overvalued): {len(enhanced_df[enhanced_df['rank_divergence'] < -15])}\")\n",
    "print(f\"Players with significant positive divergence (ADP overvalued): {len(enhanced_df[enhanced_df['rank_divergence'] > 15])}\")"
   ]
  },
  {
   "cell_type": "markdown",
   "metadata": {},
   "source": [
    "# Strategic Divergence Analysis - Blind Spot Detection\n",
    "\n",
    "This section implements visualizations to identify strategic blind spots in the 80% ESPN + 20% ADP system by analyzing ranking divergences and highlighting opportunities where the weighting may mislead."
   ]
  },
  {
   "cell_type": "markdown",
   "metadata": {},
   "source": [
    "# Statistical Visualization Functions for Fantasy Football Draft Probability System\n",
    "\n",
    "This notebook implements comprehensive statistical visualizations for analyzing the 80% ESPN + 20% ADP probability system with discrete survival calculations.\n",
    "\n",
    "## Key Visualizations:\n",
    "1. **Softmax Temperature Analysis** - How τ affects probability concentration\n",
    "2. **80/20 Weighting Impact** - Compare ESPN vs ADP vs blended probabilities\n",
    "3. **Discrete Survival Waterfall** - Step-by-step survival probability\n",
    "4. **Normal vs Exponential Comparison** - Old vs new distribution methods\n",
    "5. **Probability Evolution** - How availability changes through draft\n",
    "6. **Decision Zone Mapping** - VBD value vs availability zones\n",
    "7. **Sensitivity Analysis** - Parameter robustness testing"
   ]
  },
  {
   "cell_type": "code",
   "execution_count": null,
   "metadata": {},
   "outputs": [
    {
     "name": "stdout",
     "output_type": "stream",
     "text": [
      "✅ Imports loaded successfully\n"
     ]
    }
   ],
   "source": [
    "# Required imports\n",
    "import pandas as pd\n",
    "import numpy as np\n",
    "import plotly.graph_objects as go\n",
    "import plotly.express as px\n",
    "from plotly.subplots import make_subplots\n",
    "from scipy import stats\n",
    "from scipy.stats import norm\n",
    "import sys\n",
    "import os\n",
    "\n",
    "# Add parent directory to path to import functions from main notebook\n",
    "sys.path.append(os.path.dirname(os.path.dirname(os.path.abspath(''))))\n",
    "\n",
    "print(\"✅ Imports loaded successfully\")"
   ]
  },
  {
   "cell_type": "code",
   "execution_count": null,
   "metadata": {},
   "outputs": [
    {
     "name": "stdout",
     "output_type": "stream",
     "text": [
      "ESPN data: 300 players\n",
      "ADP data: 347 players\n",
      "Merged dataset: 300 players\n",
      "Players with ADP data: 252 players\n",
      "\n",
      "✅ Core functions and data loaded\n"
     ]
    }
   ],
   "source": [
    "# Load core functions from main notebook\n",
    "def load_and_merge_ranking_data():\n",
    "    \"\"\"Load ESPN rankings and external ADP data, merge them for probability calculations\"\"\"\n",
    "    \n",
    "    # Load ESPN data (80% weight)\n",
    "    espn_df = pd.read_csv('../data/espn_projections_20250814.csv')\n",
    "    \n",
    "    # Load FantasyPros ADP data (20% weight)  \n",
    "    adp_df = pd.read_csv('../data/fantasypros_adp_20250815.csv')\n",
    "    \n",
    "    print(f\"ESPN data: {len(espn_df)} players\")\n",
    "    print(f\"ADP data: {len(adp_df)} players\")\n",
    "    \n",
    "    # Standardize player names for matching\n",
    "    def clean_name(name):\n",
    "        return str(name).strip().lower().replace(\"'\", \"\").replace(\".\", \"\")\n",
    "    \n",
    "    espn_df['clean_name'] = espn_df['player_name'].apply(clean_name)\n",
    "    adp_df['clean_name'] = adp_df['PLAYER'].apply(clean_name)\n",
    "    \n",
    "    # Merge ESPN with ADP data\n",
    "    merged_df = espn_df.merge(\n",
    "        adp_df[['clean_name', 'RANK', 'ADP']], \n",
    "        on='clean_name', \n",
    "        how='left'\n",
    "    )\n",
    "    \n",
    "    # Fill missing ADP ranks with ESPN rank + some penalty\n",
    "    merged_df['adp_rank'] = merged_df['RANK'].fillna(merged_df['overall_rank'] + 50)\n",
    "    merged_df['espn_rank'] = merged_df['overall_rank']\n",
    "    \n",
    "    print(f\"Merged dataset: {len(merged_df)} players\")\n",
    "    print(f\"Players with ADP data: {len(merged_df[merged_df['RANK'].notna()])} players\")\n",
    "    \n",
    "    return merged_df[['overall_rank', 'position', 'position_rank', 'player_name', 'team', 'salary_value', 'bye_week', 'espn_rank', 'adp_rank']]\n",
    "\n",
    "def compute_softmax_scores(rank_series, tau=5.0):\n",
    "    \"\"\"Convert ranks to softmax scores with temperature tau (lower rank = higher score)\"\"\"\n",
    "    scores = np.exp(-rank_series / tau)\n",
    "    return scores\n",
    "\n",
    "def compute_pick_probabilities(available_df, espn_weight=0.8, adp_weight=0.2, tau_espn=5.0, tau_adp=5.0):\n",
    "    \"\"\"\n",
    "    Compute per-player probability of being picked next using weighted softmax over ESPN and ADP ranks\n",
    "    \"\"\"\n",
    "    if len(available_df) == 0:\n",
    "        return pd.Series(dtype=float)\n",
    "    \n",
    "    # Softmax scores for ESPN and ADP ranks\n",
    "    espn_scores = compute_softmax_scores(available_df['espn_rank'], tau_espn)\n",
    "    adp_scores = compute_softmax_scores(available_df['adp_rank'], tau_adp)\n",
    "    \n",
    "    # Weighted combination (80% ESPN, 20% ADP)\n",
    "    combined_scores = espn_weight * espn_scores + adp_weight * adp_scores\n",
    "    \n",
    "    # Normalize to sum to 1 across available players\n",
    "    probs = combined_scores / combined_scores.sum()\n",
    "    return probs\n",
    "\n",
    "def probability_gone_before_next_pick(available_df, player_name, picks_until_next_turn):\n",
    "    \"\"\"\n",
    "    Compute probability a player is gone before your next turn using discrete survival calculation\n",
    "    \"\"\"\n",
    "    if picks_until_next_turn <= 0:\n",
    "        return 0.0\n",
    "    \n",
    "    survival_prob = 1.0\n",
    "    current_available = available_df.copy()\n",
    "    \n",
    "    # Simulate each pick until our next turn\n",
    "    for pick_step in range(picks_until_next_turn):\n",
    "        if len(current_available) == 0:\n",
    "            break\n",
    "            \n",
    "        # Get probabilities for current available players\n",
    "        pick_probs = compute_pick_probabilities(current_available)\n",
    "        \n",
    "        # Find probability our target player gets picked this round\n",
    "        player_mask = current_available['player_name'] == player_name\n",
    "        if not player_mask.any():\n",
    "            # Player already gone\n",
    "            break\n",
    "            \n",
    "        p_pick_now = pick_probs[player_mask].iloc[0] if player_mask.any() else 0.0\n",
    "        \n",
    "        # Update survival probability\n",
    "        survival_prob *= (1 - p_pick_now)\n",
    "        \n",
    "        # For simulation: remove the most likely pick (simplified approach)\n",
    "        most_likely_idx = pick_probs.idxmax()\n",
    "        current_available = current_available.drop(most_likely_idx)\n",
    "    \n",
    "    prob_gone = 1 - survival_prob\n",
    "    return min(1.0, max(0.0, prob_gone))\n",
    "\n",
    "# Load data for examples\n",
    "ranking_df = load_and_merge_ranking_data()\n",
    "print(\"\\n✅ Core functions and data loaded\")"
   ]
  },
  {
   "cell_type": "markdown",
   "metadata": {},
   "source": [
    "## 1. Softmax Temperature Analysis\n",
    "\n",
    "This visualization shows how the temperature parameter τ (tau) affects the concentration of pick probabilities. Higher τ values spread probabilities more evenly, while lower τ values concentrate probability on top-ranked players."
   ]
  },
  {
   "cell_type": "code",
   "execution_count": null,
   "metadata": {},
   "outputs": [
    {
     "data": {
      "application/vnd.plotly.v1+json": {
       "config": {
        "plotlyServerURL": "https://plot.ly"
       },
       "data": [
        {
         "mode": "lines+markers",
         "name": "τ=1",
         "type": "scatter",
         "x": {
          "bdata": "AQIDBAUGBwgJCgsMDQ4PEBESExQ=",
          "dtype": "i1"
         },
         "y": {
          "bdata": "CJqc5VQ65D9u3aHJAcTNPy6L2eF85rU/VrdM8QUdoD/Ktw2BC7aHP3/ZHegWcnE/fJf4FO6rWT8jy8MaW+NCP+8H8ONPyys/EHNPcCdzFD/Q9kNInxf+Pg7xQCoCJOY+luMHnklK0D5pZSz5pvi3PkBCOK0Yo6E+iVa+Zwv0iT6dXOovahhzPrbxQ6NjGVw+vxj0mZmsRD7RjXKpJ2wuPg==",
          "dtype": "f8"
         }
        },
        {
         "mode": "lines+markers",
         "name": "τ=3",
         "type": "scatter",
         "x": {
          "bdata": "AQIDBAUGBwgJCgsMDQ4PEBESExQ=",
          "dtype": "i1"
         },
         "y": {
          "bdata": "hs6N40Qq0j/5N193IAjKP/KW5jYOp8I/QqxIHvS6uj82e7zEMCezP5QFfTuUcqs/tN3YjcOqoz+8RvzFIS+cP9KHCjHeMZQ/yrQ6l77wjD8+M2PvmLyEP0p7NHGNt30/YTSSsAxLdT//DqsEsoNuPwoOXQdT3WU/FW6N91BVXz/1uzY2hnNWP/gxxvVHFlA/74b2M8ENRz+2/23CyoRAPw==",
          "dtype": "f8"
         }
        },
        {
         "mode": "lines+markers",
         "name": "τ=5",
         "type": "scatter",
         "x": {
          "bdata": "AQIDBAUGBwgJCgsMDQ4PEBESExQ=",
          "dtype": "i1"
         },
         "y": {
          "bdata": "qSWC+aaixz9d2Mvl2lnDPwJqPTq/r78/RPL/MlbxuT/+Qcxzdz21Pw7BxTXSY7E/SJB/jK95rD+0HHg2SlCnPzHWmCdsFqM/hMWAJlRBnz9+COsS75aZP9IXw3Zz85Q/q5rC6DgnkT+TUKoddRaMP0YWsHUM/4Y/JEAIZejTgj/hS03ZadR+P29I5PnCPXk/7lvzZXGqdD/M8BXHcutwPw==",
          "dtype": "f8"
         }
        },
        {
         "mode": "lines+markers",
         "name": "τ=10",
         "type": "scatter",
         "x": {
          "bdata": "AQIDBAUGBwgJCgsMDQ4PEBESExQ=",
          "dtype": "i1"
         },
         "y": {
          "bdata": "1yoKgLUsvD+a4rQ3VH65P0K9w0NEEbc/bLmEZU7ftD95+ZPL0uKyPzQX2qi6FrE/ekoxVdbsrj8zLjlYc/urP/NHuBPCUak/m0FM8e/opj9xRUaQ0LqkP7RMh/TNwaI/xQewNtr4oD/+Y/IhxbaeP/HjDE+Hyps/kmdc3H0lmT8dlxgh4sCWP0HslYeSlpQ/YTbJ1wKhkj9WC30ALtuQPw==",
          "dtype": "f8"
         }
        }
       ],
       "layout": {
        "height": 500,
        "showlegend": true,
        "template": {
         "data": {
          "bar": [
           {
            "error_x": {
             "color": "#2a3f5f"
            },
            "error_y": {
             "color": "#2a3f5f"
            },
            "marker": {
             "line": {
              "color": "#E5ECF6",
              "width": 0.5
             },
             "pattern": {
              "fillmode": "overlay",
              "size": 10,
              "solidity": 0.2
             }
            },
            "type": "bar"
           }
          ],
          "barpolar": [
           {
            "marker": {
             "line": {
              "color": "#E5ECF6",
              "width": 0.5
             },
             "pattern": {
              "fillmode": "overlay",
              "size": 10,
              "solidity": 0.2
             }
            },
            "type": "barpolar"
           }
          ],
          "carpet": [
           {
            "aaxis": {
             "endlinecolor": "#2a3f5f",
             "gridcolor": "white",
             "linecolor": "white",
             "minorgridcolor": "white",
             "startlinecolor": "#2a3f5f"
            },
            "baxis": {
             "endlinecolor": "#2a3f5f",
             "gridcolor": "white",
             "linecolor": "white",
             "minorgridcolor": "white",
             "startlinecolor": "#2a3f5f"
            },
            "type": "carpet"
           }
          ],
          "choropleth": [
           {
            "colorbar": {
             "outlinewidth": 0,
             "ticks": ""
            },
            "type": "choropleth"
           }
          ],
          "contour": [
           {
            "colorbar": {
             "outlinewidth": 0,
             "ticks": ""
            },
            "colorscale": [
             [
              0,
              "#0d0887"
             ],
             [
              0.1111111111111111,
              "#46039f"
             ],
             [
              0.2222222222222222,
              "#7201a8"
             ],
             [
              0.3333333333333333,
              "#9c179e"
             ],
             [
              0.4444444444444444,
              "#bd3786"
             ],
             [
              0.5555555555555556,
              "#d8576b"
             ],
             [
              0.6666666666666666,
              "#ed7953"
             ],
             [
              0.7777777777777778,
              "#fb9f3a"
             ],
             [
              0.8888888888888888,
              "#fdca26"
             ],
             [
              1,
              "#f0f921"
             ]
            ],
            "type": "contour"
           }
          ],
          "contourcarpet": [
           {
            "colorbar": {
             "outlinewidth": 0,
             "ticks": ""
            },
            "type": "contourcarpet"
           }
          ],
          "heatmap": [
           {
            "colorbar": {
             "outlinewidth": 0,
             "ticks": ""
            },
            "colorscale": [
             [
              0,
              "#0d0887"
             ],
             [
              0.1111111111111111,
              "#46039f"
             ],
             [
              0.2222222222222222,
              "#7201a8"
             ],
             [
              0.3333333333333333,
              "#9c179e"
             ],
             [
              0.4444444444444444,
              "#bd3786"
             ],
             [
              0.5555555555555556,
              "#d8576b"
             ],
             [
              0.6666666666666666,
              "#ed7953"
             ],
             [
              0.7777777777777778,
              "#fb9f3a"
             ],
             [
              0.8888888888888888,
              "#fdca26"
             ],
             [
              1,
              "#f0f921"
             ]
            ],
            "type": "heatmap"
           }
          ],
          "histogram": [
           {
            "marker": {
             "pattern": {
              "fillmode": "overlay",
              "size": 10,
              "solidity": 0.2
             }
            },
            "type": "histogram"
           }
          ],
          "histogram2d": [
           {
            "colorbar": {
             "outlinewidth": 0,
             "ticks": ""
            },
            "colorscale": [
             [
              0,
              "#0d0887"
             ],
             [
              0.1111111111111111,
              "#46039f"
             ],
             [
              0.2222222222222222,
              "#7201a8"
             ],
             [
              0.3333333333333333,
              "#9c179e"
             ],
             [
              0.4444444444444444,
              "#bd3786"
             ],
             [
              0.5555555555555556,
              "#d8576b"
             ],
             [
              0.6666666666666666,
              "#ed7953"
             ],
             [
              0.7777777777777778,
              "#fb9f3a"
             ],
             [
              0.8888888888888888,
              "#fdca26"
             ],
             [
              1,
              "#f0f921"
             ]
            ],
            "type": "histogram2d"
           }
          ],
          "histogram2dcontour": [
           {
            "colorbar": {
             "outlinewidth": 0,
             "ticks": ""
            },
            "colorscale": [
             [
              0,
              "#0d0887"
             ],
             [
              0.1111111111111111,
              "#46039f"
             ],
             [
              0.2222222222222222,
              "#7201a8"
             ],
             [
              0.3333333333333333,
              "#9c179e"
             ],
             [
              0.4444444444444444,
              "#bd3786"
             ],
             [
              0.5555555555555556,
              "#d8576b"
             ],
             [
              0.6666666666666666,
              "#ed7953"
             ],
             [
              0.7777777777777778,
              "#fb9f3a"
             ],
             [
              0.8888888888888888,
              "#fdca26"
             ],
             [
              1,
              "#f0f921"
             ]
            ],
            "type": "histogram2dcontour"
           }
          ],
          "mesh3d": [
           {
            "colorbar": {
             "outlinewidth": 0,
             "ticks": ""
            },
            "type": "mesh3d"
           }
          ],
          "parcoords": [
           {
            "line": {
             "colorbar": {
              "outlinewidth": 0,
              "ticks": ""
             }
            },
            "type": "parcoords"
           }
          ],
          "pie": [
           {
            "automargin": true,
            "type": "pie"
           }
          ],
          "scatter": [
           {
            "fillpattern": {
             "fillmode": "overlay",
             "size": 10,
             "solidity": 0.2
            },
            "type": "scatter"
           }
          ],
          "scatter3d": [
           {
            "line": {
             "colorbar": {
              "outlinewidth": 0,
              "ticks": ""
             }
            },
            "marker": {
             "colorbar": {
              "outlinewidth": 0,
              "ticks": ""
             }
            },
            "type": "scatter3d"
           }
          ],
          "scattercarpet": [
           {
            "marker": {
             "colorbar": {
              "outlinewidth": 0,
              "ticks": ""
             }
            },
            "type": "scattercarpet"
           }
          ],
          "scattergeo": [
           {
            "marker": {
             "colorbar": {
              "outlinewidth": 0,
              "ticks": ""
             }
            },
            "type": "scattergeo"
           }
          ],
          "scattergl": [
           {
            "marker": {
             "colorbar": {
              "outlinewidth": 0,
              "ticks": ""
             }
            },
            "type": "scattergl"
           }
          ],
          "scattermap": [
           {
            "marker": {
             "colorbar": {
              "outlinewidth": 0,
              "ticks": ""
             }
            },
            "type": "scattermap"
           }
          ],
          "scattermapbox": [
           {
            "marker": {
             "colorbar": {
              "outlinewidth": 0,
              "ticks": ""
             }
            },
            "type": "scattermapbox"
           }
          ],
          "scatterpolar": [
           {
            "marker": {
             "colorbar": {
              "outlinewidth": 0,
              "ticks": ""
             }
            },
            "type": "scatterpolar"
           }
          ],
          "scatterpolargl": [
           {
            "marker": {
             "colorbar": {
              "outlinewidth": 0,
              "ticks": ""
             }
            },
            "type": "scatterpolargl"
           }
          ],
          "scatterternary": [
           {
            "marker": {
             "colorbar": {
              "outlinewidth": 0,
              "ticks": ""
             }
            },
            "type": "scatterternary"
           }
          ],
          "surface": [
           {
            "colorbar": {
             "outlinewidth": 0,
             "ticks": ""
            },
            "colorscale": [
             [
              0,
              "#0d0887"
             ],
             [
              0.1111111111111111,
              "#46039f"
             ],
             [
              0.2222222222222222,
              "#7201a8"
             ],
             [
              0.3333333333333333,
              "#9c179e"
             ],
             [
              0.4444444444444444,
              "#bd3786"
             ],
             [
              0.5555555555555556,
              "#d8576b"
             ],
             [
              0.6666666666666666,
              "#ed7953"
             ],
             [
              0.7777777777777778,
              "#fb9f3a"
             ],
             [
              0.8888888888888888,
              "#fdca26"
             ],
             [
              1,
              "#f0f921"
             ]
            ],
            "type": "surface"
           }
          ],
          "table": [
           {
            "cells": {
             "fill": {
              "color": "#EBF0F8"
             },
             "line": {
              "color": "white"
             }
            },
            "header": {
             "fill": {
              "color": "#C8D4E3"
             },
             "line": {
              "color": "white"
             }
            },
            "type": "table"
           }
          ]
         },
         "layout": {
          "annotationdefaults": {
           "arrowcolor": "#2a3f5f",
           "arrowhead": 0,
           "arrowwidth": 1
          },
          "autotypenumbers": "strict",
          "coloraxis": {
           "colorbar": {
            "outlinewidth": 0,
            "ticks": ""
           }
          },
          "colorscale": {
           "diverging": [
            [
             0,
             "#8e0152"
            ],
            [
             0.1,
             "#c51b7d"
            ],
            [
             0.2,
             "#de77ae"
            ],
            [
             0.3,
             "#f1b6da"
            ],
            [
             0.4,
             "#fde0ef"
            ],
            [
             0.5,
             "#f7f7f7"
            ],
            [
             0.6,
             "#e6f5d0"
            ],
            [
             0.7,
             "#b8e186"
            ],
            [
             0.8,
             "#7fbc41"
            ],
            [
             0.9,
             "#4d9221"
            ],
            [
             1,
             "#276419"
            ]
           ],
           "sequential": [
            [
             0,
             "#0d0887"
            ],
            [
             0.1111111111111111,
             "#46039f"
            ],
            [
             0.2222222222222222,
             "#7201a8"
            ],
            [
             0.3333333333333333,
             "#9c179e"
            ],
            [
             0.4444444444444444,
             "#bd3786"
            ],
            [
             0.5555555555555556,
             "#d8576b"
            ],
            [
             0.6666666666666666,
             "#ed7953"
            ],
            [
             0.7777777777777778,
             "#fb9f3a"
            ],
            [
             0.8888888888888888,
             "#fdca26"
            ],
            [
             1,
             "#f0f921"
            ]
           ],
           "sequentialminus": [
            [
             0,
             "#0d0887"
            ],
            [
             0.1111111111111111,
             "#46039f"
            ],
            [
             0.2222222222222222,
             "#7201a8"
            ],
            [
             0.3333333333333333,
             "#9c179e"
            ],
            [
             0.4444444444444444,
             "#bd3786"
            ],
            [
             0.5555555555555556,
             "#d8576b"
            ],
            [
             0.6666666666666666,
             "#ed7953"
            ],
            [
             0.7777777777777778,
             "#fb9f3a"
            ],
            [
             0.8888888888888888,
             "#fdca26"
            ],
            [
             1,
             "#f0f921"
            ]
           ]
          },
          "colorway": [
           "#636efa",
           "#EF553B",
           "#00cc96",
           "#ab63fa",
           "#FFA15A",
           "#19d3f3",
           "#FF6692",
           "#B6E880",
           "#FF97FF",
           "#FECB52"
          ],
          "font": {
           "color": "#2a3f5f"
          },
          "geo": {
           "bgcolor": "white",
           "lakecolor": "white",
           "landcolor": "#E5ECF6",
           "showlakes": true,
           "showland": true,
           "subunitcolor": "white"
          },
          "hoverlabel": {
           "align": "left"
          },
          "hovermode": "closest",
          "mapbox": {
           "style": "light"
          },
          "paper_bgcolor": "white",
          "plot_bgcolor": "#E5ECF6",
          "polar": {
           "angularaxis": {
            "gridcolor": "white",
            "linecolor": "white",
            "ticks": ""
           },
           "bgcolor": "#E5ECF6",
           "radialaxis": {
            "gridcolor": "white",
            "linecolor": "white",
            "ticks": ""
           }
          },
          "scene": {
           "xaxis": {
            "backgroundcolor": "#E5ECF6",
            "gridcolor": "white",
            "gridwidth": 2,
            "linecolor": "white",
            "showbackground": true,
            "ticks": "",
            "zerolinecolor": "white"
           },
           "yaxis": {
            "backgroundcolor": "#E5ECF6",
            "gridcolor": "white",
            "gridwidth": 2,
            "linecolor": "white",
            "showbackground": true,
            "ticks": "",
            "zerolinecolor": "white"
           },
           "zaxis": {
            "backgroundcolor": "#E5ECF6",
            "gridcolor": "white",
            "gridwidth": 2,
            "linecolor": "white",
            "showbackground": true,
            "ticks": "",
            "zerolinecolor": "white"
           }
          },
          "shapedefaults": {
           "line": {
            "color": "#2a3f5f"
           }
          },
          "ternary": {
           "aaxis": {
            "gridcolor": "white",
            "linecolor": "white",
            "ticks": ""
           },
           "baxis": {
            "gridcolor": "white",
            "linecolor": "white",
            "ticks": ""
           },
           "bgcolor": "#E5ECF6",
           "caxis": {
            "gridcolor": "white",
            "linecolor": "white",
            "ticks": ""
           }
          },
          "title": {
           "x": 0.05
          },
          "xaxis": {
           "automargin": true,
           "gridcolor": "white",
           "linecolor": "white",
           "ticks": "",
           "title": {
            "standoff": 15
           },
           "zerolinecolor": "white",
           "zerolinewidth": 2
          },
          "yaxis": {
           "automargin": true,
           "gridcolor": "white",
           "linecolor": "white",
           "ticks": "",
           "title": {
            "standoff": 15
           },
           "zerolinecolor": "white",
           "zerolinewidth": 2
          }
         }
        },
        "title": {
         "text": "Softmax Temperature Effect on Pick Probabilities"
        },
        "xaxis": {
         "title": {
          "text": "Player Rank"
         }
        },
        "yaxis": {
         "title": {
          "text": "Pick Probability"
         }
        }
       }
      }
     },
     "metadata": {},
     "output_type": "display_data"
    },
    {
     "name": "stdout",
     "output_type": "stream",
     "text": [
      "\n",
      "📊 Temperature Analysis:\n",
      "- Lower τ (tau=1): Highly concentrated on top players\n",
      "- Higher τ (tau=10): More evenly distributed probabilities\n",
      "- Our system uses τ=5 as a balanced middle ground\n"
     ]
    }
   ],
   "source": [
    "def plot_temperature_impact(ranks, tau_values=[1, 3, 5, 10]):\n",
    "    \"\"\"Show how τ affects probability concentration\"\"\"\n",
    "    fig = go.Figure()\n",
    "    \n",
    "    for tau in tau_values:\n",
    "        scores = np.exp(-ranks / tau)\n",
    "        probs = scores / scores.sum()\n",
    "        fig.add_trace(go.Scatter(\n",
    "            x=ranks, \n",
    "            y=probs, \n",
    "            name=f'τ={tau}',\n",
    "            mode='lines+markers'\n",
    "        ))\n",
    "    \n",
    "    fig.update_layout(\n",
    "        title='Softmax Temperature Effect on Pick Probabilities',\n",
    "        xaxis_title='Player Rank', \n",
    "        yaxis_title='Pick Probability',\n",
    "        height=500,\n",
    "        showlegend=True\n",
    "    )\n",
    "    \n",
    "    return fig\n",
    "\n",
    "# Example: Show temperature effect for ranks 1-20\n",
    "example_ranks = np.arange(1, 21)\n",
    "temp_fig = plot_temperature_impact(example_ranks)\n",
    "temp_fig.show()\n",
    "\n",
    "print(\"\\n📊 Temperature Analysis:\")\n",
    "print(\"- Lower τ (tau=1): Highly concentrated on top players\")\n",
    "print(\"- Higher τ (tau=10): More evenly distributed probabilities\")\n",
    "print(\"- Our system uses τ=5 as a balanced middle ground\")"
   ]
  },
  {
   "cell_type": "markdown",
   "metadata": {},
   "source": [
    "## 2. 80/20 Weighting Impact\n",
    "\n",
    "Compare how different weighting schemes (ESPN only, ADP only, or 80/20 blend) affect individual player pick probabilities."
   ]
  },
  {
   "cell_type": "markdown",
   "metadata": {},
   "source": [
    "## Complete Analysis Summary\n",
    "\n",
    "This notebook provides comprehensive statistical visualizations for understanding and validating the fantasy football draft probability system:\n",
    "\n",
    "### Core Statistical Analysis:\n",
    "1. **Temperature Analysis**: Validates softmax parameter choice\n",
    "2. **Weighting Impact**: Shows effect of 80/20 ESPN/ADP blend\n",
    "3. **Survival Waterfall**: Illustrates discrete probability calculation\n",
    "4. **Distribution Comparison**: Validates exponential vs normal approach\n",
    "5. **Timeline Evolution**: Shows probability changes through draft\n",
    "6. **Decision Zones**: Strategic guidance visualization\n",
    "7. **Sensitivity Analysis**: Parameter robustness testing\n",
    "8. **Comparative Analysis**: Ranking source validation\n",
    "\n",
    "### Strategic Divergence Analysis:\n",
    "9. **Queue Jump Alerts**: Heatmap of rank divergence at your picks\n",
    "10. **Override Matrix**: Four-quadrant strategic decision framework\n",
    "11. **Divergence Timeline**: Bubble chart of divergence by draft position\n",
    "12. **Divergence Summary**: Actionable lists of targets and avoids\n",
    "13. **Blind Spot Radar**: Radial view of ESPN undervalued players\n",
    "14. **Consensus Weakness**: High variance players requiring careful evaluation\n",
    "\n",
    "These visualizations help validate the probability system and provide insights for draft strategy optimization, while identifying critical blind spots where the 80% ESPN weighting may mislead."
   ]
  },
  {
   "cell_type": "markdown",
   "metadata": {},
   "source": [
    "## 3. Discrete Survival Waterfall\n",
    "\n",
    "Visualizes step-by-step survival probability as each pick occurs before your next turn."
   ]
  },
  {
   "cell_type": "code",
   "execution_count": null,
   "metadata": {},
   "outputs": [
    {
     "data": {
      "application/vnd.plotly.v1+json": {
       "config": {
        "plotlyServerURL": "https://plot.ly"
       },
       "data": [
        {
         "connector": {
          "line": {
           "color": "rgb(63, 63, 63)"
          }
         },
         "measure": [
          "absolute",
          "relative",
          "relative",
          "relative",
          "relative",
          "relative",
          "relative",
          "relative"
         ],
         "name": "Survival Probability",
         "orientation": "v",
         "type": "waterfall",
         "x": [
          "Start",
          "Pick 1",
          "Pick 2",
          "Pick 3",
          "Pick 4",
          "Pick 5",
          "Pick 6",
          "Pick 7"
         ],
         "y": [
          1,
          -0.008210549560193514,
          -0.009946067522362934,
          -0.01202635458554091,
          -0.014300374260984738,
          -0.017321215970642734,
          -0.020939494822210136,
          -0.025004862820010354
         ]
        }
       ],
       "layout": {
        "height": 500,
        "template": {
         "data": {
          "bar": [
           {
            "error_x": {
             "color": "#2a3f5f"
            },
            "error_y": {
             "color": "#2a3f5f"
            },
            "marker": {
             "line": {
              "color": "#E5ECF6",
              "width": 0.5
             },
             "pattern": {
              "fillmode": "overlay",
              "size": 10,
              "solidity": 0.2
             }
            },
            "type": "bar"
           }
          ],
          "barpolar": [
           {
            "marker": {
             "line": {
              "color": "#E5ECF6",
              "width": 0.5
             },
             "pattern": {
              "fillmode": "overlay",
              "size": 10,
              "solidity": 0.2
             }
            },
            "type": "barpolar"
           }
          ],
          "carpet": [
           {
            "aaxis": {
             "endlinecolor": "#2a3f5f",
             "gridcolor": "white",
             "linecolor": "white",
             "minorgridcolor": "white",
             "startlinecolor": "#2a3f5f"
            },
            "baxis": {
             "endlinecolor": "#2a3f5f",
             "gridcolor": "white",
             "linecolor": "white",
             "minorgridcolor": "white",
             "startlinecolor": "#2a3f5f"
            },
            "type": "carpet"
           }
          ],
          "choropleth": [
           {
            "colorbar": {
             "outlinewidth": 0,
             "ticks": ""
            },
            "type": "choropleth"
           }
          ],
          "contour": [
           {
            "colorbar": {
             "outlinewidth": 0,
             "ticks": ""
            },
            "colorscale": [
             [
              0,
              "#0d0887"
             ],
             [
              0.1111111111111111,
              "#46039f"
             ],
             [
              0.2222222222222222,
              "#7201a8"
             ],
             [
              0.3333333333333333,
              "#9c179e"
             ],
             [
              0.4444444444444444,
              "#bd3786"
             ],
             [
              0.5555555555555556,
              "#d8576b"
             ],
             [
              0.6666666666666666,
              "#ed7953"
             ],
             [
              0.7777777777777778,
              "#fb9f3a"
             ],
             [
              0.8888888888888888,
              "#fdca26"
             ],
             [
              1,
              "#f0f921"
             ]
            ],
            "type": "contour"
           }
          ],
          "contourcarpet": [
           {
            "colorbar": {
             "outlinewidth": 0,
             "ticks": ""
            },
            "type": "contourcarpet"
           }
          ],
          "heatmap": [
           {
            "colorbar": {
             "outlinewidth": 0,
             "ticks": ""
            },
            "colorscale": [
             [
              0,
              "#0d0887"
             ],
             [
              0.1111111111111111,
              "#46039f"
             ],
             [
              0.2222222222222222,
              "#7201a8"
             ],
             [
              0.3333333333333333,
              "#9c179e"
             ],
             [
              0.4444444444444444,
              "#bd3786"
             ],
             [
              0.5555555555555556,
              "#d8576b"
             ],
             [
              0.6666666666666666,
              "#ed7953"
             ],
             [
              0.7777777777777778,
              "#fb9f3a"
             ],
             [
              0.8888888888888888,
              "#fdca26"
             ],
             [
              1,
              "#f0f921"
             ]
            ],
            "type": "heatmap"
           }
          ],
          "histogram": [
           {
            "marker": {
             "pattern": {
              "fillmode": "overlay",
              "size": 10,
              "solidity": 0.2
             }
            },
            "type": "histogram"
           }
          ],
          "histogram2d": [
           {
            "colorbar": {
             "outlinewidth": 0,
             "ticks": ""
            },
            "colorscale": [
             [
              0,
              "#0d0887"
             ],
             [
              0.1111111111111111,
              "#46039f"
             ],
             [
              0.2222222222222222,
              "#7201a8"
             ],
             [
              0.3333333333333333,
              "#9c179e"
             ],
             [
              0.4444444444444444,
              "#bd3786"
             ],
             [
              0.5555555555555556,
              "#d8576b"
             ],
             [
              0.6666666666666666,
              "#ed7953"
             ],
             [
              0.7777777777777778,
              "#fb9f3a"
             ],
             [
              0.8888888888888888,
              "#fdca26"
             ],
             [
              1,
              "#f0f921"
             ]
            ],
            "type": "histogram2d"
           }
          ],
          "histogram2dcontour": [
           {
            "colorbar": {
             "outlinewidth": 0,
             "ticks": ""
            },
            "colorscale": [
             [
              0,
              "#0d0887"
             ],
             [
              0.1111111111111111,
              "#46039f"
             ],
             [
              0.2222222222222222,
              "#7201a8"
             ],
             [
              0.3333333333333333,
              "#9c179e"
             ],
             [
              0.4444444444444444,
              "#bd3786"
             ],
             [
              0.5555555555555556,
              "#d8576b"
             ],
             [
              0.6666666666666666,
              "#ed7953"
             ],
             [
              0.7777777777777778,
              "#fb9f3a"
             ],
             [
              0.8888888888888888,
              "#fdca26"
             ],
             [
              1,
              "#f0f921"
             ]
            ],
            "type": "histogram2dcontour"
           }
          ],
          "mesh3d": [
           {
            "colorbar": {
             "outlinewidth": 0,
             "ticks": ""
            },
            "type": "mesh3d"
           }
          ],
          "parcoords": [
           {
            "line": {
             "colorbar": {
              "outlinewidth": 0,
              "ticks": ""
             }
            },
            "type": "parcoords"
           }
          ],
          "pie": [
           {
            "automargin": true,
            "type": "pie"
           }
          ],
          "scatter": [
           {
            "fillpattern": {
             "fillmode": "overlay",
             "size": 10,
             "solidity": 0.2
            },
            "type": "scatter"
           }
          ],
          "scatter3d": [
           {
            "line": {
             "colorbar": {
              "outlinewidth": 0,
              "ticks": ""
             }
            },
            "marker": {
             "colorbar": {
              "outlinewidth": 0,
              "ticks": ""
             }
            },
            "type": "scatter3d"
           }
          ],
          "scattercarpet": [
           {
            "marker": {
             "colorbar": {
              "outlinewidth": 0,
              "ticks": ""
             }
            },
            "type": "scattercarpet"
           }
          ],
          "scattergeo": [
           {
            "marker": {
             "colorbar": {
              "outlinewidth": 0,
              "ticks": ""
             }
            },
            "type": "scattergeo"
           }
          ],
          "scattergl": [
           {
            "marker": {
             "colorbar": {
              "outlinewidth": 0,
              "ticks": ""
             }
            },
            "type": "scattergl"
           }
          ],
          "scattermap": [
           {
            "marker": {
             "colorbar": {
              "outlinewidth": 0,
              "ticks": ""
             }
            },
            "type": "scattermap"
           }
          ],
          "scattermapbox": [
           {
            "marker": {
             "colorbar": {
              "outlinewidth": 0,
              "ticks": ""
             }
            },
            "type": "scattermapbox"
           }
          ],
          "scatterpolar": [
           {
            "marker": {
             "colorbar": {
              "outlinewidth": 0,
              "ticks": ""
             }
            },
            "type": "scatterpolar"
           }
          ],
          "scatterpolargl": [
           {
            "marker": {
             "colorbar": {
              "outlinewidth": 0,
              "ticks": ""
             }
            },
            "type": "scatterpolargl"
           }
          ],
          "scatterternary": [
           {
            "marker": {
             "colorbar": {
              "outlinewidth": 0,
              "ticks": ""
             }
            },
            "type": "scatterternary"
           }
          ],
          "surface": [
           {
            "colorbar": {
             "outlinewidth": 0,
             "ticks": ""
            },
            "colorscale": [
             [
              0,
              "#0d0887"
             ],
             [
              0.1111111111111111,
              "#46039f"
             ],
             [
              0.2222222222222222,
              "#7201a8"
             ],
             [
              0.3333333333333333,
              "#9c179e"
             ],
             [
              0.4444444444444444,
              "#bd3786"
             ],
             [
              0.5555555555555556,
              "#d8576b"
             ],
             [
              0.6666666666666666,
              "#ed7953"
             ],
             [
              0.7777777777777778,
              "#fb9f3a"
             ],
             [
              0.8888888888888888,
              "#fdca26"
             ],
             [
              1,
              "#f0f921"
             ]
            ],
            "type": "surface"
           }
          ],
          "table": [
           {
            "cells": {
             "fill": {
              "color": "#EBF0F8"
             },
             "line": {
              "color": "white"
             }
            },
            "header": {
             "fill": {
              "color": "#C8D4E3"
             },
             "line": {
              "color": "white"
             }
            },
            "type": "table"
           }
          ]
         },
         "layout": {
          "annotationdefaults": {
           "arrowcolor": "#2a3f5f",
           "arrowhead": 0,
           "arrowwidth": 1
          },
          "autotypenumbers": "strict",
          "coloraxis": {
           "colorbar": {
            "outlinewidth": 0,
            "ticks": ""
           }
          },
          "colorscale": {
           "diverging": [
            [
             0,
             "#8e0152"
            ],
            [
             0.1,
             "#c51b7d"
            ],
            [
             0.2,
             "#de77ae"
            ],
            [
             0.3,
             "#f1b6da"
            ],
            [
             0.4,
             "#fde0ef"
            ],
            [
             0.5,
             "#f7f7f7"
            ],
            [
             0.6,
             "#e6f5d0"
            ],
            [
             0.7,
             "#b8e186"
            ],
            [
             0.8,
             "#7fbc41"
            ],
            [
             0.9,
             "#4d9221"
            ],
            [
             1,
             "#276419"
            ]
           ],
           "sequential": [
            [
             0,
             "#0d0887"
            ],
            [
             0.1111111111111111,
             "#46039f"
            ],
            [
             0.2222222222222222,
             "#7201a8"
            ],
            [
             0.3333333333333333,
             "#9c179e"
            ],
            [
             0.4444444444444444,
             "#bd3786"
            ],
            [
             0.5555555555555556,
             "#d8576b"
            ],
            [
             0.6666666666666666,
             "#ed7953"
            ],
            [
             0.7777777777777778,
             "#fb9f3a"
            ],
            [
             0.8888888888888888,
             "#fdca26"
            ],
            [
             1,
             "#f0f921"
            ]
           ],
           "sequentialminus": [
            [
             0,
             "#0d0887"
            ],
            [
             0.1111111111111111,
             "#46039f"
            ],
            [
             0.2222222222222222,
             "#7201a8"
            ],
            [
             0.3333333333333333,
             "#9c179e"
            ],
            [
             0.4444444444444444,
             "#bd3786"
            ],
            [
             0.5555555555555556,
             "#d8576b"
            ],
            [
             0.6666666666666666,
             "#ed7953"
            ],
            [
             0.7777777777777778,
             "#fb9f3a"
            ],
            [
             0.8888888888888888,
             "#fdca26"
            ],
            [
             1,
             "#f0f921"
            ]
           ]
          },
          "colorway": [
           "#636efa",
           "#EF553B",
           "#00cc96",
           "#ab63fa",
           "#FFA15A",
           "#19d3f3",
           "#FF6692",
           "#B6E880",
           "#FF97FF",
           "#FECB52"
          ],
          "font": {
           "color": "#2a3f5f"
          },
          "geo": {
           "bgcolor": "white",
           "lakecolor": "white",
           "landcolor": "#E5ECF6",
           "showlakes": true,
           "showland": true,
           "subunitcolor": "white"
          },
          "hoverlabel": {
           "align": "left"
          },
          "hovermode": "closest",
          "mapbox": {
           "style": "light"
          },
          "paper_bgcolor": "white",
          "plot_bgcolor": "#E5ECF6",
          "polar": {
           "angularaxis": {
            "gridcolor": "white",
            "linecolor": "white",
            "ticks": ""
           },
           "bgcolor": "#E5ECF6",
           "radialaxis": {
            "gridcolor": "white",
            "linecolor": "white",
            "ticks": ""
           }
          },
          "scene": {
           "xaxis": {
            "backgroundcolor": "#E5ECF6",
            "gridcolor": "white",
            "gridwidth": 2,
            "linecolor": "white",
            "showbackground": true,
            "ticks": "",
            "zerolinecolor": "white"
           },
           "yaxis": {
            "backgroundcolor": "#E5ECF6",
            "gridcolor": "white",
            "gridwidth": 2,
            "linecolor": "white",
            "showbackground": true,
            "ticks": "",
            "zerolinecolor": "white"
           },
           "zaxis": {
            "backgroundcolor": "#E5ECF6",
            "gridcolor": "white",
            "gridwidth": 2,
            "linecolor": "white",
            "showbackground": true,
            "ticks": "",
            "zerolinecolor": "white"
           }
          },
          "shapedefaults": {
           "line": {
            "color": "#2a3f5f"
           }
          },
          "ternary": {
           "aaxis": {
            "gridcolor": "white",
            "linecolor": "white",
            "ticks": ""
           },
           "baxis": {
            "gridcolor": "white",
            "linecolor": "white",
            "ticks": ""
           },
           "bgcolor": "#E5ECF6",
           "caxis": {
            "gridcolor": "white",
            "linecolor": "white",
            "ticks": ""
           }
          },
          "title": {
           "x": 0.05
          },
          "xaxis": {
           "automargin": true,
           "gridcolor": "white",
           "linecolor": "white",
           "ticks": "",
           "title": {
            "standoff": 15
           },
           "zerolinecolor": "white",
           "zerolinewidth": 2
          },
          "yaxis": {
           "automargin": true,
           "gridcolor": "white",
           "linecolor": "white",
           "ticks": "",
           "title": {
            "standoff": 15
           },
           "zerolinecolor": "white",
           "zerolinewidth": 2
          }
         }
        },
        "title": {
         "text": "Drake London Survival Probability Waterfall"
        },
        "yaxis": {
         "title": {
          "text": "Survival Probability"
         }
        }
       }
      }
     },
     "metadata": {},
     "output_type": "display_data"
    },
    {
     "name": "stdout",
     "output_type": "stream",
     "text": [
      "\n",
      "📊 Survival Waterfall for Drake London:\n",
      "- Shows cumulative effect of each pick reducing survival probability\n",
      "- Discrete simulation more realistic than normal distribution assumption\n"
     ]
    }
   ],
   "source": [
    "def plot_survival_waterfall(df, player_name, picks_until=5):\n",
    "    \"\"\"Step-by-step survival probability visualization\"\"\"\n",
    "    survival = 1.0\n",
    "    steps = [survival]\n",
    "    current_df = df.copy()\n",
    "    \n",
    "    for pick in range(picks_until):\n",
    "        if len(current_df) == 0:\n",
    "            break\n",
    "            \n",
    "        pick_probs = compute_pick_probabilities(current_df)\n",
    "        \n",
    "        # Find our player's probability of being picked this round\n",
    "        player_mask = current_df['player_name'] == player_name\n",
    "        if not player_mask.any():\n",
    "            break\n",
    "            \n",
    "        p_picked = pick_probs[player_mask].iloc[0]\n",
    "        survival *= (1 - p_picked)\n",
    "        steps.append(survival)\n",
    "        \n",
    "        # Remove most likely player for next iteration\n",
    "        most_likely_idx = pick_probs.idxmax()\n",
    "        current_df = current_df.drop(most_likely_idx)\n",
    "    \n",
    "    # Create waterfall chart\n",
    "    pick_labels = ['Start'] + [f'Pick {i+1}' for i in range(len(steps)-1)]\n",
    "    \n",
    "    fig = go.Figure(go.Waterfall(\n",
    "        name=\"Survival Probability\",\n",
    "        orientation=\"v\",\n",
    "        measure=[\"absolute\"] + [\"relative\"] * (len(steps)-1),\n",
    "        x=pick_labels,\n",
    "        y=[steps[0]] + [steps[i] - steps[i-1] for i in range(1, len(steps))],\n",
    "        connector={\"line\":{\"color\":\"rgb(63, 63, 63)\"}},\n",
    "    ))\n",
    "    \n",
    "    fig.update_layout(\n",
    "        title=f\"{player_name} Survival Probability Waterfall\",\n",
    "        yaxis_title=\"Survival Probability\",\n",
    "        height=500\n",
    "    )\n",
    "    \n",
    "    return fig\n",
    "\n",
    "# Example with a mid-tier player\n",
    "example_player_mid = ranking_df.iloc[15]['player_name']\n",
    "waterfall_fig = plot_survival_waterfall(ranking_df, example_player_mid, picks_until=7)\n",
    "waterfall_fig.show()\n",
    "\n",
    "print(f\"\\n📊 Survival Waterfall for {example_player_mid}:\")\n",
    "print(\"- Shows cumulative effect of each pick reducing survival probability\")\n",
    "print(\"- Discrete simulation more realistic than normal distribution assumption\")"
   ]
  },
  {
   "cell_type": "markdown",
   "metadata": {},
   "source": [
    "## 4. Normal vs Exponential Distribution Comparison\n",
    "\n",
    "Compares the old normal distribution approach with the new exponential decay (softmax) approach."
   ]
  },
  {
   "cell_type": "code",
   "execution_count": null,
   "metadata": {},
   "outputs": [
    {
     "data": {
      "application/vnd.plotly.v1+json": {
       "config": {
        "plotlyServerURL": "https://plot.ly"
       },
       "data": [
        {
         "line": {
          "color": "#e74c3c",
          "width": 3
         },
         "name": "Normal Distribution (Old)",
         "type": "scatter",
         "x": {
          "bdata": "AQIDBAUGBwgJCgsMDQ4PEBESExQVFhcYGRobHB0e",
          "dtype": "i1"
         },
         "y": {
          "bdata": "tEZ7TBfSxD5Sd0/h81PnPvcMjJh3Ywc/zDwHd737JD+AWF8Wh9hAP+d3pnMtNFg/WtpZk2Aebz+D/YBJnOaBP/wsGlTObZI/ljaGvzn6oD/bzVPttv2rPwNWPFPvpbQ/S22I/XNCuz/TinK7CBrAP0KtY0GEBcE/04pyuwgawD9LbYj9c0K7PwNWPFPvpbQ/281T7bb9qz+WNoa/OfqgP/wsGlTObZI/g/2ASZzmgT9a2lmTYB5vP+d3pnMtNFg/gFhfFofYQD/MPAd3vfskP/cMjJh3Ywc/UndP4fNT5z60RntMF9LEPquatbLxoKA+",
          "dtype": "f8"
         }
        },
        {
         "line": {
          "color": "#2ecc71",
          "width": 3
         },
         "name": "Exponential Decay (New)",
         "type": "scatter",
         "x": {
          "bdata": "AQIDBAUGBwgJCgsMDQ4PEBESExQVFhcYGRobHB0e",
          "dtype": "i1"
         },
         "y": {
          "bdata": "qlgHNJdCxz+5u63bNAvDP2AaSIP2Lr8/E7nYsuWHuT/gkqvcI+e0PxKshpgkHbE/35218/MFrD+nnicwifGmP2Ygvy7YyKI/+kTrNUzCnj+pyMX/7S6ZP68qRrJMnpQ/riZ+loHhkD8KcW3QTKSLPyQyC6CVoYY/JllnwmKHgj+XBz6THFd+P1PGYVMs13g/9obSW3NWdD+jzollrqZwP4493ff5Q2s/aZFuq7hSZj+3k81w0UZiP6ZHtXNi7V0/7edSdZyAWD+CdsxklA9UP8RdezGobFA/eJMzyPbkSj8qGnSH7gRGPykiER8hB0I/",
          "dtype": "f8"
         }
        }
       ],
       "layout": {
        "height": 500,
        "showlegend": true,
        "template": {
         "data": {
          "bar": [
           {
            "error_x": {
             "color": "#2a3f5f"
            },
            "error_y": {
             "color": "#2a3f5f"
            },
            "marker": {
             "line": {
              "color": "#E5ECF6",
              "width": 0.5
             },
             "pattern": {
              "fillmode": "overlay",
              "size": 10,
              "solidity": 0.2
             }
            },
            "type": "bar"
           }
          ],
          "barpolar": [
           {
            "marker": {
             "line": {
              "color": "#E5ECF6",
              "width": 0.5
             },
             "pattern": {
              "fillmode": "overlay",
              "size": 10,
              "solidity": 0.2
             }
            },
            "type": "barpolar"
           }
          ],
          "carpet": [
           {
            "aaxis": {
             "endlinecolor": "#2a3f5f",
             "gridcolor": "white",
             "linecolor": "white",
             "minorgridcolor": "white",
             "startlinecolor": "#2a3f5f"
            },
            "baxis": {
             "endlinecolor": "#2a3f5f",
             "gridcolor": "white",
             "linecolor": "white",
             "minorgridcolor": "white",
             "startlinecolor": "#2a3f5f"
            },
            "type": "carpet"
           }
          ],
          "choropleth": [
           {
            "colorbar": {
             "outlinewidth": 0,
             "ticks": ""
            },
            "type": "choropleth"
           }
          ],
          "contour": [
           {
            "colorbar": {
             "outlinewidth": 0,
             "ticks": ""
            },
            "colorscale": [
             [
              0,
              "#0d0887"
             ],
             [
              0.1111111111111111,
              "#46039f"
             ],
             [
              0.2222222222222222,
              "#7201a8"
             ],
             [
              0.3333333333333333,
              "#9c179e"
             ],
             [
              0.4444444444444444,
              "#bd3786"
             ],
             [
              0.5555555555555556,
              "#d8576b"
             ],
             [
              0.6666666666666666,
              "#ed7953"
             ],
             [
              0.7777777777777778,
              "#fb9f3a"
             ],
             [
              0.8888888888888888,
              "#fdca26"
             ],
             [
              1,
              "#f0f921"
             ]
            ],
            "type": "contour"
           }
          ],
          "contourcarpet": [
           {
            "colorbar": {
             "outlinewidth": 0,
             "ticks": ""
            },
            "type": "contourcarpet"
           }
          ],
          "heatmap": [
           {
            "colorbar": {
             "outlinewidth": 0,
             "ticks": ""
            },
            "colorscale": [
             [
              0,
              "#0d0887"
             ],
             [
              0.1111111111111111,
              "#46039f"
             ],
             [
              0.2222222222222222,
              "#7201a8"
             ],
             [
              0.3333333333333333,
              "#9c179e"
             ],
             [
              0.4444444444444444,
              "#bd3786"
             ],
             [
              0.5555555555555556,
              "#d8576b"
             ],
             [
              0.6666666666666666,
              "#ed7953"
             ],
             [
              0.7777777777777778,
              "#fb9f3a"
             ],
             [
              0.8888888888888888,
              "#fdca26"
             ],
             [
              1,
              "#f0f921"
             ]
            ],
            "type": "heatmap"
           }
          ],
          "histogram": [
           {
            "marker": {
             "pattern": {
              "fillmode": "overlay",
              "size": 10,
              "solidity": 0.2
             }
            },
            "type": "histogram"
           }
          ],
          "histogram2d": [
           {
            "colorbar": {
             "outlinewidth": 0,
             "ticks": ""
            },
            "colorscale": [
             [
              0,
              "#0d0887"
             ],
             [
              0.1111111111111111,
              "#46039f"
             ],
             [
              0.2222222222222222,
              "#7201a8"
             ],
             [
              0.3333333333333333,
              "#9c179e"
             ],
             [
              0.4444444444444444,
              "#bd3786"
             ],
             [
              0.5555555555555556,
              "#d8576b"
             ],
             [
              0.6666666666666666,
              "#ed7953"
             ],
             [
              0.7777777777777778,
              "#fb9f3a"
             ],
             [
              0.8888888888888888,
              "#fdca26"
             ],
             [
              1,
              "#f0f921"
             ]
            ],
            "type": "histogram2d"
           }
          ],
          "histogram2dcontour": [
           {
            "colorbar": {
             "outlinewidth": 0,
             "ticks": ""
            },
            "colorscale": [
             [
              0,
              "#0d0887"
             ],
             [
              0.1111111111111111,
              "#46039f"
             ],
             [
              0.2222222222222222,
              "#7201a8"
             ],
             [
              0.3333333333333333,
              "#9c179e"
             ],
             [
              0.4444444444444444,
              "#bd3786"
             ],
             [
              0.5555555555555556,
              "#d8576b"
             ],
             [
              0.6666666666666666,
              "#ed7953"
             ],
             [
              0.7777777777777778,
              "#fb9f3a"
             ],
             [
              0.8888888888888888,
              "#fdca26"
             ],
             [
              1,
              "#f0f921"
             ]
            ],
            "type": "histogram2dcontour"
           }
          ],
          "mesh3d": [
           {
            "colorbar": {
             "outlinewidth": 0,
             "ticks": ""
            },
            "type": "mesh3d"
           }
          ],
          "parcoords": [
           {
            "line": {
             "colorbar": {
              "outlinewidth": 0,
              "ticks": ""
             }
            },
            "type": "parcoords"
           }
          ],
          "pie": [
           {
            "automargin": true,
            "type": "pie"
           }
          ],
          "scatter": [
           {
            "fillpattern": {
             "fillmode": "overlay",
             "size": 10,
             "solidity": 0.2
            },
            "type": "scatter"
           }
          ],
          "scatter3d": [
           {
            "line": {
             "colorbar": {
              "outlinewidth": 0,
              "ticks": ""
             }
            },
            "marker": {
             "colorbar": {
              "outlinewidth": 0,
              "ticks": ""
             }
            },
            "type": "scatter3d"
           }
          ],
          "scattercarpet": [
           {
            "marker": {
             "colorbar": {
              "outlinewidth": 0,
              "ticks": ""
             }
            },
            "type": "scattercarpet"
           }
          ],
          "scattergeo": [
           {
            "marker": {
             "colorbar": {
              "outlinewidth": 0,
              "ticks": ""
             }
            },
            "type": "scattergeo"
           }
          ],
          "scattergl": [
           {
            "marker": {
             "colorbar": {
              "outlinewidth": 0,
              "ticks": ""
             }
            },
            "type": "scattergl"
           }
          ],
          "scattermap": [
           {
            "marker": {
             "colorbar": {
              "outlinewidth": 0,
              "ticks": ""
             }
            },
            "type": "scattermap"
           }
          ],
          "scattermapbox": [
           {
            "marker": {
             "colorbar": {
              "outlinewidth": 0,
              "ticks": ""
             }
            },
            "type": "scattermapbox"
           }
          ],
          "scatterpolar": [
           {
            "marker": {
             "colorbar": {
              "outlinewidth": 0,
              "ticks": ""
             }
            },
            "type": "scatterpolar"
           }
          ],
          "scatterpolargl": [
           {
            "marker": {
             "colorbar": {
              "outlinewidth": 0,
              "ticks": ""
             }
            },
            "type": "scatterpolargl"
           }
          ],
          "scatterternary": [
           {
            "marker": {
             "colorbar": {
              "outlinewidth": 0,
              "ticks": ""
             }
            },
            "type": "scatterternary"
           }
          ],
          "surface": [
           {
            "colorbar": {
             "outlinewidth": 0,
             "ticks": ""
            },
            "colorscale": [
             [
              0,
              "#0d0887"
             ],
             [
              0.1111111111111111,
              "#46039f"
             ],
             [
              0.2222222222222222,
              "#7201a8"
             ],
             [
              0.3333333333333333,
              "#9c179e"
             ],
             [
              0.4444444444444444,
              "#bd3786"
             ],
             [
              0.5555555555555556,
              "#d8576b"
             ],
             [
              0.6666666666666666,
              "#ed7953"
             ],
             [
              0.7777777777777778,
              "#fb9f3a"
             ],
             [
              0.8888888888888888,
              "#fdca26"
             ],
             [
              1,
              "#f0f921"
             ]
            ],
            "type": "surface"
           }
          ],
          "table": [
           {
            "cells": {
             "fill": {
              "color": "#EBF0F8"
             },
             "line": {
              "color": "white"
             }
            },
            "header": {
             "fill": {
              "color": "#C8D4E3"
             },
             "line": {
              "color": "white"
             }
            },
            "type": "table"
           }
          ]
         },
         "layout": {
          "annotationdefaults": {
           "arrowcolor": "#2a3f5f",
           "arrowhead": 0,
           "arrowwidth": 1
          },
          "autotypenumbers": "strict",
          "coloraxis": {
           "colorbar": {
            "outlinewidth": 0,
            "ticks": ""
           }
          },
          "colorscale": {
           "diverging": [
            [
             0,
             "#8e0152"
            ],
            [
             0.1,
             "#c51b7d"
            ],
            [
             0.2,
             "#de77ae"
            ],
            [
             0.3,
             "#f1b6da"
            ],
            [
             0.4,
             "#fde0ef"
            ],
            [
             0.5,
             "#f7f7f7"
            ],
            [
             0.6,
             "#e6f5d0"
            ],
            [
             0.7,
             "#b8e186"
            ],
            [
             0.8,
             "#7fbc41"
            ],
            [
             0.9,
             "#4d9221"
            ],
            [
             1,
             "#276419"
            ]
           ],
           "sequential": [
            [
             0,
             "#0d0887"
            ],
            [
             0.1111111111111111,
             "#46039f"
            ],
            [
             0.2222222222222222,
             "#7201a8"
            ],
            [
             0.3333333333333333,
             "#9c179e"
            ],
            [
             0.4444444444444444,
             "#bd3786"
            ],
            [
             0.5555555555555556,
             "#d8576b"
            ],
            [
             0.6666666666666666,
             "#ed7953"
            ],
            [
             0.7777777777777778,
             "#fb9f3a"
            ],
            [
             0.8888888888888888,
             "#fdca26"
            ],
            [
             1,
             "#f0f921"
            ]
           ],
           "sequentialminus": [
            [
             0,
             "#0d0887"
            ],
            [
             0.1111111111111111,
             "#46039f"
            ],
            [
             0.2222222222222222,
             "#7201a8"
            ],
            [
             0.3333333333333333,
             "#9c179e"
            ],
            [
             0.4444444444444444,
             "#bd3786"
            ],
            [
             0.5555555555555556,
             "#d8576b"
            ],
            [
             0.6666666666666666,
             "#ed7953"
            ],
            [
             0.7777777777777778,
             "#fb9f3a"
            ],
            [
             0.8888888888888888,
             "#fdca26"
            ],
            [
             1,
             "#f0f921"
            ]
           ]
          },
          "colorway": [
           "#636efa",
           "#EF553B",
           "#00cc96",
           "#ab63fa",
           "#FFA15A",
           "#19d3f3",
           "#FF6692",
           "#B6E880",
           "#FF97FF",
           "#FECB52"
          ],
          "font": {
           "color": "#2a3f5f"
          },
          "geo": {
           "bgcolor": "white",
           "lakecolor": "white",
           "landcolor": "#E5ECF6",
           "showlakes": true,
           "showland": true,
           "subunitcolor": "white"
          },
          "hoverlabel": {
           "align": "left"
          },
          "hovermode": "closest",
          "mapbox": {
           "style": "light"
          },
          "paper_bgcolor": "white",
          "plot_bgcolor": "#E5ECF6",
          "polar": {
           "angularaxis": {
            "gridcolor": "white",
            "linecolor": "white",
            "ticks": ""
           },
           "bgcolor": "#E5ECF6",
           "radialaxis": {
            "gridcolor": "white",
            "linecolor": "white",
            "ticks": ""
           }
          },
          "scene": {
           "xaxis": {
            "backgroundcolor": "#E5ECF6",
            "gridcolor": "white",
            "gridwidth": 2,
            "linecolor": "white",
            "showbackground": true,
            "ticks": "",
            "zerolinecolor": "white"
           },
           "yaxis": {
            "backgroundcolor": "#E5ECF6",
            "gridcolor": "white",
            "gridwidth": 2,
            "linecolor": "white",
            "showbackground": true,
            "ticks": "",
            "zerolinecolor": "white"
           },
           "zaxis": {
            "backgroundcolor": "#E5ECF6",
            "gridcolor": "white",
            "gridwidth": 2,
            "linecolor": "white",
            "showbackground": true,
            "ticks": "",
            "zerolinecolor": "white"
           }
          },
          "shapedefaults": {
           "line": {
            "color": "#2a3f5f"
           }
          },
          "ternary": {
           "aaxis": {
            "gridcolor": "white",
            "linecolor": "white",
            "ticks": ""
           },
           "baxis": {
            "gridcolor": "white",
            "linecolor": "white",
            "ticks": ""
           },
           "bgcolor": "#E5ECF6",
           "caxis": {
            "gridcolor": "white",
            "linecolor": "white",
            "ticks": ""
           }
          },
          "title": {
           "x": 0.05
          },
          "xaxis": {
           "automargin": true,
           "gridcolor": "white",
           "linecolor": "white",
           "ticks": "",
           "title": {
            "standoff": 15
           },
           "zerolinecolor": "white",
           "zerolinewidth": 2
          },
          "yaxis": {
           "automargin": true,
           "gridcolor": "white",
           "linecolor": "white",
           "ticks": "",
           "title": {
            "standoff": 15
           },
           "zerolinecolor": "white",
           "zerolinewidth": 2
          }
         }
        },
        "title": {
         "text": "Distribution Comparison: Normal vs Exponential Decay"
        },
        "xaxis": {
         "title": {
          "text": "Player Rank"
         }
        },
        "yaxis": {
         "title": {
          "text": "Pick Probability Density"
         }
        }
       }
      }
     },
     "metadata": {},
     "output_type": "display_data"
    },
    {
     "name": "stdout",
     "output_type": "stream",
     "text": [
      "\n",
      "📊 Distribution Comparison:\n",
      "- Normal (Old): Symmetric, peaks in middle ranks\n",
      "- Exponential (New): Heavy concentration on top ranks, realistic decay\n",
      "- New approach better reflects actual draft behavior\n"
     ]
    }
   ],
   "source": [
    "def plot_distribution_comparison(rank_range=30):\n",
    "    \"\"\"Overlay normal (old) vs exponential (new) decay\"\"\"\n",
    "    ranks = np.arange(1, rank_range + 1)\n",
    "    \n",
    "    # Old: normal distribution (centered around rank 15 with std=3)\n",
    "    normal_probs = norm.pdf(ranks, loc=15, scale=3)\n",
    "    normal_probs = normal_probs / normal_probs.sum()  # Normalize\n",
    "    \n",
    "    # New: exponential decay (softmax with tau=5)\n",
    "    exp_probs = np.exp(-ranks / 5)\n",
    "    exp_probs = exp_probs / exp_probs.sum()  # Normalize\n",
    "    \n",
    "    fig = go.Figure()\n",
    "    \n",
    "    fig.add_trace(go.Scatter(\n",
    "        x=ranks, \n",
    "        y=normal_probs, \n",
    "        name='Normal Distribution (Old)',\n",
    "        line=dict(color='#e74c3c', width=3)\n",
    "    ))\n",
    "    \n",
    "    fig.add_trace(go.Scatter(\n",
    "        x=ranks, \n",
    "        y=exp_probs, \n",
    "        name='Exponential Decay (New)',\n",
    "        line=dict(color='#2ecc71', width=3)\n",
    "    ))\n",
    "    \n",
    "    fig.update_layout(\n",
    "        title='Distribution Comparison: Normal vs Exponential Decay',\n",
    "        xaxis_title='Player Rank',\n",
    "        yaxis_title='Pick Probability Density',\n",
    "        height=500,\n",
    "        showlegend=True\n",
    "    )\n",
    "    \n",
    "    return fig\n",
    "\n",
    "dist_fig = plot_distribution_comparison()\n",
    "dist_fig.show()\n",
    "\n",
    "print(\"\\n📊 Distribution Comparison:\")\n",
    "print(\"- Normal (Old): Symmetric, peaks in middle ranks\")\n",
    "print(\"- Exponential (New): Heavy concentration on top ranks, realistic decay\")\n",
    "print(\"- New approach better reflects actual draft behavior\")"
   ]
  },
  {
   "cell_type": "markdown",
   "metadata": {},
   "source": [
    "## 5. Probability Evolution Timeline\n",
    "\n",
    "Shows how a player's availability probability changes as the draft progresses toward your pick positions."
   ]
  },
  {
   "cell_type": "code",
   "execution_count": null,
   "metadata": {},
   "outputs": [
    {
     "data": {
      "application/vnd.plotly.v1+json": {
       "config": {
        "plotlyServerURL": "https://plot.ly"
       },
       "data": [
        {
         "line": {
          "width": 3
         },
         "mode": "lines+markers",
         "name": "Derrick Henry Availability",
         "type": "scatter",
         "x": [
          1,
          2,
          3,
          4,
          5,
          6,
          7,
          8,
          9,
          10,
          11,
          12,
          13,
          14,
          15,
          16,
          17,
          18,
          19,
          20,
          21,
          22,
          23,
          24,
          25,
          26,
          27,
          28,
          29,
          30,
          31,
          32,
          33,
          34,
          35,
          36,
          37,
          38,
          39,
          40,
          41,
          42,
          43,
          44,
          45,
          46,
          47,
          48,
          49,
          50,
          51,
          52,
          53,
          54,
          55,
          56,
          57,
          58,
          59,
          60,
          61,
          62,
          63,
          64,
          65,
          66,
          67,
          68,
          69,
          70,
          71,
          72,
          73,
          74,
          75,
          76,
          77,
          78,
          79,
          80,
          81,
          82,
          83,
          84,
          85,
          86,
          87,
          88
         ],
         "y": [
          0.7158270918721473,
          0.7768053994934445,
          0.8301589501468586,
          0.8758797468276007,
          0.9147193378560777,
          0.9481622139766686,
          0.9763570634750396,
          0.574333288388357,
          0.6488278853487482,
          0.7158270918721473,
          0.7768053994934445,
          0.8301589501468586,
          0.8758797468276007,
          0.9147193378560777,
          0.9481622139766686,
          0.9763570634750396,
          0.40785583031632444,
          0.40785583031632444,
          0.40785583031632444,
          0.40785583031632444,
          0.40785583031632444,
          0.4933642228986834,
          0.574333288388357,
          0.6488278853487482,
          0.7158270918721473,
          0.7768053994934445,
          0.8301589501468586,
          0.8758797468276007,
          0.9147193378560777,
          0.9481622139766686,
          0.9763570634750396,
          0.574333288388357,
          0.6488278853487482,
          0.7158270918721473,
          0.7768053994934445,
          0.8301589501468586,
          0.8758797468276007,
          0.9147193378560777,
          0.9481622139766686,
          0.9763570634750396,
          0.40785583031632444,
          0.40785583031632444,
          0.40785583031632444,
          0.40785583031632444,
          0.40785583031632444,
          0.4933642228986834,
          0.574333288388357,
          0.6488278853487482,
          0.7158270918721473,
          0.7768053994934445,
          0.8301589501468586,
          0.8758797468276007,
          0.9147193378560777,
          0.9481622139766686,
          0.9763570634750396,
          0.574333288388357,
          0.6488278853487482,
          0.7158270918721473,
          0.7768053994934445,
          0.8301589501468586,
          0.8758797468276007,
          0.9147193378560777,
          0.9481622139766686,
          0.9763570634750396,
          0.40785583031632444,
          0.40785583031632444,
          0.40785583031632444,
          0.40785583031632444,
          0.40785583031632444,
          0.4933642228986834,
          0.574333288388357,
          0.6488278853487482,
          0.7158270918721473,
          0.7768053994934445,
          0.8301589501468586,
          0.8758797468276007,
          0.9147193378560777,
          0.9481622139766686,
          0.9763570634750396,
          0.574333288388357,
          0.6488278853487482,
          0.7158270918721473,
          0.7768053994934445,
          0.8301589501468586,
          0.8758797468276007,
          0.9147193378560777,
          0.9481622139766686,
          0.9763570634750396
         ]
        }
       ],
       "layout": {
        "annotations": [
         {
          "showarrow": false,
          "text": "Your Pick 8",
          "x": 8,
          "xanchor": "left",
          "xref": "x",
          "y": 1,
          "yanchor": "top",
          "yref": "y domain"
         },
         {
          "showarrow": false,
          "text": "Your Pick 17",
          "x": 17,
          "xanchor": "left",
          "xref": "x",
          "y": 1,
          "yanchor": "top",
          "yref": "y domain"
         },
         {
          "showarrow": false,
          "text": "Your Pick 32",
          "x": 32,
          "xanchor": "left",
          "xref": "x",
          "y": 1,
          "yanchor": "top",
          "yref": "y domain"
         },
         {
          "showarrow": false,
          "text": "Your Pick 41",
          "x": 41,
          "xanchor": "left",
          "xref": "x",
          "y": 1,
          "yanchor": "top",
          "yref": "y domain"
         },
         {
          "showarrow": false,
          "text": "Your Pick 56",
          "x": 56,
          "xanchor": "left",
          "xref": "x",
          "y": 1,
          "yanchor": "top",
          "yref": "y domain"
         },
         {
          "showarrow": false,
          "text": "Your Pick 65",
          "x": 65,
          "xanchor": "left",
          "xref": "x",
          "y": 1,
          "yanchor": "top",
          "yref": "y domain"
         },
         {
          "showarrow": false,
          "text": "Your Pick 80",
          "x": 80,
          "xanchor": "left",
          "xref": "x",
          "y": 1,
          "yanchor": "top",
          "yref": "y domain"
         }
        ],
        "height": 500,
        "shapes": [
         {
          "line": {
           "color": "red",
           "dash": "dash"
          },
          "opacity": 0.7,
          "type": "line",
          "x0": 8,
          "x1": 8,
          "xref": "x",
          "y0": 0,
          "y1": 1,
          "yref": "y domain"
         },
         {
          "line": {
           "color": "red",
           "dash": "dash"
          },
          "opacity": 0.7,
          "type": "line",
          "x0": 17,
          "x1": 17,
          "xref": "x",
          "y0": 0,
          "y1": 1,
          "yref": "y domain"
         },
         {
          "line": {
           "color": "red",
           "dash": "dash"
          },
          "opacity": 0.7,
          "type": "line",
          "x0": 32,
          "x1": 32,
          "xref": "x",
          "y0": 0,
          "y1": 1,
          "yref": "y domain"
         },
         {
          "line": {
           "color": "red",
           "dash": "dash"
          },
          "opacity": 0.7,
          "type": "line",
          "x0": 41,
          "x1": 41,
          "xref": "x",
          "y0": 0,
          "y1": 1,
          "yref": "y domain"
         },
         {
          "line": {
           "color": "red",
           "dash": "dash"
          },
          "opacity": 0.7,
          "type": "line",
          "x0": 56,
          "x1": 56,
          "xref": "x",
          "y0": 0,
          "y1": 1,
          "yref": "y domain"
         },
         {
          "line": {
           "color": "red",
           "dash": "dash"
          },
          "opacity": 0.7,
          "type": "line",
          "x0": 65,
          "x1": 65,
          "xref": "x",
          "y0": 0,
          "y1": 1,
          "yref": "y domain"
         },
         {
          "line": {
           "color": "red",
           "dash": "dash"
          },
          "opacity": 0.7,
          "type": "line",
          "x0": 80,
          "x1": 80,
          "xref": "x",
          "y0": 0,
          "y1": 1,
          "yref": "y domain"
         }
        ],
        "template": {
         "data": {
          "bar": [
           {
            "error_x": {
             "color": "#2a3f5f"
            },
            "error_y": {
             "color": "#2a3f5f"
            },
            "marker": {
             "line": {
              "color": "#E5ECF6",
              "width": 0.5
             },
             "pattern": {
              "fillmode": "overlay",
              "size": 10,
              "solidity": 0.2
             }
            },
            "type": "bar"
           }
          ],
          "barpolar": [
           {
            "marker": {
             "line": {
              "color": "#E5ECF6",
              "width": 0.5
             },
             "pattern": {
              "fillmode": "overlay",
              "size": 10,
              "solidity": 0.2
             }
            },
            "type": "barpolar"
           }
          ],
          "carpet": [
           {
            "aaxis": {
             "endlinecolor": "#2a3f5f",
             "gridcolor": "white",
             "linecolor": "white",
             "minorgridcolor": "white",
             "startlinecolor": "#2a3f5f"
            },
            "baxis": {
             "endlinecolor": "#2a3f5f",
             "gridcolor": "white",
             "linecolor": "white",
             "minorgridcolor": "white",
             "startlinecolor": "#2a3f5f"
            },
            "type": "carpet"
           }
          ],
          "choropleth": [
           {
            "colorbar": {
             "outlinewidth": 0,
             "ticks": ""
            },
            "type": "choropleth"
           }
          ],
          "contour": [
           {
            "colorbar": {
             "outlinewidth": 0,
             "ticks": ""
            },
            "colorscale": [
             [
              0,
              "#0d0887"
             ],
             [
              0.1111111111111111,
              "#46039f"
             ],
             [
              0.2222222222222222,
              "#7201a8"
             ],
             [
              0.3333333333333333,
              "#9c179e"
             ],
             [
              0.4444444444444444,
              "#bd3786"
             ],
             [
              0.5555555555555556,
              "#d8576b"
             ],
             [
              0.6666666666666666,
              "#ed7953"
             ],
             [
              0.7777777777777778,
              "#fb9f3a"
             ],
             [
              0.8888888888888888,
              "#fdca26"
             ],
             [
              1,
              "#f0f921"
             ]
            ],
            "type": "contour"
           }
          ],
          "contourcarpet": [
           {
            "colorbar": {
             "outlinewidth": 0,
             "ticks": ""
            },
            "type": "contourcarpet"
           }
          ],
          "heatmap": [
           {
            "colorbar": {
             "outlinewidth": 0,
             "ticks": ""
            },
            "colorscale": [
             [
              0,
              "#0d0887"
             ],
             [
              0.1111111111111111,
              "#46039f"
             ],
             [
              0.2222222222222222,
              "#7201a8"
             ],
             [
              0.3333333333333333,
              "#9c179e"
             ],
             [
              0.4444444444444444,
              "#bd3786"
             ],
             [
              0.5555555555555556,
              "#d8576b"
             ],
             [
              0.6666666666666666,
              "#ed7953"
             ],
             [
              0.7777777777777778,
              "#fb9f3a"
             ],
             [
              0.8888888888888888,
              "#fdca26"
             ],
             [
              1,
              "#f0f921"
             ]
            ],
            "type": "heatmap"
           }
          ],
          "histogram": [
           {
            "marker": {
             "pattern": {
              "fillmode": "overlay",
              "size": 10,
              "solidity": 0.2
             }
            },
            "type": "histogram"
           }
          ],
          "histogram2d": [
           {
            "colorbar": {
             "outlinewidth": 0,
             "ticks": ""
            },
            "colorscale": [
             [
              0,
              "#0d0887"
             ],
             [
              0.1111111111111111,
              "#46039f"
             ],
             [
              0.2222222222222222,
              "#7201a8"
             ],
             [
              0.3333333333333333,
              "#9c179e"
             ],
             [
              0.4444444444444444,
              "#bd3786"
             ],
             [
              0.5555555555555556,
              "#d8576b"
             ],
             [
              0.6666666666666666,
              "#ed7953"
             ],
             [
              0.7777777777777778,
              "#fb9f3a"
             ],
             [
              0.8888888888888888,
              "#fdca26"
             ],
             [
              1,
              "#f0f921"
             ]
            ],
            "type": "histogram2d"
           }
          ],
          "histogram2dcontour": [
           {
            "colorbar": {
             "outlinewidth": 0,
             "ticks": ""
            },
            "colorscale": [
             [
              0,
              "#0d0887"
             ],
             [
              0.1111111111111111,
              "#46039f"
             ],
             [
              0.2222222222222222,
              "#7201a8"
             ],
             [
              0.3333333333333333,
              "#9c179e"
             ],
             [
              0.4444444444444444,
              "#bd3786"
             ],
             [
              0.5555555555555556,
              "#d8576b"
             ],
             [
              0.6666666666666666,
              "#ed7953"
             ],
             [
              0.7777777777777778,
              "#fb9f3a"
             ],
             [
              0.8888888888888888,
              "#fdca26"
             ],
             [
              1,
              "#f0f921"
             ]
            ],
            "type": "histogram2dcontour"
           }
          ],
          "mesh3d": [
           {
            "colorbar": {
             "outlinewidth": 0,
             "ticks": ""
            },
            "type": "mesh3d"
           }
          ],
          "parcoords": [
           {
            "line": {
             "colorbar": {
              "outlinewidth": 0,
              "ticks": ""
             }
            },
            "type": "parcoords"
           }
          ],
          "pie": [
           {
            "automargin": true,
            "type": "pie"
           }
          ],
          "scatter": [
           {
            "fillpattern": {
             "fillmode": "overlay",
             "size": 10,
             "solidity": 0.2
            },
            "type": "scatter"
           }
          ],
          "scatter3d": [
           {
            "line": {
             "colorbar": {
              "outlinewidth": 0,
              "ticks": ""
             }
            },
            "marker": {
             "colorbar": {
              "outlinewidth": 0,
              "ticks": ""
             }
            },
            "type": "scatter3d"
           }
          ],
          "scattercarpet": [
           {
            "marker": {
             "colorbar": {
              "outlinewidth": 0,
              "ticks": ""
             }
            },
            "type": "scattercarpet"
           }
          ],
          "scattergeo": [
           {
            "marker": {
             "colorbar": {
              "outlinewidth": 0,
              "ticks": ""
             }
            },
            "type": "scattergeo"
           }
          ],
          "scattergl": [
           {
            "marker": {
             "colorbar": {
              "outlinewidth": 0,
              "ticks": ""
             }
            },
            "type": "scattergl"
           }
          ],
          "scattermap": [
           {
            "marker": {
             "colorbar": {
              "outlinewidth": 0,
              "ticks": ""
             }
            },
            "type": "scattermap"
           }
          ],
          "scattermapbox": [
           {
            "marker": {
             "colorbar": {
              "outlinewidth": 0,
              "ticks": ""
             }
            },
            "type": "scattermapbox"
           }
          ],
          "scatterpolar": [
           {
            "marker": {
             "colorbar": {
              "outlinewidth": 0,
              "ticks": ""
             }
            },
            "type": "scatterpolar"
           }
          ],
          "scatterpolargl": [
           {
            "marker": {
             "colorbar": {
              "outlinewidth": 0,
              "ticks": ""
             }
            },
            "type": "scatterpolargl"
           }
          ],
          "scatterternary": [
           {
            "marker": {
             "colorbar": {
              "outlinewidth": 0,
              "ticks": ""
             }
            },
            "type": "scatterternary"
           }
          ],
          "surface": [
           {
            "colorbar": {
             "outlinewidth": 0,
             "ticks": ""
            },
            "colorscale": [
             [
              0,
              "#0d0887"
             ],
             [
              0.1111111111111111,
              "#46039f"
             ],
             [
              0.2222222222222222,
              "#7201a8"
             ],
             [
              0.3333333333333333,
              "#9c179e"
             ],
             [
              0.4444444444444444,
              "#bd3786"
             ],
             [
              0.5555555555555556,
              "#d8576b"
             ],
             [
              0.6666666666666666,
              "#ed7953"
             ],
             [
              0.7777777777777778,
              "#fb9f3a"
             ],
             [
              0.8888888888888888,
              "#fdca26"
             ],
             [
              1,
              "#f0f921"
             ]
            ],
            "type": "surface"
           }
          ],
          "table": [
           {
            "cells": {
             "fill": {
              "color": "#EBF0F8"
             },
             "line": {
              "color": "white"
             }
            },
            "header": {
             "fill": {
              "color": "#C8D4E3"
             },
             "line": {
              "color": "white"
             }
            },
            "type": "table"
           }
          ]
         },
         "layout": {
          "annotationdefaults": {
           "arrowcolor": "#2a3f5f",
           "arrowhead": 0,
           "arrowwidth": 1
          },
          "autotypenumbers": "strict",
          "coloraxis": {
           "colorbar": {
            "outlinewidth": 0,
            "ticks": ""
           }
          },
          "colorscale": {
           "diverging": [
            [
             0,
             "#8e0152"
            ],
            [
             0.1,
             "#c51b7d"
            ],
            [
             0.2,
             "#de77ae"
            ],
            [
             0.3,
             "#f1b6da"
            ],
            [
             0.4,
             "#fde0ef"
            ],
            [
             0.5,
             "#f7f7f7"
            ],
            [
             0.6,
             "#e6f5d0"
            ],
            [
             0.7,
             "#b8e186"
            ],
            [
             0.8,
             "#7fbc41"
            ],
            [
             0.9,
             "#4d9221"
            ],
            [
             1,
             "#276419"
            ]
           ],
           "sequential": [
            [
             0,
             "#0d0887"
            ],
            [
             0.1111111111111111,
             "#46039f"
            ],
            [
             0.2222222222222222,
             "#7201a8"
            ],
            [
             0.3333333333333333,
             "#9c179e"
            ],
            [
             0.4444444444444444,
             "#bd3786"
            ],
            [
             0.5555555555555556,
             "#d8576b"
            ],
            [
             0.6666666666666666,
             "#ed7953"
            ],
            [
             0.7777777777777778,
             "#fb9f3a"
            ],
            [
             0.8888888888888888,
             "#fdca26"
            ],
            [
             1,
             "#f0f921"
            ]
           ],
           "sequentialminus": [
            [
             0,
             "#0d0887"
            ],
            [
             0.1111111111111111,
             "#46039f"
            ],
            [
             0.2222222222222222,
             "#7201a8"
            ],
            [
             0.3333333333333333,
             "#9c179e"
            ],
            [
             0.4444444444444444,
             "#bd3786"
            ],
            [
             0.5555555555555556,
             "#d8576b"
            ],
            [
             0.6666666666666666,
             "#ed7953"
            ],
            [
             0.7777777777777778,
             "#fb9f3a"
            ],
            [
             0.8888888888888888,
             "#fdca26"
            ],
            [
             1,
             "#f0f921"
            ]
           ]
          },
          "colorway": [
           "#636efa",
           "#EF553B",
           "#00cc96",
           "#ab63fa",
           "#FFA15A",
           "#19d3f3",
           "#FF6692",
           "#B6E880",
           "#FF97FF",
           "#FECB52"
          ],
          "font": {
           "color": "#2a3f5f"
          },
          "geo": {
           "bgcolor": "white",
           "lakecolor": "white",
           "landcolor": "#E5ECF6",
           "showlakes": true,
           "showland": true,
           "subunitcolor": "white"
          },
          "hoverlabel": {
           "align": "left"
          },
          "hovermode": "closest",
          "mapbox": {
           "style": "light"
          },
          "paper_bgcolor": "white",
          "plot_bgcolor": "#E5ECF6",
          "polar": {
           "angularaxis": {
            "gridcolor": "white",
            "linecolor": "white",
            "ticks": ""
           },
           "bgcolor": "#E5ECF6",
           "radialaxis": {
            "gridcolor": "white",
            "linecolor": "white",
            "ticks": ""
           }
          },
          "scene": {
           "xaxis": {
            "backgroundcolor": "#E5ECF6",
            "gridcolor": "white",
            "gridwidth": 2,
            "linecolor": "white",
            "showbackground": true,
            "ticks": "",
            "zerolinecolor": "white"
           },
           "yaxis": {
            "backgroundcolor": "#E5ECF6",
            "gridcolor": "white",
            "gridwidth": 2,
            "linecolor": "white",
            "showbackground": true,
            "ticks": "",
            "zerolinecolor": "white"
           },
           "zaxis": {
            "backgroundcolor": "#E5ECF6",
            "gridcolor": "white",
            "gridwidth": 2,
            "linecolor": "white",
            "showbackground": true,
            "ticks": "",
            "zerolinecolor": "white"
           }
          },
          "shapedefaults": {
           "line": {
            "color": "#2a3f5f"
           }
          },
          "ternary": {
           "aaxis": {
            "gridcolor": "white",
            "linecolor": "white",
            "ticks": ""
           },
           "baxis": {
            "gridcolor": "white",
            "linecolor": "white",
            "ticks": ""
           },
           "bgcolor": "#E5ECF6",
           "caxis": {
            "gridcolor": "white",
            "linecolor": "white",
            "ticks": ""
           }
          },
          "title": {
           "x": 0.05
          },
          "xaxis": {
           "automargin": true,
           "gridcolor": "white",
           "linecolor": "white",
           "ticks": "",
           "title": {
            "standoff": 15
           },
           "zerolinecolor": "white",
           "zerolinewidth": 2
          },
          "yaxis": {
           "automargin": true,
           "gridcolor": "white",
           "linecolor": "white",
           "ticks": "",
           "title": {
            "standoff": 15
           },
           "zerolinecolor": "white",
           "zerolinewidth": 2
          }
         }
        },
        "title": {
         "text": "Derrick Henry Availability Probability Timeline"
        },
        "xaxis": {
         "title": {
          "text": "Current Draft Pick"
         }
        },
        "yaxis": {
         "range": [
          0,
          1
         ],
         "title": {
          "text": "Probability Available at Next Your Pick"
         }
        }
       }
      }
     },
     "metadata": {},
     "output_type": "display_data"
    },
    {
     "name": "stdout",
     "output_type": "stream",
     "text": [
      "\n",
      "📊 Timeline for Derrick Henry:\n",
      "- Shows decreasing availability as draft progresses\n",
      "- Red lines mark your draft positions\n",
      "- Helps identify optimal timing for targeting players\n"
     ]
    }
   ],
   "source": [
    "def plot_probability_timeline(df, player_name, my_picks):\n",
    "    \"\"\"Show how availability probability changes through picks\"\"\"\n",
    "    probs = []\n",
    "    pick_numbers = []\n",
    "    \n",
    "    for current_pick in range(1, max(my_picks) + 1):\n",
    "        # Find next pick after current pick\n",
    "        future_picks = [p for p in my_picks if p > current_pick]\n",
    "        if future_picks:\n",
    "            next_pick = min(future_picks)\n",
    "            picks_until = next_pick - current_pick\n",
    "            \n",
    "            # Calculate survival probability\n",
    "            prob_gone = probability_gone_before_next_pick(df, player_name, picks_until)\n",
    "            prob_available = 1 - prob_gone\n",
    "            \n",
    "            probs.append(prob_available)\n",
    "            pick_numbers.append(current_pick)\n",
    "    \n",
    "    fig = go.Figure()\n",
    "    \n",
    "    fig.add_trace(go.Scatter(\n",
    "        x=pick_numbers, \n",
    "        y=probs,\n",
    "        mode='lines+markers',\n",
    "        name=f'{player_name} Availability',\n",
    "        line=dict(width=3)\n",
    "    ))\n",
    "    \n",
    "    # Add vertical lines for user's picks\n",
    "    for pick in my_picks:\n",
    "        if pick <= max(pick_numbers):\n",
    "            fig.add_vline(\n",
    "                x=pick, \n",
    "                line_dash=\"dash\", \n",
    "                line_color=\"red\",\n",
    "                opacity=0.7,\n",
    "                annotation_text=f\"Your Pick {pick}\"\n",
    "            )\n",
    "    \n",
    "    fig.update_layout(\n",
    "        title=f'{player_name} Availability Probability Timeline',\n",
    "        xaxis_title='Current Draft Pick',\n",
    "        yaxis_title='Probability Available at Next Your Pick',\n",
    "        height=500,\n",
    "        yaxis=dict(range=[0, 1])\n",
    "    )\n",
    "    \n",
    "    return fig\n",
    "\n",
    "# Example with your draft picks\n",
    "my_picks = [8, 17, 32, 41, 56, 65, 80, 89]\n",
    "example_player_timeline = ranking_df.iloc[10]['player_name']\n",
    "\n",
    "timeline_fig = plot_probability_timeline(ranking_df, example_player_timeline, my_picks)\n",
    "timeline_fig.show()\n",
    "\n",
    "print(f\"\\n📊 Timeline for {example_player_timeline}:\")\n",
    "print(\"- Shows decreasing availability as draft progresses\")\n",
    "print(\"- Red lines mark your draft positions\")\n",
    "print(\"- Helps identify optimal timing for targeting players\")"
   ]
  },
  {
   "cell_type": "markdown",
   "metadata": {},
   "source": [
    "## 6. Decision Zone Mapping\n",
    "\n",
    "2D scatter plot showing VBD value vs availability probability, with color-coded decision zones."
   ]
  },
  {
   "cell_type": "code",
   "execution_count": null,
   "metadata": {},
   "outputs": [
    {
     "data": {
      "application/vnd.plotly.v1+json": {
       "config": {
        "plotlyServerURL": "https://plot.ly"
       },
       "data": [
        {
         "customdata": [
          [
           "Ja'Marr Chase",
           "WR",
           "CIN"
          ],
          [
           "Brian Thomas Jr.",
           "WR",
           "JAC"
          ],
          [
           "A.J. Brown",
           "WR",
           "PHI"
          ],
          [
           "Drake London",
           "WR",
           "ATL"
          ],
          [
           "Jonathan Taylor",
           "RB",
           "IND"
          ],
          [
           "De'Von Achane",
           "RB",
           "MIA"
          ],
          [
           "Josh Jacobs",
           "RB",
           "GB"
          ],
          [
           "Brock Bowers",
           "TE",
           "LV"
          ],
          [
           "Trey McBride",
           "TE",
           "ARI"
          ],
          [
           "Kyren Williams",
           "RB",
           "LAR"
          ],
          [
           "Bucky Irving",
           "RB",
           "TB"
          ],
          [
           "Tee Higgins",
           "WR",
           "CIN"
          ],
          [
           "Tyreek Hill",
           "WR",
           "MIA"
          ],
          [
           "Davante Adams",
           "WR",
           "LAR"
          ],
          [
           "Ladd McConkey",
           "WR",
           "LAC"
          ],
          [
           "Josh Allen",
           "QB",
           "BUF"
          ],
          [
           "Lamar Jackson",
           "QB",
           "BAL"
          ],
          [
           "Jayden Daniels",
           "QB",
           "WAS"
          ],
          [
           "Jalen Hurts",
           "QB",
           "PHI"
          ],
          [
           "Chase Brown",
           "RB",
           "CIN"
          ],
          [
           "James Cook",
           "RB",
           "BUF"
          ],
          [
           "Terry McLaurin",
           "WR",
           "WAS"
          ],
          [
           "Mike Evans",
           "WR",
           "TB"
          ],
          [
           "Jaxon Smith-Njigba",
           "WR",
           "SEA"
          ],
          [
           "Omarion Hampton",
           "RB",
           "LAC"
          ],
          [
           "Kenneth Walker III",
           "RB",
           "SEA"
          ],
          [
           "Joe Burrow",
           "QB",
           "CIN"
          ],
          [
           "George Kittle",
           "TE",
           "SF"
          ],
          [
           "Chuba Hubbard",
           "RB",
           "CAR"
          ],
          [
           "Alvin Kamara",
           "RB",
           "NO"
          ],
          [
           "James Conner",
           "RB",
           "ARI"
          ],
          [
           "TreVeyon Henderson",
           "RB",
           "NE"
          ],
          [
           "Breece Hall",
           "RB",
           "NYJ"
          ],
          [
           "Xavier Worthy",
           "WR",
           "KC"
          ],
          [
           "Marvin Harrison Jr.",
           "WR",
           "ARI"
          ],
          [
           "Garrett Wilson",
           "WR",
           "NYJ"
          ],
          [
           "DK Metcalf",
           "WR",
           "PIT"
          ],
          [
           "Zay Flowers",
           "WR",
           "BAL"
          ],
          [
           "Calvin Ridley",
           "WR",
           "TEN"
          ],
          [
           "D'Andre Swift",
           "RB",
           "CHI"
          ],
          [
           "Courtland Sutton",
           "WR",
           "DEN"
          ],
          [
           "DJ Moore",
           "WR",
           "CHI"
          ],
          [
           "Rashee Rice",
           "WR",
           "KC"
          ],
          [
           "Jameson Williams",
           "WR",
           "DET"
          ],
          [
           "DeVonta Smith",
           "WR",
           "PHI"
          ],
          [
           "George Pickens",
           "WR",
           "DAL"
          ],
          [
           "Jaylen Waddle",
           "WR",
           "MIA"
          ],
          [
           "Rome Odunze",
           "WR",
           "CHI"
          ],
          [
           "Sam LaPorta",
           "TE",
           "DET"
          ],
          [
           "Patrick Mahomes",
           "QB",
           "KC"
          ],
          [
           "Baker Mayfield",
           "QB",
           "TB"
          ],
          [
           "Tetairoa McMillan",
           "WR",
           "CAR"
          ],
          [
           "Jerry Jeudy",
           "WR",
           "CLE"
          ],
          [
           "Travis Hunter",
           "WR",
           "JAC"
          ],
          [
           "David Montgomery",
           "RB",
           "DET"
          ],
          [
           "Tony Pollard",
           "RB",
           "TEN"
          ],
          [
           "T.J. Hockenson",
           "TE",
           "MIN"
          ],
          [
           "Isiah Pacheco",
           "RB",
           "KC"
          ],
          [
           "Aaron Jones",
           "RB",
           "MIN"
          ],
          [
           "RJ Harvey",
           "RB",
           "DEN"
          ],
          [
           "Chris Godwin",
           "WR",
           "TB"
          ],
          [
           "Matthew Golden",
           "WR",
           "GB"
          ],
          [
           "Cooper Kupp",
           "WR",
           "SEA"
          ],
          [
           "Jakobi Meyers",
           "WR",
           "LV"
          ],
          [
           "Chris Olave",
           "WR",
           "NO"
          ],
          [
           "Jordan Addison",
           "WR",
           "MIN"
          ],
          [
           "Deebo Samuel Sr.",
           "WR",
           "WAS"
          ],
          [
           "Kaleb Johnson",
           "RB",
           "PIT"
          ],
          [
           "Tyrone Tracy Jr.",
           "RB",
           "NYG"
          ],
          [
           "Joe Mixon",
           "RB",
           "HOU"
          ],
          [
           "Mark Andrews",
           "TE",
           "BAL"
          ],
          [
           "Travis Kelce",
           "TE",
           "KC"
          ],
          [
           "David Njoku",
           "TE",
           "CLE"
          ],
          [
           "Tucker Kraft",
           "TE",
           "GB"
          ],
          [
           "Bo Nix",
           "QB",
           "DEN"
          ],
          [
           "Kyler Murray",
           "QB",
           "ARI"
          ],
          [
           "Brock Purdy",
           "QB",
           "SF"
          ],
          [
           "Brian Robinson Jr.",
           "RB",
           "WAS"
          ],
          [
           "Jaylen Warren",
           "RB",
           "PIT"
          ],
          [
           "Quinshon Judkins",
           "RB",
           "CLE"
          ],
          [
           "J.K. Dobbins",
           "RB",
           "DEN"
          ],
          [
           "Rhamondre Stevenson",
           "RB",
           "NE"
          ],
          [
           "Javonte Williams",
           "RB",
           "DAL"
          ],
          [
           "Stefon Diggs",
           "WR",
           "NE"
          ],
          [
           "Keon Coleman",
           "WR",
           "BUF"
          ],
          [
           "Jauan Jennings",
           "WR",
           "SF"
          ],
          [
           "Ricky Pearsall",
           "WR",
           "SF"
          ],
          [
           "Khalil Shakir",
           "WR",
           "BUF"
          ],
          [
           "Jayden Reed",
           "WR",
           "GB"
          ],
          [
           "Michael Pittman Jr.",
           "WR",
           "IND"
          ],
          [
           "Justin Herbert",
           "QB",
           "LAC"
          ],
          [
           "Caleb Williams",
           "QB",
           "CHI"
          ],
          [
           "Dak Prescott",
           "QB",
           "DAL"
          ],
          [
           "Justin Fields",
           "QB",
           "NYJ"
          ],
          [
           "Darnell Mooney",
           "WR",
           "ATL"
          ],
          [
           "Keenan Allen",
           "WR",
           "LAC"
          ],
          [
           "Josh Downs",
           "WR",
           "IND"
          ],
          [
           "Rashid Shaheed",
           "WR",
           "NO"
          ],
          [
           "Jayden Higgins",
           "WR",
           "HOU"
          ],
          [
           "Emeka Egbuka",
           "WR",
           "TB"
          ],
          [
           "Evan Engram",
           "TE",
           "DEN"
          ],
          [
           "Cam Skattebo",
           "RB",
           "NYG"
          ],
          [
           "Austin Ekeler",
           "RB",
           "WAS"
          ],
          [
           "Tank Bigsby",
           "RB",
           "JAC"
          ],
          [
           "Jordan Mason",
           "RB",
           "MIN"
          ],
          [
           "Tyjae Spears",
           "RB",
           "TEN"
          ],
          [
           "Travis Etienne Jr.",
           "RB",
           "JAC"
          ],
          [
           "Trey Benson",
           "RB",
           "ARI"
          ],
          [
           "Drake Maye",
           "QB",
           "NE"
          ],
          [
           "Jordan Love",
           "QB",
           "GB"
          ],
          [
           "Jared Goff",
           "QB",
           "DET"
          ],
          [
           "J.J. McCarthy",
           "QB",
           "MIN"
          ],
          [
           "Colston Loveland",
           "TE",
           "CHI"
          ],
          [
           "Tyler Warren",
           "TE",
           "IND"
          ],
          [
           "Kyle Pitts",
           "TE",
           "ATL"
          ],
          [
           "Dallas Goedert",
           "TE",
           "PHI"
          ],
          [
           "Dalton Kincaid",
           "TE",
           "BUF"
          ],
          [
           "Rachaad White",
           "RB",
           "TB"
          ],
          [
           "Zach Charbonnet",
           "RB",
           "SEA"
          ],
          [
           "Tyler Allgeier",
           "RB",
           "ATL"
          ],
          [
           "Jaydon Blue",
           "RB",
           "DAL"
          ],
          [
           "Braelon Allen",
           "RB",
           "NYJ"
          ],
          [
           "Jaylen Wright",
           "RB",
           "MIA"
          ],
          [
           "Adam Thielen",
           "WR",
           "CAR"
          ],
          [
           "Xavier Legette",
           "WR",
           "CAR"
          ],
          [
           "Cedric Tillman",
           "WR",
           "CLE"
          ],
          [
           "Hollywood Brown",
           "WR",
           "KC"
          ],
          [
           "Brandon Aiyuk",
           "WR",
           "SF"
          ],
          [
           "Hunter Henry",
           "TE",
           "NE"
          ],
          [
           "Jake Ferguson",
           "TE",
           "DAL"
          ],
          [
           "Tua Tagovailoa",
           "QB",
           "MIA"
          ],
          [
           "Matthew Stafford",
           "QB",
           "LAR"
          ],
          [
           "C.J. Stroud",
           "QB",
           "HOU"
          ],
          [
           "Najee Harris",
           "RB",
           "LAC"
          ],
          [
           "Jerome Ford",
           "RB",
           "CLE"
          ],
          [
           "Bhayshul Tuten",
           "RB",
           "JAC"
          ],
          [
           "Isaac Guerendo",
           "RB",
           "SF"
          ],
          [
           "Ray Davis",
           "RB",
           "BUF"
          ],
          [
           "Will Shipley",
           "RB",
           "PHI"
          ],
          [
           "Wan'Dale Robinson",
           "WR",
           "NYG"
          ],
          [
           "Marvin Mims Jr.",
           "WR",
           "DEN"
          ],
          [
           "Christian Kirk",
           "WR",
           "HOU"
          ],
          [
           "Rashod Bateman",
           "WR",
           "BAL"
          ],
          [
           "DeMario Douglas",
           "WR",
           "NE"
          ],
          [
           "Luther Burden III",
           "WR",
           "CHI"
          ],
          [
           "Jalen McMillan",
           "WR",
           "TB"
          ],
          [
           "Tre Harris",
           "WR",
           "LAC"
          ],
          [
           "Nick Chubb",
           "RB",
           "HOU"
          ]
         ],
         "hovertemplate": "zone=SAFE<br>availability_prob=%{x}<br>salary_value=%{y}<br>player_name=%{customdata[0]}<br>position=%{customdata[1]}<br>team=%{customdata[2]}<extra></extra>",
         "legendgroup": "SAFE",
         "marker": {
          "color": "#2ecc71",
          "symbol": "circle"
         },
         "mode": "markers",
         "name": "SAFE",
         "orientation": "v",
         "showlegend": true,
         "type": "scatter",
         "x": {
          "bdata": "rwXqsAcz6j9vjYeSXIPqP0uT8KEj/es/k2pMI1KN7D/1HPXOezbtP5/q7FShBe0/JEo+sTHK7T8EYeDCR9ftPwxhcJaRvu4/cSPoIgr47j8ynG/3pZfuP4hnDdT1VO8/sUClX0Bo7z8YvyaBZpHvP43rjoAChe8//4LmSNGE7z8qVZH9B5vvP18PXaWhv+8/9kjiMOnV7z8weoJJB6LvPxI/1FpY3+8/T/Z6iG3o7z+aMDXVEO3vP8pQZKbE5O8/f6ELm0Pv7z/wItYwBPbvP2nudJsa9O8/Nt0Ci0P37z94mpx85/nvP2DZuvZ2+O8/9qUY//z77z+r5ll5zvzvP6zrGSFr8+8/WJm28PP97z+573dF2vvvPwGMchXd9+8/++rs253+7z+RZufGEv/vP7t89yVA/+8/OtJD7Fr/7z8pmDW0Rv/vP0+4S7YW/+8/662X/0D/7z9LMtK0s//vP8JPg+yf/+8/v/FRR87/7z+/HJkt2f/vP+iCWHbg/+8/bK81Pcz/7z9g11c/3//vP0d1CTDu/+8/5fs0j9z/7z+hasSU8//vP3TSanv1/+8/C4CKyub/7z/2zUFd+P/vP+kdWHL4/+8/9Oejcff/7z/d4HmF/P/vP7/kJ1Pd/+8/bZIrWf3/7z+h4+8T/v/vPyg9yGT+/+8/m/Jqs/7/7z+ps7+P/v/vPymbgO3+/+8/LAkDOP//7z+UtyTX/f/vP3l0bUT//+8/11dKUPH/7z/ozq2e///vP1bhlQf//+8/gXosyf//7z8dGabT///vPzSzwK7//+8/Q/oz3v//7z8nJp7n///vP8Xx8s3//+8/qY4F1///7z+RZDfr///vP6EUCvX//+8/eOrh9v//7z/a1Sv3///vPxgyduz//+8/1EIU+///7z9hTyX6///vP7gbePr//+8/7BSS+v//7z9iQFf9///vP7aWK/7//+8/zhdy/v//7z9e55X+///vPw+dwv7//+8/62Yr////7z9NNlP////vP5ymdP///+8/Ko92////7z9uj6L////vP54asv///+8/VN2k////7z9YlLn2///vP66d1P7//+8/dknd////7z+ptOD////vP702Fv///+8/3U3K////7z8MTdv5///vP4Yz8////+8/6t70////7z/6APf////vPzqovv7//+8/yRX6////7z84suv////vP0Cprv///+8/9eH8////7z+GYP3////vP7dF/f///+8/ZiD9////7z/zU3H////vP8TW/v///+8/9Rv+////7z84OP/////vP4xe/////+8/E3z/////7z/7k//////vP4un/////+8/mrf/////7z+CLff////vP9XN/////+8/QRz+////7z8G3f/////vPz/l/////+8/tHz/////7z+2O6H////vP/yn/////+8/YO3/////7z851f/////vP9/h/////+8/b/n/////7z+e+v/////vP2bK/////+8/7/f/////7z/z/P/////vP5b9/////+8/Bv7/////7z88/v/////vP9vv/////+8/6fz/////7z8=",
          "dtype": "f8"
         },
         "xaxis": "x",
         "y": {
          "bdata": "OSsqKCYlJCMiISAgHx4eHRwbGhkYFxYWFhUVFBMTEhERDw8ODQ0MCwsKCgoKCQkJCAgIBwcHBwYGBgYGBgUFBQUEBAQEBAQEBAQDAwMDAwMDAwMCAgICAgICAgICAgICAgICAgICAgICAgICAQEBAQEBAQEBAQEBAQEBAQEBAQEBAQEBAQEBAQEBAQEBAQEBAQEBAQ==",
          "dtype": "i1"
         },
         "yaxis": "y"
        },
        {
         "customdata": [
          [
           "Bijan Robinson",
           "RB",
           "ATL"
          ],
          [
           "Justin Jefferson",
           "WR",
           "MIN"
          ],
          [
           "Saquon Barkley",
           "RB",
           "PHI"
          ],
          [
           "Jahmyr Gibbs",
           "RB",
           "DET"
          ],
          [
           "CeeDee Lamb",
           "WR",
           "DAL"
          ],
          [
           "Christian McCaffrey",
           "RB",
           "SF"
          ],
          [
           "Puka Nacua",
           "WR",
           "LAR"
          ],
          [
           "Malik Nabers",
           "WR",
           "NYG"
          ],
          [
           "Amon-Ra St. Brown",
           "WR",
           "DET"
          ],
          [
           "Derrick Henry",
           "RB",
           "BAL"
          ],
          [
           "Ashton Jeanty",
           "RB",
           "LV"
          ],
          [
           "Nico Collins",
           "WR",
           "HOU"
          ]
         ],
         "hovertemplate": "zone=DRAFT NOW<br>availability_prob=%{x}<br>salary_value=%{y}<br>player_name=%{customdata[0]}<br>position=%{customdata[1]}<br>team=%{customdata[2]}<extra></extra>",
         "legendgroup": "DRAFT NOW",
         "marker": {
          "color": "#f39c12",
          "symbol": "circle"
         },
         "mode": "markers",
         "name": "DRAFT NOW",
         "orientation": "v",
         "showlegend": true,
         "type": "scatter",
         "x": {
          "bdata": "r7sD2p9P5j8bGZLwUEzkP+SW4FiUNeE/uJmPAuKG3z9wdp6Ha13eP1gQjVTZgt8/dXfbut454D8nyannxHXiP3vv2ZRfeeQ/KdClNw7o5j/ZcW/rPXDnP9wjX9hCaek/",
          "dtype": "f8"
         },
         "xaxis": "x",
         "y": {
          "bdata": "ODc3NjU1NDMyMC4t",
          "dtype": "i1"
         },
         "yaxis": "y"
        }
       ],
       "layout": {
        "annotations": [
         {
          "showarrow": false,
          "text": "Reach Threshold",
          "x": 0.3,
          "xanchor": "left",
          "xref": "x",
          "y": 1,
          "yanchor": "top",
          "yref": "y domain"
         },
         {
          "showarrow": false,
          "text": "Safe Threshold",
          "x": 0.8,
          "xanchor": "left",
          "xref": "x",
          "y": 1,
          "yanchor": "top",
          "yref": "y domain"
         }
        ],
        "height": 600,
        "legend": {
         "title": {
          "text": "zone"
         },
         "tracegroupgap": 0
        },
        "shapes": [
         {
          "line": {
           "color": "gray",
           "dash": "dash"
          },
          "type": "line",
          "x0": 0.3,
          "x1": 0.3,
          "xref": "x",
          "y0": 0,
          "y1": 1,
          "yref": "y domain"
         },
         {
          "line": {
           "color": "gray",
           "dash": "dash"
          },
          "type": "line",
          "x0": 0.8,
          "x1": 0.8,
          "xref": "x",
          "y0": 0,
          "y1": 1,
          "yref": "y domain"
         }
        ],
        "template": {
         "data": {
          "bar": [
           {
            "error_x": {
             "color": "#2a3f5f"
            },
            "error_y": {
             "color": "#2a3f5f"
            },
            "marker": {
             "line": {
              "color": "#E5ECF6",
              "width": 0.5
             },
             "pattern": {
              "fillmode": "overlay",
              "size": 10,
              "solidity": 0.2
             }
            },
            "type": "bar"
           }
          ],
          "barpolar": [
           {
            "marker": {
             "line": {
              "color": "#E5ECF6",
              "width": 0.5
             },
             "pattern": {
              "fillmode": "overlay",
              "size": 10,
              "solidity": 0.2
             }
            },
            "type": "barpolar"
           }
          ],
          "carpet": [
           {
            "aaxis": {
             "endlinecolor": "#2a3f5f",
             "gridcolor": "white",
             "linecolor": "white",
             "minorgridcolor": "white",
             "startlinecolor": "#2a3f5f"
            },
            "baxis": {
             "endlinecolor": "#2a3f5f",
             "gridcolor": "white",
             "linecolor": "white",
             "minorgridcolor": "white",
             "startlinecolor": "#2a3f5f"
            },
            "type": "carpet"
           }
          ],
          "choropleth": [
           {
            "colorbar": {
             "outlinewidth": 0,
             "ticks": ""
            },
            "type": "choropleth"
           }
          ],
          "contour": [
           {
            "colorbar": {
             "outlinewidth": 0,
             "ticks": ""
            },
            "colorscale": [
             [
              0,
              "#0d0887"
             ],
             [
              0.1111111111111111,
              "#46039f"
             ],
             [
              0.2222222222222222,
              "#7201a8"
             ],
             [
              0.3333333333333333,
              "#9c179e"
             ],
             [
              0.4444444444444444,
              "#bd3786"
             ],
             [
              0.5555555555555556,
              "#d8576b"
             ],
             [
              0.6666666666666666,
              "#ed7953"
             ],
             [
              0.7777777777777778,
              "#fb9f3a"
             ],
             [
              0.8888888888888888,
              "#fdca26"
             ],
             [
              1,
              "#f0f921"
             ]
            ],
            "type": "contour"
           }
          ],
          "contourcarpet": [
           {
            "colorbar": {
             "outlinewidth": 0,
             "ticks": ""
            },
            "type": "contourcarpet"
           }
          ],
          "heatmap": [
           {
            "colorbar": {
             "outlinewidth": 0,
             "ticks": ""
            },
            "colorscale": [
             [
              0,
              "#0d0887"
             ],
             [
              0.1111111111111111,
              "#46039f"
             ],
             [
              0.2222222222222222,
              "#7201a8"
             ],
             [
              0.3333333333333333,
              "#9c179e"
             ],
             [
              0.4444444444444444,
              "#bd3786"
             ],
             [
              0.5555555555555556,
              "#d8576b"
             ],
             [
              0.6666666666666666,
              "#ed7953"
             ],
             [
              0.7777777777777778,
              "#fb9f3a"
             ],
             [
              0.8888888888888888,
              "#fdca26"
             ],
             [
              1,
              "#f0f921"
             ]
            ],
            "type": "heatmap"
           }
          ],
          "histogram": [
           {
            "marker": {
             "pattern": {
              "fillmode": "overlay",
              "size": 10,
              "solidity": 0.2
             }
            },
            "type": "histogram"
           }
          ],
          "histogram2d": [
           {
            "colorbar": {
             "outlinewidth": 0,
             "ticks": ""
            },
            "colorscale": [
             [
              0,
              "#0d0887"
             ],
             [
              0.1111111111111111,
              "#46039f"
             ],
             [
              0.2222222222222222,
              "#7201a8"
             ],
             [
              0.3333333333333333,
              "#9c179e"
             ],
             [
              0.4444444444444444,
              "#bd3786"
             ],
             [
              0.5555555555555556,
              "#d8576b"
             ],
             [
              0.6666666666666666,
              "#ed7953"
             ],
             [
              0.7777777777777778,
              "#fb9f3a"
             ],
             [
              0.8888888888888888,
              "#fdca26"
             ],
             [
              1,
              "#f0f921"
             ]
            ],
            "type": "histogram2d"
           }
          ],
          "histogram2dcontour": [
           {
            "colorbar": {
             "outlinewidth": 0,
             "ticks": ""
            },
            "colorscale": [
             [
              0,
              "#0d0887"
             ],
             [
              0.1111111111111111,
              "#46039f"
             ],
             [
              0.2222222222222222,
              "#7201a8"
             ],
             [
              0.3333333333333333,
              "#9c179e"
             ],
             [
              0.4444444444444444,
              "#bd3786"
             ],
             [
              0.5555555555555556,
              "#d8576b"
             ],
             [
              0.6666666666666666,
              "#ed7953"
             ],
             [
              0.7777777777777778,
              "#fb9f3a"
             ],
             [
              0.8888888888888888,
              "#fdca26"
             ],
             [
              1,
              "#f0f921"
             ]
            ],
            "type": "histogram2dcontour"
           }
          ],
          "mesh3d": [
           {
            "colorbar": {
             "outlinewidth": 0,
             "ticks": ""
            },
            "type": "mesh3d"
           }
          ],
          "parcoords": [
           {
            "line": {
             "colorbar": {
              "outlinewidth": 0,
              "ticks": ""
             }
            },
            "type": "parcoords"
           }
          ],
          "pie": [
           {
            "automargin": true,
            "type": "pie"
           }
          ],
          "scatter": [
           {
            "fillpattern": {
             "fillmode": "overlay",
             "size": 10,
             "solidity": 0.2
            },
            "type": "scatter"
           }
          ],
          "scatter3d": [
           {
            "line": {
             "colorbar": {
              "outlinewidth": 0,
              "ticks": ""
             }
            },
            "marker": {
             "colorbar": {
              "outlinewidth": 0,
              "ticks": ""
             }
            },
            "type": "scatter3d"
           }
          ],
          "scattercarpet": [
           {
            "marker": {
             "colorbar": {
              "outlinewidth": 0,
              "ticks": ""
             }
            },
            "type": "scattercarpet"
           }
          ],
          "scattergeo": [
           {
            "marker": {
             "colorbar": {
              "outlinewidth": 0,
              "ticks": ""
             }
            },
            "type": "scattergeo"
           }
          ],
          "scattergl": [
           {
            "marker": {
             "colorbar": {
              "outlinewidth": 0,
              "ticks": ""
             }
            },
            "type": "scattergl"
           }
          ],
          "scattermap": [
           {
            "marker": {
             "colorbar": {
              "outlinewidth": 0,
              "ticks": ""
             }
            },
            "type": "scattermap"
           }
          ],
          "scattermapbox": [
           {
            "marker": {
             "colorbar": {
              "outlinewidth": 0,
              "ticks": ""
             }
            },
            "type": "scattermapbox"
           }
          ],
          "scatterpolar": [
           {
            "marker": {
             "colorbar": {
              "outlinewidth": 0,
              "ticks": ""
             }
            },
            "type": "scatterpolar"
           }
          ],
          "scatterpolargl": [
           {
            "marker": {
             "colorbar": {
              "outlinewidth": 0,
              "ticks": ""
             }
            },
            "type": "scatterpolargl"
           }
          ],
          "scatterternary": [
           {
            "marker": {
             "colorbar": {
              "outlinewidth": 0,
              "ticks": ""
             }
            },
            "type": "scatterternary"
           }
          ],
          "surface": [
           {
            "colorbar": {
             "outlinewidth": 0,
             "ticks": ""
            },
            "colorscale": [
             [
              0,
              "#0d0887"
             ],
             [
              0.1111111111111111,
              "#46039f"
             ],
             [
              0.2222222222222222,
              "#7201a8"
             ],
             [
              0.3333333333333333,
              "#9c179e"
             ],
             [
              0.4444444444444444,
              "#bd3786"
             ],
             [
              0.5555555555555556,
              "#d8576b"
             ],
             [
              0.6666666666666666,
              "#ed7953"
             ],
             [
              0.7777777777777778,
              "#fb9f3a"
             ],
             [
              0.8888888888888888,
              "#fdca26"
             ],
             [
              1,
              "#f0f921"
             ]
            ],
            "type": "surface"
           }
          ],
          "table": [
           {
            "cells": {
             "fill": {
              "color": "#EBF0F8"
             },
             "line": {
              "color": "white"
             }
            },
            "header": {
             "fill": {
              "color": "#C8D4E3"
             },
             "line": {
              "color": "white"
             }
            },
            "type": "table"
           }
          ]
         },
         "layout": {
          "annotationdefaults": {
           "arrowcolor": "#2a3f5f",
           "arrowhead": 0,
           "arrowwidth": 1
          },
          "autotypenumbers": "strict",
          "coloraxis": {
           "colorbar": {
            "outlinewidth": 0,
            "ticks": ""
           }
          },
          "colorscale": {
           "diverging": [
            [
             0,
             "#8e0152"
            ],
            [
             0.1,
             "#c51b7d"
            ],
            [
             0.2,
             "#de77ae"
            ],
            [
             0.3,
             "#f1b6da"
            ],
            [
             0.4,
             "#fde0ef"
            ],
            [
             0.5,
             "#f7f7f7"
            ],
            [
             0.6,
             "#e6f5d0"
            ],
            [
             0.7,
             "#b8e186"
            ],
            [
             0.8,
             "#7fbc41"
            ],
            [
             0.9,
             "#4d9221"
            ],
            [
             1,
             "#276419"
            ]
           ],
           "sequential": [
            [
             0,
             "#0d0887"
            ],
            [
             0.1111111111111111,
             "#46039f"
            ],
            [
             0.2222222222222222,
             "#7201a8"
            ],
            [
             0.3333333333333333,
             "#9c179e"
            ],
            [
             0.4444444444444444,
             "#bd3786"
            ],
            [
             0.5555555555555556,
             "#d8576b"
            ],
            [
             0.6666666666666666,
             "#ed7953"
            ],
            [
             0.7777777777777778,
             "#fb9f3a"
            ],
            [
             0.8888888888888888,
             "#fdca26"
            ],
            [
             1,
             "#f0f921"
            ]
           ],
           "sequentialminus": [
            [
             0,
             "#0d0887"
            ],
            [
             0.1111111111111111,
             "#46039f"
            ],
            [
             0.2222222222222222,
             "#7201a8"
            ],
            [
             0.3333333333333333,
             "#9c179e"
            ],
            [
             0.4444444444444444,
             "#bd3786"
            ],
            [
             0.5555555555555556,
             "#d8576b"
            ],
            [
             0.6666666666666666,
             "#ed7953"
            ],
            [
             0.7777777777777778,
             "#fb9f3a"
            ],
            [
             0.8888888888888888,
             "#fdca26"
            ],
            [
             1,
             "#f0f921"
            ]
           ]
          },
          "colorway": [
           "#636efa",
           "#EF553B",
           "#00cc96",
           "#ab63fa",
           "#FFA15A",
           "#19d3f3",
           "#FF6692",
           "#B6E880",
           "#FF97FF",
           "#FECB52"
          ],
          "font": {
           "color": "#2a3f5f"
          },
          "geo": {
           "bgcolor": "white",
           "lakecolor": "white",
           "landcolor": "#E5ECF6",
           "showlakes": true,
           "showland": true,
           "subunitcolor": "white"
          },
          "hoverlabel": {
           "align": "left"
          },
          "hovermode": "closest",
          "mapbox": {
           "style": "light"
          },
          "paper_bgcolor": "white",
          "plot_bgcolor": "#E5ECF6",
          "polar": {
           "angularaxis": {
            "gridcolor": "white",
            "linecolor": "white",
            "ticks": ""
           },
           "bgcolor": "#E5ECF6",
           "radialaxis": {
            "gridcolor": "white",
            "linecolor": "white",
            "ticks": ""
           }
          },
          "scene": {
           "xaxis": {
            "backgroundcolor": "#E5ECF6",
            "gridcolor": "white",
            "gridwidth": 2,
            "linecolor": "white",
            "showbackground": true,
            "ticks": "",
            "zerolinecolor": "white"
           },
           "yaxis": {
            "backgroundcolor": "#E5ECF6",
            "gridcolor": "white",
            "gridwidth": 2,
            "linecolor": "white",
            "showbackground": true,
            "ticks": "",
            "zerolinecolor": "white"
           },
           "zaxis": {
            "backgroundcolor": "#E5ECF6",
            "gridcolor": "white",
            "gridwidth": 2,
            "linecolor": "white",
            "showbackground": true,
            "ticks": "",
            "zerolinecolor": "white"
           }
          },
          "shapedefaults": {
           "line": {
            "color": "#2a3f5f"
           }
          },
          "ternary": {
           "aaxis": {
            "gridcolor": "white",
            "linecolor": "white",
            "ticks": ""
           },
           "baxis": {
            "gridcolor": "white",
            "linecolor": "white",
            "ticks": ""
           },
           "bgcolor": "#E5ECF6",
           "caxis": {
            "gridcolor": "white",
            "linecolor": "white",
            "ticks": ""
           }
          },
          "title": {
           "x": 0.05
          },
          "xaxis": {
           "automargin": true,
           "gridcolor": "white",
           "linecolor": "white",
           "ticks": "",
           "title": {
            "standoff": 15
           },
           "zerolinecolor": "white",
           "zerolinewidth": 2
          },
          "yaxis": {
           "automargin": true,
           "gridcolor": "white",
           "linecolor": "white",
           "ticks": "",
           "title": {
            "standoff": 15
           },
           "zerolinecolor": "white",
           "zerolinewidth": 2
          }
         }
        },
        "title": {
         "text": "Decision Zone Mapping - VBD Value vs Availability"
        },
        "width": 900,
        "xaxis": {
         "anchor": "y",
         "domain": [
          0,
          1
         ],
         "title": {
          "text": "Availability Probability at Next Pick"
         }
        },
        "yaxis": {
         "anchor": "x",
         "domain": [
          0,
          1
         ],
         "title": {
          "text": "VBD Score"
         }
        }
       }
      }
     },
     "metadata": {},
     "output_type": "display_data"
    },
    {
     "name": "stdout",
     "output_type": "stream",
     "text": [
      "\n",
      "📊 Decision Zone Mapping:\n",
      "- Green (SAFE): >80% available, can wait\n",
      "- Yellow (DRAFT NOW): 30-80% available, risky to wait\n",
      "- Red (REACH): <30% available, must draft now\n",
      "- High VBD + Low availability = priority targets\n"
     ]
    }
   ],
   "source": [
    "def plot_decision_zones(df, vbd_col='salary_value', picks_until=7):\n",
    "    \"\"\"2D scatter: VBD value vs availability probability\"\"\"\n",
    "    \n",
    "    # Calculate availability probabilities for all players\n",
    "    availability_probs = []\n",
    "    for _, player in df.iterrows():\n",
    "        prob_gone = probability_gone_before_next_pick(df, player['player_name'], picks_until)\n",
    "        availability_probs.append(1 - prob_gone)\n",
    "    \n",
    "    plot_df = df.copy()\n",
    "    plot_df['availability_prob'] = availability_probs\n",
    "    \n",
    "    # Create decision zones\n",
    "    plot_df['zone'] = pd.cut(\n",
    "        plot_df['availability_prob'], \n",
    "        bins=[0, 0.3, 0.8, 1.0],\n",
    "        labels=['REACH', 'DRAFT NOW', 'SAFE']\n",
    "    )\n",
    "    \n",
    "    # Filter to players with meaningful VBD scores\n",
    "    plot_df = plot_df[plot_df[vbd_col] > 0]\n",
    "    \n",
    "    fig = px.scatter(\n",
    "        plot_df, \n",
    "        x='availability_prob', \n",
    "        y=vbd_col,\n",
    "        color='zone', \n",
    "        hover_data=['player_name', 'position', 'team'],\n",
    "        color_discrete_map={\n",
    "            'REACH': '#e74c3c',\n",
    "            'DRAFT NOW': '#f39c12', \n",
    "            'SAFE': '#2ecc71'\n",
    "        },\n",
    "        title='Decision Zone Mapping - VBD Value vs Availability'\n",
    "    )\n",
    "    \n",
    "    # Add zone boundary lines\n",
    "    fig.add_vline(x=0.3, line_dash=\"dash\", line_color=\"gray\", annotation_text=\"Reach Threshold\")\n",
    "    fig.add_vline(x=0.8, line_dash=\"dash\", line_color=\"gray\", annotation_text=\"Safe Threshold\")\n",
    "    \n",
    "    fig.update_layout(\n",
    "        xaxis_title='Availability Probability at Next Pick',\n",
    "        yaxis_title='VBD Score',\n",
    "        height=600,\n",
    "        width=900\n",
    "    )\n",
    "    \n",
    "    return fig\n",
    "\n",
    "# Create decision zones plot\n",
    "decision_fig = plot_decision_zones(ranking_df, picks_until=7)\n",
    "decision_fig.show()\n",
    "\n",
    "print(\"\\n📊 Decision Zone Mapping:\")\n",
    "print(\"- Green (SAFE): >80% available, can wait\")\n",
    "print(\"- Yellow (DRAFT NOW): 30-80% available, risky to wait\")\n",
    "print(\"- Red (REACH): <30% available, must draft now\")\n",
    "print(\"- High VBD + Low availability = priority targets\")"
   ]
  },
  {
   "cell_type": "markdown",
   "metadata": {},
   "source": [
    "## 7. Sensitivity Analysis\n",
    "\n",
    "Tests how robust the probability calculations are to changes in key parameters like temperature (τ)."
   ]
  },
  {
   "cell_type": "code",
   "execution_count": null,
   "metadata": {},
   "outputs": [
    {
     "data": {
      "application/vnd.plotly.v1+json": {
       "config": {
        "plotlyServerURL": "https://plot.ly"
       },
       "data": [
        {
         "mode": "lines+markers",
         "name": "Ja'Marr Chase",
         "type": "scatter",
         "x": [
          2,
          4,
          6,
          8,
          10
         ],
         "y": [
          0.3934693403108456,
          0.22119948780615378,
          0.15352270086758749,
          0.1175185867337517,
          0.09519276930147577
         ]
        },
        {
         "mode": "lines+markers",
         "name": "Bijan Robinson",
         "type": "scatter",
         "x": [
          2,
          4,
          6,
          8,
          10
         ],
         "y": [
          0.23865121855543184,
          0.1722703343184262,
          0.1299541606402612,
          0.10370978878865501,
          0.0861339795904401
         ]
        },
        {
         "mode": "lines+markers",
         "name": "Justin Jefferson",
         "type": "scatter",
         "x": [
          2,
          4,
          6,
          8,
          10
         ],
         "y": [
          0.12644948174849824,
          0.12360636580603786,
          0.10376729420149203,
          0.08747457908697627,
          0.07511172245830573
         ]
        },
        {
         "mode": "lines+markers",
         "name": "Saquon Barkley",
         "type": "scatter",
         "x": [
          2,
          4,
          6,
          8,
          10
         ],
         "y": [
          0.0991857577399748,
          0.1104226458718894,
          0.09649374444156253,
          0.08292012525135775,
          0.07200387992010279
         ]
        },
        {
         "mode": "lines+markers",
         "name": "Jahmyr Gibbs",
         "type": "scatter",
         "x": [
          2,
          4,
          6,
          8,
          10
         ],
         "y": [
          0.060159203076124365,
          0.08599724307384388,
          0.08168019123604794,
          0.0731767536962499,
          0.0651518047954771
         ]
        }
       ],
       "layout": {
        "height": 500,
        "template": {
         "data": {
          "bar": [
           {
            "error_x": {
             "color": "#2a3f5f"
            },
            "error_y": {
             "color": "#2a3f5f"
            },
            "marker": {
             "line": {
              "color": "#E5ECF6",
              "width": 0.5
             },
             "pattern": {
              "fillmode": "overlay",
              "size": 10,
              "solidity": 0.2
             }
            },
            "type": "bar"
           }
          ],
          "barpolar": [
           {
            "marker": {
             "line": {
              "color": "#E5ECF6",
              "width": 0.5
             },
             "pattern": {
              "fillmode": "overlay",
              "size": 10,
              "solidity": 0.2
             }
            },
            "type": "barpolar"
           }
          ],
          "carpet": [
           {
            "aaxis": {
             "endlinecolor": "#2a3f5f",
             "gridcolor": "white",
             "linecolor": "white",
             "minorgridcolor": "white",
             "startlinecolor": "#2a3f5f"
            },
            "baxis": {
             "endlinecolor": "#2a3f5f",
             "gridcolor": "white",
             "linecolor": "white",
             "minorgridcolor": "white",
             "startlinecolor": "#2a3f5f"
            },
            "type": "carpet"
           }
          ],
          "choropleth": [
           {
            "colorbar": {
             "outlinewidth": 0,
             "ticks": ""
            },
            "type": "choropleth"
           }
          ],
          "contour": [
           {
            "colorbar": {
             "outlinewidth": 0,
             "ticks": ""
            },
            "colorscale": [
             [
              0,
              "#0d0887"
             ],
             [
              0.1111111111111111,
              "#46039f"
             ],
             [
              0.2222222222222222,
              "#7201a8"
             ],
             [
              0.3333333333333333,
              "#9c179e"
             ],
             [
              0.4444444444444444,
              "#bd3786"
             ],
             [
              0.5555555555555556,
              "#d8576b"
             ],
             [
              0.6666666666666666,
              "#ed7953"
             ],
             [
              0.7777777777777778,
              "#fb9f3a"
             ],
             [
              0.8888888888888888,
              "#fdca26"
             ],
             [
              1,
              "#f0f921"
             ]
            ],
            "type": "contour"
           }
          ],
          "contourcarpet": [
           {
            "colorbar": {
             "outlinewidth": 0,
             "ticks": ""
            },
            "type": "contourcarpet"
           }
          ],
          "heatmap": [
           {
            "colorbar": {
             "outlinewidth": 0,
             "ticks": ""
            },
            "colorscale": [
             [
              0,
              "#0d0887"
             ],
             [
              0.1111111111111111,
              "#46039f"
             ],
             [
              0.2222222222222222,
              "#7201a8"
             ],
             [
              0.3333333333333333,
              "#9c179e"
             ],
             [
              0.4444444444444444,
              "#bd3786"
             ],
             [
              0.5555555555555556,
              "#d8576b"
             ],
             [
              0.6666666666666666,
              "#ed7953"
             ],
             [
              0.7777777777777778,
              "#fb9f3a"
             ],
             [
              0.8888888888888888,
              "#fdca26"
             ],
             [
              1,
              "#f0f921"
             ]
            ],
            "type": "heatmap"
           }
          ],
          "histogram": [
           {
            "marker": {
             "pattern": {
              "fillmode": "overlay",
              "size": 10,
              "solidity": 0.2
             }
            },
            "type": "histogram"
           }
          ],
          "histogram2d": [
           {
            "colorbar": {
             "outlinewidth": 0,
             "ticks": ""
            },
            "colorscale": [
             [
              0,
              "#0d0887"
             ],
             [
              0.1111111111111111,
              "#46039f"
             ],
             [
              0.2222222222222222,
              "#7201a8"
             ],
             [
              0.3333333333333333,
              "#9c179e"
             ],
             [
              0.4444444444444444,
              "#bd3786"
             ],
             [
              0.5555555555555556,
              "#d8576b"
             ],
             [
              0.6666666666666666,
              "#ed7953"
             ],
             [
              0.7777777777777778,
              "#fb9f3a"
             ],
             [
              0.8888888888888888,
              "#fdca26"
             ],
             [
              1,
              "#f0f921"
             ]
            ],
            "type": "histogram2d"
           }
          ],
          "histogram2dcontour": [
           {
            "colorbar": {
             "outlinewidth": 0,
             "ticks": ""
            },
            "colorscale": [
             [
              0,
              "#0d0887"
             ],
             [
              0.1111111111111111,
              "#46039f"
             ],
             [
              0.2222222222222222,
              "#7201a8"
             ],
             [
              0.3333333333333333,
              "#9c179e"
             ],
             [
              0.4444444444444444,
              "#bd3786"
             ],
             [
              0.5555555555555556,
              "#d8576b"
             ],
             [
              0.6666666666666666,
              "#ed7953"
             ],
             [
              0.7777777777777778,
              "#fb9f3a"
             ],
             [
              0.8888888888888888,
              "#fdca26"
             ],
             [
              1,
              "#f0f921"
             ]
            ],
            "type": "histogram2dcontour"
           }
          ],
          "mesh3d": [
           {
            "colorbar": {
             "outlinewidth": 0,
             "ticks": ""
            },
            "type": "mesh3d"
           }
          ],
          "parcoords": [
           {
            "line": {
             "colorbar": {
              "outlinewidth": 0,
              "ticks": ""
             }
            },
            "type": "parcoords"
           }
          ],
          "pie": [
           {
            "automargin": true,
            "type": "pie"
           }
          ],
          "scatter": [
           {
            "fillpattern": {
             "fillmode": "overlay",
             "size": 10,
             "solidity": 0.2
            },
            "type": "scatter"
           }
          ],
          "scatter3d": [
           {
            "line": {
             "colorbar": {
              "outlinewidth": 0,
              "ticks": ""
             }
            },
            "marker": {
             "colorbar": {
              "outlinewidth": 0,
              "ticks": ""
             }
            },
            "type": "scatter3d"
           }
          ],
          "scattercarpet": [
           {
            "marker": {
             "colorbar": {
              "outlinewidth": 0,
              "ticks": ""
             }
            },
            "type": "scattercarpet"
           }
          ],
          "scattergeo": [
           {
            "marker": {
             "colorbar": {
              "outlinewidth": 0,
              "ticks": ""
             }
            },
            "type": "scattergeo"
           }
          ],
          "scattergl": [
           {
            "marker": {
             "colorbar": {
              "outlinewidth": 0,
              "ticks": ""
             }
            },
            "type": "scattergl"
           }
          ],
          "scattermap": [
           {
            "marker": {
             "colorbar": {
              "outlinewidth": 0,
              "ticks": ""
             }
            },
            "type": "scattermap"
           }
          ],
          "scattermapbox": [
           {
            "marker": {
             "colorbar": {
              "outlinewidth": 0,
              "ticks": ""
             }
            },
            "type": "scattermapbox"
           }
          ],
          "scatterpolar": [
           {
            "marker": {
             "colorbar": {
              "outlinewidth": 0,
              "ticks": ""
             }
            },
            "type": "scatterpolar"
           }
          ],
          "scatterpolargl": [
           {
            "marker": {
             "colorbar": {
              "outlinewidth": 0,
              "ticks": ""
             }
            },
            "type": "scatterpolargl"
           }
          ],
          "scatterternary": [
           {
            "marker": {
             "colorbar": {
              "outlinewidth": 0,
              "ticks": ""
             }
            },
            "type": "scatterternary"
           }
          ],
          "surface": [
           {
            "colorbar": {
             "outlinewidth": 0,
             "ticks": ""
            },
            "colorscale": [
             [
              0,
              "#0d0887"
             ],
             [
              0.1111111111111111,
              "#46039f"
             ],
             [
              0.2222222222222222,
              "#7201a8"
             ],
             [
              0.3333333333333333,
              "#9c179e"
             ],
             [
              0.4444444444444444,
              "#bd3786"
             ],
             [
              0.5555555555555556,
              "#d8576b"
             ],
             [
              0.6666666666666666,
              "#ed7953"
             ],
             [
              0.7777777777777778,
              "#fb9f3a"
             ],
             [
              0.8888888888888888,
              "#fdca26"
             ],
             [
              1,
              "#f0f921"
             ]
            ],
            "type": "surface"
           }
          ],
          "table": [
           {
            "cells": {
             "fill": {
              "color": "#EBF0F8"
             },
             "line": {
              "color": "white"
             }
            },
            "header": {
             "fill": {
              "color": "#C8D4E3"
             },
             "line": {
              "color": "white"
             }
            },
            "type": "table"
           }
          ]
         },
         "layout": {
          "annotationdefaults": {
           "arrowcolor": "#2a3f5f",
           "arrowhead": 0,
           "arrowwidth": 1
          },
          "autotypenumbers": "strict",
          "coloraxis": {
           "colorbar": {
            "outlinewidth": 0,
            "ticks": ""
           }
          },
          "colorscale": {
           "diverging": [
            [
             0,
             "#8e0152"
            ],
            [
             0.1,
             "#c51b7d"
            ],
            [
             0.2,
             "#de77ae"
            ],
            [
             0.3,
             "#f1b6da"
            ],
            [
             0.4,
             "#fde0ef"
            ],
            [
             0.5,
             "#f7f7f7"
            ],
            [
             0.6,
             "#e6f5d0"
            ],
            [
             0.7,
             "#b8e186"
            ],
            [
             0.8,
             "#7fbc41"
            ],
            [
             0.9,
             "#4d9221"
            ],
            [
             1,
             "#276419"
            ]
           ],
           "sequential": [
            [
             0,
             "#0d0887"
            ],
            [
             0.1111111111111111,
             "#46039f"
            ],
            [
             0.2222222222222222,
             "#7201a8"
            ],
            [
             0.3333333333333333,
             "#9c179e"
            ],
            [
             0.4444444444444444,
             "#bd3786"
            ],
            [
             0.5555555555555556,
             "#d8576b"
            ],
            [
             0.6666666666666666,
             "#ed7953"
            ],
            [
             0.7777777777777778,
             "#fb9f3a"
            ],
            [
             0.8888888888888888,
             "#fdca26"
            ],
            [
             1,
             "#f0f921"
            ]
           ],
           "sequentialminus": [
            [
             0,
             "#0d0887"
            ],
            [
             0.1111111111111111,
             "#46039f"
            ],
            [
             0.2222222222222222,
             "#7201a8"
            ],
            [
             0.3333333333333333,
             "#9c179e"
            ],
            [
             0.4444444444444444,
             "#bd3786"
            ],
            [
             0.5555555555555556,
             "#d8576b"
            ],
            [
             0.6666666666666666,
             "#ed7953"
            ],
            [
             0.7777777777777778,
             "#fb9f3a"
            ],
            [
             0.8888888888888888,
             "#fdca26"
            ],
            [
             1,
             "#f0f921"
            ]
           ]
          },
          "colorway": [
           "#636efa",
           "#EF553B",
           "#00cc96",
           "#ab63fa",
           "#FFA15A",
           "#19d3f3",
           "#FF6692",
           "#B6E880",
           "#FF97FF",
           "#FECB52"
          ],
          "font": {
           "color": "#2a3f5f"
          },
          "geo": {
           "bgcolor": "white",
           "lakecolor": "white",
           "landcolor": "#E5ECF6",
           "showlakes": true,
           "showland": true,
           "subunitcolor": "white"
          },
          "hoverlabel": {
           "align": "left"
          },
          "hovermode": "closest",
          "mapbox": {
           "style": "light"
          },
          "paper_bgcolor": "white",
          "plot_bgcolor": "#E5ECF6",
          "polar": {
           "angularaxis": {
            "gridcolor": "white",
            "linecolor": "white",
            "ticks": ""
           },
           "bgcolor": "#E5ECF6",
           "radialaxis": {
            "gridcolor": "white",
            "linecolor": "white",
            "ticks": ""
           }
          },
          "scene": {
           "xaxis": {
            "backgroundcolor": "#E5ECF6",
            "gridcolor": "white",
            "gridwidth": 2,
            "linecolor": "white",
            "showbackground": true,
            "ticks": "",
            "zerolinecolor": "white"
           },
           "yaxis": {
            "backgroundcolor": "#E5ECF6",
            "gridcolor": "white",
            "gridwidth": 2,
            "linecolor": "white",
            "showbackground": true,
            "ticks": "",
            "zerolinecolor": "white"
           },
           "zaxis": {
            "backgroundcolor": "#E5ECF6",
            "gridcolor": "white",
            "gridwidth": 2,
            "linecolor": "white",
            "showbackground": true,
            "ticks": "",
            "zerolinecolor": "white"
           }
          },
          "shapedefaults": {
           "line": {
            "color": "#2a3f5f"
           }
          },
          "ternary": {
           "aaxis": {
            "gridcolor": "white",
            "linecolor": "white",
            "ticks": ""
           },
           "baxis": {
            "gridcolor": "white",
            "linecolor": "white",
            "ticks": ""
           },
           "bgcolor": "#E5ECF6",
           "caxis": {
            "gridcolor": "white",
            "linecolor": "white",
            "ticks": ""
           }
          },
          "title": {
           "x": 0.05
          },
          "xaxis": {
           "automargin": true,
           "gridcolor": "white",
           "linecolor": "white",
           "ticks": "",
           "title": {
            "standoff": 15
           },
           "zerolinecolor": "white",
           "zerolinewidth": 2
          },
          "yaxis": {
           "automargin": true,
           "gridcolor": "white",
           "linecolor": "white",
           "ticks": "",
           "title": {
            "standoff": 15
           },
           "zerolinecolor": "white",
           "zerolinewidth": 2
          }
         }
        },
        "title": {
         "text": "Sensitivity Analysis - Parameter: tau"
        },
        "xaxis": {
         "title": {
          "text": "tau Value"
         }
        },
        "yaxis": {
         "title": {
          "text": "Pick Probability"
         }
        }
       }
      }
     },
     "metadata": {},
     "output_type": "display_data"
    },
    {
     "name": "stdout",
     "output_type": "stream",
     "text": [
      "\n",
      "📊 Sensitivity Analysis:\n",
      "- Shows how parameter changes affect top players' probabilities\n",
      "- Relatively stable results indicate robust system\n",
      "- Higher tau spreads probabilities more evenly\n"
     ]
    }
   ],
   "source": [
    "def plot_sensitivity(df, param_name='tau', param_range=[3, 5, 7, 10]):\n",
    "    \"\"\"Test robustness to parameter changes\"\"\"\n",
    "    top_5_players = df.head(5)['player_name'].tolist()\n",
    "    \n",
    "    fig = go.Figure()\n",
    "    \n",
    "    for i, player in enumerate(top_5_players):\n",
    "        player_probs = []\n",
    "        \n",
    "        for param_val in param_range:\n",
    "            if param_name == 'tau':\n",
    "                # Calculate probabilities with different tau values\n",
    "                probs = compute_pick_probabilities(df, tau_espn=param_val, tau_adp=param_val)\n",
    "                player_idx = df.index[df['player_name'] == player][0]\n",
    "                player_prob = probs.loc[player_idx]\n",
    "                player_probs.append(player_prob)\n",
    "        \n",
    "        fig.add_trace(go.Scatter(\n",
    "            x=param_range, \n",
    "            y=player_probs,\n",
    "            name=player,\n",
    "            mode='lines+markers'\n",
    "        ))\n",
    "    \n",
    "    fig.update_layout(\n",
    "        title=f'Sensitivity Analysis - Parameter: {param_name}',\n",
    "        xaxis_title=f'{param_name} Value',\n",
    "        yaxis_title='Pick Probability',\n",
    "        height=500\n",
    "    )\n",
    "    \n",
    "    return fig\n",
    "\n",
    "# Test sensitivity to tau parameter\n",
    "sensitivity_fig = plot_sensitivity(ranking_df, param_name='tau', param_range=[2, 4, 6, 8, 10])\n",
    "sensitivity_fig.show()\n",
    "\n",
    "print(\"\\n📊 Sensitivity Analysis:\")\n",
    "print(\"- Shows how parameter changes affect top players' probabilities\")\n",
    "print(\"- Relatively stable results indicate robust system\")\n",
    "print(\"- Higher tau spreads probabilities more evenly\")"
   ]
  },
  {
   "cell_type": "markdown",
   "metadata": {},
   "source": [
    "## 8. Comparative Analysis Functions\n",
    "\n",
    "Additional functions for comparing different aspects of the probability system."
   ]
  },
  {
   "cell_type": "code",
   "execution_count": null,
   "metadata": {},
   "outputs": [
    {
     "data": {
      "application/vnd.plotly.v1+json": {
       "config": {
        "plotlyServerURL": "https://plot.ly"
       },
       "data": [
        {
         "marker": {
          "color": "blue",
          "size": 10
         },
         "mode": "markers+text",
         "name": "Players",
         "text": [
          "Ja'Marr Chase",
          "Bijan Robinson",
          "Justin Jefferson",
          "Saquon Barkley",
          "Jahmyr Gibbs",
          "CeeDee Lamb",
          "Christian McCaffrey",
          "Puka Nacua",
          "Malik Nabers",
          "Amon-Ra St. Brown"
         ],
         "textposition": "top center",
         "type": "scatter",
         "x": {
          "bdata": "AQIDBAUGBwgJCg==",
          "dtype": "i1"
         },
         "y": {
          "bdata": "AAAAAAAA8D8AAAAAAAAAQAAAAAAAABRAAAAAAAAACEAAAAAAAAAQQAAAAAAAABhAAAAAAAAAJkAAAAAAAAAcQAAAAAAAACBAAAAAAAAAIkA=",
          "dtype": "f8"
         }
        },
        {
         "line": {
          "color": "red",
          "dash": "dash"
         },
         "mode": "lines",
         "name": "Perfect Correlation",
         "type": "scatter",
         "x": [
          1,
          11
         ],
         "y": [
          1,
          11
         ]
        }
       ],
       "layout": {
        "height": 600,
        "template": {
         "data": {
          "bar": [
           {
            "error_x": {
             "color": "#2a3f5f"
            },
            "error_y": {
             "color": "#2a3f5f"
            },
            "marker": {
             "line": {
              "color": "#E5ECF6",
              "width": 0.5
             },
             "pattern": {
              "fillmode": "overlay",
              "size": 10,
              "solidity": 0.2
             }
            },
            "type": "bar"
           }
          ],
          "barpolar": [
           {
            "marker": {
             "line": {
              "color": "#E5ECF6",
              "width": 0.5
             },
             "pattern": {
              "fillmode": "overlay",
              "size": 10,
              "solidity": 0.2
             }
            },
            "type": "barpolar"
           }
          ],
          "carpet": [
           {
            "aaxis": {
             "endlinecolor": "#2a3f5f",
             "gridcolor": "white",
             "linecolor": "white",
             "minorgridcolor": "white",
             "startlinecolor": "#2a3f5f"
            },
            "baxis": {
             "endlinecolor": "#2a3f5f",
             "gridcolor": "white",
             "linecolor": "white",
             "minorgridcolor": "white",
             "startlinecolor": "#2a3f5f"
            },
            "type": "carpet"
           }
          ],
          "choropleth": [
           {
            "colorbar": {
             "outlinewidth": 0,
             "ticks": ""
            },
            "type": "choropleth"
           }
          ],
          "contour": [
           {
            "colorbar": {
             "outlinewidth": 0,
             "ticks": ""
            },
            "colorscale": [
             [
              0,
              "#0d0887"
             ],
             [
              0.1111111111111111,
              "#46039f"
             ],
             [
              0.2222222222222222,
              "#7201a8"
             ],
             [
              0.3333333333333333,
              "#9c179e"
             ],
             [
              0.4444444444444444,
              "#bd3786"
             ],
             [
              0.5555555555555556,
              "#d8576b"
             ],
             [
              0.6666666666666666,
              "#ed7953"
             ],
             [
              0.7777777777777778,
              "#fb9f3a"
             ],
             [
              0.8888888888888888,
              "#fdca26"
             ],
             [
              1,
              "#f0f921"
             ]
            ],
            "type": "contour"
           }
          ],
          "contourcarpet": [
           {
            "colorbar": {
             "outlinewidth": 0,
             "ticks": ""
            },
            "type": "contourcarpet"
           }
          ],
          "heatmap": [
           {
            "colorbar": {
             "outlinewidth": 0,
             "ticks": ""
            },
            "colorscale": [
             [
              0,
              "#0d0887"
             ],
             [
              0.1111111111111111,
              "#46039f"
             ],
             [
              0.2222222222222222,
              "#7201a8"
             ],
             [
              0.3333333333333333,
              "#9c179e"
             ],
             [
              0.4444444444444444,
              "#bd3786"
             ],
             [
              0.5555555555555556,
              "#d8576b"
             ],
             [
              0.6666666666666666,
              "#ed7953"
             ],
             [
              0.7777777777777778,
              "#fb9f3a"
             ],
             [
              0.8888888888888888,
              "#fdca26"
             ],
             [
              1,
              "#f0f921"
             ]
            ],
            "type": "heatmap"
           }
          ],
          "histogram": [
           {
            "marker": {
             "pattern": {
              "fillmode": "overlay",
              "size": 10,
              "solidity": 0.2
             }
            },
            "type": "histogram"
           }
          ],
          "histogram2d": [
           {
            "colorbar": {
             "outlinewidth": 0,
             "ticks": ""
            },
            "colorscale": [
             [
              0,
              "#0d0887"
             ],
             [
              0.1111111111111111,
              "#46039f"
             ],
             [
              0.2222222222222222,
              "#7201a8"
             ],
             [
              0.3333333333333333,
              "#9c179e"
             ],
             [
              0.4444444444444444,
              "#bd3786"
             ],
             [
              0.5555555555555556,
              "#d8576b"
             ],
             [
              0.6666666666666666,
              "#ed7953"
             ],
             [
              0.7777777777777778,
              "#fb9f3a"
             ],
             [
              0.8888888888888888,
              "#fdca26"
             ],
             [
              1,
              "#f0f921"
             ]
            ],
            "type": "histogram2d"
           }
          ],
          "histogram2dcontour": [
           {
            "colorbar": {
             "outlinewidth": 0,
             "ticks": ""
            },
            "colorscale": [
             [
              0,
              "#0d0887"
             ],
             [
              0.1111111111111111,
              "#46039f"
             ],
             [
              0.2222222222222222,
              "#7201a8"
             ],
             [
              0.3333333333333333,
              "#9c179e"
             ],
             [
              0.4444444444444444,
              "#bd3786"
             ],
             [
              0.5555555555555556,
              "#d8576b"
             ],
             [
              0.6666666666666666,
              "#ed7953"
             ],
             [
              0.7777777777777778,
              "#fb9f3a"
             ],
             [
              0.8888888888888888,
              "#fdca26"
             ],
             [
              1,
              "#f0f921"
             ]
            ],
            "type": "histogram2dcontour"
           }
          ],
          "mesh3d": [
           {
            "colorbar": {
             "outlinewidth": 0,
             "ticks": ""
            },
            "type": "mesh3d"
           }
          ],
          "parcoords": [
           {
            "line": {
             "colorbar": {
              "outlinewidth": 0,
              "ticks": ""
             }
            },
            "type": "parcoords"
           }
          ],
          "pie": [
           {
            "automargin": true,
            "type": "pie"
           }
          ],
          "scatter": [
           {
            "fillpattern": {
             "fillmode": "overlay",
             "size": 10,
             "solidity": 0.2
            },
            "type": "scatter"
           }
          ],
          "scatter3d": [
           {
            "line": {
             "colorbar": {
              "outlinewidth": 0,
              "ticks": ""
             }
            },
            "marker": {
             "colorbar": {
              "outlinewidth": 0,
              "ticks": ""
             }
            },
            "type": "scatter3d"
           }
          ],
          "scattercarpet": [
           {
            "marker": {
             "colorbar": {
              "outlinewidth": 0,
              "ticks": ""
             }
            },
            "type": "scattercarpet"
           }
          ],
          "scattergeo": [
           {
            "marker": {
             "colorbar": {
              "outlinewidth": 0,
              "ticks": ""
             }
            },
            "type": "scattergeo"
           }
          ],
          "scattergl": [
           {
            "marker": {
             "colorbar": {
              "outlinewidth": 0,
              "ticks": ""
             }
            },
            "type": "scattergl"
           }
          ],
          "scattermap": [
           {
            "marker": {
             "colorbar": {
              "outlinewidth": 0,
              "ticks": ""
             }
            },
            "type": "scattermap"
           }
          ],
          "scattermapbox": [
           {
            "marker": {
             "colorbar": {
              "outlinewidth": 0,
              "ticks": ""
             }
            },
            "type": "scattermapbox"
           }
          ],
          "scatterpolar": [
           {
            "marker": {
             "colorbar": {
              "outlinewidth": 0,
              "ticks": ""
             }
            },
            "type": "scatterpolar"
           }
          ],
          "scatterpolargl": [
           {
            "marker": {
             "colorbar": {
              "outlinewidth": 0,
              "ticks": ""
             }
            },
            "type": "scatterpolargl"
           }
          ],
          "scatterternary": [
           {
            "marker": {
             "colorbar": {
              "outlinewidth": 0,
              "ticks": ""
             }
            },
            "type": "scatterternary"
           }
          ],
          "surface": [
           {
            "colorbar": {
             "outlinewidth": 0,
             "ticks": ""
            },
            "colorscale": [
             [
              0,
              "#0d0887"
             ],
             [
              0.1111111111111111,
              "#46039f"
             ],
             [
              0.2222222222222222,
              "#7201a8"
             ],
             [
              0.3333333333333333,
              "#9c179e"
             ],
             [
              0.4444444444444444,
              "#bd3786"
             ],
             [
              0.5555555555555556,
              "#d8576b"
             ],
             [
              0.6666666666666666,
              "#ed7953"
             ],
             [
              0.7777777777777778,
              "#fb9f3a"
             ],
             [
              0.8888888888888888,
              "#fdca26"
             ],
             [
              1,
              "#f0f921"
             ]
            ],
            "type": "surface"
           }
          ],
          "table": [
           {
            "cells": {
             "fill": {
              "color": "#EBF0F8"
             },
             "line": {
              "color": "white"
             }
            },
            "header": {
             "fill": {
              "color": "#C8D4E3"
             },
             "line": {
              "color": "white"
             }
            },
            "type": "table"
           }
          ]
         },
         "layout": {
          "annotationdefaults": {
           "arrowcolor": "#2a3f5f",
           "arrowhead": 0,
           "arrowwidth": 1
          },
          "autotypenumbers": "strict",
          "coloraxis": {
           "colorbar": {
            "outlinewidth": 0,
            "ticks": ""
           }
          },
          "colorscale": {
           "diverging": [
            [
             0,
             "#8e0152"
            ],
            [
             0.1,
             "#c51b7d"
            ],
            [
             0.2,
             "#de77ae"
            ],
            [
             0.3,
             "#f1b6da"
            ],
            [
             0.4,
             "#fde0ef"
            ],
            [
             0.5,
             "#f7f7f7"
            ],
            [
             0.6,
             "#e6f5d0"
            ],
            [
             0.7,
             "#b8e186"
            ],
            [
             0.8,
             "#7fbc41"
            ],
            [
             0.9,
             "#4d9221"
            ],
            [
             1,
             "#276419"
            ]
           ],
           "sequential": [
            [
             0,
             "#0d0887"
            ],
            [
             0.1111111111111111,
             "#46039f"
            ],
            [
             0.2222222222222222,
             "#7201a8"
            ],
            [
             0.3333333333333333,
             "#9c179e"
            ],
            [
             0.4444444444444444,
             "#bd3786"
            ],
            [
             0.5555555555555556,
             "#d8576b"
            ],
            [
             0.6666666666666666,
             "#ed7953"
            ],
            [
             0.7777777777777778,
             "#fb9f3a"
            ],
            [
             0.8888888888888888,
             "#fdca26"
            ],
            [
             1,
             "#f0f921"
            ]
           ],
           "sequentialminus": [
            [
             0,
             "#0d0887"
            ],
            [
             0.1111111111111111,
             "#46039f"
            ],
            [
             0.2222222222222222,
             "#7201a8"
            ],
            [
             0.3333333333333333,
             "#9c179e"
            ],
            [
             0.4444444444444444,
             "#bd3786"
            ],
            [
             0.5555555555555556,
             "#d8576b"
            ],
            [
             0.6666666666666666,
             "#ed7953"
            ],
            [
             0.7777777777777778,
             "#fb9f3a"
            ],
            [
             0.8888888888888888,
             "#fdca26"
            ],
            [
             1,
             "#f0f921"
            ]
           ]
          },
          "colorway": [
           "#636efa",
           "#EF553B",
           "#00cc96",
           "#ab63fa",
           "#FFA15A",
           "#19d3f3",
           "#FF6692",
           "#B6E880",
           "#FF97FF",
           "#FECB52"
          ],
          "font": {
           "color": "#2a3f5f"
          },
          "geo": {
           "bgcolor": "white",
           "lakecolor": "white",
           "landcolor": "#E5ECF6",
           "showlakes": true,
           "showland": true,
           "subunitcolor": "white"
          },
          "hoverlabel": {
           "align": "left"
          },
          "hovermode": "closest",
          "mapbox": {
           "style": "light"
          },
          "paper_bgcolor": "white",
          "plot_bgcolor": "#E5ECF6",
          "polar": {
           "angularaxis": {
            "gridcolor": "white",
            "linecolor": "white",
            "ticks": ""
           },
           "bgcolor": "#E5ECF6",
           "radialaxis": {
            "gridcolor": "white",
            "linecolor": "white",
            "ticks": ""
           }
          },
          "scene": {
           "xaxis": {
            "backgroundcolor": "#E5ECF6",
            "gridcolor": "white",
            "gridwidth": 2,
            "linecolor": "white",
            "showbackground": true,
            "ticks": "",
            "zerolinecolor": "white"
           },
           "yaxis": {
            "backgroundcolor": "#E5ECF6",
            "gridcolor": "white",
            "gridwidth": 2,
            "linecolor": "white",
            "showbackground": true,
            "ticks": "",
            "zerolinecolor": "white"
           },
           "zaxis": {
            "backgroundcolor": "#E5ECF6",
            "gridcolor": "white",
            "gridwidth": 2,
            "linecolor": "white",
            "showbackground": true,
            "ticks": "",
            "zerolinecolor": "white"
           }
          },
          "shapedefaults": {
           "line": {
            "color": "#2a3f5f"
           }
          },
          "ternary": {
           "aaxis": {
            "gridcolor": "white",
            "linecolor": "white",
            "ticks": ""
           },
           "baxis": {
            "gridcolor": "white",
            "linecolor": "white",
            "ticks": ""
           },
           "bgcolor": "#E5ECF6",
           "caxis": {
            "gridcolor": "white",
            "linecolor": "white",
            "ticks": ""
           }
          },
          "title": {
           "x": 0.05
          },
          "xaxis": {
           "automargin": true,
           "gridcolor": "white",
           "linecolor": "white",
           "ticks": "",
           "title": {
            "standoff": 15
           },
           "zerolinecolor": "white",
           "zerolinewidth": 2
          },
          "yaxis": {
           "automargin": true,
           "gridcolor": "white",
           "linecolor": "white",
           "ticks": "",
           "title": {
            "standoff": 15
           },
           "zerolinecolor": "white",
           "zerolinewidth": 2
          }
         }
        },
        "title": {
         "text": "ESPN vs ADP Rankings Comparison"
        },
        "width": 600,
        "xaxis": {
         "title": {
          "text": "ESPN Rank"
         }
        },
        "yaxis": {
         "title": {
          "text": "ADP Rank"
         }
        }
       }
      }
     },
     "metadata": {},
     "output_type": "display_data"
    },
    {
     "data": {
      "application/vnd.plotly.v1+json": {
       "config": {
        "plotlyServerURL": "https://plot.ly"
       },
       "data": [
        {
         "marker": {
          "color": "lightblue"
         },
         "nbinsx": 20,
         "opacity": 0.7,
         "type": "histogram",
         "x": [
          0.8187292533258893,
          0.697219777879459,
          0.6343159388204954,
          0.5377904640087903,
          0.49260759592143755,
          0.4744519066242452,
          0.4923613858884486,
          0.5070642137104487,
          0.5768761181518912,
          0.6398160845997006,
          0.7158270918721473,
          0.7324514005991275,
          0.7940992570885288,
          0.8285353528885205,
          0.8746507799993223,
          0.8922510804580547,
          0.9129008333337923,
          0.9069372805309576,
          0.9309318982871599,
          0.9325293356114632,
          0.9607627809773773,
          0.9677782708905466,
          0.956011756204026,
          0.9791211263320614,
          0.9814760082317858,
          0.9864990732657786,
          0.9849865446952762,
          0.9849630760037086,
          0.9876747086042645,
          0.9921425084835213,
          0.9948621706737686,
          0.9885288654075506,
          0.9960138105397809,
          0.9971225419646518,
          0.9976886905874551,
          0.9966758012619945,
          0.9979570415717233,
          0.9987812951886479,
          0.9985478435768985,
          0.9989335742056145,
          0.9992558893034831,
          0.999080163854881,
          0.9995102865552201,
          0.9996101732387691,
          0.9984641691693148,
          0.9997501088553618,
          0.9994937283331559,
          0.9990067881484493,
          0.9998311324519301,
          0.9998868832437485,
          0.9999085179842021,
          0.9999212851094577,
          0.9999116439546515,
          0.9998887596573328,
          0.9999089233437507,
          0.9999636203443257,
          0.9999541873353268,
          0.9999762909861188,
          0.9999814882839003,
          0.99998496164707,
          0.9999753184797391,
          0.9999843823595533,
          0.9999915064069363,
          0.9999831006060701,
          0.9999940782175437,
          0.9999949846738461,
          0.9999879794959282,
          0.9999963590075243,
          0.9999963982854158,
          0.9999959201370516,
          0.9999983412699539,
          0.999983465589274,
          0.9999987355809715,
          0.9999990834613649,
          0.9999992340471282,
          0.9999993805173121,
          0.9999993140787541,
          0.9999994887083165,
          0.9999996274930587,
          0.9999989702243846,
          0.9999996506191017,
          0.9999929969951563,
          0.9999998187253967,
          0.99999953729188,
          0.9999998978781407,
          0.999999917389491,
          0.9999998486651749,
          0.9999999370482516,
          0.9999999545845569,
          0.9999999067727506,
          0.9999999236719833,
          0.9999999612874878,
          0.9999999795842492,
          0.999999983017303,
          0.9999999835551379,
          0.9999999636070838,
          0.9999999908341928,
          0.9999999890955956,
          0.9999999896980318,
          0.9999999898870136,
          0.9999999950469027,
          0.9999999965918593,
          0.9999999971048454,
          0.9999999973654032,
          0.9999999976907094,
          0.9999999984531461,
          0.9999999987428027,
          0.9999999989861013,
          0.9999999989999868,
          0.9999999993201365,
          0.9999999994332318,
          0.9999999993369024,
          0.9999999827238168,
          0.9999999978216942,
          0.9999999997474294,
          0.999999999772304,
          0.9999999982989817,
          0.9999999996093113,
          0.9999999885571085,
          0.9999999999068769,
          0.9999999999190241,
          0.9999999999345441,
          0.9999999976619229,
          0.9999999999569634,
          0.9999999998522702,
          0.9999999994081818,
          0.9999999999773183,
          0.9999999999809155,
          0.9999999999801535,
          0.999999999979093,
          0.999999998961924,
          0.9999999999915521,
          0.9999999999862427,
          0.9999999999943219,
          0.9999999999954112,
          0.9999999999962504,
          0.9999999999969299,
          0.9999999999974859,
          0.9999999999979423,
          0.9999999999358098,
          0.9999999999985741,
          0.9999999999862511,
          0.9999999999990059,
          0.9999999999992396,
          0.9999999999962683,
          0.9999999993104811,
          0.9999999999974984,
          0.9999999999994706,
          0.9999999999987842,
          0.9999999999991437,
          0.9999999999998134,
          0.999999999999847,
          0.9999999999984766,
          0.9999999999997707,
          0.9999999999999133,
          0.9999999999999314,
          0.9999999999999438,
          0.9999999999999498,
          0.9999999999995411,
          0.9999999999999122,
          0.9999999999999746,
          0.9999999999999792,
          0.999999999999983,
          0.9999999999999479,
          0.9999999999999888,
          0.9999999999999908,
          0.9999999999999714,
          0.9999999999999932,
          0.999999999999995,
          0.9999999999999959,
          0.9999999999999967,
          0.9999999999999972,
          0.9999999999999977,
          0.9999999999999981,
          0.9999999999999984,
          0.9999999999999988,
          0.999999999999999,
          0.999999999999999,
          0.9999999999999992,
          0.9999999999999994,
          0.9999999999999996,
          0.9999999999999997,
          0.9999999999999998,
          0.9999999999999998,
          1,
          1,
          1,
          1,
          1,
          1,
          1,
          1,
          0.9999999999999977,
          1,
          1,
          0.9999999999999742,
          1,
          0.9999999999998451,
          0.999999999999995,
          0.9999999999999883,
          1,
          1,
          1,
          1,
          1,
          0.9999999999236554,
          0.9999999999999984,
          0.9999999999999981,
          1,
          1,
          1,
          1,
          1,
          1,
          1,
          1,
          1,
          0.9999999999999922,
          0.9999999999999992,
          1,
          1,
          0.9999999999997176,
          1,
          1,
          1,
          1,
          1,
          1,
          1,
          1,
          1,
          1,
          1,
          1,
          1,
          1,
          1,
          1,
          1,
          1,
          1,
          1,
          1,
          1,
          1,
          1,
          1,
          1,
          1,
          1,
          1,
          1,
          1,
          1,
          1,
          1,
          1,
          0.9999999999999988,
          1,
          1,
          1,
          1,
          1,
          1,
          1,
          1,
          0.9999999999999997,
          1,
          1,
          1,
          1,
          1,
          1,
          1,
          1,
          1,
          1,
          1,
          1,
          1,
          1,
          1,
          1,
          1,
          1,
          1,
          1,
          1,
          1,
          1,
          1,
          1,
          1,
          1,
          1,
          1,
          1,
          1,
          1,
          1
         ]
        }
       ],
       "layout": {
        "height": 400,
        "template": {
         "data": {
          "bar": [
           {
            "error_x": {
             "color": "#2a3f5f"
            },
            "error_y": {
             "color": "#2a3f5f"
            },
            "marker": {
             "line": {
              "color": "#E5ECF6",
              "width": 0.5
             },
             "pattern": {
              "fillmode": "overlay",
              "size": 10,
              "solidity": 0.2
             }
            },
            "type": "bar"
           }
          ],
          "barpolar": [
           {
            "marker": {
             "line": {
              "color": "#E5ECF6",
              "width": 0.5
             },
             "pattern": {
              "fillmode": "overlay",
              "size": 10,
              "solidity": 0.2
             }
            },
            "type": "barpolar"
           }
          ],
          "carpet": [
           {
            "aaxis": {
             "endlinecolor": "#2a3f5f",
             "gridcolor": "white",
             "linecolor": "white",
             "minorgridcolor": "white",
             "startlinecolor": "#2a3f5f"
            },
            "baxis": {
             "endlinecolor": "#2a3f5f",
             "gridcolor": "white",
             "linecolor": "white",
             "minorgridcolor": "white",
             "startlinecolor": "#2a3f5f"
            },
            "type": "carpet"
           }
          ],
          "choropleth": [
           {
            "colorbar": {
             "outlinewidth": 0,
             "ticks": ""
            },
            "type": "choropleth"
           }
          ],
          "contour": [
           {
            "colorbar": {
             "outlinewidth": 0,
             "ticks": ""
            },
            "colorscale": [
             [
              0,
              "#0d0887"
             ],
             [
              0.1111111111111111,
              "#46039f"
             ],
             [
              0.2222222222222222,
              "#7201a8"
             ],
             [
              0.3333333333333333,
              "#9c179e"
             ],
             [
              0.4444444444444444,
              "#bd3786"
             ],
             [
              0.5555555555555556,
              "#d8576b"
             ],
             [
              0.6666666666666666,
              "#ed7953"
             ],
             [
              0.7777777777777778,
              "#fb9f3a"
             ],
             [
              0.8888888888888888,
              "#fdca26"
             ],
             [
              1,
              "#f0f921"
             ]
            ],
            "type": "contour"
           }
          ],
          "contourcarpet": [
           {
            "colorbar": {
             "outlinewidth": 0,
             "ticks": ""
            },
            "type": "contourcarpet"
           }
          ],
          "heatmap": [
           {
            "colorbar": {
             "outlinewidth": 0,
             "ticks": ""
            },
            "colorscale": [
             [
              0,
              "#0d0887"
             ],
             [
              0.1111111111111111,
              "#46039f"
             ],
             [
              0.2222222222222222,
              "#7201a8"
             ],
             [
              0.3333333333333333,
              "#9c179e"
             ],
             [
              0.4444444444444444,
              "#bd3786"
             ],
             [
              0.5555555555555556,
              "#d8576b"
             ],
             [
              0.6666666666666666,
              "#ed7953"
             ],
             [
              0.7777777777777778,
              "#fb9f3a"
             ],
             [
              0.8888888888888888,
              "#fdca26"
             ],
             [
              1,
              "#f0f921"
             ]
            ],
            "type": "heatmap"
           }
          ],
          "histogram": [
           {
            "marker": {
             "pattern": {
              "fillmode": "overlay",
              "size": 10,
              "solidity": 0.2
             }
            },
            "type": "histogram"
           }
          ],
          "histogram2d": [
           {
            "colorbar": {
             "outlinewidth": 0,
             "ticks": ""
            },
            "colorscale": [
             [
              0,
              "#0d0887"
             ],
             [
              0.1111111111111111,
              "#46039f"
             ],
             [
              0.2222222222222222,
              "#7201a8"
             ],
             [
              0.3333333333333333,
              "#9c179e"
             ],
             [
              0.4444444444444444,
              "#bd3786"
             ],
             [
              0.5555555555555556,
              "#d8576b"
             ],
             [
              0.6666666666666666,
              "#ed7953"
             ],
             [
              0.7777777777777778,
              "#fb9f3a"
             ],
             [
              0.8888888888888888,
              "#fdca26"
             ],
             [
              1,
              "#f0f921"
             ]
            ],
            "type": "histogram2d"
           }
          ],
          "histogram2dcontour": [
           {
            "colorbar": {
             "outlinewidth": 0,
             "ticks": ""
            },
            "colorscale": [
             [
              0,
              "#0d0887"
             ],
             [
              0.1111111111111111,
              "#46039f"
             ],
             [
              0.2222222222222222,
              "#7201a8"
             ],
             [
              0.3333333333333333,
              "#9c179e"
             ],
             [
              0.4444444444444444,
              "#bd3786"
             ],
             [
              0.5555555555555556,
              "#d8576b"
             ],
             [
              0.6666666666666666,
              "#ed7953"
             ],
             [
              0.7777777777777778,
              "#fb9f3a"
             ],
             [
              0.8888888888888888,
              "#fdca26"
             ],
             [
              1,
              "#f0f921"
             ]
            ],
            "type": "histogram2dcontour"
           }
          ],
          "mesh3d": [
           {
            "colorbar": {
             "outlinewidth": 0,
             "ticks": ""
            },
            "type": "mesh3d"
           }
          ],
          "parcoords": [
           {
            "line": {
             "colorbar": {
              "outlinewidth": 0,
              "ticks": ""
             }
            },
            "type": "parcoords"
           }
          ],
          "pie": [
           {
            "automargin": true,
            "type": "pie"
           }
          ],
          "scatter": [
           {
            "fillpattern": {
             "fillmode": "overlay",
             "size": 10,
             "solidity": 0.2
            },
            "type": "scatter"
           }
          ],
          "scatter3d": [
           {
            "line": {
             "colorbar": {
              "outlinewidth": 0,
              "ticks": ""
             }
            },
            "marker": {
             "colorbar": {
              "outlinewidth": 0,
              "ticks": ""
             }
            },
            "type": "scatter3d"
           }
          ],
          "scattercarpet": [
           {
            "marker": {
             "colorbar": {
              "outlinewidth": 0,
              "ticks": ""
             }
            },
            "type": "scattercarpet"
           }
          ],
          "scattergeo": [
           {
            "marker": {
             "colorbar": {
              "outlinewidth": 0,
              "ticks": ""
             }
            },
            "type": "scattergeo"
           }
          ],
          "scattergl": [
           {
            "marker": {
             "colorbar": {
              "outlinewidth": 0,
              "ticks": ""
             }
            },
            "type": "scattergl"
           }
          ],
          "scattermap": [
           {
            "marker": {
             "colorbar": {
              "outlinewidth": 0,
              "ticks": ""
             }
            },
            "type": "scattermap"
           }
          ],
          "scattermapbox": [
           {
            "marker": {
             "colorbar": {
              "outlinewidth": 0,
              "ticks": ""
             }
            },
            "type": "scattermapbox"
           }
          ],
          "scatterpolar": [
           {
            "marker": {
             "colorbar": {
              "outlinewidth": 0,
              "ticks": ""
             }
            },
            "type": "scatterpolar"
           }
          ],
          "scatterpolargl": [
           {
            "marker": {
             "colorbar": {
              "outlinewidth": 0,
              "ticks": ""
             }
            },
            "type": "scatterpolargl"
           }
          ],
          "scatterternary": [
           {
            "marker": {
             "colorbar": {
              "outlinewidth": 0,
              "ticks": ""
             }
            },
            "type": "scatterternary"
           }
          ],
          "surface": [
           {
            "colorbar": {
             "outlinewidth": 0,
             "ticks": ""
            },
            "colorscale": [
             [
              0,
              "#0d0887"
             ],
             [
              0.1111111111111111,
              "#46039f"
             ],
             [
              0.2222222222222222,
              "#7201a8"
             ],
             [
              0.3333333333333333,
              "#9c179e"
             ],
             [
              0.4444444444444444,
              "#bd3786"
             ],
             [
              0.5555555555555556,
              "#d8576b"
             ],
             [
              0.6666666666666666,
              "#ed7953"
             ],
             [
              0.7777777777777778,
              "#fb9f3a"
             ],
             [
              0.8888888888888888,
              "#fdca26"
             ],
             [
              1,
              "#f0f921"
             ]
            ],
            "type": "surface"
           }
          ],
          "table": [
           {
            "cells": {
             "fill": {
              "color": "#EBF0F8"
             },
             "line": {
              "color": "white"
             }
            },
            "header": {
             "fill": {
              "color": "#C8D4E3"
             },
             "line": {
              "color": "white"
             }
            },
            "type": "table"
           }
          ]
         },
         "layout": {
          "annotationdefaults": {
           "arrowcolor": "#2a3f5f",
           "arrowhead": 0,
           "arrowwidth": 1
          },
          "autotypenumbers": "strict",
          "coloraxis": {
           "colorbar": {
            "outlinewidth": 0,
            "ticks": ""
           }
          },
          "colorscale": {
           "diverging": [
            [
             0,
             "#8e0152"
            ],
            [
             0.1,
             "#c51b7d"
            ],
            [
             0.2,
             "#de77ae"
            ],
            [
             0.3,
             "#f1b6da"
            ],
            [
             0.4,
             "#fde0ef"
            ],
            [
             0.5,
             "#f7f7f7"
            ],
            [
             0.6,
             "#e6f5d0"
            ],
            [
             0.7,
             "#b8e186"
            ],
            [
             0.8,
             "#7fbc41"
            ],
            [
             0.9,
             "#4d9221"
            ],
            [
             1,
             "#276419"
            ]
           ],
           "sequential": [
            [
             0,
             "#0d0887"
            ],
            [
             0.1111111111111111,
             "#46039f"
            ],
            [
             0.2222222222222222,
             "#7201a8"
            ],
            [
             0.3333333333333333,
             "#9c179e"
            ],
            [
             0.4444444444444444,
             "#bd3786"
            ],
            [
             0.5555555555555556,
             "#d8576b"
            ],
            [
             0.6666666666666666,
             "#ed7953"
            ],
            [
             0.7777777777777778,
             "#fb9f3a"
            ],
            [
             0.8888888888888888,
             "#fdca26"
            ],
            [
             1,
             "#f0f921"
            ]
           ],
           "sequentialminus": [
            [
             0,
             "#0d0887"
            ],
            [
             0.1111111111111111,
             "#46039f"
            ],
            [
             0.2222222222222222,
             "#7201a8"
            ],
            [
             0.3333333333333333,
             "#9c179e"
            ],
            [
             0.4444444444444444,
             "#bd3786"
            ],
            [
             0.5555555555555556,
             "#d8576b"
            ],
            [
             0.6666666666666666,
             "#ed7953"
            ],
            [
             0.7777777777777778,
             "#fb9f3a"
            ],
            [
             0.8888888888888888,
             "#fdca26"
            ],
            [
             1,
             "#f0f921"
            ]
           ]
          },
          "colorway": [
           "#636efa",
           "#EF553B",
           "#00cc96",
           "#ab63fa",
           "#FFA15A",
           "#19d3f3",
           "#FF6692",
           "#B6E880",
           "#FF97FF",
           "#FECB52"
          ],
          "font": {
           "color": "#2a3f5f"
          },
          "geo": {
           "bgcolor": "white",
           "lakecolor": "white",
           "landcolor": "#E5ECF6",
           "showlakes": true,
           "showland": true,
           "subunitcolor": "white"
          },
          "hoverlabel": {
           "align": "left"
          },
          "hovermode": "closest",
          "mapbox": {
           "style": "light"
          },
          "paper_bgcolor": "white",
          "plot_bgcolor": "#E5ECF6",
          "polar": {
           "angularaxis": {
            "gridcolor": "white",
            "linecolor": "white",
            "ticks": ""
           },
           "bgcolor": "#E5ECF6",
           "radialaxis": {
            "gridcolor": "white",
            "linecolor": "white",
            "ticks": ""
           }
          },
          "scene": {
           "xaxis": {
            "backgroundcolor": "#E5ECF6",
            "gridcolor": "white",
            "gridwidth": 2,
            "linecolor": "white",
            "showbackground": true,
            "ticks": "",
            "zerolinecolor": "white"
           },
           "yaxis": {
            "backgroundcolor": "#E5ECF6",
            "gridcolor": "white",
            "gridwidth": 2,
            "linecolor": "white",
            "showbackground": true,
            "ticks": "",
            "zerolinecolor": "white"
           },
           "zaxis": {
            "backgroundcolor": "#E5ECF6",
            "gridcolor": "white",
            "gridwidth": 2,
            "linecolor": "white",
            "showbackground": true,
            "ticks": "",
            "zerolinecolor": "white"
           }
          },
          "shapedefaults": {
           "line": {
            "color": "#2a3f5f"
           }
          },
          "ternary": {
           "aaxis": {
            "gridcolor": "white",
            "linecolor": "white",
            "ticks": ""
           },
           "baxis": {
            "gridcolor": "white",
            "linecolor": "white",
            "ticks": ""
           },
           "bgcolor": "#E5ECF6",
           "caxis": {
            "gridcolor": "white",
            "linecolor": "white",
            "ticks": ""
           }
          },
          "title": {
           "x": 0.05
          },
          "xaxis": {
           "automargin": true,
           "gridcolor": "white",
           "linecolor": "white",
           "ticks": "",
           "title": {
            "standoff": 15
           },
           "zerolinecolor": "white",
           "zerolinewidth": 2
          },
          "yaxis": {
           "automargin": true,
           "gridcolor": "white",
           "linecolor": "white",
           "ticks": "",
           "title": {
            "standoff": 15
           },
           "zerolinecolor": "white",
           "zerolinewidth": 2
          }
         }
        },
        "title": {
         "text": "Distribution of Availability Probabilities (7 picks until next turn)"
        },
        "xaxis": {
         "title": {
          "text": "Availability Probability"
         }
        },
        "yaxis": {
         "title": {
          "text": "Number of Players"
         }
        }
       }
      }
     },
     "metadata": {},
     "output_type": "display_data"
    },
    {
     "name": "stdout",
     "output_type": "stream",
     "text": [
      "\n",
      "📊 Additional Analysis:\n",
      "- Ranking comparison shows agreement/disagreement between sources\n",
      "- Probability distribution reveals how spread out availability estimates are\n",
      "- Points far from diagonal line indicate ranking source disagreement\n"
     ]
    }
   ],
   "source": [
    "def compare_ranking_sources(df, top_n=10):\n",
    "    \"\"\"Compare ESPN vs ADP rankings for top players\"\"\"\n",
    "    top_players = df.head(top_n)\n",
    "    \n",
    "    fig = go.Figure()\n",
    "    \n",
    "    fig.add_trace(go.Scatter(\n",
    "        x=top_players['espn_rank'],\n",
    "        y=top_players['adp_rank'],\n",
    "        mode='markers+text',\n",
    "        text=top_players['player_name'],\n",
    "        textposition=\"top center\",\n",
    "        marker=dict(size=10, color='blue'),\n",
    "        name='Players'\n",
    "    ))\n",
    "    \n",
    "    # Add diagonal line for perfect correlation\n",
    "    max_rank = max(top_players['espn_rank'].max(), top_players['adp_rank'].max())\n",
    "    fig.add_trace(go.Scatter(\n",
    "        x=[1, max_rank],\n",
    "        y=[1, max_rank],\n",
    "        mode='lines',\n",
    "        line=dict(dash='dash', color='red'),\n",
    "        name='Perfect Correlation'\n",
    "    ))\n",
    "    \n",
    "    fig.update_layout(\n",
    "        title='ESPN vs ADP Rankings Comparison',\n",
    "        xaxis_title='ESPN Rank',\n",
    "        yaxis_title='ADP Rank',\n",
    "        height=600,\n",
    "        width=600\n",
    "    )\n",
    "    \n",
    "    return fig\n",
    "\n",
    "def plot_probability_distribution(df, picks_until=7):\n",
    "    \"\"\"Show distribution of availability probabilities across all players\"\"\"\n",
    "    probs = []\n",
    "    for _, player in df.iterrows():\n",
    "        prob_gone = probability_gone_before_next_pick(df, player['player_name'], picks_until)\n",
    "        probs.append(1 - prob_gone)\n",
    "    \n",
    "    fig = go.Figure(data=[go.Histogram(\n",
    "        x=probs,\n",
    "        nbinsx=20,\n",
    "        marker_color='lightblue',\n",
    "        opacity=0.7\n",
    "    )])\n",
    "    \n",
    "    fig.update_layout(\n",
    "        title=f'Distribution of Availability Probabilities ({picks_until} picks until next turn)',\n",
    "        xaxis_title='Availability Probability',\n",
    "        yaxis_title='Number of Players',\n",
    "        height=400\n",
    "    )\n",
    "    \n",
    "    return fig\n",
    "\n",
    "# Create comparison plots\n",
    "ranking_comparison = compare_ranking_sources(ranking_df)\n",
    "ranking_comparison.show()\n",
    "\n",
    "prob_distribution = plot_probability_distribution(ranking_df)\n",
    "prob_distribution.show()\n",
    "\n",
    "print(\"\\n📊 Additional Analysis:\")\n",
    "print(\"- Ranking comparison shows agreement/disagreement between sources\")\n",
    "print(\"- Probability distribution reveals how spread out availability estimates are\")\n",
    "print(\"- Points far from diagonal line indicate ranking source disagreement\")"
   ]
  },
  {
   "cell_type": "markdown",
   "metadata": {},
   "source": [
    "## Summary\n",
    "\n",
    "This notebook provides comprehensive statistical visualizations for understanding and validating the fantasy football draft probability system:\n",
    "\n",
    "1. **Temperature Analysis**: Validates softmax parameter choice\n",
    "2. **Weighting Impact**: Shows effect of 80/20 ESPN/ADP blend\n",
    "3. **Survival Waterfall**: Illustrates discrete probability calculation\n",
    "4. **Distribution Comparison**: Validates exponential vs normal approach\n",
    "5. **Timeline Evolution**: Shows probability changes through draft\n",
    "6. **Decision Zones**: Strategic guidance visualization\n",
    "7. **Sensitivity Analysis**: Parameter robustness testing\n",
    "8. **Comparative Analysis**: Ranking source validation\n",
    "\n",
    "These visualizations help validate the probability system and provide insights for draft strategy optimization."
   ]
  }
 ],
 "metadata": {
  "kernelspec": {
   "display_name": "venv",
   "language": "python",
   "name": "python3"
  },
  "language_info": {
   "codemirror_mode": {
    "name": "ipython",
    "version": 3
   },
   "file_extension": ".py",
   "mimetype": "text/x-python",
   "name": "python",
   "nbconvert_exporter": "python",
   "pygments_lexer": "ipython3",
   "version": "3.13.6"
  }
 },
 "nbformat": 4,
 "nbformat_minor": 4
}
