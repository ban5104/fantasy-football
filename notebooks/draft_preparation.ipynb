{
 "cells": [
  {
   "cell_type": "markdown",
   "metadata": {},
   "source": [
    "# 🎯 Fantasy Football Draft Preparation\n",
    "\n",
    "Strategic analysis and draft prep tools to maximize your draft performance.\n",
    "\n",
    "## Features:\n",
    "- 📊 Positional Value Analysis\n",
    "- 🎪 Tier-Based Rankings \n",
    "- 🔄 Mock Draft Scenarios\n",
    "- 📈 ADP vs Projections\n",
    "- 🎯 Draft Strategy Optimization\n",
    "- ⚠️ Sleeper & Bust Identification"
   ]
  },
  {
   "cell_type": "code",
   "execution_count": 8,
   "metadata": {},
   "outputs": [
    {
     "name": "stdout",
     "output_type": "stream",
     "text": [
      "🏈 Draft Preparation Suite Loaded\n",
      "📊 50 players analyzed\n",
      "🏆 Fantasy 24-25 - 14 teams\n"
     ]
    }
   ],
   "source": [
    "import pandas as pd\n",
    "import numpy as np\n",
    "import yaml\n",
    "import plotly.express as px\n",
    "import plotly.graph_objects as go\n",
    "from plotly.subplots import make_subplots\n",
    "import ipywidgets as widgets\n",
    "from IPython.display import display, HTML, clear_output\n",
    "import seaborn as sns\n",
    "import matplotlib.pyplot as plt\n",
    "from sklearn.cluster import KMeans\n",
    "from scipy.stats import zscore\n",
    "import warnings\n",
    "warnings.filterwarnings('ignore')\n",
    "\n",
    "# Load data\n",
    "with open('config/league-config.yaml', 'r') as f:\n",
    "    config = yaml.safe_load(f)\n",
    "\n",
    "cheat_sheet = pd.read_csv('draft_cheat_sheet.csv')\n",
    "rankings = pd.read_csv('data/rankings_20250814.csv')\n",
    "\n",
    "print(\"🏈 Draft Preparation Suite Loaded\")\n",
    "print(f\"📊 {len(cheat_sheet)} players analyzed\")\n",
    "print(f\"🏆 {config['league_name']} - {config['basic_settings']['teams']} teams\")"
   ]
  },
  {
   "cell_type": "code",
   "execution_count": 9,
   "metadata": {},
   "outputs": [
    {
     "name": "stdout",
     "output_type": "stream",
     "text": [
      "🎪 POSITIONAL TIER ANALYSIS\n",
      "\n",
      "\n",
      "QB TIERS:\n",
      "  Tier 1: 1 players (avg VBD: 91.7) - led by Lamar Jackson\n",
      "  Tier 2: 1 players (avg VBD: 88.2) - led by Josh Allen\n",
      "  Tier 3: 2 players (avg VBD: 68.0) - led by Jalen Hurts\n",
      "  Tier 4: 1 players (avg VBD: 55.2) - led by Joe Burrow\n",
      "  Tier 5: 1 players (avg VBD: 35.3) - led by Patrick Mahomes\n",
      "  Tier 6: 2 players (avg VBD: 29.7) - led by Kyler Murray\n",
      "\n",
      "RB TIERS:\n",
      "  Tier 1: 3 players (avg VBD: 127.9) - led by Saquon Barkley\n",
      "  Tier 2: 3 players (avg VBD: 95.1) - led by Christian McCaffrey\n",
      "  Tier 3: 2 players (avg VBD: 77.9) - led by Josh Jacobs\n",
      "  Tier 4: 4 players (avg VBD: 64.5) - led by Kyren Williams\n",
      "  Tier 5: 4 players (avg VBD: 46.9) - led by James Cook\n",
      "  Tier 6: 3 players (avg VBD: 36.8) - led by Kenneth Walker III\n",
      "\n",
      "WR TIERS:\n",
      "  Tier 1: 1 players (avg VBD: 120.6) - led by Ja'Marr Chase\n",
      "  Tier 2: 1 players (avg VBD: 88.3) - led by Justin Jefferson\n",
      "  Tier 3: 2 players (avg VBD: 71.1) - led by CeeDee Lamb\n",
      "  Tier 4: 4 players (avg VBD: 56.3) - led by Amon-Ra St. Brown\n",
      "  Tier 5: 2 players (avg VBD: 41.5) - led by Ladd McConkey\n",
      "  Tier 6: 6 players (avg VBD: 33.2) - led by Tyreek Hill\n",
      "\n",
      "TE TIERS:\n",
      "  Tier 1: 1 players (avg VBD: 85.4) - led by Brock Bowers\n",
      "  Tier 2: 1 players (avg VBD: 71.9) - led by Trey McBride\n",
      "  Tier 3: 1 players (avg VBD: 69.0) - led by George Kittle\n",
      "  Tier 4: 1 players (avg VBD: 38.4) - led by Sam LaPorta\n",
      "  Tier 5: 2 players (avg VBD: 35.0) - led by Travis Kelce\n",
      "  Tier 6: 1 players (avg VBD: 33.5) - led by T.J. Hockenson\n"
     ]
    }
   ],
   "source": [
    "# Positional Value Analysis\n",
    "def analyze_positional_value():\n",
    "    \"\"\"Analyze value by position and create tiers\"\"\"\n",
    "    \n",
    "    # Calculate positional rankings and tiers\n",
    "    position_analysis = {}\n",
    "    \n",
    "    for position in ['QB', 'RB', 'WR', 'TE']:\n",
    "        pos_players = cheat_sheet[cheat_sheet['Position'] == position].copy()\n",
    "        pos_players = pos_players.sort_values('Custom_VBD', ascending=False)\n",
    "        \n",
    "        # Create tier breaks using k-means clustering on VBD\n",
    "        if len(pos_players) > 1:\n",
    "            n_tiers = min(6, len(pos_players))  # Max 6 tiers\n",
    "            kmeans = KMeans(n_clusters=n_tiers, random_state=42, n_init=10)\n",
    "            pos_players['Tier'] = kmeans.fit_predict(pos_players[['Custom_VBD']])\n",
    "            \n",
    "            # Sort tiers by VBD (highest VBD = Tier 1)\n",
    "            tier_means = pos_players.groupby('Tier')['Custom_VBD'].mean().sort_values(ascending=False)\n",
    "            tier_mapping = {old_tier: new_tier + 1 for new_tier, old_tier in enumerate(tier_means.index)}\n",
    "            pos_players['Tier'] = pos_players['Tier'].map(tier_mapping)\n",
    "        else:\n",
    "            pos_players['Tier'] = 1\n",
    "            \n",
    "        pos_players['Pos_Rank'] = range(1, len(pos_players) + 1)\n",
    "        position_analysis[position] = pos_players\n",
    "    \n",
    "    return position_analysis\n",
    "\n",
    "position_data = analyze_positional_value()\n",
    "\n",
    "# Display tier analysis\n",
    "print(\"🎪 POSITIONAL TIER ANALYSIS\\n\")\n",
    "for pos, data in position_data.items():\n",
    "    print(f\"\\n{pos} TIERS:\")\n",
    "    tier_summary = data.groupby('Tier').agg({\n",
    "        'Player': 'count',\n",
    "        'Custom_VBD': ['mean', 'min', 'max']\n",
    "    }).round(1)\n",
    "    \n",
    "    for tier in sorted(data['Tier'].unique()):\n",
    "        tier_players = data[data['Tier'] == tier]\n",
    "        avg_vbd = tier_players['Custom_VBD'].mean()\n",
    "        count = len(tier_players)\n",
    "        top_player = tier_players.iloc[0]['Player']\n",
    "        print(f\"  Tier {tier}: {count} players (avg VBD: {avg_vbd:.1f}) - led by {top_player}\")"
   ]
  },
  {
   "cell_type": "code",
   "execution_count": 10,
   "metadata": {},
   "outputs": [
    {
     "data": {
      "application/vnd.plotly.v1+json": {
       "config": {
        "plotlyServerURL": "https://plot.ly"
       },
       "data": [
        {
         "marker": {
          "color": [
           "#FF6B6B",
           "#FF6B6B",
           "#FF6B6B",
           "#FF6B6B"
          ]
         },
         "text": [
          "1.75<br>HIGH",
          "2.21<br>HIGH",
          "2.62<br>HIGH",
          "4.00<br>HIGH"
         ],
         "textposition": "auto",
         "type": "bar",
         "x": [
          "QB",
          "RB",
          "WR",
          "TE"
         ],
         "y": {
          "bdata": "AAAAAAAA/D/zGsprKK8BQAAAAAAAAAVAAAAAAAAAEEA=",
          "dtype": "f8"
         }
        }
       ],
       "layout": {
        "height": 400,
        "template": {
         "data": {
          "bar": [
           {
            "error_x": {
             "color": "#2a3f5f"
            },
            "error_y": {
             "color": "#2a3f5f"
            },
            "marker": {
             "line": {
              "color": "#E5ECF6",
              "width": 0.5
             },
             "pattern": {
              "fillmode": "overlay",
              "size": 10,
              "solidity": 0.2
             }
            },
            "type": "bar"
           }
          ],
          "barpolar": [
           {
            "marker": {
             "line": {
              "color": "#E5ECF6",
              "width": 0.5
             },
             "pattern": {
              "fillmode": "overlay",
              "size": 10,
              "solidity": 0.2
             }
            },
            "type": "barpolar"
           }
          ],
          "carpet": [
           {
            "aaxis": {
             "endlinecolor": "#2a3f5f",
             "gridcolor": "white",
             "linecolor": "white",
             "minorgridcolor": "white",
             "startlinecolor": "#2a3f5f"
            },
            "baxis": {
             "endlinecolor": "#2a3f5f",
             "gridcolor": "white",
             "linecolor": "white",
             "minorgridcolor": "white",
             "startlinecolor": "#2a3f5f"
            },
            "type": "carpet"
           }
          ],
          "choropleth": [
           {
            "colorbar": {
             "outlinewidth": 0,
             "ticks": ""
            },
            "type": "choropleth"
           }
          ],
          "contour": [
           {
            "colorbar": {
             "outlinewidth": 0,
             "ticks": ""
            },
            "colorscale": [
             [
              0,
              "#0d0887"
             ],
             [
              0.1111111111111111,
              "#46039f"
             ],
             [
              0.2222222222222222,
              "#7201a8"
             ],
             [
              0.3333333333333333,
              "#9c179e"
             ],
             [
              0.4444444444444444,
              "#bd3786"
             ],
             [
              0.5555555555555556,
              "#d8576b"
             ],
             [
              0.6666666666666666,
              "#ed7953"
             ],
             [
              0.7777777777777778,
              "#fb9f3a"
             ],
             [
              0.8888888888888888,
              "#fdca26"
             ],
             [
              1,
              "#f0f921"
             ]
            ],
            "type": "contour"
           }
          ],
          "contourcarpet": [
           {
            "colorbar": {
             "outlinewidth": 0,
             "ticks": ""
            },
            "type": "contourcarpet"
           }
          ],
          "heatmap": [
           {
            "colorbar": {
             "outlinewidth": 0,
             "ticks": ""
            },
            "colorscale": [
             [
              0,
              "#0d0887"
             ],
             [
              0.1111111111111111,
              "#46039f"
             ],
             [
              0.2222222222222222,
              "#7201a8"
             ],
             [
              0.3333333333333333,
              "#9c179e"
             ],
             [
              0.4444444444444444,
              "#bd3786"
             ],
             [
              0.5555555555555556,
              "#d8576b"
             ],
             [
              0.6666666666666666,
              "#ed7953"
             ],
             [
              0.7777777777777778,
              "#fb9f3a"
             ],
             [
              0.8888888888888888,
              "#fdca26"
             ],
             [
              1,
              "#f0f921"
             ]
            ],
            "type": "heatmap"
           }
          ],
          "histogram": [
           {
            "marker": {
             "pattern": {
              "fillmode": "overlay",
              "size": 10,
              "solidity": 0.2
             }
            },
            "type": "histogram"
           }
          ],
          "histogram2d": [
           {
            "colorbar": {
             "outlinewidth": 0,
             "ticks": ""
            },
            "colorscale": [
             [
              0,
              "#0d0887"
             ],
             [
              0.1111111111111111,
              "#46039f"
             ],
             [
              0.2222222222222222,
              "#7201a8"
             ],
             [
              0.3333333333333333,
              "#9c179e"
             ],
             [
              0.4444444444444444,
              "#bd3786"
             ],
             [
              0.5555555555555556,
              "#d8576b"
             ],
             [
              0.6666666666666666,
              "#ed7953"
             ],
             [
              0.7777777777777778,
              "#fb9f3a"
             ],
             [
              0.8888888888888888,
              "#fdca26"
             ],
             [
              1,
              "#f0f921"
             ]
            ],
            "type": "histogram2d"
           }
          ],
          "histogram2dcontour": [
           {
            "colorbar": {
             "outlinewidth": 0,
             "ticks": ""
            },
            "colorscale": [
             [
              0,
              "#0d0887"
             ],
             [
              0.1111111111111111,
              "#46039f"
             ],
             [
              0.2222222222222222,
              "#7201a8"
             ],
             [
              0.3333333333333333,
              "#9c179e"
             ],
             [
              0.4444444444444444,
              "#bd3786"
             ],
             [
              0.5555555555555556,
              "#d8576b"
             ],
             [
              0.6666666666666666,
              "#ed7953"
             ],
             [
              0.7777777777777778,
              "#fb9f3a"
             ],
             [
              0.8888888888888888,
              "#fdca26"
             ],
             [
              1,
              "#f0f921"
             ]
            ],
            "type": "histogram2dcontour"
           }
          ],
          "mesh3d": [
           {
            "colorbar": {
             "outlinewidth": 0,
             "ticks": ""
            },
            "type": "mesh3d"
           }
          ],
          "parcoords": [
           {
            "line": {
             "colorbar": {
              "outlinewidth": 0,
              "ticks": ""
             }
            },
            "type": "parcoords"
           }
          ],
          "pie": [
           {
            "automargin": true,
            "type": "pie"
           }
          ],
          "scatter": [
           {
            "fillpattern": {
             "fillmode": "overlay",
             "size": 10,
             "solidity": 0.2
            },
            "type": "scatter"
           }
          ],
          "scatter3d": [
           {
            "line": {
             "colorbar": {
              "outlinewidth": 0,
              "ticks": ""
             }
            },
            "marker": {
             "colorbar": {
              "outlinewidth": 0,
              "ticks": ""
             }
            },
            "type": "scatter3d"
           }
          ],
          "scattercarpet": [
           {
            "marker": {
             "colorbar": {
              "outlinewidth": 0,
              "ticks": ""
             }
            },
            "type": "scattercarpet"
           }
          ],
          "scattergeo": [
           {
            "marker": {
             "colorbar": {
              "outlinewidth": 0,
              "ticks": ""
             }
            },
            "type": "scattergeo"
           }
          ],
          "scattergl": [
           {
            "marker": {
             "colorbar": {
              "outlinewidth": 0,
              "ticks": ""
             }
            },
            "type": "scattergl"
           }
          ],
          "scattermap": [
           {
            "marker": {
             "colorbar": {
              "outlinewidth": 0,
              "ticks": ""
             }
            },
            "type": "scattermap"
           }
          ],
          "scattermapbox": [
           {
            "marker": {
             "colorbar": {
              "outlinewidth": 0,
              "ticks": ""
             }
            },
            "type": "scattermapbox"
           }
          ],
          "scatterpolar": [
           {
            "marker": {
             "colorbar": {
              "outlinewidth": 0,
              "ticks": ""
             }
            },
            "type": "scatterpolar"
           }
          ],
          "scatterpolargl": [
           {
            "marker": {
             "colorbar": {
              "outlinewidth": 0,
              "ticks": ""
             }
            },
            "type": "scatterpolargl"
           }
          ],
          "scatterternary": [
           {
            "marker": {
             "colorbar": {
              "outlinewidth": 0,
              "ticks": ""
             }
            },
            "type": "scatterternary"
           }
          ],
          "surface": [
           {
            "colorbar": {
             "outlinewidth": 0,
             "ticks": ""
            },
            "colorscale": [
             [
              0,
              "#0d0887"
             ],
             [
              0.1111111111111111,
              "#46039f"
             ],
             [
              0.2222222222222222,
              "#7201a8"
             ],
             [
              0.3333333333333333,
              "#9c179e"
             ],
             [
              0.4444444444444444,
              "#bd3786"
             ],
             [
              0.5555555555555556,
              "#d8576b"
             ],
             [
              0.6666666666666666,
              "#ed7953"
             ],
             [
              0.7777777777777778,
              "#fb9f3a"
             ],
             [
              0.8888888888888888,
              "#fdca26"
             ],
             [
              1,
              "#f0f921"
             ]
            ],
            "type": "surface"
           }
          ],
          "table": [
           {
            "cells": {
             "fill": {
              "color": "#EBF0F8"
             },
             "line": {
              "color": "white"
             }
            },
            "header": {
             "fill": {
              "color": "#C8D4E3"
             },
             "line": {
              "color": "white"
             }
            },
            "type": "table"
           }
          ]
         },
         "layout": {
          "annotationdefaults": {
           "arrowcolor": "#2a3f5f",
           "arrowhead": 0,
           "arrowwidth": 1
          },
          "autotypenumbers": "strict",
          "coloraxis": {
           "colorbar": {
            "outlinewidth": 0,
            "ticks": ""
           }
          },
          "colorscale": {
           "diverging": [
            [
             0,
             "#8e0152"
            ],
            [
             0.1,
             "#c51b7d"
            ],
            [
             0.2,
             "#de77ae"
            ],
            [
             0.3,
             "#f1b6da"
            ],
            [
             0.4,
             "#fde0ef"
            ],
            [
             0.5,
             "#f7f7f7"
            ],
            [
             0.6,
             "#e6f5d0"
            ],
            [
             0.7,
             "#b8e186"
            ],
            [
             0.8,
             "#7fbc41"
            ],
            [
             0.9,
             "#4d9221"
            ],
            [
             1,
             "#276419"
            ]
           ],
           "sequential": [
            [
             0,
             "#0d0887"
            ],
            [
             0.1111111111111111,
             "#46039f"
            ],
            [
             0.2222222222222222,
             "#7201a8"
            ],
            [
             0.3333333333333333,
             "#9c179e"
            ],
            [
             0.4444444444444444,
             "#bd3786"
            ],
            [
             0.5555555555555556,
             "#d8576b"
            ],
            [
             0.6666666666666666,
             "#ed7953"
            ],
            [
             0.7777777777777778,
             "#fb9f3a"
            ],
            [
             0.8888888888888888,
             "#fdca26"
            ],
            [
             1,
             "#f0f921"
            ]
           ],
           "sequentialminus": [
            [
             0,
             "#0d0887"
            ],
            [
             0.1111111111111111,
             "#46039f"
            ],
            [
             0.2222222222222222,
             "#7201a8"
            ],
            [
             0.3333333333333333,
             "#9c179e"
            ],
            [
             0.4444444444444444,
             "#bd3786"
            ],
            [
             0.5555555555555556,
             "#d8576b"
            ],
            [
             0.6666666666666666,
             "#ed7953"
            ],
            [
             0.7777777777777778,
             "#fb9f3a"
            ],
            [
             0.8888888888888888,
             "#fdca26"
            ],
            [
             1,
             "#f0f921"
            ]
           ]
          },
          "colorway": [
           "#636efa",
           "#EF553B",
           "#00cc96",
           "#ab63fa",
           "#FFA15A",
           "#19d3f3",
           "#FF6692",
           "#B6E880",
           "#FF97FF",
           "#FECB52"
          ],
          "font": {
           "color": "#2a3f5f"
          },
          "geo": {
           "bgcolor": "white",
           "lakecolor": "white",
           "landcolor": "#E5ECF6",
           "showlakes": true,
           "showland": true,
           "subunitcolor": "white"
          },
          "hoverlabel": {
           "align": "left"
          },
          "hovermode": "closest",
          "mapbox": {
           "style": "light"
          },
          "paper_bgcolor": "white",
          "plot_bgcolor": "#E5ECF6",
          "polar": {
           "angularaxis": {
            "gridcolor": "white",
            "linecolor": "white",
            "ticks": ""
           },
           "bgcolor": "#E5ECF6",
           "radialaxis": {
            "gridcolor": "white",
            "linecolor": "white",
            "ticks": ""
           }
          },
          "scene": {
           "xaxis": {
            "backgroundcolor": "#E5ECF6",
            "gridcolor": "white",
            "gridwidth": 2,
            "linecolor": "white",
            "showbackground": true,
            "ticks": "",
            "zerolinecolor": "white"
           },
           "yaxis": {
            "backgroundcolor": "#E5ECF6",
            "gridcolor": "white",
            "gridwidth": 2,
            "linecolor": "white",
            "showbackground": true,
            "ticks": "",
            "zerolinecolor": "white"
           },
           "zaxis": {
            "backgroundcolor": "#E5ECF6",
            "gridcolor": "white",
            "gridwidth": 2,
            "linecolor": "white",
            "showbackground": true,
            "ticks": "",
            "zerolinecolor": "white"
           }
          },
          "shapedefaults": {
           "line": {
            "color": "#2a3f5f"
           }
          },
          "ternary": {
           "aaxis": {
            "gridcolor": "white",
            "linecolor": "white",
            "ticks": ""
           },
           "baxis": {
            "gridcolor": "white",
            "linecolor": "white",
            "ticks": ""
           },
           "bgcolor": "#E5ECF6",
           "caxis": {
            "gridcolor": "white",
            "linecolor": "white",
            "ticks": ""
           }
          },
          "title": {
           "x": 0.05
          },
          "xaxis": {
           "automargin": true,
           "gridcolor": "white",
           "linecolor": "white",
           "ticks": "",
           "title": {
            "standoff": 15
           },
           "zerolinecolor": "white",
           "zerolinewidth": 2
          },
          "yaxis": {
           "automargin": true,
           "gridcolor": "white",
           "linecolor": "white",
           "ticks": "",
           "title": {
            "standoff": 15
           },
           "zerolinecolor": "white",
           "zerolinewidth": 2
          }
         }
        },
        "title": {
         "text": "🎯 Positional Scarcity Analysis"
        },
        "xaxis": {
         "title": {
          "text": "Position"
         }
        },
        "yaxis": {
         "title": {
          "text": "Scarcity Ratio (Needed/Available)"
         }
        }
       }
      }
     },
     "metadata": {},
     "output_type": "display_data"
    },
    {
     "name": "stdout",
     "output_type": "stream",
     "text": [
      "\n",
      "📊 SCARCITY SUMMARY:\n"
     ]
    },
    {
     "data": {
      "text/html": [
       "<table border=\"1\" class=\"dataframe table table-striped\">\n",
       "  <thead>\n",
       "    <tr style=\"text-align: right;\">\n",
       "      <th>Position</th>\n",
       "      <th>Starters_Needed</th>\n",
       "      <th>Total_Needed</th>\n",
       "      <th>Top_Available</th>\n",
       "      <th>Scarcity_Ratio</th>\n",
       "      <th>Urgency</th>\n",
       "    </tr>\n",
       "  </thead>\n",
       "  <tbody>\n",
       "    <tr>\n",
       "      <td>QB</td>\n",
       "      <td>14</td>\n",
       "      <td>14</td>\n",
       "      <td>8</td>\n",
       "      <td>1.750000</td>\n",
       "      <td>HIGH</td>\n",
       "    </tr>\n",
       "    <tr>\n",
       "      <td>RB</td>\n",
       "      <td>28</td>\n",
       "      <td>42</td>\n",
       "      <td>19</td>\n",
       "      <td>2.210526</td>\n",
       "      <td>HIGH</td>\n",
       "    </tr>\n",
       "    <tr>\n",
       "      <td>WR</td>\n",
       "      <td>28</td>\n",
       "      <td>42</td>\n",
       "      <td>16</td>\n",
       "      <td>2.625000</td>\n",
       "      <td>HIGH</td>\n",
       "    </tr>\n",
       "    <tr>\n",
       "      <td>TE</td>\n",
       "      <td>14</td>\n",
       "      <td>28</td>\n",
       "      <td>7</td>\n",
       "      <td>4.000000</td>\n",
       "      <td>HIGH</td>\n",
       "    </tr>\n",
       "  </tbody>\n",
       "</table>"
      ],
      "text/plain": [
       "<IPython.core.display.HTML object>"
      ]
     },
     "metadata": {},
     "output_type": "display_data"
    }
   ],
   "source": [
    "# Positional Scarcity Analysis\n",
    "def create_scarcity_analysis():\n",
    "    \"\"\"Analyze positional scarcity and draft urgency\"\"\"\n",
    "    \n",
    "    # Calculate players needed vs available\n",
    "    num_teams = config['basic_settings']['teams']\n",
    "    roster_slots = config['roster']['roster_slots']\n",
    "    \n",
    "    scarcity_data = []\n",
    "    \n",
    "    for pos in ['QB', 'RB', 'WR', 'TE']:\n",
    "        if pos in roster_slots:\n",
    "            # Required starters\n",
    "            starters_needed = roster_slots[pos] * num_teams\n",
    "            \n",
    "            # Add FLEX eligibility\n",
    "            if pos in ['RB', 'WR', 'TE']:\n",
    "                flex_spots = roster_slots.get('FLEX', 0) * num_teams\n",
    "                total_needed = starters_needed + flex_spots\n",
    "            else:\n",
    "                total_needed = starters_needed\n",
    "            \n",
    "            # Available players (using top 200 as \"draftable\")\n",
    "            pos_players = cheat_sheet[cheat_sheet['Position'] == pos]\n",
    "            top_available = len(pos_players[pos_players['Draft_Rank'] <= 200])\n",
    "            \n",
    "            scarcity_ratio = total_needed / max(top_available, 1)\n",
    "            \n",
    "            scarcity_data.append({\n",
    "                'Position': pos,\n",
    "                'Starters_Needed': starters_needed,\n",
    "                'Total_Needed': total_needed,\n",
    "                'Top_Available': top_available,\n",
    "                'Scarcity_Ratio': scarcity_ratio,\n",
    "                'Urgency': 'HIGH' if scarcity_ratio > 0.8 else 'MEDIUM' if scarcity_ratio > 0.5 else 'LOW'\n",
    "            })\n",
    "    \n",
    "    scarcity_df = pd.DataFrame(scarcity_data)\n",
    "    \n",
    "    # Visualization\n",
    "    fig = go.Figure()\n",
    "    \n",
    "    colors = {'HIGH': '#FF6B6B', 'MEDIUM': '#FFD93D', 'LOW': '#6BCF7F'}\n",
    "    \n",
    "    fig.add_trace(go.Bar(\n",
    "        x=scarcity_df['Position'],\n",
    "        y=scarcity_df['Scarcity_Ratio'],\n",
    "        marker_color=[colors[urgency] for urgency in scarcity_df['Urgency']],\n",
    "        text=[f\"{ratio:.2f}<br>{urgency}\" for ratio, urgency in \n",
    "              zip(scarcity_df['Scarcity_Ratio'], scarcity_df['Urgency'])],\n",
    "        textposition='auto'\n",
    "    ))\n",
    "    \n",
    "    fig.update_layout(\n",
    "        title=\"🎯 Positional Scarcity Analysis\",\n",
    "        xaxis_title=\"Position\",\n",
    "        yaxis_title=\"Scarcity Ratio (Needed/Available)\",\n",
    "        height=400\n",
    "    )\n",
    "    \n",
    "    fig.show()\n",
    "    \n",
    "    print(\"\\n📊 SCARCITY SUMMARY:\")\n",
    "    display(HTML(scarcity_df.to_html(index=False, classes='table table-striped')))\n",
    "    \n",
    "    return scarcity_df\n",
    "\n",
    "scarcity_analysis = create_scarcity_analysis()"
   ]
  },
  {
   "cell_type": "code",
   "execution_count": 11,
   "metadata": {},
   "outputs": [
    {
     "data": {
      "application/vnd.plotly.v1+json": {
       "config": {
        "plotlyServerURL": "https://plot.ly"
       },
       "data": [
        {
         "customdata": [
          [
           "Saquon Barkley",
           "RB",
           "PHI"
          ],
          [
           "Bijan Robinson",
           "RB",
           "ATL"
          ],
          [
           "Jahmyr Gibbs",
           "RB",
           "DET"
          ],
          [
           "Ja'Marr Chase",
           "WR",
           "CIN"
          ],
          [
           "Christian McCaffrey",
           "RB",
           "SF"
          ],
          [
           "Derrick Henry",
           "RB",
           "BAL"
          ],
          [
           "De'Von Achane",
           "RB",
           "MIA"
          ],
          [
           "Lamar Jackson",
           "QB",
           "BAL"
          ],
          [
           "Justin Jefferson",
           "WR",
           "MIN"
          ],
          [
           "Josh Allen",
           "QB",
           "BUF"
          ],
          [
           "Brock Bowers",
           "TE",
           "LV"
          ],
          [
           "Josh Jacobs",
           "RB",
           "GB"
          ],
          [
           "Ashton Jeanty",
           "RB",
           "LV"
          ],
          [
           "CeeDee Lamb",
           "WR",
           "DAL"
          ],
          [
           "Puka Nacua",
           "WR",
           "LAR"
          ],
          [
           "Amon-Ra St. Brown",
           "WR",
           "DET"
          ],
          [
           "Malik Nabers",
           "WR",
           "NYG"
          ]
         ],
         "hovertemplate": "Category=SLEEPER<br>Expert Consensus Ranking (ADP)=%{x}<br>Value Above Replacement=%{y}<br>Player=%{customdata[0]}<br>Position=%{customdata[1]}<br>Team=%{customdata[2]}<extra></extra>",
         "legendgroup": "SLEEPER",
         "marker": {
          "color": "#636efa",
          "size": 8,
          "symbol": "circle"
         },
         "mode": "markers",
         "name": "SLEEPER",
         "orientation": "v",
         "showlegend": true,
         "type": "scatter",
         "x": {
          "bdata": "AAAAAAAAEEAAAAAAAADwPwAAAAAAAAhAAAAAAAAAGEAAAAAAAAAqQAAAAAAAACxAAAAAAAAALkAAAAAAAAA7QAAAAAAAAABAAAAAAAAAOUAAAAAAAAAyQAAAAAAAADNAAAAAAAAAKEAAAAAAAAAUQAAAAAAAABxAAAAAAAAAJEAAAAAAAAAgQA==",
          "dtype": "f8"
         },
         "xaxis": "x",
         "y": {
          "bdata": "mZmZmZlpYEAyMzMzM9NfQP3/////P19AaGZmZmYmXkCamZmZmTlYQDIzMzMz81dAzczMzMwsV0DQzMzMzOxWQDQzMzMzE1ZA0MzMzMwMVkCamZmZmVlVQDIzMzMz81NAZmZmZmYGU0CamZmZmZlSQM7MzMzM7FBA0MzMzMwMT0AAAAAAAMBMQA==",
          "dtype": "f8"
         },
         "yaxis": "y"
        },
        {
         "customdata": [
          [
           "Trey McBride",
           "TE",
           "ARI"
          ],
          [
           "Kyren Williams",
           "RB",
           "LAR"
          ],
          [
           "Jonathan Taylor",
           "RB",
           "IND"
          ],
          [
           "Bucky Irving",
           "RB",
           "TB"
          ],
          [
           "Chase Brown",
           "RB",
           "CIN"
          ],
          [
           "Brian Thomas Jr.",
           "WR",
           "JAX"
          ],
          [
           "Nico Collins",
           "WR",
           "HOU"
          ]
         ],
         "hovertemplate": "Category=SLIGHT_VALUE<br>Expert Consensus Ranking (ADP)=%{x}<br>Value Above Replacement=%{y}<br>Player=%{customdata[0]}<br>Position=%{customdata[1]}<br>Team=%{customdata[2]}<extra></extra>",
         "legendgroup": "SLIGHT_VALUE",
         "marker": {
          "color": "#EF553B",
          "size": 8,
          "symbol": "circle"
         },
         "mode": "markers",
         "name": "SLIGHT_VALUE",
         "orientation": "v",
         "showlegend": true,
         "type": "scatter",
         "x": {
          "bdata": "AAAAAAAAN0AAAAAAAAA6QAAAAAAAADRAAAAAAAAANUAAAAAAAAA4QAAAAAAAACZAAAAAAAAAIkA=",
          "dtype": "f8"
         },
         "xaxis": "x",
         "y": {
          "bdata": "mpmZmZn5UUCamZmZmVlRQAAAAAAAQFBAzMzMzMxMT0AAAAAAAIBOQJyZmZmZmUpAaGZmZmYmSkA=",
          "dtype": "f8"
         },
         "yaxis": "y"
        },
        {
         "customdata": [
          [
           "Jalen Hurts",
           "QB",
           "PHI"
          ],
          [
           "George Kittle",
           "TE",
           "SF"
          ],
          [
           "Jayden Daniels",
           "QB",
           "WSH"
          ],
          [
           "Drake London",
           "WR",
           "ATL"
          ]
         ],
         "hovertemplate": "Category=CONSENSUS<br>Expert Consensus Ranking (ADP)=%{x}<br>Value Above Replacement=%{y}<br>Player=%{customdata[0]}<br>Position=%{customdata[1]}<br>Team=%{customdata[2]}<extra></extra>",
         "legendgroup": "CONSENSUS",
         "marker": {
          "color": "#00cc96",
          "size": 8,
          "symbol": "circle"
         },
         "mode": "markers",
         "name": "CONSENSUS",
         "orientation": "v",
         "showlegend": true,
         "type": "scatter",
         "x": {
          "bdata": "AAAAAACAQkAAAAAAAIBAQAAAAAAAAEFAAAAAAAAAMEA=",
          "dtype": "f8"
         },
         "xaxis": "x",
         "y": {
          "bdata": "AAAAAABgUUAAAAAAAEBRQAAAAAAAoFBAAAAAAACAQ0A=",
          "dtype": "f8"
         },
         "yaxis": "y"
        },
        {
         "customdata": [
          [
           "Joe Burrow",
           "QB",
           "CIN"
          ],
          [
           "James Cook",
           "RB",
           "BUF"
          ],
          [
           "Breece Hall",
           "RB",
           "NYJ"
          ],
          [
           "Alvin Kamara",
           "RB",
           "NO"
          ],
          [
           "James Conner",
           "RB",
           "ARI"
          ],
          [
           "Kenneth Walker III",
           "RB",
           "SEA"
          ],
          [
           "Omarion Hampton",
           "RB",
           "LAC"
          ],
          [
           "Sam LaPorta",
           "TE",
           "DET"
          ],
          [
           "Tyreek Hill",
           "WR",
           "MIA"
          ],
          [
           "Travis Kelce",
           "TE",
           "KC"
          ],
          [
           "Patrick Mahomes",
           "QB",
           "KC"
          ],
          [
           "Mark Andrews",
           "TE",
           "BAL"
          ],
          [
           "Mike Evans",
           "WR",
           "TB"
          ],
          [
           "Tee Higgins",
           "WR",
           "CIN"
          ],
          [
           "T.J. Hockenson",
           "TE",
           "MIN"
          ],
          [
           "Chuba Hubbard",
           "RB",
           "CAR"
          ],
          [
           "Kyler Murray",
           "QB",
           "ARI"
          ],
          [
           "Terry McLaurin",
           "WR",
           "WSH"
          ],
          [
           "Baker Mayfield",
           "QB",
           "TB"
          ],
          [
           "Davante Adams",
           "WR",
           "LAR"
          ]
         ],
         "hovertemplate": "Category=BUST_RISK<br>Expert Consensus Ranking (ADP)=%{x}<br>Value Above Replacement=%{y}<br>Player=%{customdata[0]}<br>Position=%{customdata[1]}<br>Team=%{customdata[2]}<extra></extra>",
         "legendgroup": "BUST_RISK",
         "marker": {
          "color": "#ab63fa",
          "size": 8,
          "symbol": "circle"
         },
         "mode": "markers",
         "name": "BUST_RISK",
         "orientation": "v",
         "showlegend": true,
         "type": "scatter",
         "x": {
          "bdata": "AAAAAACARkAAAAAAAABDQAAAAAAAAEJAAAAAAACAREAAAAAAAABIQAAAAAAAgENAAAAAAAAARkAAAAAAAIBMQAAAAAAAAD5AAAAAAAAAVEAAAAAAAABQQAAAAAAAgFNAAAAAAACAQUAAAAAAAAA9QAAAAAAAgFFAAAAAAACAR0AAAAAAAMBTQAAAAAAAAERAAAAAAABAUUAAAAAAAABAQA==",
          "dtype": "f8"
         },
         "xaxis": "x",
         "y": {
          "bdata": "oJmZmZmZS0BkZmZmZiZJQDQzMzMzc0hAmJmZmZlZRkBkZmZmZuZFQAAAAAAAgENAzMzMzMxMQ0A0MzMzMzNDQNDMzMzMTEJAAAAAAADAQUBoZmZmZqZBQMzMzMzMTEFANDMzMzPzQEAAAAAAAMBAQAAAAAAAwEBAZGZmZmZmQEAAAAAAAAA+QKCZmZmZmT1A0MzMzMxMPUA4MzMzMzM9QA==",
          "dtype": "f8"
         },
         "yaxis": "y"
        },
        {
         "customdata": [
          [
           "Ladd McConkey",
           "WR",
           "LAC"
          ],
          [
           "A.J. Brown",
           "WR",
           "PHI"
          ]
         ],
         "hovertemplate": "Category=SLIGHT_RISK<br>Expert Consensus Ranking (ADP)=%{x}<br>Value Above Replacement=%{y}<br>Player=%{customdata[0]}<br>Position=%{customdata[1]}<br>Team=%{customdata[2]}<extra></extra>",
         "legendgroup": "SLIGHT_RISK",
         "marker": {
          "color": "#FFA15A",
          "size": 8,
          "symbol": "circle"
         },
         "mode": "markers",
         "name": "SLIGHT_RISK",
         "orientation": "v",
         "showlegend": true,
         "type": "scatter",
         "x": {
          "bdata": "AAAAAAAANkAAAAAAAAAxQA==",
          "dtype": "f8"
         },
         "xaxis": "x",
         "y": {
          "bdata": "NDMzMzPzRUDQzMzMzAxCQA==",
          "dtype": "f8"
         },
         "yaxis": "y"
        }
       ],
       "layout": {
        "height": 600,
        "legend": {
         "title": {
          "text": "Category"
         },
         "tracegroupgap": 0
        },
        "template": {
         "data": {
          "bar": [
           {
            "error_x": {
             "color": "#2a3f5f"
            },
            "error_y": {
             "color": "#2a3f5f"
            },
            "marker": {
             "line": {
              "color": "#E5ECF6",
              "width": 0.5
             },
             "pattern": {
              "fillmode": "overlay",
              "size": 10,
              "solidity": 0.2
             }
            },
            "type": "bar"
           }
          ],
          "barpolar": [
           {
            "marker": {
             "line": {
              "color": "#E5ECF6",
              "width": 0.5
             },
             "pattern": {
              "fillmode": "overlay",
              "size": 10,
              "solidity": 0.2
             }
            },
            "type": "barpolar"
           }
          ],
          "carpet": [
           {
            "aaxis": {
             "endlinecolor": "#2a3f5f",
             "gridcolor": "white",
             "linecolor": "white",
             "minorgridcolor": "white",
             "startlinecolor": "#2a3f5f"
            },
            "baxis": {
             "endlinecolor": "#2a3f5f",
             "gridcolor": "white",
             "linecolor": "white",
             "minorgridcolor": "white",
             "startlinecolor": "#2a3f5f"
            },
            "type": "carpet"
           }
          ],
          "choropleth": [
           {
            "colorbar": {
             "outlinewidth": 0,
             "ticks": ""
            },
            "type": "choropleth"
           }
          ],
          "contour": [
           {
            "colorbar": {
             "outlinewidth": 0,
             "ticks": ""
            },
            "colorscale": [
             [
              0,
              "#0d0887"
             ],
             [
              0.1111111111111111,
              "#46039f"
             ],
             [
              0.2222222222222222,
              "#7201a8"
             ],
             [
              0.3333333333333333,
              "#9c179e"
             ],
             [
              0.4444444444444444,
              "#bd3786"
             ],
             [
              0.5555555555555556,
              "#d8576b"
             ],
             [
              0.6666666666666666,
              "#ed7953"
             ],
             [
              0.7777777777777778,
              "#fb9f3a"
             ],
             [
              0.8888888888888888,
              "#fdca26"
             ],
             [
              1,
              "#f0f921"
             ]
            ],
            "type": "contour"
           }
          ],
          "contourcarpet": [
           {
            "colorbar": {
             "outlinewidth": 0,
             "ticks": ""
            },
            "type": "contourcarpet"
           }
          ],
          "heatmap": [
           {
            "colorbar": {
             "outlinewidth": 0,
             "ticks": ""
            },
            "colorscale": [
             [
              0,
              "#0d0887"
             ],
             [
              0.1111111111111111,
              "#46039f"
             ],
             [
              0.2222222222222222,
              "#7201a8"
             ],
             [
              0.3333333333333333,
              "#9c179e"
             ],
             [
              0.4444444444444444,
              "#bd3786"
             ],
             [
              0.5555555555555556,
              "#d8576b"
             ],
             [
              0.6666666666666666,
              "#ed7953"
             ],
             [
              0.7777777777777778,
              "#fb9f3a"
             ],
             [
              0.8888888888888888,
              "#fdca26"
             ],
             [
              1,
              "#f0f921"
             ]
            ],
            "type": "heatmap"
           }
          ],
          "histogram": [
           {
            "marker": {
             "pattern": {
              "fillmode": "overlay",
              "size": 10,
              "solidity": 0.2
             }
            },
            "type": "histogram"
           }
          ],
          "histogram2d": [
           {
            "colorbar": {
             "outlinewidth": 0,
             "ticks": ""
            },
            "colorscale": [
             [
              0,
              "#0d0887"
             ],
             [
              0.1111111111111111,
              "#46039f"
             ],
             [
              0.2222222222222222,
              "#7201a8"
             ],
             [
              0.3333333333333333,
              "#9c179e"
             ],
             [
              0.4444444444444444,
              "#bd3786"
             ],
             [
              0.5555555555555556,
              "#d8576b"
             ],
             [
              0.6666666666666666,
              "#ed7953"
             ],
             [
              0.7777777777777778,
              "#fb9f3a"
             ],
             [
              0.8888888888888888,
              "#fdca26"
             ],
             [
              1,
              "#f0f921"
             ]
            ],
            "type": "histogram2d"
           }
          ],
          "histogram2dcontour": [
           {
            "colorbar": {
             "outlinewidth": 0,
             "ticks": ""
            },
            "colorscale": [
             [
              0,
              "#0d0887"
             ],
             [
              0.1111111111111111,
              "#46039f"
             ],
             [
              0.2222222222222222,
              "#7201a8"
             ],
             [
              0.3333333333333333,
              "#9c179e"
             ],
             [
              0.4444444444444444,
              "#bd3786"
             ],
             [
              0.5555555555555556,
              "#d8576b"
             ],
             [
              0.6666666666666666,
              "#ed7953"
             ],
             [
              0.7777777777777778,
              "#fb9f3a"
             ],
             [
              0.8888888888888888,
              "#fdca26"
             ],
             [
              1,
              "#f0f921"
             ]
            ],
            "type": "histogram2dcontour"
           }
          ],
          "mesh3d": [
           {
            "colorbar": {
             "outlinewidth": 0,
             "ticks": ""
            },
            "type": "mesh3d"
           }
          ],
          "parcoords": [
           {
            "line": {
             "colorbar": {
              "outlinewidth": 0,
              "ticks": ""
             }
            },
            "type": "parcoords"
           }
          ],
          "pie": [
           {
            "automargin": true,
            "type": "pie"
           }
          ],
          "scatter": [
           {
            "fillpattern": {
             "fillmode": "overlay",
             "size": 10,
             "solidity": 0.2
            },
            "type": "scatter"
           }
          ],
          "scatter3d": [
           {
            "line": {
             "colorbar": {
              "outlinewidth": 0,
              "ticks": ""
             }
            },
            "marker": {
             "colorbar": {
              "outlinewidth": 0,
              "ticks": ""
             }
            },
            "type": "scatter3d"
           }
          ],
          "scattercarpet": [
           {
            "marker": {
             "colorbar": {
              "outlinewidth": 0,
              "ticks": ""
             }
            },
            "type": "scattercarpet"
           }
          ],
          "scattergeo": [
           {
            "marker": {
             "colorbar": {
              "outlinewidth": 0,
              "ticks": ""
             }
            },
            "type": "scattergeo"
           }
          ],
          "scattergl": [
           {
            "marker": {
             "colorbar": {
              "outlinewidth": 0,
              "ticks": ""
             }
            },
            "type": "scattergl"
           }
          ],
          "scattermap": [
           {
            "marker": {
             "colorbar": {
              "outlinewidth": 0,
              "ticks": ""
             }
            },
            "type": "scattermap"
           }
          ],
          "scattermapbox": [
           {
            "marker": {
             "colorbar": {
              "outlinewidth": 0,
              "ticks": ""
             }
            },
            "type": "scattermapbox"
           }
          ],
          "scatterpolar": [
           {
            "marker": {
             "colorbar": {
              "outlinewidth": 0,
              "ticks": ""
             }
            },
            "type": "scatterpolar"
           }
          ],
          "scatterpolargl": [
           {
            "marker": {
             "colorbar": {
              "outlinewidth": 0,
              "ticks": ""
             }
            },
            "type": "scatterpolargl"
           }
          ],
          "scatterternary": [
           {
            "marker": {
             "colorbar": {
              "outlinewidth": 0,
              "ticks": ""
             }
            },
            "type": "scatterternary"
           }
          ],
          "surface": [
           {
            "colorbar": {
             "outlinewidth": 0,
             "ticks": ""
            },
            "colorscale": [
             [
              0,
              "#0d0887"
             ],
             [
              0.1111111111111111,
              "#46039f"
             ],
             [
              0.2222222222222222,
              "#7201a8"
             ],
             [
              0.3333333333333333,
              "#9c179e"
             ],
             [
              0.4444444444444444,
              "#bd3786"
             ],
             [
              0.5555555555555556,
              "#d8576b"
             ],
             [
              0.6666666666666666,
              "#ed7953"
             ],
             [
              0.7777777777777778,
              "#fb9f3a"
             ],
             [
              0.8888888888888888,
              "#fdca26"
             ],
             [
              1,
              "#f0f921"
             ]
            ],
            "type": "surface"
           }
          ],
          "table": [
           {
            "cells": {
             "fill": {
              "color": "#EBF0F8"
             },
             "line": {
              "color": "white"
             }
            },
            "header": {
             "fill": {
              "color": "#C8D4E3"
             },
             "line": {
              "color": "white"
             }
            },
            "type": "table"
           }
          ]
         },
         "layout": {
          "annotationdefaults": {
           "arrowcolor": "#2a3f5f",
           "arrowhead": 0,
           "arrowwidth": 1
          },
          "autotypenumbers": "strict",
          "coloraxis": {
           "colorbar": {
            "outlinewidth": 0,
            "ticks": ""
           }
          },
          "colorscale": {
           "diverging": [
            [
             0,
             "#8e0152"
            ],
            [
             0.1,
             "#c51b7d"
            ],
            [
             0.2,
             "#de77ae"
            ],
            [
             0.3,
             "#f1b6da"
            ],
            [
             0.4,
             "#fde0ef"
            ],
            [
             0.5,
             "#f7f7f7"
            ],
            [
             0.6,
             "#e6f5d0"
            ],
            [
             0.7,
             "#b8e186"
            ],
            [
             0.8,
             "#7fbc41"
            ],
            [
             0.9,
             "#4d9221"
            ],
            [
             1,
             "#276419"
            ]
           ],
           "sequential": [
            [
             0,
             "#0d0887"
            ],
            [
             0.1111111111111111,
             "#46039f"
            ],
            [
             0.2222222222222222,
             "#7201a8"
            ],
            [
             0.3333333333333333,
             "#9c179e"
            ],
            [
             0.4444444444444444,
             "#bd3786"
            ],
            [
             0.5555555555555556,
             "#d8576b"
            ],
            [
             0.6666666666666666,
             "#ed7953"
            ],
            [
             0.7777777777777778,
             "#fb9f3a"
            ],
            [
             0.8888888888888888,
             "#fdca26"
            ],
            [
             1,
             "#f0f921"
            ]
           ],
           "sequentialminus": [
            [
             0,
             "#0d0887"
            ],
            [
             0.1111111111111111,
             "#46039f"
            ],
            [
             0.2222222222222222,
             "#7201a8"
            ],
            [
             0.3333333333333333,
             "#9c179e"
            ],
            [
             0.4444444444444444,
             "#bd3786"
            ],
            [
             0.5555555555555556,
             "#d8576b"
            ],
            [
             0.6666666666666666,
             "#ed7953"
            ],
            [
             0.7777777777777778,
             "#fb9f3a"
            ],
            [
             0.8888888888888888,
             "#fdca26"
            ],
            [
             1,
             "#f0f921"
            ]
           ]
          },
          "colorway": [
           "#636efa",
           "#EF553B",
           "#00cc96",
           "#ab63fa",
           "#FFA15A",
           "#19d3f3",
           "#FF6692",
           "#B6E880",
           "#FF97FF",
           "#FECB52"
          ],
          "font": {
           "color": "#2a3f5f"
          },
          "geo": {
           "bgcolor": "white",
           "lakecolor": "white",
           "landcolor": "#E5ECF6",
           "showlakes": true,
           "showland": true,
           "subunitcolor": "white"
          },
          "hoverlabel": {
           "align": "left"
          },
          "hovermode": "closest",
          "mapbox": {
           "style": "light"
          },
          "paper_bgcolor": "white",
          "plot_bgcolor": "#E5ECF6",
          "polar": {
           "angularaxis": {
            "gridcolor": "white",
            "linecolor": "white",
            "ticks": ""
           },
           "bgcolor": "#E5ECF6",
           "radialaxis": {
            "gridcolor": "white",
            "linecolor": "white",
            "ticks": ""
           }
          },
          "scene": {
           "xaxis": {
            "backgroundcolor": "#E5ECF6",
            "gridcolor": "white",
            "gridwidth": 2,
            "linecolor": "white",
            "showbackground": true,
            "ticks": "",
            "zerolinecolor": "white"
           },
           "yaxis": {
            "backgroundcolor": "#E5ECF6",
            "gridcolor": "white",
            "gridwidth": 2,
            "linecolor": "white",
            "showbackground": true,
            "ticks": "",
            "zerolinecolor": "white"
           },
           "zaxis": {
            "backgroundcolor": "#E5ECF6",
            "gridcolor": "white",
            "gridwidth": 2,
            "linecolor": "white",
            "showbackground": true,
            "ticks": "",
            "zerolinecolor": "white"
           }
          },
          "shapedefaults": {
           "line": {
            "color": "#2a3f5f"
           }
          },
          "ternary": {
           "aaxis": {
            "gridcolor": "white",
            "linecolor": "white",
            "ticks": ""
           },
           "baxis": {
            "gridcolor": "white",
            "linecolor": "white",
            "ticks": ""
           },
           "bgcolor": "#E5ECF6",
           "caxis": {
            "gridcolor": "white",
            "linecolor": "white",
            "ticks": ""
           }
          },
          "title": {
           "x": 0.05
          },
          "xaxis": {
           "automargin": true,
           "gridcolor": "white",
           "linecolor": "white",
           "ticks": "",
           "title": {
            "standoff": 15
           },
           "zerolinecolor": "white",
           "zerolinewidth": 2
          },
          "yaxis": {
           "automargin": true,
           "gridcolor": "white",
           "linecolor": "white",
           "ticks": "",
           "title": {
            "standoff": 15
           },
           "zerolinecolor": "white",
           "zerolinewidth": 2
          }
         }
        },
        "title": {
         "text": "🎯 Sleepers vs Bust Risks (VBD vs ADP)"
        },
        "xaxis": {
         "anchor": "y",
         "domain": [
          0,
          1
         ],
         "title": {
          "text": "Expert Consensus Ranking (ADP)"
         }
        },
        "yaxis": {
         "anchor": "x",
         "domain": [
          0,
          1
         ],
         "title": {
          "text": "Value Above Replacement"
         }
        }
       }
      }
     },
     "metadata": {},
     "output_type": "display_data"
    },
    {
     "name": "stdout",
     "output_type": "stream",
     "text": [
      "\n",
      "🔥 TOP SLEEPER PICKS (High Value, Low ADP):\n",
      "  Saquon Barkley            RB  (ADP:   4, VBD:  131.3)\n",
      "  Bijan Robinson            RB  (ADP:   1, VBD:  127.3)\n",
      "  Jahmyr Gibbs              RB  (ADP:   3, VBD:  125.0)\n",
      "  Ja'Marr Chase             WR  (ADP:   6, VBD:  120.6)\n",
      "  Justin Jefferson          WR  (ADP:   2, VBD:   88.3)\n",
      "  Christian McCaffrey       RB  (ADP:  13, VBD:   96.9)\n",
      "  Derrick Henry             RB  (ADP:  14, VBD:   95.8)\n",
      "  De'Von Achane             RB  (ADP:  15, VBD:   92.7)\n",
      "  CeeDee Lamb               WR  (ADP:   5, VBD:   74.4)\n",
      "  Brock Bowers              TE  (ADP:  18, VBD:   85.4)\n",
      "\n",
      "⚠️ BUST RISK ALERTS (Low Value, High ADP):\n",
      "  Kyler Murray              QB  (ADP:  79, VBD:   30.0)\n",
      "  Travis Kelce              TE  (ADP:  80, VBD:   35.5)\n",
      "  Mark Andrews              TE  (ADP:  78, VBD:   34.6)\n",
      "  Baker Mayfield            QB  (ADP:  69, VBD:   29.3)\n",
      "  T.J. Hockenson            TE  (ADP:  70, VBD:   33.5)\n",
      "  Patrick Mahomes           QB  (ADP:  64, VBD:   35.3)\n",
      "  Sam LaPorta               TE  (ADP:  57, VBD:   38.4)\n",
      "  Chuba Hubbard             RB  (ADP:  47, VBD:   32.8)\n",
      "  Terry McLaurin            WR  (ADP:  40, VBD:   29.6)\n",
      "  James Conner              RB  (ADP:  48, VBD:   43.8)\n"
     ]
    }
   ],
   "source": [
    "# Value vs ADP Analysis (Sleepers & Busts)\n",
    "def find_sleepers_and_busts():\n",
    "    \"\"\"Identify players with value discrepancies vs ADP\"\"\"\n",
    "    \n",
    "    # Calculate ADP vs Value differential\n",
    "    analysis_df = cheat_sheet.copy()\n",
    "    analysis_df['ADP_vs_Rank'] = analysis_df['ECR'] - analysis_df['Draft_Rank']\n",
    "    \n",
    "    # Z-score for identifying outliers\n",
    "    analysis_df['VBD_zscore'] = zscore(analysis_df['Custom_VBD'])\n",
    "    analysis_df['ADP_zscore'] = zscore(analysis_df['ECR'])\n",
    "    analysis_df['Value_Diff'] = analysis_df['VBD_zscore'] - analysis_df['ADP_zscore']\n",
    "    \n",
    "    # Categorize players\n",
    "    def categorize_player(row):\n",
    "        if row['Value_Diff'] > 0.75:  # High VBD, low ADP\n",
    "            return 'SLEEPER'\n",
    "        elif row['Value_Diff'] < -0.75:  # Low VBD, high ADP\n",
    "            return 'BUST_RISK'\n",
    "        elif abs(row['Value_Diff']) <= 0.25:\n",
    "            return 'CONSENSUS'\n",
    "        else:\n",
    "            return 'SLIGHT_VALUE' if row['Value_Diff'] > 0 else 'SLIGHT_RISK'\n",
    "    \n",
    "    analysis_df['Category'] = analysis_df.apply(categorize_player, axis=1)\n",
    "    \n",
    "    # Create visualization\n",
    "    fig = px.scatter(\n",
    "        analysis_df,\n",
    "        x='ECR',\n",
    "        y='Custom_VBD',\n",
    "        color='Category',\n",
    "        hover_data=['Player', 'Position', 'Team'],\n",
    "        title=\"🎯 Sleepers vs Bust Risks (VBD vs ADP)\",\n",
    "        labels={'ECR': 'Expert Consensus Ranking (ADP)', 'Custom_VBD': 'Value Above Replacement'}\n",
    "    )\n",
    "    \n",
    "    fig.update_traces(marker=dict(size=8))\n",
    "    fig.update_layout(height=600)\n",
    "    fig.show()\n",
    "    \n",
    "    # Top sleepers and bust risks\n",
    "    print(\"\\n🔥 TOP SLEEPER PICKS (High Value, Low ADP):\")\n",
    "    sleepers = analysis_df[analysis_df['Category'] == 'SLEEPER'].sort_values('Value_Diff', ascending=False).head(10)\n",
    "    for _, player in sleepers.iterrows():\n",
    "        print(f\"  {player['Player']:<25} {player['Position']:<3} (ADP: {player['ECR']:>3.0f}, VBD: {player['Custom_VBD']:>6.1f})\")\n",
    "    \n",
    "    print(\"\\n⚠️ BUST RISK ALERTS (Low Value, High ADP):\")\n",
    "    busts = analysis_df[analysis_df['Category'] == 'BUST_RISK'].sort_values('Value_Diff').head(10)\n",
    "    for _, player in busts.iterrows():\n",
    "        print(f\"  {player['Player']:<25} {player['Position']:<3} (ADP: {player['ECR']:>3.0f}, VBD: {player['Custom_VBD']:>6.1f})\")\n",
    "    \n",
    "    return analysis_df\n",
    "\n",
    "value_analysis = find_sleepers_and_busts()"
   ]
  },
  {
   "cell_type": "code",
   "execution_count": 12,
   "metadata": {},
   "outputs": [
    {
     "name": "stdout",
     "output_type": "stream",
     "text": [
      "🎲 MOCK DRAFT SIMULATOR\n"
     ]
    },
    {
     "data": {
      "application/vnd.jupyter.widget-view+json": {
       "model_id": "573cdd91524d44769cbe7d2f8a72548f",
       "version_major": 2,
       "version_minor": 0
      },
      "text/plain": [
       "VBox(children=(HBox(children=(IntSlider(value=1, description='Draft Position:', max=14, min=1), Dropdown(descr…"
      ]
     },
     "metadata": {},
     "output_type": "display_data"
    }
   ],
   "source": [
    "# Mock Draft Simulator\n",
    "class MockDraftSimulator:\n",
    "    def __init__(self, config, cheat_sheet, draft_position):\n",
    "        self.config = config\n",
    "        self.cheat_sheet = cheat_sheet.copy()\n",
    "        self.num_teams = config['basic_settings']['teams']\n",
    "        self.draft_position = draft_position\n",
    "        self.rounds = 16  # Full draft\n",
    "        \n",
    "    def simulate_pick(self, available_players, team_needs, pick_position):\n",
    "        \"\"\"Simulate how other teams might pick\"\"\"\n",
    "        \n",
    "        # Weight by need and value\n",
    "        weights = []\n",
    "        for _, player in available_players.iterrows():\n",
    "            pos = player['Position']\n",
    "            base_value = player['Custom_VBD']\n",
    "            \n",
    "            # Need multiplier\n",
    "            need_multiplier = team_needs.get(pos, 1)\n",
    "            \n",
    "            # Add some randomness (other teams don't draft perfectly)\n",
    "            randomness = np.random.normal(1, 0.15)\n",
    "            \n",
    "            final_weight = base_value * need_multiplier * randomness\n",
    "            weights.append(max(0, final_weight))\n",
    "        \n",
    "        # Select based on weighted probabilities\n",
    "        if weights and sum(weights) > 0:\n",
    "            probs = np.array(weights) / sum(weights)\n",
    "            choice_idx = np.random.choice(len(available_players), p=probs)\n",
    "            return available_players.iloc[choice_idx]\n",
    "        else:\n",
    "            return available_players.iloc[0] if len(available_players) > 0 else None\n",
    "    \n",
    "    def run_mock_draft(self, strategy='BEST_AVAILABLE'):\n",
    "        \"\"\"Run a complete mock draft simulation\"\"\"\n",
    "        \n",
    "        available = self.cheat_sheet[self.cheat_sheet['Draft_Rank'] <= 250].copy()\n",
    "        my_team = []\n",
    "        draft_log = []\n",
    "        \n",
    "        # Simple team needs tracking\n",
    "        team_needs = {i: {'QB': 1.5, 'RB': 2.0, 'WR': 2.0, 'TE': 1.2, 'DEF': 0.5, 'K': 0.3} \n",
    "                     for i in range(self.num_teams)}\n",
    "        \n",
    "        for round_num in range(1, self.rounds + 1):\n",
    "            # Determine pick order (snake draft)\n",
    "            if round_num % 2 == 1:\n",
    "                pick_order = list(range(self.num_teams))\n",
    "            else:\n",
    "                pick_order = list(range(self.num_teams - 1, -1, -1))\n",
    "            \n",
    "            for pick_in_round, team_idx in enumerate(pick_order):\n",
    "                if len(available) == 0:\n",
    "                    break\n",
    "                \n",
    "                overall_pick = (round_num - 1) * self.num_teams + pick_in_round + 1\n",
    "                \n",
    "                if team_idx == self.draft_position - 1:  # My pick\n",
    "                    # Apply strategy\n",
    "                    if strategy == 'BEST_AVAILABLE':\n",
    "                        my_pick = available.iloc[0]\n",
    "                    elif strategy == 'POSITIONAL_NEED':\n",
    "                        # Prioritize positions we need\n",
    "                        pos_priority = ['RB', 'WR', 'QB', 'TE', 'DEF', 'K']\n",
    "                        my_pick = None\n",
    "                        for pos in pos_priority:\n",
    "                            pos_available = available[available['Position'] == pos]\n",
    "                            if len(pos_available) > 0 and team_needs[team_idx][pos] > 0.8:\n",
    "                                my_pick = pos_available.iloc[0]\n",
    "                                break\n",
    "                        if my_pick is None:\n",
    "                            my_pick = available.iloc[0]\n",
    "                    else:\n",
    "                        my_pick = available.iloc[0]\n",
    "                    \n",
    "                    my_team.append(my_pick.to_dict())\n",
    "                    selected_player = my_pick\n",
    "                    \n",
    "                else:  # Other team's pick\n",
    "                    selected_player = self.simulate_pick(available, team_needs[team_idx], team_idx)\n",
    "                \n",
    "                if selected_player is not None:\n",
    "                    # Remove from available\n",
    "                    available = available[available['Player'] != selected_player['Player']]\n",
    "                    \n",
    "                    # Update team needs\n",
    "                    pos = selected_player['Position']\n",
    "                    if pos in team_needs[team_idx]:\n",
    "                        team_needs[team_idx][pos] *= 0.7  # Reduce need\n",
    "                    \n",
    "                    # Log pick\n",
    "                    draft_log.append({\n",
    "                        'Pick': overall_pick,\n",
    "                        'Round': round_num,\n",
    "                        'Team': team_idx + 1,\n",
    "                        'MyPick': team_idx == self.draft_position - 1,\n",
    "                        'Player': selected_player['Player'],\n",
    "                        'Position': selected_player['Position'],\n",
    "                        'VBD': selected_player['Custom_VBD']\n",
    "                    })\n",
    "        \n",
    "        return my_team, draft_log\n",
    "\n",
    "# Mock Draft Interface\n",
    "position_selector = widgets.IntSlider(\n",
    "    value=1, min=1, max=config['basic_settings']['teams'],\n",
    "    description='Draft Position:'\n",
    ")\n",
    "\n",
    "strategy_selector = widgets.Dropdown(\n",
    "    options=['BEST_AVAILABLE', 'POSITIONAL_NEED'],\n",
    "    value='BEST_AVAILABLE',\n",
    "    description='Strategy:'\n",
    ")\n",
    "\n",
    "mock_button = widgets.Button(\n",
    "    description='🎲 Run Mock Draft',\n",
    "    button_style='primary'\n",
    ")\n",
    "\n",
    "mock_output = widgets.Output()\n",
    "\n",
    "def run_mock(button):\n",
    "    with mock_output:\n",
    "        clear_output()\n",
    "        print(f\"🎯 Running mock draft from position {position_selector.value} with {strategy_selector.value} strategy...\\n\")\n",
    "        \n",
    "        simulator = MockDraftSimulator(config, cheat_sheet, position_selector.value)\n",
    "        my_team, draft_log = simulator.run_mock_draft(strategy_selector.value)\n",
    "        \n",
    "        print(\"🏆 YOUR MOCK DRAFT TEAM:\\n\")\n",
    "        total_vbd = 0\n",
    "        for i, player in enumerate(my_team, 1):\n",
    "            round_num = ((i - 1) // 1) + 1\n",
    "            print(f\"R{round_num:2d}: {player['Player']:<25} {player['Position']:<3} (VBD: {player['Custom_VBD']:>6.1f})\")\n",
    "            total_vbd += player['Custom_VBD']\n",
    "        \n",
    "        print(f\"\\n📊 Total Team VBD: {total_vbd:.1f}\")\n",
    "        \n",
    "        # Position breakdown\n",
    "        pos_counts = {}\n",
    "        for player in my_team:\n",
    "            pos = player['Position']\n",
    "            pos_counts[pos] = pos_counts.get(pos, 0) + 1\n",
    "        \n",
    "        print(\"\\n📋 Roster Composition:\")\n",
    "        for pos, count in sorted(pos_counts.items()):\n",
    "            print(f\"  {pos}: {count}\")\n",
    "\n",
    "mock_button.on_click(run_mock)\n",
    "\n",
    "print(\"🎲 MOCK DRAFT SIMULATOR\")\n",
    "display(widgets.VBox([\n",
    "    widgets.HBox([position_selector, strategy_selector]),\n",
    "    mock_button,\n",
    "    mock_output\n",
    "]))"
   ]
  },
  {
   "cell_type": "code",
   "execution_count": null,
   "metadata": {},
   "outputs": [
    {
     "data": {
      "application/vnd.jupyter.widget-view+json": {
       "model_id": "5b1ff236204048eebc06aebce6b231b8",
       "version_major": 2,
       "version_minor": 0
      },
      "text/plain": [
       "VBox(children=(IntSlider(value=1, description='Your Draft Position:', max=14, min=1), Button(button_style='inf…"
      ]
     },
     "metadata": {},
     "output_type": "display_data"
    }
   ],
   "source": [
    "# Draft Strategy Recommendations\n",
    "def generate_strategy_guide(draft_position):\n",
    "    \"\"\"Generate position-specific draft strategy\"\"\"\n",
    "    \n",
    "    num_teams = config['basic_settings']['teams']\n",
    "    \n",
    "    strategies = {\n",
    "        'early': (1, 3),\n",
    "        'mid_early': (4, 6), \n",
    "        'middle': (7, 10),\n",
    "        'mid_late': (11, 12),\n",
    "        'late': (13, num_teams)\n",
    "    }\n",
    "    \n",
    "    position_type = None\n",
    "    for pos_name, (start, end) in strategies.items():\n",
    "        if start <= draft_position <= end:\n",
    "            position_type = pos_name\n",
    "            break\n",
    "    \n",
    "    recommendations = {\n",
    "        'early': {\n",
    "            'rounds_1_2': \"Target elite RB/WR. You get first pick at premium positions.\",\n",
    "            'rounds_3_4': \"Continue RB/WR or grab top QB if available.\",\n",
    "            'mid_rounds': \"Address positional needs, target value.\",\n",
    "            'late_rounds': \"Handcuffs, upside plays, DEF/K\"\n",
    "        },\n",
    "        'mid_early': {\n",
    "            'rounds_1_2': \"Best available RB/WR, maybe elite TE.\",\n",
    "            'rounds_3_4': \"Round out RB/WR corps, consider QB.\",\n",
    "            'mid_rounds': \"Fill positional needs, target breakouts.\",\n",
    "            'late_rounds': \"Depth and lottery tickets.\"\n",
    "        },\n",
    "        'middle': {\n",
    "            'rounds_1_2': \"Balanced approach, target tier breaks.\",\n",
    "            'rounds_3_4': \"Address team needs, consider positional runs.\",\n",
    "            'mid_rounds': \"Value hunting, sleeper targets.\",\n",
    "            'late_rounds': \"Handcuffs and upside.\"\n",
    "        },\n",
    "        'mid_late': {\n",
    "            'rounds_1_2': \"Target falling tier-1 players.\", \n",
    "            'rounds_3_4': \"Build solid foundation, avoid reaches.\",\n",
    "            'mid_rounds': \"Value picks, positional depth.\",\n",
    "            'late_rounds': \"Upside swings.\"\n",
    "        },\n",
    "        'late': {\n",
    "            'rounds_1_2': \"Back-to-back picks advantage! Target tier breaks.\",\n",
    "            'rounds_3_4': \"Use turn to grab complementary pieces.\",\n",
    "            'mid_rounds': \"Be aggressive on upside plays.\",\n",
    "            'late_rounds': \"Lottery tickets and handcuffs.\"\n",
    "        }\n",
    "    }\n",
    "    \n",
    "    print(f\"\\n🎯 DRAFT STRATEGY FOR POSITION {draft_position} ({position_type.upper()})\\n\")\n",
    "    \n",
    "    if position_type in recommendations:\n",
    "        for phase, advice in recommendations[position_type].items():\n",
    "            print(f\"📍 {phase.replace('_', ' ').title()}: {advice}\")\n",
    "    \n",
    "    # Position-specific targets\n",
    "    print(f\"\\n🎪 TARGET PLAYERS BY ROUND:\\n\")\n",
    "    \n",
    "    # Round 1 targets\n",
    "    round1_picks = range((draft_position - 1), len(cheat_sheet), num_teams)\n",
    "    round1_target = None\n",
    "    for pick in round1_picks:\n",
    "        if pick < len(cheat_sheet):\n",
    "            round1_target = cheat_sheet.iloc[pick]\n",
    "            break\n",
    "    \n",
    "    if round1_target is not None:\n",
    "        print(f\"Round 1 Target: {round1_target['Player']} ({round1_target['Position']})\")\n",
    "    \n",
    "    # Show players likely available at your picks\n",
    "    your_picks = []\n",
    "    for round_num in range(1, 6):  # First 5 rounds\n",
    "        if round_num % 2 == 1:  # Odd rounds\n",
    "            pick_num = (round_num - 1) * num_teams + draft_position\n",
    "        else:  # Even rounds (snake back)\n",
    "            pick_num = round_num * num_teams - draft_position + 1\n",
    "        your_picks.append((round_num, pick_num))\n",
    "    \n",
    "    print(\"\\n📅 Your Pick Schedule:\")\n",
    "    for round_num, pick_num in your_picks:\n",
    "        if pick_num <= len(cheat_sheet):\n",
    "            target_range = cheat_sheet.iloc[max(0, pick_num-3):pick_num+2]\n",
    "            print(f\"Round {round_num} (Pick {pick_num}): Target range around {target_range.iloc[2]['Player'] if len(target_range) > 2 else 'N/A'}\")\n",
    "\n",
    "# Interactive strategy guide\n",
    "strategy_position = widgets.IntSlider(\n",
    "    value=1, min=1, max=config['basic_settings']['teams'],\n",
    "    description='Your Draft Position:'\n",
    ")\n",
    "\n",
    "strategy_button = widgets.Button(\n",
    "    description='📋 Get Strategy Guide',\n",
    "    button_style='info'\n",
    ")\n",
    "\n",
    "strategy_output = widgets.Output()\n",
    "\n",
    "def show_strategy(button):\n",
    "    with strategy_output:\n",
    "        clear_output()\n",
    "        generate_strategy_guide(strategy_position.value)\n",
    "\n",
    "strategy_button.on_click(show_strategy)\n",
    "\n",
    "display(widgets.VBox([\n",
    "    strategy_position,\n",
    "    strategy_button,\n",
    "    strategy_output\n",
    "]))"
   ]
  },
  {
   "cell_type": "markdown",
   "metadata": {},
   "source": [
    "## 🎯 Draft Preparation Summary\n",
    "\n",
    "### Key Tools Created:\n",
    "\n",
    "1. **📊 Positional Value Analysis**\n",
    "   - Tier-based rankings using clustering\n",
    "   - Identifies natural breakpoints\n",
    "\n",
    "2. **🎪 Scarcity Analysis** \n",
    "   - Shows which positions to prioritize\n",
    "   - Urgency ratings based on supply/demand\n",
    "\n",
    "3. **🔥 Sleeper/Bust Identification**\n",
    "   - Value vs ADP discrepancies\n",
    "   - Target undervalued players\n",
    "\n",
    "4. **🎲 Mock Draft Simulator**\n",
    "   - Test different strategies\n",
    "   - Practice from your draft position\n",
    "\n",
    "5. **📋 Position-Specific Strategy**\n",
    "   - Tailored advice for your draft slot\n",
    "   - Round-by-round guidance\n",
    "\n",
    "### Pre-Draft Checklist:\n",
    "- ✅ Run scarcity analysis to identify urgent positions\n",
    "- ✅ Review sleeper/bust lists for value targets\n",
    "- ✅ Simulate 3-5 mock drafts from your position\n",
    "- ✅ Study tier breaks for your target rounds\n",
    "- ✅ Plan contingency strategies for different scenarios\n",
    "\n",
    "**Now you're ready to dominate your draft! 🏆**"
   ]
  }
 ],
 "metadata": {
  "kernelspec": {
   "display_name": "venv",
   "language": "python",
   "name": "python3"
  },
  "language_info": {
   "codemirror_mode": {
    "name": "ipython",
    "version": 3
   },
   "file_extension": ".py",
   "mimetype": "text/x-python",
   "name": "python",
   "nbconvert_exporter": "python",
   "pygments_lexer": "ipython3",
   "version": "3.13.5"
  }
 },
 "nbformat": 4,
 "nbformat_minor": 4
}
