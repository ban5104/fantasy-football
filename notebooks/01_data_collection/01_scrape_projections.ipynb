{
 "cells": [
  {
   "cell_type": "markdown",
   "metadata": {},
   "source": [
    "# Fantasy Football Projection Scraping\n",
    "\n",
    "This notebook scrapes current season projections from FantasyPros for all positions.\n",
    "\n",
    "**Purpose**: Collect raw projection data for analysis\n",
    "**Output**: CSV files in `data/raw/` directory\n",
    "**Frequency**: Run weekly or before important analysis"
   ]
  },
  {
   "cell_type": "code",
   "execution_count": null,
   "metadata": {},
   "outputs": [],
   "source": [
    "import sys\n",
    "import os\n",
    "\n",
    "# Add src directory to path\n",
    "sys.path.append(os.path.join(os.getcwd(), '..', '..', 'src'))\n",
    "\n",
    "from scraping import scrape_all_positions, save_projection_data\n",
    "from utils import setup_logging, validate_data_quality\n",
    "import logging\n",
    "\n",
    "# Setup logging\n",
    "setup_logging()"
   ]
  },
  {
   "cell_type": "markdown",
   "metadata": {},
   "source": [
    "## Scrape Current Projections"
   ]
  },
  {
   "cell_type": "code",
   "execution_count": null,
   "metadata": {},
   "outputs": [],
   "source": [
    "# Scrape all positions\n",
    "positions = ['qb', 'rb', 'wr', 'te', 'k', 'dst']\n",
    "df = scrape_all_positions(positions, delay=2)\n",
    "\n",
    "# Show summary\n",
    "if not df.empty:\n",
    "    print(f\"Successfully scraped {len(df)} total players\")\n",
    "    print(\"\\nPosition breakdown:\")\n",
    "    print(df['Position'].value_counts())\n",
    "else:\n",
    "    print(\"No data scraped - check logs for errors\")"
   ]
  },
  {
   "cell_type": "markdown",
   "metadata": {},
   "source": [
    "## Data Quality Check"
   ]
  },
  {
   "cell_type": "code",
   "execution_count": null,
   "metadata": {},
   "outputs": [],
   "source": [
    "# Validate data quality\n",
    "validation = validate_data_quality(df)\n",
    "print(\"Data Quality Report:\")\n",
    "for key, value in validation.items():\n",
    "    print(f\"{key}: {value}\")"
   ]
  },
  {
   "cell_type": "markdown",
   "metadata": {},
   "source": [
    "## Save to Files"
   ]
  },
  {
   "cell_type": "code",
   "execution_count": null,
   "metadata": {},
   "outputs": [],
   "source": [
    "# Save projection data\n",
    "if not df.empty:\n",
    "    save_projection_data(df, base_path=\"../../data/raw\")\n",
    "    print(\"\\nProjection data saved successfully!\")\n",
    "    print(\"Ready for analysis in 02_basic_rankings.ipynb\")\n",
    "else:\n",
    "    print(\"No data to save\")"
   ]
  },
  {
   "cell_type": "markdown",
   "metadata": {},
   "source": [
    "## Preview Data"
   ]
  },
  {
   "cell_type": "code",
   "execution_count": null,
   "metadata": {},
   "outputs": [],
   "source": [
    "# Show sample of scraped data\n",
    "if not df.empty:\n",
    "    print(\"Sample of scraped data:\")\n",
    "    display(df.head(10))\n",
    "    \n",
    "    print(\"\\nColumn names:\")\n",
    "    print(list(df.columns))"
   ]
  }
 ],
 "metadata": {
  "kernelspec": {
   "display_name": "Python 3",
   "language": "python",
   "name": "python3"
  },
  "language_info": {
   "codemirror_mode": {
    "name": "ipython",
    "version": 3
   },
   "file_extension": ".py",
   "mimetype": "text/x-python",
   "name": "python",
   "nbconvert_exporter": "python",
   "pygments_lexer": "ipython3",
   "version": "3.8.5"
  }
 },
 "nbformat": 4,
 "nbformat_minor": 4
}