{
 "cells": [
  {
   "cell_type": "markdown",
   "metadata": {},
   "source": [
    "## 🧬 Championship DNA Analysis\n",
    "\n",
    "Identify winning roster patterns from top-performing simulations and generate draft guidance.\n",
    "\n",
    "This hybrid system combines championship roster composition analysis with tier-based pick windows and pivot alerts."
   ]
  },
  {
   "cell_type": "code",
   "execution_count": 1,
   "metadata": {},
   "outputs": [
    {
     "name": "stdout",
     "output_type": "stream",
     "text": [
      "✅ Championship DNA analyzer loaded\n"
     ]
    }
   ],
   "source": [
    "# 1. Import Championship DNA analyzer\n",
    "import sys\n",
    "sys.path.append('..')\n",
    "\n",
    "from championship_dna_analyzer import ChampionshipDNA, run_championship_analysis\n",
    "\n",
    "print(\"✅ Championship DNA analyzer loaded\")"
   ]
  },
  {
   "cell_type": "code",
   "execution_count": null,
   "metadata": {},
   "outputs": [],
   "source": [
    "# Configuration - Set your parameters here\n",
    "STRATEGY = 'balanced'  # Primary strategy to analyze ('balanced', 'zero_rb', 'rb_heavy', 'hero_rb', 'elite_qb')\n",
    "MY_PICK = 5           # Your draft position (1-14)\n",
    "N_SIMS = 200          # Number of simulations (200+ recommended)\n",
    "N_ROUNDS = 14         # Draft rounds\n",
    "\n",
    "print(f\"📋 Configuration:\")\n",
    "print(f\"   Strategy: {STRATEGY}\")\n",
    "print(f\"   Draft Pick: #{MY_PICK}\")\n",
    "print(f\"   Simulations: {N_SIMS}\")\n",
    "print(f\"   Rounds: {N_ROUNDS}\")"
   ]
  },
  {
   "cell_type": "code",
   "execution_count": 3,
   "metadata": {},
   "outputs": [
    {
     "name": "stdout",
     "output_type": "stream",
     "text": [
      "🧬 Championship DNA Analysis - Extracting Winning Patterns\n",
      "============================================================\n"
     ]
    },
    {
     "ename": "NameError",
     "evalue": "name 'STRATEGY' is not defined",
     "output_type": "error",
     "traceback": [
      "\u001b[31m---------------------------------------------------------------------------\u001b[39m",
      "\u001b[31mNameError\u001b[39m                                 Traceback (most recent call last)",
      "\u001b[36mCell\u001b[39m\u001b[36m \u001b[39m\u001b[32mIn[3]\u001b[39m\u001b[32m, line 6\u001b[39m\n\u001b[32m      3\u001b[39m \u001b[38;5;28mprint\u001b[39m(\u001b[33m\"\u001b[39m\u001b[33m=\u001b[39m\u001b[33m\"\u001b[39m * \u001b[32m60\u001b[39m)\n\u001b[32m      5\u001b[39m \u001b[38;5;66;03m# Run complete championship analysis\u001b[39;00m\n\u001b[32m----> \u001b[39m\u001b[32m6\u001b[39m results = run_championship_analysis(strategy=\u001b[43mSTRATEGY\u001b[49m, round_num=\u001b[32m3\u001b[39m)\n\u001b[32m      8\u001b[39m \u001b[38;5;28;01mif\u001b[39;00m results:\n\u001b[32m      9\u001b[39m     \u001b[38;5;28mprint\u001b[39m(\u001b[33m\"\u001b[39m\u001b[38;5;130;01m\\n\u001b[39;00m\u001b[33m✅ Championship DNA analysis complete\u001b[39m\u001b[33m\"\u001b[39m)\n",
      "\u001b[31mNameError\u001b[39m: name 'STRATEGY' is not defined"
     ]
    }
   ],
   "source": [
    "# 2. Championship Blueprint Analysis\n",
    "print(\"🧬 Championship DNA Analysis - Extracting Winning Patterns\")\n",
    "print(\"=\" * 60)\n",
    "\n",
    "# Run complete championship analysis\n",
    "results = run_championship_analysis(strategy=STRATEGY, round_num=3)\n",
    "\n",
    "if results:\n",
    "    print(\"\\n✅ Championship DNA analysis complete\")\n",
    "    print(f\"📊 Analyzed top 10% performers from {STRATEGY} strategy\")\n",
    "    print(\"📋 Generated 3-card guidance system:\")\n",
    "    print(\"   • Championship Blueprint (ideal roster composition)\")\n",
    "    print(\"   • Pick Windows (round-based position probabilities)\")  \n",
    "    print(\"   • Pivot Alerts (tier scarcity warnings)\")\n",
    "else:\n",
    "    print(\"❌ Championship DNA analysis failed\")\n",
    "    print(f\"   No data found for strategy: {STRATEGY}\")\n",
    "    print(f\"   Ensure you have simulation data: python monte_carlo_runner.py export --strategy {STRATEGY} --pick {MY_PICK} --n-sims {N_SIMS}\")"
   ]
  },
  {
   "cell_type": "code",
   "execution_count": null,
   "metadata": {},
   "outputs": [],
   "source": [
    "# 3. Dynamic Round Analysis  \n",
    "print(\"\\n🔄 Dynamic Round-by-Round Analysis\")\n",
    "print(\"=\" * 50)\n",
    "\n",
    "analyzer = ChampionshipDNA()\n",
    "champions = analyzer.load_champions(strategy=STRATEGY, top_pct=0.1)\n",
    "\n",
    "if champions is not None:\n",
    "    # Analyze multiple rounds\n",
    "    rounds_to_analyze = [1, 3, 5, 7]\n",
    "    \n",
    "    for round_num in rounds_to_analyze:\n",
    "        print(f\"\\n--- ROUND {round_num} ANALYSIS ---\")\n",
    "        windows = analyzer.calculate_windows(champions, round_num)\n",
    "        analyzer.display_windows(windows, round_num)\n",
    "        \n",
    "        if round_num < max(rounds_to_analyze):\n",
    "            print(\"-\" * 30)\n",
    "            \n",
    "else:\n",
    "    print(\"❌ Cannot perform dynamic round analysis - no championship data\")"
   ]
  },
  {
   "cell_type": "code",
   "execution_count": null,
   "metadata": {},
   "outputs": [],
   "source": [
    "# 4. Advanced Tier Breakdown\n",
    "print(\"\\n🎯 Advanced Tier Analysis by Position\")\n",
    "print(\"=\" * 50)\n",
    "\n",
    "if champions is not None:\n",
    "    north_star = analyzer.get_north_star(champions)\n",
    "    \n",
    "    for pos in ['RB', 'WR', 'QB', 'TE']:\n",
    "        if pos in north_star:\n",
    "            print(f\"\\n{pos} TIER BREAKDOWN:\")\n",
    "            print(\"-\" * 25)\n",
    "            \n",
    "            tiers = analyzer.create_tiers(champions, pos)\n",
    "            \n",
    "            if tiers:\n",
    "                # Group by tier\n",
    "                tier_groups = {}\n",
    "                for player, data in tiers.items():\n",
    "                    tier = data['tier']\n",
    "                    if tier not in tier_groups:\n",
    "                        tier_groups[tier] = []\n",
    "                    tier_groups[tier].append((player, data))\n",
    "                \n",
    "                # Display each tier\n",
    "                for tier in sorted(tier_groups.keys()):\n",
    "                    players = sorted(tier_groups[tier], key=lambda x: x[1]['champion_rate'], reverse=True)\n",
    "                    print(f\"  Tier {tier}: {len(players)} players\")\n",
    "                    \n",
    "                    # Show top 3 players in tier\n",
    "                    for i, (player, data) in enumerate(players[:3]):\n",
    "                        print(f\"    {i+1}. {player[:20]:20} {data['champion_rate']:.1%} champion rate\")\n",
    "                    \n",
    "                    if len(players) > 3:\n",
    "                        print(f\"    ... and {len(players)-3} more\")\n",
    "                    print()\n",
    "            else:\n",
    "                print(f\"  No tier data available for {pos}\")\n",
    "else:\n",
    "    print(\"❌ Cannot perform tier analysis - no championship data\")"
   ]
  }
 ],
 "metadata": {
  "kernelspec": {
   "display_name": "venv",
   "language": "python",
   "name": "python3"
  },
  "language_info": {
   "codemirror_mode": {
    "name": "ipython",
    "version": 3
   },
   "file_extension": ".py",
   "mimetype": "text/x-python",
   "name": "python",
   "nbconvert_exporter": "python",
   "pygments_lexer": "ipython3",
   "version": "3.13.6"
  }
 },
 "nbformat": 4,
 "nbformat_minor": 4
}
