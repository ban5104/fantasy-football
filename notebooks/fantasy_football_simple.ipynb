{
 "cells": [
  {
   "cell_type": "markdown",
   "metadata": {},
   "source": [
    "# Fantasy Football Analysis - Fixed Version\n",
    "\n",
    "This notebook loads your CSV data and applies your league's custom scoring system."
   ]
  },
  {
   "cell_type": "code",
   "execution_count": null,
   "metadata": {},
   "outputs": [],
   "source": [
    "# Import required libraries\n",
    "import pandas as pd\n",
    "import numpy as np\n",
    "import yaml\n",
    "import matplotlib.pyplot as plt\n",
    "import seaborn as sns\n",
    "import warnings\n",
    "warnings.filterwarnings('ignore')\n",
    "\n",
    "# Set display options\n",
    "pd.set_option('display.max_columns', None)\n",
    "pd.set_option('display.width', None)\n",
    "pd.set_option('display.max_colwidth', 50)\n",
    "\n",
    "print(\"Libraries loaded successfully!\")"
   ]
  },
  {
   "cell_type": "code",
   "execution_count": null,
   "metadata": {},
   "outputs": [],
   "source": [
    "# Load the CSV file - skip the header rows to find the actual data\n",
    "import os\n",
    "os.chdir('/Users/ben/projects/fantasy-football-draft-spreadsheet')\n",
    "\n",
    "# Try to read the CSV and inspect its structure\n",
    "try:\n",
    "    # Read first few lines to understand structure\n",
    "    with open('CSG Fantasy Football Sheet - 2025 v13.01.csv', 'r') as f:\n",
    "        lines = f.readlines()[:10]\n",
    "    \n",
    "    print(\"First 10 lines of CSV:\")\n",
    "    for i, line in enumerate(lines):\n",
    "        print(f\"Line {i}: {line[:100]}...\")\n",
    "        \n",
    "except Exception as e:\n",
    "    print(f\"Error reading file: {e}\")"
   ]
  },
  {
   "cell_type": "code",
   "execution_count": null,
   "metadata": {},
   "outputs": [],
   "source": [
    "# Find the actual header row with player data\n",
    "# Look for row that starts with \"Rank\" or has player names\n",
    "\n",
    "def find_header_row(filename, max_rows=20):\n",
    "    with open(filename, 'r') as f:\n",
    "        for i, line in enumerate(f):\n",
    "            if i > max_rows:\n",
    "                break\n",
    "            # Look for common fantasy football column headers\n",
    "            line_lower = line.lower()\n",
    "            if any(word in line_lower for word in ['rank', 'player', 'position', 'team', 'owner']):\n",
    "                print(f\"Potential header found at line {i}: {line[:150]}\")\n",
    "                return i\n",
    "    return None\n",
    "\n",
    "header_row = find_header_row('CSG Fantasy Football Sheet - 2025 v13.01.csv')\n",
    "print(f\"\\nHeader row appears to be at line: {header_row}\")"
   ]
  },
  {
   "cell_type": "code",
   "execution_count": null,
   "metadata": {},
   "outputs": [],
   "source": [
    "# Load the data using the correct header row\n",
    "if header_row is not None:\n",
    "    df = pd.read_csv('CSG Fantasy Football Sheet - 2025 v13.01.csv', \n",
    "                     skiprows=header_row, \n",
    "                     low_memory=False)\n",
    "    \n",
    "    print(f\"Loaded dataframe with shape: {df.shape}\")\n",
    "    print(f\"\\nColumn names:\")\n",
    "    for i, col in enumerate(df.columns[:20]):  # Show first 20 columns\n",
    "        print(f\"{i}: {col}\")\n",
    "    \n",
    "    print(f\"\\nFirst few rows:\")\n",
    "    display(df.head(3))\nelse:\n",
    "    print(\"Could not find header row. Let's try a different approach.\")"
   ]
  },
  {
   "cell_type": "code",
   "execution_count": null,
   "metadata": {},
   "outputs": [],
   "source": [
    "# Load league configuration\n",
    "try:\n",
    "    with open('config/league-config.yaml', 'r') as f:\n",
    "        config = yaml.safe_load(f)\n",
    "    \n",
    "    print(\"League Configuration Loaded:\")\n",
    "    print(f\"League Name: {config['league_name']}\")\n",
    "    print(f\"Teams: {config['basic_settings']['teams']}\")\n",
    "    print(f\"Roster slots: {config['roster']['roster_slots']}\")\n",
    "    \n",
    "    print(\"\\nScoring System:\")\n",
    "    print(f\"Passing yards: {config['scoring']['passing']['yards']} per yard\")\n",
    "    print(f\"Rushing yards: {config['scoring']['rushing']['yards']} per yard\")\n",
    "    print(f\"Receiving yards: {config['scoring']['receiving']['yards']} per yard\")\n",
    "    \nexcept Exception as e:\n",
    "    print(f\"Error loading config: {e}\")"
   ]
  },
  {
   "cell_type": "code",
   "execution_count": null,
   "metadata": {},
   "outputs": [],
   "source": [
    "# Clean and process the data\n",
    "if 'df' in locals() and df is not None:\n",
    "    # Remove completely empty rows\n",
    "    df = df.dropna(how='all')\n",
    "    \n",
    "    # Try to identify key columns\n",
    "    print(\"Looking for key fantasy columns...\")\n",
    "    \n",
    "    # Look for player name column\n",
    "    player_cols = [col for col in df.columns if any(word in col.lower() for word in ['player', 'name'])]\n",
    "    position_cols = [col for col in df.columns if any(word in col.lower() for word in ['position', 'pos'])]\n",
    "    team_cols = [col for col in df.columns if any(word in col.lower() for word in ['team'])]\n",
    "    \n",
    "    print(f\"Potential player columns: {player_cols}\")\n",
    "    print(f\"Potential position columns: {position_cols}\")\n",
    "    print(f\"Potential team columns: {team_cols}\")\n",
    "    \n",
    "    # Show some sample data\n",
    "    if len(df) > 0:\n",
    "        print(f\"\\nSample data (first 5 rows, first 10 columns):\")\n",
    "        display(df.iloc[:5, :10])\nelse:\n",
    "    print(\"No data loaded yet.\")"
   ]
  },
  {
   "cell_type": "code",
   "execution_count": null,
   "metadata": {},
   "outputs": [],
   "source": [
    "# Manual column mapping if automatic detection doesn't work\n",
    "# Let's manually examine the columns and map them\n",
    "\n",
    "if 'df' in locals() and len(df) > 0:\n",
    "    print(\"Let's examine the actual data structure:\")\n",
    "    \n",
    "    # Show each column with some sample values\n",
    "    for i, col in enumerate(df.columns[:15]):\n",
    "        sample_values = df[col].dropna().head(3).tolist()\n",
    "        print(f\"Column {i} '{col}': {sample_values}\")\n",
    "    \n",
    "    print(\"\\n\" + \"=\"*50)\n",
    "    print(\"Based on the data, let's manually map the important columns...\")"
   ]
  },
  {
   "cell_type": "markdown",
   "metadata": {},
   "source": [
    "## Quick Analysis\n",
    "\n",
    "Once we have the data properly loaded, we can do some basic analysis:"
   ]
  },
  {
   "cell_type": "code",
   "execution_count": null,
   "metadata": {},
   "outputs": [],
   "source": [
    "# Basic analysis function\n",
    "def analyze_players(df, player_col, position_col):\n",
    "    \"\"\"\n",
    "    Simple analysis of player data\n",
    "    \"\"\"\n",
    "    if player_col in df.columns and position_col in df.columns:\n",
    "        # Count by position\n",
    "        position_counts = df[position_col].value_counts()\n",
    "        print(\"Players by position:\")\n",
    "        print(position_counts)\n",
    "        \n",
    "        # Show top 10 players\n",
    "        print(\"\\nTop 10 players:\")\n",
    "        display(df[[player_col, position_col]].head(10))\n",
    "        \n",
    "        return True\n",
    "    else:\n",
    "        print(f\"Columns not found: {player_col}, {position_col}\")\n",
    "        return False\n",
    "\n",
    "# This will be filled in once we identify the correct columns\n",
    "print(\"Analysis function ready. Will run once columns are identified.\")"
   ]
  },
  {
   "cell_type": "code",
   "execution_count": null,
   "metadata": {},
   "outputs": [],
   "source": [
    "# Value-Based Drafting calculation\n",
    "def calculate_vbd(df, points_col, position_col, replacement_levels):\n",
    "    \"\"\"\n",
    "    Calculate Value Based Drafting scores\n",
    "    \"\"\"\n",
    "    if points_col not in df.columns or position_col not in df.columns:\n",
    "        print(f\"Required columns not found: {points_col}, {position_col}\")\n",
    "        return df\n",
    "    \n",
    "    df_copy = df.copy()\n",
    "    df_copy['VBD'] = 0\n",
    "    \n",
    "    for pos, replacement_rank in replacement_levels.items():\n",
    "        if pos == 'FLEX':  # Skip FLEX for now\n",
    "            continue\n",
    "            \n",
    "        pos_players = df_copy[df_copy[position_col] == pos].copy()\n",
    "        if len(pos_players) >= replacement_rank:\n",
    "            pos_players = pos_players.sort_values(points_col, ascending=False)\n",
    "            replacement_points = pos_players.iloc[replacement_rank-1][points_col]\n",
    "            \n",
    "            # Calculate VBD for this position\n",
    "            pos_mask = df_copy[position_col] == pos\n",
    "            df_copy.loc[pos_mask, 'VBD'] = df_copy.loc[pos_mask, points_col] - replacement_points\n",
    "    \n",
    "    return df_copy\n",
    "\n",
    "print(\"VBD calculation function ready.\")"
   ]
  },
  {
   "cell_type": "markdown",
   "metadata": {},
   "source": [
    "## Next Steps\n",
    "\n",
    "Run the cells above to:\n",
    "1. Load and inspect your CSV data\n",
    "2. Identify the correct column mappings\n",
    "3. Apply your league's scoring system\n",
    "4. Calculate Value-Based Drafting rankings\n",
    "\n",
    "Once we have the data properly loaded, we can add more advanced analysis and visualizations!"
   ]
  }
 ],
 "metadata": {
  "kernelspec": {
   "display_name": "Python 3",
   "language": "python",
   "name": "python3"
  },
  "language_info": {
   "codemirror_mode": {
    "name": "ipython",
    "version": 3
   },
   "file_extension": ".py",
   "mimetype": "text/x-python",
   "name": "python",
   "nbconvert_exporter": "python",
   "pygments_lexer": "ipython3",
   "version": "3.13.5"
  }
 },
 "nbformat": 4,
 "nbformat_minor": 4
}