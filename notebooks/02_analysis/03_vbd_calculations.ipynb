{
 "cells": [
  {
   "cell_type": "markdown",
   "metadata": {},
   "source": [
    "# Value Based Drafting (VBD) Analysis\n",
    "\n",
    "This notebook calculates VBD using multiple industry-standard methods:\n",
    "- **VOLS** (Value Over Like Starters): teams × starters\n",
    "- **VORP** (Value Over Replacement Player): teams × (starters + 1)\n",
    "- **BEER** (Best Eleven Every Round): teams × (starters + 0.5)\n",
    "- **Blended**: Weighted combination of all methods\n",
    "\n",
    "**Input**: Processed projections from `02_basic_rankings.ipynb`\n",
    "**Output**: Top 300 players ranked by VBD methods"
   ]
  },
  {
   "cell_type": "code",
   "execution_count": null,
   "metadata": {},
   "outputs": [],
   "source": [
    "import sys\n",
    "import os\n",
    "import pandas as pd\n",
    "import numpy as np\n",
    "\n",
    "# Add src directory to path\n",
    "sys.path.append(os.path.join(os.getcwd(), '..', '..', 'src'))\n",
    "\n",
    "from vbd import calculate_all_vbd_methods, get_top_players_by_vbd, analyze_vbd_distribution\n",
    "from scoring import load_league_config\n",
    "from utils import setup_logging, save_rankings, compare_rankings\n",
    "import logging\n",
    "\n",
    "# Setup logging\n",
    "setup_logging()\n",
    "\n",
    "pd.set_option('display.max_columns', None)\n",
    "pd.set_option('display.width', None)"
   ]
  },
  {
   "cell_type": "markdown",
   "metadata": {},
   "source": [
    "## Load Processed Data"
   ]
  },
  {
   "cell_type": "code",
   "execution_count": null,
   "metadata": {},
   "outputs": [],
   "source": [
    "# Load the most recent processed rankings\n",
    "try:\n",
    "    # Look for most recent rankings file\n",
    "    rankings_files = [f for f in os.listdir('../../data/output') if f.startswith('rankings_top300_')]\n",
    "    if not rankings_files:\n",
    "        raise FileNotFoundError(\"No rankings files found. Run 02_basic_rankings.ipynb first.\")\n",
    "    \n",
    "    latest_file = sorted(rankings_files)[-1]\n",
    "    df = pd.read_csv(f'../../data/output/{latest_file}')\n",
    "    \n",
    "    print(f\"Loaded {len(df)} players from {latest_file}\")\n",
    "    print(f\"Columns: {list(df.columns)}\")\n",
    "    \n",
    "except Exception as e:\n",
    "    print(f\"Error loading data: {e}\")\n",
    "    print(\"Please run 02_basic_rankings.ipynb first to generate processed projections.\")"
   ]
  },
  {
   "cell_type": "markdown",
   "metadata": {},
   "source": [
    "## Load League Configuration"
   ]
  },
  {
   "cell_type": "code",
   "execution_count": null,
   "metadata": {},
   "outputs": [],
   "source": [
    "# Load league settings\n",
    "config = load_league_config('../../config/league-config.yaml')\n",
    "\n",
    "print(\"League Configuration:\")\n",
    "print(f\"Teams: {config.get('basic_settings', {}).get('teams', 'Not specified')}\")\n",
    "print(f\"Roster slots: {config.get('roster', {}).get('roster_slots', {})}\")\n",
    "\n",
    "# Show baseline calculations\n",
    "teams = config.get('basic_settings', {}).get('teams', 12)\n",
    "roster_slots = config.get('roster', {}).get('roster_slots', {})\n",
    "\n",
    "print(\"\\nBaseline Calculations (players at replacement level):\")\n",
    "for pos, starters in roster_slots.items():\n",
    "    vols = teams * starters\n",
    "    vorp = teams * (starters + 1)\n",
    "    beer = int(teams * (starters + 0.5))\n",
    "    print(f\"{pos}: VOLS={vols}, VORP={vorp}, BEER={beer}\")"
   ]
  },
  {
   "cell_type": "markdown",
   "metadata": {},
   "source": [
    "## Calculate VBD Methods"
   ]
  },
  {
   "cell_type": "code",
   "execution_count": null,
   "metadata": {},
   "outputs": [],
   "source": [
    "# Calculate all VBD methods\n",
    "df_vbd = calculate_all_vbd_methods(df, config)\n",
    "\n",
    "print(f\"VBD calculations complete for {len(df_vbd)} players\")\n",
    "print(\"\\nVBD columns added:\")\n",
    "vbd_cols = [col for col in df_vbd.columns if col.startswith('VBD_')]\n",
    "print(vbd_cols)"
   ]
  },
  {
   "cell_type": "markdown",
   "metadata": {},
   "source": [
    "## Top Players by Each VBD Method"
   ]
  },
  {
   "cell_type": "code",
   "execution_count": null,
   "metadata": {},
   "outputs": [],
   "source": [
    "# Show top 20 players by each VBD method\n",
    "methods = ['VBD_VOLS', 'VBD_VORP', 'VBD_BEER', 'VBD_BLENDED']\n",
    "\n",
    "for method in methods:\n",
    "    print(f\"\\n=== TOP 20 PLAYERS BY {method} ===\")\n",
    "    top_20 = df_vbd.nlargest(20, method)[['PLAYER', 'Position', 'FANTASY_PTS', method]].reset_index(drop=True)\n",
    "    top_20.index += 1  # Start ranking from 1\n",
    "    display(top_20)"
   ]
  },
  {
   "cell_type": "markdown",
   "metadata": {},
   "source": [
    "## VBD Method Comparison"
   ]
  },
  {
   "cell_type": "code",
   "execution_count": null,
   "metadata": {},
   "outputs": [],
   "source": [
    "# Compare how different methods rank the same players\n",
    "comparison = compare_rankings(df_vbd, methods=['VBD_VOLS', 'VBD_VORP', 'VBD_BEER', 'VBD_BLENDED'], top_n=30)\n",
    "\n",
    "print(\"Comparison of Top 30 Rankings Across VBD Methods:\")\n",
    "pivot_comparison = comparison.pivot_table(\n",
    "    index=['PLAYER', 'Position'], \n",
    "    columns='Method', \n",
    "    values='Rank', \n",
    "    fill_value='>30'\n",
    ")\n",
    "\n",
    "display(pivot_comparison.head(20))"
   ]
  },
  {
   "cell_type": "markdown",
   "metadata": {},
   "source": [
    "## Position Distribution Analysis"
   ]
  },
  {
   "cell_type": "code",
   "execution_count": null,
   "metadata": {},
   "outputs": [],
   "source": [
    "# Analyze position distribution in top 300 by blended VBD\n",
    "distribution = analyze_vbd_distribution(df_vbd, top_n=300)\n",
    "\n",
    "print(\"Position Distribution in Top 300 (Blended VBD):\")\n",
    "display(distribution)\n",
    "\n",
    "# Show distribution by different VBD methods\n",
    "print(\"\\nPosition Distribution Comparison Across Methods:\")\n",
    "for method in ['VBD_VOLS', 'VBD_VORP', 'VBD_BEER', 'VBD_BLENDED']:\n",
    "    top_300 = get_top_players_by_vbd(df_vbd, method=method, top_n=300)\n",
    "    dist = top_300['Position'].value_counts()\n",
    "    print(f\"\\n{method}:\")\n",
    "    for pos, count in dist.items():\n",
    "        print(f\"  {pos}: {count} ({count/300*100:.1f}%)\")"
   ]
  },
  {
   "cell_type": "markdown",
   "metadata": {},
   "source": [
    "## Filter to Top 300 and Save"
   ]
  },
  {
   "cell_type": "code",
   "execution_count": null,
   "metadata": {},
   "outputs": [],
   "source": [
    "# Get top 300 players by blended VBD\n",
    "top_300_vbd = get_top_players_by_vbd(df_vbd, method='VBD_BLENDED', top_n=300)\n",
    "\n",
    "# Add overall VBD rank\n",
    "top_300_vbd['VBD_RANK'] = range(1, len(top_300_vbd) + 1)\n",
    "\n",
    "print(f\"Top 300 players selected by Blended VBD\")\n",
    "print(f\"VBD range: {top_300_vbd['VBD_BLENDED'].max():.2f} to {top_300_vbd['VBD_BLENDED'].min():.2f}\")\n",
    "\n",
    "# Show final rankings\n",
    "display_cols = ['VBD_RANK', 'PLAYER', 'Position', 'FANTASY_PTS', 'VBD_BLENDED', 'VBD_VOLS', 'VBD_VORP', 'VBD_BEER']\n",
    "print(\"\\nTop 20 by Blended VBD:\")\n",
    "display(top_300_vbd[display_cols].head(20))"
   ]
  },
  {
   "cell_type": "markdown",
   "metadata": {},
   "source": [
    "## Save VBD Rankings"
   ]
  },
  {
   "cell_type": "code",
   "execution_count": null,
   "metadata": {},
   "outputs": [],
   "source": [
    "# Save VBD rankings to output\n",
    "filename = save_rankings(top_300_vbd, filename_prefix=\"vbd_rankings_top300\", output_path=\"../../data/output\")\n",
    "print(f\"VBD rankings saved to: {filename}\")\n",
    "\n",
    "# Also save separate files for each method\n",
    "for method in ['VBD_VOLS', 'VBD_VORP', 'VBD_BEER']:\n",
    "    method_top300 = get_top_players_by_vbd(df_vbd, method=method, top_n=300)\n",
    "    method_filename = save_rankings(\n",
    "        method_top300, \n",
    "        filename_prefix=f\"rankings_{method.lower()}_top300\", \n",
    "        output_path=\"../../data/output\"\n",
    "    )\n",
    "    print(f\"{method} rankings saved to: {method_filename}\")\n",
    "\n",
    "print(\"\\n✅ VBD analysis complete!\")\n",
    "print(\"Next steps:\")\n",
    "print(\"- Use blended VBD rankings for draft preparation\")\n",
    "print(\"- Compare different methods for positional strategy\")\n",
    "print(\"- Run 03_draft_strategy.ipynb for draft board analysis\")"
   ]
  }
 ],
 "metadata": {
  "kernelspec": {
   "display_name": "Python 3",
   "language": "python",
   "name": "python3"
  },
  "language_info": {
   "codemirror_mode": {
    "name": "ipython",
    "version": 3
   },
   "file_extension": ".py",
   "mimetype": "text/x-python",
   "name": "python",
   "nbconvert_exporter": "python",
   "pygments_lexer": "ipython3",
   "version": "3.8.5"
  }
 },
 "nbformat": 4,
 "nbformat_minor": 4
}