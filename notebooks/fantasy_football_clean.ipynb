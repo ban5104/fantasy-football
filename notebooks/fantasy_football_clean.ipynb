{
 "cells": [
  {
   "cell_type": "markdown",
   "metadata": {},
   "source": [
    "# Fantasy Football Analysis - Clean CSV Version\n",
    "\n",
    "Now that the CSV has a clean structure, we can easily load and analyze the data!"
   ]
  },
  {
   "cell_type": "code",
   "execution_count": 11,
   "metadata": {},
   "outputs": [
    {
     "name": "stdout",
     "output_type": "stream",
     "text": [
      "Current Python: /Users/ben/projects/fantasy-football-draft-spreadsheet/.venv/bin/python\n",
      "Expected Python: /Users/ben/projects/fantasy-football-draft-spreadsheet/.venv/bin/python\n",
      "✅ pandas found\n",
      "Ready to proceed!\n"
     ]
    }
   ],
   "source": [
    "  import sys\n",
    "  import subprocess\n",
    "\n",
    "  # Ensure we're using the right Python path\n",
    "  expected_path = \"/Users/ben/projects/fantasy-football-draft-spreadsheet/.venv/bin/python\"\n",
    "  print(f\"Current Python: {sys.executable}\")\n",
    "  print(f\"Expected Python: {expected_path}\")\n",
    "\n",
    "  # Install missing packages if needed\n",
    "  try:\n",
    "      import pandas\n",
    "      print(\"✅ pandas found\")\n",
    "  except ImportError:\n",
    "      print(\"Installing pandas...\")\n",
    "      subprocess.check_call([sys.executable, \"-m\", \"pip\", \"install\", \"pandas\", \"numpy\", \"pyyaml\", \"matplotlib\", \"seaborn\", \"plotly\"])\n",
    "      import pandas\n",
    "      print(\"✅ pandas installed and imported\")\n",
    "\n",
    "  print(\"Ready to proceed!\")"
   ]
  },
  {
   "cell_type": "code",
   "execution_count": 12,
   "metadata": {},
   "outputs": [
    {
     "name": "stdout",
     "output_type": "stream",
     "text": [
      "✅ Libraries loaded successfully!\n"
     ]
    }
   ],
   "source": [
    "# Import required libraries\n",
    "import pandas as pd\n",
    "import numpy as np\n",
    "import yaml\n",
    "import matplotlib.pyplot as plt\n",
    "import seaborn as sns\n",
    "import plotly.graph_objects as go\n",
    "import plotly.express as px\n",
    "from plotly.subplots import make_subplots\n",
    "import warnings\n",
    "warnings.filterwarnings('ignore')\n",
    "\n",
    "# Set styling\n",
    "plt.style.use('default')\n",
    "sns.set_palette('husl')\n",
    "pd.set_option('display.max_columns', None)\n",
    "pd.set_option('display.width', None)\n",
    "\n",
    "print(\"✅ Libraries loaded successfully!\")"
   ]
  },
  {
   "cell_type": "code",
   "execution_count": null,
   "metadata": {},
   "outputs": [
    {
     "name": "stdout",
     "output_type": "stream",
     "text": [
      "✅ Loaded 489 players\n",
      "📊 Data shape: (489, 45)\n",
      "\n",
      "📋 Columns available:\n",
      " 0: Rank\n",
      " 1: Owner \n",
      " 2: Pick Num\n",
      " 3: Age\n",
      " 4: Drafted\n",
      " 5: Player\n",
      " 6: Position\n",
      " 7: Team\n",
      " 8: Bye\n",
      " 9: Status\n",
      "10: Trgt Pick\n",
      "11: Pick Odds\n",
      "12: ESPN\n",
      "13: NFL\n",
      "14: Yahoo\n",
      "15: ECR\n",
      "16: 2QB\n",
      "17: match\n",
      "18: Dynasty\n",
      "19: Rookie\n",
      "20: ESPN ADP\n",
      "21: NFL ADP\n",
      "22: Yahoo ADP\n",
      "23: Sleeper ADP\n",
      "24: FFC ADP\n",
      "25: Dynasty ADP\n",
      "26: AVG ADP\n",
      "27: ADPmat\n",
      "28: xx\n",
      "29: Boris\n",
      "30: Difference\n",
      "31: ECR Skew\n",
      "32: BS Val\n",
      "33: PosScarcity\n",
      "34: BeerTier\n",
      "35: AdjBSval\n",
      "36: VBD\n",
      "37: VBD Tier\n",
      "38: VAL%\n",
      "39: Gold Rank\n",
      "40: Custom Ranks\n",
      "41: ECR Prj\n",
      "42: Salary\n",
      "43: KeeperName\n",
      "44: KeeperPick\n",
      "\n",
      "🏈 Sample data:\n"
     ]
    },
    {
     "data": {
      "text/html": [
       "<div>\n",
       "<style scoped>\n",
       "    .dataframe tbody tr th:only-of-type {\n",
       "        vertical-align: middle;\n",
       "    }\n",
       "\n",
       "    .dataframe tbody tr th {\n",
       "        vertical-align: top;\n",
       "    }\n",
       "\n",
       "    .dataframe thead th {\n",
       "        text-align: right;\n",
       "    }\n",
       "</style>\n",
       "<table border=\"1\" class=\"dataframe\">\n",
       "  <thead>\n",
       "    <tr style=\"text-align: right;\">\n",
       "      <th></th>\n",
       "      <th>Rank</th>\n",
       "      <th>Player</th>\n",
       "      <th>Position</th>\n",
       "      <th>Team</th>\n",
       "      <th>VBD</th>\n",
       "      <th>ECR Prj</th>\n",
       "    </tr>\n",
       "  </thead>\n",
       "  <tbody>\n",
       "    <tr>\n",
       "      <th>0</th>\n",
       "      <td>1</td>\n",
       "      <td>Ja'Marr Chase</td>\n",
       "      <td>WR</td>\n",
       "      <td>CIN</td>\n",
       "      <td>168.0</td>\n",
       "      <td>291.3</td>\n",
       "    </tr>\n",
       "    <tr>\n",
       "      <th>1</th>\n",
       "      <td>2</td>\n",
       "      <td>Bijan Robinson</td>\n",
       "      <td>RB</td>\n",
       "      <td>ATL</td>\n",
       "      <td>178.5</td>\n",
       "      <td>289.7</td>\n",
       "    </tr>\n",
       "    <tr>\n",
       "      <th>2</th>\n",
       "      <td>3</td>\n",
       "      <td>Justin Jefferson</td>\n",
       "      <td>WR</td>\n",
       "      <td>MIN</td>\n",
       "      <td>135.7</td>\n",
       "      <td>259.0</td>\n",
       "    </tr>\n",
       "    <tr>\n",
       "      <th>3</th>\n",
       "      <td>4</td>\n",
       "      <td>Saquon Barkley</td>\n",
       "      <td>RB</td>\n",
       "      <td>PHI</td>\n",
       "      <td>182.6</td>\n",
       "      <td>293.7</td>\n",
       "    </tr>\n",
       "    <tr>\n",
       "      <th>4</th>\n",
       "      <td>5</td>\n",
       "      <td>Jahmyr Gibbs</td>\n",
       "      <td>RB</td>\n",
       "      <td>DET</td>\n",
       "      <td>176.2</td>\n",
       "      <td>287.4</td>\n",
       "    </tr>\n",
       "  </tbody>\n",
       "</table>\n",
       "</div>"
      ],
      "text/plain": [
       "   Rank            Player Position Team    VBD  ECR Prj\n",
       "0     1     Ja'Marr Chase       WR  CIN  168.0    291.3\n",
       "1     2    Bijan Robinson       RB  ATL  178.5    289.7\n",
       "2     3  Justin Jefferson       WR  MIN  135.7    259.0\n",
       "3     4    Saquon Barkley       RB  PHI  182.6    293.7\n",
       "4     5      Jahmyr Gibbs       RB  DET  176.2    287.4"
      ]
     },
     "metadata": {},
     "output_type": "display_data"
    }
   ],
   "source": [
    "# Load the clean CSV data\n",
    "import os\n",
    "os.chdir('/Users/ben/projects/fantasy-football-draft-spreadsheet')\n",
    "\n",
    "# Load data\n",
    "df = pd.read_csv('CSG Fantasy Football Sheet - 2025 v13.01.csv')\n",
    "\n",
    "print(f\"✅ Loaded {len(df)} players\")\n",
    "print(f\"📊 Data shape: {df.shape}\")\n",
    "print(f\"\\n📋 Columns available:\")\n",
    "for i, col in enumerate(df.columns):\n",
    "    print(f\"{i:2d}: {col}\")\n",
    "\n",
    "print(f\"\\n🏈 Sample data:\")\n",
    "display(df[['Rank', 'Player', 'Position', 'Team', 'VBD', 'ECR Prj']].head())"
   ]
  },
  {
   "cell_type": "code",
   "execution_count": 14,
   "metadata": {},
   "outputs": [
    {
     "name": "stdout",
     "output_type": "stream",
     "text": [
      "⚙️ League Configuration:\n",
      "🏆 League: Fantasy 24-25\n",
      "👥 Teams: 14\n",
      "📊 Roster: {'QB': 1, 'RB': 2, 'WR': 2, 'TE': 1, 'FLEX': 1, 'DEF': 1, 'K': 1}\n",
      "\n",
      "💯 Scoring System:\n",
      "🏈 Passing: 0.04 pts/yd, 4 pts/TD\n",
      "🏃 Rushing: 0.1 pts/yd, 6 pts/TD\n",
      "🙌 Receiving: 0.1 pts/yd, 6 pts/TD\n",
      "\n",
      "🔄 Replacement Levels:\n",
      "QB: 14\n",
      "RB: 28\n",
      "WR: 28\n",
      "TE: 14\n",
      "FLEX: 42\n",
      "DEF: 14\n",
      "K: 14\n"
     ]
    }
   ],
   "source": [
    "# Load league configuration\n",
    "with open('config/league-config.yaml', 'r') as f:\n",
    "    config = yaml.safe_load(f)\n",
    "\n",
    "print(\"⚙️ League Configuration:\")\n",
    "print(f\"🏆 League: {config['league_name']}\")\n",
    "print(f\"👥 Teams: {config['basic_settings']['teams']}\")\n",
    "print(f\"📊 Roster: {config['roster']['roster_slots']}\")\n",
    "\n",
    "print(\"\\n💯 Scoring System:\")\n",
    "print(f\"🏈 Passing: {config['scoring']['passing']['yards']} pts/yd, {config['scoring']['passing']['touchdown']} pts/TD\")\n",
    "print(f\"🏃 Rushing: {config['scoring']['rushing']['yards']} pts/yd, {config['scoring']['rushing']['touchdown']} pts/TD\")\n",
    "print(f\"🙌 Receiving: {config['scoring']['receiving']['yards']} pts/yd, {config['scoring']['receiving']['touchdown']} pts/TD\")\n",
    "\n",
    "print(\"\\n🔄 Replacement Levels:\")\n",
    "for pos, level in config['replacement_level'].items():\n",
    "    print(f\"{pos}: {level}\")"
   ]
  },
  {
   "cell_type": "code",
   "execution_count": 15,
   "metadata": {},
   "outputs": [
    {
     "name": "stdout",
     "output_type": "stream",
     "text": [
      "🧹 Cleaning data...\n",
      "✅ Cleaned data: 341 players\n",
      "\n",
      "📊 Players by Position:\n",
      "Position\n",
      "WR    110\n",
      "RB     99\n",
      "TE     50\n",
      "QB     50\n",
      "K      32\n",
      "Name: count, dtype: int64\n"
     ]
    }
   ],
   "source": [
    "# Clean and process the data\n",
    "print(\"🧹 Cleaning data...\")\n",
    "\n",
    "# Remove empty rows\n",
    "df = df.dropna(subset=['Player']).copy()\n",
    "\n",
    "# Convert numeric columns\n",
    "numeric_cols = ['Rank', 'Age', 'ESPN', 'NFL', 'Yahoo', 'ECR', 'VBD', 'ECR Prj']\n",
    "for col in numeric_cols:\n",
    "    if col in df.columns:\n",
    "        df[col] = pd.to_numeric(df[col], errors='coerce')\n",
    "\n",
    "# Clean up some columns\n",
    "df['Position'] = df['Position'].str.upper().str.strip()\n",
    "df['Team'] = df['Team'].str.upper().str.strip()\n",
    "\n",
    "# Filter to main positions\n",
    "main_positions = ['QB', 'RB', 'WR', 'TE', 'K', 'DEF', 'D/ST']\n",
    "df['Position'] = df['Position'].replace('D/ST', 'DEF')  # Standardize defense\n",
    "df_clean = df[df['Position'].isin(main_positions)].copy()\n",
    "\n",
    "print(f\"✅ Cleaned data: {len(df_clean)} players\")\n",
    "print(f\"\\n📊 Players by Position:\")\n",
    "print(df_clean['Position'].value_counts())"
   ]
  },
  {
   "cell_type": "code",
   "execution_count": null,
   "metadata": {},
   "outputs": [
    {
     "name": "stdout",
     "output_type": "stream",
     "text": [
      "✅ Custom VBD calculated!\n",
      "\n",
      "🔝 Top 10 Players by Custom VBD:\n"
     ]
    },
    {
     "data": {
      "text/html": [
       "<div>\n",
       "<style scoped>\n",
       "    .dataframe tbody tr th:only-of-type {\n",
       "        vertical-align: middle;\n",
       "    }\n",
       "\n",
       "    .dataframe tbody tr th {\n",
       "        vertical-align: top;\n",
       "    }\n",
       "\n",
       "    .dataframe thead th {\n",
       "        text-align: right;\n",
       "    }\n",
       "</style>\n",
       "<table border=\"1\" class=\"dataframe\">\n",
       "  <thead>\n",
       "    <tr style=\"text-align: right;\">\n",
       "      <th></th>\n",
       "      <th>Rank</th>\n",
       "      <th>Player</th>\n",
       "      <th>Position</th>\n",
       "      <th>Team</th>\n",
       "      <th>ECR Prj</th>\n",
       "      <th>Custom_VBD</th>\n",
       "    </tr>\n",
       "  </thead>\n",
       "  <tbody>\n",
       "    <tr>\n",
       "      <th>3</th>\n",
       "      <td>4</td>\n",
       "      <td>Saquon Barkley</td>\n",
       "      <td>RB</td>\n",
       "      <td>PHI</td>\n",
       "      <td>293.7</td>\n",
       "      <td>131.3</td>\n",
       "    </tr>\n",
       "    <tr>\n",
       "      <th>1</th>\n",
       "      <td>2</td>\n",
       "      <td>Bijan Robinson</td>\n",
       "      <td>RB</td>\n",
       "      <td>ATL</td>\n",
       "      <td>289.7</td>\n",
       "      <td>127.3</td>\n",
       "    </tr>\n",
       "    <tr>\n",
       "      <th>4</th>\n",
       "      <td>5</td>\n",
       "      <td>Jahmyr Gibbs</td>\n",
       "      <td>RB</td>\n",
       "      <td>DET</td>\n",
       "      <td>287.4</td>\n",
       "      <td>125.0</td>\n",
       "    </tr>\n",
       "    <tr>\n",
       "      <th>0</th>\n",
       "      <td>1</td>\n",
       "      <td>Ja'Marr Chase</td>\n",
       "      <td>WR</td>\n",
       "      <td>CIN</td>\n",
       "      <td>291.3</td>\n",
       "      <td>120.6</td>\n",
       "    </tr>\n",
       "    <tr>\n",
       "      <th>6</th>\n",
       "      <td>7</td>\n",
       "      <td>Christian McCaffrey</td>\n",
       "      <td>RB</td>\n",
       "      <td>SF</td>\n",
       "      <td>259.3</td>\n",
       "      <td>96.9</td>\n",
       "    </tr>\n",
       "    <tr>\n",
       "      <th>18</th>\n",
       "      <td>19</td>\n",
       "      <td>Derrick Henry</td>\n",
       "      <td>RB</td>\n",
       "      <td>BAL</td>\n",
       "      <td>258.2</td>\n",
       "      <td>95.8</td>\n",
       "    </tr>\n",
       "    <tr>\n",
       "      <th>11</th>\n",
       "      <td>12</td>\n",
       "      <td>De'Von Achane</td>\n",
       "      <td>RB</td>\n",
       "      <td>MIA</td>\n",
       "      <td>255.1</td>\n",
       "      <td>92.7</td>\n",
       "    </tr>\n",
       "    <tr>\n",
       "      <th>28</th>\n",
       "      <td>29</td>\n",
       "      <td>Lamar Jackson</td>\n",
       "      <td>QB</td>\n",
       "      <td>BAL</td>\n",
       "      <td>369.6</td>\n",
       "      <td>91.7</td>\n",
       "    </tr>\n",
       "    <tr>\n",
       "      <th>2</th>\n",
       "      <td>3</td>\n",
       "      <td>Justin Jefferson</td>\n",
       "      <td>WR</td>\n",
       "      <td>MIN</td>\n",
       "      <td>259.0</td>\n",
       "      <td>88.3</td>\n",
       "    </tr>\n",
       "    <tr>\n",
       "      <th>27</th>\n",
       "      <td>28</td>\n",
       "      <td>Josh Allen</td>\n",
       "      <td>QB</td>\n",
       "      <td>BUF</td>\n",
       "      <td>366.1</td>\n",
       "      <td>88.2</td>\n",
       "    </tr>\n",
       "  </tbody>\n",
       "</table>\n",
       "</div>"
      ],
      "text/plain": [
       "    Rank               Player Position Team  ECR Prj  Custom_VBD\n",
       "3      4       Saquon Barkley       RB  PHI    293.7       131.3\n",
       "1      2       Bijan Robinson       RB  ATL    289.7       127.3\n",
       "4      5         Jahmyr Gibbs       RB  DET    287.4       125.0\n",
       "0      1        Ja'Marr Chase       WR  CIN    291.3       120.6\n",
       "6      7  Christian McCaffrey       RB   SF    259.3        96.9\n",
       "18    19        Derrick Henry       RB  BAL    258.2        95.8\n",
       "11    12        De'Von Achane       RB  MIA    255.1        92.7\n",
       "28    29        Lamar Jackson       QB  BAL    369.6        91.7\n",
       "2      3     Justin Jefferson       WR  MIN    259.0        88.3\n",
       "27    28           Josh Allen       QB  BUF    366.1        88.2"
      ]
     },
     "metadata": {},
     "output_type": "display_data"
    }
   ],
   "source": [
    "# Calculate custom VBD based on your league settings\n",
    "def calculate_custom_vbd(df, config):\n",
    "    \"\"\"\n",
    "    Calculate Value-Based Drafting using league replacement levels\n",
    "    \"\"\"\n",
    "    df_vbd = df.copy()\n",
    "    df_vbd['Custom_VBD'] = 0\n",
    "    \n",
    "    # Use ECR Prj as the base scoring if available\n",
    "    points_col = 'ECR Prj' if 'ECR Prj' in df.columns else 'VBD'\n",
    "    \n",
    "    replacement_levels = config['replacement_level']\n",
    "    \n",
    "    for pos in ['QB', 'RB', 'WR', 'TE', 'DEF', 'K']:\n",
    "        if pos in replacement_levels:\n",
    "            pos_players = df_vbd[df_vbd['Position'] == pos].copy()\n",
    "            \n",
    "            if len(pos_players) > 0 and not pos_players[points_col].isna().all():\n",
    "                # Sort by projected points (descending)\n",
    "                pos_players = pos_players.sort_values(points_col, ascending=False, na_position='last')\n",
    "                \n",
    "                replacement_rank = replacement_levels[pos]\n",
    "                if len(pos_players) >= replacement_rank:\n",
    "                    replacement_points = pos_players.iloc[replacement_rank-1][points_col]\n",
    "                    \n",
    "                    # Calculate VBD\n",
    "                    pos_mask = df_vbd['Position'] == pos\n",
    "                    df_vbd.loc[pos_mask, 'Custom_VBD'] = df_vbd.loc[pos_mask, points_col] - replacement_points\n",
    "    \n",
    "    return df_vbd\n",
    "\n",
    "# Calculate custom VBD\n",
    "df_analysis = calculate_custom_vbd(df_clean, config)\n",
    "\n",
    "print(\"✅ Custom VBD calculated!\")\n",
    "print(f\"\\n🔝 Top 10 Players by Custom VBD:\")\n",
    "top_vbd = df_analysis.nlargest(10, 'Custom_VBD')[['Rank', 'Player', 'Position', 'Team', 'ECR Prj', 'Custom_VBD']]\n",
    "display(top_vbd)"
   ]
  },
  {
   "cell_type": "code",
   "execution_count": 17,
   "metadata": {},
   "outputs": [
    {
     "name": "stdout",
     "output_type": "stream",
     "text": [
      "🏈 POSITION RANKINGS (Top 15 by Custom VBD)\n",
      "============================================================\n",
      "\n",
      "🎯 QB Rankings:\n"
     ]
    },
    {
     "data": {
      "text/html": [
       "<div>\n",
       "<style scoped>\n",
       "    .dataframe tbody tr th:only-of-type {\n",
       "        vertical-align: middle;\n",
       "    }\n",
       "\n",
       "    .dataframe tbody tr th {\n",
       "        vertical-align: top;\n",
       "    }\n",
       "\n",
       "    .dataframe thead th {\n",
       "        text-align: right;\n",
       "    }\n",
       "</style>\n",
       "<table border=\"1\" class=\"dataframe\">\n",
       "  <thead>\n",
       "    <tr style=\"text-align: right;\">\n",
       "      <th></th>\n",
       "      <th>Pos_Rank</th>\n",
       "      <th>Player</th>\n",
       "      <th>Team</th>\n",
       "      <th>ECR Prj</th>\n",
       "      <th>Custom_VBD</th>\n",
       "    </tr>\n",
       "  </thead>\n",
       "  <tbody>\n",
       "    <tr>\n",
       "      <th>28</th>\n",
       "      <td>1</td>\n",
       "      <td>Lamar Jackson</td>\n",
       "      <td>BAL</td>\n",
       "      <td>369.6</td>\n",
       "      <td>91.7</td>\n",
       "    </tr>\n",
       "    <tr>\n",
       "      <th>27</th>\n",
       "      <td>2</td>\n",
       "      <td>Josh Allen</td>\n",
       "      <td>BUF</td>\n",
       "      <td>366.1</td>\n",
       "      <td>88.2</td>\n",
       "    </tr>\n",
       "    <tr>\n",
       "      <th>30</th>\n",
       "      <td>3</td>\n",
       "      <td>Jalen Hurts</td>\n",
       "      <td>PHI</td>\n",
       "      <td>347.4</td>\n",
       "      <td>69.5</td>\n",
       "    </tr>\n",
       "    <tr>\n",
       "      <th>29</th>\n",
       "      <td>4</td>\n",
       "      <td>Jayden Daniels</td>\n",
       "      <td>WSH</td>\n",
       "      <td>344.4</td>\n",
       "      <td>66.5</td>\n",
       "    </tr>\n",
       "    <tr>\n",
       "      <th>38</th>\n",
       "      <td>5</td>\n",
       "      <td>Joe Burrow</td>\n",
       "      <td>CIN</td>\n",
       "      <td>333.1</td>\n",
       "      <td>55.2</td>\n",
       "    </tr>\n",
       "    <tr>\n",
       "      <th>61</th>\n",
       "      <td>6</td>\n",
       "      <td>Patrick Mahomes</td>\n",
       "      <td>KC</td>\n",
       "      <td>313.2</td>\n",
       "      <td>35.3</td>\n",
       "    </tr>\n",
       "    <tr>\n",
       "      <th>87</th>\n",
       "      <td>7</td>\n",
       "      <td>Kyler Murray</td>\n",
       "      <td>ARI</td>\n",
       "      <td>307.9</td>\n",
       "      <td>30.0</td>\n",
       "    </tr>\n",
       "    <tr>\n",
       "      <th>62</th>\n",
       "      <td>8</td>\n",
       "      <td>Baker Mayfield</td>\n",
       "      <td>TB</td>\n",
       "      <td>307.2</td>\n",
       "      <td>29.3</td>\n",
       "    </tr>\n",
       "    <tr>\n",
       "      <th>88</th>\n",
       "      <td>9</td>\n",
       "      <td>Brock Purdy</td>\n",
       "      <td>SF</td>\n",
       "      <td>297.2</td>\n",
       "      <td>19.3</td>\n",
       "    </tr>\n",
       "    <tr>\n",
       "      <th>86</th>\n",
       "      <td>10</td>\n",
       "      <td>Bo Nix</td>\n",
       "      <td>DEN</td>\n",
       "      <td>296.0</td>\n",
       "      <td>18.1</td>\n",
       "    </tr>\n",
       "    <tr>\n",
       "      <th>104</th>\n",
       "      <td>11</td>\n",
       "      <td>Justin Fields</td>\n",
       "      <td>NYJ</td>\n",
       "      <td>288.7</td>\n",
       "      <td>10.8</td>\n",
       "    </tr>\n",
       "    <tr>\n",
       "      <th>120</th>\n",
       "      <td>12</td>\n",
       "      <td>Jared Goff</td>\n",
       "      <td>DET</td>\n",
       "      <td>281.8</td>\n",
       "      <td>3.9</td>\n",
       "    </tr>\n",
       "    <tr>\n",
       "      <th>102</th>\n",
       "      <td>13</td>\n",
       "      <td>Justin Herbert</td>\n",
       "      <td>LAC</td>\n",
       "      <td>280.2</td>\n",
       "      <td>2.3</td>\n",
       "    </tr>\n",
       "    <tr>\n",
       "      <th>103</th>\n",
       "      <td>14</td>\n",
       "      <td>Dak Prescott</td>\n",
       "      <td>DAL</td>\n",
       "      <td>277.9</td>\n",
       "      <td>0.0</td>\n",
       "    </tr>\n",
       "    <tr>\n",
       "      <th>107</th>\n",
       "      <td>15</td>\n",
       "      <td>Caleb Williams</td>\n",
       "      <td>CHI</td>\n",
       "      <td>276.8</td>\n",
       "      <td>-1.1</td>\n",
       "    </tr>\n",
       "  </tbody>\n",
       "</table>\n",
       "</div>"
      ],
      "text/plain": [
       "     Pos_Rank           Player Team  ECR Prj  Custom_VBD\n",
       "28          1    Lamar Jackson  BAL    369.6        91.7\n",
       "27          2       Josh Allen  BUF    366.1        88.2\n",
       "30          3      Jalen Hurts  PHI    347.4        69.5\n",
       "29          4   Jayden Daniels  WSH    344.4        66.5\n",
       "38          5       Joe Burrow  CIN    333.1        55.2\n",
       "61          6  Patrick Mahomes   KC    313.2        35.3\n",
       "87          7     Kyler Murray  ARI    307.9        30.0\n",
       "62          8   Baker Mayfield   TB    307.2        29.3\n",
       "88          9      Brock Purdy   SF    297.2        19.3\n",
       "86         10           Bo Nix  DEN    296.0        18.1\n",
       "104        11    Justin Fields  NYJ    288.7        10.8\n",
       "120        12       Jared Goff  DET    281.8         3.9\n",
       "102        13   Justin Herbert  LAC    280.2         2.3\n",
       "103        14     Dak Prescott  DAL    277.9         0.0\n",
       "107        15   Caleb Williams  CHI    276.8        -1.1"
      ]
     },
     "metadata": {},
     "output_type": "display_data"
    },
    {
     "name": "stdout",
     "output_type": "stream",
     "text": [
      "\n",
      "🎯 RB Rankings:\n"
     ]
    },
    {
     "data": {
      "text/html": [
       "<div>\n",
       "<style scoped>\n",
       "    .dataframe tbody tr th:only-of-type {\n",
       "        vertical-align: middle;\n",
       "    }\n",
       "\n",
       "    .dataframe tbody tr th {\n",
       "        vertical-align: top;\n",
       "    }\n",
       "\n",
       "    .dataframe thead th {\n",
       "        text-align: right;\n",
       "    }\n",
       "</style>\n",
       "<table border=\"1\" class=\"dataframe\">\n",
       "  <thead>\n",
       "    <tr style=\"text-align: right;\">\n",
       "      <th></th>\n",
       "      <th>Pos_Rank</th>\n",
       "      <th>Player</th>\n",
       "      <th>Team</th>\n",
       "      <th>ECR Prj</th>\n",
       "      <th>Custom_VBD</th>\n",
       "    </tr>\n",
       "  </thead>\n",
       "  <tbody>\n",
       "    <tr>\n",
       "      <th>3</th>\n",
       "      <td>1</td>\n",
       "      <td>Saquon Barkley</td>\n",
       "      <td>PHI</td>\n",
       "      <td>293.7</td>\n",
       "      <td>131.3</td>\n",
       "    </tr>\n",
       "    <tr>\n",
       "      <th>1</th>\n",
       "      <td>2</td>\n",
       "      <td>Bijan Robinson</td>\n",
       "      <td>ATL</td>\n",
       "      <td>289.7</td>\n",
       "      <td>127.3</td>\n",
       "    </tr>\n",
       "    <tr>\n",
       "      <th>4</th>\n",
       "      <td>3</td>\n",
       "      <td>Jahmyr Gibbs</td>\n",
       "      <td>DET</td>\n",
       "      <td>287.4</td>\n",
       "      <td>125.0</td>\n",
       "    </tr>\n",
       "    <tr>\n",
       "      <th>6</th>\n",
       "      <td>4</td>\n",
       "      <td>Christian McCaffrey</td>\n",
       "      <td>SF</td>\n",
       "      <td>259.3</td>\n",
       "      <td>96.9</td>\n",
       "    </tr>\n",
       "    <tr>\n",
       "      <th>18</th>\n",
       "      <td>5</td>\n",
       "      <td>Derrick Henry</td>\n",
       "      <td>BAL</td>\n",
       "      <td>258.2</td>\n",
       "      <td>95.8</td>\n",
       "    </tr>\n",
       "    <tr>\n",
       "      <th>11</th>\n",
       "      <td>6</td>\n",
       "      <td>De'Von Achane</td>\n",
       "      <td>MIA</td>\n",
       "      <td>255.1</td>\n",
       "      <td>92.7</td>\n",
       "    </tr>\n",
       "    <tr>\n",
       "      <th>17</th>\n",
       "      <td>7</td>\n",
       "      <td>Josh Jacobs</td>\n",
       "      <td>GB</td>\n",
       "      <td>242.2</td>\n",
       "      <td>79.8</td>\n",
       "    </tr>\n",
       "    <tr>\n",
       "      <th>10</th>\n",
       "      <td>8</td>\n",
       "      <td>Ashton Jeanty</td>\n",
       "      <td>LV</td>\n",
       "      <td>238.5</td>\n",
       "      <td>76.1</td>\n",
       "    </tr>\n",
       "    <tr>\n",
       "      <th>22</th>\n",
       "      <td>9</td>\n",
       "      <td>Kyren Williams</td>\n",
       "      <td>LAR</td>\n",
       "      <td>231.8</td>\n",
       "      <td>69.4</td>\n",
       "    </tr>\n",
       "    <tr>\n",
       "      <th>16</th>\n",
       "      <td>10</td>\n",
       "      <td>Jonathan Taylor</td>\n",
       "      <td>IND</td>\n",
       "      <td>227.4</td>\n",
       "      <td>65.0</td>\n",
       "    </tr>\n",
       "    <tr>\n",
       "      <th>19</th>\n",
       "      <td>11</td>\n",
       "      <td>Bucky Irving</td>\n",
       "      <td>TB</td>\n",
       "      <td>225.0</td>\n",
       "      <td>62.6</td>\n",
       "    </tr>\n",
       "    <tr>\n",
       "      <th>31</th>\n",
       "      <td>12</td>\n",
       "      <td>Chase Brown</td>\n",
       "      <td>CIN</td>\n",
       "      <td>223.4</td>\n",
       "      <td>61.0</td>\n",
       "    </tr>\n",
       "    <tr>\n",
       "      <th>32</th>\n",
       "      <td>13</td>\n",
       "      <td>James Cook</td>\n",
       "      <td>BUF</td>\n",
       "      <td>212.7</td>\n",
       "      <td>50.3</td>\n",
       "    </tr>\n",
       "    <tr>\n",
       "      <th>44</th>\n",
       "      <td>14</td>\n",
       "      <td>Breece Hall</td>\n",
       "      <td>NYJ</td>\n",
       "      <td>211.3</td>\n",
       "      <td>48.9</td>\n",
       "    </tr>\n",
       "    <tr>\n",
       "      <th>37</th>\n",
       "      <td>15</td>\n",
       "      <td>Alvin Kamara</td>\n",
       "      <td>NO</td>\n",
       "      <td>207.1</td>\n",
       "      <td>44.7</td>\n",
       "    </tr>\n",
       "  </tbody>\n",
       "</table>\n",
       "</div>"
      ],
      "text/plain": [
       "    Pos_Rank               Player Team  ECR Prj  Custom_VBD\n",
       "3          1       Saquon Barkley  PHI    293.7       131.3\n",
       "1          2       Bijan Robinson  ATL    289.7       127.3\n",
       "4          3         Jahmyr Gibbs  DET    287.4       125.0\n",
       "6          4  Christian McCaffrey   SF    259.3        96.9\n",
       "18         5        Derrick Henry  BAL    258.2        95.8\n",
       "11         6        De'Von Achane  MIA    255.1        92.7\n",
       "17         7          Josh Jacobs   GB    242.2        79.8\n",
       "10         8        Ashton Jeanty   LV    238.5        76.1\n",
       "22         9       Kyren Williams  LAR    231.8        69.4\n",
       "16        10      Jonathan Taylor  IND    227.4        65.0\n",
       "19        11         Bucky Irving   TB    225.0        62.6\n",
       "31        12          Chase Brown  CIN    223.4        61.0\n",
       "32        13           James Cook  BUF    212.7        50.3\n",
       "44        14          Breece Hall  NYJ    211.3        48.9\n",
       "37        15         Alvin Kamara   NO    207.1        44.7"
      ]
     },
     "metadata": {},
     "output_type": "display_data"
    },
    {
     "name": "stdout",
     "output_type": "stream",
     "text": [
      "\n",
      "🎯 WR Rankings:\n"
     ]
    },
    {
     "data": {
      "text/html": [
       "<div>\n",
       "<style scoped>\n",
       "    .dataframe tbody tr th:only-of-type {\n",
       "        vertical-align: middle;\n",
       "    }\n",
       "\n",
       "    .dataframe tbody tr th {\n",
       "        vertical-align: top;\n",
       "    }\n",
       "\n",
       "    .dataframe thead th {\n",
       "        text-align: right;\n",
       "    }\n",
       "</style>\n",
       "<table border=\"1\" class=\"dataframe\">\n",
       "  <thead>\n",
       "    <tr style=\"text-align: right;\">\n",
       "      <th></th>\n",
       "      <th>Pos_Rank</th>\n",
       "      <th>Player</th>\n",
       "      <th>Team</th>\n",
       "      <th>ECR Prj</th>\n",
       "      <th>Custom_VBD</th>\n",
       "    </tr>\n",
       "  </thead>\n",
       "  <tbody>\n",
       "    <tr>\n",
       "      <th>0</th>\n",
       "      <td>1</td>\n",
       "      <td>Ja'Marr Chase</td>\n",
       "      <td>CIN</td>\n",
       "      <td>291.3</td>\n",
       "      <td>120.6</td>\n",
       "    </tr>\n",
       "    <tr>\n",
       "      <th>2</th>\n",
       "      <td>2</td>\n",
       "      <td>Justin Jefferson</td>\n",
       "      <td>MIN</td>\n",
       "      <td>259.0</td>\n",
       "      <td>88.3</td>\n",
       "    </tr>\n",
       "    <tr>\n",
       "      <th>5</th>\n",
       "      <td>3</td>\n",
       "      <td>CeeDee Lamb</td>\n",
       "      <td>DAL</td>\n",
       "      <td>245.1</td>\n",
       "      <td>74.4</td>\n",
       "    </tr>\n",
       "    <tr>\n",
       "      <th>7</th>\n",
       "      <td>4</td>\n",
       "      <td>Puka Nacua</td>\n",
       "      <td>LAR</td>\n",
       "      <td>238.4</td>\n",
       "      <td>67.7</td>\n",
       "    </tr>\n",
       "    <tr>\n",
       "      <th>8</th>\n",
       "      <td>5</td>\n",
       "      <td>Amon-Ra St. Brown</td>\n",
       "      <td>DET</td>\n",
       "      <td>232.8</td>\n",
       "      <td>62.1</td>\n",
       "    </tr>\n",
       "    <tr>\n",
       "      <th>9</th>\n",
       "      <td>6</td>\n",
       "      <td>Malik Nabers</td>\n",
       "      <td>NYG</td>\n",
       "      <td>228.2</td>\n",
       "      <td>57.5</td>\n",
       "    </tr>\n",
       "    <tr>\n",
       "      <th>13</th>\n",
       "      <td>7</td>\n",
       "      <td>Brian Thomas Jr.</td>\n",
       "      <td>JAX</td>\n",
       "      <td>223.9</td>\n",
       "      <td>53.2</td>\n",
       "    </tr>\n",
       "    <tr>\n",
       "      <th>12</th>\n",
       "      <td>8</td>\n",
       "      <td>Nico Collins</td>\n",
       "      <td>HOU</td>\n",
       "      <td>223.0</td>\n",
       "      <td>52.3</td>\n",
       "    </tr>\n",
       "    <tr>\n",
       "      <th>23</th>\n",
       "      <td>9</td>\n",
       "      <td>Ladd McConkey</td>\n",
       "      <td>LAC</td>\n",
       "      <td>214.6</td>\n",
       "      <td>43.9</td>\n",
       "    </tr>\n",
       "    <tr>\n",
       "      <th>15</th>\n",
       "      <td>10</td>\n",
       "      <td>Drake London</td>\n",
       "      <td>ATL</td>\n",
       "      <td>209.7</td>\n",
       "      <td>39.0</td>\n",
       "    </tr>\n",
       "    <tr>\n",
       "      <th>25</th>\n",
       "      <td>11</td>\n",
       "      <td>Tyreek Hill</td>\n",
       "      <td>MIA</td>\n",
       "      <td>207.3</td>\n",
       "      <td>36.6</td>\n",
       "    </tr>\n",
       "    <tr>\n",
       "      <th>14</th>\n",
       "      <td>12</td>\n",
       "      <td>A.J. Brown</td>\n",
       "      <td>PHI</td>\n",
       "      <td>206.8</td>\n",
       "      <td>36.1</td>\n",
       "    </tr>\n",
       "    <tr>\n",
       "      <th>46</th>\n",
       "      <td>13</td>\n",
       "      <td>Mike Evans</td>\n",
       "      <td>TB</td>\n",
       "      <td>204.6</td>\n",
       "      <td>33.9</td>\n",
       "    </tr>\n",
       "    <tr>\n",
       "      <th>24</th>\n",
       "      <td>14</td>\n",
       "      <td>Tee Higgins</td>\n",
       "      <td>CIN</td>\n",
       "      <td>204.2</td>\n",
       "      <td>33.5</td>\n",
       "    </tr>\n",
       "    <tr>\n",
       "      <th>34</th>\n",
       "      <td>15</td>\n",
       "      <td>Terry McLaurin</td>\n",
       "      <td>WSH</td>\n",
       "      <td>200.3</td>\n",
       "      <td>29.6</td>\n",
       "    </tr>\n",
       "  </tbody>\n",
       "</table>\n",
       "</div>"
      ],
      "text/plain": [
       "    Pos_Rank             Player Team  ECR Prj  Custom_VBD\n",
       "0          1      Ja'Marr Chase  CIN    291.3       120.6\n",
       "2          2   Justin Jefferson  MIN    259.0        88.3\n",
       "5          3        CeeDee Lamb  DAL    245.1        74.4\n",
       "7          4         Puka Nacua  LAR    238.4        67.7\n",
       "8          5  Amon-Ra St. Brown  DET    232.8        62.1\n",
       "9          6       Malik Nabers  NYG    228.2        57.5\n",
       "13         7   Brian Thomas Jr.  JAX    223.9        53.2\n",
       "12         8       Nico Collins  HOU    223.0        52.3\n",
       "23         9      Ladd McConkey  LAC    214.6        43.9\n",
       "15        10       Drake London  ATL    209.7        39.0\n",
       "25        11        Tyreek Hill  MIA    207.3        36.6\n",
       "14        12         A.J. Brown  PHI    206.8        36.1\n",
       "46        13         Mike Evans   TB    204.6        33.9\n",
       "24        14        Tee Higgins  CIN    204.2        33.5\n",
       "34        15     Terry McLaurin  WSH    200.3        29.6"
      ]
     },
     "metadata": {},
     "output_type": "display_data"
    },
    {
     "name": "stdout",
     "output_type": "stream",
     "text": [
      "\n",
      "🎯 TE Rankings:\n"
     ]
    },
    {
     "data": {
      "text/html": [
       "<div>\n",
       "<style scoped>\n",
       "    .dataframe tbody tr th:only-of-type {\n",
       "        vertical-align: middle;\n",
       "    }\n",
       "\n",
       "    .dataframe tbody tr th {\n",
       "        vertical-align: top;\n",
       "    }\n",
       "\n",
       "    .dataframe thead th {\n",
       "        text-align: right;\n",
       "    }\n",
       "</style>\n",
       "<table border=\"1\" class=\"dataframe\">\n",
       "  <thead>\n",
       "    <tr style=\"text-align: right;\">\n",
       "      <th></th>\n",
       "      <th>Pos_Rank</th>\n",
       "      <th>Player</th>\n",
       "      <th>Team</th>\n",
       "      <th>ECR Prj</th>\n",
       "      <th>Custom_VBD</th>\n",
       "    </tr>\n",
       "  </thead>\n",
       "  <tbody>\n",
       "    <tr>\n",
       "      <th>20</th>\n",
       "      <td>1</td>\n",
       "      <td>Brock Bowers</td>\n",
       "      <td>LV</td>\n",
       "      <td>197.5</td>\n",
       "      <td>85.4</td>\n",
       "    </tr>\n",
       "    <tr>\n",
       "      <th>21</th>\n",
       "      <td>2</td>\n",
       "      <td>Trey McBride</td>\n",
       "      <td>ARI</td>\n",
       "      <td>184.0</td>\n",
       "      <td>71.9</td>\n",
       "    </tr>\n",
       "    <tr>\n",
       "      <th>39</th>\n",
       "      <td>3</td>\n",
       "      <td>George Kittle</td>\n",
       "      <td>SF</td>\n",
       "      <td>181.1</td>\n",
       "      <td>69.0</td>\n",
       "    </tr>\n",
       "    <tr>\n",
       "      <th>60</th>\n",
       "      <td>4</td>\n",
       "      <td>Sam LaPorta</td>\n",
       "      <td>DET</td>\n",
       "      <td>150.5</td>\n",
       "      <td>38.4</td>\n",
       "    </tr>\n",
       "    <tr>\n",
       "      <th>82</th>\n",
       "      <td>5</td>\n",
       "      <td>Travis Kelce</td>\n",
       "      <td>KC</td>\n",
       "      <td>147.6</td>\n",
       "      <td>35.5</td>\n",
       "    </tr>\n",
       "    <tr>\n",
       "      <th>84</th>\n",
       "      <td>6</td>\n",
       "      <td>Mark Andrews</td>\n",
       "      <td>BAL</td>\n",
       "      <td>146.7</td>\n",
       "      <td>34.6</td>\n",
       "    </tr>\n",
       "    <tr>\n",
       "      <th>67</th>\n",
       "      <td>7</td>\n",
       "      <td>T.J. Hockenson</td>\n",
       "      <td>MIN</td>\n",
       "      <td>145.6</td>\n",
       "      <td>33.5</td>\n",
       "    </tr>\n",
       "    <tr>\n",
       "      <th>83</th>\n",
       "      <td>8</td>\n",
       "      <td>David Njoku</td>\n",
       "      <td>CLE</td>\n",
       "      <td>140.2</td>\n",
       "      <td>28.1</td>\n",
       "    </tr>\n",
       "    <tr>\n",
       "      <th>85</th>\n",
       "      <td>9</td>\n",
       "      <td>Evan Engram</td>\n",
       "      <td>DEN</td>\n",
       "      <td>118.2</td>\n",
       "      <td>6.1</td>\n",
       "    </tr>\n",
       "    <tr>\n",
       "      <th>110</th>\n",
       "      <td>10</td>\n",
       "      <td>Tucker Kraft</td>\n",
       "      <td>GB</td>\n",
       "      <td>117.8</td>\n",
       "      <td>5.7</td>\n",
       "    </tr>\n",
       "    <tr>\n",
       "      <th>126</th>\n",
       "      <td>11</td>\n",
       "      <td>Tyler Warren</td>\n",
       "      <td>IND</td>\n",
       "      <td>117.7</td>\n",
       "      <td>5.6</td>\n",
       "    </tr>\n",
       "    <tr>\n",
       "      <th>124</th>\n",
       "      <td>12</td>\n",
       "      <td>Jake Ferguson</td>\n",
       "      <td>DAL</td>\n",
       "      <td>117.4</td>\n",
       "      <td>5.3</td>\n",
       "    </tr>\n",
       "    <tr>\n",
       "      <th>123</th>\n",
       "      <td>13</td>\n",
       "      <td>Dallas Goedert</td>\n",
       "      <td>PHI</td>\n",
       "      <td>117.2</td>\n",
       "      <td>5.1</td>\n",
       "    </tr>\n",
       "    <tr>\n",
       "      <th>122</th>\n",
       "      <td>14</td>\n",
       "      <td>Colston Loveland</td>\n",
       "      <td>CHI</td>\n",
       "      <td>112.1</td>\n",
       "      <td>0.0</td>\n",
       "    </tr>\n",
       "    <tr>\n",
       "      <th>125</th>\n",
       "      <td>15</td>\n",
       "      <td>Dalton Kincaid</td>\n",
       "      <td>BUF</td>\n",
       "      <td>111.8</td>\n",
       "      <td>-0.3</td>\n",
       "    </tr>\n",
       "  </tbody>\n",
       "</table>\n",
       "</div>"
      ],
      "text/plain": [
       "     Pos_Rank            Player Team  ECR Prj  Custom_VBD\n",
       "20          1      Brock Bowers   LV    197.5        85.4\n",
       "21          2      Trey McBride  ARI    184.0        71.9\n",
       "39          3     George Kittle   SF    181.1        69.0\n",
       "60          4       Sam LaPorta  DET    150.5        38.4\n",
       "82          5      Travis Kelce   KC    147.6        35.5\n",
       "84          6      Mark Andrews  BAL    146.7        34.6\n",
       "67          7    T.J. Hockenson  MIN    145.6        33.5\n",
       "83          8       David Njoku  CLE    140.2        28.1\n",
       "85          9       Evan Engram  DEN    118.2         6.1\n",
       "110        10      Tucker Kraft   GB    117.8         5.7\n",
       "126        11      Tyler Warren  IND    117.7         5.6\n",
       "124        12     Jake Ferguson  DAL    117.4         5.3\n",
       "123        13    Dallas Goedert  PHI    117.2         5.1\n",
       "122        14  Colston Loveland  CHI    112.1         0.0\n",
       "125        15    Dalton Kincaid  BUF    111.8        -0.3"
      ]
     },
     "metadata": {},
     "output_type": "display_data"
    }
   ],
   "source": [
    "# Position Rankings\n",
    "def get_position_rankings(df, position, n=15):\n",
    "    \"\"\"\n",
    "    Get top N players by position\n",
    "    \"\"\"\n",
    "    pos_df = df[df['Position'] == position].copy()\n",
    "    pos_df = pos_df.sort_values('Custom_VBD', ascending=False).head(n)\n",
    "    pos_df['Pos_Rank'] = range(1, len(pos_df) + 1)\n",
    "    return pos_df[['Pos_Rank', 'Player', 'Team', 'ECR Prj', 'Custom_VBD']]\n",
    "\n",
    "print(\"🏈 POSITION RANKINGS (Top 15 by Custom VBD)\")\n",
    "print(\"=\" * 60)\n",
    "\n",
    "for pos in ['QB', 'RB', 'WR', 'TE']:\n",
    "    print(f\"\\n🎯 {pos} Rankings:\")\n",
    "    pos_rankings = get_position_rankings(df_analysis, pos, 15)\n",
    "    display(pos_rankings)"
   ]
  },
  {
   "cell_type": "code",
   "execution_count": 18,
   "metadata": {},
   "outputs": [
    {
     "data": {
      "image/png": "[encoded data removed]",
      "text/plain": [
       "<Figure size 1500x1200 with 4 Axes>"
      ]
     },
     "metadata": {},
     "output_type": "display_data"
    },
    {
     "name": "stdout",
     "output_type": "stream",
     "text": [
      "📊 Visualizations created!\n"
     ]
    }
   ],
   "source": [
    "# Create visualizations\n",
    "fig, axes = plt.subplots(2, 2, figsize=(15, 12))\n",
    "fig.suptitle('Fantasy Football Analysis - Your League', fontsize=16, fontweight='bold')\n",
    "\n",
    "# 1. VBD by Position (Box plot)\n",
    "main_pos = ['QB', 'RB', 'WR', 'TE']\n",
    "vbd_data = [df_analysis[df_analysis['Position'] == pos]['Custom_VBD'].dropna() for pos in main_pos]\n",
    "axes[0,0].boxplot(vbd_data, labels=main_pos)\n",
    "axes[0,0].set_title('VBD Distribution by Position')\n",
    "axes[0,0].set_ylabel('Custom VBD')\n",
    "axes[0,0].grid(True, alpha=0.3)\n",
    "\n",
    "# 2. Top 50 Players VBD\n",
    "top_50 = df_analysis.nlargest(50, 'Custom_VBD')\n",
    "colors = {'QB': 'red', 'RB': 'blue', 'WR': 'green', 'TE': 'orange'}\n",
    "for pos in main_pos:\n",
    "    pos_data = top_50[top_50['Position'] == pos]\n",
    "    axes[0,1].scatter(range(len(pos_data)), pos_data['Custom_VBD'], \n",
    "                     label=pos, color=colors[pos], alpha=0.7)\n",
    "axes[0,1].set_title('Top 50 Players VBD by Position')\n",
    "axes[0,1].set_xlabel('Player Rank within Position')\n",
    "axes[0,1].set_ylabel('Custom VBD')\n",
    "axes[0,1].legend()\n",
    "axes[0,1].grid(True, alpha=0.3)\n",
    "\n",
    "# 3. VBD vs ECR (Expert Consensus Ranking)\n",
    "valid_data = df_analysis.dropna(subset=['ECR', 'Custom_VBD'])\n",
    "for pos in main_pos:\n",
    "    pos_data = valid_data[valid_data['Position'] == pos]\n",
    "    axes[1,0].scatter(pos_data['ECR'], pos_data['Custom_VBD'], \n",
    "                     label=pos, color=colors[pos], alpha=0.7)\n",
    "axes[1,0].set_title('VBD vs Expert Consensus Ranking')\n",
    "axes[1,0].set_xlabel('ECR (lower = better)')\n",
    "axes[1,0].set_ylabel('Custom VBD')\n",
    "axes[1,0].legend()\n",
    "axes[1,0].grid(True, alpha=0.3)\n",
    "\n",
    "# 4. Position scarcity\n",
    "pos_counts = df_analysis['Position'].value_counts()\n",
    "axes[1,1].bar(pos_counts.index, pos_counts.values, color=['red', 'blue', 'green', 'orange', 'purple'])\n",
    "axes[1,1].set_title('Available Players by Position')\n",
    "axes[1,1].set_ylabel('Number of Players')\n",
    "axes[1,1].tick_params(axis='x', rotation=45)\n",
    "\n",
    "plt.tight_layout()\n",
    "plt.show()\n",
    "\n",
    "print(\"📊 Visualizations created!\")"
   ]
  },
  {
   "cell_type": "code",
   "execution_count": 19,
   "metadata": {},
   "outputs": [
    {
     "name": "stdout",
     "output_type": "stream",
     "text": [
      "🎯 DRAFT STRATEGY RECOMMENDATIONS\n",
      "==================================================\n",
      "\n",
      "📋 League Info:\n",
      "Teams: 14\n",
      "Roster needs per team: {'QB': 1, 'RB': 2, 'WR': 2, 'TE': 1, 'FLEX': 1, 'DEF': 1, 'K': 1}\n",
      "\n",
      "🔢 Total players that will be drafted:\n",
      "QB: 14 needed, 50 available\n",
      "RB: 28 needed, 99 available\n",
      "WR: 28 needed, 110 available\n",
      "TE: 14 needed, 50 available\n",
      "DEF: 14 needed, 0 available\n",
      "K: 14 needed, 32 available\n",
      "\n",
      "💎 VALUE PICKS (High VBD vs ECR):\n"
     ]
    },
    {
     "data": {
      "text/html": [
       "<div>\n",
       "<style scoped>\n",
       "    .dataframe tbody tr th:only-of-type {\n",
       "        vertical-align: middle;\n",
       "    }\n",
       "\n",
       "    .dataframe tbody tr th {\n",
       "        vertical-align: top;\n",
       "    }\n",
       "\n",
       "    .dataframe thead th {\n",
       "        text-align: right;\n",
       "    }\n",
       "</style>\n",
       "<table border=\"1\" class=\"dataframe\">\n",
       "  <thead>\n",
       "    <tr style=\"text-align: right;\">\n",
       "      <th></th>\n",
       "      <th>Player</th>\n",
       "      <th>Position</th>\n",
       "      <th>Team</th>\n",
       "      <th>ECR</th>\n",
       "      <th>Custom_VBD</th>\n",
       "      <th>Value_Score</th>\n",
       "    </tr>\n",
       "  </thead>\n",
       "  <tbody>\n",
       "    <tr>\n",
       "      <th>285</th>\n",
       "      <td>Jason Myers</td>\n",
       "      <td>K</td>\n",
       "      <td>SEA</td>\n",
       "      <td>322.0</td>\n",
       "      <td>0.0</td>\n",
       "      <td>222.0</td>\n",
       "    </tr>\n",
       "    <tr>\n",
       "      <th>347</th>\n",
       "      <td>Daniel Carlson</td>\n",
       "      <td>K</td>\n",
       "      <td>LV</td>\n",
       "      <td>304.0</td>\n",
       "      <td>0.0</td>\n",
       "      <td>204.0</td>\n",
       "    </tr>\n",
       "    <tr>\n",
       "      <th>330</th>\n",
       "      <td>Tommy Tremble</td>\n",
       "      <td>TE</td>\n",
       "      <td>CAR</td>\n",
       "      <td>376.0</td>\n",
       "      <td>-75.1</td>\n",
       "      <td>200.9</td>\n",
       "    </tr>\n",
       "    <tr>\n",
       "      <th>321</th>\n",
       "      <td>AJ Barner</td>\n",
       "      <td>TE</td>\n",
       "      <td>SEA</td>\n",
       "      <td>351.0</td>\n",
       "      <td>-51.3</td>\n",
       "      <td>199.7</td>\n",
       "    </tr>\n",
       "    <tr>\n",
       "      <th>260</th>\n",
       "      <td>Tyler Higbee</td>\n",
       "      <td>TE</td>\n",
       "      <td>LAR</td>\n",
       "      <td>324.0</td>\n",
       "      <td>-28.3</td>\n",
       "      <td>195.7</td>\n",
       "    </tr>\n",
       "    <tr>\n",
       "      <th>326</th>\n",
       "      <td>Austin Hooper</td>\n",
       "      <td>TE</td>\n",
       "      <td>NE</td>\n",
       "      <td>356.0</td>\n",
       "      <td>-65.4</td>\n",
       "      <td>190.6</td>\n",
       "    </tr>\n",
       "    <tr>\n",
       "      <th>163</th>\n",
       "      <td>Darren Waller</td>\n",
       "      <td>TE</td>\n",
       "      <td>MIA</td>\n",
       "      <td>295.0</td>\n",
       "      <td>-8.9</td>\n",
       "      <td>186.1</td>\n",
       "    </tr>\n",
       "    <tr>\n",
       "      <th>291</th>\n",
       "      <td>Tyler Conklin</td>\n",
       "      <td>TE</td>\n",
       "      <td>LAC</td>\n",
       "      <td>330.0</td>\n",
       "      <td>-44.0</td>\n",
       "      <td>186.0</td>\n",
       "    </tr>\n",
       "    <tr>\n",
       "      <th>322</th>\n",
       "      <td>Will Dissly</td>\n",
       "      <td>TE</td>\n",
       "      <td>LAC</td>\n",
       "      <td>326.0</td>\n",
       "      <td>-40.5</td>\n",
       "      <td>185.5</td>\n",
       "    </tr>\n",
       "    <tr>\n",
       "      <th>324</th>\n",
       "      <td>Dawson Knox</td>\n",
       "      <td>TE</td>\n",
       "      <td>BUF</td>\n",
       "      <td>341.0</td>\n",
       "      <td>-66.0</td>\n",
       "      <td>175.0</td>\n",
       "    </tr>\n",
       "  </tbody>\n",
       "</table>\n",
       "</div>"
      ],
      "text/plain": [
       "             Player Position Team    ECR  Custom_VBD  Value_Score\n",
       "285     Jason Myers        K  SEA  322.0         0.0        222.0\n",
       "347  Daniel Carlson        K   LV  304.0         0.0        204.0\n",
       "330   Tommy Tremble       TE  CAR  376.0       -75.1        200.9\n",
       "321       AJ Barner       TE  SEA  351.0       -51.3        199.7\n",
       "260    Tyler Higbee       TE  LAR  324.0       -28.3        195.7\n",
       "326   Austin Hooper       TE   NE  356.0       -65.4        190.6\n",
       "163   Darren Waller       TE  MIA  295.0        -8.9        186.1\n",
       "291   Tyler Conklin       TE  LAC  330.0       -44.0        186.0\n",
       "322     Will Dissly       TE  LAC  326.0       -40.5        185.5\n",
       "324     Dawson Knox       TE  BUF  341.0       -66.0        175.0"
      ]
     },
     "metadata": {},
     "output_type": "display_data"
    }
   ],
   "source": [
    "# Draft Strategy Analysis\n",
    "print(\"🎯 DRAFT STRATEGY RECOMMENDATIONS\")\n",
    "print(\"=\" * 50)\n",
    "\n",
    "# Calculate positional scarcity\n",
    "roster_needs = config['roster']['roster_slots']\n",
    "teams = config['basic_settings']['teams']\n",
    "\n",
    "print(f\"\\n📋 League Info:\")\n",
    "print(f\"Teams: {teams}\")\n",
    "print(f\"Roster needs per team: {roster_needs}\")\n",
    "\n",
    "print(f\"\\n🔢 Total players that will be drafted:\")\n",
    "for pos, slots in roster_needs.items():\n",
    "    if pos != 'FLEX':  # FLEX is flexible\n",
    "        total_drafted = slots * teams\n",
    "        available = len(df_analysis[df_analysis['Position'] == pos])\n",
    "        print(f\"{pos}: {total_drafted} needed, {available} available\")\n",
    "\n",
    "# Value picks (high VBD, low ECR)\n",
    "print(f\"\\n💎 VALUE PICKS (High VBD vs ECR):\")\n",
    "df_value = df_analysis.dropna(subset=['ECR', 'Custom_VBD']).copy()\n",
    "df_value['Value_Score'] = df_value['Custom_VBD'] - (100 - df_value['ECR'])  # Simple value metric\n",
    "\n",
    "value_picks = df_value.nlargest(10, 'Value_Score')[['Player', 'Position', 'Team', 'ECR', 'Custom_VBD', 'Value_Score']]\n",
    "display(value_picks)"
   ]
  },
  {
   "cell_type": "code",
   "execution_count": 20,
   "metadata": {},
   "outputs": [
    {
     "name": "stdout",
     "output_type": "stream",
     "text": [
      "📋 DRAFT CHEAT SHEET - Top 50 Players\n",
      "============================================================\n"
     ]
    },
    {
     "data": {
      "text/html": [
       "<div>\n",
       "<style scoped>\n",
       "    .dataframe tbody tr th:only-of-type {\n",
       "        vertical-align: middle;\n",
       "    }\n",
       "\n",
       "    .dataframe tbody tr th {\n",
       "        vertical-align: top;\n",
       "    }\n",
       "\n",
       "    .dataframe thead th {\n",
       "        text-align: right;\n",
       "    }\n",
       "</style>\n",
       "<table border=\"1\" class=\"dataframe\">\n",
       "  <thead>\n",
       "    <tr style=\"text-align: right;\">\n",
       "      <th></th>\n",
       "      <th>Draft_Rank</th>\n",
       "      <th>Player</th>\n",
       "      <th>Position</th>\n",
       "      <th>Team</th>\n",
       "      <th>Bye</th>\n",
       "      <th>ECR</th>\n",
       "      <th>Custom_VBD</th>\n",
       "    </tr>\n",
       "  </thead>\n",
       "  <tbody>\n",
       "    <tr>\n",
       "      <th>3</th>\n",
       "      <td>1</td>\n",
       "      <td>Saquon Barkley</td>\n",
       "      <td>RB</td>\n",
       "      <td>PHI</td>\n",
       "      <td>9.0</td>\n",
       "      <td>4.0</td>\n",
       "      <td>131.3</td>\n",
       "    </tr>\n",
       "    <tr>\n",
       "      <th>1</th>\n",
       "      <td>2</td>\n",
       "      <td>Bijan Robinson</td>\n",
       "      <td>RB</td>\n",
       "      <td>ATL</td>\n",
       "      <td>5.0</td>\n",
       "      <td>1.0</td>\n",
       "      <td>127.3</td>\n",
       "    </tr>\n",
       "    <tr>\n",
       "      <th>4</th>\n",
       "      <td>3</td>\n",
       "      <td>Jahmyr Gibbs</td>\n",
       "      <td>RB</td>\n",
       "      <td>DET</td>\n",
       "      <td>8.0</td>\n",
       "      <td>3.0</td>\n",
       "      <td>125.0</td>\n",
       "    </tr>\n",
       "    <tr>\n",
       "      <th>0</th>\n",
       "      <td>4</td>\n",
       "      <td>Ja'Marr Chase</td>\n",
       "      <td>WR</td>\n",
       "      <td>CIN</td>\n",
       "      <td>10.0</td>\n",
       "      <td>6.0</td>\n",
       "      <td>120.6</td>\n",
       "    </tr>\n",
       "    <tr>\n",
       "      <th>6</th>\n",
       "      <td>5</td>\n",
       "      <td>Christian McCaffrey</td>\n",
       "      <td>RB</td>\n",
       "      <td>SF</td>\n",
       "      <td>14.0</td>\n",
       "      <td>13.0</td>\n",
       "      <td>96.9</td>\n",
       "    </tr>\n",
       "    <tr>\n",
       "      <th>18</th>\n",
       "      <td>6</td>\n",
       "      <td>Derrick Henry</td>\n",
       "      <td>RB</td>\n",
       "      <td>BAL</td>\n",
       "      <td>7.0</td>\n",
       "      <td>14.0</td>\n",
       "      <td>95.8</td>\n",
       "    </tr>\n",
       "    <tr>\n",
       "      <th>11</th>\n",
       "      <td>7</td>\n",
       "      <td>De'Von Achane</td>\n",
       "      <td>RB</td>\n",
       "      <td>MIA</td>\n",
       "      <td>12.0</td>\n",
       "      <td>15.0</td>\n",
       "      <td>92.7</td>\n",
       "    </tr>\n",
       "    <tr>\n",
       "      <th>28</th>\n",
       "      <td>8</td>\n",
       "      <td>Lamar Jackson</td>\n",
       "      <td>QB</td>\n",
       "      <td>BAL</td>\n",
       "      <td>7.0</td>\n",
       "      <td>27.0</td>\n",
       "      <td>91.7</td>\n",
       "    </tr>\n",
       "    <tr>\n",
       "      <th>2</th>\n",
       "      <td>9</td>\n",
       "      <td>Justin Jefferson</td>\n",
       "      <td>WR</td>\n",
       "      <td>MIN</td>\n",
       "      <td>6.0</td>\n",
       "      <td>2.0</td>\n",
       "      <td>88.3</td>\n",
       "    </tr>\n",
       "    <tr>\n",
       "      <th>27</th>\n",
       "      <td>10</td>\n",
       "      <td>Josh Allen</td>\n",
       "      <td>QB</td>\n",
       "      <td>BUF</td>\n",
       "      <td>7.0</td>\n",
       "      <td>25.0</td>\n",
       "      <td>88.2</td>\n",
       "    </tr>\n",
       "    <tr>\n",
       "      <th>20</th>\n",
       "      <td>11</td>\n",
       "      <td>Brock Bowers</td>\n",
       "      <td>TE</td>\n",
       "      <td>LV</td>\n",
       "      <td>8.0</td>\n",
       "      <td>18.0</td>\n",
       "      <td>85.4</td>\n",
       "    </tr>\n",
       "    <tr>\n",
       "      <th>17</th>\n",
       "      <td>12</td>\n",
       "      <td>Josh Jacobs</td>\n",
       "      <td>RB</td>\n",
       "      <td>GB</td>\n",
       "      <td>5.0</td>\n",
       "      <td>19.0</td>\n",
       "      <td>79.8</td>\n",
       "    </tr>\n",
       "    <tr>\n",
       "      <th>10</th>\n",
       "      <td>13</td>\n",
       "      <td>Ashton Jeanty</td>\n",
       "      <td>RB</td>\n",
       "      <td>LV</td>\n",
       "      <td>8.0</td>\n",
       "      <td>12.0</td>\n",
       "      <td>76.1</td>\n",
       "    </tr>\n",
       "    <tr>\n",
       "      <th>5</th>\n",
       "      <td>14</td>\n",
       "      <td>CeeDee Lamb</td>\n",
       "      <td>WR</td>\n",
       "      <td>DAL</td>\n",
       "      <td>10.0</td>\n",
       "      <td>5.0</td>\n",
       "      <td>74.4</td>\n",
       "    </tr>\n",
       "    <tr>\n",
       "      <th>21</th>\n",
       "      <td>15</td>\n",
       "      <td>Trey McBride</td>\n",
       "      <td>TE</td>\n",
       "      <td>ARI</td>\n",
       "      <td>8.0</td>\n",
       "      <td>23.0</td>\n",
       "      <td>71.9</td>\n",
       "    </tr>\n",
       "    <tr>\n",
       "      <th>30</th>\n",
       "      <td>16</td>\n",
       "      <td>Jalen Hurts</td>\n",
       "      <td>QB</td>\n",
       "      <td>PHI</td>\n",
       "      <td>9.0</td>\n",
       "      <td>37.0</td>\n",
       "      <td>69.5</td>\n",
       "    </tr>\n",
       "    <tr>\n",
       "      <th>22</th>\n",
       "      <td>17</td>\n",
       "      <td>Kyren Williams</td>\n",
       "      <td>RB</td>\n",
       "      <td>LAR</td>\n",
       "      <td>8.0</td>\n",
       "      <td>26.0</td>\n",
       "      <td>69.4</td>\n",
       "    </tr>\n",
       "    <tr>\n",
       "      <th>39</th>\n",
       "      <td>18</td>\n",
       "      <td>George Kittle</td>\n",
       "      <td>TE</td>\n",
       "      <td>SF</td>\n",
       "      <td>14.0</td>\n",
       "      <td>33.0</td>\n",
       "      <td>69.0</td>\n",
       "    </tr>\n",
       "    <tr>\n",
       "      <th>7</th>\n",
       "      <td>19</td>\n",
       "      <td>Puka Nacua</td>\n",
       "      <td>WR</td>\n",
       "      <td>LAR</td>\n",
       "      <td>8.0</td>\n",
       "      <td>7.0</td>\n",
       "      <td>67.7</td>\n",
       "    </tr>\n",
       "    <tr>\n",
       "      <th>29</th>\n",
       "      <td>20</td>\n",
       "      <td>Jayden Daniels</td>\n",
       "      <td>QB</td>\n",
       "      <td>WSH</td>\n",
       "      <td>12.0</td>\n",
       "      <td>34.0</td>\n",
       "      <td>66.5</td>\n",
       "    </tr>\n",
       "    <tr>\n",
       "      <th>16</th>\n",
       "      <td>21</td>\n",
       "      <td>Jonathan Taylor</td>\n",
       "      <td>RB</td>\n",
       "      <td>IND</td>\n",
       "      <td>11.0</td>\n",
       "      <td>20.0</td>\n",
       "      <td>65.0</td>\n",
       "    </tr>\n",
       "    <tr>\n",
       "      <th>19</th>\n",
       "      <td>22</td>\n",
       "      <td>Bucky Irving</td>\n",
       "      <td>RB</td>\n",
       "      <td>TB</td>\n",
       "      <td>9.0</td>\n",
       "      <td>21.0</td>\n",
       "      <td>62.6</td>\n",
       "    </tr>\n",
       "    <tr>\n",
       "      <th>8</th>\n",
       "      <td>23</td>\n",
       "      <td>Amon-Ra St. Brown</td>\n",
       "      <td>WR</td>\n",
       "      <td>DET</td>\n",
       "      <td>8.0</td>\n",
       "      <td>10.0</td>\n",
       "      <td>62.1</td>\n",
       "    </tr>\n",
       "    <tr>\n",
       "      <th>31</th>\n",
       "      <td>24</td>\n",
       "      <td>Chase Brown</td>\n",
       "      <td>RB</td>\n",
       "      <td>CIN</td>\n",
       "      <td>10.0</td>\n",
       "      <td>24.0</td>\n",
       "      <td>61.0</td>\n",
       "    </tr>\n",
       "    <tr>\n",
       "      <th>9</th>\n",
       "      <td>25</td>\n",
       "      <td>Malik Nabers</td>\n",
       "      <td>WR</td>\n",
       "      <td>NYG</td>\n",
       "      <td>14.0</td>\n",
       "      <td>8.0</td>\n",
       "      <td>57.5</td>\n",
       "    </tr>\n",
       "    <tr>\n",
       "      <th>38</th>\n",
       "      <td>26</td>\n",
       "      <td>Joe Burrow</td>\n",
       "      <td>QB</td>\n",
       "      <td>CIN</td>\n",
       "      <td>10.0</td>\n",
       "      <td>45.0</td>\n",
       "      <td>55.2</td>\n",
       "    </tr>\n",
       "    <tr>\n",
       "      <th>13</th>\n",
       "      <td>27</td>\n",
       "      <td>Brian Thomas Jr.</td>\n",
       "      <td>WR</td>\n",
       "      <td>JAX</td>\n",
       "      <td>8.0</td>\n",
       "      <td>11.0</td>\n",
       "      <td>53.2</td>\n",
       "    </tr>\n",
       "    <tr>\n",
       "      <th>12</th>\n",
       "      <td>28</td>\n",
       "      <td>Nico Collins</td>\n",
       "      <td>WR</td>\n",
       "      <td>HOU</td>\n",
       "      <td>6.0</td>\n",
       "      <td>9.0</td>\n",
       "      <td>52.3</td>\n",
       "    </tr>\n",
       "    <tr>\n",
       "      <th>32</th>\n",
       "      <td>29</td>\n",
       "      <td>James Cook</td>\n",
       "      <td>RB</td>\n",
       "      <td>BUF</td>\n",
       "      <td>7.0</td>\n",
       "      <td>38.0</td>\n",
       "      <td>50.3</td>\n",
       "    </tr>\n",
       "    <tr>\n",
       "      <th>44</th>\n",
       "      <td>30</td>\n",
       "      <td>Breece Hall</td>\n",
       "      <td>RB</td>\n",
       "      <td>NYJ</td>\n",
       "      <td>9.0</td>\n",
       "      <td>36.0</td>\n",
       "      <td>48.9</td>\n",
       "    </tr>\n",
       "    <tr>\n",
       "      <th>37</th>\n",
       "      <td>31</td>\n",
       "      <td>Alvin Kamara</td>\n",
       "      <td>RB</td>\n",
       "      <td>NO</td>\n",
       "      <td>11.0</td>\n",
       "      <td>41.0</td>\n",
       "      <td>44.7</td>\n",
       "    </tr>\n",
       "    <tr>\n",
       "      <th>23</th>\n",
       "      <td>32</td>\n",
       "      <td>Ladd McConkey</td>\n",
       "      <td>WR</td>\n",
       "      <td>LAC</td>\n",
       "      <td>12.0</td>\n",
       "      <td>22.0</td>\n",
       "      <td>43.9</td>\n",
       "    </tr>\n",
       "    <tr>\n",
       "      <th>42</th>\n",
       "      <td>33</td>\n",
       "      <td>James Conner</td>\n",
       "      <td>RB</td>\n",
       "      <td>ARI</td>\n",
       "      <td>8.0</td>\n",
       "      <td>48.0</td>\n",
       "      <td>43.8</td>\n",
       "    </tr>\n",
       "    <tr>\n",
       "      <th>15</th>\n",
       "      <td>34</td>\n",
       "      <td>Drake London</td>\n",
       "      <td>WR</td>\n",
       "      <td>ATL</td>\n",
       "      <td>5.0</td>\n",
       "      <td>16.0</td>\n",
       "      <td>39.0</td>\n",
       "    </tr>\n",
       "    <tr>\n",
       "      <th>36</th>\n",
       "      <td>35</td>\n",
       "      <td>Kenneth Walker III</td>\n",
       "      <td>RB</td>\n",
       "      <td>SEA</td>\n",
       "      <td>8.0</td>\n",
       "      <td>39.0</td>\n",
       "      <td>39.0</td>\n",
       "    </tr>\n",
       "    <tr>\n",
       "      <th>43</th>\n",
       "      <td>36</td>\n",
       "      <td>Omarion Hampton</td>\n",
       "      <td>RB</td>\n",
       "      <td>LAC</td>\n",
       "      <td>12.0</td>\n",
       "      <td>44.0</td>\n",
       "      <td>38.6</td>\n",
       "    </tr>\n",
       "    <tr>\n",
       "      <th>60</th>\n",
       "      <td>37</td>\n",
       "      <td>Sam LaPorta</td>\n",
       "      <td>TE</td>\n",
       "      <td>DET</td>\n",
       "      <td>8.0</td>\n",
       "      <td>57.0</td>\n",
       "      <td>38.4</td>\n",
       "    </tr>\n",
       "    <tr>\n",
       "      <th>25</th>\n",
       "      <td>38</td>\n",
       "      <td>Tyreek Hill</td>\n",
       "      <td>WR</td>\n",
       "      <td>MIA</td>\n",
       "      <td>12.0</td>\n",
       "      <td>30.0</td>\n",
       "      <td>36.6</td>\n",
       "    </tr>\n",
       "    <tr>\n",
       "      <th>14</th>\n",
       "      <td>39</td>\n",
       "      <td>A.J. Brown</td>\n",
       "      <td>WR</td>\n",
       "      <td>PHI</td>\n",
       "      <td>9.0</td>\n",
       "      <td>17.0</td>\n",
       "      <td>36.1</td>\n",
       "    </tr>\n",
       "    <tr>\n",
       "      <th>82</th>\n",
       "      <td>40</td>\n",
       "      <td>Travis Kelce</td>\n",
       "      <td>TE</td>\n",
       "      <td>KC</td>\n",
       "      <td>10.0</td>\n",
       "      <td>80.0</td>\n",
       "      <td>35.5</td>\n",
       "    </tr>\n",
       "    <tr>\n",
       "      <th>61</th>\n",
       "      <td>41</td>\n",
       "      <td>Patrick Mahomes</td>\n",
       "      <td>QB</td>\n",
       "      <td>KC</td>\n",
       "      <td>10.0</td>\n",
       "      <td>64.0</td>\n",
       "      <td>35.3</td>\n",
       "    </tr>\n",
       "    <tr>\n",
       "      <th>84</th>\n",
       "      <td>42</td>\n",
       "      <td>Mark Andrews</td>\n",
       "      <td>TE</td>\n",
       "      <td>BAL</td>\n",
       "      <td>7.0</td>\n",
       "      <td>78.0</td>\n",
       "      <td>34.6</td>\n",
       "    </tr>\n",
       "    <tr>\n",
       "      <th>46</th>\n",
       "      <td>43</td>\n",
       "      <td>Mike Evans</td>\n",
       "      <td>WR</td>\n",
       "      <td>TB</td>\n",
       "      <td>9.0</td>\n",
       "      <td>35.0</td>\n",
       "      <td>33.9</td>\n",
       "    </tr>\n",
       "    <tr>\n",
       "      <th>24</th>\n",
       "      <td>44</td>\n",
       "      <td>Tee Higgins</td>\n",
       "      <td>WR</td>\n",
       "      <td>CIN</td>\n",
       "      <td>10.0</td>\n",
       "      <td>29.0</td>\n",
       "      <td>33.5</td>\n",
       "    </tr>\n",
       "    <tr>\n",
       "      <th>67</th>\n",
       "      <td>45</td>\n",
       "      <td>T.J. Hockenson</td>\n",
       "      <td>TE</td>\n",
       "      <td>MIN</td>\n",
       "      <td>6.0</td>\n",
       "      <td>70.0</td>\n",
       "      <td>33.5</td>\n",
       "    </tr>\n",
       "    <tr>\n",
       "      <th>40</th>\n",
       "      <td>46</td>\n",
       "      <td>Chuba Hubbard</td>\n",
       "      <td>RB</td>\n",
       "      <td>CAR</td>\n",
       "      <td>14.0</td>\n",
       "      <td>47.0</td>\n",
       "      <td>32.8</td>\n",
       "    </tr>\n",
       "    <tr>\n",
       "      <th>87</th>\n",
       "      <td>47</td>\n",
       "      <td>Kyler Murray</td>\n",
       "      <td>QB</td>\n",
       "      <td>ARI</td>\n",
       "      <td>8.0</td>\n",
       "      <td>79.0</td>\n",
       "      <td>30.0</td>\n",
       "    </tr>\n",
       "    <tr>\n",
       "      <th>34</th>\n",
       "      <td>48</td>\n",
       "      <td>Terry McLaurin</td>\n",
       "      <td>WR</td>\n",
       "      <td>WSH</td>\n",
       "      <td>12.0</td>\n",
       "      <td>40.0</td>\n",
       "      <td>29.6</td>\n",
       "    </tr>\n",
       "    <tr>\n",
       "      <th>62</th>\n",
       "      <td>49</td>\n",
       "      <td>Baker Mayfield</td>\n",
       "      <td>QB</td>\n",
       "      <td>TB</td>\n",
       "      <td>9.0</td>\n",
       "      <td>69.0</td>\n",
       "      <td>29.3</td>\n",
       "    </tr>\n",
       "    <tr>\n",
       "      <th>26</th>\n",
       "      <td>50</td>\n",
       "      <td>Davante Adams</td>\n",
       "      <td>WR</td>\n",
       "      <td>LAR</td>\n",
       "      <td>8.0</td>\n",
       "      <td>32.0</td>\n",
       "      <td>29.2</td>\n",
       "    </tr>\n",
       "  </tbody>\n",
       "</table>\n",
       "</div>"
      ],
      "text/plain": [
       "    Draft_Rank               Player Position Team   Bye   ECR  Custom_VBD\n",
       "3            1       Saquon Barkley       RB  PHI   9.0   4.0       131.3\n",
       "1            2       Bijan Robinson       RB  ATL   5.0   1.0       127.3\n",
       "4            3         Jahmyr Gibbs       RB  DET   8.0   3.0       125.0\n",
       "0            4        Ja'Marr Chase       WR  CIN  10.0   6.0       120.6\n",
       "6            5  Christian McCaffrey       RB   SF  14.0  13.0        96.9\n",
       "18           6        Derrick Henry       RB  BAL   7.0  14.0        95.8\n",
       "11           7        De'Von Achane       RB  MIA  12.0  15.0        92.7\n",
       "28           8        Lamar Jackson       QB  BAL   7.0  27.0        91.7\n",
       "2            9     Justin Jefferson       WR  MIN   6.0   2.0        88.3\n",
       "27          10           Josh Allen       QB  BUF   7.0  25.0        88.2\n",
       "20          11         Brock Bowers       TE   LV   8.0  18.0        85.4\n",
       "17          12          Josh Jacobs       RB   GB   5.0  19.0        79.8\n",
       "10          13        Ashton Jeanty       RB   LV   8.0  12.0        76.1\n",
       "5           14          CeeDee Lamb       WR  DAL  10.0   5.0        74.4\n",
       "21          15         Trey McBride       TE  ARI   8.0  23.0        71.9\n",
       "30          16          Jalen Hurts       QB  PHI   9.0  37.0        69.5\n",
       "22          17       Kyren Williams       RB  LAR   8.0  26.0        69.4\n",
       "39          18        George Kittle       TE   SF  14.0  33.0        69.0\n",
       "7           19           Puka Nacua       WR  LAR   8.0   7.0        67.7\n",
       "29          20       Jayden Daniels       QB  WSH  12.0  34.0        66.5\n",
       "16          21      Jonathan Taylor       RB  IND  11.0  20.0        65.0\n",
       "19          22         Bucky Irving       RB   TB   9.0  21.0        62.6\n",
       "8           23    Amon-Ra St. Brown       WR  DET   8.0  10.0        62.1\n",
       "31          24          Chase Brown       RB  CIN  10.0  24.0        61.0\n",
       "9           25         Malik Nabers       WR  NYG  14.0   8.0        57.5\n",
       "38          26           Joe Burrow       QB  CIN  10.0  45.0        55.2\n",
       "13          27     Brian Thomas Jr.       WR  JAX   8.0  11.0        53.2\n",
       "12          28         Nico Collins       WR  HOU   6.0   9.0        52.3\n",
       "32          29           James Cook       RB  BUF   7.0  38.0        50.3\n",
       "44          30          Breece Hall       RB  NYJ   9.0  36.0        48.9\n",
       "37          31         Alvin Kamara       RB   NO  11.0  41.0        44.7\n",
       "23          32        Ladd McConkey       WR  LAC  12.0  22.0        43.9\n",
       "42          33         James Conner       RB  ARI   8.0  48.0        43.8\n",
       "15          34         Drake London       WR  ATL   5.0  16.0        39.0\n",
       "36          35   Kenneth Walker III       RB  SEA   8.0  39.0        39.0\n",
       "43          36      Omarion Hampton       RB  LAC  12.0  44.0        38.6\n",
       "60          37          Sam LaPorta       TE  DET   8.0  57.0        38.4\n",
       "25          38          Tyreek Hill       WR  MIA  12.0  30.0        36.6\n",
       "14          39           A.J. Brown       WR  PHI   9.0  17.0        36.1\n",
       "82          40         Travis Kelce       TE   KC  10.0  80.0        35.5\n",
       "61          41      Patrick Mahomes       QB   KC  10.0  64.0        35.3\n",
       "84          42         Mark Andrews       TE  BAL   7.0  78.0        34.6\n",
       "46          43           Mike Evans       WR   TB   9.0  35.0        33.9\n",
       "24          44          Tee Higgins       WR  CIN  10.0  29.0        33.5\n",
       "67          45       T.J. Hockenson       TE  MIN   6.0  70.0        33.5\n",
       "40          46        Chuba Hubbard       RB  CAR  14.0  47.0        32.8\n",
       "87          47         Kyler Murray       QB  ARI   8.0  79.0        30.0\n",
       "34          48       Terry McLaurin       WR  WSH  12.0  40.0        29.6\n",
       "62          49       Baker Mayfield       QB   TB   9.0  69.0        29.3\n",
       "26          50        Davante Adams       WR  LAR   8.0  32.0        29.2"
      ]
     },
     "metadata": {},
     "output_type": "display_data"
    },
    {
     "name": "stdout",
     "output_type": "stream",
     "text": [
      "\n",
      "💾 Cheat sheet saved to 'draft_cheat_sheet.csv'\n"
     ]
    }
   ],
   "source": [
    "# Create draft cheat sheet\n",
    "def create_cheat_sheet(df, top_n=100):\n",
    "    \"\"\"\n",
    "    Create a draft cheat sheet with the top players\n",
    "    \"\"\"\n",
    "    cheat_sheet = df.nlargest(top_n, 'Custom_VBD').copy()\n",
    "    cheat_sheet['Draft_Rank'] = range(1, len(cheat_sheet) + 1)\n",
    "    \n",
    "    # Select key columns\n",
    "    columns = ['Draft_Rank', 'Player', 'Position', 'Team', 'Bye', 'ECR', 'Custom_VBD']\n",
    "    cheat_sheet = cheat_sheet[columns]\n",
    "    \n",
    "    return cheat_sheet\n",
    "\n",
    "# Generate cheat sheet\n",
    "cheat_sheet = create_cheat_sheet(df_analysis, 50)\n",
    "\n",
    "print(\"📋 DRAFT CHEAT SHEET - Top 50 Players\")\n",
    "print(\"=\" * 60)\n",
    "display(cheat_sheet)\n",
    "\n",
    "# Save to CSV\n",
    "cheat_sheet.to_csv('draft_cheat_sheet.csv', index=False)\n",
    "print(\"\\n💾 Cheat sheet saved to 'draft_cheat_sheet.csv'\")"
   ]
  },
  {
   "cell_type": "code",
   "execution_count": 21,
   "metadata": {},
   "outputs": [
    {
     "data": {
      "application/vnd.plotly.v1+json": {
       "config": {
        "plotlyServerURL": "https://plot.ly"
       },
       "data": [
        {
         "customdata": [
          [
           "Ja'Marr Chase",
           "CIN"
          ],
          [
           "Justin Jefferson",
           "MIN"
          ],
          [
           "CeeDee Lamb",
           "DAL"
          ],
          [
           "Puka Nacua",
           "LAR"
          ],
          [
           "Amon-Ra St. Brown",
           "DET"
          ],
          [
           "Malik Nabers",
           "NYG"
          ],
          [
           "Nico Collins",
           "HOU"
          ],
          [
           "Brian Thomas Jr.",
           "JAX"
          ],
          [
           "A.J. Brown",
           "PHI"
          ],
          [
           "Drake London",
           "ATL"
          ],
          [
           "Ladd McConkey",
           "LAC"
          ],
          [
           "Tee Higgins",
           "CIN"
          ],
          [
           "Tyreek Hill",
           "MIA"
          ],
          [
           "Davante Adams",
           "LAR"
          ],
          [
           "Jaxon Smith-Njigba",
           "SEA"
          ],
          [
           "Terry McLaurin",
           "WSH"
          ],
          [
           "Garrett Wilson",
           "NYJ"
          ],
          [
           "Marvin Harrison Jr.",
           "ARI"
          ],
          [
           "Mike Evans",
           "TB"
          ],
          [
           "DK Metcalf",
           "PIT"
          ],
          [
           "DJ Moore",
           "CHI"
          ],
          [
           "Xavier Worthy",
           "KC"
          ],
          [
           "Rashee Rice",
           "KC"
          ],
          [
           "Zay Flowers",
           "BAL"
          ],
          [
           "Courtland Sutton",
           "DEN"
          ],
          [
           "Calvin Ridley",
           "TEN"
          ],
          [
           "DeVonta Smith",
           "PHI"
          ],
          [
           "Jaylen Waddle",
           "MIA"
          ],
          [
           "Jerry Jeudy",
           "CLE"
          ],
          [
           "Jameson Williams",
           "DET"
          ],
          [
           "George Pickens",
           "DAL"
          ],
          [
           "Rome Odunze",
           "CHI"
          ],
          [
           "Travis Hunter",
           "JAX"
          ],
          [
           "Tetairoa McMillan",
           "CAR"
          ],
          [
           "Chris Godwin",
           "TB"
          ],
          [
           "Jakobi Meyers",
           "LV"
          ],
          [
           "Chris Olave",
           "NO"
          ],
          [
           "Cooper Kupp",
           "SEA"
          ],
          [
           "Stefon Diggs",
           "NE"
          ],
          [
           "Matthew Golden",
           "GB"
          ],
          [
           "Jordan Addison",
           "MIN"
          ],
          [
           "Khalil Shakir",
           "BUF"
          ],
          [
           "Keon Coleman",
           "BUF"
          ],
          [
           "Jauan Jennings",
           "SF"
          ],
          [
           "Deebo Samuel",
           "WSH"
          ],
          [
           "Ricky Pearsall",
           "SF"
          ],
          [
           "Michael Pittman Jr.",
           "IND"
          ],
          [
           "Jayden Reed",
           "GB"
          ],
          [
           "Darnell Mooney",
           "ATL"
          ],
          [
           "Rashid Shaheed",
           "NO"
          ],
          [
           "Jayden Higgins",
           "HOU"
          ],
          [
           "Emeka Egbuka",
           "TB"
          ],
          [
           "Jack Bech",
           "LV"
          ],
          [
           "Marvin Mims Jr.",
           "DEN"
          ],
          [
           "Adam Thielen",
           "CAR"
          ],
          [
           "Luther Burden III",
           "CHI"
          ],
          [
           "Xavier Legette",
           "CAR"
          ],
          [
           "Cedric Tillman",
           "CLE"
          ],
          [
           "Hollywood Brown",
           "KC"
          ],
          [
           "Brandon Aiyuk",
           "SF"
          ],
          [
           "Tre Harris",
           "LAC"
          ],
          [
           "Kyle Williams",
           "NE"
          ],
          [
           "Josh Downs",
           "IND"
          ],
          [
           "Quentin Johnston",
           "LAC"
          ],
          [
           "Wan'Dale Robinson",
           "NYG"
          ],
          [
           "Rashod Bateman",
           "BAL"
          ],
          [
           "Jalen McMillan",
           "TB"
          ],
          [
           "Michael Wilson",
           "ARI"
          ],
          [
           "Pat Bryant",
           "DEN"
          ],
          [
           "Christian Kirk",
           "HOU"
          ],
          [
           "Keenan Allen",
           "FA"
          ],
          [
           "Romeo Doubs",
           "GB"
          ],
          [
           "Tyler Lockett",
           "TEN"
          ],
          [
           "DeMario Douglas",
           "NE"
          ],
          [
           "Joshua Palmer",
           "BUF"
          ],
          [
           "Diontae Johnson",
           "CLE"
          ],
          [
           "Brandin Cooks",
           "NO"
          ],
          [
           "Darius Slayton",
           "NYG"
          ],
          [
           "DeAndre Hopkins",
           "BAL"
          ],
          [
           "Dont'e Thornton Jr.",
           "LV"
          ],
          [
           "Adonai Mitchell",
           "IND"
          ],
          [
           "Amari Cooper",
           "FA"
          ],
          [
           "Dyami Brown",
           "JAX"
          ],
          [
           "Tutu Atwell",
           "LAR"
          ],
          [
           "Calvin Austin III",
           "PIT"
          ],
          [
           "Christian Watson",
           "GB"
          ],
          [
           "Jaylin Noel",
           "HOU"
          ],
          [
           "Jalen Coker",
           "CAR"
          ],
          [
           "Alec Pierce",
           "IND"
          ],
          [
           "Andrei Iosivas",
           "CIN"
          ],
          [
           "Jalen Tolbert",
           "DAL"
          ],
          [
           "Tre Tucker",
           "LV"
          ],
          [
           "Jordan Whittington",
           "LAR"
          ],
          [
           "Jalen Nailor",
           "MIN"
          ],
          [
           "Elic Ayomanor",
           "TEN"
          ],
          [
           "Jermaine Burton",
           "CIN"
          ]
         ],
         "hovertemplate": "Position=WR<br>Average Draft Position (lower = earlier pick)=%{x}<br>Value-Based Drafting Score=%{y}<br>ECR Prj=%{marker.size}<br>Player=%{customdata[0]}<br>Team=%{customdata[1]}<extra></extra>",
         "legendgroup": "WR",
         "marker": {
          "color": "#636efa",
          "size": {
           "bdata": "zczMzMw0ckAAAAAAADBwQDMzMzMzo25AzczMzMzMbUCamZmZmRltQGZmZmZmhmxAAAAAAADga0DNzMzMzPxrQJqZmZmZ2WlAZmZmZmY2akAzMzMzM9NqQGZmZmZmhmlAmpmZmZnpaUDNzMzMzPxoQAAAAAAAQGhAmpmZmZkJaUDNzMzMzJxnQGZmZmZmRmhAMzMzMzOTaUCamZmZmalnQM3MzMzMHGdAMzMzMzNDZkAzMzMzM7NjQM3MzMzMvGZAAAAAAADQZkAAAAAAAPBlQGZmZmZm5mVAAAAAAACAZECamZmZmbllQGZmZmZmVmVAZmZmZmYGZUAAAAAAAEBjQDMzMzMzc2NAzczMzMwcY0AzMzMzMxNkQAAAAAAAEGVAMzMzMzMzY0CamZmZmYliQGZmZmZmJmNAAAAAAACQYkCamZmZmaliQAAAAAAAMGJAmpmZmZkJYkDNzMzMzHxjQJqZmZmZWWRAAAAAAABgYUAAAAAAAABiQDMzMzMzY2NAMzMzMzPTYUBmZmZmZtZhQGZmZmZmhltAmpmZmZm5XkAzMzMzM1NaQJqZmZmZaWBAmpmZmZn5XUAAAAAAAABbQJqZmZmZWVxAmpmZmZl5XUCamZmZmTlgQJqZmZmZOV9AzczMzMxsXEBmZmZmZsZXQAAAAAAAgGBAMzMzMzOTXEBmZmZmZgZdQDMzMzMzE19AZmZmZmaGV0BmZmZmZqZZQDMzMzMzE1FAmpmZmZmZXUCamZmZmdlcQDMzMzMz81lAMzMzMzOTWUDNzMzMzKxZQAAAAAAA4FhAAAAAAACgVUAAAAAAAMBTQGZmZmZmJlVAZmZmZmYmVEDNzMzMzExQQDMzMzMzM1BAAAAAAAAAAAAAAAAAAOBVQJqZmZmZ+VRAmpmZmZn5V0BmZmZmZqZQQDMzMzMzE1BAmpmZmZm5UUBmZmZmZkZXQM3MzMzM7FFAZmZmZmbGU0BmZmZmZuZUQJqZmZmZGVJAMzMzMzMTUUCamZmZmdlOQAAAAAAAgEZA",
           "dtype": "f8"
          },
          "sizemode": "area",
          "sizeref": 0.924,
          "symbol": "circle"
         },
         "mode": "markers",
         "name": "WR",
         "orientation": "v",
         "showlegend": true,
         "type": "scatter",
         "x": {
          "bdata": "AAAAAAAA8D8AAAAAAAAUQAAAAAAAABhAAAAAAAAAIkCamZmZmZkiQGZmZmZmZiVAmpmZmZmZKEAAAAAAAAAuQM3MzMzMTDRAMzMzMzOzM0AAAAAAAAA5QGZmZmZmJkBAMzMzMzOzPUCamZmZmdlDQM3MzMzMTD9AZmZmZmamQ0BmZmZmZqZBQAAAAAAAAERAmpmZmZnZQ0BmZmZmZqZIQGZmZmZmJkhAmpmZmZnZTUBmZmZmZiZJQJqZmZmZ2U1AZmZmZmYmSkDNzMzMzGxSQJqZmZmZ2UtAzczMzMxsUkAAAAAAAIBTQGZmZmZmJk9AAAAAAADAUEAzMzMzMxNVQDMzMzMzE1FAmpmZmZnZT0AzMzMzM9NTQDMzMzMz01hAAAAAAAAAU0AAAAAAAMBXQAAAAAAAAFhAzczMzMxsW0AAAAAAAABUQAAAAAAAgFlAAAAAAACgYUAAAAAAAMBYQAAAAAAAQFZAzczMzMwsWkBmZmZmZtZgQAAAAAAAQFlAAAAAAAAAYkCamZmZmSlkQGZmZmZmVmJAzczMzMysXkBmZmZmZhZkQGZmZmZmlmNAZmZmZma2ZUCamZmZmcliQAAAAAAAwGVAAAAAAAAQZkCamZmZmeljQAAAAAAAAF9AmpmZmZnJYkCamZmZmclkQAAAAAAAAF5AZmZmZmYWZkAAAAAAAOBmQAAAAAAAgGVAZmZmZma2ZEAAAAAAAOBuQAAAAAAAQGxAmpmZmZmpZEAAAAAAAOBnQAAAAAAAEGhAAAAAAAAgb0AAAAAAAPBnQAAAAAAAQGhAAAAAAABAcUAAAAAAAOByQAAAAAAAkG9AZmZmZmYWZEAAAAAAAMBtQAAAAAAAqHFAAAAAAAAwb0AAAAAAABBvQAAAAAAAwHFAAAAAAAAAcEAAAAAAAAByQAAAAAAA8GxAAAAAAACAb0AAAAAAALBpQAAAAAAAuHBAAAAAAAAQc0AAAAAAAJBwQAAAAAAAkHFAAAAAAAAAb0AAAAAAALhwQAAAAAAAcHFA",
          "dtype": "f8"
         },
         "xaxis": "x",
         "y": {
          "bdata": "aGZmZmYmXkA0MzMzMxNWQJqZmZmZmVJAzszMzMzsUEDQzMzMzAxPQAAAAAAAwExAaGZmZmYmSkCcmZmZmZlKQNDMzMzMDEJAAAAAAACAQ0A0MzMzM/NFQAAAAAAAwEBA0MzMzMxMQkA4MzMzMzM9QNDMzMzMTDdAoJmZmZmZPUA4MzMzMzMyQAAAAAAAgDdANDMzMzPzQECgmZmZmZkyQHBmZmZmZixAoJmZmZmZHUAwMzMzMzMqwHBmZmZmZiZAoJmZmZmZJ0BAMzMzMzMTQAAAAAAAABJAwMzMzMzMGsAAzczMzMwIQAAAAAAAAAAAAAAAAAAABMAwMzMzM7MwwDAzMzMzMy7AyMzMzMzMMcAwMzMzMzMkwICZmZmZmQHAmJmZmZkZMcBgZmZmZmY2wAAAAAAAgDHAMDMzMzMzNsBgZmZmZmY1wDAzMzMzMznAYGZmZmZmOsCQmZmZmZktwICZmZmZmR/AMDMzMzOzP8AwMzMzM7M6wDAzMzMzMy/AmJmZmZkZPMAAAAAAAAA8wMzMzMzMTE7AZGZmZmbmR8CZmZmZmVlQwDAzMzMzs0PAZGZmZmZmScCYmZmZmVlPwGRmZmZmpkzAZGZmZmZmSsAwMzMzM3NEwGRmZmZm5kbA/v////9/TMBmZmZmZuZSwJiZmZmZWUPAMjMzMzMzTMDMzMzMzExLwDIzMzMzM0fAZmZmZmYmU8BmZmZmZgZRwJmZmZmZmVnAZGZmZmYmSsBkZmZmZqZLwJmZmZmZuVDAmZmZmZkZUcD///////9QwMzMzMzMzFHAzMzMzMwMVcDMzMzMzOxWwGZmZmZmhlXAZmZmZmaGVsD//////19awJmZmZmZeVrAZmZmZmZWZcDMzMzMzMxUwDIzMzMzs1XAMjMzMzOzUsBmZmZmZgZawJmZmZmZmVrAMjMzMzPzWMBmZmZmZmZTwP//////v1jAZmZmZmbmVsBmZmZmZsZVwDIzMzMzk1jAmZmZmZmZWcD//////z9bwMzMzMzMbF/A",
          "dtype": "f8"
         },
         "yaxis": "y"
        },
        {
         "customdata": [
          [
           "Bijan Robinson",
           "ATL"
          ],
          [
           "Saquon Barkley",
           "PHI"
          ],
          [
           "Jahmyr Gibbs",
           "DET"
          ],
          [
           "Christian McCaffrey",
           "SF"
          ],
          [
           "Ashton Jeanty",
           "LV"
          ],
          [
           "De'Von Achane",
           "MIA"
          ],
          [
           "Jonathan Taylor",
           "IND"
          ],
          [
           "Josh Jacobs",
           "GB"
          ],
          [
           "Derrick Henry",
           "BAL"
          ],
          [
           "Bucky Irving",
           "TB"
          ],
          [
           "Kyren Williams",
           "LAR"
          ],
          [
           "Chase Brown",
           "CIN"
          ],
          [
           "James Cook",
           "BUF"
          ],
          [
           "Kenneth Walker III",
           "SEA"
          ],
          [
           "Alvin Kamara",
           "NO"
          ],
          [
           "Chuba Hubbard",
           "CAR"
          ],
          [
           "James Conner",
           "ARI"
          ],
          [
           "Omarion Hampton",
           "LAC"
          ],
          [
           "Breece Hall",
           "NYJ"
          ],
          [
           "Joe Mixon",
           "HOU"
          ],
          [
           "D'Andre Swift",
           "CHI"
          ],
          [
           "Aaron Jones Sr.",
           "MIN"
          ],
          [
           "David Montgomery",
           "DET"
          ],
          [
           "Kaleb Johnson",
           "PIT"
          ],
          [
           "TreVeyon Henderson",
           "NE"
          ],
          [
           "RJ Harvey",
           "DEN"
          ],
          [
           "Tony Pollard",
           "TEN"
          ],
          [
           "Isiah Pacheco",
           "KC"
          ],
          [
           "Javonte Williams",
           "DAL"
          ],
          [
           "Tyrone Tracy Jr.",
           "NYG"
          ],
          [
           "Brian Robinson Jr.",
           "WSH"
          ],
          [
           "Jaylen Warren",
           "PIT"
          ],
          [
           "Rhamondre Stevenson",
           "NE"
          ],
          [
           "Cam Skattebo",
           "NYG"
          ],
          [
           "J.K. Dobbins",
           "DEN"
          ],
          [
           "Austin Ekeler",
           "WSH"
          ],
          [
           "Travis Etienne Jr.",
           "JAX"
          ],
          [
           "Tyjae Spears",
           "TEN"
          ],
          [
           "Tank Bigsby",
           "JAX"
          ],
          [
           "Jerome Ford",
           "CLE"
          ],
          [
           "Rachaad White",
           "TB"
          ],
          [
           "Jordan Mason",
           "MIN"
          ],
          [
           "Quinshon Judkins",
           "CLE"
          ],
          [
           "Dylan Sampson",
           "CLE"
          ],
          [
           "Zach Charbonnet",
           "SEA"
          ],
          [
           "Trey Benson",
           "ARI"
          ],
          [
           "Tyler Allgeier",
           "ATL"
          ],
          [
           "Najee Harris",
           "LAC"
          ],
          [
           "Jaylen Wright",
           "MIA"
          ],
          [
           "Bhayshul Tuten",
           "JAX"
          ],
          [
           "Braelon Allen",
           "NYJ"
          ],
          [
           "Isaac Guerendo",
           "SF"
          ],
          [
           "MarShawn Lloyd",
           "GB"
          ],
          [
           "Ray Davis",
           "BUF"
          ],
          [
           "Roschon Johnson",
           "CHI"
          ],
          [
           "Jaydon Blue",
           "DAL"
          ],
          [
           "Will Shipley",
           "PHI"
          ],
          [
           "Justice Hill",
           "BAL"
          ],
          [
           "Kareem Hunt",
           "KC"
          ],
          [
           "Blake Corum",
           "LAR"
          ],
          [
           "Zack Moss",
           "FA"
          ],
          [
           "Nick Chubb",
           "HOU"
          ],
          [
           "Woody Marks",
           "HOU"
          ],
          [
           "Rico Dowdle",
           "CAR"
          ],
          [
           "Raheem Mostert",
           "LV"
          ],
          [
           "Miles Sanders",
           "DAL"
          ],
          [
           "Kendre Miller",
           "NO"
          ],
          [
           "DJ Giddens",
           "IND"
          ],
          [
           "Trevor Etienne",
           "CAR"
          ],
          [
           "Jarquez Hunter",
           "LAR"
          ],
          [
           "Antonio Gibson",
           "NE"
          ],
          [
           "Jaleel McLaughlin",
           "DEN"
          ],
          [
           "Devin Singletary",
           "NYG"
          ],
          [
           "Ty Johnson",
           "BUF"
          ],
          [
           "Elijah Mitchell",
           "KC"
          ],
          [
           "Kenneth Gainwell",
           "PIT"
          ],
          [
           "Ollie Gordon II",
           "MIA"
          ],
          [
           "Sean Tucker",
           "TB"
          ],
          [
           "Keaton Mitchell",
           "BAL"
          ],
          [
           "Samaje Perine",
           "CIN"
          ],
          [
           "Kyle Monangai",
           "CHI"
          ],
          [
           "Devin Neal",
           "NO"
          ],
          [
           "Brashard Smith",
           "KC"
          ],
          [
           "Isaiah Davis",
           "NYJ"
          ],
          [
           "Jordan James",
           "SF"
          ],
          [
           "Emanuel Wilson",
           "GB"
          ],
          [
           "Khalil Herbert",
           "IND"
          ],
          [
           "Alexander Mattison",
           "MIA"
          ]
         ],
         "hovertemplate": "Position=RB<br>Average Draft Position (lower = earlier pick)=%{x}<br>Value-Based Drafting Score=%{y}<br>ECR Prj=%{marker.size}<br>Player=%{customdata[0]}<br>Team=%{customdata[1]}<extra></extra>",
         "legendgroup": "RB",
         "marker": {
          "color": "#EF553B",
          "size": {
           "bdata": "MzMzMzMbckAzMzMzM1tyQGZmZmZm9nFAzczMzMw0cEAAAAAAANBtQDMzMzMz429AzczMzMxsbEBmZmZmZkZuQDMzMzMzI3BAAAAAAAAgbECamZmZmflsQM3MzMzM7GtAZmZmZmaWakDNzMzMzCxpQDMzMzMz42lAZmZmZmZmaEBmZmZmZsZpQAAAAAAAIGlAmpmZmZlpakAAAAAAAGBnQM3MzMzMLGdAAAAAAAAgZ0CamZmZmZlmQDMzMzMzY2RAMzMzMzPzZEBmZmZmZuZiQDMzMzMzw2VAMzMzMzNTZEDNzMzMzExhQDMzMzMzw2NAzczMzMxMZECamZmZmflhQDMzMzMz019AZmZmZmbGW0CamZmZmYlhQAAAAAAAsGBAzczMzMx8YEBmZmZmZkZdQAAAAAAAQFxAmpmZmZmZW0AAAAAAAOBfQGZmZmZmxl1AZmZmZmZ2YEBmZmZmZsZZQAAAAAAAwF5AMzMzMzOTWEBmZmZmZkZWQM3MzMzM7F5AZmZmZmbmU0CamZmZmflVQAAAAAAAgFNAAAAAAABAVkCamZmZmdlUQGZmZmZmBldAMzMzMzMzVkDNzMzMzCxWQJqZmZmZmUNAMzMzMzMTUkAAAAAAAABSQM3MzMzMTFBAAAAAAAAAAADNzMzMzCxWQJqZmZmZWUZAMzMzMzOTVkCamZmZmTlRQGZmZmZmplFAMzMzMzMzUUBmZmZmZuY+QAAAAAAAgEVAZmZmZmYmSUDNzMzMzIxKQM3MzMzMzEVAzczMzMyMREDNzMzMzIxNQGZmZmZmZkhAMzMzMzNzQ0AzMzMzM7M5QM3MzMzMDEFAzczMzMwMSkCamZmZmRlQQAAAAAAAwEJAzczMzMzMQkDNzMzMzEw/QM3MzMzMDEBAzczMzMxMPkDNzMzMzMxCQJqZmZmZ2U1AzczMzMwMQ0A=",
           "dtype": "f8"
          },
          "sizemode": "area",
          "sizeref": 0.924,
          "symbol": "circle"
         },
         "mode": "markers",
         "name": "RB",
         "orientation": "v",
         "showlegend": true,
         "type": "scatter",
         "x": {
          "bdata": "mpmZmZmZBUCamZmZmZkFQAAAAAAAABBAmpmZmZmZIkCamZmZmZkkQJqZmZmZmSxAAAAAAAAAM0AAAAAAAAAxQGZmZmZmZiNAzczMzMxMM0DNzMzMzEw5QDMzMzMzszdAMzMzMzOzP0AAAAAAAABFQGZmZmZmpkNAmpmZmZlZRUAAAAAAAABIQGZmZmZmpkNAMzMzMzOzP0CamZmZmdlLQGZmZmZmJk9AAAAAAABAUEBmZmZmZiZLQDMzMzMz01BAAAAAAAAAT0BmZmZmZiZMQM3MzMzMrFBAAAAAAACAT0AAAAAAAMBbQAAAAAAAwFRAMzMzMzNTVEAzMzMzM9NVQM3MzMzMbFxAMzMzMzOTWUAAAAAAAABdQJqZmZmZ6WFAzczMzMysV0BmZmZmZjZgQJqZmZmZCWBAmpmZmZmJYkCamZmZmQlhQDMzMzMz01lAMzMzMzNTVUAAAAAAAOBkQAAAAAAAAFtAmpmZmZlJY0CamZmZmYlkQM3MzMzMrFpAmpmZmZmpZEAAAAAAAMBiQAAAAAAAAGRAZmZmZmaWYUAAAAAAAGBpQGZmZmZm1mJAAAAAAAAQZkCamZmZmSlhQAAAAAAAIGxAAAAAAACgZkBmZmZmZrZlQAAAAAAAAGdAAAAAAABgcEAAAAAAAIBhQAAAAAAAAGtAmpmZmZnpYkAAAAAAAGBuQAAAAAAAsGlAAAAAAAAIcUAAAAAAAFBpQAAAAAAA4G9AAAAAAADgaUAAAAAAAIhwQAAAAAAAIG9AAAAAAAA4cUAAAAAAALByQAAAAAAAEG5AAAAAAACgckAAAAAAAMBwQAAAAAAAMHJAAAAAAADwcUAAAAAAAGByQAAAAAAAoGdAAAAAAADwakAAAAAAAJBpQAAAAAAAsHNAAAAAAADgcEAAAAAAAGBzQAAAAAAA4HNAAAAAAACgbUA=",
          "dtype": "f8"
         },
         "xaxis": "x",
         "y": {
          "bdata": "MjMzMzPTX0CZmZmZmWlgQP7/////P19AmpmZmZk5WEBmZmZmZgZTQMzMzMzMLFdAAAAAAABAUEAyMzMzM/NTQDIzMzMz81dAzMzMzMxMT0CamZmZmVlRQAAAAAAAgE5AZGZmZmYmSUAAAAAAAIBDQJiZmZmZWUZAZGZmZmZmQEBkZmZmZuZFQMzMzMzMTENANDMzMzNzSECYmZmZmZk4QAAAAAAAADdAmJmZmZmZNkBoZmZmZmYyQABmZmZmZuY/wMzMzMzMFEBwZmZmZmYmwGBmZmZmZidAAJiZmZmZyT8AAAAAAAA4wEAzMzMzMxHAAAAAAAAAAACYmZmZmZkywM7MzMzMjEHAaGZmZmamScCYmZmZmRk2wGhmZmZm5jzAAAAAAACAPsBoZmZmZqZGwDQzMzMzs0jAAAAAAAAASsA0MzMzM3NBwGhmZmZmpkXAODMzMzOzPsBoZmZmZqZNwDQzMzMzs0PAZ2ZmZmYGUMA0MzMzM1NSwJqZmZmZWUPANDMzMzOzVMAAAAAAAKBSwJqZmZmZGVXAmpmZmZlZUsAAAAAAAMBTwDQzMzMzk1HAZ2ZmZmZmUsDNzMzMzGxSwM3MzMzMzF7AZ2ZmZmaGVsCamZmZmZlWwM3MzMzMTFjAzczMzMxMZMDNzMzMzGxSwM3MzMzMbF3AZ2ZmZmYGUsAAAAAAAGBXwDQzMzMz81bAZ2ZmZmZmV8AAAAAAAHBgwJqZmZmZ2V3AZ2ZmZmYGXMA0MzMzM1NbwDQzMzMzs13ANDMzMzNTXsA0MzMzM9NZwGdmZmZmZlzAAAAAAADgXsBnZmZmZhZhwJqZmZmZCWDANDMzMzOTW8AAAAAAAIBYwJqZmZmZOV/ANDMzMzMzX8AzMzMzM2NgwJqZmZmZSWDAMzMzMzODYMA0MzMzMzNfwM3MzMzMrFnANDMzMzMTX8A=",
          "dtype": "f8"
         },
         "yaxis": "y"
        },
        {
         "customdata": [
          [
           "Brock Bowers",
           "LV"
          ],
          [
           "Trey McBride",
           "ARI"
          ],
          [
           "George Kittle",
           "SF"
          ],
          [
           "Sam LaPorta",
           "DET"
          ],
          [
           "T.J. Hockenson",
           "MIN"
          ],
          [
           "Travis Kelce",
           "KC"
          ],
          [
           "David Njoku",
           "CLE"
          ],
          [
           "Mark Andrews",
           "BAL"
          ],
          [
           "Evan Engram",
           "DEN"
          ],
          [
           "Tucker Kraft",
           "GB"
          ],
          [
           "Colston Loveland",
           "CHI"
          ],
          [
           "Dallas Goedert",
           "PHI"
          ],
          [
           "Jake Ferguson",
           "DAL"
          ],
          [
           "Dalton Kincaid",
           "BUF"
          ],
          [
           "Tyler Warren",
           "IND"
          ],
          [
           "Hunter Henry",
           "NE"
          ],
          [
           "Kyle Pitts Sr.",
           "ATL"
          ],
          [
           "Chig Okonkwo",
           "TEN"
          ],
          [
           "Darren Waller",
           "MIA"
          ],
          [
           "Zach Ertz",
           "WSH"
          ],
          [
           "Jonnu Smith",
           "PIT"
          ],
          [
           "Brenton Strange",
           "JAX"
          ],
          [
           "Mike Gesicki",
           "CIN"
          ],
          [
           "Elijah Arroyo",
           "SEA"
          ],
          [
           "Mason Taylor",
           "NYJ"
          ],
          [
           "Cade Otton",
           "TB"
          ],
          [
           "Pat Freiermuth",
           "PIT"
          ],
          [
           "Dalton Schultz",
           "HOU"
          ],
          [
           "Tyler Higbee",
           "LAR"
          ],
          [
           "Theo Johnson",
           "NYG"
          ],
          [
           "Isaiah Likely",
           "BAL"
          ],
          [
           "Juwan Johnson",
           "NO"
          ],
          [
           "Ja'Tavion Sanders",
           "CAR"
          ],
          [
           "Tyler Conklin",
           "LAC"
          ],
          [
           "Noah Fant",
           "FA"
          ],
          [
           "Ben Sinnott",
           "WSH"
          ],
          [
           "Terrance Ferguson",
           "LAR"
          ],
          [
           "Noah Gray",
           "KC"
          ],
          [
           "Cole Kmet",
           "CHI"
          ],
          [
           "Harold Fannin Jr.",
           "CLE"
          ],
          [
           "Oronde Gadsden II",
           "LAC"
          ]
         ],
         "hovertemplate": "Position=TE<br>Average Draft Position (lower = earlier pick)=%{x}<br>Value-Based Drafting Score=%{y}<br>ECR Prj=%{marker.size}<br>Player=%{customdata[0]}<br>Team=%{customdata[1]}<extra></extra>",
         "legendgroup": "TE",
         "marker": {
          "color": "#00cc96",
          "size": {
           "bdata": "AAAAAACwaEAAAAAAAABnQDMzMzMzo2ZAAAAAAADQYkAzMzMzMzNiQDMzMzMzc2JAZmZmZmaGYUBmZmZmZlZiQM3MzMzMjF1AMzMzMzNzXUBmZmZmZgZcQM3MzMzMTF1AmpmZmZlZXUAzMzMzM/NbQM3MzMzMbF1AmpmZmZl5WkAzMzMzM9NaQJqZmZmZ2VZAzczMzMzMWUBmZmZmZuZbQDMzMzMz81hAZmZmZmYGWUAAAAAAAMBYQM3MzMzMDFRAZmZmZmZGUkAAAAAAAGBaQDMzMzMzc1ZAmpmZmZmZV0AzMzMzM/NUQM3MzMzMbFVAMzMzMzNTWEAzMzMzMzNXQDMzMzMzc1FAZmZmZmYGUUCamZmZmVlRQDMzMzMz80FAmpmZmZnZRkAzMzMzM3NOQGZmZmZmJk5AMzMzMzPzRECamZmZmZlDQA==",
           "dtype": "f8"
          },
          "sizemode": "area",
          "sizeref": 0.924,
          "symbol": "circle"
         },
         "mode": "markers",
         "name": "TE",
         "orientation": "v",
         "showlegend": true,
         "type": "scatter",
         "x": {
          "bdata": "MzMzMzOzMUDNzMzMzEw7QGZmZmZmpkJAAAAAAACASkBmZmZmZiZPQDMzMzMzU1BAMzMzMzMTV0AAAAAAAMBTQDMzMzMz01VAAAAAAAAAW0AzMzMzM5NfQAAAAAAAoGBAzczMzMxsX0DNzMzMzOxfQM3MzMzM7FxAAAAAAABgZEBmZmZmZhZiQAAAAAAAAGlAmpmZmZmJakCamZmZmWllQAAAAAAAQFxAmpmZmZnpZkBmZmZmZjZnQAAAAAAAUGpAAAAAAADgZUCamZmZmWllQJqZmZmZaWhAAAAAAAAAakAAAAAAADBxQAAAAAAAyHBAAAAAAABgZUAAAAAAAChwQAAAAAAAYG5AAAAAAABQcEAAAAAAAKByQAAAAAAA0HFAAAAAAAAAb0AAAAAAAOhwQAAAAAAAQHBAAAAAAADAcEAAAAAAAOBxQA==",
          "dtype": "f8"
         },
         "xaxis": "x",
         "y": {
          "bdata": "mpmZmZlZVUCamZmZmflRQAAAAAAAQFFANDMzMzMzQ0AAAAAAAMBAQAAAAAAAwEFAmJmZmZkZPEDMzMzMzExBQHBmZmZmZhhA0MzMzMzMFkAAAAAAAAAAAHBmZmZmZhRAQDMzMzMzFUAAMzMzMzPTv3BmZmZmZhZAwMzMzMzMGMAwMzMzMzMTwDAzMzMzszTAyMzMzMzMIcAAAAAAAADgv5iZmZmZmSjAAAAAAAAAKMAwMzMzMzMqwGRmZmZm5j/AAAAAAACAQ8BgZmZmZmYawMzMzMzMTDbAMDMzMzOzMcDMzMzMzEw8wGRmZmZmZjrAmJmZmZmZLcDMzMzMzEwzwGZmZmZmJkXAAAAAAAAARsCYmZmZmVlFwMzMzMzMDFPAmZmZmZmZUMCZmZmZmZlJwGZmZmZm5knAzMzMzMyMUcCZmZmZmTlSwA==",
          "dtype": "f8"
         },
         "yaxis": "y"
        },
        {
         "customdata": [
          [
           "Josh Allen",
           "BUF"
          ],
          [
           "Lamar Jackson",
           "BAL"
          ],
          [
           "Jayden Daniels",
           "WSH"
          ],
          [
           "Jalen Hurts",
           "PHI"
          ],
          [
           "Joe Burrow",
           "CIN"
          ],
          [
           "Patrick Mahomes",
           "KC"
          ],
          [
           "Baker Mayfield",
           "TB"
          ],
          [
           "Bo Nix",
           "DEN"
          ],
          [
           "Kyler Murray",
           "ARI"
          ],
          [
           "Brock Purdy",
           "SF"
          ],
          [
           "Justin Herbert",
           "LAC"
          ],
          [
           "Dak Prescott",
           "DAL"
          ],
          [
           "Justin Fields",
           "NYJ"
          ],
          [
           "Caleb Williams",
           "CHI"
          ],
          [
           "Jordan Love",
           "GB"
          ],
          [
           "Jared Goff",
           "DET"
          ],
          [
           "J.J. McCarthy",
           "MIN"
          ],
          [
           "Tua Tagovailoa",
           "MIA"
          ],
          [
           "Matthew Stafford",
           "LAR"
          ],
          [
           "Drake Maye",
           "NE"
          ],
          [
           "C.J. Stroud",
           "HOU"
          ],
          [
           "Trevor Lawrence",
           "JAX"
          ],
          [
           "Cameron Ward",
           "TEN"
          ],
          [
           "Michael Penix Jr.",
           "ATL"
          ],
          [
           "Geno Smith",
           "LV"
          ],
          [
           "Anthony Richardson Sr.",
           "IND"
          ],
          [
           "Bryce Young",
           "CAR"
          ],
          [
           "Sam Darnold",
           "SEA"
          ],
          [
           "Aaron Rodgers",
           "PIT"
          ],
          [
           "Russell Wilson",
           "NYG"
          ],
          [
           "Tyler Shough",
           "NO"
          ],
          [
           "Daniel Jones",
           "IND"
          ],
          [
           "Jaxson Dart",
           "NYG"
          ],
          [
           "Shedeur Sanders",
           "CLE"
          ],
          [
           "Joe Flacco",
           "CLE"
          ],
          [
           "Spencer Rattler",
           "NO"
          ],
          [
           "Kirk Cousins",
           "ATL"
          ],
          [
           "Jalen Milroe",
           "SEA"
          ]
         ],
         "hovertemplate": "Position=QB<br>Average Draft Position (lower = earlier pick)=%{x}<br>Value-Based Drafting Score=%{y}<br>ECR Prj=%{marker.size}<br>Player=%{customdata[0]}<br>Team=%{customdata[1]}<extra></extra>",
         "legendgroup": "QB",
         "marker": {
          "color": "#ab63fa",
          "size": {
           "bdata": "mpmZmZnhdkCamZmZmRl3QGZmZmZmhnVAZmZmZma2dUCamZmZmdF0QDMzMzMzk3NAMzMzMzMzc0AAAAAAAIByQGZmZmZmPnNAMzMzMzOTckAzMzMzM4NxQGZmZmZmXnFAMzMzMzMLckDNzMzMzExxQJqZmZmZqXBAzczMzMyccUDNzMzMzERxQJqZmZmZCW9AZmZmZmamb0BmZmZmZh5wQAAAAAAAuHBAMzMzMzMrcEAAAAAAACBuQAAAAAAAMG9AMzMzMzPzbkBmZmZmZrZoQM3MzMzMnG5AZmZmZma2bkAzMzMzM1NsQAAAAAAAoGdAZmZmZmYmZkBmZmZmZsZZQAAAAAAAgEpAMzMzMzPzQEBmZmZmZiZdQAAAAAAAAE9AZmZmZmZmGkAzMzMzM7M5QA==",
           "dtype": "f8"
          },
          "sizemode": "area",
          "sizeref": 0.924,
          "symbol": "circle"
         },
         "mode": "markers",
         "name": "QB",
         "orientation": "v",
         "showlegend": true,
         "type": "scatter",
         "x": {
          "bdata": "zczMzMxMNUAAAAAAAAA3QAAAAAAAAD1AmpmZmZnZQkBmZmZmZiZDQGZmZmZmJkxAAAAAAACAUEAAAAAAAMBSQAAAAAAAAFdAMzMzMzPTWUDNzMzMzOxaQDMzMzMzE1tAzczMzMwsWkAAAAAAAMBbQAAAAAAAIGBAzczMzMxsWEBmZmZmZhZhQJqZmZmZCWNAZmZmZmaWZECamZmZmQlgQJqZmZmZSWBAAAAAAABgZEBmZmZmZjZjQJqZmZmZ6WNAAAAAAABAZEAAAAAAAKBlQAAAAAAAQGRAZmZmZmaWZEBmZmZmZvZkQAAAAAAAYGtAAAAAAACAbEAAAAAAANBtQAAAAAAAAG5AAAAAAACgaUAAAAAAAOBpQAAAAAAAoGxAAAAAAADAa0AAAAAAAMBwQA==",
          "dtype": "f8"
         },
         "xaxis": "x",
         "y": {
          "bdata": "0MzMzMwMVkDQzMzMzOxWQAAAAAAAoFBAAAAAAABgUUCgmZmZmZlLQGhmZmZmpkFA0MzMzMxMPUCgmZmZmRkyQAAAAAAAAD5A0MzMzMxMM0CAZmZmZmYCQAAAAAAAAAAAoJmZmZmZJUAAmZmZmZnxv4CZmZmZmSbAgDMzMzMzD0AAmZmZmZn5v5CZmZmZmT3AMDMzMzOzOMAAAAAAAAA0wMDMzMzMzCTAMDMzMzMzM8AwMzMzM3NCwGBmZmZmZjzAyMzMzMxMPsDMzMzMzAxUwPz/////f0DAmJmZmZkZQMBkZmZmZqZJwJiZmZmZOVbAzMzMzMwsWcCZmZmZmdllwMzMzMzMHGzA//////9/bsCZmZmZmSlkwMzMzMzM/GrAzMzMzMz0cMBmZmZmZoZvwA==",
          "dtype": "f8"
         },
         "yaxis": "y"
        },
        {
         "customdata": [
          [
           "Jake Bates",
           "DET"
          ],
          [
           "Chase McLaughlin",
           "TB"
          ],
          [
           "Cameron Dicker",
           "LAC"
          ],
          [
           "Brandon Aubrey",
           "DAL"
          ],
          [
           "Jason Sanders",
           "MIA"
          ],
          [
           "Tyler Bass",
           "BUF"
          ],
          [
           "Jake Elliott",
           "PHI"
          ],
          [
           "Chris Boswell",
           "PIT"
          ],
          [
           "Harrison Butker",
           "KC"
          ],
          [
           "Tyler Loop",
           "BAL"
          ],
          [
           "Matt Gay",
           "WSH"
          ],
          [
           "Ka'imi Fairbairn",
           "HOU"
          ],
          [
           "Joshua Karty",
           "LAR"
          ],
          [
           "Brandon McManus",
           "GB"
          ],
          [
           "Evan McPherson",
           "CIN"
          ],
          [
           "Wil Lutz",
           "DEN"
          ],
          [
           "Will Reichard",
           "MIN"
          ],
          [
           "Daniel Carlson",
           "LV"
          ],
          [
           "Younghoe Koo",
           "ATL"
          ],
          [
           "Jake Moody",
           "SF"
          ]
         ],
         "hovertemplate": "Position=K<br>Average Draft Position (lower = earlier pick)=%{x}<br>Value-Based Drafting Score=%{y}<br>ECR Prj=%{marker.size}<br>Player=%{customdata[0]}<br>Team=%{customdata[1]}<extra></extra>",
         "legendgroup": "K",
         "marker": {
          "color": "#FFA15A",
          "size": {
           "bdata": "AAAAAAAAAAAAAAAAAAAAAAAAAAAAAAAAAAAAAAAAAAAAAAAAAAAAAAAAAAAAAAAAAAAAAAAAAAAAAAAAAAAAAAAAAAAAAAAAAAAAAAAAAAAAAAAAAAAAAAAAAAAAAAAAAAAAAAAAAAAAAAAAAAAAAAAAAAAAAAAAAAAAAAAAAAAAAAAAAAAAAAAAAAAAAAAAAAAAAAAAAAAAAAAAAAAAAA==",
           "dtype": "f8"
          },
          "sizemode": "area",
          "sizeref": 0.924,
          "symbol": "circle"
         },
         "mode": "markers",
         "name": "K",
         "orientation": "v",
         "showlegend": true,
         "type": "scatter",
         "x": {
          "bdata": "ZmZmZmbWZECamZmZmcloQAAAAAAA4GNAAAAAAABAYkCamZmZmaltQGZmZmZmdmxAZmZmZma2bUCamZmZmclmQGZmZmZmlmhAZmZmZmZ2bUAAAAAAAEBwQJqZmZmZCWZAAAAAAAAIcEAAAAAAAIBqQJqZmZmZCWtAmpmZmZmJaUAAAAAAALBwQAAAAAAAMHBAAAAAAADgb0AAAAAAAMBuQA==",
          "dtype": "f8"
         },
         "xaxis": "x",
         "y": {
          "bdata": "AAAAAAAAAAAAAAAAAAAAAAAAAAAAAAAAAAAAAAAAAAAAAAAAAAAAAAAAAAAAAAAAAAAAAAAAAAAAAAAAAAAAAAAAAAAAAAAAAAAAAAAAAAAAAAAAAAAAAAAAAAAAAAAAAAAAAAAAAAAAAAAAAAAAAAAAAAAAAAAAAAAAAAAAAAAAAAAAAAAAAAAAAAAAAAAAAAAAAAAAAAAAAAAAAAAAAA==",
          "dtype": "f8"
         },
         "yaxis": "y"
        }
       ],
       "layout": {
        "height": 600,
        "legend": {
         "itemsizing": "constant",
         "title": {
          "text": "Position"
         },
         "tracegroupgap": 0
        },
        "shapes": [
         {
          "line": {
           "color": "gray",
           "dash": "dash",
           "width": 2
          },
          "type": "line",
          "x0": 0,
          "x1": 200,
          "y0": 100,
          "y1": -50
         }
        ],
        "template": {
         "data": {
          "bar": [
           {
            "error_x": {
             "color": "#2a3f5f"
            },
            "error_y": {
             "color": "#2a3f5f"
            },
            "marker": {
             "line": {
              "color": "#E5ECF6",
              "width": 0.5
             },
             "pattern": {
              "fillmode": "overlay",
              "size": 10,
              "solidity": 0.2
             }
            },
            "type": "bar"
           }
          ],
          "barpolar": [
           {
            "marker": {
             "line": {
              "color": "#E5ECF6",
              "width": 0.5
             },
             "pattern": {
              "fillmode": "overlay",
              "size": 10,
              "solidity": 0.2
             }
            },
            "type": "barpolar"
           }
          ],
          "carpet": [
           {
            "aaxis": {
             "endlinecolor": "#2a3f5f",
             "gridcolor": "white",
             "linecolor": "white",
             "minorgridcolor": "white",
             "startlinecolor": "#2a3f5f"
            },
            "baxis": {
             "endlinecolor": "#2a3f5f",
             "gridcolor": "white",
             "linecolor": "white",
             "minorgridcolor": "white",
             "startlinecolor": "#2a3f5f"
            },
            "type": "carpet"
           }
          ],
          "choropleth": [
           {
            "colorbar": {
             "outlinewidth": 0,
             "ticks": ""
            },
            "type": "choropleth"
           }
          ],
          "contour": [
           {
            "colorbar": {
             "outlinewidth": 0,
             "ticks": ""
            },
            "colorscale": [
             [
              0,
              "#0d0887"
             ],
             [
              0.1111111111111111,
              "#46039f"
             ],
             [
              0.2222222222222222,
              "#7201a8"
             ],
             [
              0.3333333333333333,
              "#9c179e"
             ],
             [
              0.4444444444444444,
              "#bd3786"
             ],
             [
              0.5555555555555556,
              "#d8576b"
             ],
             [
              0.6666666666666666,
              "#ed7953"
             ],
             [
              0.7777777777777778,
              "#fb9f3a"
             ],
             [
              0.8888888888888888,
              "#fdca26"
             ],
             [
              1,
              "#f0f921"
             ]
            ],
            "type": "contour"
           }
          ],
          "contourcarpet": [
           {
            "colorbar": {
             "outlinewidth": 0,
             "ticks": ""
            },
            "type": "contourcarpet"
           }
          ],
          "heatmap": [
           {
            "colorbar": {
             "outlinewidth": 0,
             "ticks": ""
            },
            "colorscale": [
             [
              0,
              "#0d0887"
             ],
             [
              0.1111111111111111,
              "#46039f"
             ],
             [
              0.2222222222222222,
              "#7201a8"
             ],
             [
              0.3333333333333333,
              "#9c179e"
             ],
             [
              0.4444444444444444,
              "#bd3786"
             ],
             [
              0.5555555555555556,
              "#d8576b"
             ],
             [
              0.6666666666666666,
              "#ed7953"
             ],
             [
              0.7777777777777778,
              "#fb9f3a"
             ],
             [
              0.8888888888888888,
              "#fdca26"
             ],
             [
              1,
              "#f0f921"
             ]
            ],
            "type": "heatmap"
           }
          ],
          "histogram": [
           {
            "marker": {
             "pattern": {
              "fillmode": "overlay",
              "size": 10,
              "solidity": 0.2
             }
            },
            "type": "histogram"
           }
          ],
          "histogram2d": [
           {
            "colorbar": {
             "outlinewidth": 0,
             "ticks": ""
            },
            "colorscale": [
             [
              0,
              "#0d0887"
             ],
             [
              0.1111111111111111,
              "#46039f"
             ],
             [
              0.2222222222222222,
              "#7201a8"
             ],
             [
              0.3333333333333333,
              "#9c179e"
             ],
             [
              0.4444444444444444,
              "#bd3786"
             ],
             [
              0.5555555555555556,
              "#d8576b"
             ],
             [
              0.6666666666666666,
              "#ed7953"
             ],
             [
              0.7777777777777778,
              "#fb9f3a"
             ],
             [
              0.8888888888888888,
              "#fdca26"
             ],
             [
              1,
              "#f0f921"
             ]
            ],
            "type": "histogram2d"
           }
          ],
          "histogram2dcontour": [
           {
            "colorbar": {
             "outlinewidth": 0,
             "ticks": ""
            },
            "colorscale": [
             [
              0,
              "#0d0887"
             ],
             [
              0.1111111111111111,
              "#46039f"
             ],
             [
              0.2222222222222222,
              "#7201a8"
             ],
             [
              0.3333333333333333,
              "#9c179e"
             ],
             [
              0.4444444444444444,
              "#bd3786"
             ],
             [
              0.5555555555555556,
              "#d8576b"
             ],
             [
              0.6666666666666666,
              "#ed7953"
             ],
             [
              0.7777777777777778,
              "#fb9f3a"
             ],
             [
              0.8888888888888888,
              "#fdca26"
             ],
             [
              1,
              "#f0f921"
             ]
            ],
            "type": "histogram2dcontour"
           }
          ],
          "mesh3d": [
           {
            "colorbar": {
             "outlinewidth": 0,
             "ticks": ""
            },
            "type": "mesh3d"
           }
          ],
          "parcoords": [
           {
            "line": {
             "colorbar": {
              "outlinewidth": 0,
              "ticks": ""
             }
            },
            "type": "parcoords"
           }
          ],
          "pie": [
           {
            "automargin": true,
            "type": "pie"
           }
          ],
          "scatter": [
           {
            "fillpattern": {
             "fillmode": "overlay",
             "size": 10,
             "solidity": 0.2
            },
            "type": "scatter"
           }
          ],
          "scatter3d": [
           {
            "line": {
             "colorbar": {
              "outlinewidth": 0,
              "ticks": ""
             }
            },
            "marker": {
             "colorbar": {
              "outlinewidth": 0,
              "ticks": ""
             }
            },
            "type": "scatter3d"
           }
          ],
          "scattercarpet": [
           {
            "marker": {
             "colorbar": {
              "outlinewidth": 0,
              "ticks": ""
             }
            },
            "type": "scattercarpet"
           }
          ],
          "scattergeo": [
           {
            "marker": {
             "colorbar": {
              "outlinewidth": 0,
              "ticks": ""
             }
            },
            "type": "scattergeo"
           }
          ],
          "scattergl": [
           {
            "marker": {
             "colorbar": {
              "outlinewidth": 0,
              "ticks": ""
             }
            },
            "type": "scattergl"
           }
          ],
          "scattermap": [
           {
            "marker": {
             "colorbar": {
              "outlinewidth": 0,
              "ticks": ""
             }
            },
            "type": "scattermap"
           }
          ],
          "scattermapbox": [
           {
            "marker": {
             "colorbar": {
              "outlinewidth": 0,
              "ticks": ""
             }
            },
            "type": "scattermapbox"
           }
          ],
          "scatterpolar": [
           {
            "marker": {
             "colorbar": {
              "outlinewidth": 0,
              "ticks": ""
             }
            },
            "type": "scatterpolar"
           }
          ],
          "scatterpolargl": [
           {
            "marker": {
             "colorbar": {
              "outlinewidth": 0,
              "ticks": ""
             }
            },
            "type": "scatterpolargl"
           }
          ],
          "scatterternary": [
           {
            "marker": {
             "colorbar": {
              "outlinewidth": 0,
              "ticks": ""
             }
            },
            "type": "scatterternary"
           }
          ],
          "surface": [
           {
            "colorbar": {
             "outlinewidth": 0,
             "ticks": ""
            },
            "colorscale": [
             [
              0,
              "#0d0887"
             ],
             [
              0.1111111111111111,
              "#46039f"
             ],
             [
              0.2222222222222222,
              "#7201a8"
             ],
             [
              0.3333333333333333,
              "#9c179e"
             ],
             [
              0.4444444444444444,
              "#bd3786"
             ],
             [
              0.5555555555555556,
              "#d8576b"
             ],
             [
              0.6666666666666666,
              "#ed7953"
             ],
             [
              0.7777777777777778,
              "#fb9f3a"
             ],
             [
              0.8888888888888888,
              "#fdca26"
             ],
             [
              1,
              "#f0f921"
             ]
            ],
            "type": "surface"
           }
          ],
          "table": [
           {
            "cells": {
             "fill": {
              "color": "#EBF0F8"
             },
             "line": {
              "color": "white"
             }
            },
            "header": {
             "fill": {
              "color": "#C8D4E3"
             },
             "line": {
              "color": "white"
             }
            },
            "type": "table"
           }
          ]
         },
         "layout": {
          "annotationdefaults": {
           "arrowcolor": "#2a3f5f",
           "arrowhead": 0,
           "arrowwidth": 1
          },
          "autotypenumbers": "strict",
          "coloraxis": {
           "colorbar": {
            "outlinewidth": 0,
            "ticks": ""
           }
          },
          "colorscale": {
           "diverging": [
            [
             0,
             "#8e0152"
            ],
            [
             0.1,
             "#c51b7d"
            ],
            [
             0.2,
             "#de77ae"
            ],
            [
             0.3,
             "#f1b6da"
            ],
            [
             0.4,
             "#fde0ef"
            ],
            [
             0.5,
             "#f7f7f7"
            ],
            [
             0.6,
             "#e6f5d0"
            ],
            [
             0.7,
             "#b8e186"
            ],
            [
             0.8,
             "#7fbc41"
            ],
            [
             0.9,
             "#4d9221"
            ],
            [
             1,
             "#276419"
            ]
           ],
           "sequential": [
            [
             0,
             "#0d0887"
            ],
            [
             0.1111111111111111,
             "#46039f"
            ],
            [
             0.2222222222222222,
             "#7201a8"
            ],
            [
             0.3333333333333333,
             "#9c179e"
            ],
            [
             0.4444444444444444,
             "#bd3786"
            ],
            [
             0.5555555555555556,
             "#d8576b"
            ],
            [
             0.6666666666666666,
             "#ed7953"
            ],
            [
             0.7777777777777778,
             "#fb9f3a"
            ],
            [
             0.8888888888888888,
             "#fdca26"
            ],
            [
             1,
             "#f0f921"
            ]
           ],
           "sequentialminus": [
            [
             0,
             "#0d0887"
            ],
            [
             0.1111111111111111,
             "#46039f"
            ],
            [
             0.2222222222222222,
             "#7201a8"
            ],
            [
             0.3333333333333333,
             "#9c179e"
            ],
            [
             0.4444444444444444,
             "#bd3786"
            ],
            [
             0.5555555555555556,
             "#d8576b"
            ],
            [
             0.6666666666666666,
             "#ed7953"
            ],
            [
             0.7777777777777778,
             "#fb9f3a"
            ],
            [
             0.8888888888888888,
             "#fdca26"
            ],
            [
             1,
             "#f0f921"
            ]
           ]
          },
          "colorway": [
           "#636efa",
           "#EF553B",
           "#00cc96",
           "#ab63fa",
           "#FFA15A",
           "#19d3f3",
           "#FF6692",
           "#B6E880",
           "#FF97FF",
           "#FECB52"
          ],
          "font": {
           "color": "#2a3f5f"
          },
          "geo": {
           "bgcolor": "white",
           "lakecolor": "white",
           "landcolor": "#E5ECF6",
           "showlakes": true,
           "showland": true,
           "subunitcolor": "white"
          },
          "hoverlabel": {
           "align": "left"
          },
          "hovermode": "closest",
          "mapbox": {
           "style": "light"
          },
          "paper_bgcolor": "white",
          "plot_bgcolor": "#E5ECF6",
          "polar": {
           "angularaxis": {
            "gridcolor": "white",
            "linecolor": "white",
            "ticks": ""
           },
           "bgcolor": "#E5ECF6",
           "radialaxis": {
            "gridcolor": "white",
            "linecolor": "white",
            "ticks": ""
           }
          },
          "scene": {
           "xaxis": {
            "backgroundcolor": "#E5ECF6",
            "gridcolor": "white",
            "gridwidth": 2,
            "linecolor": "white",
            "showbackground": true,
            "ticks": "",
            "zerolinecolor": "white"
           },
           "yaxis": {
            "backgroundcolor": "#E5ECF6",
            "gridcolor": "white",
            "gridwidth": 2,
            "linecolor": "white",
            "showbackground": true,
            "ticks": "",
            "zerolinecolor": "white"
           },
           "zaxis": {
            "backgroundcolor": "#E5ECF6",
            "gridcolor": "white",
            "gridwidth": 2,
            "linecolor": "white",
            "showbackground": true,
            "ticks": "",
            "zerolinecolor": "white"
           }
          },
          "shapedefaults": {
           "line": {
            "color": "#2a3f5f"
           }
          },
          "ternary": {
           "aaxis": {
            "gridcolor": "white",
            "linecolor": "white",
            "ticks": ""
           },
           "baxis": {
            "gridcolor": "white",
            "linecolor": "white",
            "ticks": ""
           },
           "bgcolor": "#E5ECF6",
           "caxis": {
            "gridcolor": "white",
            "linecolor": "white",
            "ticks": ""
           }
          },
          "title": {
           "x": 0.05
          },
          "xaxis": {
           "automargin": true,
           "gridcolor": "white",
           "linecolor": "white",
           "ticks": "",
           "title": {
            "standoff": 15
           },
           "zerolinecolor": "white",
           "zerolinewidth": 2
          },
          "yaxis": {
           "automargin": true,
           "gridcolor": "white",
           "linecolor": "white",
           "ticks": "",
           "title": {
            "standoff": 15
           },
           "zerolinecolor": "white",
           "zerolinewidth": 2
          }
         }
        },
        "title": {
         "text": "Fantasy Value: VBD vs Average Draft Position"
        },
        "xaxis": {
         "anchor": "y",
         "domain": [
          0,
          1
         ],
         "title": {
          "text": "Average Draft Position (earlier pick →)"
         }
        },
        "yaxis": {
         "anchor": "x",
         "domain": [
          0,
          1
         ],
         "title": {
          "text": "Custom VBD Score (higher = better value)"
         }
        }
       }
      }
     },
     "metadata": {},
     "output_type": "display_data"
    },
    {
     "name": "stdout",
     "output_type": "stream",
     "text": [
      "📊 Interactive visualization created!\n",
      "💡 Look for players above the diagonal line - they're undervalued!\n"
     ]
    }
   ],
   "source": [
    "# Interactive Plotly visualization\n",
    "# VBD vs ADP scatter plot\n",
    "fig = px.scatter(df_analysis.dropna(subset=['AVG ADP', 'Custom_VBD']), \n",
    "                x='AVG ADP', \n",
    "                y='Custom_VBD',\n",
    "                color='Position',\n",
    "                size='ECR Prj',\n",
    "                hover_data=['Player', 'Team'],\n",
    "                title='Fantasy Value: VBD vs Average Draft Position',\n",
    "                labels={'AVG ADP': 'Average Draft Position (lower = earlier pick)',\n",
    "                       'Custom_VBD': 'Value-Based Drafting Score'})\n",
    "\n",
    "fig.update_layout(height=600, \n",
    "                 xaxis_title='Average Draft Position (earlier pick →)',\n",
    "                 yaxis_title='Custom VBD Score (higher = better value)')\n",
    "\n",
    "# Add diagonal line for \"fair value\"\n",
    "fig.add_shape(type=\"line\",\n",
    "             x0=0, y0=100, x1=200, y1=-50,\n",
    "             line=dict(color=\"gray\", width=2, dash=\"dash\"))\n",
    "\n",
    "fig.show()\n",
    "\n",
    "print(\"📊 Interactive visualization created!\")\n",
    "print(\"💡 Look for players above the diagonal line - they're undervalued!\")"
   ]
  },
  {
   "cell_type": "markdown",
   "metadata": {},
   "source": [
    "## 🎯 Summary\n",
    "\n",
    "Your fantasy football analysis is complete! Here's what we've provided:\n",
    "\n",
    "### ✅ **Analysis Complete:**\n",
    "- **Custom VBD calculations** using your 14-team league settings\n",
    "- **Position rankings** for QB, RB, WR, TE\n",
    "- **Value identification** (players with high VBD vs low ADP)\n",
    "- **Draft cheat sheet** with top 50 players\n",
    "- **Visualizations** showing positional value and scarcity\n",
    "\n",
    "### 📊 **Key Insights:**\n",
    "- Use the **Custom VBD** rankings for draft decisions\n",
    "- Look for **value picks** where VBD is high but ADP is low\n",
    "- Consider **positional scarcity** in your 14-team league\n",
    "- **Exported cheat sheet** ready for your draft!\n",
    "\n",
    "### 🚀 **Next Steps:**\n",
    "- Adjust replacement levels in the config if needed\n",
    "- Add more player projections as season approaches\n",
    "- Update with injury news and depth chart changes\n",
    "\n",
    "**Good luck with your draft!** 🏆"
   ]
  }
 ],
 "metadata": {
  "kernelspec": {
   "display_name": ".venv",
   "language": "python",
   "name": "python3"
  },
  "language_info": {
   "codemirror_mode": {
    "name": "ipython",
    "version": 3
   },
   "file_extension": ".py",
   "mimetype": "text/x-python",
   "name": "python",
   "nbconvert_exporter": "python",
   "pygments_lexer": "ipython3",
   "version": "3.13.5"
  }
 },
 "nbformat": 4,
 "nbformat_minor": 4
}
